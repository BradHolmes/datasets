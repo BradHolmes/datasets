{
 "cells": [
  {
   "cell_type": "markdown",
   "id": "a17a866f",
   "metadata": {
    "editable": true,
    "slideshow": {
     "slide_type": "slide"
    },
    "tags": []
   },
   "source": [
    "# Using NCBI Datasets command-line tools to get genome, gene and ortholog data\n"
   ]
  },
  {
   "attachments": {},
   "cell_type": "markdown",
   "id": "26f69883",
   "metadata": {
    "editable": true,
    "slideshow": {
     "slide_type": "subslide"
    },
    "tags": []
   },
   "source": [
    "### Table of contents\n",
    "* [Part I: Accessing genomes](#Part-I)\n",
    "* [Part II: Accessing genes](#Part-II)\n",
    "* [Part III: Accessing orthologs](#Part-III)\n",
    "* [Links](#Links)"
   ]
  },
  {
   "cell_type": "markdown",
   "id": "3c2018eb",
   "metadata": {
    "editable": true,
    "slideshow": {
     "slide_type": "subslide"
    },
    "tags": []
   },
   "source": [
    "### Important resources\n",
    "- Find this notebook on Github: https://github.com/ncbi/datasets/tree/master/training/TAGC-2024\n",
    "- Explore NCBI Datasets command-line tool documentation: https://www.ncbi.nlm.nih.gov/datasets/docs/download-and-install/"
   ]
  },
  {
   "cell_type": "markdown",
   "id": "ec6eeabe",
   "metadata": {
    "editable": true,
    "slideshow": {
     "slide_type": "slide"
    },
    "tags": []
   },
   "source": [
    "## Before we start... What is a jupyter notebook?\n",
    "\n",
    "Jupyter Notebooks are a web-based approach to interactive code. A single notebook (the file you are currently reading) is composed of many \"cells\" which can contain either text, or code. To navigate between cells, either click, or use the arrow keys on your keyboard.\n",
    "\n",
    "A text cell will look like... well... this! While a code cell will look something like what you see below. To run the code inside a code cell, click on it, then click the \"Run\" button at the top of the screen. Try it on the code cell below!"
   ]
  },
  {
   "cell_type": "code",
   "execution_count": 1,
   "id": "c93b68fd",
   "metadata": {
    "editable": true,
    "slideshow": {
     "slide_type": "subslide"
    },
    "tags": []
   },
   "outputs": [
    {
     "name": "stdout",
     "output_type": "stream",
     "text": [
      "You ran the code cell!\n"
     ]
    }
   ],
   "source": [
    "#This is a code cell\n",
    "print('You ran the code cell!')"
   ]
  },
  {
   "cell_type": "markdown",
   "id": "9bea448c",
   "metadata": {
    "editable": true,
    "slideshow": {
     "slide_type": "subslide"
    },
    "tags": []
   },
   "source": [
    "If it worked, you should have seen text pop up underneath the cell saying `You ran the code cell!`. Note the `In [1]:` that appeared next to the cell. This tells you the order you have run code cells throughout the notebook. The next time you run a code cell, it will say `In [2]:`, then `In [3]:` and so on... This will help you know if/when code has been run.\n",
    "\n",
    "The remainder of the notebook below has been pre-built by the workshop organizer. You will not need to create any new cells, and you will be explicitly told if/when to execute a code cell.\n",
    "\n",
    "The code in this workshop is all Bash (i.e., terminal commands). Bash commands are prefixed with `!` or the cells have the notation `%%bash` at the top. If you are not familiar with code, don't feel pressured to interpret it very deeply. Descriptions of each code block will be provided!\n",
    "\n",
    "(Jupyter Notebook explanation by Cooper Park at the workshop on [Finding and Analyzing Metagenomic Data](https://www.nlm.nih.gov/oet/ed/ncbi/2021_10_meta.html))"
   ]
  },
  {
   "cell_type": "markdown",
   "id": "d3fb399f",
   "metadata": {
    "editable": true,
    "slideshow": {
     "slide_type": "slide"
    },
    "tags": []
   },
   "source": [
    "### Mic check\n",
    "\n",
    "Let's first make sure that the conda environment is active and that we can run datasets."
   ]
  },
  {
   "cell_type": "code",
   "execution_count": 2,
   "id": "577866ce",
   "metadata": {
    "editable": true,
    "slideshow": {
     "slide_type": ""
    },
    "tags": []
   },
   "outputs": [
    {
     "name": "stdout",
     "output_type": "stream",
     "text": [
      "# conda environments:\n",
      "#\n",
      "                         /Users/eric/miniconda3\n",
      "base                     /opt/anaconda3\n",
      "datasets13               /opt/anaconda3/envs/datasets13\n",
      "ncbi_datasets            /opt/anaconda3/envs/ncbi_datasets\n",
      "tagc                  *  /opt/anaconda3/envs/tagc\n",
      "\n"
     ]
    }
   ],
   "source": [
    "%%bash\n",
    "conda info --envs"
   ]
  },
  {
   "cell_type": "code",
   "execution_count": 3,
   "id": "729009a9",
   "metadata": {},
   "outputs": [
    {
     "name": "stdout",
     "output_type": "stream",
     "text": [
      "datasets is a command-line tool that is used to query and download biological sequence data\n",
      "across all domains of life from NCBI databases.\n",
      "\n",
      "Refer to NCBI's [download and install](https://www.ncbi.nlm.nih.gov/datasets/docs/v2/download-and-install/) documentation for information about getting started with the command-line tools.\n",
      "\n",
      "Usage\n",
      "  datasets [command]\n",
      "\n",
      "Data Retrieval Commands\n",
      "  summary     Print a data report containing gene, genome or virus metadata\n",
      "  download    Download a gene, genome or virus dataset as a zip file\n",
      "  rehydrate   Rehydrate a downloaded, dehydrated dataset\n",
      "\n",
      "Miscellaneous Commands\n",
      "  completion  Generate autocompletion scripts\n",
      "\n",
      "Flags\n",
      "      --api-key string   Specify an NCBI API key\n",
      "      --debug            Emit debugging info\n",
      "      --help             Print detailed help about a datasets command\n",
      "      --version          Print version of datasets\n",
      "\n",
      "Use datasets <command> --help for detailed help about a command.\n"
     ]
    }
   ],
   "source": [
    "%%bash\n",
    "# Now let's make sure the datasets command-line tool is working \n",
    "datasets"
   ]
  },
  {
   "cell_type": "markdown",
   "id": "b8805d73",
   "metadata": {},
   "source": [
    "## Case study: Drosophila melanogaster innate immunity\n",
    "\n",
    "Drosophila melanogaster innate immunity features two pathways involved in the detection of dsRNA: RNAi and the cGAS-STING pathway.\n",
    "\n",
    "Components of the cGAS-STING pathway are present in diverse metazoan lineages but absent in others. For example, the cGAS-STING pathway is present in Drosophila melanogaster, cnidarians (jellyfish) and humans, but absent in nematodes, e.g., C. elegans. \n",
    "\n",
    "<div>\n",
    "<img src=https://media.springernature.com/full/springer-static/image/art%3A10.1038%2Fs41559-022-01951-4/MediaObjects/41559_2022_1951_Fig2_HTML.png?as=webp width=\"800\">\n",
    "</div>\n",
    "\n",
    "Iwama, R.E., Moran, Y. Origins and diversification of animal innate immune responses against viral infections. Nat Ecol Evol 7, 182–193 (2023). https://doi.org/10.1038/s41559-022-01951-4"
   ]
  },
  {
   "cell_type": "markdown",
   "id": "fb672e02",
   "metadata": {},
   "source": [
    "We'll use `datasets` to gather genomic data from NCBI. We will:\n",
    "\n",
    "- get metadata for all genomes for the genus *Drosophila*\n",
    "- download genome sequences for the species *Drosophila pseudoobscura*\n",
    "- download the *cglr1* gene annotated on the *Drosophila pseudoobscura* reference genome\n",
    "- download some ortholog data for this gene"
   ]
  },
  {
   "cell_type": "markdown",
   "id": "8b785d5b",
   "metadata": {},
   "source": [
    "### How is `datasets` organized?\n",
    "\n",
    "`datasets` is a command line tool that allows users to download data packages (data + metadata) or look at metadata summaries for genomes, genes and ortholog sets. The program follows a hierarchy that makes it easy for users to select exactly which options they would like to use. In addition to the program commands, additional flags are available for filtering the results. We will go over those during this tutorial.\n",
    "<img src=\"https://www.ncbi.nlm.nih.gov/datasets/docs/v2/images/datasets1.png\" alt=\"datasets\" style=\"width: 700px;\"/>"
   ]
  },
  {
   "cell_type": "markdown",
   "id": "ff69c110",
   "metadata": {},
   "source": [
    "### `dataformat`\n",
    "\n",
    "Now we are going to combine `datasets` with another tool called `dataformat`. `dataformat` allows you to extract metadata information from the JSON-Lines data report files included with all `datasets` data packages or accessible through `summary` command. You can use `dataformat` to:\n",
    "- Create a tab-delimited file (.tsv) or excel file with the fields you need\n",
    "- Quickly visualize the information on the screen\n",
    "\n",
    "<img src=\"https://www.ncbi.nlm.nih.gov/datasets/docs/v2/images/dataformat1.png\" alt=\"dataformat\"  style=\"width: 700px;\"/>"
   ]
  },
  {
   "cell_type": "code",
   "execution_count": 4,
   "id": "a9176757",
   "metadata": {},
   "outputs": [
    {
     "name": "stdout",
     "output_type": "stream",
     "text": [
      "\n",
      "Convert Genome Assembly Data Report into TSV format.\n",
      "\n",
      "Refer to NCBI's [download and install](https://www.ncbi.nlm.nih.gov/datasets/docs/v2/download-and-install/) documentation for information about getting started with the command-line tools.\n",
      "\n",
      "Usage\n",
      "  dataformat tsv genome [flags]\n",
      "\n",
      "Examples\n",
      "  dataformat tsv genome --inputfile human/ncbi_dataset/data/assembly_data_report.jsonl\n",
      "  dataformat tsv genome --package human.zip\n",
      "\n",
      "Flags\n",
      "      --fields strings     Comma-separated list of fields\n",
      "                               - accession\n",
      "                               - ani-best-ani-match-ani\n",
      "                               - ani-best-ani-match-assembly\n",
      "                               - ani-best-ani-match-assembly_coverage\n",
      "                               - ani-best-ani-match-category\n",
      "                               - ani-best-ani-match-organism\n",
      "                               - ani-best-ani-match-type_assembly_coverage\n",
      "                               - ani-best-match-status\n",
      "                               - ani-category\n",
      "                               - ani-check-status\n",
      "                               - ani-comment\n",
      "                               - ani-submitted-ani-match-ani\n",
      "                               - ani-submitted-ani-match-assembly\n",
      "                               - ani-submitted-ani-match-assembly_coverage\n",
      "                               - ani-submitted-ani-match-category\n",
      "                               - ani-submitted-ani-match-organism\n",
      "                               - ani-submitted-ani-match-type_assembly_coverage\n",
      "                               - ani-submitted-organism\n",
      "                               - ani-submitted-species\n",
      "                               - annotinfo-busco-complete\n",
      "                               - annotinfo-busco-duplicated\n",
      "                               - annotinfo-busco-fragmented\n",
      "                               - annotinfo-busco-lineage\n",
      "                               - annotinfo-busco-missing\n",
      "                               - annotinfo-busco-singlecopy\n",
      "                               - annotinfo-busco-totalcount\n",
      "                               - annotinfo-busco-ver\n",
      "                               - annotinfo-featcount-gene-non-coding\n",
      "                               - annotinfo-featcount-gene-other\n",
      "                               - annotinfo-featcount-gene-protein-coding\n",
      "                               - annotinfo-featcount-gene-pseudogene\n",
      "                               - annotinfo-featcount-gene-total\n",
      "                               - annotinfo-method\n",
      "                               - annotinfo-name\n",
      "                               - annotinfo-pipeline\n",
      "                               - annotinfo-provider\n",
      "                               - annotinfo-release-date\n",
      "                               - annotinfo-release-version\n",
      "                               - annotinfo-report-url\n",
      "                               - annotinfo-software-version\n",
      "                               - annotinfo-status\n",
      "                               - assminfo-assembly-method\n",
      "                               - assminfo-atypicalis-atypical\n",
      "                               - assminfo-atypicalwarnings\n",
      "                               - assminfo-bioproject\n",
      "                               - assminfo-bioproject-lineage-accession\n",
      "                               - assminfo-bioproject-lineage-parent-accession\n",
      "                               - assminfo-bioproject-lineage-parent-accessions\n",
      "                               - assminfo-bioproject-lineage-title\n",
      "                               - assminfo-biosample-accession\n",
      "                               - assminfo-biosample-attribute-name\n",
      "                               - assminfo-biosample-attribute-value\n",
      "                               - assminfo-biosample-bioproject-accession\n",
      "                               - assminfo-biosample-bioproject-parent-accession\n",
      "                               - assminfo-biosample-bioproject-parent-accessions\n",
      "                               - assminfo-biosample-bioproject-title\n",
      "                               - assminfo-biosample-description-comment\n",
      "                               - assminfo-biosample-description-organism-common-name\n",
      "                               - assminfo-biosample-description-organism-infraspecific-breed\n",
      "                               - assminfo-biosample-description-organism-infraspecific-cultivar\n",
      "                               - assminfo-biosample-description-organism-infraspecific-ecotype\n",
      "                               - assminfo-biosample-description-organism-infraspecific-isolate\n",
      "                               - assminfo-biosample-description-organism-infraspecific-sex\n",
      "                               - assminfo-biosample-description-organism-infraspecific-strain\n",
      "                               - assminfo-biosample-description-organism-name\n",
      "                               - assminfo-biosample-description-organism-pangolin\n",
      "                               - assminfo-biosample-description-organism-tax-id\n",
      "                               - assminfo-biosample-description-title\n",
      "                               - assminfo-biosample-ids-db\n",
      "                               - assminfo-biosample-ids-label\n",
      "                               - assminfo-biosample-ids-value\n",
      "                               - assminfo-biosample-last-updated\n",
      "                               - assminfo-biosample-models\n",
      "                               - assminfo-biosample-owner-contact-lab\n",
      "                               - assminfo-biosample-owner-name\n",
      "                               - assminfo-biosample-package\n",
      "                               - assminfo-biosample-publication-date\n",
      "                               - assminfo-biosample-status-status\n",
      "                               - assminfo-biosample-status-when\n",
      "                               - assminfo-biosample-submission-date\n",
      "                               - assminfo-blast-url\n",
      "                               - assminfo-description\n",
      "                               - assminfo-level\n",
      "                               - assminfo-linked-assm-accession\n",
      "                               - assminfo-linked-assm-type\n",
      "                               - assminfo-name\n",
      "                               - assminfo-notes\n",
      "                               - assminfo-paired-assm-accession\n",
      "                               - assminfo-paired-assm-changed\n",
      "                               - assminfo-paired-assm-manual-diff\n",
      "                               - assminfo-paired-assm-name\n",
      "                               - assminfo-paired-assm-only-genbank\n",
      "                               - assminfo-paired-assm-only-refseq\n",
      "                               - assminfo-paired-assm-status\n",
      "                               - assminfo-refseq-category\n",
      "                               - assminfo-release-date\n",
      "                               - assminfo-sequencing-tech\n",
      "                               - assminfo-status\n",
      "                               - assminfo-submitter\n",
      "                               - assminfo-suppression-reason\n",
      "                               - assminfo-synonym\n",
      "                               - assminfo-type\n",
      "                               - assmstats-contig-l50\n",
      "                               - assmstats-contig-n50\n",
      "                               - assmstats-gaps-between-scaffolds-count\n",
      "                               - assmstats-gc-count\n",
      "                               - assmstats-gc-percent\n",
      "                               - assmstats-genome-coverage\n",
      "                               - assmstats-number-of-component-sequences\n",
      "                               - assmstats-number-of-contigs\n",
      "                               - assmstats-number-of-organelles\n",
      "                               - assmstats-number-of-scaffolds\n",
      "                               - assmstats-scaffold-l50\n",
      "                               - assmstats-scaffold-n50\n",
      "                               - assmstats-total-number-of-chromosomes\n",
      "                               - assmstats-total-sequence-len\n",
      "                               - assmstats-total-ungapped-len\n",
      "                               - checkm-completeness\n",
      "                               - checkm-completeness-percentile\n",
      "                               - checkm-contamination\n",
      "                               - checkm-marker-set\n",
      "                               - checkm-marker-set-rank\n",
      "                               - checkm-species-tax-id\n",
      "                               - checkm-version\n",
      "                               - current-accession\n",
      "                               - organelle-assembly-name\n",
      "                               - organelle-bioproject-accessions\n",
      "                               - organelle-description\n",
      "                               - organelle-infraspecific-name\n",
      "                               - organelle-submitter\n",
      "                               - organelle-total-seq-length\n",
      "                               - organism-common-name\n",
      "                               - organism-infraspecific-breed\n",
      "                               - organism-infraspecific-cultivar\n",
      "                               - organism-infraspecific-ecotype\n",
      "                               - organism-infraspecific-isolate\n",
      "                               - organism-infraspecific-sex\n",
      "                               - organism-infraspecific-strain\n",
      "                               - organism-name\n",
      "                               - organism-pangolin\n",
      "                               - organism-tax-id\n",
      "                               - source_database\n",
      "                               - type_material-display_text\n",
      "                               - type_material-label\n",
      "                               - wgs-contigs-url\n",
      "                               - wgs-project-accession\n",
      "                               - wgs-url\n",
      "  -h, --help               help for genome\n",
      "      --inputfile string   Input file (default \"/dev/stdin\")\n",
      "      --package string     Data package (zip archive), inputfile parameter is relative to the root path inside the archive\n",
      "\n",
      "\n",
      "\n",
      "Global Flags\n",
      "      --elide-header   Do not output header\n",
      "      --force          Force dataformat to run without type check prompt\n",
      "\n"
     ]
    }
   ],
   "source": [
    "%%bash\n",
    "# Read the dataformat help menu. This is a great way to get a list of the available metadata fields.\n",
    "dataformat tsv genome --help"
   ]
  },
  {
   "cell_type": "markdown",
   "id": "75ad66b3",
   "metadata": {},
   "source": [
    "## Part I: Accessing genomes<a class=\"anchor\" id=\"Part-I\"></a>"
   ]
  },
  {
   "cell_type": "markdown",
   "id": "b29b46e2",
   "metadata": {},
   "source": [
    "First, let's figure out what kind of genome information NCBI has for the genus Drosophila. For this task, we will first use the `datasets summary` command, as shown in the diagram below. We will then pipe the `datasets` output to `jq` so we can see how many Drosophila genomes are in the NCBI database."
   ]
  },
  {
   "cell_type": "markdown",
   "id": "b1c78dcf",
   "metadata": {},
   "source": [
    "<img src=\"https://www.ncbi.nlm.nih.gov/datasets/docs/v2/images/datasets-s-genome-tax.png\" style=\"width: 800px;\"/>"
   ]
  },
  {
   "cell_type": "code",
   "execution_count": 5,
   "id": "076161ca",
   "metadata": {},
   "outputs": [
    {
     "name": "stdout",
     "output_type": "stream",
     "text": [
      "661\n"
     ]
    }
   ],
   "source": [
    "%%bash\n",
    "# Get the genome count for the genus Drosophila (Taxid: 7215)\n",
    "datasets summary genome taxon 7215 | jq '.total_count'\n"
   ]
  },
  {
   "cell_type": "markdown",
   "id": "0993d504",
   "metadata": {},
   "source": [
    "Now we know that there are 661 Drosophila genomes at NCBI. Let's save the metadata as a JSON-Lines file using the flag `--as-json-lines` to make it easier to extract information from the metadata file later."
   ]
  },
  {
   "cell_type": "code",
   "execution_count": 6,
   "id": "9f1c4ea3",
   "metadata": {},
   "outputs": [],
   "source": [
    "%%bash\n",
    "# Get genome metadata for the genus Drosophila and save to a file\n",
    "datasets summary genome taxon 7215 --as-json-lines > drosophila.jsonl"
   ]
  },
  {
   "cell_type": "markdown",
   "id": "dd676b9b",
   "metadata": {},
   "source": [
    "**Now let's take a look at the metadata using jq**  \n",
    "Since the output is really long, we will only show the first 50 lines (`head -n 50`). The flag `-C` in the `jq` command shows the output in color, which makes it easier to read."
   ]
  },
  {
   "cell_type": "code",
   "execution_count": 7,
   "id": "4206d799",
   "metadata": {},
   "outputs": [
    {
     "name": "stdout",
     "output_type": "stream",
     "text": [
      "\u001b[1;39m{\n",
      "  \u001b[0m\u001b[1;34m\"accession\"\u001b[0m\u001b[1;39m: \u001b[0m\u001b[0;32m\"GCA_035046005.1\"\u001b[0m\u001b[1;39m,\n",
      "  \u001b[0m\u001b[1;34m\"assembly_info\"\u001b[0m\u001b[1;39m: \u001b[0m\u001b[1;39m{\n",
      "    \u001b[0m\u001b[1;34m\"assembly_level\"\u001b[0m\u001b[1;39m: \u001b[0m\u001b[0;32m\"Contig\"\u001b[0m\u001b[1;39m,\n",
      "    \u001b[0m\u001b[1;34m\"assembly_method\"\u001b[0m\u001b[1;39m: \u001b[0m\u001b[0;32m\"Flye v. 2.9; purge_dups v. 1.2.6; Medaka v. 1.8; Pilon v. 1.23; NCBI FCS v. 0.3.0\"\u001b[0m\u001b[1;39m,\n",
      "    \u001b[0m\u001b[1;34m\"assembly_name\"\u001b[0m\u001b[1;39m: \u001b[0m\u001b[0;32m\"ASM3504600v1\"\u001b[0m\u001b[1;39m,\n",
      "    \u001b[0m\u001b[1;34m\"assembly_status\"\u001b[0m\u001b[1;39m: \u001b[0m\u001b[0;32m\"current\"\u001b[0m\u001b[1;39m,\n",
      "    \u001b[0m\u001b[1;34m\"assembly_type\"\u001b[0m\u001b[1;39m: \u001b[0m\u001b[0;32m\"haploid\"\u001b[0m\u001b[1;39m,\n",
      "    \u001b[0m\u001b[1;34m\"bioproject_accession\"\u001b[0m\u001b[1;39m: \u001b[0m\u001b[0;32m\"PRJNA1020440\"\u001b[0m\u001b[1;39m,\n",
      "    \u001b[0m\u001b[1;34m\"bioproject_lineage\"\u001b[0m\u001b[1;39m: \u001b[0m\u001b[1;39m[\n",
      "      \u001b[1;39m{\n",
      "        \u001b[0m\u001b[1;34m\"bioprojects\"\u001b[0m\u001b[1;39m: \u001b[0m\u001b[1;39m[\n",
      "          \u001b[1;39m{\n",
      "            \u001b[0m\u001b[1;34m\"accession\"\u001b[0m\u001b[1;39m: \u001b[0m\u001b[0;32m\"PRJNA1020440\"\u001b[0m\u001b[1;39m,\n",
      "            \u001b[0m\u001b[1;34m\"title\"\u001b[0m\u001b[1;39m: \u001b[0m\u001b[0;32m\"Genome sequencing and assembly of many species of Family Drosophilidae Genome sequencing and assembly\"\u001b[0m\u001b[1;39m\n",
      "          \u001b[1;39m}\u001b[0m\u001b[1;39m\n",
      "        \u001b[1;39m]\u001b[0m\u001b[1;39m\n",
      "      \u001b[1;39m}\u001b[0m\u001b[1;39m\n",
      "    \u001b[1;39m]\u001b[0m\u001b[1;39m,\n",
      "    \u001b[0m\u001b[1;34m\"biosample\"\u001b[0m\u001b[1;39m: \u001b[0m\u001b[1;39m{\n"
     ]
    }
   ],
   "source": [
    "%%bash\n",
    "\n",
    "jq -C . drosophila.jsonl | head -n 20\n"
   ]
  },
  {
   "cell_type": "markdown",
   "id": "2f550f75",
   "metadata": {},
   "source": [
    "### Let's continue to explore the available genomes for the genus Drosophila\n"
   ]
  },
  {
   "cell_type": "markdown",
   "id": "87806b8c",
   "metadata": {},
   "source": [
    "For this part, we will use two UNIX commands: `sort` and `uniq`. \n",
    "\n",
    "- `sort` can be used to sort text files line by line, numerically and alphabetically.   \n",
    "- `uniq` will filter out the repeated lines in a file. However, `uniq` can only detect repeated lines if they are adjacent to each other. In other words, if they are alphabetically or numerically sorted. The flag `-c` or `--count` tells the command `uniq` to remove the repeated lines, and to count how many times each value appeared. \n",
    "\n",
    "So, we will use `dataformat` to extract the information we need, sort the result and count the number of unique entries."
   ]
  },
  {
   "cell_type": "code",
   "execution_count": 8,
   "id": "b2c1912d",
   "metadata": {},
   "outputs": [
    {
     "name": "stdout",
     "output_type": "stream",
     "text": [
      " 119 Drosophila melanogaster\n",
      "  45 Drosophila simulans\n",
      "  10 Drosophila ananassae\n",
      "  10 Drosophila nasuta\n",
      "  10 Drosophila subobscura\n",
      "   9 Drosophila biarmipes\n",
      "   9 Drosophila triauraria\n",
      "   9 Drosophila virilis\n",
      "   8 Drosophila obscura\n",
      "   8 Drosophila pseudoobscura\n"
     ]
    }
   ],
   "source": [
    "%%bash\n",
    "# Which Drosophila species have the most genomes?\n",
    "\n",
    "dataformat tsv genome --inputfile drosophila.jsonl --fields organism-name --elide-header | sort | uniq -c | sort -k1nr | head"
   ]
  },
  {
   "cell_type": "markdown",
   "id": "ed84aedf",
   "metadata": {},
   "source": [
    "### How to get help when using the command line\n",
    "\n",
    "Since `datasets` is a hierarchical program, we can use that characteristic to our advantage to get specific help.   For example: if we type `datasets --help`, we will see the first level of commands available.\n"
   ]
  },
  {
   "cell_type": "code",
   "execution_count": 9,
   "id": "d219e750",
   "metadata": {},
   "outputs": [
    {
     "name": "stdout",
     "output_type": "stream",
     "text": [
      "datasets is a command-line tool that is used to query and download biological sequence data\n",
      "across all domains of life from NCBI databases.\n",
      "\n",
      "Refer to NCBI's [download and install](https://www.ncbi.nlm.nih.gov/datasets/docs/v2/download-and-install/) documentation for information about getting started with the command-line tools.\n",
      "\n",
      "Usage\n",
      "  datasets [command]\n",
      "\n",
      "Data Retrieval Commands\n",
      "  summary     Print a data report containing gene, genome or virus metadata\n",
      "  download    Download a gene, genome or virus dataset as a zip file\n",
      "  rehydrate   Rehydrate a downloaded, dehydrated dataset\n",
      "\n",
      "Miscellaneous Commands\n",
      "  completion  Generate autocompletion scripts\n",
      "\n",
      "Flags\n",
      "      --api-key string   Specify an NCBI API key\n",
      "      --debug            Emit debugging info\n",
      "      --help             Print detailed help about a datasets command\n",
      "      --version          Print version of datasets\n",
      "\n",
      "Use datasets <command> --help for detailed help about a command.\n"
     ]
    }
   ],
   "source": [
    "%%bash\n",
    "datasets --help"
   ]
  },
  {
   "cell_type": "markdown",
   "id": "db05f935",
   "metadata": {},
   "source": [
    "Notice the difference from when we type `datasets summary genome taxon --help`  \n"
   ]
  },
  {
   "cell_type": "code",
   "execution_count": 10,
   "id": "a09930dd",
   "metadata": {},
   "outputs": [
    {
     "name": "stdout",
     "output_type": "stream",
     "text": [
      "\n",
      "Print a data report containing genome metadata by taxon (NCBI Taxonomy ID, scientific or common name at any tax rank). The data report is returned in JSON format.\n",
      "\n",
      "Usage\n",
      "  datasets summary genome taxon [flags]\n",
      "\n",
      "Sample Commands\n",
      "  datasets summary genome taxon human\n",
      "  datasets summary genome taxon \"mus musculus\"\n",
      "  datasets summary genome taxon 10116\n",
      "\n",
      "Flags\n",
      "      --assembly-version string   Limit to 'latest' assembly accession version or include 'all' (latest + previous versions)\n",
      "                                     (default \"latest\")\n",
      "      --tax-exact-match           Exclude sub-species when a species-level taxon is specified\n",
      "\n",
      "\n",
      "Global Flags\n",
      "      --annotated                Limit to annotated genomes\n",
      "      --api-key string           Specify an NCBI API key\n",
      "      --as-json-lines            Output results in JSON Lines format\n",
      "      --assembly-level string    Limit to genomes at one or more assembly levels (comma-separated):\n",
      "                                   * chromosome\n",
      "                                   * complete\n",
      "                                   * contig\n",
      "                                   * scaffold\n",
      "                                    (default \"[]\")\n",
      "      --assembly-source string   Limit to 'RefSeq' (GCF_) or 'GenBank' (GCA_) genomes (default \"all\")\n",
      "      --debug                    Emit debugging info\n",
      "      --exclude-atypical         Exclude atypical assemblies\n",
      "      --help                     Print detailed help about a datasets command\n",
      "      --limit string             Limit the number of genome summaries returned\n",
      "                                   * all:      returns all matching genome summaries\n",
      "                                   * a number: returns the specified number of matching genome summaries\n",
      "                                      (default \"all\")\n",
      "      --mag string               Limit to metagenome assembled genomes (only) or remove them from the results (exclude) (default \"all\")\n",
      "      --reference                Limit to reference genomes\n",
      "      --released-after string    Limit to genomes released on or after a specified date (MM/DD/YYYY)\n",
      "      --released-before string   Limit to genomes released on or before a specified date (MM/DD/YYYY)\n",
      "      --report string            Choose the output type:\n",
      "                                   * genome:   Retrieve the primary genome report\n",
      "                                   * sequence: Retrieve the sequence report\n",
      "                                   * ids_only: Retrieve only the genome identifiers\n",
      "                                    (default \"genome\")\n",
      "      --search strings           Limit results to genomes with specified text in the searchable fields:\n",
      "                                 species and infraspecies, assembly name and submitter.\n",
      "                                 To search multiple strings, use the flag multiple times.\n",
      "      --version                  Print version of datasets\n",
      "\n"
     ]
    }
   ],
   "source": [
    "%%bash\n",
    "datasets summary genome taxon --help"
   ]
  },
  {
   "cell_type": "markdown",
   "id": "d66b33f7",
   "metadata": {},
   "source": [
    "### Data package\n",
    "\n",
    "We explored the `datasets summary` option, in which we had a chance to look at the summary metadata ***without*** downloading any files. In the next steps, we will look at the data packages, which contain the actual data files. \n",
    "\n",
    "<br>\n",
    "\n",
    "<img src=\"https://www.ncbi.nlm.nih.gov/datasets/docs/v2/images/data-packages.png\" alt=\"data_package\" style=\"width:600px;\" />\n",
    "<br>"
   ]
  },
  {
   "cell_type": "markdown",
   "id": "b1374e2e",
   "metadata": {},
   "source": [
    "Each `datasets` data package type (e.g., `genome`, `gene`, `virus`) has a different file content. You can customize data packages by using the flag `--include` to add or remove files. The image below shows the file types available for each `datasets` data package type. Refer to the [NCBI Datasets Data Package Reference page](https://www.ncbi.nlm.nih.gov/datasets/docs/v2/reference-docs/data-packages/) for more information about each data package type.\n",
    "\n",
    "<br>\n",
    "\n",
    "<img src=\"https://www.ncbi.nlm.nih.gov/datasets/docs/v2/images/data-package-contents-op2.png\" style=\"width:800px;\">"
   ]
  },
  {
   "cell_type": "code",
   "execution_count": 11,
   "id": "fa1fd70d",
   "metadata": {},
   "outputs": [],
   "source": [
    "%%bash\n",
    "# Download a genome data package containing all chromosome-level GenBank assemblies for the species Drosophila pseudoobscura\n",
    "\n",
    "datasets download genome taxon 'drosophila pseudoobscura' --assembly-source genbank --assembly-level chromosome --filename pseudoobscura.zip --no-progressbar"
   ]
  },
  {
   "cell_type": "code",
   "execution_count": 12,
   "id": "5f57b5e8",
   "metadata": {},
   "outputs": [
    {
     "name": "stdout",
     "output_type": "stream",
     "text": [
      "Archive:  pseudoobscura.zip\n",
      "  inflating: genomes/README.md       \n",
      "  inflating: genomes/ncbi_dataset/data/assembly_data_report.jsonl  \n",
      "  inflating: genomes/ncbi_dataset/data/GCA_000001765.3/GCA_000001765.3_Dpse_4.0_genomic.fna  \n",
      "  inflating: genomes/ncbi_dataset/data/GCA_004329205.1/GCA_004329205.1_UCBerk_Dpse_1.0_genomic.fna  \n",
      "  inflating: genomes/ncbi_dataset/data/GCA_009870125.2/GCA_009870125.2_UCI_Dpse_MV25_genomic.fna  \n",
      "  inflating: genomes/ncbi_dataset/data/GCA_020698565.1/GCA_020698565.1_ST_MC_genomic.fna  \n",
      "  inflating: genomes/ncbi_dataset/data/dataset_catalog.json  \n"
     ]
    }
   ],
   "source": [
    "%%bash\n",
    "# Unzip to the folder genomes\n",
    "unzip pseudoobscura.zip -d genomes"
   ]
  },
  {
   "cell_type": "code",
   "execution_count": 13,
   "id": "f3337168",
   "metadata": {},
   "outputs": [
    {
     "name": "stdout",
     "output_type": "stream",
     "text": [
      "\u001b[01;34mgenomes/\u001b[0m\n",
      "├── \u001b[00mREADME.md\u001b[0m\n",
      "└── \u001b[01;34mncbi_dataset\u001b[0m\n",
      "    └── \u001b[01;34mdata\u001b[0m\n",
      "        ├── \u001b[01;34mGCA_000001765.3\u001b[0m\n",
      "        │   └── \u001b[00mGCA_000001765.3_Dpse_4.0_genomic.fna\u001b[0m\n",
      "        ├── \u001b[01;34mGCA_004329205.1\u001b[0m\n",
      "        │   └── \u001b[00mGCA_004329205.1_UCBerk_Dpse_1.0_genomic.fna\u001b[0m\n",
      "        ├── \u001b[01;34mGCA_009870125.2\u001b[0m\n",
      "        │   └── \u001b[00mGCA_009870125.2_UCI_Dpse_MV25_genomic.fna\u001b[0m\n",
      "        ├── \u001b[01;34mGCA_020698565.1\u001b[0m\n",
      "        │   └── \u001b[00mGCA_020698565.1_ST_MC_genomic.fna\u001b[0m\n",
      "        ├── \u001b[00massembly_data_report.jsonl\u001b[0m\n",
      "        └── \u001b[00mdataset_catalog.json\u001b[0m\n",
      "\n",
      "7 directories, 7 files\n"
     ]
    }
   ],
   "source": [
    "%%bash\n",
    "# Explore the folder structure of the folder genome with the command tree\n",
    "tree -C genomes/"
   ]
  },
  {
   "cell_type": "code",
   "execution_count": 14,
   "id": "9534379f",
   "metadata": {},
   "outputs": [
    {
     "name": "stdout",
     "output_type": "stream",
     "text": [
      "Archive:  pseudoobscura-rs-gff3.zip\n",
      "  Length      Date    Time    Name\n",
      "---------  ---------- -----   ----\n",
      "     1596  03-22-2024 08:57   README.md\n",
      "     3301  03-22-2024 08:57   ncbi_dataset/data/assembly_data_report.jsonl\n",
      "165334118  03-22-2024 08:57   ncbi_dataset/data/GCF_009870125.1/GCF_009870125.1_UCI_Dpse_MV25_genomic.fna\n",
      "110703141  03-22-2024 08:57   ncbi_dataset/data/GCF_009870125.1/genomic.gff\n",
      "      431  03-22-2024 08:57   ncbi_dataset/data/dataset_catalog.json\n",
      "---------                     -------\n",
      "276042587                     5 files\n"
     ]
    }
   ],
   "source": [
    "%%bash\n",
    "# Now download the genomes and gff3 files for all *Drosophila pseudoobscura* genomes annotated by NCBI\n",
    "datasets download genome taxon 'drosophila pseudoobscura' --assembly-source refseq \\\n",
    "    --include genome,gff3 --filename pseudoobscura-rs-gff3.zip --no-progressbar\n",
    "\n",
    "unzip -l pseudoobscura-rs-gff3.zip"
   ]
  },
  {
   "cell_type": "markdown",
   "id": "e65cde84",
   "metadata": {},
   "source": [
    "Note that this is only a single genome! Although there are 10 genomes for Drosophila pseudoobscura, there is only a single genome annotated by NCBI."
   ]
  },
  {
   "cell_type": "markdown",
   "id": "8ebbe477",
   "metadata": {},
   "source": [
    "### Downloading large genome datasets (dehydration/rehydration)"
   ]
  },
  {
   "cell_type": "markdown",
   "id": "b5981621",
   "metadata": {},
   "source": [
    "Now you know how to download genome data for a relatively small number of genomes. But what if you want large amounts of genome data? `datasets` provides a better way to download large genome data packages that takes a few more steps but allows you to resume interrupted downloads. Let's download a dehydrated package and explore the files inside it."
   ]
  },
  {
   "cell_type": "code",
   "execution_count": 15,
   "id": "e02745fb",
   "metadata": {},
   "outputs": [],
   "source": [
    "%%bash\n",
    "# Download a dehydrated data package of chromosome-level GenBank assemblies for the species Drosophila pseudoobscura\n",
    "datasets download genome taxon 'drosophila pseudoobscura' --assembly-source genbank --assembly-level chromosome --dehydrated --filename pseudoobscura-dry.zip --no-progressbar"
   ]
  },
  {
   "cell_type": "code",
   "execution_count": 16,
   "id": "3679501c",
   "metadata": {},
   "outputs": [
    {
     "name": "stdout",
     "output_type": "stream",
     "text": [
      "\u001b[01;34mpseudoobscura-dry\u001b[0m\n",
      "├── \u001b[00mREADME.md\u001b[0m\n",
      "└── \u001b[01;34mncbi_dataset\u001b[0m\n",
      "    ├── \u001b[01;34mdata\u001b[0m\n",
      "    │   ├── \u001b[00massembly_data_report.jsonl\u001b[0m\n",
      "    │   └── \u001b[00mdataset_catalog.json\u001b[0m\n",
      "    └── \u001b[00mfetch.txt\u001b[0m\n",
      "\n",
      "3 directories, 4 files\n"
     ]
    }
   ],
   "source": [
    "%%bash\n",
    "# Next we have to unzip the dehydrated package\n",
    "unzip -q pseudoobscura-dry.zip -d pseudoobscura-dry\n",
    "# And we'll use tree to visualize the structure of the extracted archive\n",
    "tree -C pseudoobscura-dry"
   ]
  },
  {
   "cell_type": "markdown",
   "id": "dfed02f2",
   "metadata": {},
   "source": [
    "The file `fetch.txt` has a list of files to be \"fetched\" (downloaded) with paths on NCBI servers."
   ]
  },
  {
   "cell_type": "code",
   "execution_count": 17,
   "id": "213e2d48",
   "metadata": {},
   "outputs": [
    {
     "name": "stdout",
     "output_type": "stream",
     "text": [
      "data/GCA_000001765.3/GCA_000001765.3_Dpse_4.0_genomic.fna\n",
      "data/GCA_004329205.1/GCA_004329205.1_UCBerk_Dpse_1.0_genomic.fna\n",
      "data/GCA_009870125.2/GCA_009870125.2_UCI_Dpse_MV25_genomic.fna\n",
      "data/GCA_020698565.1/GCA_020698565.1_ST_MC_genomic.fna\n"
     ]
    }
   ],
   "source": [
    "%%bash\n",
    "# Let's get a list of files that are available for download \n",
    "datasets rehydrate --directory pseudoobscura-dry/ --list"
   ]
  },
  {
   "cell_type": "code",
   "execution_count": 18,
   "id": "fd238769",
   "metadata": {},
   "outputs": [
    {
     "name": "stdout",
     "output_type": "stream",
     "text": [
      "Found 4 of 4 files for rehydration\n",
      "Done\n"
     ]
    }
   ],
   "source": [
    "%%bash\n",
    "# Now let's rehydrate the package to get the data\n",
    "datasets rehydrate --directory pseudoobscura-dry/ --no-progressbar"
   ]
  },
  {
   "cell_type": "code",
   "execution_count": 19,
   "id": "c8a654a3",
   "metadata": {},
   "outputs": [
    {
     "name": "stdout",
     "output_type": "stream",
     "text": [
      "\u001b[01;34mpseudoobscura-dry\u001b[0m\n",
      "├── \u001b[00mREADME.md\u001b[0m\n",
      "└── \u001b[01;34mncbi_dataset\u001b[0m\n",
      "    ├── \u001b[01;34mdata\u001b[0m\n",
      "    │   ├── \u001b[01;34mGCA_000001765.3\u001b[0m\n",
      "    │   │   └── \u001b[00mGCA_000001765.3_Dpse_4.0_genomic.fna\u001b[0m\n",
      "    │   ├── \u001b[01;34mGCA_004329205.1\u001b[0m\n",
      "    │   │   └── \u001b[00mGCA_004329205.1_UCBerk_Dpse_1.0_genomic.fna\u001b[0m\n",
      "    │   ├── \u001b[01;34mGCA_009870125.2\u001b[0m\n",
      "    │   │   └── \u001b[00mGCA_009870125.2_UCI_Dpse_MV25_genomic.fna\u001b[0m\n",
      "    │   ├── \u001b[01;34mGCA_020698565.1\u001b[0m\n",
      "    │   │   └── \u001b[00mGCA_020698565.1_ST_MC_genomic.fna\u001b[0m\n",
      "    │   ├── \u001b[00massembly_data_report.jsonl\u001b[0m\n",
      "    │   └── \u001b[00mdataset_catalog.json\u001b[0m\n",
      "    └── \u001b[00mfetch.txt\u001b[0m\n",
      "\n",
      "7 directories, 8 files\n"
     ]
    }
   ],
   "source": [
    "%%bash\n",
    "# Next we'll view the contents of the directory\n",
    "tree -C pseudoobscura-dry"
   ]
  },
  {
   "cell_type": "markdown",
   "id": "92c031a1",
   "metadata": {},
   "source": [
    "## Part II: Accessing genes <a class=\"anchor\" id=\"Part-II\"></a>\n",
    "### GENES\n",
    "\n",
    "Independent of choosing `datasets download` or `datasets summary`, there are four options for retrieving gene information: `accession`, `gene-id`, `symbol` and `taxon`. \n",
    "\n",
    "\n",
    "<img src=\"https://www.ncbi.nlm.nih.gov/datasets/docs/v2/images/datasets-gene.png\" style=\"width: 700px;\"/>\n"
   ]
  },
  {
   "cell_type": "markdown",
   "id": "5b4d055b",
   "metadata": {},
   "source": [
    "When choosing any of those options, you will retrieve the gene information for the gene annotated on the **reference** genome. Like this:\n",
    "\n",
    "`datasets download gene accession NM_176180.2`  \n",
    "`datasets download gene gene-id 36744`  \n",
    "`datasets download gene symbol cglr1 --taxon 'drosophila melanogaster'`  \n",
    "`datasets download gene taxon 'drosophila melanogaster'`. \n",
    "\n",
    "The first three commands will download the same gene annotated on the (<i>Drosophila melanogaster</i>) <u>reference genome</u>, and the last one will download all genes for that species. \n",
    "\n",
    "- **accession**:  Unique identifier. Accession includes RefSeq RNA and protein accessions. Since it's unique, taxon is implied (aka there will never be two sequences from different taxa with the same accession number).  \n",
    "\n",
    "- **gene-id**:  Also a unique identifier. For example: the gene-id for BRCA1 in human is 672, while the gene-id for domestic cat BRCA1 is 101081937.  \n",
    "\n",
    "- **symbol**: Gene symbols are not unique and can be used multiple times in different taxonomic groups. If using the symbol option, you should specify the species. If no taxon is specified, it is assumed the taxon is human.\n",
    "\n",
    "- **taxon**: Species-level. Retrieves the entire set of RefSeq annotated genes for the specified taxon.  \n",
    "\n",
    "**Remember**  \n",
    "Both `summary` and `download` will return results for the **reference assembly** of a <u>single species</u>. If you want to download a curated set of related genes from multiple taxa, you should use the flag `--ortholog`. We'll talk more about that later. \n",
    "\n",
    "Now let's take a look at a gene example:"
   ]
  },
  {
   "cell_type": "code",
   "execution_count": 20,
   "id": "6e2b6fe8",
   "metadata": {},
   "outputs": [
    {
     "name": "stdout",
     "output_type": "stream",
     "text": [
      "\u001b[1;39m{\n",
      "  \u001b[0m\u001b[1;34m\"reports\"\u001b[0m\u001b[1;39m: \u001b[0m\u001b[1;39m[\n",
      "    \u001b[1;39m{\n",
      "      \u001b[0m\u001b[1;34m\"gene\"\u001b[0m\u001b[1;39m: \u001b[0m\u001b[1;39m{\n",
      "        \u001b[0m\u001b[1;34m\"annotations\"\u001b[0m\u001b[1;39m: \u001b[0m\u001b[1;39m[\n",
      "          \u001b[1;39m{\n",
      "            \u001b[0m\u001b[1;34m\"annotation_name\"\u001b[0m\u001b[1;39m: \u001b[0m\u001b[0;32m\"GCF_000001405.40-RS_2023_10\"\u001b[0m\u001b[1;39m,\n",
      "            \u001b[0m\u001b[1;34m\"annotation_release_date\"\u001b[0m\u001b[1;39m: \u001b[0m\u001b[0;32m\"2023-10-02\"\u001b[0m\u001b[1;39m,\n",
      "            \u001b[0m\u001b[1;34m\"assembly_accession\"\u001b[0m\u001b[1;39m: \u001b[0m\u001b[0;32m\"GCF_000001405.40\"\u001b[0m\u001b[1;39m,\n",
      "            \u001b[0m\u001b[1;34m\"assembly_name\"\u001b[0m\u001b[1;39m: \u001b[0m\u001b[0;32m\"GRCh38.p14\"\u001b[0m\u001b[1;39m,\n",
      "            \u001b[0m\u001b[1;34m\"genomic_locations\"\u001b[0m\u001b[1;39m: \u001b[0m\u001b[1;39m[\n",
      "              \u001b[1;39m{\n",
      "                \u001b[0m\u001b[1;34m\"genomic_accession_version\"\u001b[0m\u001b[1;39m: \u001b[0m\u001b[0;32m\"NC_000006.12\"\u001b[0m\u001b[1;39m,\n",
      "                \u001b[0m\u001b[1;34m\"genomic_range\"\u001b[0m\u001b[1;39m: \u001b[0m\u001b[1;39m{\n",
      "                  \u001b[0m\u001b[1;34m\"begin\"\u001b[0m\u001b[1;39m: \u001b[0m\u001b[0;32m\"73423711\"\u001b[0m\u001b[1;39m,\n",
      "                  \u001b[0m\u001b[1;34m\"end\"\u001b[0m\u001b[1;39m: \u001b[0m\u001b[0;32m\"73452297\"\u001b[0m\u001b[1;39m,\n",
      "                  \u001b[0m\u001b[1;34m\"orientation\"\u001b[0m\u001b[1;39m: \u001b[0m\u001b[0;32m\"minus\"\u001b[0m\u001b[1;39m\n",
      "                \u001b[1;39m}\u001b[0m\u001b[1;39m,\n",
      "                \u001b[0m\u001b[1;34m\"sequence_name\"\u001b[0m\u001b[1;39m: \u001b[0m\u001b[0;32m\"6\"\u001b[0m\u001b[1;39m\n",
      "              \u001b[1;39m}\u001b[0m\u001b[1;39m\n"
     ]
    }
   ],
   "source": [
    "%%bash\n",
    "# Get metadata for a gene by symbol in human \n",
    "datasets summary gene symbol cgas | jq . -C | head -20"
   ]
  },
  {
   "cell_type": "code",
   "execution_count": 21,
   "id": "e748073a",
   "metadata": {},
   "outputs": [
    {
     "name": "stdout",
     "output_type": "stream",
     "text": [
      "\u001b[1;39m{\n",
      "  \u001b[0m\u001b[1;34m\"reports\"\u001b[0m\u001b[1;39m: \u001b[0m\u001b[1;39m[\n",
      "    \u001b[1;39m{\n",
      "      \u001b[0m\u001b[1;34m\"gene\"\u001b[0m\u001b[1;39m: \u001b[0m\u001b[1;39m{\n",
      "        \u001b[0m\u001b[1;34m\"annotations\"\u001b[0m\u001b[1;39m: \u001b[0m\u001b[1;39m[\n",
      "          \u001b[1;39m{\n",
      "            \u001b[0m\u001b[1;34m\"annotation_name\"\u001b[0m\u001b[1;39m: \u001b[0m\u001b[0;32m\"FlyBase Release 6.54\"\u001b[0m\u001b[1;39m,\n",
      "            \u001b[0m\u001b[1;34m\"annotation_release_date\"\u001b[0m\u001b[1;39m: \u001b[0m\u001b[0;32m\"2023-12-26\"\u001b[0m\u001b[1;39m,\n",
      "            \u001b[0m\u001b[1;34m\"assembly_accession\"\u001b[0m\u001b[1;39m: \u001b[0m\u001b[0;32m\"GCF_000001215.4\"\u001b[0m\u001b[1;39m,\n",
      "            \u001b[0m\u001b[1;34m\"assembly_name\"\u001b[0m\u001b[1;39m: \u001b[0m\u001b[0;32m\"Release 6 plus ISO1 MT\"\u001b[0m\u001b[1;39m,\n",
      "            \u001b[0m\u001b[1;34m\"genomic_locations\"\u001b[0m\u001b[1;39m: \u001b[0m\u001b[1;39m[\n",
      "              \u001b[1;39m{\n",
      "                \u001b[0m\u001b[1;34m\"genomic_accession_version\"\u001b[0m\u001b[1;39m: \u001b[0m\u001b[0;32m\"NT_033778.4\"\u001b[0m\u001b[1;39m,\n",
      "                \u001b[0m\u001b[1;34m\"genomic_range\"\u001b[0m\u001b[1;39m: \u001b[0m\u001b[1;39m{\n",
      "                  \u001b[0m\u001b[1;34m\"begin\"\u001b[0m\u001b[1;39m: \u001b[0m\u001b[0;32m\"15855961\"\u001b[0m\u001b[1;39m,\n",
      "                  \u001b[0m\u001b[1;34m\"end\"\u001b[0m\u001b[1;39m: \u001b[0m\u001b[0;32m\"15857522\"\u001b[0m\u001b[1;39m,\n",
      "                  \u001b[0m\u001b[1;34m\"orientation\"\u001b[0m\u001b[1;39m: \u001b[0m\u001b[0;32m\"plus\"\u001b[0m\u001b[1;39m\n",
      "                \u001b[1;39m}\u001b[0m\u001b[1;39m,\n",
      "                \u001b[0m\u001b[1;34m\"sequence_name\"\u001b[0m\u001b[1;39m: \u001b[0m\u001b[0;32m\"2R\"\u001b[0m\u001b[1;39m\n",
      "              \u001b[1;39m}\u001b[0m\u001b[1;39m\n",
      "            \u001b[1;39m]\u001b[0m\u001b[1;39m\n",
      "          \u001b[1;39m}\u001b[0m\u001b[1;39m\n",
      "        \u001b[1;39m]\u001b[0m\u001b[1;39m,\n",
      "        \u001b[0m\u001b[1;34m\"chromosomes\"\u001b[0m\u001b[1;39m: \u001b[0m\u001b[1;39m[\n",
      "          \u001b[0;32m\"2R\"\u001b[0m\u001b[1;39m\n",
      "        \u001b[1;39m]\u001b[0m\u001b[1;39m,\n",
      "        \u001b[0m\u001b[1;34m\"common_name\"\u001b[0m\u001b[1;39m: \u001b[0m\u001b[0;32m\"fruit fly\"\u001b[0m\u001b[1;39m,\n",
      "        \u001b[0m\u001b[1;34m\"description\"\u001b[0m\u001b[1;39m: \u001b[0m\u001b[0;32m\"cGAS-like receptor 1\"\u001b[0m\u001b[1;39m,\n",
      "        \u001b[0m\u001b[1;34m\"gene_groups\"\u001b[0m\u001b[1;39m: \u001b[0m\u001b[1;39m[\n",
      "          \u001b[1;39m{\n",
      "            \u001b[0m\u001b[1;34m\"id\"\u001b[0m\u001b[1;39m: \u001b[0m\u001b[0;32m\"36744\"\u001b[0m\u001b[1;39m,\n",
      "            \u001b[0m\u001b[1;34m\"method\"\u001b[0m\u001b[1;39m: \u001b[0m\u001b[0;32m\"NCBI Ortholog\"\u001b[0m\u001b[1;39m\n",
      "          \u001b[1;39m}\u001b[0m\u001b[1;39m\n",
      "        \u001b[1;39m]\u001b[0m\u001b[1;39m,\n",
      "        \u001b[0m\u001b[1;34m\"gene_id\"\u001b[0m\u001b[1;39m: \u001b[0m\u001b[0;32m\"36744\"\u001b[0m\u001b[1;39m,\n",
      "        \u001b[0m\u001b[1;34m\"nomenclature_authority\"\u001b[0m\u001b[1;39m: \u001b[0m\u001b[1;39m{\n",
      "          \u001b[0m\u001b[1;34m\"authority\"\u001b[0m\u001b[1;39m: \u001b[0m\u001b[0;32m\"FLYBASE\"\u001b[0m\u001b[1;39m,\n",
      "          \u001b[0m\u001b[1;34m\"identifier\"\u001b[0m\u001b[1;39m: \u001b[0m\u001b[0;32m\"FBgn0034047\"\u001b[0m\u001b[1;39m\n",
      "        \u001b[1;39m}\u001b[0m\u001b[1;39m,\n",
      "        \u001b[0m\u001b[1;34m\"orientation\"\u001b[0m\u001b[1;39m: \u001b[0m\u001b[0;32m\"plus\"\u001b[0m\u001b[1;39m,\n",
      "        \u001b[0m\u001b[1;34m\"protein_count\"\u001b[0m\u001b[1;39m: \u001b[0m\u001b[0;39m1\u001b[0m\u001b[1;39m,\n",
      "        \u001b[0m\u001b[1;34m\"symbol\"\u001b[0m\u001b[1;39m: \u001b[0m\u001b[0;32m\"cGlr1\"\u001b[0m\u001b[1;39m,\n",
      "        \u001b[0m\u001b[1;34m\"synonyms\"\u001b[0m\u001b[1;39m: \u001b[0m\u001b[1;39m[\n",
      "          \u001b[0;32m\"CG12970\"\u001b[0m\u001b[1;39m,\n",
      "          \u001b[0;32m\"cGLR1\"\u001b[0m\u001b[1;39m,\n",
      "          \u001b[0;32m\"Dm-cGLR1\"\u001b[0m\u001b[1;39m,\n",
      "          \u001b[0;32m\"Dmel\\\\CG12970\"\u001b[0m\u001b[1;39m\n",
      "        \u001b[1;39m]\u001b[0m\u001b[1;39m,\n",
      "        \u001b[0m\u001b[1;34m\"tax_id\"\u001b[0m\u001b[1;39m: \u001b[0m\u001b[0;32m\"7227\"\u001b[0m\u001b[1;39m,\n",
      "        \u001b[0m\u001b[1;34m\"taxname\"\u001b[0m\u001b[1;39m: \u001b[0m\u001b[0;32m\"Drosophila melanogaster\"\u001b[0m\u001b[1;39m,\n",
      "        \u001b[0m\u001b[1;34m\"transcript_count\"\u001b[0m\u001b[1;39m: \u001b[0m\u001b[0;39m1\u001b[0m\u001b[1;39m,\n",
      "        \u001b[0m\u001b[1;34m\"transcript_type_counts\"\u001b[0m\u001b[1;39m: \u001b[0m\u001b[1;39m[\n",
      "          \u001b[1;39m{\n",
      "            \u001b[0m\u001b[1;34m\"count\"\u001b[0m\u001b[1;39m: \u001b[0m\u001b[0;39m1\u001b[0m\u001b[1;39m,\n",
      "            \u001b[0m\u001b[1;34m\"type\"\u001b[0m\u001b[1;39m: \u001b[0m\u001b[0;32m\"PROTEIN_CODING\"\u001b[0m\u001b[1;39m\n",
      "          \u001b[1;39m}\u001b[0m\u001b[1;39m\n",
      "        \u001b[1;39m]\u001b[0m\u001b[1;39m,\n",
      "        \u001b[0m\u001b[1;34m\"type\"\u001b[0m\u001b[1;39m: \u001b[0m\u001b[0;32m\"PROTEIN_CODING\"\u001b[0m\u001b[1;39m\n",
      "      \u001b[1;39m}\u001b[0m\u001b[1;39m,\n",
      "      \u001b[0m\u001b[1;34m\"query\"\u001b[0m\u001b[1;39m: \u001b[0m\u001b[1;39m[\n",
      "        \u001b[0;32m\"cglr1\"\u001b[0m\u001b[1;39m\n",
      "      \u001b[1;39m]\u001b[0m\u001b[1;39m\n",
      "    \u001b[1;39m}\u001b[0m\u001b[1;39m\n",
      "  \u001b[1;39m]\u001b[0m\u001b[1;39m,\n",
      "  \u001b[0m\u001b[1;34m\"total_count\"\u001b[0m\u001b[1;39m: \u001b[0m\u001b[0;39m1\u001b[0m\u001b[1;39m\n",
      "\u001b[1;39m}\u001b[0m\n"
     ]
    }
   ],
   "source": [
    "%%bash\n",
    "# Get metadata for a gene by symbol in Drosophila melanogaster\n",
    "datasets summary gene symbol cglr1 --taxon 'drosophila melanogaster' | jq -C . \n"
   ]
  },
  {
   "cell_type": "code",
   "execution_count": 22,
   "id": "3730f706",
   "metadata": {},
   "outputs": [
    {
     "name": "stdout",
     "output_type": "stream",
     "text": [
      "Taxonomic Name\tSymbol\tDescription\tNCBI GeneID\tProteins\n",
      "Drosophila melanogaster\tcGlr1\tcGAS-like receptor 1\t36744\t1\n"
     ]
    }
   ],
   "source": [
    "%%bash\n",
    "# View select fields of metadata for the same gene\n",
    "datasets summary gene symbol cglr1 --taxon 'drosophila melanogaster' --as-json-lines | \\\n",
    "    dataformat tsv gene --fields tax-name,symbol,description,gene-id,protein-count"
   ]
  },
  {
   "cell_type": "markdown",
   "id": "b96c0cc2",
   "metadata": {},
   "source": [
    "### Downloading gene sequence data \n",
    "We know that there is 1 protein encoded by the Drosophila melanogaster cglr1 gene. Let's see how we can download the protein sequence, and the underlying transcript and gene sequences.\n"
   ]
  },
  {
   "cell_type": "code",
   "execution_count": 23,
   "id": "f8679441",
   "metadata": {},
   "outputs": [],
   "source": [
    "%%bash\n",
    "# Download gene, transcript and protein sequences for *Drosophila melanogaster* cglr1.\n",
    "datasets download gene symbol cglr1 --taxon 'drosophila melanogaster' --include gene,rna,protein --filename cglr1.zip --no-progressbar"
   ]
  },
  {
   "cell_type": "code",
   "execution_count": 24,
   "id": "dcdb090d",
   "metadata": {},
   "outputs": [
    {
     "name": "stdout",
     "output_type": "stream",
     "text": [
      "Archive:  cglr1.zip\n",
      "  inflating: cglr1/README.md         \n",
      "  inflating: cglr1/ncbi_dataset/data/gene.fna  \n",
      "  inflating: cglr1/ncbi_dataset/data/rna.fna  \n",
      "  inflating: cglr1/ncbi_dataset/data/protein.faa  \n",
      "  inflating: cglr1/ncbi_dataset/data/data_report.jsonl  \n",
      "  inflating: cglr1/ncbi_dataset/data/dataset_catalog.json  \n"
     ]
    }
   ],
   "source": [
    "%%bash\n",
    "# Unzip the gene data package\n",
    "unzip cglr1.zip -d cglr1"
   ]
  },
  {
   "cell_type": "code",
   "execution_count": 25,
   "id": "dd053ae2",
   "metadata": {},
   "outputs": [
    {
     "name": "stdout",
     "output_type": "stream",
     "text": [
      "==> cglr1/ncbi_dataset/data/gene.fna <==\n",
      ">NT_033778.4:15855961-15857522 cGlr1 [organism=Drosophila melanogaster] [GeneID=36744] [chromosome=2R]\n",
      "ATGGCGATGAATTTGGAAAATATCGTCAATCAGGCCACCGCCCAATACGTGAAAATTAAAGAGCACCGCG\n",
      "\n",
      "==> cglr1/ncbi_dataset/data/protein.faa <==\n",
      ">NP_788360.2 cGlr1 [organism=Drosophila melanogaster] [GeneID=36744]\n",
      "MAMNLENIVNQATAQYVKIKEHREPYTAHYNALKDKVYSEWKSSAVLGKLLKGSTLCGGYGDKLKVSIPD\n",
      "\n",
      "==> cglr1/ncbi_dataset/data/rna.fna <==\n",
      ">NM_176180.2 cGlr1 [organism=Drosophila melanogaster] [GeneID=36744]\n",
      "ATGGCGATGAATTTGGAAAATATCGTCAATCAGGCCACCGCCCAATACGTGAAAATTAAAGAGCACCGCG\n"
     ]
    }
   ],
   "source": [
    "%%bash\n",
    "# Take a look at the FASTA headers for the downloaded sequences\n",
    "head -2 cglr1/ncbi_dataset/data/*.f*"
   ]
  },
  {
   "cell_type": "markdown",
   "id": "06683ea5",
   "metadata": {},
   "source": [
    "### Using orthology data to find genes in related species\n"
   ]
  },
  {
   "cell_type": "code",
   "execution_count": 26,
   "id": "91058e44",
   "metadata": {},
   "outputs": [
    {
     "name": "stdout",
     "output_type": "stream",
     "text": [
      "{\"total_count\": 0}\n"
     ]
    }
   ],
   "source": [
    "%%bash\n",
    "# If we try to retrieve metadata information for this gene using the symbol cglr1, what happens?\n",
    "datasets summary gene symbol cglr1 --taxon \"drosophila pseudoobscura\"\n"
   ]
  },
  {
   "cell_type": "markdown",
   "id": "0f9994ed",
   "metadata": {},
   "source": [
    "We can use orthology data to find related genes in other species. "
   ]
  },
  {
   "cell_type": "code",
   "execution_count": 27,
   "id": "9bf5045f",
   "metadata": {},
   "outputs": [
    {
     "name": "stdout",
     "output_type": "stream",
     "text": [
      "Taxonomic Name\tNCBI GeneID\tDescription\tSymbol\tGene Group Method\tGene Group Identifier\n",
      "Drosophila pseudoobscura\t6899115\tuncharacterized LOC6899115\tLOC6899115\tNCBI Ortholog\t36744\n",
      "Drosophila melanogaster\t36744\tcGAS-like receptor 1\tcGlr1\tNCBI Ortholog\t36744\n"
     ]
    }
   ],
   "source": [
    "%%bash\n",
    "datasets summary gene symbol cglr1 --taxon \"drosophila melanogaster\" --ortholog \"drosophila melanogaster, drosophila pseudoobscura\" --as-json-lines | \\\n",
    "    dataformat tsv gene --fields tax-name,gene-id,description,symbol,group-method,group-id"
   ]
  },
  {
   "cell_type": "code",
   "execution_count": 28,
   "id": "e08b9763",
   "metadata": {},
   "outputs": [],
   "source": [
    "%%bash\n",
    "# Download the gene data package for the gene-id 4803562 (ortholog of *cglr1* in Drosophila pseudoobscura)\n",
    "# We want to include the FASTA file with gene sequences, so we will use the flag --include.\n",
    "\n",
    "datasets download gene gene-id 4803562 --filename gene.zip --include gene,protein,rna --no-progressbar\n"
   ]
  },
  {
   "cell_type": "code",
   "execution_count": 29,
   "id": "9f98e9a5-15c1-4b06-8548-2640b2a033e9",
   "metadata": {},
   "outputs": [],
   "source": [
    "%%bash\n",
    "datasets download gene gene-id 4803562 --include cds,rna,protein --filename all.zip --no-progressbar"
   ]
  },
  {
   "cell_type": "code",
   "execution_count": 30,
   "id": "32ff018d",
   "metadata": {},
   "outputs": [
    {
     "name": "stdout",
     "output_type": "stream",
     "text": [
      "Archive:  all.zip\n",
      "  inflating: all/README.md           \n",
      "  inflating: all/ncbi_dataset/data/cds.fna  \n",
      "  inflating: all/ncbi_dataset/data/rna.fna  \n",
      "  inflating: all/ncbi_dataset/data/protein.faa  \n",
      "  inflating: all/ncbi_dataset/data/data_report.jsonl  \n",
      "  inflating: all/ncbi_dataset/data/dataset_catalog.json  \n"
     ]
    }
   ],
   "source": [
    "%%bash\n",
    "# Unzip the file\n",
    "unzip all.zip -d all"
   ]
  },
  {
   "cell_type": "code",
   "execution_count": 32,
   "id": "5568fa91-25e8-4962-9072-064d2da87eda",
   "metadata": {},
   "outputs": [
    {
     "name": "stdout",
     "output_type": "stream",
     "text": [
      ">XM_001360232.4:1406-2743 LOC4803562 [organism=Drosophila pseudoobscura] [GeneID=4803562] [region=cds]\n",
      "ATGTTAAAGATCGCGAAACCCAACGAATTCGATTTGGTATTTAAGCTCCGTATTCCGCATTACCGGGAAA\n",
      "TAATCGTGACGCGAGATTCGGAAATGCCGGGCAACGTTTTACTCGATATAACGCGCGTACTTCAACTACT\n",
      "CAAAAGCGATCCCCGCGAGGATCAACAGAATATCCGCCGGCTGTTAAAATCTCTCGTAAACGCTCAAAAC\n",
      "TTCCTCATCGTGGAAAAGCTGCACCACTGGCTCCAAAGCCTATTCAGTCGCACTCTCAACCGGCTCGATC\n",
      "ATCGGATCGTAGTGGATGGCAAGGCATCTAAGTTAAAGTATCGCACTTGTGGGCCGGCCCACACCATCGA\n",
      "GGTCGAAGGAATGGAATATTCGGTTGATTTTGTGCCTGCCATCCGACTGGATGCCGAGCAGAACGTGTTT\n",
      "CGGACCGAACAGTTGAATTACCACGCGAACATACACTACTGGGATGCGATACCCAAACCATTAAAAAAAC\n",
      "CGCTCATAACCGAAAGTATTTCATTTCGATCTTCCTTTTACGATGCCGAGAAGGCGATGTTAAGGGGTAA\n",
      "ACACGAAAATTGCCGGAATGTAATCAAGTGCATTAAGAAATTTCGCGATGTTCAGACGAATTTATACAAC\n"
     ]
    }
   ],
   "source": [
    "%%bash\n",
    "head all/ncbi_dataset/data/cds.fna"
   ]
  },
  {
   "cell_type": "code",
   "execution_count": 33,
   "id": "9ab71ee8",
   "metadata": {},
   "outputs": [
    {
     "name": "stdout",
     "output_type": "stream",
     "text": [
      "\u001b[01;34mall/\u001b[0m\n",
      "├── \u001b[00mREADME.md\u001b[0m\n",
      "└── \u001b[01;34mncbi_dataset\u001b[0m\n",
      "    └── \u001b[01;34mdata\u001b[0m\n",
      "        ├── \u001b[00mcds.fna\u001b[0m\n",
      "        ├── \u001b[00mdata_report.jsonl\u001b[0m\n",
      "        ├── \u001b[00mdataset_catalog.json\u001b[0m\n",
      "        ├── \u001b[00mprotein.faa\u001b[0m\n",
      "        └── \u001b[00mrna.fna\u001b[0m\n",
      "\n",
      "3 directories, 6 files\n"
     ]
    }
   ],
   "source": [
    "%%bash\n",
    "# Explore the data package structure using tree\n",
    "tree -C all/"
   ]
  },
  {
   "cell_type": "markdown",
   "id": "c908cc8b",
   "metadata": {},
   "source": [
    "## Part III: Accessing orthologs <a class=\"anchor\" id=\"Part-III\"></a>\n",
    "\n",
    "### Orthologs\n",
    "\n",
    "Since `datasets` version 14, users can retrieve ortholog information using the flag `--ortholog` with the `gene` subcommand.\n",
    "\n",
    "#### <font color='blue'>Wait, but what is an ortholog set?</font>\n",
    "\n",
    ">An ortholog set, or ortholog gene group, is a group of genes that have been identified by the NCBI genome annotation team as homologous genes that are separated by speciation events. They are identified by a combination of protein similarity + local synteny information. \n",
    "Currently, NCBI has ortholog sets calculated for vertebrates and some insects. \n",
    "\n",
    "\n",
    "#### Examples:\n",
    "\n",
    "`datasets download gene accession NM_176180.2 --ortholog all`  \n",
    "`datasets download gene gene-id 36744 --ortholog all`  \n",
    "`datasets download gene symbol cglr1 --taxon 'drosophila melanogaster' --ortholog all`  \n",
    "\n",
    "All three commands will download the **same** ortholog set (which is the complete set). \n",
    "\n",
    "What if I want to filter the ortholog set to include *only* a taxonomic group of interest?\n",
    "\n"
   ]
  },
  {
   "cell_type": "markdown",
   "id": "3c1ab1db",
   "metadata": {},
   "source": [
    "### Applying a taxonomic filter to the ortholog set\n",
    "\n",
    "When using the `--ortholog` flag, users need to provide an argument for it. The argument should be one or more taxa (any rank) to filter results or 'all' for the complete set.\n",
    "\n",
    "#### Examples\n",
    "\n",
    "- `datasets download gene symbol cglr1 --taxon 'drosophila melanogaster' --ortholog apidae`  \n",
    "Prints a json metadata summary of gene orthologs of the drosophila melanogaster gene cglr1, but only from the family apidae (bees).\n"
   ]
  },
  {
   "cell_type": "markdown",
   "id": "3673c066",
   "metadata": {},
   "source": [
    "#### We are going to follow these steps:\n",
    "- download a gene data package containing orthologs and save it with the name ortholog.zip\n",
    "- unzip it to the folder ortholog\n",
    "- look at some metadata for the genes in the ortholog set\n",
    "- align the protein sequences for the genes in the set"
   ]
  },
  {
   "cell_type": "code",
   "execution_count": 34,
   "id": "4040acda",
   "metadata": {},
   "outputs": [],
   "source": [
    "%%bash\n",
    "# download the cglr1 ortholog set for the genus Drosophila (Taxid: 7215)\n",
    "datasets download gene symbol cglr1 --taxon 'drosophila melanogaster' --ortholog apidae,'drosophila melanogaster' --filename ortholog.zip --no-progressbar"
   ]
  },
  {
   "cell_type": "code",
   "execution_count": 35,
   "id": "c295a289",
   "metadata": {},
   "outputs": [
    {
     "name": "stdout",
     "output_type": "stream",
     "text": [
      "Archive:  ortholog.zip\n",
      "  inflating: ortholog/README.md      \n",
      "  inflating: ortholog/ncbi_dataset/data/rna.fna  \n",
      "  inflating: ortholog/ncbi_dataset/data/protein.faa  \n",
      "  inflating: ortholog/ncbi_dataset/data/data_report.jsonl  \n",
      "  inflating: ortholog/ncbi_dataset/data/dataset_catalog.json  \n"
     ]
    }
   ],
   "source": [
    "%%bash\n",
    "# Unzip it to the folder ortholog\n",
    "unzip ortholog.zip -d ortholog\n"
   ]
  },
  {
   "cell_type": "code",
   "execution_count": 36,
   "id": "fc2e19f8",
   "metadata": {},
   "outputs": [
    {
     "name": "stdout",
     "output_type": "stream",
     "text": [
      "Taxonomic Name\tSymbol\tNCBI GeneID\tGene Group Method\tGene Group Identifier\n",
      "Apis mellifera\tLOC100577693\t100577693\tNCBI Ortholog\t36744\n",
      "Apis dorsata\tLOC102671149\t102671149\tNCBI Ortholog\t36744\n",
      "Drosophila melanogaster\tcGlr1\t36744\tNCBI Ortholog\t36744\n"
     ]
    }
   ],
   "source": [
    "%%bash\n",
    "# Generate a table describing the genes in the ortholog set\n",
    "dataformat tsv gene --inputfile ortholog/ncbi_dataset/data/data_report.jsonl \\\n",
    "--fields tax-name,symbol,gene-id,group-method,group-id | head"
   ]
  },
  {
   "cell_type": "code",
   "execution_count": 37,
   "id": "46b063a9-f2f9-4cd4-8128-da48a5ba3dca",
   "metadata": {},
   "outputs": [
    {
     "name": "stdout",
     "output_type": "stream",
     "text": [
      "CLUSTAL O(1.2.4) multiple sequence alignment\n",
      "\n",
      "\n",
      "NP_788360.2_cGlr1_[organism=Drosophila_melanogaster]_[GeneID=36744]           MAMNLENIVNQATAQYVKIKEHREPYTAHYNALKDKVYSEWKSSAVLGKLLKGSTLCGGY\n",
      "XP_031370638.1_LOC102671149_[organism=Apis_dorsata]_[GeneID=102671149]        -----------------------MYNSPKYDLLSDK------------------------\n",
      "XP_006557488.1_LOC100577693_[organism=Apis_mellifera]_[GeneID=100577693]      ------------------------MYNSKYDHLTDK------------------------\n",
      "                                                                                                        . :*: *.**                        \n",
      "\n",
      "NP_788360.2_cGlr1_[organism=Drosophila_melanogaster]_[GeneID=36744]           GDKLKVSIPDEFDLLIHLVFPENDKIIVKADASKPGNVILDMTKVMEIIGSQEHNKPVFD\n",
      "XP_031370638.1_LOC102671149_[organism=Apis_dorsata]_[GeneID=102671149]        -----------------------------------G-------------------KKIYN\n",
      "XP_006557488.1_LOC100577693_[organism=Apis_mellifera]_[GeneID=100577693]      -----------------------------------G-------------------KKIYN\n",
      "                                                                                                                 *                   * :::\n",
      "\n",
      "NP_788360.2_cGlr1_[organism=Drosophila_melanogaster]_[GeneID=36744]           RLQKIVNNKKQLLEDKLNSFLESIMTQTL----NKMGNQIEVA---GRISHLQYKKCGPA\n",
      "XP_031370638.1_LOC102671149_[organism=Apis_dorsata]_[GeneID=102671149]        NI----IDSGYLNPNKFRFWIQRILSKVLN-KLPKVEDKYELIVNNQ-KIKIKIIESGPA\n",
      "XP_006557488.1_LOC100577693_[organism=Apis_mellifera]_[GeneID=100577693]      NI----IDYGYLNPNKFRRWIQGILYKVLHKKLTKVDNGYELIINKQLKAKIRIKESGPA\n",
      "                                                                              .:     :   *  :*:. ::: *: :.*     *: :  *:        :::  :.***\n",
      "\n",
      "NP_788360.2_cGlr1_[organism=Drosophila_melanogaster]_[GeneID=36744]           HTIFVKGSC-----KYSVDFVPAIRLSAAQ--VVLAPEQRIHFGETLYWDAIPKPMKPAK\n",
      "XP_031370638.1_LOC102671149_[organism=Apis_dorsata]_[GeneID=102671149]        YTIIINMPHE--TENIHIDLAPTLAFHINCINHFTSKFNELQNCRNETWFAIPLPLTDND\n",
      "XP_006557488.1_LOC100577693_[organism=Apis_mellifera]_[GeneID=100577693]      YTLIINIETETKTKTIHVDLAPALAFHINYINQFIFKFNELQNCRNKTWFAIPLPLTDDD\n",
      "                                                                              :*::::        .  :*:.*:: :       .    :.::  ..  * *** *:.  .\n",
      "\n",
      "NP_788360.2_cGlr1_[organism=Drosophila_melanogaster]_[GeneID=36744]           TDNTS--FTSSFYEAERRLLYGKQFLKPAIRLMKQNRNVKNKANLKSYHIKTLFLWQVIQ\n",
      "XP_031370638.1_LOC102671149_[organism=Apis_dorsata]_[GeneID=102671149]        SNNKNLYWRLSFSYQEKEILAKYGRIKPVIRQIKKLRDTQNWKSIASYFIETLFLHKIEE\n",
      "XP_006557488.1_LOC100577693_[organism=Apis_mellifera]_[GeneID=100577693]      INNKNFYWRLSFSCQEKEILTKYGRIKPVIRQMKKLRDTQNWNSIASYFIETLFLHKKEE\n",
      "                                                                               :*..  :  **   *:.:*     :**.** :*: *:.:*  .: **.*:**** :  :\n",
      "\n",
      "NP_788360.2_cGlr1_[organism=Drosophila_melanogaster]_[GeneID=36744]           QDPSYWSNSPKDIFIEMLGKLADSLALTPKKGKLPFFWDPKLDMFAQLTDSQRTDLYNHF\n",
      "XP_031370638.1_LOC102671149_[organism=Apis_dorsata]_[GeneID=102671149]        LKNDL----EKIPFTLFLFKMLQELYYACDKHMLEFYWDKQYNLFSKISKIEMHNITYR-\n",
      "XP_006557488.1_LOC100577693_[organism=Apis_mellifera]_[GeneID=100577693]      LKNDL----EKIPFTLFLFKMLQELYYACDKHTLEFYWDKNYNLFSKISEREMYNITYR-\n",
      "                                                                               . .      *  *  :* *: :.*  : .*  * *:** : ::*::::. :  ::  : \n",
      "\n",
      "NP_788360.2_cGlr1_[organism=Drosophila_melanogaster]_[GeneID=36744]           RKCEYTFRKDNGNVNDCTENNV-HSSFSK--------------NTTYKL-----------\n",
      "XP_031370638.1_LOC102671149_[organism=Apis_dorsata]_[GeneID=102671149]        ------LKNIISNIEKYSSDEFILAKFICKLCFLKLRNDDI-------------------\n",
      "XP_006557488.1_LOC100577693_[organism=Apis_mellifera]_[GeneID=100577693]      ------LKNIIKSIERCSSDKFILASFILNSQELKLLQEKINNNNQYVEDKNDTEQENSK\n",
      "                                                                                    :::   .::  :.::.  :.*                                 \n",
      "\n",
      "NP_788360.2_cGlr1_[organism=Drosophila_melanogaster]_[GeneID=36744]           -----\n",
      "XP_031370638.1_LOC102671149_[organism=Apis_dorsata]_[GeneID=102671149]        -----\n",
      "XP_006557488.1_LOC100577693_[organism=Apis_mellifera]_[GeneID=100577693]      WCTIT\n",
      "                                                                                   \n"
     ]
    }
   ],
   "source": [
    "%%bash\n",
    "# Update FASTA headers in the protein sequence file to make clustalo output easier to understand\n",
    "sed 's/ /_/g' ortholog/ncbi_dataset/data/protein.faa > renamed.proteins\n",
    "\n",
    "# Run alignment\n",
    "clustalo --infile renamed.proteins --full --outfmt=clu --force"
   ]
  },
  {
   "cell_type": "markdown",
   "id": "ad41374d",
   "metadata": {},
   "source": [
    "## What have we done so far?\n",
    "- Explored metadata for all genomes for the genus Drosophila\n",
    "- Downloaded genomes for the species Drosophila pseudoobscura\n",
    "- Downloaded the *cglr1* gene from *Drosophila melanogastr*\n",
    "- Downloaded the ortholog set for *Drosophila melanogaster* *cglr1*, including orthologs in *Drosophila pseudoobscura* and bees (apidae)"
   ]
  },
  {
   "attachments": {
    "32a2c647-6f78-490b-b77e-db85879010fd.png": {
     "image/png": "[encoded data removed]"
    }
   },
   "cell_type": "markdown",
   "id": "5e489edc",
   "metadata": {},
   "source": [
    "## Links<a class=\"anchor\" id=\"Links\"></a>\n",
    "\n",
    "### NCBI Datasets main resources\n",
    "\n",
    "- NCBI Datasets homepage: [https://www.ncbi.nlm.nih.gov/datasets/](https://www.ncbi.nlm.nih.gov/datasets/)\n",
    "- Github: [https://github.com/ncbi/datasets](https://github.com/ncbi/datasets)\n",
    "\n",
    "\n",
    "### Download and installation instructions (CLI)\n",
    "\n",
    "- Instructions:  \n",
    " [https://www.ncbi.nlm.nih.gov/datasets/docs/v2/download-and-install/](https://www.ncbi.nlm.nih.gov/datasets/docs/v2/download-and-install/)\n",
    "  \n",
    "### Tutorials, how-to guides and past workshops\n",
    " \n",
    "- How-to guides (short, one-line CLI tasks):   \n",
    "[https://www.ncbi.nlm.nih.gov/datasets/docs/v2/how-tos/](https://www.ncbi.nlm.nih.gov/datasets/docs/v2/how-tos/)\n",
    "- Tutorials (multi-task, longer tutorials, mostly based on feedback or questions we get from users): [https://www.ncbi.nlm.nih.gov/datasets/docs/v2/tutorials/](https://www.ncbi.nlm.nih.gov/datasets/docs/v2/tutorials/)\n",
    "- Past training sessions and workshops (Jupyter notebooks used in previous *datasets* training events): [https://github.com/ncbi/datasets/tree/master/training](https://github.com/ncbi/datasets/tree/master/training)\n",
    "\n",
    "### How to get help\n",
    "\n",
    "- Email the helpdesk: [info@ncbi.nlm.nih.gov](mailto:info@ncbi.nlm.nih.gov)\n",
    "- Github: [https://github.com/ncbi/datasets](https://github.com/ncbi/datasets)\n",
    "- Yellow feedback button on our pages\n",
    "\n",
    "![qr-code-github-tagc2024.png](attachment:32a2c647-6f78-490b-b77e-db85879010fd.png)"
   ]
  }
 ],
 "metadata": {
  "kernelspec": {
   "display_name": "Python 3 (ipykernel)",
   "language": "python",
   "name": "python3"
  },
  "language_info": {
   "codemirror_mode": {
    "name": "ipython",
    "version": 3
   },
   "file_extension": ".py",
   "mimetype": "text/x-python",
   "name": "python",
   "nbconvert_exporter": "python",
   "pygments_lexer": "ipython3",
   "version": "3.12.2"
  }
 },
 "nbformat": 4,
 "nbformat_minor": 5
}
