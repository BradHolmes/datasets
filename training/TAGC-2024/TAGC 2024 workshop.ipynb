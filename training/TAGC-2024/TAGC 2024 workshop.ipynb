{
 "cells": [
  {
   "cell_type": "markdown",
   "id": "a17a866f",
   "metadata": {
    "editable": true,
    "slideshow": {
     "slide_type": "slide"
    },
    "tags": []
   },
   "source": [
    "# Using NCBI Datasets command-line tools to get genome, gene and ortholog data\n"
   ]
  },
  {
   "attachments": {},
   "cell_type": "markdown",
   "id": "26f69883",
   "metadata": {
    "editable": true,
    "slideshow": {
     "slide_type": "subslide"
    },
    "tags": []
   },
   "source": [
    "### Table of contents\n",
    "* [Part I: Accessing genomes](#Part-I)\n",
    "* [Part II: Accessing genes](#Part-II)\n",
    "* [Part III: Accessing orthologs](#Part-III)\n",
    "* [Links](#Links)"
   ]
  },
  {
   "cell_type": "markdown",
   "id": "3c2018eb",
   "metadata": {
    "editable": true,
    "slideshow": {
     "slide_type": "subslide"
    },
    "tags": []
   },
   "source": [
    "### Important resources\n",
    "- Find this notebook on Github: https://github.com/ncbi/datasets/tree/master/training/TAGC-2024\n",
    "- Explore NCBI Datasets command-line tool documentation: https://www.ncbi.nlm.nih.gov/datasets/docs/download-and-install/"
   ]
  },
  {
   "cell_type": "markdown",
   "id": "ec6eeabe",
   "metadata": {
    "editable": true,
    "slideshow": {
     "slide_type": "slide"
    },
    "tags": []
   },
   "source": [
    "## Before we start... What is a jupyter notebook?\n",
    "\n",
    "Jupyter Notebooks are a web-based approach to interactive code. A single notebook (the file you are currently reading) is composed of many \"cells\" which can contain either text, or code. To navigate between cells, either click, or use the arrow keys on your keyboard.\n",
    "\n",
    "A text cell will look like... well... this! While a code cell will look something like what you see below. To run the code inside a code cell, click on it, then click the \"Run\" button at the top of the screen. Try it on the code cell below!"
   ]
  },
  {
   "cell_type": "code",
   "execution_count": null,
   "id": "c93b68fd",
   "metadata": {
    "editable": true,
    "slideshow": {
     "slide_type": "subslide"
    },
    "tags": []
   },
   "outputs": [],
   "source": [
    "#This is a code cell\n",
    "print('You ran the code cell!')"
   ]
  },
  {
   "cell_type": "markdown",
   "id": "9bea448c",
   "metadata": {
    "editable": true,
    "slideshow": {
     "slide_type": "subslide"
    },
    "tags": []
   },
   "source": [
    "If it worked, you should have seen text pop up underneath the cell saying `You ran the code cell!`. Note the `In [1]:` that appeared next to the cell. This tells you the order you have run code cells throughout the notebook. The next time you run a code cell, it will say `In [2]:`, then `In [3]:` and so on... This will help you know if/when code has been run.\n",
    "\n",
    "The remainder of the notebook below has been pre-built by the workshop organizer. You will not need to create any new cells, and you will be explicitly told if/when to execute a code cell.\n",
    "\n",
    "The code in this workshop is all Bash (i.e., terminal commands). Bash commands are prefixed with `!` or the cells have the notation `%%bash` at the top. If you are not familiar with code, don't feel pressured to interpret it very deeply. Descriptions of each code block will be provided!\n",
    "\n",
    "(Jupyter Notebook explanation by Cooper Park at the workshop on [Finding and Analyzing Metagenomic Data](https://www.nlm.nih.gov/oet/ed/ncbi/2021_10_meta.html))"
   ]
  },
  {
   "cell_type": "markdown",
   "id": "d3fb399f",
   "metadata": {
    "editable": true,
    "slideshow": {
     "slide_type": "slide"
    },
    "tags": []
   },
   "source": [
    "### Mic check\n",
    "\n",
    "Let's first make sure that the conda environment is active and that we can run datasets."
   ]
  },
  {
   "cell_type": "code",
   "execution_count": null,
   "id": "577866ce",
   "metadata": {
    "editable": true,
    "slideshow": {
     "slide_type": ""
    },
    "tags": []
   },
   "outputs": [],
   "source": [
    "%%bash\n",
    "conda info --envs"
   ]
  },
  {
   "cell_type": "code",
   "execution_count": null,
   "id": "729009a9",
   "metadata": {},
   "outputs": [],
   "source": [
    "%%bash\n",
    "# Now let's make sure the datasets command-line tool is working \n",
    "datasets"
   ]
  },
  {
   "cell_type": "markdown",
   "id": "b8805d73",
   "metadata": {},
   "source": [
    "## Case study: Drosophila melanogaster innate immunity\n",
    "\n",
    "Drosophila melanogaster innate immunity features two pathways involved in the detection of dsRNA: RNAi and the cGAS-STING pathway.\n",
    "\n",
    "Components of the cGAS-STING pathway are present in diverse metazoan lineages but absent in others. For example, the cGAS-STING pathway is present in Drosophila melanogaster, cnidarians (jellyfish) and humans, but absent in nematodes, e.g., C. elegans. \n",
    "\n",
    "<div>\n",
    "<img src=https://media.springernature.com/full/springer-static/image/art%3A10.1038%2Fs41559-022-01951-4/MediaObjects/41559_2022_1951_Fig2_HTML.png?as=webp width=\"800\">\n",
    "</div>\n",
    "\n",
    "Iwama, R.E., Moran, Y. Origins and diversification of animal innate immune responses against viral infections. Nat Ecol Evol 7, 182–193 (2023). https://doi.org/10.1038/s41559-022-01951-4"
   ]
  },
  {
   "cell_type": "markdown",
   "id": "fb672e02",
   "metadata": {},
   "source": [
    "We'll use `datasets` to gather genomic data from NCBI. We will:\n",
    "\n",
    "- get metadata for all genomes for the genus *Drosophila*\n",
    "- download genome sequences for the species *Drosophila pseudoobscura*\n",
    "- download the *cglr1* gene annotated on the *Drosophila pseudoobscura* reference genome\n",
    "- download some ortholog data for this gene"
   ]
  },
  {
   "cell_type": "markdown",
   "id": "8b785d5b",
   "metadata": {},
   "source": [
    "### How is `datasets` organized?\n",
    "\n",
    "`datasets` is a command line tool that allows users to download data packages (data + metadata) or look at metadata summaries for genomes, genes and ortholog sets. The program follows a hierarchy that makes it easy for users to select exactly which options they would like to use. In addition to the program commands, additional flags are available for filtering the results. We will go over those during this tutorial.\n",
    "<img src=\"https://www.ncbi.nlm.nih.gov/datasets/docs/v2/images/datasets1.png\" alt=\"datasets\" style=\"width: 700px;\"/>"
   ]
  },
  {
   "cell_type": "markdown",
   "id": "ff69c110",
   "metadata": {},
   "source": [
    "### `dataformat`\n",
    "\n",
    "Now we are going to combine `datasets` with another tool called `dataformat`. `dataformat` allows you to extract metadata information from the JSON-Lines data report files included with all `datasets` data packages or accessible through `summary` command. You can use `dataformat` to:\n",
    "- Create a tab-delimited file (.tsv) or excel file with the fields you need\n",
    "- Quickly visualize the information on the screen\n",
    "\n",
    "<img src=\"https://www.ncbi.nlm.nih.gov/datasets/docs/v2/images/dataformat1.png\" alt=\"dataformat\"  style=\"width: 700px;\"/>"
   ]
  },
  {
   "cell_type": "code",
   "execution_count": null,
   "id": "a9176757",
   "metadata": {},
   "outputs": [],
   "source": [
    "%%bash\n",
    "# Read the dataformat help menu. This is a great way to get a list of the available metadata fields.\n",
    "dataformat tsv genome --help"
   ]
  },
  {
   "cell_type": "markdown",
   "id": "75ad66b3",
   "metadata": {},
   "source": [
    "## Part I: Accessing genomes<a class=\"anchor\" id=\"Part-I\"></a>"
   ]
  },
  {
   "cell_type": "markdown",
   "id": "b29b46e2",
   "metadata": {},
   "source": [
    "First, let's figure out what kind of genome information NCBI has for the genus Drosophila. For this task, we will first use the `datasets summary` command, as shown in the diagram below. We will then pipe the `datasets` output to `jq` so we can see how many Drosophila genomes are in the NCBI database."
   ]
  },
  {
   "cell_type": "markdown",
   "id": "b1c78dcf",
   "metadata": {},
   "source": [
    "<img src=\"https://www.ncbi.nlm.nih.gov/datasets/docs/v2/images/datasets-s-genome-tax.png\" style=\"width: 800px;\"/>"
   ]
  },
  {
   "cell_type": "code",
   "execution_count": null,
   "id": "076161ca",
   "metadata": {},
   "outputs": [],
   "source": [
    "%%bash\n",
    "# Get the genome count for the genus Drosophila (Taxid: 7215)\n",
    "datasets summary genome taxon 7215 | jq '.total_count'\n"
   ]
  },
  {
   "cell_type": "markdown",
   "id": "0993d504",
   "metadata": {},
   "source": [
    "Now we know that there are 635 Drosophila genomes at NCBI. Let's save the metadata as a JSON-Lines file using the flag `--as-json-lines` to make it easier to extract information from the metadata file later."
   ]
  },
  {
   "cell_type": "code",
   "execution_count": null,
   "id": "9f1c4ea3",
   "metadata": {},
   "outputs": [],
   "source": [
    "%%bash\n",
    "# Get genome metadata for the genus Drosophila and save to a file\n",
    "datasets summary genome taxon 7215 --as-json-lines > drosophila.jsonl"
   ]
  },
  {
   "cell_type": "markdown",
   "id": "dd676b9b",
   "metadata": {},
   "source": [
    "**Now let's take a look at the metadata using jq**  \n",
    "Since the output is really long, we will only show the first 50 lines (`head -n 50`). The flag `-C` in the `jq` command shows the output in color, which makes it easier to read."
   ]
  },
  {
   "cell_type": "code",
   "execution_count": null,
   "id": "4206d799",
   "metadata": {},
   "outputs": [],
   "source": [
    "%%bash\n",
    "\n",
    "jq -C . drosophila.jsonl | head -n 20\n"
   ]
  },
  {
   "cell_type": "markdown",
   "id": "2f550f75",
   "metadata": {},
   "source": [
    "### Let's continue to explore the available genomes for the genus Drosophila\n"
   ]
  },
  {
   "cell_type": "markdown",
   "id": "87806b8c",
   "metadata": {},
   "source": [
    "For this part, we will use two UNIX commands: `sort` and `uniq`. \n",
    "\n",
    "- `sort` can be used to sort text files line by line, numerically and alphabetically.   \n",
    "- `uniq` will filter out the repeated lines in a file. However, `uniq` can only detect repeated lines if they are adjacent to each other. In other words, if they are alphabetically or numerically sorted. The flag `-c` or `--count` tells the command `uniq` to remove the repeated lines, and to count how many times each value appeared. \n",
    "\n",
    "So, we will use `dataformat` to extract the information we need, sort the result and count the number of unique entries."
   ]
  },
  {
   "cell_type": "code",
   "execution_count": null,
   "id": "b2c1912d",
   "metadata": {},
   "outputs": [],
   "source": [
    "%%bash\n",
    "# Which Drosophila species have the most genomes?\n",
    "\n",
    "dataformat tsv genome --inputfile drosophila.jsonl --fields organism-name --elide-header | sort | uniq -c | sort -k1nr | head"
   ]
  },
  {
   "cell_type": "markdown",
   "id": "ed84aedf",
   "metadata": {},
   "source": [
    "### How to get help when using the command line\n",
    "\n",
    "Since `datasets` is a hierarchical program, we can use that characteristic to our advantage to get specific help.   For example: if we type `datasets --help`, we will see the first level of commands available.\n"
   ]
  },
  {
   "cell_type": "code",
   "execution_count": null,
   "id": "d219e750",
   "metadata": {},
   "outputs": [],
   "source": [
    "%%bash\n",
    "datasets --help"
   ]
  },
  {
   "cell_type": "markdown",
   "id": "db05f935",
   "metadata": {},
   "source": [
    "Notice the difference from when we type `datasets summary genome taxon --help`  \n"
   ]
  },
  {
   "cell_type": "code",
   "execution_count": null,
   "id": "a09930dd",
   "metadata": {},
   "outputs": [],
   "source": [
    "%%bash\n",
    "datasets summary genome taxon --help"
   ]
  },
  {
   "cell_type": "markdown",
   "id": "d66b33f7",
   "metadata": {},
   "source": [
    "### Data package\n",
    "\n",
    "We explored the `datasets summary` option, in which we had a chance to look at the summary metadata ***without*** downloading any files. In the next steps, we will look at the data packages, which contain the actual data files. \n",
    "\n",
    "<br>\n",
    "\n",
    "<img src=\"https://www.ncbi.nlm.nih.gov/datasets/docs/v2/images/data-packages.png\" alt=\"data_package\" style=\"width:600px;\" />\n",
    "<br>"
   ]
  },
  {
   "cell_type": "markdown",
   "id": "b1374e2e",
   "metadata": {},
   "source": [
    "Each `datasets` data package type (e.g., `genome`, `gene`, `virus`) has a different file content. You can customize data packages by using the flag `--include` to add or remove files. The image below shows the file types available for each `datasets` data package type. Refer to the [NCBI Datasets Data Package Reference page](https://www.ncbi.nlm.nih.gov/datasets/docs/v2/reference-docs/data-packages/) for more information about each data package type.\n",
    "\n",
    "<br>\n",
    "\n",
    "<img src=\"https://www.ncbi.nlm.nih.gov/datasets/docs/v2/images/data-package-contents-op2.png\" style=\"width:800px;\">"
   ]
  },
  {
   "cell_type": "code",
   "execution_count": null,
   "id": "fa1fd70d",
   "metadata": {},
   "outputs": [],
   "source": [
    "%%bash\n",
    "# Download a genome data package containing all chromosome-level GenBank assemblies for the species Drosophila pseudoobscura\n",
    "\n",
    "datasets download genome taxon 'drosophila pseudoobscura' --assembly-source genbank --assembly-level chromosome --filename pseudoobscura.zip --no-progressbar"
   ]
  },
  {
   "cell_type": "code",
   "execution_count": null,
   "id": "5f57b5e8",
   "metadata": {},
   "outputs": [],
   "source": [
    "%%bash\n",
    "# Unzip to the folder genomes\n",
    "unzip pseudoobscura.zip -d genomes"
   ]
  },
  {
   "cell_type": "code",
   "execution_count": null,
   "id": "f3337168",
   "metadata": {},
   "outputs": [],
   "source": [
    "%%bash\n",
    "# Explore the folder structure of the folder genome with the command tree\n",
    "tree -C genomes/"
   ]
  },
  {
   "cell_type": "code",
   "execution_count": null,
   "id": "9534379f",
   "metadata": {},
   "outputs": [],
   "source": [
    "%%bash\n",
    "# Now download the genomes and gff3 files for all *Drosophila pseudoobscura* genomes annotated by NCBI\n",
    "datasets download genome taxon 'drosophila pseudoobscura' --assembly-source refseq \\\n",
    "    --include genome,gff3 --filename pseudoobscura-rs-gff3.zip --no-progressbar\n",
    "\n",
    "unzip -l pseudoobscura-rs-gff3.zip"
   ]
  },
  {
   "cell_type": "markdown",
   "id": "e65cde84",
   "metadata": {},
   "source": [
    "Note that this is only a single genome! Although there are 10 genomes for Drosophila pseudoobscura, there is only a single genome annotated by NCBI."
   ]
  },
  {
   "cell_type": "markdown",
   "id": "8ebbe477",
   "metadata": {},
   "source": [
    "### Downloading large genome datasets (dehydration/rehydration)"
   ]
  },
  {
   "cell_type": "markdown",
   "id": "b5981621",
   "metadata": {},
   "source": [
    "Now you know how to download genome data for a relatively small number of genomes. But what if you want large amounts of genome data? `datasets` provides a better way to download large genome data packages that takes a few more steps but allows you to resume interrupted downloads. Let's download a dehydrated package and explore the files inside it."
   ]
  },
  {
   "cell_type": "code",
   "execution_count": null,
   "id": "e02745fb",
   "metadata": {},
   "outputs": [],
   "source": [
    "%%bash\n",
    "# Download a dehydrated data package of chromosome-level GenBank assemblies for the species Drosophila pseudoobscura\n",
    "datasets download genome taxon 'drosophila pseudoobscura' --assembly-source genbank --assembly-level chromosome --dehydrated --filename pseudoobscura-dry.zip --no-progressbar"
   ]
  },
  {
   "cell_type": "code",
   "execution_count": null,
   "id": "3679501c",
   "metadata": {},
   "outputs": [],
   "source": [
    "%%bash\n",
    "# Next we have to unzip the dehydrated package\n",
    "unzip -q pseudoobscura-dry.zip -d pseudoobscura-dry\n",
    "# And we'll use tree to visualize the structure of the extracted archive\n",
    "tree -C pseudoobscura-dry"
   ]
  },
  {
   "cell_type": "markdown",
   "id": "dfed02f2",
   "metadata": {},
   "source": [
    "The file `fetch.txt` has a list of files to be \"fetched\" (downloaded) with paths on NCBI servers."
   ]
  },
  {
   "cell_type": "code",
   "execution_count": null,
   "id": "213e2d48",
   "metadata": {},
   "outputs": [],
   "source": [
    "%%bash\n",
    "# Let's get a list of files that are available for download \n",
    "datasets rehydrate --directory pseudoobscura-dry/ --list"
   ]
  },
  {
   "cell_type": "code",
   "execution_count": null,
   "id": "fd238769",
   "metadata": {},
   "outputs": [],
   "source": [
    "%%bash\n",
    "# Now let's rehydrate the package to get the data\n",
    "datasets rehydrate --directory pseudoobscura-dry/ --no-progressbar"
   ]
  },
  {
   "cell_type": "code",
   "execution_count": null,
   "id": "c8a654a3",
   "metadata": {},
   "outputs": [],
   "source": [
    "%%bash\n",
    "# Next we'll view the contents of the directory\n",
    "tree -C pseudoobscura-dry"
   ]
  },
  {
   "cell_type": "markdown",
   "id": "92c031a1",
   "metadata": {},
   "source": [
    "## Part II: Accessing genes <a class=\"anchor\" id=\"Part-II\"></a>\n",
    "### GENES\n",
    "\n",
    "Independent of choosing `datasets download` or `datasets summary`, there are four options for retrieving gene information: `accession`, `gene-id`, `symbol` and `taxon`. \n",
    "\n",
    "\n",
    "<img src=\"https://www.ncbi.nlm.nih.gov/datasets/docs/v2/images/datasets-gene.png\" style=\"width: 700px;\"/>\n"
   ]
  },
  {
   "cell_type": "markdown",
   "id": "5b4d055b",
   "metadata": {},
   "source": [
    "When choosing any of those options, you will retrieve the gene information for the gene annotated on the **reference** genome. Like this:\n",
    "\n",
    "`datasets download gene accession NM_176180.2`  \n",
    "`datasets download gene gene-id 36744`  \n",
    "`datasets download gene symbol cglr1 --taxon 'drosophila melanogaster'`  \n",
    "`datasets download gene taxon 'drosophila melanogaster'`. \n",
    "\n",
    "The first three commands will download the same gene annotated on the (<i>Drosophila melanogaster</i>) <u>reference genome</u>, and the last one will download all genes for that species. \n",
    "\n",
    "- **accession**:  Unique identifier. Accession includes RefSeq RNA and protein accessions. Since it's unique, taxon is implied (aka there will never be two sequences from different taxa with the same accession number).  \n",
    "\n",
    "- **gene-id**:  Also a unique identifier. For example: the gene-id for BRCA1 in human is 672, while the gene-id for domestic cat BRCA1 is 101081937.  \n",
    "\n",
    "- **symbol**: Gene symbols are not unique and can be used multiple times in different taxonomic groups. If using the symbol option, you should specify the species. If no taxon is specified, it is assumed the taxon is human.\n",
    "\n",
    "- **taxon**: Species-level. Retrieves the entire set of RefSeq annotated genes for the specified taxon.  \n",
    "\n",
    "**Remember**  \n",
    "Both `summary` and `download` will return results for the **reference assembly** of a <u>single species</u>. If you want to download a curated set of related genes from multiple taxa, you should use the flag `--ortholog`. We'll talk more about that later. \n",
    "\n",
    "Now let's take a look at a gene example:"
   ]
  },
  {
   "cell_type": "code",
   "execution_count": null,
   "id": "6e2b6fe8",
   "metadata": {},
   "outputs": [],
   "source": [
    "%%bash\n",
    "# Get metadata for a gene by symbol in human \n",
    "datasets summary gene symbol cgas | jq . -C | head -20"
   ]
  },
  {
   "cell_type": "code",
   "execution_count": null,
   "id": "e748073a",
   "metadata": {},
   "outputs": [],
   "source": [
    "%%bash\n",
    "# Get metadata for a gene by symbol in Drosophila melanogaster\n",
    "datasets summary gene symbol cglr1 --taxon 'drosophila melanogaster' | jq -C . \n"
   ]
  },
  {
   "cell_type": "code",
   "execution_count": null,
   "id": "3730f706",
   "metadata": {},
   "outputs": [],
   "source": [
    "%%bash\n",
    "# View select fields of metadata for the same gene\n",
    "datasets summary gene symbol cglr1 --taxon 'drosophila melanogaster' --as-json-lines | \\\n",
    "    dataformat tsv gene --fields tax-name,symbol,description,gene-id,protein-count"
   ]
  },
  {
   "cell_type": "markdown",
   "id": "b96c0cc2",
   "metadata": {},
   "source": [
    "### Downloading gene sequence data \n",
    "We know that there is 1 protein encoded by the Drosophila melanogaster cglr1 gene. Let's see how we can download the protein sequence, and the underlying transcript and gene sequences.\n"
   ]
  },
  {
   "cell_type": "code",
   "execution_count": null,
   "id": "f8679441",
   "metadata": {},
   "outputs": [],
   "source": [
    "%%bash\n",
    "# Download gene, transcript and protein sequences for *Drosophila melanogaster* cglr1.\n",
    "datasets download gene symbol cglr1 --taxon 'drosophila melanogaster' --include gene,rna,protein --filename cglr1.zip --no-progressbar"
   ]
  },
  {
   "cell_type": "code",
   "execution_count": null,
   "id": "dcdb090d",
   "metadata": {},
   "outputs": [],
   "source": [
    "%%bash\n",
    "# Unzip the gene data package\n",
    "unzip cglr1.zip -d cglr1"
   ]
  },
  {
   "cell_type": "code",
   "execution_count": null,
   "id": "dd053ae2",
   "metadata": {},
   "outputs": [],
   "source": [
    "%%bash\n",
    "# Take a look at the FASTA headers for the downloaded sequences\n",
    "head -2 cglr1/ncbi_dataset/data/*.f*"
   ]
  },
  {
   "cell_type": "markdown",
   "id": "06683ea5",
   "metadata": {},
   "source": [
    "### Using orthology data to find genes in related species\n"
   ]
  },
  {
   "cell_type": "code",
   "execution_count": null,
   "id": "91058e44",
   "metadata": {},
   "outputs": [],
   "source": [
    "%%bash\n",
    "# If we try to retrieve metadata information for this gene using the symbol cglr1, what happens?\n",
    "datasets summary gene symbol cglr1 --taxon \"drosophila pseudoobscura\"\n"
   ]
  },
  {
   "cell_type": "markdown",
   "id": "0f9994ed",
   "metadata": {},
   "source": [
    "We can use orthology data to find related genes in other species. "
   ]
  },
  {
   "cell_type": "code",
   "execution_count": null,
   "id": "9bf5045f",
   "metadata": {},
   "outputs": [],
   "source": [
    "%%bash\n",
    "datasets summary gene symbol cglr1 --taxon \"drosophila melanogaster\" --ortholog \"drosophila melanogaster, drosophila pseudoobscura\" --as-json-lines | \\\n",
    "    dataformat tsv gene --fields tax-name,gene-id,description,symbol,group-method,group-id"
   ]
  },
  {
   "cell_type": "code",
   "execution_count": null,
   "id": "e08b9763",
   "metadata": {},
   "outputs": [],
   "source": [
    "%%bash\n",
    "# Download the gene data package for the gene-id 4803562 (ortholog of *cglr1* in Drosophila pseudoobscura)\n",
    "# We want to include the FASTA file with gene sequences, so we will use the flag --include.\n",
    "\n",
    "datasets download gene gene-id 4803562 --filename gene.zip --include gene,protein,rna --no-progressbar\n"
   ]
  },
  {
   "cell_type": "code",
   "execution_count": null,
   "id": "32ff018d",
   "metadata": {},
   "outputs": [],
   "source": [
    "%%bash\n",
    "# Unzip the file\n",
    "unzip gene.zip -d gene"
   ]
  },
  {
   "cell_type": "code",
   "execution_count": null,
   "id": "9ab71ee8",
   "metadata": {},
   "outputs": [],
   "source": [
    "%%bash\n",
    "# Explore the data package structure using tree\n",
    "tree -C gene/"
   ]
  },
  {
   "cell_type": "raw",
   "id": "e9b1a92b-9d85-4f7a-a18f-02b8bdbb8347",
   "metadata": {},
   "source": []
  },
  {
   "cell_type": "markdown",
   "id": "c908cc8b",
   "metadata": {},
   "source": [
    "## Part III: Accessing orthologs <a class=\"anchor\" id=\"Part-III\"></a>\n",
    "\n",
    "### Orthologs\n",
    "\n",
    "Since `datasets` version 14, users can retrieve ortholog information using the flag `--ortholog` with the `gene` subcommand.\n",
    "\n",
    "#### <font color='blue'>Wait, but what is an ortholog set?</font>\n",
    "\n",
    ">An ortholog set, or ortholog gene group, is a group of genes that have been identified by the NCBI genome annotation team as homologous genes that are separated by speciation events. They are identified by a combination of protein similarity + local synteny information. \n",
    "Currently, NCBI has ortholog sets calculated for vertebrates and some insects. \n",
    "\n",
    "\n",
    "#### Examples:\n",
    "\n",
    "`datasets download gene accession NM_176180.2 --ortholog all`  \n",
    "`datasets download gene gene-id 36744 --ortholog all`  \n",
    "`datasets download gene symbol cglr1 --taxon 'drosophila melanogaster' --ortholog all`  \n",
    "\n",
    "All three commands will download the **same** ortholog set (which is the complete set). \n",
    "\n",
    "What if I want to filter the ortholog set to include *only* a taxonomic group of interest?\n",
    "\n"
   ]
  },
  {
   "cell_type": "markdown",
   "id": "3c1ab1db",
   "metadata": {},
   "source": [
    "### Applying a taxonomic filter to the ortholog set\n",
    "\n",
    "When using the `--ortholog` flag, users need to provide an argument for it. The argument should be one or more taxa (any rank) to filter results or 'all' for the complete set.\n",
    "\n",
    "#### Examples\n",
    "\n",
    "- `datasets download gene symbol cglr1 --taxon 'drosophila melanogaster' --ortholog apidae`  \n",
    "Prints a json metadata summary of gene orthologs of the drosophila melanogaster gene cglr1, but only from the family apidae (bees).\n"
   ]
  },
  {
   "cell_type": "markdown",
   "id": "3673c066",
   "metadata": {},
   "source": [
    "#### We are going to follow these steps:\n",
    "- download a gene data package containing orthologs and save it with the name ortholog.zip\n",
    "- unzip it to the folder ortholog\n",
    "- look at some metadata for the genes in the ortholog set\n",
    "- align the protein sequences for the genes in the set"
   ]
  },
  {
   "cell_type": "code",
   "execution_count": null,
   "id": "4040acda",
   "metadata": {},
   "outputs": [],
   "source": [
    "%%bash\n",
    "# download the cglr1 ortholog set for the genus Drosophila (Taxid: 7215)\n",
    "datasets download gene symbol cglr1 --taxon 'drosophila melanogaster' --ortholog apidae,'drosophila melanogaster' --filename ortholog.zip --no-progressbar"
   ]
  },
  {
   "cell_type": "code",
   "execution_count": null,
   "id": "c295a289",
   "metadata": {},
   "outputs": [],
   "source": [
    "%%bash\n",
    "# Unzip it to the folder ortholog\n",
    "unzip ortholog.zip -d ortholog\n"
   ]
  },
  {
   "cell_type": "code",
   "execution_count": null,
   "id": "fc2e19f8",
   "metadata": {},
   "outputs": [],
   "source": [
    "%%bash\n",
    "# Generate a table describing the genes in the ortholog set\n",
    "dataformat tsv gene --inputfile ortholog/ncbi_dataset/data/data_report.jsonl \\\n",
    "--fields tax-name,symbol,gene-id,group-method,group-id | head"
   ]
  },
  {
   "cell_type": "code",
   "execution_count": null,
   "id": "adeea226",
   "metadata": {},
   "outputs": [],
   "source": [
    "%%bash\n",
    "# Update FASTA headers in the protein sequence file to make clustalo output easier to understand\n",
    "sed 's/ /_/g' ortholog/ncbi_dataset/data/protein.faa > renamed.proteins\n",
    "\n",
    "# Run alignment\n",
    "clustalo --infile renamed.proteins --full --outfmt=clu --force"
   ]
  },
  {
   "cell_type": "markdown",
   "id": "ad41374d",
   "metadata": {},
   "source": [
    "## What have we done so far?\n",
    "- Explored metadata for all genomes for the genus Drosophila\n",
    "- Downloaded genomes for the species Drosophila pseudoobscura\n",
    "- Downloaded the *cglr1* gene from *Drosophila melanogastr*\n",
    "- Downloaded the ortholog set for *Drosophila melanogaster* *cglr1*, including orthologs in *Drosophila pseudoobscura* and bees (apidae)"
   ]
  },
  {
   "attachments": {
    "32a2c647-6f78-490b-b77e-db85879010fd.png": {
     "image/png": "[encoded data removed]"
    }
   },
   "cell_type": "markdown",
   "id": "5e489edc",
   "metadata": {},
   "source": [
    "## Links<a class=\"anchor\" id=\"Links\"></a>\n",
    "\n",
    "### NCBI Datasets main resources\n",
    "\n",
    "- NCBI Datasets homepage: [https://www.ncbi.nlm.nih.gov/datasets/](https://www.ncbi.nlm.nih.gov/datasets/)\n",
    "- Github: [https://github.com/ncbi/datasets](https://github.com/ncbi/datasets)\n",
    "\n",
    "\n",
    "### Download and installation instructions (CLI)\n",
    "\n",
    "- Instructions:  \n",
    " [https://www.ncbi.nlm.nih.gov/datasets/docs/v2/download-and-install/](https://www.ncbi.nlm.nih.gov/datasets/docs/v2/download-and-install/)\n",
    "  \n",
    "### Tutorials, how-to guides and past workshops\n",
    " \n",
    "- How-to guides (short, one-line CLI tasks):   \n",
    "[https://www.ncbi.nlm.nih.gov/datasets/docs/v2/how-tos/](https://www.ncbi.nlm.nih.gov/datasets/docs/v2/how-tos/)\n",
    "- Tutorials (multi-task, longer tutorials, mostly based on feedback or questions we get from users): [https://www.ncbi.nlm.nih.gov/datasets/docs/v2/tutorials/](https://www.ncbi.nlm.nih.gov/datasets/docs/v2/tutorials/)\n",
    "- Past training sessions and workshops (Jupyter notebooks used in previous *datasets* training events): [https://github.com/ncbi/datasets/tree/master/training](https://github.com/ncbi/datasets/tree/master/training)\n",
    "\n",
    "### How to get help\n",
    "\n",
    "- Email the helpdesk: [info@ncbi.nlm.nih.gov](mailto:info@ncbi.nlm.nih.gov)\n",
    "- Github: [https://github.com/ncbi/datasets](https://github.com/ncbi/datasets)\n",
    "- Yellow feedback button on our pages\n",
    "\n",
    "![qr-code-github-tagc2024.png](attachment:32a2c647-6f78-490b-b77e-db85879010fd.png)"
   ]
  }
 ],
 "metadata": {
  "kernelspec": {
   "display_name": "Python 3 (ipykernel)",
   "language": "python",
   "name": "python3"
  },
  "language_info": {
   "codemirror_mode": {
    "name": "ipython",
    "version": 3
   },
   "file_extension": ".py",
   "mimetype": "text/x-python",
   "name": "python",
   "nbconvert_exporter": "python",
   "pygments_lexer": "ipython3",
   "version": "3.12.2"
  }
 },
 "nbformat": 4,
 "nbformat_minor": 5
}
