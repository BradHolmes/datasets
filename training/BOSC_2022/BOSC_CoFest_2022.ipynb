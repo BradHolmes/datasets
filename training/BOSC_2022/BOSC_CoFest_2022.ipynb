{
 "cells": [
  {
   "cell_type": "markdown",
   "id": "a17a866f",
   "metadata": {},
   "source": [
    "# NCBI Datasets and ElasticBLAST - BOSC/CoFest (07/15/2022)"
   ]
  },
  {
   "cell_type": "markdown",
   "id": "26f69883",
   "metadata": {},
   "source": [
    "### Table of contents\n",
    "* [Part I: Introduction to NCBI Datasets](#Part-I) \n",
    "* [Part II: Accessing metadata](#Part-II)\n",
    "* [Part III: Accessing genomes](#Part-III)\n",
    "* [Part IV: Accessing genes](#Part-IV)\n",
    "* [Part V: Accessing orthologs](#Part-V)\n",
    "* [Part VI: Using ElasticBLAST and Datasets](#Part-VI)"
   ]
  },
  {
   "cell_type": "markdown",
   "id": "3c2018eb",
   "metadata": {},
   "source": [
    "### Important resources\n",
    "- Etherpad: \n",
    "- Github: \n",
    "- NCBI datasets: https://www.ncbi.nlm.nih.gov/datasets/\n",
    "- ElasticBLAST: \n",
    "- jq cheat sheet: "
   ]
  },
  {
   "cell_type": "markdown",
   "id": "b8805d73",
   "metadata": {},
   "source": [
    "## Case study: Elmo loves ants\n",
    "\n",
    "Elmo is a graduate student at the Via Sesamum University. As part of his Ph.D. project, he studies Panamanian leaf cutter ants (genus *Acromyrmex*, family Formicidae) and how variation in the gene *orco* (**o**dorant **r**eceptor **co**receptor) affects the colonies of this genus.\n",
    "\n",
    "(here's the [link](https://www.ncbi.nlm.nih.gov/labs/pmc/articles/PMC5556950/) to a cool paper talking about this gene in ants of the species *Ooceraea biroi*)."
   ]
  },
  {
   "cell_type": "markdown",
   "id": "fb672e02",
   "metadata": {},
   "source": [
    "Elmo will use `datasets` to help him gather the existing genomic resources from NCBI. He will:\n",
    "\n",
    "- download all available genomes for the genus *Acromyrmex*\n",
    "- download the *orco* gene from the *Acromyrmex* reference genome\n",
    "- download the ortholog set for this gene for all ants (Formicidae)\n",
    "\n",
    "In addition, he will use `BLAST` and `ElasticBLAST` to do the following tasks:\n",
    "- Download the NCBI taxonomy database \n",
    "- Create a custom BLAST database with taxonomy information\n",
    "- Prepare an ElasticBLAST search on the cloud\n",
    "- Submit an ElasticBLAST search, download and visualize the results\n",
    "- Cleanup after the search is done\n"
   ]
  },
  {
   "cell_type": "markdown",
   "id": "d60a05cb",
   "metadata": {},
   "source": [
    "## Part I: Introduction to NCBI Datasets<a class=\"anchor\" id=\"Part-I\"></a>"
   ]
  },
  {
   "cell_type": "markdown",
   "id": "8b785d5b",
   "metadata": {},
   "source": [
    "### How is `datasets` organized?\n",
    "\n",
    "[NCBI datasets](https://www.ncbi.nlm.nih.gov/datasets/docs/v1/download-and-install/) is a command line tool that allows users to download data packages (data + metadata) or look at metadata summaries for genomes, RefSeq annotated genes, curated ortholog sets and SARS-Cov-2 virus sequences and proteins. The program follows a hierarchy that makes it easier for users to select exact which options they would like to use. In addition to the program commands, additional flags are available for filtering the results. We will go over those during this tutorial.\n",
    "<img src=\"https://www.ncbi.nlm.nih.gov/datasets/docs/v1/datasets_schema_complete.svg\" alt=\"datasets\" style=\"width: 800px;\"/>"
   ]
  },
  {
   "cell_type": "markdown",
   "id": "54d048ca",
   "metadata": {},
   "source": [
    "In addition to `datasets`, we will be using `jq` (JSON parser) to take a look at the metadata information. Our metadata reports are almost all in JSON or [JSON Lines](https://jsonlines.org/) format. We put together a [jq cheat sheet]( https://github.com/ncbi/datasets/blob/workshop-cshl-2021/training/cshl-2021/jq_cheatsheet.md) to help you extract information from those files.  "
   ]
  },
  {
   "cell_type": "markdown",
   "id": "c7f190f7",
   "metadata": {},
   "source": [
    "For example: if I want to download the cat reference genome (<i>Felis catus</i>), I would use the command below:"
   ]
  },
  {
   "cell_type": "code",
   "execution_count": 11,
   "id": "2e1c62b3",
   "metadata": {},
   "outputs": [
    {
     "name": "stdout",
     "output_type": "stream",
     "text": [
      "Archive:  dmel_ref.zip\n",
      "  inflating: dmel/README.md          \n",
      "  inflating: dmel/ncbi_dataset/data/assembly_data_report.jsonl  \n",
      "  inflating: dmel/ncbi_dataset/data/GCF_000001215.4/chrX.fna  \n",
      "  inflating: dmel/ncbi_dataset/data/GCF_000001215.4/chrX.unlocalized.scaf.fna  \n",
      "  inflating: dmel/ncbi_dataset/data/GCF_000001215.4/chr2L.fna  \n",
      "  inflating: dmel/ncbi_dataset/data/GCF_000001215.4/chr2R.fna  \n",
      "  inflating: dmel/ncbi_dataset/data/GCF_000001215.4/chr3L.fna  \n",
      "  inflating: dmel/ncbi_dataset/data/GCF_000001215.4/chr3R.fna  \n",
      "  inflating: dmel/ncbi_dataset/data/GCF_000001215.4/chr4.fna  \n",
      "  inflating: dmel/ncbi_dataset/data/GCF_000001215.4/chrY.fna  \n",
      "  inflating: dmel/ncbi_dataset/data/GCF_000001215.4/chrY.unlocalized.scaf.fna  \n",
      "  inflating: dmel/ncbi_dataset/data/GCF_000001215.4/unplaced.scaf.fna  \n",
      "  inflating: dmel/ncbi_dataset/data/GCF_000001215.4/chrMT.fna  \n",
      "  inflating: dmel/ncbi_dataset/data/GCF_000001215.4/genomic.gff  \n",
      "  inflating: dmel/ncbi_dataset/data/GCF_000001215.4/protein.faa  \n",
      "  inflating: dmel/ncbi_dataset/data/GCF_000001215.4/rna.fna  \n",
      "  inflating: dmel/ncbi_dataset/data/GCF_000001215.4/cds_from_genomic.fna  \n",
      "  inflating: dmel/ncbi_dataset/data/GCF_000001215.4/sequence_report.jsonl  \n",
      "  inflating: dmel/ncbi_dataset/data/dataset_catalog.json  \n"
     ]
    }
   ],
   "source": [
    "%%bash\n",
    "#Download and unzip the data package for D. melanogaster (taxid 7227) reference genome, \n",
    "#with associated annotation files and metadata\n",
    "\n",
    "datasets download genome taxon 7227 --reference --no-progressbar --filename dmel_ref.zip\n",
    "unzip dmel_ref.zip -d dmel"
   ]
  },
  {
   "cell_type": "markdown",
   "id": "7c7bdc70",
   "metadata": {},
   "source": [
    "Instead of downloading a data package, I could instead look at the metadata information by using the `summary`command. Here, I'm pipping it to [`jq`](https://stedolan.github.io/jq/) so it's easier to read:"
   ]
  },
  {
   "cell_type": "code",
   "execution_count": null,
   "id": "42a87f34",
   "metadata": {},
   "outputs": [],
   "source": [
    "%%bash\n",
    "#Check the metadata information for the Dmel reference genome\n",
    "\n",
    "datasets summary genome taxon 7227 --reference | jq ."
   ]
  },
  {
   "cell_type": "markdown",
   "id": "cd1ac2d9",
   "metadata": {},
   "source": [
    "### Data packages"
   ]
  },
  {
   "cell_type": "markdown",
   "id": "d66b33f7",
   "metadata": {},
   "source": [
    "NCBI Datasets delivers data as <u>data packages</u>, which which are zip archives containing both data (FASTA, GFF3, GTF, GBFF) and metadata files (JSON, JSON-Lines). The image below shows the contents of the genome data package. Files are included depending on their availability. For example: for an annotated genome, the data package would include FASTA files (genomic, transcript, protein and CDS sequences) and annotation files (GFF3, GTF and GBFF).\n",
    "\n",
    "\n",
    "<img src=\"./images/genome_data_package.png\" alt=\"data_package\" />"
   ]
  },
  {
   "cell_type": "markdown",
   "id": "ed84aedf",
   "metadata": {},
   "source": [
    "### How to get help when using the command line\n",
    "\n",
    "Since `datasets` is a very hierarchical program, we can use that characteristic to our advantage to get very specific help.   For example: if we type `datasets --help`, we will see the first level of commands available.\n"
   ]
  },
  {
   "cell_type": "code",
   "execution_count": 12,
   "id": "d219e750",
   "metadata": {},
   "outputs": [
    {
     "name": "stdout",
     "output_type": "stream",
     "text": [
      "datasets is a command-line tool that is used to query and download biological sequence data\n",
      "across all domains of life from NCBI databases.\n",
      "\n",
      "Refer to NCBI's [download and install](https://www.ncbi.nlm.nih.gov/datasets/docs/download-and-install/) documentation for information about getting started with the command-line tools.\n",
      "\n",
      "Usage\n",
      "  datasets [command]\n",
      "\n",
      "Data Retrieval Commands\n",
      "  summary              print a summary of a gene or genome dataset\n",
      "  download             download a gene, genome or coronavirus dataset as a zip file\n",
      "  rehydrate            rehydrate a downloaded, dehydrated dataset\n",
      "\n",
      "Miscellaneous Commands\n",
      "  completion           generate autocompletion scripts\n",
      "  version              print the version of this client and exit\n",
      "  help                 Help about any command\n",
      "\n",
      "Flags\n",
      "      --api-key string   NCBI Datasets API Key\n",
      "  -h, --help             help for datasets\n",
      "      --no-progressbar   hide progress bar\n",
      "\n",
      "Use datasets help <command> for detailed help about a command.\n"
     ]
    }
   ],
   "source": [
    "%%bash\n",
    "datasets --help"
   ]
  },
  {
   "cell_type": "markdown",
   "id": "db05f935",
   "metadata": {},
   "source": [
    "Notice the difference from when we type `datasets summary genome taxon formicidae --help`  \n"
   ]
  },
  {
   "cell_type": "code",
   "execution_count": 13,
   "id": "a09930dd",
   "metadata": {},
   "outputs": [
    {
     "name": "stdout",
     "output_type": "stream",
     "text": [
      "\n",
      "Print a summary of a genome dataset by taxon (NCBI Taxonomy ID, scientific or common name at any tax rank). The summary is returned in JSON format.\n",
      "\n",
      "Refer to NCBI's [download and install](https://www.ncbi.nlm.nih.gov/datasets/docs/download-and-install/) documentation for information about getting started with the command-line tools.\n",
      "\n",
      "Usage\n",
      "  datasets summary genome taxon [flags]\n",
      "\n",
      "Examples\n",
      "  datasets summary genome taxon human\n",
      "  datasets summary genome taxon \"mus musculus\"\n",
      "  datasets summary genome taxon 10116\n",
      "\n",
      "Flags\n",
      "  -h, --help              help for taxon\n",
      "      --tax-exact-match   exclude sub-species when a species-level taxon is specified\n",
      "\n",
      "\n",
      "Global Flags\n",
      "  -a, --annotated                only include genomes with annotation\n",
      "      --api-key string           NCBI Datasets API Key\n",
      "      --as-json-lines            Stream results as newline delimited JSON-Lines\n",
      "      --assembly-level string    restrict assemblies to a comma-separated list of one or more of: chromosome, complete_genome, contig, scaffold\n",
      "      --assembly-source string   restrict assemblies to refseq or genbank only\n",
      "      --assmaccs                 return only assembly accessions\n",
      "      --limit string             limit the number of genome summaries returned\n",
      "                                 * \"all\": returns all matching genome summaries\n",
      "                                 * \"none\": returns only the number of matching genome summaries\n",
      "                                 * a number: returns the specified number of matching genome summaries\n",
      "                                  (default \"all\")\n",
      "      --no-progressbar           hide progress bar\n",
      "      --reference                limit to reference and representative (GCF_ and GCA_) assemblies\n",
      "      --released-before string   only include genomes that have been released before a specified date (MM/DD/YYYY)\n",
      "      --released-since string    only include genomes that have been released after a specified date (MM/DD/YYYY)\n",
      "      --search strings           only include genomes that have the specified text in the\n",
      "                                 searchable fields: species and infraspecies, assembly name and submitter\n",
      "                                 To provide multiple strings '--search' can be included multiple times\n",
      "\n"
     ]
    }
   ],
   "source": [
    "%%bash\n",
    "datasets summary genome taxon carnivora --help"
   ]
  },
  {
   "cell_type": "markdown",
   "id": "75ad66b3",
   "metadata": {},
   "source": [
    "## Part II: Accessing metadata<a class=\"anchor\" id=\"Part-II\"></a>\n",
    "\n",
    "For example, let's figure out what kind of genome information NCBI has for red pandas (family Ailuridae)."
   ]
  },
  {
   "cell_type": "code",
   "execution_count": 7,
   "id": "076161ca",
   "metadata": {},
   "outputs": [
    {
     "name": "stdout",
     "output_type": "stream",
     "text": [
      "{\"assemblies\": [{\"assembly\": {\"assembly_accession\":\"GCA_002007465.1\",\"assembly_category\":\"representative genome\",\"assembly_level\":\"Scaffold\",\"bioproject_lineages\":[{\"bioprojects\":[{\"accession\":\"PRJNA298932\",\"title\":\"Ailurus fulgens styani isolate:RP43 Genome sequencing and assembly\"}]}],\"biosample\":{\"accession\":\"SAMN04169031\",\"attributes\":[{\"name\":\"isolate\",\"value\":\"RP43\"},{\"name\":\"dev_stage\",\"value\":\"adult\"},{\"name\":\"sex\",\"value\":\"male\"},{\"name\":\"tissue\",\"value\":\"blood\"},{\"name\":\"sub_species\",\"value\":\"styani\"}],\"bioprojects\":[{\"accession\":\"PRJNA298932\"}],\"description\":{\"comment\":\"genome sequencing and assembly of Ailurus fulgens\",\"organism\":{\"organism_name\":\"Ailurus fulgens styani\",\"tax_id\":424585},\"title\":\"Model organism or animal sample from Ailurus fulgens styani\"},\"last_updated\":\"2017-03-01T06:37:46.067\",\"models\":[\"Model organism or animal\"],\"owner\":{\"contacts\":[{}],\"name\":\"Institute of Zoology, Chinese Academy of Sciences\"},\"package\":\"Model.organism.animal.1.0\",\"publication_date\":\"2017-03-01T06:37:46.067\",\"sample_ids\":[{\"label\":\"Sample name\",\"value\":\"Generic sample from Ailurus fulgens\"},{\"db\":\"SRA\",\"value\":\"SRS1118261\"}],\"status\":{\"status\":\"live\",\"when\":\"2017-03-01T06:37:46.067\"},\"submission_date\":\"2015-10-15T21:52:03.607\"},\"biosample_accession\":\"SAMN04169031\",\"blast_url\":\"https://blast.ncbi.nlm.nih.gov/Blast.cgi?PAGE_TYPE=BlastSearch\\u0026PROG_DEF=blastn\\u0026BLAST_SPEC=GDH_GCA_002007465.1\",\"chromosomes\":[{\"gc_count\":\"960441638\",\"length\":\"2342939051\",\"name\":\"Un\"}],\"contig_n50\":99577,\"display_name\":\"ASM200746v1\",\"estimated_size\":\"733931525\",\"gc_count\":\"960441638\",\"org\":{\"assembly_counts\":{\"node\":1,\"subtree\":1},\"isolate\":\"RP43\",\"key\":\"424585\",\"parent_tax_id\":\"9648\",\"rank\":\"SPECIES\",\"sci_name\":\"Ailurus styani\",\"sex\":\"male\",\"tax_id\":\"424585\",\"title\":\"Ailurus styani\"},\"seq_length\":\"2342939051\",\"submission_date\":\"2017-02-28\",\"submitter\":\"Institute of Zoology, Chinese Academy of Sciences\"}}],\"total_count\": 1}\n"
     ]
    }
   ],
   "source": [
    "%%bash\n",
    "# Get metadata info\n",
    "\n",
    "datasets summary genome taxon ailuridae"
   ]
  },
  {
   "cell_type": "code",
   "execution_count": 8,
   "id": "9f1c4ea3",
   "metadata": {},
   "outputs": [],
   "source": [
    "%%bash\n",
    "# Get metadata info and save to a file\n",
    "\n",
    "datasets summary genome taxon ailuridae > ailuridae_summary.json"
   ]
  },
  {
   "cell_type": "markdown",
   "id": "dd676b9b",
   "metadata": {},
   "source": [
    "**Now let's take a look at the metadata using jq**"
   ]
  },
  {
   "cell_type": "code",
   "execution_count": 9,
   "id": "4206d799",
   "metadata": {},
   "outputs": [
    {
     "name": "stdout",
     "output_type": "stream",
     "text": [
      "{\n",
      "  \"assemblies\": [\n",
      "    {\n",
      "      \"assembly\": {\n",
      "        \"assembly_accession\": \"GCA_002007465.1\",\n",
      "        \"assembly_category\": \"representative genome\",\n",
      "        \"assembly_level\": \"Scaffold\",\n",
      "        \"bioproject_lineages\": [\n",
      "          {\n",
      "            \"bioprojects\": [\n",
      "              {\n",
      "                \"accession\": \"PRJNA298932\",\n",
      "                \"title\": \"Ailurus fulgens styani isolate:RP43 Genome sequencing and assembly\"\n",
      "              }\n",
      "            ]\n",
      "          }\n",
      "        ],\n",
      "        \"biosample\": {\n",
      "          \"accession\": \"SAMN04169031\",\n",
      "          \"attributes\": [\n",
      "            {\n",
      "              \"name\": \"isolate\",\n",
      "              \"value\": \"RP43\"\n",
      "            },\n",
      "            {\n",
      "              \"name\": \"dev_stage\",\n",
      "              \"value\": \"adult\"\n",
      "            },\n",
      "            {\n",
      "              \"name\": \"sex\",\n",
      "              \"value\": \"male\"\n",
      "            },\n",
      "            {\n",
      "              \"name\": \"tissue\",\n",
      "              \"value\": \"blood\"\n",
      "            },\n",
      "            {\n",
      "              \"name\": \"sub_species\",\n",
      "              \"value\": \"styani\"\n",
      "            }\n",
      "          ],\n",
      "          \"bioprojects\": [\n",
      "            {\n",
      "              \"accession\": \"PRJNA298932\"\n",
      "            }\n",
      "          ],\n",
      "          \"description\": {\n",
      "            \"comment\": \"genome sequencing and assembly of Ailurus fulgens\",\n",
      "            \"organism\": {\n",
      "              \"organism_name\": \"Ailurus fulgens styani\",\n",
      "              \"tax_id\": 424585\n",
      "            },\n",
      "            \"title\": \"Model organism or animal sample from Ailurus fulgens styani\"\n",
      "          },\n",
      "          \"last_updated\": \"2017-03-01T06:37:46.067\",\n",
      "          \"models\": [\n",
      "            \"Model organism or animal\"\n",
      "          ],\n",
      "          \"owner\": {\n",
      "            \"contacts\": [\n",
      "              {}\n",
      "            ],\n",
      "            \"name\": \"Institute of Zoology, Chinese Academy of Sciences\"\n",
      "          },\n",
      "          \"package\": \"Model.organism.animal.1.0\",\n",
      "          \"publication_date\": \"2017-03-01T06:37:46.067\",\n",
      "          \"sample_ids\": [\n",
      "            {\n",
      "              \"label\": \"Sample name\",\n",
      "              \"value\": \"Generic sample from Ailurus fulgens\"\n",
      "            },\n",
      "            {\n",
      "              \"db\": \"SRA\",\n",
      "              \"value\": \"SRS1118261\"\n",
      "            }\n",
      "          ],\n",
      "          \"status\": {\n",
      "            \"status\": \"live\",\n",
      "            \"when\": \"2017-03-01T06:37:46.067\"\n",
      "          },\n",
      "          \"submission_date\": \"2015-10-15T21:52:03.607\"\n",
      "        },\n",
      "        \"biosample_accession\": \"SAMN04169031\",\n",
      "        \"blast_url\": \"https://blast.ncbi.nlm.nih.gov/Blast.cgi?PAGE_TYPE=BlastSearch&PROG_DEF=blastn&BLAST_SPEC=GDH_GCA_002007465.1\",\n",
      "        \"chromosomes\": [\n",
      "          {\n",
      "            \"gc_count\": \"960441638\",\n",
      "            \"length\": \"2342939051\",\n",
      "            \"name\": \"Un\"\n",
      "          }\n",
      "        ],\n",
      "        \"contig_n50\": 99577,\n",
      "        \"display_name\": \"ASM200746v1\",\n",
      "        \"estimated_size\": \"733931525\",\n",
      "        \"gc_count\": \"960441638\",\n",
      "        \"org\": {\n",
      "          \"assembly_counts\": {\n",
      "            \"node\": 1,\n",
      "            \"subtree\": 1\n",
      "          },\n",
      "          \"isolate\": \"RP43\",\n",
      "          \"key\": \"424585\",\n",
      "          \"parent_tax_id\": \"9648\",\n",
      "          \"rank\": \"SPECIES\",\n",
      "          \"sci_name\": \"Ailurus styani\",\n",
      "          \"sex\": \"male\",\n",
      "          \"tax_id\": \"424585\",\n",
      "          \"title\": \"Ailurus styani\"\n",
      "        },\n",
      "        \"seq_length\": \"2342939051\",\n",
      "        \"submission_date\": \"2017-02-28\",\n",
      "        \"submitter\": \"Institute of Zoology, Chinese Academy of Sciences\"\n",
      "      }\n",
      "    }\n",
      "  ],\n",
      "  \"total_count\": 1\n",
      "}\n"
     ]
    }
   ],
   "source": [
    "%%bash\n",
    "\n",
    "datasets summary genome taxon ailuridae | jq . "
   ]
  },
  {
   "cell_type": "markdown",
   "id": "69593277",
   "metadata": {},
   "source": [
    "**EXERCISE**: Now it's your turn. Choose a taxon (or genome accession) of your interest and use `datasets` to take a quick look at the metadata. Do you see anything interesting?"
   ]
  },
  {
   "cell_type": "code",
   "execution_count": null,
   "id": "fc142d50",
   "metadata": {},
   "outputs": [],
   "source": [
    "%%bash\n",
    "# Get metadata info for \n",
    "\n"
   ]
  },
  {
   "cell_type": "markdown",
   "id": "0c98b353",
   "metadata": {},
   "source": [
    "### A little bit more about json files\n",
    "A JSON (JavaScript Object Notation) file stores data structures and objects. In a very simplified (and non-technical) way, a JSON file is a box, that might contain other boxes with more boxes inside. In `datasets summary genome` our JSON \"box\" is organized like this:\n",
    "<img src=\"./images/json8.png\" alt=\"image\"/>"
   ]
  },
  {
   "cell_type": "markdown",
   "id": "bec22061",
   "metadata": {},
   "source": [
    "But let's explore the \"boxes\" in stages, so we can understand how everything is organized and how we can use this knowledge to extract information from the summary metadata file. At the first level, we have this: \n",
    "```\n",
    "{\n",
    " assemblies[\n",
    "      assembly{},\n",
    "      assembly{},\n",
    " ],\n",
    " total_count\n",
    "}\n",
    "```\n",
    "<img src=\"./images/json1.png\" />"
   ]
  },
  {
   "cell_type": "markdown",
   "id": "df8dc57c",
   "metadata": {},
   "source": [
    "If we want to look at the value in the field \"total_count\", here's the command we would use:"
   ]
  },
  {
   "cell_type": "code",
   "execution_count": 17,
   "id": "16dcb31e",
   "metadata": {},
   "outputs": [
    {
     "name": "stdout",
     "output_type": "stream",
     "text": [
      "5\n"
     ]
    }
   ],
   "source": [
    "%%bash\n",
    "datasets summary genome taxon herpestidae | jq '.total_count'"
   ]
  },
  {
   "cell_type": "markdown",
   "id": "648dbd10",
   "metadata": {},
   "source": [
    "If we continue to expand each one of those assembly boxes, more levels of the hierarchy will be revealed. Let's expand each assembly and look at what information we can find at that level.  \n",
    "\n",
    "<img src=\"./images/json2a.png\" alt=\"image\"/>"
   ]
  },
  {
   "cell_type": "markdown",
   "id": "3332c595",
   "metadata": {},
   "source": [
    "Here we can see that some of the assembly information, such as assembly accession number, contig N50 or submission date are not included inside any of the available \"boxes\" (annotation_metadata, chromosomes, bioproject_lineage, and org). Those fields describe assembly features/characteristics that pertain to the entire assembly, and not only any of those boxes available. What are the contig n50 values of those assemblies?\n",
    "\n",
    "To retrieve that information, we need to call each box, starting from the largest one, until the field we're interested in. And each level is separated from the next by a period (.). \n",
    "\n",
    "<img src=\"./images/json3.png\" />"
   ]
  },
  {
   "cell_type": "code",
   "execution_count": 18,
   "id": "bf818971",
   "metadata": {},
   "outputs": [
    {
     "name": "stdout",
     "output_type": "stream",
     "text": [
      "113567\n",
      "180702\n",
      "75409\n",
      "148487\n",
      "75409\n"
     ]
    }
   ],
   "source": [
    "%%bash\n",
    "datasets summary genome taxon herpestidae | jq '.assemblies[].assembly.contig_n50'"
   ]
  },
  {
   "cell_type": "markdown",
   "id": "c4998eb9",
   "metadata": {},
   "source": [
    "Now let's see what we have inside `annotation_metadata`, `bioproject_lineages`, `org` and `chromosomes`. \n",
    "<img src=\"./images/json8.png\" alt=\"image\"/>"
   ]
  },
  {
   "cell_type": "markdown",
   "id": "e4d84d63",
   "metadata": {},
   "source": [
    "Now let's see how we can retrieve the scientific names associated with those assemblies.\n",
    "<img src=\"./images/json4.png\" />"
   ]
  },
  {
   "cell_type": "code",
   "execution_count": 19,
   "id": "d4e19c50",
   "metadata": {},
   "outputs": [
    {
     "name": "stdout",
     "output_type": "stream",
     "text": [
      "\"Helogale parvula\"\n",
      "\"Mungos mungo\"\n",
      "\"Suricata suricatta\"\n",
      "\"Suricata suricatta\"\n",
      "\"Suricata suricatta\"\n"
     ]
    }
   ],
   "source": [
    "%%bash\n",
    "datasets summary genome taxon herpestidae | jq '.assemblies[].assembly.org.sci_name'"
   ]
  },
  {
   "cell_type": "markdown",
   "id": "7cb3fd67",
   "metadata": {},
   "source": [
    "As you can see, `jq` is very useful in retrieving information from the summary metadata *as long as* you know the path to find it. Let's try a few more complex examples.\n",
    "<img src=\"./images/json5.png\" />"
   ]
  },
  {
   "cell_type": "markdown",
   "id": "5a7bb1f1",
   "metadata": {},
   "source": [
    "First, let's retrieve information from three fields at the same time: scientific name (`sci_name`), assembly accession number (`assembly_accession`) and contig N50 (`contig_n50`)."
   ]
  },
  {
   "cell_type": "code",
   "execution_count": 20,
   "id": "0804f4ca",
   "metadata": {},
   "outputs": [
    {
     "name": "stdout",
     "output_type": "stream",
     "text": [
      "\"Helogale parvula\"\n",
      "\"GCA_004023845.1\"\n",
      "113567\n",
      "\"Mungos mungo\"\n",
      "\"GCA_004023785.1\"\n",
      "180702\n",
      "\"Suricata suricatta\"\n",
      "\"GCF_006229205.1\"\n",
      "75409\n",
      "\"Suricata suricatta\"\n",
      "\"GCA_004023905.1\"\n",
      "148487\n",
      "\"Suricata suricatta\"\n",
      "\"GCA_006229205.1\"\n",
      "75409\n"
     ]
    }
   ],
   "source": [
    "%%bash\n",
    "datasets summary genome taxon herpestidae | jq '.assemblies[].assembly | (.org.sci_name, .assembly_accession, .contig_n50)'"
   ]
  },
  {
   "cell_type": "markdown",
   "id": "d98060ff",
   "metadata": {},
   "source": [
    "Since all three fields are inside the `.assemblies[].assembly`, we can call the first part of the path once and use a pipe (|) to call each specific field. \n",
    "Now let's try to make this a little easier to read. We can create new fields and assign values to them, like this:"
   ]
  },
  {
   "cell_type": "code",
   "execution_count": 21,
   "id": "2237df0b",
   "metadata": {},
   "outputs": [
    {
     "name": "stdout",
     "output_type": "stream",
     "text": [
      "{\n",
      "  \"species\": \"Helogale parvula\",\n",
      "  \"accession\": \"GCA_004023845.1\",\n",
      "  \"contigN50\": 113567\n",
      "}\n",
      "{\n",
      "  \"species\": \"Mungos mungo\",\n",
      "  \"accession\": \"GCA_004023785.1\",\n",
      "  \"contigN50\": 180702\n",
      "}\n",
      "{\n",
      "  \"species\": \"Suricata suricatta\",\n",
      "  \"accession\": \"GCF_006229205.1\",\n",
      "  \"contigN50\": 75409\n",
      "}\n",
      "{\n",
      "  \"species\": \"Suricata suricatta\",\n",
      "  \"accession\": \"GCA_004023905.1\",\n",
      "  \"contigN50\": 148487\n",
      "}\n",
      "{\n",
      "  \"species\": \"Suricata suricatta\",\n",
      "  \"accession\": \"GCA_006229205.1\",\n",
      "  \"contigN50\": 75409\n",
      "}\n"
     ]
    }
   ],
   "source": [
    "%%bash\n",
    "datasets summary genome taxon herpestidae | jq '.assemblies[].assembly \n",
    "| {species: .org.sci_name, accession: .assembly_accession, contigN50:.contig_n50}'"
   ]
  },
  {
   "cell_type": "markdown",
   "id": "7a6fe95c",
   "metadata": {},
   "source": [
    "**Last one**: let's look at a larger collection of genome assemblies (let's say, all Carnivora) and select only those assemblies with contig N50 larger than 15 Mb (15000000 bp). `datasets` provides many options for filtering, but there is no built-in filter for contig N50 size.  \n",
    "\n",
    "Here's what we want to see: assembly accession number, species and assembly level for those genomes with contig N50 above 15 Mb."
   ]
  },
  {
   "cell_type": "code",
   "execution_count": 22,
   "id": "3f2a71f4",
   "metadata": {},
   "outputs": [
    {
     "name": "stdout",
     "output_type": "stream",
     "text": [
      "GCA_905319855.2\tCanis lupus\tChromosome\n",
      "GCF_012295265.1\tCanis lupus dingo\tChromosome\n",
      "GCA_012295265.2\tCanis lupus dingo\tChromosome\n",
      "GCA_003254725.2\tCanis lupus dingo\tChromosome\n",
      "GCF_000002285.5\tCanis lupus familiaris\tChromosome\n",
      "GCA_000002285.4\tCanis lupus familiaris\tChromosome\n",
      "GCA_008641055.3\tCanis lupus familiaris\tChromosome\n",
      "GCA_013276365.2\tCanis lupus familiaris\tChromosome\n",
      "GCF_018350175.1\tFelis catus\tChromosome\n",
      "GCA_000181335.5\tFelis catus\tChromosome\n",
      "GCA_013340865.1\tFelis catus\tContig\n",
      "GCA_016509815.2\tFelis catus\tChromosome\n",
      "GCA_018350175.1\tFelis catus\tChromosome\n",
      "GCA_019924945.1\tFelis chaus\tChromosome\n",
      "GCF_018350155.1\tLeopardus geoffroyi\tChromosome\n",
      "GCA_018350155.1\tLeopardus geoffroyi\tChromosome\n",
      "GCF_902655055.1\tLutra lutra\tChromosome\n",
      "GCA_902655055.2\tLutra lutra\tChromosome\n",
      "GCF_022079265.1\tLynx rufus\tScaffold\n",
      "GCA_022079265.1\tLynx rufus\tScaffold\n",
      "GCF_922984935.1\tMeles meles\tChromosome\n",
      "GCA_922984935.2\tMeles meles\tChromosome\n",
      "GCA_922990625.1\tMeles meles\tScaffold\n",
      "GCF_009829155.1\tMustela erminea\tChromosome\n",
      "GCA_009829155.1\tMustela erminea\tChromosome\n",
      "GCF_011764305.1\tMustela putorius furo\tContig\n",
      "GCA_009859125.1\tMustela putorius furo\tContig\n",
      "GCA_009859175.1\tMustela putorius furo\tContig\n",
      "GCA_009859215.1\tMustela putorius furo\tContig\n",
      "GCA_009859225.1\tMustela putorius furo\tContig\n",
      "GCA_009859235.1\tMustela putorius furo\tContig\n",
      "GCA_009859245.1\tMustela putorius furo\tContig\n",
      "GCA_009859265.1\tMustela putorius furo\tContig\n",
      "GCA_010015535.1\tMustela putorius furo\tContig\n",
      "GCA_010367565.1\tMustela putorius furo\tContig\n",
      "GCA_010367575.1\tMustela putorius furo\tContig\n",
      "GCA_011764305.2\tMustela putorius furo\tContig\n",
      "GCF_020171115.1\tNeogale vison\tChromosome\n",
      "GCA_020171115.1\tNeogale vison\tChromosome\n",
      "GCA_905146905.1\tNyctereutes procyonoides\tScaffold\n",
      "GCF_018350215.1\tPanthera leo\tChromosome\n",
      "GCA_018350215.1\tPanthera leo\tChromosome\n",
      "GCF_018350195.1\tPanthera tigris\tChromosome\n",
      "GCA_018350195.2\tPanthera tigris\tChromosome\n",
      "GCF_016509475.1\tPrionailurus bengalensis\tChromosome\n",
      "GCA_016509475.2\tPrionailurus bengalensis\tChromosome\n",
      "GCF_022837055.1\tPrionailurus viverrinus\tChromosome\n",
      "GCA_022837055.1\tPrionailurus viverrinus\tChromosome\n",
      "GCA_023159085.1\tSpilogale interrupta\tContig\n",
      "GCF_023065955.1\tUrsus arctos\tScaffold\n",
      "GCA_023065955.1\tUrsus arctos\tScaffold\n",
      "GCF_018345385.1\tVulpes lagopus\tChromosome\n",
      "GCA_018345385.1\tVulpes lagopus\tChromosome\n",
      "GCF_009762305.2\tZalophus californianus\tChromosome\n",
      "GCA_009762305.2\tZalophus californianus\tChromosome\n"
     ]
    }
   ],
   "source": [
    "%%bash\n",
    "datasets summary genome taxon carnivora | jq -r '.assemblies[].assembly \n",
    "| select(.contig_n50 > 15000000) \n",
    "| [.assembly_accession, .org.sci_name, .assembly_level] \n",
    "| @tsv'"
   ]
  },
  {
   "cell_type": "markdown",
   "id": "64bd7499",
   "metadata": {},
   "source": [
    "**RESOURCE:**  \n",
    "We included a list of all fields in the genome summary in our [jq cheatsheet](https://github.com/ncbi/datasets/blob/workshop-cshl-2021/training/cshl-2021/jq_cheatsheet.md) to help you extract the information you need. And we will show you now how to do that. "
   ]
  },
  {
   "cell_type": "markdown",
   "id": "5ee7026d",
   "metadata": {},
   "source": [
    "## Part III: Accessing genomes<a class=\"anchor\" id=\"Part-III\"></a>"
   ]
  },
  {
   "cell_type": "markdown",
   "id": "c2ddc64b",
   "metadata": {},
   "source": [
    "Independent of choosing `datasets download` or `datasets summary`, there are two options for retrieving genome information:\n",
    "- accession (assembly accession and version)\n",
    "- taxon (common name, scientific name or NCBI taxon-ID at any taxonomic level)\n",
    "\n",
    "Additional flags, such as `--assembly-source`, `--reference` or `--annotated`, will help narrow down to the genomes of interest.\n",
    "\n",
    "`datasets download genome accession GCF_018350175.1`  \n",
    "`datasets download genome taxon cat --reference`  \n",
    "\n",
    "Both commands will download the same genome package: cat (<i>Felis catus</i>) <u>reference genome</u>. "
   ]
  },
  {
   "cell_type": "markdown",
   "id": "2f550f75",
   "metadata": {},
   "source": [
    "### Let's continue to explore the available genomes for the family Formicidae"
   ]
  },
  {
   "cell_type": "markdown",
   "id": "87806b8c",
   "metadata": {},
   "source": [
    "For this part, we will use two UNIX commands: `sort` and `uniq`. \n",
    "\n",
    "- `sort` can be used to sort text files line by line, numerically and alphabetically.   \n",
    "- `uniq` will filter out the repeated lines in a file. However, `uniq` can only detect repeated lines if they are adjacent to each other. In other words, if they are alphabetically or numerically sorted. The flag `-c` or `--count` tells the command `uniq` to remove the repeated lines, and to count how many times each value appeared. \n",
    "\n",
    "So, we will use `jq` to extract the information we need, sort the result and count the number of unique entries."
   ]
  },
  {
   "cell_type": "code",
   "execution_count": 23,
   "id": "b2c1912d",
   "metadata": {},
   "outputs": [
    {
     "name": "stdout",
     "output_type": "stream",
     "text": [
      "   1 \"Acromyrmex charruanus\"\n",
      "   2 \"Acromyrmex echinatior\"\n",
      "   1 \"Acromyrmex heyeri\"\n",
      "   1 \"Acromyrmex insinuator\"\n",
      "   1 \"Aphaenogaster ashmeadi\"\n",
      "   1 \"Aphaenogaster floridana\"\n",
      "   1 \"Aphaenogaster fulva\"\n",
      "   1 \"Aphaenogaster miamiana\"\n",
      "   1 \"Aphaenogaster picea\"\n",
      "   2 \"Aphaenogaster rudis\"\n",
      "   2 \"Atta cephalotes\"\n",
      "   2 \"Atta colombica\"\n",
      "   1 \"Atta texana\"\n",
      "   3 \"Camponotus floridanus\"\n",
      "   2 \"Camponotus pennsylvanicus\"\n",
      "   1 \"Cardiocondyla obscurior\"\n",
      "   3 \"Cataglyphis hispanica\"\n",
      "   1 \"Cataglyphis niger\"\n",
      "   1 \"Crematogaster levior\"\n",
      "   2 \"Cyphomyrmex costatus\"\n",
      "   2 \"Dinoponera quadriceps\"\n",
      "   1 \"Eciton burchellii\"\n",
      "   1 \"Formica aquilonia x Formica polyctena\"\n",
      "   2 \"Formica exsecta\"\n",
      "   1 \"Formica selysi\"\n",
      "   3 \"Harpegnathos saltator\"\n",
      "   1 \"Lasius niger\"\n",
      "   2 \"Linepithema humile\"\n",
      "   5 \"Monomorium pharaonis\"\n",
      "   2 \"Nylanderia fulva\"\n",
      "   2 \"Odontomachus brunneus\"\n",
      "   3 \"Ooceraea biroi\"\n",
      "   2 \"Pogonomyrmex barbatus\"\n",
      "   1 \"Pogonomyrmex californicus\"\n",
      "   1 \"Pseudoatta argentina\"\n",
      "   1 \"Pseudomyrmex concolor\"\n",
      "   1 \"Pseudomyrmex cubaensis\"\n",
      "   1 \"Pseudomyrmex dendroicus\"\n",
      "   1 \"Pseudomyrmex elongatus\"\n",
      "   1 \"Pseudomyrmex flavicornis\"\n",
      "   2 \"Pseudomyrmex gracilis\"\n",
      "   1 \"Pseudomyrmex pallidus\"\n",
      "   1 \"Pseudomyrmex sp. PSW-54\"\n",
      "   1 \"Solenopsis fugax\"\n",
      "   8 \"Solenopsis invicta\"\n",
      "   2 \"Temnothorax curvispinosus\"\n",
      "   1 \"Temnothorax longispinosus\"\n",
      "   1 \"Tetramorium alpestre\"\n",
      "   2 \"Tetramorium bicarinatum\"\n",
      "   1 \"Tetramorium immigrans\"\n",
      "   1 \"Tetramorium parvispinum\"\n",
      "   1 \"Tetramorium simillimum\"\n",
      "   2 \"Trachymyrmex cornetzi\"\n",
      "   2 \"Trachymyrmex septentrionalis\"\n",
      "   2 \"Trachymyrmex zeteki\"\n",
      "   2 \"Vollenhovia emeryi\"\n",
      "   2 \"Wasmannia auropunctata\"\n"
     ]
    }
   ],
   "source": [
    "%%bash\n",
    "# For which species does NCBI have genomes in its database? How many per species?\n",
    "\n",
    "datasets summary genome taxon formicidae | jq '.assemblies[].assembly.org.sci_name' | sort | uniq -c"
   ]
  },
  {
   "cell_type": "code",
   "execution_count": 24,
   "id": "6c953fbd",
   "metadata": {},
   "outputs": [
    {
     "name": "stdout",
     "output_type": "stream",
     "text": [
      "  15 \"Chromosome\"\n",
      "   3 \"Contig\"\n",
      "  78 \"Scaffold\"\n"
     ]
    }
   ],
   "source": [
    "%%bash\n",
    "# What is the assembly level (contig, scaffold, chromosome, complete) breakdown?\n",
    "\n",
    "datasets summary genome taxon formicidae | jq '.assemblies[].assembly.assembly_level' | sort | uniq -c"
   ]
  },
  {
   "cell_type": "markdown",
   "id": "c156555a",
   "metadata": {},
   "source": [
    "Now that we explored the number of available genomes, as well as the assembly level and other important characteristics, it's time to download the genomes for Elmo's research project."
   ]
  },
  {
   "cell_type": "markdown",
   "id": "391f55cc",
   "metadata": {},
   "source": [
    "First, we want to download all genomes for the genus *Acromyrmex* from Genbank. "
   ]
  },
  {
   "cell_type": "code",
   "execution_count": null,
   "id": "fa1fd70d",
   "metadata": {},
   "outputs": [],
   "source": [
    "%%bash\n",
    "# Download all available GenBank assemblies for the genus Acromyrmex and save as genomes.zip\n",
    "datasets download genome taxon acromyrmex --assembly-source genbank --filename genomes.zip --no-progressbar"
   ]
  },
  {
   "cell_type": "markdown",
   "id": "13d89397",
   "metadata": {},
   "source": [
    "The next step is to unzip the data package zip file to a new folder called genomes"
   ]
  },
  {
   "cell_type": "code",
   "execution_count": null,
   "id": "5f57b5e8",
   "metadata": {},
   "outputs": [],
   "source": [
    "%%bash\n",
    "# Unzip genomes.zip to the folder genomes\n",
    "unzip -o genomes.zip -d genomes"
   ]
  },
  {
   "cell_type": "markdown",
   "id": "b2a45969",
   "metadata": {},
   "source": [
    "Finally, let's take a look at the contents of the data package with the command `tree`"
   ]
  },
  {
   "cell_type": "code",
   "execution_count": null,
   "id": "f3337168",
   "metadata": {},
   "outputs": [],
   "source": [
    "%%bash\n",
    "# Explore the folder structure of the folder genome with the command tree\n",
    "tree -C genomes/"
   ]
  },
  {
   "cell_type": "markdown",
   "id": "77a0fe05",
   "metadata": {},
   "source": [
    "### Let's recap our goals\n",
    "\n",
    "We used `datasets` to download all the Genbank assemblies for the genus *Acromyrmex*. The next step is to download the gene *orco* (odorance receptor coreceptor) for the same genus. But first, let's learn more about how genes are organized at NCBI."
   ]
  },
  {
   "cell_type": "markdown",
   "id": "92c031a1",
   "metadata": {},
   "source": [
    "## Part IV: Accessing genes <a class=\"anchor\" id=\"Part-IV\"></a>\n",
    "### GENES"
   ]
  },
  {
   "cell_type": "markdown",
   "id": "5b4d055b",
   "metadata": {},
   "source": [
    "Independent of choosing `datasets download` or `datasets summary`, there are three options for retrieving gene information:\n",
    "- accession\n",
    "- gene-id\n",
    "- symbol\n",
    "\n",
    "When choosing any of those three options, you will retrieve the gene information for the **reference** taxon. Like this:\n",
    "\n",
    "`datasets download gene accession XR_002738142.1`  \n",
    "`datasets download gene gene-id 101081937`  \n",
    "`datasets download gene symbol BRCA1 --taxon cat`  \n",
    "\n",
    "All three commands will download the same gene from the cat (<i>Felis catus</i>) <u>reference genome</u>. \n",
    "\n",
    "#### accession\n",
    "Unique identifier. Accession includes RefSeq RNA and protein accessions. Since it's unique, taxon is implied (aka there will never be two sequences from different taxa with the same accession number).  \n",
    "\n",
    "#### gene-id\n",
    "Also a unique identifier. Every RefSeq genome annotated has a unique set of identifiers. For example: the gene-id for BRCA1 in human is 672, while in cat is 101081937.  \n",
    "\n",
    "#### symbol\n",
    "Differently from accession and gene-id, gene symbol is not unique and means different things in different taxonomic groups. If using the symbol option, you should specify the species. The default option is human.\n",
    "\n",
    "**Remember**: both `summary` and `download` will return results for the **reference assembly** of a <u>single species</u>. If you want to download a curated set of the same gene for multiple taxa, you should use the option `ortholog`. We'll talk more about it later. For reference, here's the JSON organization of the gene summary metadata.  \n",
    "\n",
    "<img src=\"./images/gene_json.drawio.png\" />\n",
    "\n",
    "Now let's take a look at a gene example:"
   ]
  },
  {
   "cell_type": "code",
   "execution_count": null,
   "id": "6e2b6fe8",
   "metadata": {},
   "outputs": [],
   "source": [
    "%%bash\n",
    "#Example: IFNG in human\n",
    "datasets summary gene symbol ifng | jq -C .\n"
   ]
  },
  {
   "cell_type": "code",
   "execution_count": null,
   "id": "e748073a",
   "metadata": {},
   "outputs": [],
   "source": [
    "%%bash\n",
    "# how datasets deals with synonyms\n",
    "datasets summary gene symbol IFG | jq -C -r '.genes[].gene | {species: .taxname, symbol: .symbol, synonyms:.synonyms}'\n"
   ]
  },
  {
   "cell_type": "code",
   "execution_count": null,
   "id": "94d1bdbf",
   "metadata": {},
   "outputs": [],
   "source": [
    "%%bash\n",
    "#Example: IFNG in cat\n",
    "datasets summary gene symbol ifng --taxon \"felis catus\"\n"
   ]
  },
  {
   "cell_type": "markdown",
   "id": "1d69331f",
   "metadata": {},
   "source": [
    "### Back to ants\n",
    "We will download the gene *orco* for the species *Acromyrmex echinatior*. We will use the gene-id 105147775 instead of the symbol because no informative gene symbol has been assigned for this gene.  "
   ]
  },
  {
   "cell_type": "code",
   "execution_count": null,
   "id": "0d5bb16e",
   "metadata": {},
   "outputs": [],
   "source": [
    "%%bash\n",
    "# Using gene-id to retrieve gene information\n",
    "datasets summary gene gene-id 105147775 | jq -C '.genes[].gene \n",
    "| {gene_description: .description, gene_id: .gene_id, symbol: .symbol, species: .taxname}'"
   ]
  },
  {
   "cell_type": "code",
   "execution_count": null,
   "id": "91058e44",
   "metadata": {},
   "outputs": [],
   "source": [
    "%%bash\n",
    "# if we try to retrieve metadata information for this gene using the symbol orco, what happens?\n",
    "datasets summary gene symbol orco --taxon \"acromyrmex echinatior\"\n"
   ]
  },
  {
   "cell_type": "code",
   "execution_count": null,
   "id": "e08b9763",
   "metadata": {},
   "outputs": [],
   "source": [
    "%%bash\n",
    "# Download the gene data package for the gene-id 105147775 (*orco* in Acromyrmex echinatior)\n",
    "datasets download gene gene-id 105147775 --filename gene.zip --no-progressbar\n"
   ]
  },
  {
   "cell_type": "code",
   "execution_count": null,
   "id": "32ff018d",
   "metadata": {},
   "outputs": [],
   "source": [
    "%%bash\n",
    "#Unzip the file\n",
    "unzip -o gene.zip -d gene"
   ]
  },
  {
   "cell_type": "code",
   "execution_count": null,
   "id": "9ab71ee8",
   "metadata": {},
   "outputs": [],
   "source": [
    "%%bash\n",
    "#Explore the data package structure using tree\n",
    "tree gene"
   ]
  },
  {
   "cell_type": "markdown",
   "id": "970bc941",
   "metadata": {},
   "source": [
    "Now we are going to take advantage of the fact that we are using a Jupyter Notebook and use the package `pandas` to look at the gene data table"
   ]
  },
  {
   "cell_type": "code",
   "execution_count": null,
   "id": "255253a9",
   "metadata": {},
   "outputs": [],
   "source": [
    "import pandas as pd                                                        #load pandas to this notebook\n",
    "gene_orco = pd.read_csv('gene/ncbi_dataset/data/data_table.tsv', sep='\\t') #use pandas to import the data_table.tsv\n",
    "gene_orco                                                                  #visualize the data table as the object gene_orco"
   ]
  },
  {
   "cell_type": "markdown",
   "id": "c908cc8b",
   "metadata": {},
   "source": [
    "## Part V: Accessing orthologs <a class=\"anchor\" id=\"Part-V\"></a>\n",
    "\n",
    "### Orthologs\n",
    "\n",
    "The options to retrieve ortholog sets are the same as those for genes. We'll go over the differences when using each option:\n",
    "\n",
    "- accession\n",
    "- gene-id\n",
    "- symbol\n",
    "\n",
    "When choosing any of those three options, you will download the **full ortholog set** to which they belong (unless you use additional filtering. We'll cover it below). Like this:\n",
    "\n",
    "`datasets download ortholog accession XR_002738142.1`  \n",
    "`datasets download ortholog gene-id 101081937`  \n",
    "`datasets download ortholog symbol BRCA1 --taxon cat`  \n",
    "\n",
    "All three commands will download the **same** ortholog set. \n",
    "\n",
    "---\n",
    "\n",
    "#### <font color='blue'>Wait, but what is an ortholog set?</font>\n",
    "\n",
    ">An ortholog set, or ortholog gene group, is a group of sequences that have been identified by the NCBI genome annotation team as homologous genes related to each other by speciation events. They are identified by a combination of protein similarity + local syntheny information. \n",
    "Currently, NCBI has ortholog sets calculated for vertebrates and some insects. \n",
    "\n",
    "\n",
    "#### accession\n",
    "Unique identifier. Accession includes RefSeq accession RNA and protein sequences. Since it's unique, taxon is implied (aka there will never be two sequences from different taxa with the same accession number).\n",
    "\n",
    "#### gene-id\n",
    "Also an unique identifier. Every RefSeq genome annotated has a unique set of identifiers. For example: the gene-id for BRCA1 in human is 672, while in cat is 101081937. You can use either one (672 or 101081937) to get the same vertebrate BRCA1 ortholog set.\n",
    "\n",
    "#### symbol\n",
    "Differently from accession and gene-id, gene symbol is not unique and means different things in different taxonomic groups. For example: the P53 ortholog set in vertebrates is different from the insect set. If using the symbol option, you should specify the taxonomic group. The default option is human. Note that if you want ortholog sets from multiple vertebrate species, you might end up downloading the same ortholog set multiple times. Like this: \n",
    "\n",
    "`datasets download ortholog symbol brca1 --taxon cat`  \n",
    "`datasets download ortholog symbol brca1 --taxon chicken`  \n",
    "`datasets download ortholog symbol brca1 --taxon \"chelonia mydas\"`  \n",
    "\n",
    "If that's the case, how do you filter the ortholog set to include *only* your taxonomic group of interest?\n",
    "\n",
    "### Applying a taxonomic filter to the ortholog set\n",
    "\n",
    "For the orthologs, `datasets` provides the flag `--taxon-filter`, which allows the user to restrict the summary or download to one or multiple taxonomic groups.  `--taxon` and `--taxon-filter` have different effects on the data package/summary output. A few examples:\n",
    "\n",
    "- `datasets summary ortholog symbol brca1 --taxon-filter \"felis catus\"`  \n",
    "Prints a json metadata summary of the gene brca1 for the domestic cat. \n",
    "We did not specify a `--taxon` because the default is human, and Felidae and human are part of the same brca1 ortholog set.   \n",
    "\n",
    "  \n",
    "\n",
    "- `datasets summary ortholog symbol brca1 --taxon \"felis catus\"`  \n",
    "Even though this option looks almost the same as the one above, the result is *very different*. Here, we're asking `datasets` to find the ortholog set to which the gene brca1 in the domestic cat belongs. And `datasets` will download the <u>entire</u> ortholog set, not only the sequences for the domestic cat.\n",
    "\n",
    "\n",
    "- `datasets summary ortholog symbol brca1 --taxon \"felis catus\" --taxon-filter \"felis catus\"`  \n",
    "gives you the same result as `datasets summary ortholog symbol brca1 --taxon-filter \"felis catus\"`\n",
    "\n",
    "\n",
    "The summary metadata for orthologs is presented in JSON Lines, which means that each gene entry is in a different line. Here's the diagram to help you create queries.\n",
    "  \n",
    "<img src=\"./images/ortholog_jsonl.drawio.png\" />"
   ]
  },
  {
   "cell_type": "markdown",
   "id": "3673c066",
   "metadata": {},
   "source": [
    "#### We are going to do the following steps:\n",
    "- download the ortholog data package and save it with the name ortholog.zip\n",
    "- unzip it to the folder ortholog\n",
    "- look at the files\n",
    "\n",
    "Helpful info:\n",
    "\n",
    "- gene symbol: orco\n",
    "- gene-id in *Drosophila melanogaster*: 40650\n",
    "- gene-id in *Acromyrmer echinatior*: 105147775\n",
    "- target taxon: Formicidae"
   ]
  },
  {
   "cell_type": "code",
   "execution_count": null,
   "id": "4040acda",
   "metadata": {},
   "outputs": [],
   "source": [
    "%%bash\n",
    "# download the orco ortholog set for ants (Formicidae)\n",
    "datasets download ortholog gene-id 40650 --taxon-filter formicidae --filename ortholog.zip --no-progressbar\n"
   ]
  },
  {
   "cell_type": "code",
   "execution_count": null,
   "id": "c295a289",
   "metadata": {},
   "outputs": [],
   "source": [
    "%%bash\n",
    "# unzip it to the folder ortholog\n",
    "unzip -o ortholog.zip -d ortholog\n"
   ]
  },
  {
   "cell_type": "code",
   "execution_count": null,
   "id": "5f22996a",
   "metadata": {},
   "outputs": [],
   "source": [
    "%%bash\n",
    "#Explore the folder structure\n",
    "tree ortholog/\n"
   ]
  },
  {
   "cell_type": "code",
   "execution_count": null,
   "id": "edc2c564",
   "metadata": {},
   "outputs": [],
   "source": [
    "# Create an object called ortho_table using pandas\n",
    "ortho_table = pd.read_csv(\"ortholog/ncbi_dataset/data/data_table.tsv\", sep='\\t')\n",
    "ortho_table"
   ]
  },
  {
   "cell_type": "markdown",
   "id": "ad41374d",
   "metadata": {},
   "source": [
    "## What have we done so far?\n",
    "- Explored metadata for all ant genomes\n",
    "- Downloaded genomes for the panamanian leaf cutter ant\n",
    "- Downloaded the orco gene for Acromyrmex echinatior\n",
    "- Downloaded the ortholog set for all ants for the orco gene\n"
   ]
  },
  {
   "cell_type": "markdown",
   "id": "238a059f-f27e-4248-9419-a2a2d11d2178",
   "metadata": {},
   "source": [
    "# Part VI ElasticBLAST and Datasets<a class=\"anchor\" id=\"Part-VI\"></a>\n"
   ]
  },
  {
   "cell_type": "code",
   "execution_count": 3,
   "id": "3af06ab9-82da-47f2-9e9c-635ac1d1f99b",
   "metadata": {},
   "outputs": [],
   "source": [
    "from uuid import uuid4\n",
    "import os"
   ]
  },
  {
   "cell_type": "markdown",
   "id": "b69c9f21-939f-4e89-985e-8a12489c8411",
   "metadata": {},
   "source": [
    "## Download sequences\n",
    "\n",
    "If you have already done [Part III: Accessing genomes](#Part-III) and [Part IV: Accessing genes](#Part-IV), you can skip to [Download NCBI taxonomy database](#taxonomy). If not, follow the steps below.\n"
   ]
  },
  {
   "cell_type": "code",
   "execution_count": 1,
   "id": "e9d1d3fe-be30-4f92-9824-61249a6780ef",
   "metadata": {},
   "outputs": [
    {
     "name": "stderr",
     "output_type": "stream",
     "text": [
      "bash: line 2: datasets: command not found\n"
     ]
    },
    {
     "name": "stdout",
     "output_type": "stream",
     "text": [
      "Archive:  gene.zip\n",
      "  inflating: gene/README.md          \n",
      "  inflating: gene/ncbi_dataset/data/gene.fna  \n",
      "  inflating: gene/ncbi_dataset/data/rna.fna  \n",
      "  inflating: gene/ncbi_dataset/data/protein.faa  \n",
      "  inflating: gene/ncbi_dataset/data/data_report.jsonl  \n",
      "  inflating: gene/ncbi_dataset/data/data_table.tsv  \n",
      "  inflating: gene/ncbi_dataset/data/dataset_catalog.json  \n"
     ]
    }
   ],
   "source": [
    "%%bash\n",
    "# Download the gene data package for the gene-id 105147775 (*orco* in Acromyrmex echinatior)\n",
    "datasets download gene gene-id 105147775 --filename gene.zip --no-progressbar\n",
    "unzip -o gene.zip -d gene"
   ]
  },
  {
   "cell_type": "code",
   "execution_count": 7,
   "id": "fed55240-8996-433a-8e5c-cf6292b0eb43",
   "metadata": {},
   "outputs": [
    {
     "name": "stdout",
     "output_type": "stream",
     "text": [
      "Archive:  genomes.zip\n",
      "  inflating: genomes/README.md       \n",
      "  inflating: genomes/ncbi_dataset/data/assembly_data_report.jsonl  \n",
      "  inflating: genomes/ncbi_dataset/data/GCA_000204515.1/unplaced.scaf.fna  \n",
      "  inflating: genomes/ncbi_dataset/data/GCA_000204515.1/genomic.gff  \n",
      "  inflating: genomes/ncbi_dataset/data/GCA_000204515.1/protein.faa  \n",
      "  inflating: genomes/ncbi_dataset/data/GCA_000204515.1/cds_from_genomic.fna  \n",
      "  inflating: genomes/ncbi_dataset/data/GCA_017607455.1/GCA_017607455.1_ASM1760745v1_genomic.fna  \n",
      "  inflating: genomes/ncbi_dataset/data/GCA_017607455.1/genomic.gff  \n",
      "  inflating: genomes/ncbi_dataset/data/GCA_017607455.1/protein.faa  \n",
      "  inflating: genomes/ncbi_dataset/data/GCA_017607455.1/cds_from_genomic.fna  \n",
      "  inflating: genomes/ncbi_dataset/data/GCA_017607545.1/GCA_017607545.1_ASM1760754v1_genomic.fna  \n",
      "  inflating: genomes/ncbi_dataset/data/GCA_017607545.1/genomic.gff  \n",
      "  inflating: genomes/ncbi_dataset/data/GCA_017607545.1/protein.faa  \n",
      "  inflating: genomes/ncbi_dataset/data/GCA_017607545.1/cds_from_genomic.fna  \n",
      "  inflating: genomes/ncbi_dataset/data/GCA_017607565.1/GCA_017607565.1_ASM1760756v1_genomic.fna  \n",
      "  inflating: genomes/ncbi_dataset/data/GCA_017607565.1/genomic.gff  \n",
      "  inflating: genomes/ncbi_dataset/data/GCA_017607565.1/protein.faa  \n",
      "  inflating: genomes/ncbi_dataset/data/GCA_017607565.1/cds_from_genomic.fna  \n",
      "  inflating: genomes/ncbi_dataset/data/GCA_000204515.1/sequence_report.jsonl  \n",
      "  inflating: genomes/ncbi_dataset/data/GCA_017607455.1/sequence_report.jsonl  \n",
      "  inflating: genomes/ncbi_dataset/data/GCA_017607545.1/sequence_report.jsonl  \n",
      "  inflating: genomes/ncbi_dataset/data/GCA_017607565.1/sequence_report.jsonl  \n",
      "  inflating: genomes/ncbi_dataset/data/dataset_catalog.json  \n"
     ]
    }
   ],
   "source": [
    "%%bash\n",
    "# Download all available GenBank assemblies for the genus Acromyrmex and save as genomes.zip\n",
    "datasets download genome taxon acromyrmex --assembly-source genbank --filename genomes.zip --no-progressbar\n",
    "unzip -o genomes.zip -d genomes"
   ]
  },
  {
   "cell_type": "markdown",
   "id": "febc6532",
   "metadata": {},
   "source": [
    "### Create a new folder for the blast search"
   ]
  },
  {
   "cell_type": "code",
   "execution_count": 5,
   "id": "534114f5",
   "metadata": {},
   "outputs": [],
   "source": [
    "%%bash\n",
    "\n",
    "mkdir blast"
   ]
  },
  {
   "cell_type": "markdown",
   "id": "6a60f080-5d98-4433-8796-142205b6eacc",
   "metadata": {},
   "source": [
    "### Download NCBI taxonomy database <a class=\"anchor\" id=\"taxonomy\"></a>"
   ]
  },
  {
   "cell_type": "code",
   "execution_count": 17,
   "id": "52da3d53-21a9-4df8-8d9f-c73e678e86bf",
   "metadata": {},
   "outputs": [
    {
     "name": "stdout",
     "output_type": "stream",
     "text": [
      "Connected to NCBI\n",
      "Downloading taxdb.tar.gz... [OK]\n"
     ]
    }
   ],
   "source": [
    "%%bash\n",
    "cd blast\n",
    "update_blastdb.pl taxdb"
   ]
  },
  {
   "cell_type": "markdown",
   "id": "a4036697-cf53-4a49-977f-232c021770bc",
   "metadata": {},
   "source": [
    "## Create a BLAST database with taxonomy information"
   ]
  },
  {
   "cell_type": "markdown",
   "id": "3ef95337-80af-4a0d-bd6d-95f3d39d8ca8",
   "metadata": {},
   "source": [
    "### Concatenate downloaded genomic sequences in one file"
   ]
  },
  {
   "cell_type": "code",
   "execution_count": null,
   "id": "a586389a-d471-4443-8154-e80bb9669303",
   "metadata": {},
   "outputs": [],
   "source": [
    "%%bash\n",
    "# Concatenate all genomic sequence files into one\n",
    "cat genomes/ncbi_dataset/data/GCA_000204515.1/unplaced.scaf.fna \\\n",
    "  genomes/ncbi_dataset/data/GCA_017607455.1/GCA_017607455.1_ASM1760745v1_genomic.fna \\\n",
    "  genomes/ncbi_dataset/data/GCA_017607545.1/GCA_017607545.1_ASM1760754v1_genomic.fna \\\n",
    "  genomes/ncbi_dataset/data/GCA_017607565.1/GCA_017607565.1_ASM1760756v1_genomic.fna > blast/genomes.fa"
   ]
  },
  {
   "cell_type": "markdown",
   "id": "f1a2b295-42b9-446c-8f23-f35ebd90a294",
   "metadata": {},
   "source": [
    "### Create taxonomy map for the genomic sequences"
   ]
  },
  {
   "cell_type": "code",
   "execution_count": 5,
   "id": "7b2d0663-aac2-4107-aa4d-66c1302a71f0",
   "metadata": {},
   "outputs": [
    {
     "name": "stdout",
     "output_type": "stream",
     "text": [
      "GL884603.1\t103372\n",
      "GL884604.1\t103372\n",
      "GL884605.1\t103372\n",
      "GL884606.1\t103372\n",
      "GL884607.1\t103372\n",
      "GL884608.1\t103372\n",
      "GL884609.1\t103372\n",
      "GL884610.1\t103372\n",
      "GL884611.1\t103372\n",
      "GL884612.1\t103372\n"
     ]
    }
   ],
   "source": [
    "%%bash\n",
    "cat genomes/ncbi_dataset/data/GCA_000204515.1/unplaced.scaf.fna | awk '/>/ {print substr($1, 2, length($1)-1) \"\\t103372\";}' > blast/taxids.tsv\n",
    "cat genomes/ncbi_dataset/data/GCA_017607455.1/GCA_017607455.1_ASM1760745v1_genomic.fna | awk '/>/ {print substr($1, 2, length($1)-1) \"\\t230686\";}' >>blast/taxids.tsv\n",
    "cat genomes/ncbi_dataset/data/GCA_017607545.1/GCA_017607545.1_ASM1760754v1_genomic.fna | awk '/>/ {print substr($1, 2, length($1)-1) \"\\t2715315\";}' >>blast/taxids.tsv\n",
    "cat genomes/ncbi_dataset/data/GCA_017607565.1/GCA_017607565.1_ASM1760756v1_genomic.fna | awk '/>/ {print substr($1, 2, length($1)-1) \"\\t230685\";}' >>blast/taxids.tsv\n",
    "head blast/taxids.tsv"
   ]
  },
  {
   "cell_type": "markdown",
   "id": "52bcf936-ddcf-4ff8-9b7a-3cedf6a32f76",
   "metadata": {},
   "source": [
    "### Create a BLAST database"
   ]
  },
  {
   "cell_type": "code",
   "execution_count": 6,
   "id": "9fd8ed30-f587-4521-86f1-fa7ad3b8ce34",
   "metadata": {},
   "outputs": [
    {
     "name": "stdout",
     "output_type": "stream",
     "text": [
      "\n",
      "\n",
      "Building a new DB, current time: 06/27/2022 10:40:56\n",
      "New DB name:   /export/home/boratyng/eb-1532/genomesdb\n",
      "New DB title:  genomes.fa\n",
      "Sequence type: Nucleotide\n",
      "Deleted existing Nucleotide BLAST database named /export/home/boratyng/eb-1532/genomesdb\n",
      "Keep MBits: T\n",
      "Maximum file size: 3000000000B\n",
      "Adding sequences from FASTA; added 23295 sequences in 12.1766 seconds.\n",
      "\n",
      "\n"
     ]
    }
   ],
   "source": [
    "%%bash\n",
    "# Change to blast directory\n",
    "cd blast\n",
    "makeblastdb -in genomes.fa -out genomesdb -dbtype nucl -parse_seqids -taxid_map taxids.tsv"
   ]
  },
  {
   "cell_type": "markdown",
   "id": "cd7c4ed0-365b-40de-8be5-ff6d7d13545d",
   "metadata": {},
   "source": [
    "## Prepare ElasticBLAST search"
   ]
  },
  {
   "cell_type": "markdown",
   "id": "fb70d9c3-23fa-4ff5-9e8c-2016613bb605",
   "metadata": {},
   "source": [
    "### ElasticBLAST results bucket\n",
    "\n",
    "ElasticBLAST uses a cloud storage bucket to store a BLAST database and search results. If you already have an S3 bucket assign its URI to `RESULTS` variable. Otherwise, running this cell without modifications will generate a name with a random suffix.\n",
    "\n",
    "Remember that S3 bucket names must be globally unique. You cannot use a bucket name if one already exists."
   ]
  },
  {
   "cell_type": "code",
   "execution_count": 24,
   "id": "e52f0151-82ff-416c-9915-65d167348159",
   "metadata": {},
   "outputs": [
    {
     "name": "stdout",
     "output_type": "stream",
     "text": [
      "Your results bucket: s3://elasticblast-jupyter-boratyng-aab7cf3b\n"
     ]
    }
   ],
   "source": [
    "YOURNAME = f'{os.environ[\"USER\"]}-{str(uuid4())[:8]}'\n",
    "RESULTS = f's3://elasticblast-{YOURNAME}'\n",
    "print(f'Your results bucket: {RESULTS}')\n",
    "!echo {RESULTS} >results_bucket"
   ]
  },
  {
   "cell_type": "markdown",
   "id": "6c37d221-ae14-4190-a571-ae86f5ff855d",
   "metadata": {},
   "source": [
    "### Create results bucket\n",
    "\n",
    "Skip this step if the bucket already exists."
   ]
  },
  {
   "cell_type": "code",
   "execution_count": 25,
   "id": "7a3325ca-9339-4621-936b-7e9c7a4cf75d",
   "metadata": {},
   "outputs": [
    {
     "name": "stdout",
     "output_type": "stream",
     "text": [
      "make_bucket: elasticblast-c34e3f10\n"
     ]
    }
   ],
   "source": [
    "!aws s3 mb {RESULTS}"
   ]
  },
  {
   "cell_type": "markdown",
   "id": "60598a20-a84a-410d-8f5a-37583a8e605f",
   "metadata": {},
   "source": [
    "### Upload your BLAST database\n",
    "\n",
    "ElasticBLAST searches BLAST databases stored in cloud storage. Upload your database to your cloud bucket."
   ]
  },
  {
   "cell_type": "code",
   "execution_count": 26,
   "id": "7c759fe4-fdf3-4892-b542-68f375371b14",
   "metadata": {
    "scrolled": true
   },
   "outputs": [
    {
     "name": "stdout",
     "output_type": "stream",
     "text": [
      "upload: ./genomesdb.njs to s3://elasticblast-c34e3f10/db/genomesdb.njs\n",
      "upload: ./genomesdb.nin to s3://elasticblast-c34e3f10/db/genomesdb.nin\n",
      "upload: ./genomesdb.nto to s3://elasticblast-c34e3f10/db/genomesdb.nto\n",
      "upload: ./genomesdb.nog to s3://elasticblast-c34e3f10/db/genomesdb.nog\n",
      "upload: ./genomesdb.ntf to s3://elasticblast-c34e3f10/db/genomesdb.ntf\n",
      "upload: ./genomesdb.nos to s3://elasticblast-c34e3f10/db/genomesdb.nos\n",
      "upload: ./genomesdb.not to s3://elasticblast-c34e3f10/db/genomesdb.not\n",
      "upload: ./genomesdb.nhr to s3://elasticblast-c34e3f10/db/genomesdb.nhr\n",
      "upload: ./genomesdb.ndb to s3://elasticblast-c34e3f10/db/genomesdb.ndb\n",
      "upload: ./genomesdb.nsq to s3://elasticblast-c34e3f10/db/genomesdb.nsq\n"
     ]
    }
   ],
   "source": [
    "!aws s3 cp blast {RESULTS}/db --recursive --exclude \"*\" --include \"genomesdb.*\""
   ]
  },
  {
   "cell_type": "markdown",
   "id": "45176346-63fb-41e5-a310-bcd2dbb81529",
   "metadata": {},
   "source": [
    "### ElasticBLAST configuration\n",
    "\n",
    "ElasticBLAST uses a configuration file to specify search parameters, such as query, database, search program, and parameters. For easier code management we will assign ElasticBLAST configuration file name to the variable `conf_file`."
   ]
  },
  {
   "cell_type": "code",
   "execution_count": 27,
   "id": "19c8934c-a344-439f-8b08-aeba4a8a756a",
   "metadata": {},
   "outputs": [],
   "source": [
    "conf_file = 'elastic-blast-config.ini'"
   ]
  },
  {
   "cell_type": "markdown",
   "id": "93530cab-6045-47f1-ac54-42c904a43a34",
   "metadata": {},
   "source": [
    "The cell below will write the contents of ElasticBLAST configuration file.\n",
    "\n",
    "The configuration file instructs ElasticBLAST to do a BLASTN search of query sequences in file `gene/ncbi_dataset/data/gene.fna` against the database in your results bucket."
   ]
  },
  {
   "cell_type": "code",
   "execution_count": 28,
   "id": "a8e31efd-e161-427b-9347-555053acf98e",
   "metadata": {},
   "outputs": [],
   "source": [
    "# These are the contents of ElasticBLAST config \n",
    "conf = f\"\"\"\n",
    "[cloud-provider]\n",
    "aws-region = us-east-1\n",
    "\n",
    "[cluster]\n",
    "num-nodes = 1\n",
    "\n",
    "[blast]\n",
    "program = blastn\n",
    "db = {RESULTS}/db/genomesdb\n",
    "queries = gene/ncbi_dataset/data/gene.fna\n",
    "options = -evalue 1e-50 -outfmt 11 -max_hsps 1\n",
    "\"\"\"\n",
    "\n",
    "# Write the config to the file: elastic-blast-config.ini\n",
    "with open(conf_file, 'w') as f:\n",
    "    f.write(conf)"
   ]
  },
  {
   "cell_type": "markdown",
   "id": "f2e35195-dae0-4fcb-aa5c-ad5ff7ff9352",
   "metadata": {},
   "source": [
    "## Submit an ElasticBLAST search\n",
    "\n",
    "We can now submit the ElasticBLAST search, run the cell below. The submission may take a few minutes."
   ]
  },
  {
   "cell_type": "code",
   "execution_count": 29,
   "id": "f53dca5d-92ad-4c80-a10a-873cf0ed7416",
   "metadata": {},
   "outputs": [
    {
     "name": "stdout",
     "output_type": "stream",
     "text": [
      "awslimitchecker 12.0.0 is AGPL-licensed free software; all users have a right to the full source code of this version. See <https://github.com/jantman/awslimitchecker>\n",
      "WARNING: Using gp2 30GB EBS root disk because locally attached SSDs will be used\n"
     ]
    }
   ],
   "source": [
    "os.environ['AWS_DEFAULT_REGION'] = 'us-east-1'\n",
    "os.environ['ELB_DISABLE_AUTO_SHUTDOWN'] = '1'\n",
    "!elastic-blast submit --cfg {conf_file} --results {RESULTS}"
   ]
  },
  {
   "cell_type": "markdown",
   "id": "d4044c8e-fc43-41fe-a77d-776bfa927478",
   "metadata": {},
   "source": [
    "## Check search status\n",
    "\n",
    "The cell below checks search status. ElasticBLAST splits query sequences into batches. The elastic-blast status command shows how many of these batches are pending, running, completed, or completed. When the whole search is done you will see only the message: \"Your ElasticBLAST search succeeded ...\" or \"Your ElasticBLAST search failed ...\""
   ]
  },
  {
   "cell_type": "code",
   "execution_count": 30,
   "id": "b90ee9ac-f35f-4f79-a1bb-b813ed7b22f9",
   "metadata": {},
   "outputs": [
    {
     "name": "stdout",
     "output_type": "stream",
     "text": [
      "SUBMITTING\n"
     ]
    }
   ],
   "source": [
    "!elastic-blast status --results {RESULTS}"
   ]
  },
  {
   "cell_type": "markdown",
   "id": "f73f572b-354c-48d5-84bd-5fb3e4f4f3dc",
   "metadata": {},
   "source": [
    "## Wait until the search is done\n",
    "\n",
    "Run the cell below to wait until the search is done. The cell will keep working until ElasticBLAST search is complete."
   ]
  },
  {
   "cell_type": "code",
   "execution_count": 31,
   "id": "d63e6f9b-ee40-4124-8b58-53a7ed9962cf",
   "metadata": {},
   "outputs": [
    {
     "name": "stdout",
     "output_type": "stream",
     "text": [
      "Your ElasticBLAST search succeeded, results can be found in s3://elasticblast-c34e3f10\n"
     ]
    }
   ],
   "source": [
    "!elastic-blast status --results {RESULTS} --wait"
   ]
  },
  {
   "cell_type": "markdown",
   "id": "f809bdfc-009e-4097-95a9-e2d08566bd02",
   "metadata": {},
   "source": [
    "We will change working directory to `blast`. "
   ]
  },
  {
   "cell_type": "code",
   "execution_count": 19,
   "id": "a0f6e66c-971b-473a-bc21-d92422ccd833",
   "metadata": {},
   "outputs": [
    {
     "name": "stdout",
     "output_type": "stream",
     "text": [
      "/home/jupyter-boratyng/blast\n"
     ]
    }
   ],
   "source": [
    "%cd blast"
   ]
  },
  {
   "cell_type": "markdown",
   "id": "351f1cd4-f822-4405-9818-6b7a7117ccf0",
   "metadata": {},
   "source": [
    "## Download and uncompress results\n",
    "\n",
    "When an ElasticBLAST search is done, search results are placed in your results bucket. Now we need to download and uncompress the results to analyze them."
   ]
  },
  {
   "cell_type": "code",
   "execution_count": 32,
   "id": "749d8c7e-7947-47a4-a2fd-4a518908fe49",
   "metadata": {},
   "outputs": [
    {
     "name": "stdout",
     "output_type": "stream",
     "text": [
      "download: s3://elasticblast-c34e3f10/batch_000-blastn-genomesdb.out.gz to ./batch_000-blastn-genomesdb.out.gz\n"
     ]
    }
   ],
   "source": [
    "!aws s3 cp {RESULTS} . --exclude \"*\" --include \"*.out.gz\" --recursive\n",
    "!gzip -d -f batch_*.gz"
   ]
  },
  {
   "cell_type": "markdown",
   "id": "3223a9a9-33a2-41cb-8a15-24bfbaf7edcb",
   "metadata": {},
   "source": [
    "### Convert results to the tabular format"
   ]
  },
  {
   "cell_type": "code",
   "execution_count": 19,
   "id": "0681cc5c-3b81-4ebb-8089-172abd9e3c3c",
   "metadata": {
    "scrolled": true
   },
   "outputs": [
    {
     "name": "stderr",
     "output_type": "stream",
     "text": [
      "Warning: [blastn] This set of queries is too small to fully benefit from the -mt_mode=1 option. The total number of letters should be at least 2500000 bases per thread, and there should be at least one query of this length per thread.\n"
     ]
    },
    {
     "name": "stdout",
     "output_type": "stream",
     "text": [
      "gb|GL888262.1|\t47719\t39489\t0.0\t8231\t103372\tAcromyrmex echinatior\n",
      "gb|JAANIC010002885.1|\t374203\t382429\t0.0\t8319\t2715315\tAcromyrmex charruanus\n",
      "gb|JAANHZ010000736.1|\t394277\t399208\t0.0\t4942\t230686\tAcromyrmex insinuator\n",
      "gb|JAANIB010005913.1|\t42669\t38207\t0.0\t4507\t230685\tAcromyrmex heyeri\n",
      "gb|JAANIB010010813.1|\t2927587\t2927837\t3.10e-64\t256\t230685\tAcromyrmex heyeri\n",
      "gb|JAANIC010005341.1|\t252786\t252532\t4.01e-63\t259\t2715315\tAcromyrmex charruanus\n",
      "gb|JAANHZ010000232.1|\t840079\t839835\t1.44e-62\t249\t230686\tAcromyrmex insinuator\n",
      "gb|GL888207.1|\t1612253\t1612494\t1.44e-62\t246\t103372\tAcromyrmex echinatior\n",
      "gb|JAANIB010005055.1|\t682287\t682472\t1.45e-57\t190\t230685\tAcromyrmex heyeri\n",
      "gb|JAANIC010001616.1|\t1476837\t1476653\t1.88e-56\t188\t2715315\tAcromyrmex charruanus\n"
     ]
    }
   ],
   "source": [
    "%%bash\n",
    "blast_formatter \\\n",
    "-archive batch_000-blastn-genomesdb.out \\\n",
    "-outfmt '6 sseqid sstart send evalue length staxid ssciname' > orco_acromyrmex_1e-50.tsv\n",
    "head orco_acromyrmex_1e-50.tsv"
   ]
  },
  {
   "cell_type": "markdown",
   "id": "ad0ead0a",
   "metadata": {},
   "source": [
    "#### Converting from BLAST to fasta\n",
    "\n",
    "Now we are going to use some \"tricks\" (not really, just some good old bash scripting) to extract fasta sequences from the BLAST output. For tthis task, we will be using `blast_formatter` again."
   ]
  },
  {
   "cell_type": "code",
   "execution_count": null,
   "id": "6b0fcd5b",
   "metadata": {},
   "outputs": [],
   "source": [
    "%%bash\n",
    "# Convert BLAST output to fasta\n",
    "\n",
    "blast_formatter \\\n",
    "-archive batch_000-blastn-genomesdb.out \\\n",
    "-outfmt '6 ssciname sseqid sseq' \\\n",
    "-max_target_seqs 4 | awk 'BEGIN{FS=\"\\t\"; OFS=\"\\n\"}{gsub(/ /, \"_\", $1);gsub(/-/, \"\", $3); print \">\"$1\"_\"$2,$3}' > ../acromyrmex_orco.fasta\n"
   ]
  },
  {
   "cell_type": "markdown",
   "id": "cda891b8",
   "metadata": {},
   "source": [
    "#### Converting from BLAST to fasta\n",
    "\n",
    "Now we are going to use some \"tricks\" (not really, just some good old bash scripting) to extract fasta sequences from the BLAST output. For tthis task, we will be using `blast_formatter` again."
   ]
  },
  {
   "cell_type": "code",
   "execution_count": null,
   "id": "e9d03917",
   "metadata": {},
   "outputs": [],
   "source": [
    "%%bash\n",
    "# Convert BLAST output to fasta\n",
    "\n",
    "blast_formatter \\\n",
    "-archive batch_000-blastn-genomesdb.out \\\n",
    "-outfmt '6 ssciname sseqid sseq' \\\n",
    "-max_target_seqs 4 | awk 'BEGIN{FS=\"\\t\"; OFS=\"\\n\"}{gsub(/ /, \"_\", $1);gsub(/-/, \"\", $3); print \">\"$1\"_\"$2,$3}' > ../acromyrmex_orco.fasta\n"
   ]
  },
  {
   "cell_type": "markdown",
   "id": "de48261f",
   "metadata": {},
   "source": [
    "### VERY IMPORTANT!\n",
    "For the next steps, we need to go back to our home folder. Let's do it in steps again."
   ]
  },
  {
   "cell_type": "code",
   "execution_count": null,
   "id": "5e9fa8c8",
   "metadata": {},
   "outputs": [],
   "source": [
    "%%bash\n",
    "## Check where you are\n",
    "pwd"
   ]
  },
  {
   "cell_type": "code",
   "execution_count": null,
   "id": "d795c1c9",
   "metadata": {},
   "outputs": [],
   "source": [
    "## If you're not in the home folder, run this command:\n",
    "%cd ~"
   ]
  },
  {
   "cell_type": "markdown",
   "id": "1fdf2d6a",
   "metadata": {},
   "source": [
    "### Multiple sequence alignment: BLAST matches + *orco* orthologs\n",
    "\n",
    "First, let's simplify the FASTA headers in the ortholog set."
   ]
  },
  {
   "cell_type": "code",
   "execution_count": null,
   "id": "2a0d770e",
   "metadata": {},
   "outputs": [],
   "source": [
    "%%bash\n",
    "# Extract the seqids from the gene ortholog fasta and remove the spaces\n",
    "grep \">\" ortholog/ncbi_dataset/data/gene.fna | sed 's/ /,/g' > ortholog_seqid.txt\n",
    "\n",
    "#Create a mapping file with the original name in the column 1 and a shortened name on column 2\n",
    "cat ortholog_seqid.txt | while read line; do\n",
    "new=$( echo $line | awk 'BEGIN {FS=\",\"; OFS=\"_\"}{gsub(/\\[organism\\=/, \"\", $3);gsub(/]/, \"\", $4);gsub(/\\[GeneID\\=|\\]/, \"\", $5)} ;{print substr($3,1,1)\"_\"$4,$5}'); \n",
    "old=$( echo $line | sed 's/,/\\_/g;s/>//g')\n",
    "printf \"${old}\\t${new}\\n\" >> name_map.tsv; \n",
    "done\n",
    "\n",
    "#Copy the ortholog dataset fasta\n",
    "cp ortholog/ncbi_dataset/data/gene.fna ortholog_gene.fna\n",
    "\n",
    "#Remove spaces in the fasta sequnce names\n",
    "sed 's/ /_/g' ortholog_gene.fna > ortholog_gene_nospaces.fna\n",
    "\n",
    "#Replace the names in the fasta file\n",
    "cat ortholog_gene_nospaces.fna | seqkit replace \\\n",
    "--kv-file  <(cut -f 1,2 name_map.tsv) \\\n",
    "--pattern \"^(.*)\" --replacement \"{kv}\" > ortholog_gene_final.fna"
   ]
  },
  {
   "cell_type": "markdown",
   "id": "2fa2ed2f",
   "metadata": {},
   "source": [
    "### Multiple sequence alignment and phylogenetic reconstruction\n",
    "\n",
    "Now, let's concatenate the FASTA we extracted from the BLAST matches, align them using MAFFT and use FastTree to generate an approximate ML phylogeny."
   ]
  },
  {
   "cell_type": "code",
   "execution_count": null,
   "id": "006779c3",
   "metadata": {},
   "outputs": [],
   "source": [
    "%%bash\n",
    "\n",
    "#Concatenate sequences\n",
    "cat ortholog_gene_final.fna acromyrmex_orco.fasta > orco_all.fasta\n",
    "\n",
    "#align sequences with mafft\n",
    "mafft orco_all.fasta > orco_all_aln.fasta\n",
    "\n",
    "#Generate a phylogeny using fasttree\n",
    "FastTree -nt orco_all_aln.fasta > orco.tree"
   ]
  },
  {
   "cell_type": "markdown",
   "id": "5015f7d8",
   "metadata": {},
   "source": [
    "### Visualizing the tree"
   ]
  },
  {
   "cell_type": "code",
   "execution_count": null,
   "id": "0044312d",
   "metadata": {},
   "outputs": [],
   "source": [
    "# We will use the package toytree to look at the phylogenetic tree we just created\n",
    "\n",
    "import toytree\n",
    "orco_tree = toytree.tree(\"orco.tree\")\n",
    "orco_tree_rooted = orco_tree.root(names=[\"O_brunneus_116854080\",\"D_quadriceps_106748868\",\"H_saltator_105183395\"])\n",
    "orco_tree_rooted.draw(tree_style='d')"
   ]
  },
  {
   "cell_type": "markdown",
   "id": "e2c96c5c-946a-453a-9616-fb663fb29d38",
   "metadata": {},
   "source": [
    "## Cleanup"
   ]
  },
  {
   "cell_type": "markdown",
   "id": "1ec48fc2-7d52-480f-bcb2-8a0353fda090",
   "metadata": {},
   "source": [
    "### Delete cloud resources created by ElasticBLAST\n",
    "\n",
    "If you did not enable ElasticBLAST auto-shutdown feature, cloud resources (like AWS Batch queue and compute environment) have to be deleted manually via the command below:"
   ]
  },
  {
   "cell_type": "code",
   "execution_count": 23,
   "id": "1ccc424e-519e-4f6c-9e61-588339ccb7f9",
   "metadata": {},
   "outputs": [],
   "source": [
    "!elastic-blast delete --results {RESULTS}"
   ]
  },
  {
   "cell_type": "markdown",
   "id": "16b4452f-b20c-4455-9073-fb093bb9501e",
   "metadata": {},
   "source": [
    "### Delete cloud bucket\n",
    "\n",
    "If you do not need BLAST search results stored in the cloud, delete the cloud bucket so that you are not charged for it."
   ]
  },
  {
   "cell_type": "code",
   "execution_count": 33,
   "id": "b6076a0c-30b9-4027-a0c1-f5fb5252b47b",
   "metadata": {
    "scrolled": true
   },
   "outputs": [
    {
     "name": "stdout",
     "output_type": "stream",
     "text": [
      "delete: s3://elasticblast-c34e3f10/batch_000-blastn-genomesdb.out.gz\n",
      "delete: s3://elasticblast-c34e3f10/db/genomesdb.nto\n",
      "delete: s3://elasticblast-c34e3f10/db/genomesdb.nin\n",
      "delete: s3://elasticblast-c34e3f10/db/genomesdb.njs\n",
      "delete: s3://elasticblast-c34e3f10/db/genomesdb.nog\n",
      "delete: s3://elasticblast-c34e3f10/db/genomesdb.nos\n",
      "delete: s3://elasticblast-c34e3f10/db/genomesdb.ntf\n",
      "delete: s3://elasticblast-c34e3f10/metadata/elastic-blast-config.json\n",
      "delete: s3://elasticblast-c34e3f10/metadata/job-ids.json\n",
      "delete: s3://elasticblast-c34e3f10/db/genomesdb.not\n",
      "delete: s3://elasticblast-c34e3f10/metadata/query_length.txt\n",
      "delete: s3://elasticblast-c34e3f10/db/genomesdb.ndb\n",
      "delete: s3://elasticblast-c34e3f10/db/genomesdb.nhr\n",
      "delete: s3://elasticblast-c34e3f10/query_batches/batch_000.fa\n",
      "delete: s3://elasticblast-c34e3f10/metadata/job-ids-v2.json\n",
      "delete: s3://elasticblast-c34e3f10/db/genomesdb.nsq\n",
      "remove_bucket: elasticblast-c34e3f10\n"
     ]
    }
   ],
   "source": [
    "!aws s3 rb {RESULTS} --force"
   ]
  },
  {
   "cell_type": "code",
   "execution_count": null,
   "id": "c5f2a3ef",
   "metadata": {},
   "outputs": [],
   "source": []
  }
 ],
 "metadata": {
  "kernelspec": {
   "display_name": "Python 3 (ipykernel)",
   "language": "python",
   "name": "python3"
  },
  "language_info": {
   "codemirror_mode": {
    "name": "ipython",
    "version": 3
   },
   "file_extension": ".py",
   "mimetype": "text/x-python",
   "name": "python",
   "nbconvert_exporter": "python",
   "pygments_lexer": "ipython3",
   "version": "3.8.12"
  }
 },
 "nbformat": 4,
 "nbformat_minor": 5
}
