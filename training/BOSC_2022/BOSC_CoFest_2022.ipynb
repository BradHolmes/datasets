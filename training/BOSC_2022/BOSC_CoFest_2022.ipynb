{
 "cells": [
  {
   "cell_type": "markdown",
   "id": "a17a866f",
   "metadata": {},
   "source": [
    "# NCBI Datasets and ElasticBLAST - BOSC/CoFest (07/15/2022)"
   ]
  },
  {
   "cell_type": "markdown",
   "id": "26f69883",
   "metadata": {},
   "source": [
    "### Table of contents\n",
    "* [Part I: Introduction to NCBI Datasets](#Part-I) \n",
    "* [Part II: Accessing metadata](#Part-II)\n",
    "* [Part III: Accessing genomes](#Part-III)\n",
    "* [Part IV: Accessing genes](#Part-IV)\n",
    "* [Part V: Accessing orthologs](#Part-V)\n",
    "* [Part VI: Using ElasticBLAST and Datasets](#Part-VI)"
   ]
  },
  {
   "cell_type": "markdown",
   "id": "3c2018eb",
   "metadata": {},
   "source": [
    "### Important resources\n",
    "- Github: https://github.com/ncbi/datasets/tree/master/training/BOSC_2022\n",
    "- NCBI datasets: https://www.ncbi.nlm.nih.gov/datasets/\n",
    "- ElasticBLAST: https://blast.ncbi.nlm.nih.gov/doc/elastic-blast/\n",
    "- jq cheat sheet: https://github.com/ncbi/datasets/blob/master/training/BOSC_2022/jq_cheatsheet.md"
   ]
  },
  {
   "cell_type": "markdown",
   "id": "b8805d73",
   "metadata": {},
   "source": [
    "## Case study: Elmo loves ants\n",
    "\n",
    "Elmo is a graduate student at the Via Sesamum University. As part of his Ph.D. project, he studies Panamanian leaf cutter ants (genus *Acromyrmex*, family Formicidae) and how variation in the gene *orco* (**o**dorant **r**eceptor **co**receptor) affects the colonies of this genus.\n",
    "\n",
    "(here's the [link](https://www.ncbi.nlm.nih.gov/labs/pmc/articles/PMC5556950/) to a cool paper talking about this gene in ants of the species *Ooceraea biroi*)."
   ]
  },
  {
   "cell_type": "markdown",
   "id": "fb672e02",
   "metadata": {},
   "source": [
    "Elmo will use `datasets` to help him gather the existing genomic resources from NCBI. He will:\n",
    "\n",
    "- download all available genomes for the genus *Acromyrmex*\n",
    "- download the *orco* gene from the *Acromyrmex* reference genome\n",
    "- download the ortholog set for this gene for all ants (Formicidae)\n",
    "\n",
    "In addition, he will use `BLAST` and `ElasticBLAST` to do the following tasks:\n",
    "- Download the NCBI taxonomy database \n",
    "- Create a custom BLAST database with taxonomy information\n",
    "- Prepare an ElasticBLAST search on the cloud\n",
    "- Submit an ElasticBLAST search, download and visualize the results\n",
    "- Cleanup after the search is done\n"
   ]
  },
  {
   "cell_type": "markdown",
   "id": "d60a05cb",
   "metadata": {},
   "source": [
    "## Part I: Introduction to NCBI Datasets<a class=\"anchor\" id=\"Part-I\"></a>"
   ]
  },
  {
   "cell_type": "markdown",
   "id": "8b785d5b",
   "metadata": {},
   "source": [
    "### How is `datasets` organized?\n",
    "\n",
    "[NCBI datasets](https://www.ncbi.nlm.nih.gov/datasets/docs/v1/download-and-install/) is a command line tool that allows users to download data packages (data + metadata) or look at metadata summaries for genomes, RefSeq annotated genes, curated ortholog sets and SARS-Cov-2 virus sequences and proteins. The program follows a hierarchy that makes it easier for users to select exact which options they would like to use. In addition to the program commands, additional flags are available for filtering the results. We will go over those during this tutorial.\n",
    "<img src=\"https://www.ncbi.nlm.nih.gov/datasets/docs/v1/datasets_schema_complete.svg\" alt=\"datasets\" style=\"width: 800px;\"/>"
   ]
  },
  {
   "cell_type": "markdown",
   "id": "54d048ca",
   "metadata": {},
   "source": [
    "In addition to `datasets`, we will be using `jq` (JSON parser) to take a look at the metadata information. Our metadata reports are almost all in JSON or [JSON Lines](https://jsonlines.org/) format. We put together a [jq cheat sheet]( https://github.com/ncbi/datasets/blob/workshop-cshl-2021/training/cshl-2021/jq_cheatsheet.md) to help you extract information from those files.  "
   ]
  },
  {
   "cell_type": "markdown",
   "id": "c7f190f7",
   "metadata": {},
   "source": [
    "For example: if I want to download the cat reference genome (<i>Felis catus</i>), I would use the command below:"
   ]
  },
  {
   "cell_type": "code",
   "execution_count": null,
   "id": "2e1c62b3",
   "metadata": {},
   "outputs": [],
   "source": [
    "%%bash\n",
    "#Download and unzip the data package for D. melanogaster (taxid 7227) reference genome, \n",
    "#with associated annotation files and metadata\n",
    "\n",
    "datasets download genome taxon 7227 --reference --no-progressbar --filename dmel_ref.zip\n",
    "unzip dmel_ref.zip -d dmel"
   ]
  },
  {
   "cell_type": "markdown",
   "id": "7c7bdc70",
   "metadata": {},
   "source": [
    "Instead of downloading a data package, I could instead look at the metadata information by using the `summary`command. Here, I'm pipping it to [`jq`](https://stedolan.github.io/jq/) so it's easier to read:"
   ]
  },
  {
   "cell_type": "code",
   "execution_count": null,
   "id": "42a87f34",
   "metadata": {},
   "outputs": [],
   "source": [
    "%%bash\n",
    "#Check the metadata information for the Dmel reference genome\n",
    "\n",
    "datasets summary genome taxon 7227 --reference | jq ."
   ]
  },
  {
   "cell_type": "markdown",
   "id": "cd1ac2d9",
   "metadata": {},
   "source": [
    "### Data packages"
   ]
  },
  {
   "cell_type": "markdown",
   "id": "d66b33f7",
   "metadata": {},
   "source": [
    "NCBI Datasets delivers data as <u>data packages</u>, which which are zip archives containing both data (FASTA, GFF3, GTF, GBFF) and metadata files (JSON, JSON-Lines). The image below shows the contents of the genome data package. Files are included depending on their availability. For example: for an annotated genome, the data package would include FASTA files (genomic, transcript, protein and CDS sequences) and annotation files (GFF3, GTF and GBFF).\n",
    "\n",
    "\n",
    "<img src=\"https://github.com/ncbi/datasets/blob/487ea526b5f398f3958a1ce122d81f3e83340bc0/training/BOSC_2022/images/genome_data_package.png?raw=true\" alt=\"data_package\" />"
   ]
  },
  {
   "cell_type": "markdown",
   "id": "ed84aedf",
   "metadata": {},
   "source": [
    "### How to get help when using the command line\n",
    "\n",
    "Since `datasets` is a very hierarchical program, we can use that characteristic to our advantage to get very specific help.   For example: if we type `datasets --help`, we will see the first level of commands available.\n"
   ]
  },
  {
   "cell_type": "code",
   "execution_count": null,
   "id": "d219e750",
   "metadata": {},
   "outputs": [],
   "source": [
    "%%bash\n",
    "datasets --help"
   ]
  },
  {
   "cell_type": "markdown",
   "id": "db05f935",
   "metadata": {},
   "source": [
    "Notice the difference from when we type `datasets summary genome taxon formicidae --help`  \n"
   ]
  },
  {
   "cell_type": "code",
   "execution_count": null,
   "id": "a09930dd",
   "metadata": {},
   "outputs": [],
   "source": [
    "%%bash\n",
    "datasets summary genome taxon carnivora --help"
   ]
  },
  {
   "cell_type": "markdown",
   "id": "75ad66b3",
   "metadata": {},
   "source": [
    "## Part II: Accessing metadata<a class=\"anchor\" id=\"Part-II\"></a>\n",
    "\n",
    "For example, let's figure out what kind of genome information NCBI has for red pandas (family Ailuridae)."
   ]
  },
  {
   "cell_type": "code",
   "execution_count": null,
   "id": "076161ca",
   "metadata": {},
   "outputs": [],
   "source": [
    "%%bash\n",
    "# Get metadata info\n",
    "\n",
    "datasets summary genome taxon ailuridae"
   ]
  },
  {
   "cell_type": "code",
   "execution_count": null,
   "id": "9f1c4ea3",
   "metadata": {},
   "outputs": [],
   "source": [
    "%%bash\n",
    "# Get metadata info and save to a file\n",
    "\n",
    "datasets summary genome taxon ailuridae > ailuridae_summary.json"
   ]
  },
  {
   "cell_type": "markdown",
   "id": "dd676b9b",
   "metadata": {},
   "source": [
    "**Now let's take a look at the metadata using jq**"
   ]
  },
  {
   "cell_type": "code",
   "execution_count": null,
   "id": "4206d799",
   "metadata": {},
   "outputs": [],
   "source": [
    "%%bash\n",
    "\n",
    "datasets summary genome taxon ailuridae | jq . "
   ]
  },
  {
   "cell_type": "markdown",
   "id": "69593277",
   "metadata": {},
   "source": [
    "**EXERCISE**: Now it's your turn. Choose a taxon (or genome accession) of your interest and use `datasets` to take a quick look at the metadata. Do you see anything interesting?"
   ]
  },
  {
   "cell_type": "code",
   "execution_count": null,
   "id": "fc142d50",
   "metadata": {},
   "outputs": [],
   "source": [
    "%%bash\n",
    "# Get metadata info for\n",
    "\n"
   ]
  },
  {
   "cell_type": "markdown",
   "id": "0c98b353",
   "metadata": {},
   "source": [
    "### A little bit more about json files\n",
    "A JSON (JavaScript Object Notation) file stores data structures and objects. In a very simplified (and non-technical) way, a JSON file is a box, that might contain other boxes with more boxes inside. In `datasets summary genome` our JSON \"box\" is organized like this:\n",
    "\n",
    "<img src=\"https://github.com/ncbi/datasets/blob/master/training/BOSC_2022/images/json8.png?raw=true\" alt=\"image\"/>"
   ]
  },
  {
   "cell_type": "markdown",
   "id": "bec22061",
   "metadata": {},
   "source": [
    "But let's explore the \"boxes\" in stages, so we can understand how everything is organized and how we can use this knowledge to extract information from the summary metadata file. At the first level, we have this: \n",
    "```\n",
    "{\n",
    " assemblies[\n",
    "      assembly{},\n",
    "      assembly{},\n",
    " ],\n",
    " total_count\n",
    "}\n",
    "```\n",
    "<img src=\"https://github.com/ncbi/datasets/blob/master/training/BOSC_2022/images/json1.png?raw=true\" />"
   ]
  },
  {
   "cell_type": "markdown",
   "id": "df8dc57c",
   "metadata": {},
   "source": [
    "If we want to look at the value in the field \"total_count\", here's the command we would use:"
   ]
  },
  {
   "cell_type": "code",
   "execution_count": null,
   "id": "16dcb31e",
   "metadata": {},
   "outputs": [],
   "source": [
    "%%bash\n",
    "datasets summary genome taxon herpestidae | jq '.total_count'"
   ]
  },
  {
   "cell_type": "markdown",
   "id": "648dbd10",
   "metadata": {},
   "source": [
    "If we continue to expand each one of those assembly boxes, more levels of the hierarchy will be revealed. Let's expand each assembly and look at what information we can find at that level.  \n",
    "\n",
    "<img src=\"https://github.com/ncbi/datasets/blob/master/training/BOSC_2022/images/json2a.png?raw=true\" alt=\"image\"/>"
   ]
  },
  {
   "cell_type": "markdown",
   "id": "3332c595",
   "metadata": {},
   "source": [
    "Here we can see that some of the assembly information, such as assembly accession number, contig N50 or submission date are not included inside any of the available \"boxes\" (annotation_metadata, chromosomes, bioproject_lineage, and org). Those fields describe assembly features/characteristics that pertain to the entire assembly, and not only any of those boxes available. What are the contig n50 values of those assemblies?\n",
    "\n",
    "To retrieve that information, we need to call each box, starting from the largest one, until the field we're interested in. And each level is separated from the next by a period (.). \n",
    "\n",
    "<img src=\"https://github.com/ncbi/datasets/blob/master/training/BOSC_2022/images/json3.png?raw=true\" />"
   ]
  },
  {
   "cell_type": "code",
   "execution_count": null,
   "id": "bf818971",
   "metadata": {},
   "outputs": [],
   "source": [
    "%%bash\n",
    "datasets summary genome taxon herpestidae | jq '.assemblies[].assembly.contig_n50'"
   ]
  },
  {
   "cell_type": "markdown",
   "id": "c4998eb9",
   "metadata": {},
   "source": [
    "Now let's see what we have inside `annotation_metadata`, `bioproject_lineages`, `org` and `chromosomes`. \n",
    "<img src=\"https://github.com/ncbi/datasets/blob/master/training/BOSC_2022/images/json8.png?raw=true\" alt=\"image\"/>"
   ]
  },
  {
   "cell_type": "markdown",
   "id": "e4d84d63",
   "metadata": {},
   "source": [
    "Now let's see how we can retrieve the scientific names associated with those assemblies.\n",
    "<img src=\"https://github.com/ncbi/datasets/blob/master/training/BOSC_2022/images/json4.png?raw=true\" />"
   ]
  },
  {
   "cell_type": "code",
   "execution_count": null,
   "id": "d4e19c50",
   "metadata": {},
   "outputs": [],
   "source": [
    "%%bash\n",
    "datasets summary genome taxon herpestidae | jq '.assemblies[].assembly.org.sci_name'"
   ]
  },
  {
   "cell_type": "markdown",
   "id": "7cb3fd67",
   "metadata": {},
   "source": [
    "As you can see, `jq` is very useful in retrieving information from the summary metadata *as long as* you know the path to find it. Let's try a few more complex examples.\n",
    "<img src=\"https://github.com/ncbi/datasets/blob/master/training/BOSC_2022/images/json5.png?raw=true\" />"
   ]
  },
  {
   "cell_type": "markdown",
   "id": "5a7bb1f1",
   "metadata": {},
   "source": [
    "First, let's retrieve information from three fields at the same time: scientific name (`sci_name`), assembly accession number (`assembly_accession`) and contig N50 (`contig_n50`)."
   ]
  },
  {
   "cell_type": "code",
   "execution_count": null,
   "id": "0804f4ca",
   "metadata": {},
   "outputs": [],
   "source": [
    "%%bash\n",
    "datasets summary genome taxon herpestidae | jq '.assemblies[].assembly \n",
    "| (.org.sci_name, .assembly_accession, .contig_n50)'"
   ]
  },
  {
   "cell_type": "markdown",
   "id": "d98060ff",
   "metadata": {},
   "source": [
    "Since all three fields are inside the `.assemblies[].assembly`, we can call the first part of the path once and use a pipe (|) to call each specific field. \n",
    "Now let's try to make this a little easier to read. We can create new fields and assign values to them, like this:"
   ]
  },
  {
   "cell_type": "code",
   "execution_count": null,
   "id": "2237df0b",
   "metadata": {},
   "outputs": [],
   "source": [
    "%%bash\n",
    "datasets summary genome taxon herpestidae | jq '.assemblies[].assembly \n",
    "| {species: .org.sci_name, accession: .assembly_accession, contigN50:.contig_n50}'"
   ]
  },
  {
   "cell_type": "markdown",
   "id": "7a6fe95c",
   "metadata": {},
   "source": [
    "**Last one**: let's look at a larger collection of genome assemblies (let's say, all Carnivora) and select only those assemblies with contig N50 larger than 15 Mb (15000000 bp). `datasets` provides many options for filtering, but there is no built-in filter for contig N50 size.  \n",
    "\n",
    "Here's what we want to see: assembly accession number, species and assembly level for those genomes with contig N50 above 15 Mb."
   ]
  },
  {
   "cell_type": "code",
   "execution_count": null,
   "id": "3f2a71f4",
   "metadata": {},
   "outputs": [],
   "source": [
    "%%bash\n",
    "datasets summary genome taxon carnivora | jq -r '.assemblies[].assembly \n",
    "| select(.contig_n50 > 15000000) \n",
    "| [.assembly_accession, .org.sci_name, .assembly_level] \n",
    "| @tsv'"
   ]
  },
  {
   "cell_type": "markdown",
   "id": "64bd7499",
   "metadata": {},
   "source": [
    "**RESOURCE:**  \n",
    "We included a list of all fields in the genome summary in our [jq cheatsheet](https://github.com/ncbi/datasets/blob/master/training/BOSC_2022/jq_cheatsheet.md) to help you extract the information you need. And we will show you now how to do that. "
   ]
  },
  {
   "cell_type": "markdown",
   "id": "5ee7026d",
   "metadata": {},
   "source": [
    "## Part III: Accessing genomes<a class=\"anchor\" id=\"Part-III\"></a>"
   ]
  },
  {
   "cell_type": "markdown",
   "id": "c2ddc64b",
   "metadata": {},
   "source": [
    "Independent of choosing `datasets download` or `datasets summary`, there are two options for retrieving genome information:\n",
    "- accession (assembly accession and version)\n",
    "- taxon (common name, scientific name or NCBI taxon-ID at any taxonomic level)\n",
    "\n",
    "Additional flags, such as `--assembly-source`, `--reference` or `--annotated`, will help narrow down to the genomes of interest.\n",
    "\n",
    "`datasets download genome accession GCF_018350175.1`  \n",
    "`datasets download genome taxon cat --reference`  \n",
    "\n",
    "Both commands will download the same genome package: cat (<i>Felis catus</i>) <u>reference genome</u>. "
   ]
  },
  {
   "cell_type": "markdown",
   "id": "2f550f75",
   "metadata": {},
   "source": [
    "### Let's continue to explore the available genomes for the family Formicidae"
   ]
  },
  {
   "cell_type": "markdown",
   "id": "87806b8c",
   "metadata": {},
   "source": [
    "For this part, we will use two UNIX commands: `sort` and `uniq`. \n",
    "\n",
    "- `sort` can be used to sort text files line by line, numerically and alphabetically.   \n",
    "- `uniq` will filter out the repeated lines in a file. However, `uniq` can only detect repeated lines if they are adjacent to each other. In other words, if they are alphabetically or numerically sorted. The flag `-c` or `--count` tells the command `uniq` to remove the repeated lines, and to count how many times each value appeared. \n",
    "\n",
    "So, we will use `jq` to extract the information we need, sort the result and count the number of unique entries."
   ]
  },
  {
   "cell_type": "code",
   "execution_count": null,
   "id": "b2c1912d",
   "metadata": {},
   "outputs": [],
   "source": [
    "%%bash\n",
    "# For which species does NCBI have genomes in its database? How many per species?\n",
    "\n",
    "datasets summary genome taxon formicidae | jq '.assemblies[].assembly.org.sci_name' | sort | uniq -c"
   ]
  },
  {
   "cell_type": "code",
   "execution_count": null,
   "id": "6c953fbd",
   "metadata": {},
   "outputs": [],
   "source": [
    "%%bash\n",
    "# What is the assembly level (contig, scaffold, chromosome, complete) breakdown?\n",
    "\n",
    "datasets summary genome taxon formicidae | jq '.assemblies[].assembly.assembly_level' | sort | uniq -c"
   ]
  },
  {
   "cell_type": "markdown",
   "id": "c156555a",
   "metadata": {},
   "source": [
    "Now that we explored the number of available genomes, as well as the assembly level and other important characteristics, it's time to download the genomes for Elmo's research project."
   ]
  },
  {
   "cell_type": "markdown",
   "id": "391f55cc",
   "metadata": {},
   "source": [
    "First, we want to download all genomes for the genus *Acromyrmex* from Genbank. "
   ]
  },
  {
   "cell_type": "code",
   "execution_count": null,
   "id": "fa1fd70d",
   "metadata": {},
   "outputs": [],
   "source": [
    "%%bash\n",
    "# Download all available GenBank assemblies for the genus Acromyrmex and save as genomes.zip\n",
    "datasets download genome taxon acromyrmex --assembly-source genbank --filename genomes.zip --no-progressbar"
   ]
  },
  {
   "cell_type": "markdown",
   "id": "13d89397",
   "metadata": {},
   "source": [
    "The next step is to unzip the data package zip file to a new folder called genomes"
   ]
  },
  {
   "cell_type": "code",
   "execution_count": null,
   "id": "5f57b5e8",
   "metadata": {},
   "outputs": [],
   "source": [
    "%%bash\n",
    "# Unzip genomes.zip to the folder genomes\n",
    "unzip -o genomes.zip -d genomes"
   ]
  },
  {
   "cell_type": "markdown",
   "id": "b2a45969",
   "metadata": {},
   "source": [
    "Finally, let's take a look at the contents of the data package with the command `tree`"
   ]
  },
  {
   "cell_type": "code",
   "execution_count": null,
   "id": "f3337168",
   "metadata": {},
   "outputs": [],
   "source": [
    "%%bash\n",
    "# Explore the folder structure of the folder genome with the command tree\n",
    "tree -C genomes/"
   ]
  },
  {
   "cell_type": "markdown",
   "id": "77a0fe05",
   "metadata": {},
   "source": [
    "### Let's recap our goals\n",
    "\n",
    "We used `datasets` to download all the Genbank assemblies for the genus *Acromyrmex*. The next step is to download the gene *orco* (odorance receptor coreceptor) for the same genus. But first, let's learn more about how genes are organized at NCBI."
   ]
  },
  {
   "cell_type": "markdown",
   "id": "92c031a1",
   "metadata": {},
   "source": [
    "## Part IV: Accessing genes <a class=\"anchor\" id=\"Part-IV\"></a>\n",
    "### GENES"
   ]
  },
  {
   "cell_type": "markdown",
   "id": "5b4d055b",
   "metadata": {},
   "source": [
    "Independent of choosing `datasets download` or `datasets summary`, there are three options for retrieving gene information:\n",
    "- accession\n",
    "- gene-id\n",
    "- symbol\n",
    "\n",
    "When choosing any of those three options, you will retrieve the gene information for the **reference** taxon. Like this:\n",
    "\n",
    "`datasets download gene accession XR_002738142.1`  \n",
    "`datasets download gene gene-id 101081937`  \n",
    "`datasets download gene symbol BRCA1 --taxon cat`  \n",
    "\n",
    "All three commands will download the same gene from the cat (<i>Felis catus</i>) <u>reference genome</u>. \n",
    "\n",
    "#### accession\n",
    "Unique identifier. Accession includes RefSeq RNA and protein accessions. Since it's unique, taxon is implied (aka there will never be two sequences from different taxa with the same accession number).  \n",
    "\n",
    "#### gene-id\n",
    "Also a unique identifier. Every RefSeq genome annotated has a unique set of identifiers. For example: the gene-id for BRCA1 in human is 672, while in cat is 101081937.  \n",
    "\n",
    "#### symbol\n",
    "Differently from accession and gene-id, gene symbol is not unique and means different things in different taxonomic groups. If using the symbol option, you should specify the species. The default option is human.\n",
    "\n",
    "**Remember**: both `summary` and `download` will return results for the **reference assembly** of a <u>single species</u>. If you want to download a curated set of the same gene for multiple taxa, you should use the option `ortholog`. We'll talk more about it later. For reference, here's the JSON organization of the gene summary metadata.  \n",
    "\n",
    "<img src=\"https://github.com/ncbi/datasets/blob/master/training/BOSC_2022/images/gene_json.drawio.png?raw=true\" />\n",
    "\n",
    "Now let's take a look at a gene example:"
   ]
  },
  {
   "cell_type": "code",
   "execution_count": null,
   "id": "6e2b6fe8",
   "metadata": {},
   "outputs": [],
   "source": [
    "%%bash\n",
    "#Example: IFNG in human\n",
    "datasets summary gene symbol ifng | jq -C .\n"
   ]
  },
  {
   "cell_type": "code",
   "execution_count": null,
   "id": "e748073a",
   "metadata": {},
   "outputs": [],
   "source": [
    "%%bash\n",
    "# how datasets deals with synonyms\n",
    "datasets summary gene symbol IFG | jq -C -r '.genes[].gene | {species: .taxname, symbol: .symbol, synonyms:.synonyms}'\n"
   ]
  },
  {
   "cell_type": "code",
   "execution_count": null,
   "id": "94d1bdbf",
   "metadata": {},
   "outputs": [],
   "source": [
    "%%bash\n",
    "#Example: IFNG in cat\n",
    "datasets summary gene symbol ifng --taxon \"felis catus\"\n"
   ]
  },
  {
   "cell_type": "markdown",
   "id": "1d69331f",
   "metadata": {},
   "source": [
    "### Back to ants\n",
    "We will download the gene *orco* for the species *Acromyrmex echinatior*. We will use the gene-id 105147775 instead of the symbol because no informative gene symbol has been assigned for this gene.  "
   ]
  },
  {
   "cell_type": "code",
   "execution_count": null,
   "id": "0d5bb16e",
   "metadata": {},
   "outputs": [],
   "source": [
    "%%bash\n",
    "\n",
    "# Using gene-id to retrieve gene information\n",
    "datasets summary gene gene-id 105147775 | jq -C '.genes[].gene \n",
    "| {gene_description: .description, gene_id: .gene_id, symbol: .symbol, species: .taxname}'"
   ]
  },
  {
   "cell_type": "code",
   "execution_count": null,
   "id": "91058e44",
   "metadata": {},
   "outputs": [],
   "source": [
    "%%bash\n",
    "\n",
    "# if we try to retrieve metadata information for this gene using the symbol orco, what happens?\n",
    "datasets summary gene symbol orco --taxon \"acromyrmex echinatior\"\n"
   ]
  },
  {
   "cell_type": "code",
   "execution_count": null,
   "id": "e08b9763",
   "metadata": {},
   "outputs": [],
   "source": [
    "%%bash\n",
    "\n",
    "# Download the gene data package for the gene-id 105147775 (*orco* in Acromyrmex echinatior)\n",
    "datasets download gene gene-id 105147775 --filename gene.zip --no-progressbar\n"
   ]
  },
  {
   "cell_type": "code",
   "execution_count": null,
   "id": "32ff018d",
   "metadata": {},
   "outputs": [],
   "source": [
    "%%bash\n",
    "#Unzip the file\n",
    "unzip -o gene.zip -d gene"
   ]
  },
  {
   "cell_type": "code",
   "execution_count": null,
   "id": "9ab71ee8",
   "metadata": {},
   "outputs": [],
   "source": [
    "%%bash\n",
    "#Explore the data package structure using tree\n",
    "tree gene"
   ]
  },
  {
   "cell_type": "markdown",
   "id": "970bc941",
   "metadata": {},
   "source": [
    "Now we are going to take advantage of the fact that we are using a Jupyter Notebook and use the package `pandas` to look at the gene data table"
   ]
  },
  {
   "cell_type": "code",
   "execution_count": null,
   "id": "255253a9",
   "metadata": {},
   "outputs": [],
   "source": [
    "import pandas as pd                                                        #load pandas to this notebook\n",
    "gene_orco = pd.read_csv('gene/ncbi_dataset/data/data_table.tsv', sep='\\t') #use pandas to import the data_table.tsv\n",
    "gene_orco                                                                  #visualize the data table as the object gene_orco"
   ]
  },
  {
   "cell_type": "markdown",
   "id": "c908cc8b",
   "metadata": {},
   "source": [
    "## Part V: Accessing orthologs <a class=\"anchor\" id=\"Part-V\"></a>\n",
    "\n",
    "### Orthologs\n",
    "\n",
    "The options to retrieve ortholog sets are the same as those for genes. We'll go over the differences when using each option:\n",
    "\n",
    "- accession\n",
    "- gene-id\n",
    "- symbol\n",
    "\n",
    "When choosing any of those three options, you will download the **full ortholog set** to which they belong (unless you use additional filtering. We'll cover it below). Like this:\n",
    "\n",
    "`datasets download ortholog accession XR_002738142.1`  \n",
    "`datasets download ortholog gene-id 101081937`  \n",
    "`datasets download ortholog symbol BRCA1 --taxon cat`  \n",
    "\n",
    "All three commands will download the **same** ortholog set. \n",
    "\n",
    "---\n",
    "\n",
    "#### <font color='blue'>Wait, but what is an ortholog set?</font>\n",
    "\n",
    ">An ortholog set, or ortholog gene group, is a group of sequences that have been identified by the NCBI genome annotation team as homologous genes related to each other by speciation events. They are identified by a combination of protein similarity + local syntheny information. \n",
    "Currently, NCBI has ortholog sets calculated for vertebrates and some insects. \n",
    "\n",
    "\n",
    "#### accession\n",
    "Unique identifier. Accession includes RefSeq accession RNA and protein sequences. Since it's unique, taxon is implied (aka there will never be two sequences from different taxa with the same accession number).\n",
    "\n",
    "#### gene-id\n",
    "Also an unique identifier. Every RefSeq genome annotated has a unique set of identifiers. For example: the gene-id for BRCA1 in human is 672, while in cat is 101081937. You can use either one (672 or 101081937) to get the same vertebrate BRCA1 ortholog set.\n",
    "\n",
    "#### symbol\n",
    "Differently from accession and gene-id, gene symbol is not unique and means different things in different taxonomic groups. For example: the P53 ortholog set in vertebrates is different from the insect set. If using the symbol option, you should specify the taxonomic group. The default option is human. Note that if you want ortholog sets from multiple vertebrate species, you might end up downloading the same ortholog set multiple times. Like this: \n",
    "\n",
    "`datasets download ortholog symbol brca1 --taxon cat`  \n",
    "`datasets download ortholog symbol brca1 --taxon chicken`  \n",
    "`datasets download ortholog symbol brca1 --taxon \"chelonia mydas\"`  \n",
    "\n",
    "If that's the case, how do you filter the ortholog set to include *only* your taxonomic group of interest?\n",
    "\n",
    "### Applying a taxonomic filter to the ortholog set\n",
    "\n",
    "For the orthologs, `datasets` provides the flag `--taxon-filter`, which allows the user to restrict the summary or download to one or multiple taxonomic groups.  `--taxon` and `--taxon-filter` have different effects on the data package/summary output. A few examples:\n",
    "\n",
    "- `datasets summary ortholog symbol brca1 --taxon-filter \"felis catus\"`  \n",
    "Prints a json metadata summary of the gene brca1 for the domestic cat. \n",
    "We did not specify a `--taxon` because the default is human, and Felidae and human are part of the same brca1 ortholog set.   \n",
    "\n",
    "  \n",
    "\n",
    "- `datasets summary ortholog symbol brca1 --taxon \"felis catus\"`  \n",
    "Even though this option looks almost the same as the one above, the result is *very different*. Here, we're asking `datasets` to find the ortholog set to which the gene brca1 in the domestic cat belongs. And `datasets` will download the <u>entire</u> ortholog set, not only the sequences for the domestic cat.\n",
    "\n",
    "\n",
    "- `datasets summary ortholog symbol brca1 --taxon \"felis catus\" --taxon-filter \"felis catus\"`  \n",
    "gives you the same result as `datasets summary ortholog symbol brca1 --taxon-filter \"felis catus\"`\n",
    "\n",
    "\n",
    "The summary metadata for orthologs is presented in JSON Lines, which means that each gene entry is in a different line. Here's the diagram to help you create queries.\n",
    "  \n",
    "<img src=\"https://github.com/ncbi/datasets/blob/master/training/BOSC_2022/images/ortholog_jsonl.drawio.png?raw=true\" />"
   ]
  },
  {
   "cell_type": "markdown",
   "id": "3673c066",
   "metadata": {},
   "source": [
    "#### We are going to do the following steps:\n",
    "- download the ortholog data package and save it with the name ortholog.zip\n",
    "- unzip it to the folder ortholog\n",
    "- look at the files\n",
    "\n",
    "Helpful info:\n",
    "\n",
    "- gene symbol: orco\n",
    "- gene-id in *Drosophila melanogaster*: 40650\n",
    "- gene-id in *Acromyrmer echinatior*: 105147775\n",
    "- target taxon: Formicidae"
   ]
  },
  {
   "cell_type": "code",
   "execution_count": null,
   "id": "4040acda",
   "metadata": {},
   "outputs": [],
   "source": [
    "%%bash\n",
    "# download the orco ortholog set for ants (Formicidae)\n",
    "datasets download ortholog gene-id 40650 --taxon-filter formicidae --filename ortholog.zip --no-progressbar\n"
   ]
  },
  {
   "cell_type": "code",
   "execution_count": null,
   "id": "c295a289",
   "metadata": {},
   "outputs": [],
   "source": [
    "%%bash\n",
    "# unzip it to the folder ortholog\n",
    "unzip -o ortholog.zip -d ortholog\n"
   ]
  },
  {
   "cell_type": "code",
   "execution_count": null,
   "id": "5f22996a",
   "metadata": {},
   "outputs": [],
   "source": [
    "%%bash\n",
    "#Explore the folder structure\n",
    "tree -C ortholog/\n"
   ]
  },
  {
   "cell_type": "code",
   "execution_count": null,
   "id": "edc2c564",
   "metadata": {},
   "outputs": [],
   "source": [
    "# Create an object called ortho_table using pandas\n",
    "ortho_table = pd.read_csv(\"ortholog/ncbi_dataset/data/data_table.tsv\", sep='\\t')\n",
    "ortho_table"
   ]
  },
  {
   "cell_type": "markdown",
   "id": "ad41374d",
   "metadata": {},
   "source": [
    "## What have we done so far?\n",
    "- Explored metadata for all ant genomes\n",
    "- Downloaded genomes for the panamanian leaf cutter ant\n",
    "- Downloaded the orco gene for Acromyrmex echinatior\n",
    "- Downloaded the ortholog set for all ants for the orco gene\n"
   ]
  },
  {
   "cell_type": "markdown",
   "id": "238a059f-f27e-4248-9419-a2a2d11d2178",
   "metadata": {},
   "source": [
    "# Part VI: ElasticBLAST and Datasets<a class=\"anchor\" id=\"Part-VI\"></a>"
   ]
  },
  {
   "cell_type": "code",
   "execution_count": null,
   "id": "3af06ab9-82da-47f2-9e9c-635ac1d1f99b",
   "metadata": {},
   "outputs": [],
   "source": [
    "from uuid import uuid4\n",
    "import os"
   ]
  },
  {
   "cell_type": "markdown",
   "id": "b69c9f21-939f-4e89-985e-8a12489c8411",
   "metadata": {},
   "source": [
    "## Download sequences\n",
    "\n",
    "If you have already done [Part III: Accessing genomes](#Part-III) and [Part IV: Accessing genes](#Part-IV), you can skip to [Create a new folder for the blast search](#new-folder). If not, follow the steps below.\n"
   ]
  },
  {
   "cell_type": "code",
   "execution_count": null,
   "id": "e9d1d3fe-be30-4f92-9824-61249a6780ef",
   "metadata": {},
   "outputs": [],
   "source": [
    "%%bash\n",
    "# Download the gene data package for the gene-id 105147775 (*orco* in Acromyrmex echinatior)\n",
    "datasets download gene gene-id 105147775 --filename gene.zip --no-progressbar\n",
    "unzip -o gene.zip -d gene"
   ]
  },
  {
   "cell_type": "code",
   "execution_count": null,
   "id": "fed55240-8996-433a-8e5c-cf6292b0eb43",
   "metadata": {},
   "outputs": [],
   "source": [
    "%%bash\n",
    "# Download all available GenBank assemblies for the genus Acromyrmex and save as genomes.zip\n",
    "datasets download genome taxon acromyrmex --assembly-source genbank --filename genomes.zip --no-progressbar\n",
    "unzip -o genomes.zip -d genomes"
   ]
  },
  {
   "cell_type": "markdown",
   "id": "4341a338-b7b1-4cd9-bcc0-cfd1a96a2bbc",
   "metadata": {},
   "source": [
    "### Create a new folder for the blast search <a class=\"anchor\" id=\"new-folder\"></a>"
   ]
  },
  {
   "cell_type": "code",
   "execution_count": null,
   "id": "1313aba3-2879-4027-a204-2ace0913b9d4",
   "metadata": {},
   "outputs": [],
   "source": [
    "%%bash\n",
    "\n",
    "mkdir blast"
   ]
  },
  {
   "cell_type": "markdown",
   "id": "6a60f080-5d98-4433-8796-142205b6eacc",
   "metadata": {},
   "source": [
    "### Download NCBI taxonomy database <a class=\"anchor\" id=\"taxonomy\"></a>"
   ]
  },
  {
   "cell_type": "code",
   "execution_count": null,
   "id": "277f654d-1801-49fc-9ad0-51719aed11d9",
   "metadata": {},
   "outputs": [],
   "source": [
    "# change directory to the folder blast\n",
    "%cd blast\n",
    "\n",
    "# download the NCBI Taxonomy Database (taxdb)\n",
    "!update_blastdb taxdb\n",
    "\n",
    "# back to the home directory\n",
    "%cd ~"
   ]
  },
  {
   "cell_type": "markdown",
   "id": "a4036697-cf53-4a49-977f-232c021770bc",
   "metadata": {},
   "source": [
    "## Create a BLAST database with taxonomy information"
   ]
  },
  {
   "cell_type": "markdown",
   "id": "3ef95337-80af-4a0d-bd6d-95f3d39d8ca8",
   "metadata": {},
   "source": [
    "### Concatenate downloaded genomic sequences in one file"
   ]
  },
  {
   "cell_type": "code",
   "execution_count": null,
   "id": "a586389a-d471-4443-8154-e80bb9669303",
   "metadata": {},
   "outputs": [],
   "source": [
    "%%bash\n",
    "# Concatenate all genomic sequence files into one\n",
    "cat genomes/ncbi_dataset/data/GCA_000204515.1/unplaced.scaf.fna \\\n",
    "  genomes/ncbi_dataset/data/GCA_017607455.1/GCA_017607455.1_ASM1760745v1_genomic.fna \\\n",
    "  genomes/ncbi_dataset/data/GCA_017607545.1/GCA_017607545.1_ASM1760754v1_genomic.fna \\\n",
    "  genomes/ncbi_dataset/data/GCA_017607565.1/GCA_017607565.1_ASM1760756v1_genomic.fna > blast/genomes.fa"
   ]
  },
  {
   "cell_type": "markdown",
   "id": "f1a2b295-42b9-446c-8f23-f35ebd90a294",
   "metadata": {},
   "source": [
    "### Create taxonomy map for the genomic sequences"
   ]
  },
  {
   "cell_type": "code",
   "execution_count": null,
   "id": "7b2d0663-aac2-4107-aa4d-66c1302a71f0",
   "metadata": {},
   "outputs": [],
   "source": [
    "%%bash\n",
    "cat genomes/ncbi_dataset/data/GCA_000204515.1/unplaced.scaf.fna | awk '/>/ {print substr($1, 2, length($1)-1) \"\\t103372\";}' > blast/taxids.tsv\n",
    "cat genomes/ncbi_dataset/data/GCA_017607455.1/GCA_017607455.1_ASM1760745v1_genomic.fna | awk '/>/ {print substr($1, 2, length($1)-1) \"\\t230686\";}' >>blast/taxids.tsv\n",
    "cat genomes/ncbi_dataset/data/GCA_017607545.1/GCA_017607545.1_ASM1760754v1_genomic.fna | awk '/>/ {print substr($1, 2, length($1)-1) \"\\t2715315\";}' >>blast/taxids.tsv\n",
    "cat genomes/ncbi_dataset/data/GCA_017607565.1/GCA_017607565.1_ASM1760756v1_genomic.fna | awk '/>/ {print substr($1, 2, length($1)-1) \"\\t230685\";}' >>blast/taxids.tsv\n",
    "head blast/taxids.tsv"
   ]
  },
  {
   "cell_type": "markdown",
   "id": "52bcf936-ddcf-4ff8-9b7a-3cedf6a32f76",
   "metadata": {},
   "source": [
    "### Create a BLAST database"
   ]
  },
  {
   "cell_type": "code",
   "execution_count": null,
   "id": "9fd8ed30-f587-4521-86f1-fa7ad3b8ce34",
   "metadata": {},
   "outputs": [],
   "source": [
    "# Change to blast directory\n",
    "%cd blast\n",
    "\n",
    "#Create a blast database\n",
    "!makeblastdb -in genomes.fa -out genomesdb -dbtype nucl -parse_seqids -taxid_map taxids.tsv\n",
    "\n",
    "#Change back to the home directory\n",
    "%cd ~ "
   ]
  },
  {
   "cell_type": "markdown",
   "id": "cd7c4ed0-365b-40de-8be5-ff6d7d13545d",
   "metadata": {},
   "source": [
    "## Prepare ElasticBLAST search"
   ]
  },
  {
   "cell_type": "markdown",
   "id": "fb70d9c3-23fa-4ff5-9e8c-2016613bb605",
   "metadata": {},
   "source": [
    "### ElasticBLAST results bucket\n",
    "\n",
    "ElasticBLAST uses a cloud storage bucket to store a BLAST database and search results. If you already have an S3 bucket assign its URI to `RESULTS` variable. Otherwise, running this cell without modifications will generate a name with a random suffix.\n",
    "\n",
    "Remember that S3 bucket names must be globally unique. You cannot use a bucket name if one already exists."
   ]
  },
  {
   "cell_type": "code",
   "execution_count": null,
   "id": "e52f0151-82ff-416c-9915-65d167348159",
   "metadata": {},
   "outputs": [],
   "source": [
    "YOURNAME = f'{str(uuid4())[:8]}'\n",
    "RESULTS = f's3://elasticblast-{YOURNAME}'\n",
    "print(f'Your results bucket: {RESULTS}')\n",
    "!echo {RESULTS} >results_bucket"
   ]
  },
  {
   "cell_type": "markdown",
   "id": "6c37d221-ae14-4190-a571-ae86f5ff855d",
   "metadata": {},
   "source": [
    "### Create results bucket\n",
    "\n",
    "Skip this step if the bucket already exists."
   ]
  },
  {
   "cell_type": "code",
   "execution_count": null,
   "id": "7a3325ca-9339-4621-936b-7e9c7a4cf75d",
   "metadata": {},
   "outputs": [],
   "source": [
    "!aws s3 mb {RESULTS}"
   ]
  },
  {
   "cell_type": "markdown",
   "id": "60598a20-a84a-410d-8f5a-37583a8e605f",
   "metadata": {},
   "source": [
    "### Upload your BLAST database\n",
    "\n",
    "ElasticBLAST searches BLAST databases stored in cloud storage. Upload your database to your cloud bucket."
   ]
  },
  {
   "cell_type": "code",
   "execution_count": null,
   "id": "7c759fe4-fdf3-4892-b542-68f375371b14",
   "metadata": {
    "scrolled": true
   },
   "outputs": [],
   "source": [
    "!aws s3 cp blast {RESULTS}/db --recursive --exclude \"*\" --include \"genomesdb.*\""
   ]
  },
  {
   "cell_type": "markdown",
   "id": "45176346-63fb-41e5-a310-bcd2dbb81529",
   "metadata": {},
   "source": [
    "### ElasticBLAST configuration\n",
    "\n",
    "ElasticBLAST uses a configuration file to specify search parameters, such as query, database, search program, and parameters. For easier code management we will assign ElasticBLAST configuration file name to the variable `conf_file`."
   ]
  },
  {
   "cell_type": "code",
   "execution_count": null,
   "id": "19c8934c-a344-439f-8b08-aeba4a8a756a",
   "metadata": {},
   "outputs": [],
   "source": [
    "conf_file = 'elastic-blast-config.ini'"
   ]
  },
  {
   "cell_type": "markdown",
   "id": "93530cab-6045-47f1-ac54-42c904a43a34",
   "metadata": {},
   "source": [
    "The cell below will write the contents of ElasticBLAST configuration file.\n",
    "\n",
    "The configuration file instructs ElasticBLAST to do a BLASTN search of query sequences in file `gene/ncbi_dataset/data/gene.fna` against the database in your results bucket."
   ]
  },
  {
   "cell_type": "code",
   "execution_count": null,
   "id": "a8e31efd-e161-427b-9347-555053acf98e",
   "metadata": {},
   "outputs": [],
   "source": [
    "# These are the contents of ElasticBLAST config \n",
    "conf = f\"\"\"\n",
    "[cluster]\n",
    "num-nodes = 1\n",
    "\n",
    "[blast]\n",
    "program = blastn\n",
    "db = {RESULTS}/db/genomesdb\n",
    "queries = gene/ncbi_dataset/data/gene.fna\n",
    "options = -evalue 1e-50 -outfmt 11 -max_hsps 1\n",
    "\"\"\"\n",
    "\n",
    "# Write the config to the file: elastic-blast-config.ini\n",
    "with open(conf_file, 'w') as f:\n",
    "    f.write(conf)"
   ]
  },
  {
   "cell_type": "markdown",
   "id": "f2e35195-dae0-4fcb-aa5c-ad5ff7ff9352",
   "metadata": {},
   "source": [
    "## Submit an ElasticBLAST search\n",
    "\n",
    "We can now submit the ElasticBLAST search, run the cell below. The submission may take a few minutes."
   ]
  },
  {
   "cell_type": "code",
   "execution_count": null,
   "id": "f53dca5d-92ad-4c80-a10a-873cf0ed7416",
   "metadata": {},
   "outputs": [],
   "source": [
    "os.environ['AWS_DEFAULT_REGION'] = 'us-east-1'\n",
    "os.environ['ELB_DISABLE_AUTO_SHUTDOWN'] = '1'\n",
    "!elastic-blast submit --cfg {conf_file} --results {RESULTS}"
   ]
  },
  {
   "cell_type": "markdown",
   "id": "d4044c8e-fc43-41fe-a77d-776bfa927478",
   "metadata": {},
   "source": [
    "## Check search status\n",
    "\n",
    "The cell below checks search status. ElasticBLAST splits query sequences into batches. The elastic-blast status command shows how many of these batches are pending, running, completed, or completed. When the whole search is done you will see only the message: \"Your ElasticBLAST search succeeded ...\" or \"Your ElasticBLAST search failed ...\""
   ]
  },
  {
   "cell_type": "code",
   "execution_count": null,
   "id": "b90ee9ac-f35f-4f79-a1bb-b813ed7b22f9",
   "metadata": {},
   "outputs": [],
   "source": [
    "!elastic-blast status --results {RESULTS}"
   ]
  },
  {
   "cell_type": "markdown",
   "id": "f73f572b-354c-48d5-84bd-5fb3e4f4f3dc",
   "metadata": {},
   "source": [
    "## Wait until the search is done\n",
    "\n",
    "Run the cell below to wait until the search is done. The cell will keep working until ElasticBLAST search is complete."
   ]
  },
  {
   "cell_type": "code",
   "execution_count": null,
   "id": "d63e6f9b-ee40-4124-8b58-53a7ed9962cf",
   "metadata": {},
   "outputs": [],
   "source": [
    "!elastic-blast status --results {RESULTS} --wait"
   ]
  },
  {
   "cell_type": "markdown",
   "id": "dc3c8a0c-753c-4190-86a7-0165c2f64488",
   "metadata": {},
   "source": [
    "We will change working directory to blast."
   ]
  },
  {
   "cell_type": "code",
   "execution_count": null,
   "id": "eca9dcc0-7781-436e-b6dd-66164b013461",
   "metadata": {},
   "outputs": [],
   "source": [
    "%cd blast"
   ]
  },
  {
   "cell_type": "markdown",
   "id": "351f1cd4-f822-4405-9818-6b7a7117ccf0",
   "metadata": {},
   "source": [
    "## Download and uncompress results\n",
    "\n",
    "When an ElasticBLAST search is done, search results are placed in your results bucket. Now we need to download and uncompress the results to analyze them."
   ]
  },
  {
   "cell_type": "code",
   "execution_count": null,
   "id": "749d8c7e-7947-47a4-a2fd-4a518908fe49",
   "metadata": {},
   "outputs": [],
   "source": [
    "!aws s3 cp {RESULTS} . --exclude \"*\" --include \"*.out.gz\" --recursive\n",
    "!gzip -d -f batch_*.gz"
   ]
  },
  {
   "cell_type": "markdown",
   "id": "3223a9a9-33a2-41cb-8a15-24bfbaf7edcb",
   "metadata": {},
   "source": [
    "### Convert results to the tabular format"
   ]
  },
  {
   "cell_type": "code",
   "execution_count": null,
   "id": "0681cc5c-3b81-4ebb-8089-172abd9e3c3c",
   "metadata": {
    "scrolled": true
   },
   "outputs": [],
   "source": [
    "%%bash\n",
    "blast_formatter \\\n",
    "-archive batch_000-blastn-genomesdb.out \\\n",
    "-outfmt '6 sseqid sstart send evalue length staxid ssciname' > orco_acromyrmex_1e-50.tsv\n",
    "head orco_acromyrmex_1e-50.tsv"
   ]
  },
  {
   "cell_type": "markdown",
   "id": "ad0ead0a",
   "metadata": {},
   "source": [
    "#### Converting from BLAST to fasta\n",
    "\n",
    "Now we are going to use some \"tricks\" (not really, just some good old bash scripting) to extract fasta sequences from the BLAST output. For tthis task, we will be using `blast_formatter` again."
   ]
  },
  {
   "cell_type": "code",
   "execution_count": null,
   "id": "6b0fcd5b",
   "metadata": {},
   "outputs": [],
   "source": [
    "%%bash\n",
    "# Convert BLAST output to fasta\n",
    "\n",
    "blast_formatter \\\n",
    "-archive batch_000-blastn-genomesdb.out \\\n",
    "-outfmt '6 ssciname sseqid sseq' \\\n",
    "-max_target_seqs 4 | awk 'BEGIN{FS=\"\\t\"; OFS=\"\\n\"}{gsub(/ /, \"_\", $1);gsub(/-/, \"\", $3); print \">\"$1\"_\"$2,$3}' > ../acromyrmex_orco.fasta\n"
   ]
  },
  {
   "cell_type": "markdown",
   "id": "de48261f",
   "metadata": {},
   "source": [
    "### VERY IMPORTANT!\n",
    "For the next steps, we need to go back to our home folder. Let's do it in steps again."
   ]
  },
  {
   "cell_type": "code",
   "execution_count": null,
   "id": "5e9fa8c8",
   "metadata": {},
   "outputs": [],
   "source": [
    "%%bash\n",
    "## Check where you are\n",
    "pwd"
   ]
  },
  {
   "cell_type": "code",
   "execution_count": null,
   "id": "d795c1c9",
   "metadata": {},
   "outputs": [],
   "source": [
    "## If you're not in the home folder, run this command:\n",
    "%cd ~"
   ]
  },
  {
   "cell_type": "markdown",
   "id": "1fdf2d6a",
   "metadata": {},
   "source": [
    "### Multiple sequence alignment: BLAST matches + *orco* orthologs\n",
    "\n",
    "First, let's simplify the FASTA headers in the ortholog set. Since we will be building a phylogeny, we want the names to be easy to read."
   ]
  },
  {
   "cell_type": "markdown",
   "id": "bfcdf1ea-aa26-428c-be22-1408e68d09f0",
   "metadata": {},
   "source": [
    "First, we're extract the FASTA headers and save it as a text file."
   ]
  },
  {
   "cell_type": "code",
   "execution_count": null,
   "id": "2a0d770e",
   "metadata": {},
   "outputs": [],
   "source": [
    "%%bash\n",
    "\n",
    "grep \">\" ortholog/ncbi_dataset/data/gene.fna > ortholog_seqid.txt\n",
    "head ortholog_seqid.txt"
   ]
  },
  {
   "cell_type": "markdown",
   "id": "fe6e3319-522b-4554-a388-a73af16c8d7e",
   "metadata": {},
   "source": [
    "Now let's create a file with two columns: column 1 will be the original name and column 2 will be what we want the FASTA headers to be. "
   ]
  },
  {
   "cell_type": "code",
   "execution_count": null,
   "id": "0a0a8490-0562-45d3-b67c-27e55930d8c6",
   "metadata": {},
   "outputs": [],
   "source": [
    "%%bash\n",
    "\n",
    "rm name_map.tsv\n",
    "cat ortholog_seqid.txt | while read line; do\n",
    "    accession=$( echo \"$line\" | grep -o -P '^>\\K[^:$]+') #extract accession\n",
    "    species=$( echo \"$line\" | grep -o -P '(?<=organism\\=).*?(?=])' | sed 's/ /\\_/g' ) #extract species name and replace space by underscore\n",
    "    geneid=$(echo \"$line\" | grep -o -P '(?<=GeneID\\=).*?(?=])' )  #extract the GeneID\n",
    "    old=$( echo $line | sed 's/ /\\_/g;s/>//g')  #replace space by underscore and remove the \">\"\n",
    "    printf \"${old}\\t${species}-${accession}-${geneid}\\n\" >> name_map.tsv ; \n",
    "done\n"
   ]
  },
  {
   "cell_type": "markdown",
   "id": "150a313f-a893-4580-809a-f27bfa348913",
   "metadata": {},
   "source": [
    "Now let's make a copy of the ortholog sequence file (so we can keep the original) and change the FASTA header by replacing spaces by underscores."
   ]
  },
  {
   "cell_type": "code",
   "execution_count": null,
   "id": "e0a2c678-e4d5-4d08-b7a5-b12e038a114d",
   "metadata": {},
   "outputs": [],
   "source": [
    "%%bash\n",
    "\n",
    "#Copy the ortholog dataset fasta\n",
    "cp ortholog/ncbi_dataset/data/gene.fna ortholog_gene.fna\n",
    "\n",
    "#Remove spaces in the fasta sequnce names\n",
    "sed 's/ /_/g' ortholog_gene.fna > ortholog_gene_nospaces.fna\n"
   ]
  },
  {
   "cell_type": "markdown",
   "id": "ff333dcd-d6cc-4ae1-9321-f84e196c5b7b",
   "metadata": {},
   "source": [
    "Finally, let's use [`seqkit`](https://bioinf.shenwei.me/seqkit/usage/) to replace the FASTA headers."
   ]
  },
  {
   "cell_type": "code",
   "execution_count": null,
   "id": "a3b842d3-9f97-4c37-8f1f-943d2af856d2",
   "metadata": {},
   "outputs": [],
   "source": [
    "%%bash\n",
    "\n",
    "#Replace the names in the fasta file\n",
    "cat ortholog_gene_nospaces.fna | seqkit replace \\\n",
    "--kv-file  <(cut -f 1,2 name_map.tsv) \\\n",
    "--pattern \"^(.*)\" --replacement \"{kv}\" > ortholog_gene_final.fna"
   ]
  },
  {
   "cell_type": "markdown",
   "id": "2469c265-d360-487b-ab27-45624572240f",
   "metadata": {},
   "source": [
    "Let's check the final FASTA headers"
   ]
  },
  {
   "cell_type": "code",
   "execution_count": null,
   "id": "fadbcb5b-cfd6-4107-a79b-a0a7050a5de4",
   "metadata": {},
   "outputs": [],
   "source": [
    "%%bash\n",
    "\n",
    "grep \">\" ortholog_gene_final.fna"
   ]
  },
  {
   "cell_type": "markdown",
   "id": "2fa2ed2f",
   "metadata": {},
   "source": [
    "### Multiple sequence alignment and phylogenetic reconstruction\n",
    "\n",
    "Now, let's concatenate the FASTA we extracted from the BLAST matches, align them using MAFFT and use FastTree to generate an approximate ML phylogeny."
   ]
  },
  {
   "cell_type": "code",
   "execution_count": null,
   "id": "006779c3",
   "metadata": {},
   "outputs": [],
   "source": [
    "%%bash\n",
    "\n",
    "#Concatenate sequences. \n",
    "cat ortholog_gene_final.fna acromyrmex_orco.fasta > orco_all.fasta\n",
    "\n",
    "#align sequences with mafft\n",
    "mafft orco_all.fasta > orco_all_aln.fasta\n",
    "\n",
    "#Generate a phylogeny using fasttree\n",
    "FastTree -nt orco_all_aln.fasta > orco.tree"
   ]
  },
  {
   "cell_type": "markdown",
   "id": "5015f7d8",
   "metadata": {},
   "source": [
    "### Visualizing the tree"
   ]
  },
  {
   "cell_type": "code",
   "execution_count": null,
   "id": "0044312d",
   "metadata": {},
   "outputs": [],
   "source": [
    "# We will use the package toytree to look at the phylogenetic tree we just created\n",
    "\n",
    "import toytree\n",
    "orco_tree = toytree.tree(\"orco.tree\")\n",
    "orco_tree_rooted = orco_tree.root(names=[\"Odontomachus_brunneus-NW_022639457.1-116854080\",\"Dinoponera_quadriceps-NW_014554446.1-106748868\",\"Harpegnathos_saltator-NW_020230404.1-105183395\"])\n",
    "orco_tree_rooted.draw(tree_style='d')"
   ]
  },
  {
   "cell_type": "markdown",
   "id": "e2c96c5c-946a-453a-9616-fb663fb29d38",
   "metadata": {},
   "source": [
    "## Cleanup"
   ]
  },
  {
   "cell_type": "markdown",
   "id": "1ec48fc2-7d52-480f-bcb2-8a0353fda090",
   "metadata": {},
   "source": [
    "### Delete cloud resources created by ElasticBLAST\n",
    "\n",
    "If you did not enable ElasticBLAST auto-shutdown feature, cloud resources (like AWS Batch queue and compute environment) have to be deleted manually via the command below:"
   ]
  },
  {
   "cell_type": "code",
   "execution_count": null,
   "id": "1ccc424e-519e-4f6c-9e61-588339ccb7f9",
   "metadata": {},
   "outputs": [],
   "source": [
    "!elastic-blast delete --results {RESULTS}"
   ]
  },
  {
   "cell_type": "markdown",
   "id": "16b4452f-b20c-4455-9073-fb093bb9501e",
   "metadata": {},
   "source": [
    "### Delete cloud bucket\n",
    "\n",
    "If you do not need BLAST search results stored in the cloud, delete the cloud bucket so that you are not charged for it."
   ]
  },
  {
   "cell_type": "code",
   "execution_count": null,
   "id": "b6076a0c-30b9-4027-a0c1-f5fb5252b47b",
   "metadata": {
    "scrolled": true
   },
   "outputs": [],
   "source": [
    "!aws s3 rb {RESULTS} --force"
   ]
  },
  {
   "cell_type": "code",
   "execution_count": null,
   "id": "c5f2a3ef",
   "metadata": {},
   "outputs": [],
   "source": []
  }
 ],
 "metadata": {
  "kernelspec": {
   "display_name": "Python 3.7",
   "language": "python",
   "name": "py3.7"
  },
  "language_info": {
   "codemirror_mode": {
    "name": "ipython",
    "version": 3
   },
   "file_extension": ".py",
   "mimetype": "text/x-python",
   "name": "python",
   "nbconvert_exporter": "python",
   "pygments_lexer": "ipython3",
   "version": "3.7.12"
  }
 },
 "nbformat": 4,
 "nbformat_minor": 5
}
