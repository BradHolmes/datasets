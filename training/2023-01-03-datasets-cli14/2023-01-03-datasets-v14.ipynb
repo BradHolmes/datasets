{
 "cells": [
  {
   "cell_type": "markdown",
   "id": "a17a866f",
   "metadata": {},
   "source": [
    "# NCBI Datasets - Retrieving ant orthologs with v14"
   ]
  },
  {
   "cell_type": "markdown",
   "id": "26f69883",
   "metadata": {},
   "source": [
    "### Table of contents REVIEW\n",
    "* [Part I: Accessing genomes](#Part-I)\n",
    "* [Part II: Accessing genes](#Part-II)\n",
    "* [Part III: Accessing orthologs](#Part-III)\n",
    "* [Part IV: Building a BLAST database and creating a phylogenetic tree](#Part-IV)\n",
    "* [Part V: Downloading large datasets (dehydration/rehydration)](#Part-V)"
   ]
  },
  {
   "cell_type": "markdown",
   "id": "3c2018eb",
   "metadata": {},
   "source": [
    "### Important resources\n",
    "- Github: https://github.com/ncbi/datasets/training\n",
    "- NCBI datasets: https://www.ncbi.nlm.nih.gov/datasets/"
   ]
  },
  {
   "cell_type": "markdown",
   "id": "ec6eeabe",
   "metadata": {},
   "source": [
    "## Before we start... What is a jupyter notebook?\n",
    "\n",
    "Jupyter Notebooks are a web-based approach to interactive code. A single notebook (the file you are currently reading) is composed of many \"cells\" which can contain either text, or code. To navigate between cells, either click, or use the arrow keys on your keyboard.\n",
    "\n",
    "A text cell will look like... well... this! While a code cell will look something like what you see below. To run the code inside a code cell, click on it, then click the \"Run\" button at the top of the screen. Try it on the code cell below!"
   ]
  },
  {
   "cell_type": "code",
   "execution_count": null,
   "id": "c93b68fd",
   "metadata": {},
   "outputs": [],
   "source": [
    "#This is a code cell\n",
    "print('You ran the code cell!')"
   ]
  },
  {
   "cell_type": "markdown",
   "id": "9bea448c",
   "metadata": {},
   "source": [
    "If it worked, you should have seen text pop up underneath the cell saying `You ran the code cell!`. Note the `In [1]:` that appeared next to the cell. This tells you the order you have run code cells throughout the notebook. The next time you run a code cell, it will say `In [2]:`, then `In [3]:` and so on... This will help you know if/when code has been run.\n",
    "\n",
    "The remainder of the notebook below has been pre-built by the workshop organizer. You will not need to create any new cells, and you will be explicitly told if/when to execute a code cell.\n",
    "\n",
    "The code in this workshop is either Bash (i.e., terminal commands) or Python. Bash commands are prefixed with `!` or the cells have the notation `%%bash` at the top., while Python commands are not. If you are not familiar with code, don't feel pressured to interpret it very deeply. Descriptions of each code block will be provided!\n",
    "\n",
    "(Jupyter Notebook explanation by Cooper Park at the workshop on [Finding and Analyzing Metagenomic Data](https://www.nlm.nih.gov/oet/ed/ncbi/2021_10_meta.html))"
   ]
  },
  {
   "cell_type": "markdown",
   "id": "b8805d73",
   "metadata": {},
   "source": [
    "## Case study: Elmo loves ants\n",
    "\n",
    "Elmo is a graduate student at the Via Sesamum University. As part of his Ph.D. project, he studies Panamanian leaf cutter ants (genus *Acromyrmex*, family Formicidae) and how variation in the gene *orco* (**o**dorant **r**eceptor **co**receptor) affects the colonies of this genus.\n",
    "\n",
    "(here's the [link](https://www.ncbi.nlm.nih.gov/labs/pmc/articles/PMC5556950/) to a cool paper talking about this gene in ants of the species *Ooceraea biroi*).\n",
    "\n",
    "![ants](https://github.com/ncbi/datasets/blob/master/training/cshl-2021/images/ants.png?raw=true)"
   ]
  },
  {
   "cell_type": "markdown",
   "id": "fb672e02",
   "metadata": {},
   "source": [
    "Elmo will use `datasets` to help him gather the existing genomic resources from NCBI. He will:\n",
    "\n",
    "- download all available genomes for the genus *Acromyrmex*\n",
    "- download the *orco* gene from the *Acromyrmex* reference genome\n",
    "- download the ortholog set for this gene for all ants (Formicidae)\n",
    "\n",
    "In addition, he will also do the following tasks:\n",
    "- Create a custom BLAST database with the Panamanian leaf cutter ants genomes \n",
    "- BLAST the gene *orco* against the database\n",
    "- Multiple sequence alignment of the BLAST results and the ortholog gene sequences\n",
    "- Build a phylogenetic tree"
   ]
  },
  {
   "cell_type": "markdown",
   "id": "8b785d5b",
   "metadata": {},
   "source": [
    "### How is `datasets` organized?\n",
    "\n",
    "[NCBI datasets](https://www.ncbi.nlm.nih.gov/datasets/docs/v1/quickstarts/command-line-tools/) is a command line tool that allows users to download data packages (data + metadata) or look at metadata summaries for genomes, RefSeq annotated genes, curated ortholog sets and virus genome sequences and SARS-Cov-2 proteins. The program follows a hierarchy that makes it easier for users to select exact which options they would like to use. In addition to the program commands, additional flags are available for filtering the results. We will go over those during this tutorial.\n",
    "<img src=\"./images/datasets1.png\" alt=\"datasets\" style=\"width: 700px;\"/>"
   ]
  },
  {
   "cell_type": "markdown",
   "id": "ff69c110",
   "metadata": {},
   "source": [
    "### `dataformat`\n",
    "\n",
    "Now we are going to combine `datasets` with another tool called `dataformat`. `dataformat` allows you to extract metadata information from the JSON-Lines data report files included with all `datasets` data packages or accessible through `summary` command. You can use `dataformat` to:\n",
    "- Create a tab-delimited file (.tsv) or excel file with the fields you need\n",
    "- Quickly visualize the information on the screen\n",
    "\n",
    "<img src=\"./images/dataformat1.png\" alt=\"dataformat\"  style=\"width: 700px;\"/>"
   ]
  },
  {
   "cell_type": "code",
   "execution_count": null,
   "id": "a9176757",
   "metadata": {},
   "outputs": [],
   "source": [
    "%%bash\n",
    "# Read the dataformat help menu. This is a great way to get a list of the available metadata fields.\n",
    "dataformat tsv genome -h"
   ]
  },
  {
   "cell_type": "markdown",
   "id": "75ad66b3",
   "metadata": {},
   "source": [
    "## Part I: Accessing genomes<a class=\"anchor\" id=\"Part-I\"></a>"
   ]
  },
  {
   "cell_type": "markdown",
   "id": "c5509425",
   "metadata": {},
   "source": [
    "<img src=\"./images/elmo_workflow.png\" style=\"width: 600px;\">"
   ]
  },
  {
   "cell_type": "markdown",
   "id": "b29b46e2",
   "metadata": {},
   "source": [
    "First, let's figure out what kind of genome information NCBI has for ants (family Formicidae). For this task, we will use the command `datasets summary` command, as shown in the diagram below. We will pipe the `datasets` output to `jq` so we can see how many ant genomes are in the NCBI database."
   ]
  },
  {
   "cell_type": "markdown",
   "id": "b1c78dcf",
   "metadata": {},
   "source": [
    "<img src=\"./images/datasets-s-genome-tax.png\" style=\"width: 800px;\"/>"
   ]
  },
  {
   "cell_type": "code",
   "execution_count": null,
   "id": "076161ca",
   "metadata": {},
   "outputs": [],
   "source": [
    "%%bash\n",
    "# Get metadata info\n",
    "datasets summary genome taxon formicidae | jq '.total_count'\n"
   ]
  },
  {
   "cell_type": "markdown",
   "id": "0993d504",
   "metadata": {},
   "source": [
    "Now we know that there are 108 ant genomes at NCBI. Let's save the full metadata file as JSON-Lines using the flag `--as-json-lines` to make it easier to extract information from the metadata file later."
   ]
  },
  {
   "cell_type": "code",
   "execution_count": null,
   "id": "9f1c4ea3",
   "metadata": {},
   "outputs": [],
   "source": [
    "%%bash\n",
    "# Get metadata info and save to a file\n",
    "datasets summary genome taxon formicidae --as-json-lines > formicidae_summary.jsonl"
   ]
  },
  {
   "cell_type": "markdown",
   "id": "dd676b9b",
   "metadata": {},
   "source": [
    "**Now let's take a look at the metadata using jq**  \n",
    "Since the output is really long, we will only show the first 50 lines (`head -n 50`). The flag `-C` in the `jq` command shows the output in color, which maes it easier to read."
   ]
  },
  {
   "cell_type": "code",
   "execution_count": null,
   "id": "4206d799",
   "metadata": {},
   "outputs": [],
   "source": [
    "%%bash\n",
    "\n",
    "cat formicidae_summary.jsonl | jq -C . | head -n 50\n"
   ]
  },
  {
   "cell_type": "markdown",
   "id": "0c98b353",
   "metadata": {},
   "source": [
    "### A little bit more about JSON files\n",
    "\n",
    "A JSON (JavaScript Object Notation) file stores data structures and objects. In a very simplified (and non-technical) way, a JSON file is a box, that might contain other boxes with more boxes inside. The same is true for JSON-Lines; the difference is that in a JSON-Lines file, each line represents a full JSON object.  \n",
    "\n",
    "At the first level of `datasets summary genome` our JSON-Lines \"box\" is organized like this:\n",
    " \n",
    "```\n",
    "{\n",
    " assemblies[\n",
    "      assembly{},\n",
    "      assembly{},\n",
    " ],\n",
    " total_count\n",
    "}\n",
    "```\n",
    "If we want to look at the value in the field \"total_count\", here's the command we would use:"
   ]
  },
  {
   "cell_type": "code",
   "execution_count": null,
   "id": "16dcb31e",
   "metadata": {},
   "outputs": [],
   "source": [
    "%%bash\n",
    "datasets summary genome taxon herpestidae | jq '.total_count'"
   ]
  },
  {
   "cell_type": "markdown",
   "id": "a8e0a749",
   "metadata": {},
   "source": [
    "As we mentioned above, in addition to `datasets`, we have a companion tool called `dataformat`. `dataformat` converts `datasets` JSON-Lines outputs to `tsv` or Excel <html>&reg;</html> formats. Similarly to our JSON reports, `dataformat` also follows a hierarchical organization.\n",
    "<br>\n",
    "<img src=\"./images/dataformat-genome.png\" style=\"width:900px;\"/>\n",
    "\n"
   ]
  },
  {
   "cell_type": "markdown",
   "id": "7747070e",
   "metadata": {},
   "source": [
    "For example: if we want to explore some  basic assembly stats (such as contig N50), we can will find that information in the box `assmstats` (`assm` = assembly). This image is useful to help you build the field names `dataformat` recognizes. In this example, the field name has two parts: `assmstats` and `contig-n50`, and those will be joined by a dash (`-`), like this: `assmstats-contig-n50`.\n",
    "<br>\n",
    "<img src=\"./images/dataformat-genome-contign50.png\" style=\"width:900px;\"/>\n"
   ]
  },
  {
   "cell_type": "code",
   "execution_count": null,
   "id": "bf818971",
   "metadata": {
    "scrolled": true
   },
   "outputs": [],
   "source": [
    "%%bash\n",
    "datasets summary genome taxon herpestidae --as-json-lines | dataformat tsv genome --fields assmstats-contig-n50\n",
    "\n",
    "#The equivalent jq command is shown below:\n",
    "#datasets summary genome taxon herpestidae --as-json-lines | jq '.assembly_stats.contig_n50'"
   ]
  },
  {
   "cell_type": "markdown",
   "id": "e4d84d63",
   "metadata": {},
   "source": [
    "Now let's see how we can retrieve the scientific names associated with those assemblies.\n",
    "<br>\n",
    "<img src=\"./images/dataformat-genome-org.png\" style=\"width:900px;\"/>"
   ]
  },
  {
   "cell_type": "code",
   "execution_count": null,
   "id": "d4e19c50",
   "metadata": {},
   "outputs": [],
   "source": [
    "%%bash\n",
    "datasets summary genome taxon herpestidae --as-json-lines | dataformat tsv genome --fields organism-name\n",
    "\n",
    "#jq equivalent:\n",
    "#datasets summary genome taxon herpestidae --as-json-lines | jq '.organism.organism_name'"
   ]
  },
  {
   "cell_type": "markdown",
   "id": "7cb3fd67",
   "metadata": {},
   "source": [
    "As you can see, `dataformat` is very useful in retrieving information from the summary metadata. Let's try a few more complex examples."
   ]
  },
  {
   "cell_type": "markdown",
   "id": "5a7bb1f1",
   "metadata": {},
   "source": [
    "First, let's retrieve information from three fields at the same time: scientific name, biosample accession number  and contig N50.\n",
    "<br>\n",
    "<img src=\"./images/dataformat-genome-3fields.png\" style=\"width:900px;\"/>"
   ]
  },
  {
   "cell_type": "code",
   "execution_count": null,
   "id": "0804f4ca",
   "metadata": {},
   "outputs": [],
   "source": [
    "%%bash\n",
    "\n",
    "datasets summary genome taxon herpestidae --as-json-lines | dataformat tsv genome \\\n",
    "--fields organism-name,assminfo-biosample-accession,assmstats-contig-n50\n"
   ]
  },
  {
   "cell_type": "markdown",
   "id": "7a6fe95c",
   "metadata": {},
   "source": [
    "**Last one**: let's look at a larger collection of genome assemblies (let's say, all Carnivora) and select only those assemblies with contig N50 larger than 15 Mb (15000000 bp). `datasets` provides many options for filtering, but there is no built-in filter for contig N50 size.  \n",
    "\n",
    "Here's what we want to see: assembly accession number, species and assembly level for those genomes with contig N50 above 15 Mb. Notice that assembly accession is different from biosample accession.\n",
    "\n",
    "<br>\n",
    "<img src=\"./images/dataformat-genome-3fields-accession.png\" style=\"width:900px;\"/>"
   ]
  },
  {
   "cell_type": "code",
   "execution_count": null,
   "id": "3f2a71f4",
   "metadata": {},
   "outputs": [],
   "source": [
    "%%bash\n",
    "\n",
    "datasets summary genome taxon carnivora --as-json-lines | dataformat tsv genome \\\n",
    "--fields accession,organism-name,assminfo-level,assmstats-contig-n50 > carnivora.tsv\n",
    "\n",
    "#datasets summary genome taxon carnivora | jq -r '.reports[] \n",
    "#| select(.assembly_stats.contig_n50 > 15000000) \n",
    "#| [.accession, .organism.organism_name, .assembly_info.assembly_level, .assembly_stats.contig_n50] \n",
    "#| @tsv'"
   ]
  },
  {
   "cell_type": "code",
   "execution_count": null,
   "id": "7f9e4f13",
   "metadata": {},
   "outputs": [],
   "source": [
    "import pandas as pd                                   #load pandas to this notebook\n",
    "\n",
    "carnivora = pd.read_csv('carnivora.tsv', sep='\\t')    #use pandas to import carnivora.tsv\n",
    "carnivora                                             #visualize the data table as the object carnivora"
   ]
  },
  {
   "cell_type": "markdown",
   "id": "f9582264",
   "metadata": {},
   "source": [
    "Using `pandas`, we will select only the rows with contig N50 value above 15000000. "
   ]
  },
  {
   "cell_type": "code",
   "execution_count": null,
   "id": "ca76e9c6",
   "metadata": {},
   "outputs": [],
   "source": [
    "#Filter the column Assembly Stats Contig N50 by showing only accessions with contig N50 larger thab 15 Mb.\n",
    "\n",
    "carnivora[carnivora['Assembly Stats Contig N50'] > 15000000]"
   ]
  },
  {
   "cell_type": "markdown",
   "id": "2f550f75",
   "metadata": {},
   "source": [
    "### Let's continue to explore the available genomes for the family Formicidae\n"
   ]
  },
  {
   "cell_type": "markdown",
   "id": "87806b8c",
   "metadata": {},
   "source": [
    "For this part, we will use two UNIX commands: `sort` and `uniq`. \n",
    "\n",
    "- `sort` can be used to sort text files line by line, numerically and alphabetically.   \n",
    "- `uniq` will filter out the repeated lines in a file. However, `uniq` can only detect repeated lines if they are adjacent to each other. In other words, if they are alphabetically or numerically sorted. The flag `-c` or `--count` tells the command `uniq` to remove the repeated lines, and to count how many times each value appeared. \n",
    "\n",
    "So, we will use `dataformat` to extract the information we need, sort the result and count the number of unique entries."
   ]
  },
  {
   "cell_type": "code",
   "execution_count": null,
   "id": "b2c1912d",
   "metadata": {},
   "outputs": [],
   "source": [
    "%%bash\n",
    "# For which species does NCBI have genomes in its database? How many per species?\n",
    "\n",
    "datasets summary genome taxon formicidae --as-json-lines | dataformat tsv genome \\\n",
    "--fields organism-name --elide-header | sort | uniq -c"
   ]
  },
  {
   "cell_type": "code",
   "execution_count": null,
   "id": "6c953fbd",
   "metadata": {},
   "outputs": [],
   "source": [
    "%%bash\n",
    "# What is the assembly level (contig, scaffold, chromosome, complete) breakdown?\n",
    "\n",
    "datasets summary genome taxon formicidae --as-json-lines | dataformat tsv genome \\\n",
    "--fields assminfo-level --elide-header  | sort | uniq -c"
   ]
  },
  {
   "cell_type": "markdown",
   "id": "ed84aedf",
   "metadata": {},
   "source": [
    "### How to get help when using the command line\n",
    "\n",
    "Since `datasets` is a very hierarchical program, we can use that characteristic to our advantage to get very specific help.   For example: if we type `datasets --help`, we will see the first level of commands available.\n"
   ]
  },
  {
   "cell_type": "code",
   "execution_count": null,
   "id": "d219e750",
   "metadata": {},
   "outputs": [],
   "source": [
    "%%bash\n",
    "datasets --help"
   ]
  },
  {
   "cell_type": "markdown",
   "id": "db05f935",
   "metadata": {},
   "source": [
    "Notice the difference from when we type `datasets summary genome taxon formicidae --help`  \n"
   ]
  },
  {
   "cell_type": "code",
   "execution_count": null,
   "id": "a09930dd",
   "metadata": {},
   "outputs": [],
   "source": [
    "%%bash\n",
    "datasets summary genome taxon formicidae --help"
   ]
  },
  {
   "cell_type": "markdown",
   "id": "598672be",
   "metadata": {},
   "source": [
    "### Exercises\n",
    "\n",
    "Now we will practice what we learned about `datasets` and `dataformat`. Take a look at the questions below and feel free to ask questions. Check out the `--help` options from the command line to assist you in this exercise.\n"
   ]
  },
  {
   "cell_type": "code",
   "execution_count": null,
   "id": "7c88ac9b",
   "metadata": {},
   "outputs": [],
   "source": [
    "%%bash\n",
    "# How many reference genomes in the family Formicidae? (hint --reference)\n",
    "\n"
   ]
  },
  {
   "cell_type": "code",
   "execution_count": null,
   "id": "e5632797",
   "metadata": {},
   "outputs": [],
   "source": [
    "%%bash\n",
    "# How many reference genomes are annotated? (hint: --annotated)\n",
    "\n"
   ]
  },
  {
   "cell_type": "code",
   "execution_count": null,
   "id": "462d4858",
   "metadata": {},
   "outputs": [],
   "source": [
    "%%bash\n",
    "# How many genomes have NCBI (RefSeq) annotations? (hint: --assembly-source)\n",
    "\n"
   ]
  },
  {
   "cell_type": "markdown",
   "id": "507517eb",
   "metadata": {},
   "source": [
    "### Bonus questions:"
   ]
  },
  {
   "cell_type": "code",
   "execution_count": null,
   "id": "c114d6ee",
   "metadata": {},
   "outputs": [],
   "source": [
    "%%bash\n",
    "# Now look at the summary metadata for your organism of interest \n",
    "# (if you don't have a favorite, go with red panda, Ailurus fulgens, taxid: 9649)\n",
    "\n"
   ]
  },
  {
   "cell_type": "code",
   "execution_count": null,
   "id": "62ff1beb",
   "metadata": {},
   "outputs": [],
   "source": [
    "%%bash\n",
    "# How many genomes?\n",
    "\n"
   ]
  },
  {
   "cell_type": "code",
   "execution_count": null,
   "id": "308bd3d3",
   "metadata": {},
   "outputs": [],
   "source": [
    "%%bash\n",
    "# Assembly level breakdown\n",
    "\n"
   ]
  },
  {
   "cell_type": "code",
   "execution_count": null,
   "id": "9bf4dbee",
   "metadata": {},
   "outputs": [],
   "source": [
    "%%bash\n",
    "# How many genomes have a contig N50 value above 15Mb?\n",
    "\n"
   ]
  },
  {
   "cell_type": "markdown",
   "id": "6b9ce67e",
   "metadata": {},
   "source": [
    "### What is the difference/relationship between Genbank, RefSeq and Reference assemblies?\n",
    "  \n",
    "   \n",
    "<br>\n",
    "\n",
    "---\n",
    "<img src=\"https://www.ncbi.nlm.nih.gov/datasets/docs/v2/images/gcf_vs_gca_v9.png\" alt=\"difference-gca-gcf\" style=\"width:600px;\">\n",
    "\n",
    "---"
   ]
  },
  {
   "cell_type": "markdown",
   "id": "d66b33f7",
   "metadata": {},
   "source": [
    "### Data package\n",
    "\n",
    "We explored the `datasets summary` option, in which we had a chance to look at the summary metadata ***without*** downloading any files. In the next steps, we will look at the data packages, which contain the actual data files. \n",
    "\n",
    "<br>\n",
    "\n",
    "<img src=\"./images/data-packages.png\" alt=\"data_package\" style=\"width:600px;\" />\n",
    "<br>"
   ]
  },
  {
   "cell_type": "markdown",
   "id": "b1374e2e",
   "metadata": {},
   "source": [
    "Each `datasets` option (aka. `genome`, `gene`, `virus`) has a different data package content. Users can customize data packages by using the flag `--include` to add or remove files. The image below shows the filetypes (potentially) available for each `datasets` option. \n",
    "  \n",
    "The same flag (`--include`) is used to add multiple data reports to the data package. Please refer to the [NCBI Datasets Data Package Reference page](https://www.ncbi.nlm.nih.gov/datasets/docs/v2/reference-docs/data-packages/) for more information about each report and data package contents.\n",
    "\n",
    "<br>\n",
    "\n",
    "<img src=\"./images/data-package-contents-op2.png\" style=\"width:800px;\">"
   ]
  },
  {
   "cell_type": "markdown",
   "id": "833259d4",
   "metadata": {},
   "source": [
    "\n",
    "---\n",
    "#### IMPORTANT:\n",
    "\n",
    "When the flag `--include` is invoked, the default package contents are reset, which means that we need to list all file types we want to download.  \n",
    "\n",
    "For example: the default genome data package contains the JSON-Lines data report `assembly_data_report.jsonl` and each genome assembly sequences in FASTA format. Let's imagine we also want to download the protein sequences. In that case, we would use the following command:\n",
    "\n",
    "`datasets download genome taxon cat --include protein,genome`\n",
    "\n",
    "If we say: \n",
    "`datasets download genome taxon cat --include protein`\n",
    "\n",
    "Only the protein sequences would be included, but not the genome assembly FASTA. \n",
    "\n",
    "---"
   ]
  },
  {
   "cell_type": "code",
   "execution_count": null,
   "id": "fa1fd70d",
   "metadata": {},
   "outputs": [],
   "source": [
    "%%bash\n",
    "# Download all available GenBank assemblies for the genus Acromyrmex and save as genomes.zip\n",
    "\n",
    "datasets download genome taxon acromyrmex --assembly-source genbank --filename genomes.zip --no-progressbar"
   ]
  },
  {
   "cell_type": "code",
   "execution_count": null,
   "id": "5f57b5e8",
   "metadata": {},
   "outputs": [],
   "source": [
    "%%bash\n",
    "# Unzip genomes.zip to the folder genomes\n",
    "unzip -o genomes.zip -d genomes"
   ]
  },
  {
   "cell_type": "code",
   "execution_count": null,
   "id": "f3337168",
   "metadata": {},
   "outputs": [],
   "source": [
    "%%bash\n",
    "# Explore the folder structure of the folder genome with the command tree\n",
    "tree -C genomes/"
   ]
  },
  {
   "cell_type": "markdown",
   "id": "77a0fe05",
   "metadata": {},
   "source": [
    "### Let's recap our goals\n",
    "\n",
    "We used `datasets` to download all the Genbank assemblies for the genus *Acromyrmex*. The next step is to download the gene *orco* (odorance receptor coreceptor) for the same genus. But first, let's learn more about how genes are organized at NCBI.\n",
    "\n",
    "<img src=\"./images/elmo_workflow-1.png\" alt=\"done1\" style=\"width: 600px;\" />"
   ]
  },
  {
   "cell_type": "markdown",
   "id": "92c031a1",
   "metadata": {},
   "source": [
    "## Part II: Accessing genes <a class=\"anchor\" id=\"Part-II\"></a>\n",
    "### GENES\n",
    "\n",
    "Independent of choosing `datasets download` or `datasets summary`, there are four options for retrieving gene information: `accession`, `gene-id`, `symbol` and `taxon`. \n",
    "\n",
    "\n",
    "<img src=\"./images/datasets-gene.png\" style=\"width: 700px;\"/>\n"
   ]
  },
  {
   "cell_type": "markdown",
   "id": "5b4d055b",
   "metadata": {},
   "source": [
    "When choosing any of those options, you will retrieve the gene information for the **reference** taxon. Like this:\n",
    "\n",
    "`datasets download gene accession XR_002738142.1`  \n",
    "`datasets download gene gene-id 101081937`  \n",
    "`datasets download gene symbol BRCA1 --taxon cat`  \n",
    "`datasets download gene taxon cat`. \n",
    "\n",
    "The first three commands will download the same gene from the cat (<i>Felis catus</i>) <u>reference genome</u>, and the last one will download all genes that species RefSeq annotation. \n",
    "\n",
    "- **accession**:  Unique identifier. Accession includes RefSeq RNA and protein accessions. Since it's unique, taxon is implied (aka there will never be two sequences from different taxa with the same accession number).  \n",
    "\n",
    "- **gene-id**:  Also a unique identifier. Every RefSeq genome annotated has a unique set of identifiers. For example: the gene-id for BRCA1 in human is 672, while in cat is 101081937.  \n",
    "\n",
    "- **symbol**: Differently from accession and gene-id, gene symbol is not unique and means different things in different taxonomic groups. If using the symbol option, you should specify the species. The default option is human.\n",
    "\n",
    "- **taxon**: Species-level. Retrieves the entire set of RefSeq annotated genes for the specified taxon.  \n",
    "\n",
    "**Remember**  \n",
    "Both `summary` and `download` will return results for the **reference assembly** of a <u>single species</u>. If you want to download a curated set of the same gene for multiple taxa, you should use the flag `--ortholog`. We'll talk more about it later. \n",
    "\n",
    "<img src=\"./images/dataformat-gene.png\" />\n",
    "\n",
    "Now let's take a look at a gene example:"
   ]
  },
  {
   "cell_type": "code",
   "execution_count": null,
   "id": "6e2b6fe8",
   "metadata": {},
   "outputs": [],
   "source": [
    "%%bash\n",
    "#Example: IFNG in human\n",
    "datasets summary gene symbol ifng | jq -C .\n"
   ]
  },
  {
   "cell_type": "code",
   "execution_count": null,
   "id": "e748073a",
   "metadata": {},
   "outputs": [],
   "source": [
    "%%bash\n",
    "# how datasets deals with synonyms\n",
    "datasets summary gene symbol IFG --as-json-lines | dataformat tsv gene \\\n",
    "--fields tax-name,symbol,synonyms\n"
   ]
  },
  {
   "cell_type": "code",
   "execution_count": null,
   "id": "94d1bdbf",
   "metadata": {},
   "outputs": [],
   "source": [
    "%%bash\n",
    "#Example: IFNG in cat\n",
    "datasets summary gene symbol ifng --taxon \"felis catus\"\n"
   ]
  },
  {
   "cell_type": "markdown",
   "id": "1d69331f",
   "metadata": {},
   "source": [
    "### Back to ants\n",
    "We will download the gene *orco* for the species *Acromyrmex echinatior*. We will use the gene-id 105147775 instead of the symbol because no informative gene symbol has been assigned for this gene.  "
   ]
  },
  {
   "cell_type": "code",
   "execution_count": null,
   "id": "0d5bb16e",
   "metadata": {},
   "outputs": [],
   "source": [
    "%%bash\n",
    "# Using gene-id to retrieve gene information\n",
    "datasets summary gene gene-id 105147775 --as-json-lines | dataformat tsv gene \\\n",
    "--fields description,gene-id,symbol,tax-name\n"
   ]
  },
  {
   "cell_type": "code",
   "execution_count": null,
   "id": "91058e44",
   "metadata": {},
   "outputs": [],
   "source": [
    "%%bash\n",
    "# if we try to retrieve metadata information for this gene using the symbol orco, what happens?\n",
    "datasets summary gene symbol orco --taxon \"acromyrmex echinatior\"\n"
   ]
  },
  {
   "cell_type": "code",
   "execution_count": null,
   "id": "e08b9763",
   "metadata": {},
   "outputs": [],
   "source": [
    "%%bash\n",
    "# Download the gene data package for the gene-id 105147775 (*orco* in Acromyrmex echinatior)\n",
    "# We want to include the FASTA file with gene sequences, so we will use the flag --include.\n",
    "\n",
    "datasets download gene gene-id 105147775 --filename gene.zip --include gene,protein,rna --no-progressbar\n"
   ]
  },
  {
   "cell_type": "code",
   "execution_count": null,
   "id": "32ff018d",
   "metadata": {},
   "outputs": [],
   "source": [
    "%%bash\n",
    "#Unzip the file\n",
    "unzip -o gene.zip -d gene"
   ]
  },
  {
   "cell_type": "code",
   "execution_count": null,
   "id": "9ab71ee8",
   "metadata": {},
   "outputs": [],
   "source": [
    "%%bash\n",
    "#Explore the data package structure using tree\n",
    "tree gene"
   ]
  },
  {
   "cell_type": "markdown",
   "id": "af8f7dde",
   "metadata": {},
   "source": [
    "### Exercises\n",
    "\n",
    "1. Look for the summary data for a gene of interest (check the [etherpad](https://etherpad.wikimedia.org/p/CSHL_Datasets_Workshop_2021) for suggestions)\n",
    "2. What is the gene location?\n",
    "3. What is the gene range?\n",
    "4. Now, download a list of gene symbols using the file genes.txt (provided). Save it as gene_list.zip\n",
    "5. Unzip gene_list.zip and explore the folder structure\n",
    "6. How many fasta files are there?"
   ]
  },
  {
   "cell_type": "code",
   "execution_count": null,
   "id": "a4250b69",
   "metadata": {},
   "outputs": [],
   "source": [
    "%%bash\n",
    "# Summary data\n",
    "\n"
   ]
  },
  {
   "cell_type": "code",
   "execution_count": null,
   "id": "60d2f31e",
   "metadata": {},
   "outputs": [],
   "source": [
    "%%bash\n",
    "# Gene location\n",
    "\n"
   ]
  },
  {
   "cell_type": "code",
   "execution_count": null,
   "id": "a2d483de",
   "metadata": {},
   "outputs": [],
   "source": [
    "%%bash\n",
    "# Gene range\n",
    "\n"
   ]
  },
  {
   "cell_type": "code",
   "execution_count": null,
   "id": "0ed6c85b",
   "metadata": {},
   "outputs": [],
   "source": [
    "%%bash\n",
    "# Download a list of genes and save the data package as gene_list.zip (--filename gene_list.zip)\n"
   ]
  },
  {
   "cell_type": "code",
   "execution_count": null,
   "id": "bfa13ee9",
   "metadata": {},
   "outputs": [],
   "source": [
    "%%bash\n",
    "# Explore the folder structure\n",
    "\n"
   ]
  },
  {
   "cell_type": "code",
   "execution_count": null,
   "id": "cde5b036",
   "metadata": {},
   "outputs": [],
   "source": [
    "%%bash\n",
    "# How many genes were downloaded?\n",
    "\n"
   ]
  },
  {
   "cell_type": "code",
   "execution_count": null,
   "id": "f4dfb0a2",
   "metadata": {},
   "outputs": [],
   "source": [
    "%%bash\n",
    "# How many fasta files in the data package?\n",
    "\n"
   ]
  },
  {
   "cell_type": "markdown",
   "id": "c908cc8b",
   "metadata": {},
   "source": [
    "## Part III: Accessing orthologs <a class=\"anchor\" id=\"Part-III\"></a>\n",
    "\n",
    "### Orthologs\n",
    "\n",
    "Since `datasets version 14`, users can retrieve ortholog information using the flag `--ortholog` under the `gene` service (with exception for the `taxon` option).\n",
    "\n",
    "#### <font color='blue'>Wait, but what is an ortholog set?</font>\n",
    "\n",
    ">An ortholog set, or ortholog gene group, is a group of sequences that have been identified by the NCBI genome annotation team as homologous genes related to each other by speciation events. They are identified by a combination of protein similarity + local syntheny information. \n",
    "Currently, NCBI has ortholog sets calculated for vertebrates and some insects. \n",
    "\n",
    "\n",
    "#### Examples:\n",
    "\n",
    "`datasets download gene accession XR_002738142.1 --ortholog all`  \n",
    "`datasets download gene gene-id 101081937 --ortholog all`  \n",
    "`datasets download gene symbol BRCA1 --ortholog all --taxon cat`  \n",
    "\n",
    "All three commands will download the **same** ortholog set (which is the complete set). \n",
    "\n",
    "What if I want to filter the ortholog set to include *only* a taxonomic group of interest?\n",
    "\n"
   ]
  },
  {
   "cell_type": "markdown",
   "id": "3c1ab1db",
   "metadata": {},
   "source": [
    "### Applying a taxonomic filter to the ortholog set\n",
    "\n",
    "When using the `--ortholog` flag, users need to provide an argument for it. The argument should be one or more taxa (any rank) to filter results or 'all' for the complete set.\n",
    "\n",
    "#### Examples\n",
    "\n",
    "- `datasets summary gene symbol brca1 --ortholog \"felis catus\"`  \n",
    "Prints a json metadata summary of the gene brca1 for the domestic cat only. \n",
    "  \n",
    "  \n",
    "- `datasets summary gene symbol brca1 --taxon \"felis catus\" --ortholog all`  \n",
    "Even though this option looks similar to the one above, the result is *very different*. Here, we're asking `datasets` to find the ortholog set to which the gene brca1 in the domestic cat belongs. And `datasets` will download the <u>entire</u> ortholog set, not only the sequences for the domestic cat.\n"
   ]
  },
  {
   "cell_type": "markdown",
   "id": "3673c066",
   "metadata": {},
   "source": [
    "#### We are going to do the following steps:\n",
    "- download the ortholog data package and save it with the name ortholog.zip\n",
    "- unzip it to the folder ortholog\n",
    "- look at the files\n",
    "\n",
    "Helpful info:\n",
    "\n",
    "- gene symbol: orco\n",
    "- gene-id in *Drosophila melanogaster*: 40650\n",
    "- gene-id in *Acromyrmer echinatior*: 105147775\n",
    "- target taxon: Formicidae"
   ]
  },
  {
   "cell_type": "code",
   "execution_count": null,
   "id": "4040acda",
   "metadata": {},
   "outputs": [],
   "source": [
    "%%bash\n",
    "# download the orco ortholog set for ants (Formicidae)\n",
    "datasets download gene gene-id 40650 --ortholog formicidae --include gene --filename ortholog.zip --no-progressbar\n"
   ]
  },
  {
   "cell_type": "code",
   "execution_count": null,
   "id": "c295a289",
   "metadata": {},
   "outputs": [],
   "source": [
    "%%bash\n",
    "# unzip it to the folder ortholog\n",
    "unzip -o ortholog.zip -d ortholog\n"
   ]
  },
  {
   "cell_type": "code",
   "execution_count": null,
   "id": "5f22996a",
   "metadata": {},
   "outputs": [],
   "source": [
    "%%bash\n",
    "#Explore the folder structure\n",
    "tree ortholog/\n"
   ]
  },
  {
   "cell_type": "markdown",
   "id": "ad41374d",
   "metadata": {},
   "source": [
    "## What have we done so far?\n",
    "- Explored metadata for all ant genomes\n",
    "- Downloaded genomes for the panamanian leaf cutter ant\n",
    "- Downloaded the *orco* gene for *Acromyrmex echinatior*\n",
    "- Downloaded the ortholog set for all ants for the *orco* gene\n",
    "\n",
    "<br>\n",
    "\n",
    "<img src=\"./images/elmo_workflow-2.png\" style=\"width:600px;\"/>"
   ]
  },
  {
   "cell_type": "markdown",
   "id": "8a89ad6f",
   "metadata": {},
   "source": [
    "## Part IV: Building a BLAST database and creating a phylogenetic tree<a class=\"anchor\" id=\"Part-IV\"></a>\n",
    "\n",
    "### Here's what we are showing you now:\n",
    "- BLAST:\n",
    "    - Create a BLAST database for each genome\n",
    "    - BLAST the *orco* gene sequence against the genomes database and extract the matching regions\n",
    "- multiple sequence alignment of the blast matches and the ortholog sequences\n",
    "- generate a approximate maximum likelihood tree using FastTree\n",
    "\n",
    "We'll add more detailed information about the commands we're using here to the GitHub page."
   ]
  },
  {
   "cell_type": "markdown",
   "id": "aca6900d",
   "metadata": {},
   "source": [
    "#### Extracting taxIDs from the genome data package\n",
    "\n",
    "First, let's use `dataformat` to extract the species names, taxID and assembly accession numbers from the genomes we downloaded. We will talk in more detail about `dataformat` later."
   ]
  },
  {
   "cell_type": "code",
   "execution_count": null,
   "id": "b1ce6599",
   "metadata": {},
   "outputs": [],
   "source": [
    "%%bash\n",
    "# Extract tax id for each species:\n",
    "dataformat tsv genome --fields organism-name,organism-tax-id,accession --package genomes.zip "
   ]
  },
  {
   "cell_type": "markdown",
   "id": "0c5e8357",
   "metadata": {},
   "source": [
    "#### Creating a BLAST database with taxonomy information.\n",
    "\n",
    "First we are going to create a folder called `blastdb` with the UNIX command `mkdir`. Next, we will change to the directory we just created. Finally, we will make a copy of the NCBI taxonomy database (taxdb)"
   ]
  },
  {
   "cell_type": "code",
   "execution_count": null,
   "id": "89044275",
   "metadata": {},
   "outputs": [],
   "source": [
    "# Create a folder called blastdb\n",
    "!mkdir blastdb\n",
    "\n",
    "# change directory to the folder blastdb\n",
    "%cd blastdb\n",
    "\n",
    "# download the NCBI Taxonomy Database (taxdb)\n",
    "!update_blastdb.pl taxdb\n",
    "\n",
    "#Now let's extract the taxdb to the blastdb folder\n",
    "!tar xfz taxdb.tar.gz"
   ]
  },
  {
   "cell_type": "markdown",
   "id": "6ec18669",
   "metadata": {},
   "source": [
    "#### BLAST database and search\n",
    "Now we will create a BLAST database with the *Acromyrmex* genomes we downloaded. More information about the commands is available on out GitHub page."
   ]
  },
  {
   "cell_type": "code",
   "execution_count": null,
   "id": "07ccb922",
   "metadata": {},
   "outputs": [],
   "source": [
    "!pwd"
   ]
  },
  {
   "cell_type": "code",
   "execution_count": null,
   "id": "a15f18f5",
   "metadata": {},
   "outputs": [],
   "source": [
    "%%bash\n",
    "# Create a blast database for each genome\n",
    "makeblastdb -dbtype nucl -in ../genomes/ncbi_dataset/data/GCA_000204515.1/GCA_000204515.1_Aech_3.9_genomic.fna -taxid 103372 -out Aechinatior\n",
    "makeblastdb -dbtype nucl -in ../genomes/ncbi_dataset/data/GCA_017607455.1/GCA_017607455.1_ASM1760745v1_genomic.fna -taxid 230686 -out Ainsinuator \n",
    "makeblastdb -dbtype nucl -in ../genomes/ncbi_dataset/data/GCA_017607545.1/GCA_017607545.1_ASM1760754v1_genomic.fna -taxid 2715315 -out Acharruanus\n",
    "makeblastdb -dbtype nucl -in ../genomes/ncbi_dataset/data/GCA_017607565.1/GCA_017607565.1_ASM1760756v1_genomic.fna -taxid 230685 -out Aheyeri\n",
    "makeblastdb -dbtype nucl -in ../genomes/ncbi_dataset/data/GCA_024713525.1/GCA_024713525.1_ASM2471352v1_genomic.fna -taxid 103372 -out Aechinatior\n",
    "\n",
    "# Create an alias under which the four genome databases can be called\n",
    "blastdb_aliastool -dbtype nucl -title acromyrmex -out acromyrmex -dblist \"Acharruanus Aechinatior Aheyeri Ainsinuator\"\n",
    "\n",
    "# BLASTN search\n",
    "blastn \\\n",
    "-db acromyrmex \\\n",
    "-query ../gene/ncbi_dataset/data/gene.fna \\\n",
    "-evalue 1e-50 \\\n",
    "-outfmt 11 \\\n",
    "-max_hsps 1 \\\n",
    "-out orco_acromyrmex_1e-50.asn\n",
    "\n",
    "# Covert the asn.1 output to tabular (output format 6)\n",
    "\n",
    "blast_formatter \\\n",
    "-archive orco_acromyrmex_1e-50.asn \\\n",
    "-outfmt '6 sseqid sstart send evalue length staxid ssciname' > orco_acromyrmex_1e-50.tsv"
   ]
  },
  {
   "cell_type": "markdown",
   "id": "4ec1c81f",
   "metadata": {},
   "source": [
    "Using `pandas` again, we will create an object with the tsv file we just created from the BLAST output, so we can take a look at our results."
   ]
  },
  {
   "cell_type": "code",
   "execution_count": null,
   "id": "ba539fd4",
   "metadata": {},
   "outputs": [],
   "source": [
    "# Create a table and visualize the BLAST results\n",
    "\n",
    "blast_table = pd.read_csv('orco_acromyrmex_1e-50.tsv', sep='\\t', header=None)\n",
    "blast_table"
   ]
  },
  {
   "cell_type": "markdown",
   "id": "ad0ead0a",
   "metadata": {},
   "source": [
    "#### Converting from BLAST to fasta\n",
    "\n",
    "Now we are going to use some \"tricks\" (not really, just some good old bash scripting) to extract fasta sequences from the BLAST output. For tthis task, we will be using `blast_formatter` again."
   ]
  },
  {
   "cell_type": "code",
   "execution_count": null,
   "id": "6b0fcd5b",
   "metadata": {},
   "outputs": [],
   "source": [
    "%%bash\n",
    "# Convert BLAST output to fasta\n",
    "\n",
    "blast_formatter \\\n",
    "-archive orco_acromyrmex_1e-50.asn \\\n",
    "-outfmt '6 ssciname sseqid sseq' \\\n",
    "-max_target_seqs 4 | awk 'BEGIN{FS=\"\\t\"; OFS=\"\\n\"}{gsub(/ /, \"_\", $1);gsub(/-/, \"\", $3); print \">\"$1\"_\"$2,$3}' > ../acromyrmex_orco.fasta\n"
   ]
  },
  {
   "cell_type": "markdown",
   "id": "2d7041a1",
   "metadata": {},
   "source": [
    "<img src=\"./images/elmo_workflow-3.png\" style=\"width: 600px;\"/>"
   ]
  },
  {
   "cell_type": "markdown",
   "id": "de48261f",
   "metadata": {},
   "source": [
    "### VERY IMPORTANT!\n",
    "For the next steps, we need to go back to our home folder. Let's do it in steps again."
   ]
  },
  {
   "cell_type": "code",
   "execution_count": null,
   "id": "5e9fa8c8",
   "metadata": {},
   "outputs": [],
   "source": [
    "%%bash\n",
    "## Check where you are\n",
    "pwd"
   ]
  },
  {
   "cell_type": "code",
   "execution_count": null,
   "id": "d795c1c9",
   "metadata": {},
   "outputs": [],
   "source": [
    "## If you're not in the home folder, run this command:\n",
    "%cd .."
   ]
  },
  {
   "cell_type": "markdown",
   "id": "1fdf2d6a",
   "metadata": {},
   "source": [
    "### Multiple sequence alignment: BLAST matches + *orco* orthologs\n",
    "\n",
    "First, let's simplify the FASTA headers in the ortholog set."
   ]
  },
  {
   "cell_type": "code",
   "execution_count": null,
   "id": "2a0d770e",
   "metadata": {},
   "outputs": [],
   "source": [
    "%%bash\n",
    "# Extract the FASTA headers from the gene ortholog fasta, replace the spaces by commas and save as a txt file.\n",
    "grep \">\" ortholog/ncbi_dataset/data/gene.fna | sed 's/ /,/g' > ortholog_seqid.txt\n",
    "\n",
    "# Create a mapping file with the original name in the column 1 and a shortened name on column 2\n",
    "# For the new name, we will keep only the genus initial, species name and NCBI Gene ID. Example:\n",
    "# Original: NW_017296201.1:c2116125-2107387 LOC108758761 [organism=Trachymyrmex cornetzi] [GeneID=108758761] [chromosome=Un]\n",
    "# New name: T_cornetzi_108758761\n",
    "\n",
    "cat ortholog_seqid.txt | while read line; do\n",
    "new=$( echo $line | awk 'BEGIN {FS=\",\"; OFS=\"_\"}{gsub(/\\[organism\\=/, \"\", $3);gsub(/]/, \"\", $4);gsub(/\\[GeneID\\=|\\]/, \"\", $5)} ;{print substr($3,1,1)\"_\"$4,$5}'); \n",
    "old=$( echo $line | sed 's/,/\\_/g;s/>//g')\n",
    "printf \"${old}\\t${new}\\n\" >> name_map.tsv; \n",
    "done\n",
    "\n",
    "# Copy the ortholog dataset fasta from the folder ortholog to the folder datasets\n",
    "cp ortholog/ncbi_dataset/data/gene.fna ortholog_gene.fna\n",
    "\n",
    "# Replace spaces in the FASTA header by underscores.\n",
    "# Why? Because we need the FASTA headers to match the \"old\" in the file name_map.tsv. This is what we have:\n",
    "# Original: >NW_017296201.1:c2116125-2107387,LOC108758761,[organism=Trachymyrmex,cornetzi],[GeneID=108758761],[chromosome=Un]\n",
    "# \"old\": NW_017296201.1:c2116125-2107387_LOC108758761_[organism=Trachymyrmex_cornetzi]_[GeneID=108758761]_[chromosome=Un]\n",
    "# \"new\": T_cornetzi_108758761\n",
    "\n",
    "sed 's/ /_/g' ortholog_gene.fna > ortholog_gene_nospaces.fna\n",
    "\n",
    "#Replace the names in the fasta file\n",
    "cat ortholog_gene_nospaces.fna | seqkit replace \\\n",
    "--kv-file  <(cut -f 1,2 name_map.tsv) \\\n",
    "--pattern \"^(.*)\" --replacement \"{kv}\" > ortholog_gene_final.fna"
   ]
  },
  {
   "cell_type": "markdown",
   "id": "5df12c8c",
   "metadata": {},
   "source": [
    "Let's check the first ten FASTA headers after the name replacement. "
   ]
  },
  {
   "cell_type": "code",
   "execution_count": null,
   "id": "cb689c75",
   "metadata": {},
   "outputs": [],
   "source": [
    "%%bash\n",
    "\n",
    "grep \">\" ortholog_gene_final.fna | head"
   ]
  },
  {
   "cell_type": "markdown",
   "id": "2fa2ed2f",
   "metadata": {},
   "source": [
    "### Multiple sequence alignment and phylogenetic reconstruction\n",
    "\n",
    "Now, let's concatenate the FASTA we extracted from the BLAST matches, align them using MAFFT and use FastTree to generate an approximate ML phylogeny."
   ]
  },
  {
   "cell_type": "code",
   "execution_count": null,
   "id": "006779c3",
   "metadata": {},
   "outputs": [],
   "source": [
    "%%bash\n",
    "\n",
    "#Concatenate sequences\n",
    "cat ortholog_gene_final.fna acromyrmex_orco.fasta > orco_all.fasta\n",
    "\n",
    "#align sequences with mafft\n",
    "mafft orco_all.fasta > orco_all_aln.fasta\n",
    "\n",
    "#Generate a phylogeny using fasttree\n",
    "FastTree -nt orco_all_aln.fasta > orco.tree"
   ]
  },
  {
   "cell_type": "markdown",
   "id": "5015f7d8",
   "metadata": {},
   "source": [
    "### Visualizing the tree"
   ]
  },
  {
   "cell_type": "code",
   "execution_count": null,
   "id": "c0b9f71f",
   "metadata": {},
   "outputs": [],
   "source": [
    "import Bio\n",
    "from Bio import Phylo\n",
    "from Bio.Phylo.Applications import PhymlCommandline\n",
    "from Bio.Phylo.PAML import codeml\n",
    "from Bio.Phylo.PhyloXML import Phylogeny\n",
    "\n",
    "import matplotlib as mp\n",
    "%matplotlib inline"
   ]
  },
  {
   "cell_type": "code",
   "execution_count": null,
   "id": "d614b552",
   "metadata": {},
   "outputs": [],
   "source": [
    "# Read tree file\n",
    "\n",
    "orco_xml = Phylo.convert(\"orco.tree\", \"newick\", \"orco.tree.xml\", \"phyloxml\")\n",
    "orco_tree = Phylo.read(\"orco.tree.xml\", \"phyloxml\")\n",
    "\n",
    "orco_tree_rooted = orco_tree.root_with_outgroup('O_brunneus_116854080','D_quadriceps_106748868','H_saltator_105183395')\n",
    "Phylo.draw_ascii(orco_tree)\n"
   ]
  },
  {
   "cell_type": "markdown",
   "id": "6c13030e",
   "metadata": {},
   "source": [
    "## Part V: Downloading large datasets (dehydration/rehydration) <a class=\"anchor\" id=\"Part-V\"></a>"
   ]
  },
  {
   "cell_type": "markdown",
   "id": "f337e0d4",
   "metadata": {},
   "source": [
    "Now you learned how to download genomes, genes and ortholog gene sets from NCBI with one command using `datasets`. Now we want to show you another feature of `datasets` that allows you to download what we call a `dehydrated` package. Let's download a dehydrated package and explore the files inside it."
   ]
  },
  {
   "cell_type": "code",
   "execution_count": null,
   "id": "641aef51",
   "metadata": {},
   "outputs": [],
   "source": [
    "%%bash\n",
    "# Download a dehydrated data package for all acromyrmex GenBank genomes\n",
    "datasets download genome taxon acromyrmex --assembly-source genbank --dehydrated --include genome,protein --filename acromyrmex.zip --no-progressbar"
   ]
  },
  {
   "cell_type": "code",
   "execution_count": null,
   "id": "50a28140",
   "metadata": {},
   "outputs": [],
   "source": [
    "%%bash\n",
    "# Next we have to unzip the dehydrated package\n",
    "unzip -o acromyrmex.zip -d acromyrmex"
   ]
  },
  {
   "cell_type": "code",
   "execution_count": null,
   "id": "21ef31e6",
   "metadata": {},
   "outputs": [],
   "source": [
    "%%bash\n",
    "# Now let's use the command tree to look at the data package contents\n",
    "tree acromyrmex/"
   ]
  },
  {
   "cell_type": "markdown",
   "id": "bdf17759",
   "metadata": {},
   "source": [
    "**What is difference between this folder (`acromyrmex`) and the folder `genomes`?**   \n",
    "Let's use `tree` again to look at the contents of the folder genomes."
   ]
  },
  {
   "cell_type": "code",
   "execution_count": null,
   "id": "681ecb2f",
   "metadata": {},
   "outputs": [],
   "source": [
    "%%bash\n",
    "# Check the folder contents of genome\n",
    "tree genomes/"
   ]
  },
  {
   "cell_type": "markdown",
   "id": "7d0770b7",
   "metadata": {},
   "source": [
    "Both packages include the files `assembly_data_report.jsonl` and `dataset_catalog.json`, but the folder acromyrmex has the file `fetch.txt` instead of the *actual* data. Let's take a look in this file."
   ]
  },
  {
   "cell_type": "code",
   "execution_count": null,
   "id": "468d7749",
   "metadata": {},
   "outputs": [],
   "source": [
    "# Inspect the file fetch.txt\n",
    "import pandas as pd\n",
    "fetch = pd.read_csv('./acromyrmex/ncbi_dataset/fetch.txt', sep='\\t', header=None)\n",
    "fetch"
   ]
  },
  {
   "cell_type": "markdown",
   "id": "19110c84",
   "metadata": {},
   "source": [
    "The file `fetch.txt` has a list of files to be \"fetched\" (downloaded) with their respective links. And they are the same files that were originally included in when we downloaded the genomes in the beginning of this notebook.  "
   ]
  },
  {
   "cell_type": "markdown",
   "id": "9cd8e6be",
   "metadata": {},
   "source": [
    "#### BUT WHY WOULD I WANT TO USE THIS OPTION?\n",
    "\n",
    "Some possibilities:\n",
    "- You are working with very large genomes and want to share the data with your collaborators. Instead of sending a massive data file, you can send a text file that they can use to download the same data you're working on.\n",
    "- Or maybe you hand selected some genomes for a project from the [NCBI Datasets website](https://www.ncbi.nlm.nih.gov/datasets/genomes/) and they don't follow a specific pattern that can be replicated. You can also download a dehydrated package from our website, share it and download everything you need later."
   ]
  },
  {
   "cell_type": "code",
   "execution_count": null,
   "id": "58ce2486",
   "metadata": {},
   "outputs": [],
   "source": [
    "%%bash\n",
    "# Let's look at the help file for rehydrate\n",
    "datasets rehydrate -h"
   ]
  },
  {
   "cell_type": "code",
   "execution_count": null,
   "id": "973ffa9b",
   "metadata": {},
   "outputs": [],
   "source": [
    "%%bash\n",
    "# Let's get a list of files that are available for download \n",
    "datasets rehydrate --directory acromyrmex/ --list"
   ]
  },
  {
   "cell_type": "code",
   "execution_count": null,
   "id": "2daf20e5",
   "metadata": {},
   "outputs": [],
   "source": [
    "%%bash\n",
    "# Let's only get the protein sequences for the genome with the highest contigN50 value\n",
    "datasets rehydrate --directory acromyrmex/ --match GCA_000204515.1/protein.faa "
   ]
  },
  {
   "cell_type": "code",
   "execution_count": null,
   "id": "c601a31b",
   "metadata": {},
   "outputs": [],
   "source": [
    "%%bash\n",
    "# Let's use tree to look at our folder acromyrmex again\n",
    "tree acromyrmex/"
   ]
  },
  {
   "cell_type": "markdown",
   "id": "a5f5f853",
   "metadata": {},
   "source": [
    "We can see that the file we requested ` GCA_000204515.1/protein.faa` was downloaded to the folder `acromyrmex`"
   ]
  },
  {
   "cell_type": "code",
   "execution_count": null,
   "id": "ff56a582",
   "metadata": {},
   "outputs": [],
   "source": [
    "%%bash\n",
    "# Take a peek at the downloaded protein file\n",
    "cat acromyrmex/ncbi_dataset/data/GCA_000204515.1/protein.faa | head"
   ]
  },
  {
   "cell_type": "markdown",
   "id": "7f69f702",
   "metadata": {},
   "source": [
    "## Exercise\n",
    "* Download a dehydrated package for all *Mycobacterium tuberculosis* genomes that meet all of the following criteria (hint: use flags)\n",
    "    1. submitted/released in 2021\n",
    "    2. annotated\n",
    "    3. assembly level of complete_genome\n",
    "* use `dataformat` to view the sequencing technology used for each of these genomes\n",
    "* use the `rehydrate` option to get the genome sequence for one genome generated using Oxford Nanopore"
   ]
  },
  {
   "cell_type": "code",
   "execution_count": null,
   "id": "1ca7bc51",
   "metadata": {},
   "outputs": [],
   "source": [
    "%%bash\n",
    "# Download a dehydrated genome data package\n",
    "\n"
   ]
  },
  {
   "cell_type": "code",
   "execution_count": null,
   "id": "94ca3308",
   "metadata": {},
   "outputs": [],
   "source": [
    "%%bash\n",
    "# Unzip the data package\n",
    "\n"
   ]
  },
  {
   "cell_type": "code",
   "execution_count": null,
   "id": "78bcf9f1",
   "metadata": {},
   "outputs": [],
   "source": [
    "%%bash\n",
    "# Use dataformat to generate a table that includes sequencing technology\n",
    "\n"
   ]
  },
  {
   "cell_type": "code",
   "execution_count": null,
   "id": "d3a4727d",
   "metadata": {},
   "outputs": [],
   "source": [
    "%%bash\n",
    "# Use rehydrate to get genome sequence generated using Oxford Nanopore\n",
    "\n"
   ]
  }
 ],
 "metadata": {
  "kernelspec": {
   "display_name": "Python 3 (ipykernel)",
   "language": "python",
   "name": "python3"
  },
  "language_info": {
   "codemirror_mode": {
    "name": "ipython",
    "version": 3
   },
   "file_extension": ".py",
   "mimetype": "text/x-python",
   "name": "python",
   "nbconvert_exporter": "python",
   "pygments_lexer": "ipython3",
   "version": "3.11.0"
  }
 },
 "nbformat": 4,
 "nbformat_minor": 5
}
