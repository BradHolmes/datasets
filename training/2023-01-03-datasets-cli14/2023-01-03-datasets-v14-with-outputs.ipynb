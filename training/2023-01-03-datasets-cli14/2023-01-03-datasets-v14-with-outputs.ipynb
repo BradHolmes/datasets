{
 "cells": [
  {
   "cell_type": "markdown",
   "id": "a17a866f",
   "metadata": {},
   "source": [
    "# NCBI Datasets - Retrieving ant orthologs with v14"
   ]
  },
  {
   "cell_type": "markdown",
   "id": "26f69883",
   "metadata": {},
   "source": [
    "### Table of contents REVIEW\n",
    "* [Part I: Accessing genomes](#Part-I)\n",
    "* [Part II: Accessing genes](#Part-II)\n",
    "* [Part III: Accessing orthologs](#Part-III)\n",
    "* [Part IV: Building a BLAST database and creating a phylogenetic tree](#Part-IV)\n",
    "* [Part V: Downloading large datasets (dehydration/rehydration)](#Part-V)"
   ]
  },
  {
   "cell_type": "markdown",
   "id": "3c2018eb",
   "metadata": {},
   "source": [
    "### Important resources\n",
    "- Github: https://github.com/ncbi/datasets/training\n",
    "- NCBI datasets: https://www.ncbi.nlm.nih.gov/datasets/"
   ]
  },
  {
   "cell_type": "markdown",
   "id": "ec6eeabe",
   "metadata": {},
   "source": [
    "## Before we start... What is a jupyter notebook?\n",
    "\n",
    "Jupyter Notebooks are a web-based approach to interactive code. A single notebook (the file you are currently reading) is composed of many \"cells\" which can contain either text, or code. To navigate between cells, either click, or use the arrow keys on your keyboard.\n",
    "\n",
    "A text cell will look like... well... this! While a code cell will look something like what you see below. To run the code inside a code cell, click on it, then click the \"Run\" button at the top of the screen. Try it on the code cell below!"
   ]
  },
  {
   "cell_type": "code",
   "execution_count": 1,
   "id": "c93b68fd",
   "metadata": {},
   "outputs": [
    {
     "name": "stdout",
     "output_type": "stream",
     "text": [
      "You ran the code cell!\n"
     ]
    }
   ],
   "source": [
    "#This is a code cell\n",
    "print('You ran the code cell!')"
   ]
  },
  {
   "cell_type": "markdown",
   "id": "9bea448c",
   "metadata": {},
   "source": [
    "If it worked, you should have seen text pop up underneath the cell saying `You ran the code cell!`. Note the `In [1]:` that appeared next to the cell. This tells you the order you have run code cells throughout the notebook. The next time you run a code cell, it will say `In [2]:`, then `In [3]:` and so on... This will help you know if/when code has been run.\n",
    "\n",
    "The remainder of the notebook below has been pre-built by the workshop organizer. You will not need to create any new cells, and you will be explicitly told if/when to execute a code cell.\n",
    "\n",
    "The code in this workshop is either Bash (i.e., terminal commands) or Python. Bash commands are prefixed with `!` or the cells have the notation `%%bash` at the top., while Python commands are not. If you are not familiar with code, don't feel pressured to interpret it very deeply. Descriptions of each code block will be provided!\n",
    "\n",
    "(Jupyter Notebook explanation by Cooper Park at the workshop on [Finding and Analyzing Metagenomic Data](https://www.nlm.nih.gov/oet/ed/ncbi/2021_10_meta.html))"
   ]
  },
  {
   "cell_type": "markdown",
   "id": "b8805d73",
   "metadata": {},
   "source": [
    "## Case study: Elmo loves ants\n",
    "\n",
    "Elmo is a graduate student at the Via Sesamum University. As part of his Ph.D. project, he studies Panamanian leaf cutter ants (genus *Acromyrmex*, family Formicidae) and how variation in the gene *orco* (**o**dorant **r**eceptor **co**receptor) affects the colonies of this genus.\n",
    "\n",
    "(here's the [link](https://www.ncbi.nlm.nih.gov/labs/pmc/articles/PMC5556950/) to a cool paper talking about this gene in ants of the species *Ooceraea biroi*).\n",
    "\n",
    "![ants](https://github.com/ncbi/datasets/blob/master/training/cshl-2021/images/ants.png?raw=true)"
   ]
  },
  {
   "cell_type": "markdown",
   "id": "fb672e02",
   "metadata": {},
   "source": [
    "Elmo will use `datasets` to help him gather the existing genomic resources from NCBI. He will:\n",
    "\n",
    "- download all available genomes for the genus *Acromyrmex*\n",
    "- download the *orco* gene from the *Acromyrmex* reference genome\n",
    "- download the ortholog set for this gene for all ants (Formicidae)\n",
    "\n",
    "In addition, he will also do the following tasks:\n",
    "- Create a custom BLAST database with the Panamanian leaf cutter ants genomes \n",
    "- BLAST the gene *orco* against the database\n",
    "- Multiple sequence alignment of the BLAST results and the ortholog gene sequences\n",
    "- Build a phylogenetic tree"
   ]
  },
  {
   "cell_type": "markdown",
   "id": "8b785d5b",
   "metadata": {},
   "source": [
    "### How is `datasets` organized?\n",
    "\n",
    "[NCBI datasets](https://www.ncbi.nlm.nih.gov/datasets/docs/v1/quickstarts/command-line-tools/) is a command line tool that allows users to download data packages (data + metadata) or look at metadata summaries for genomes, RefSeq annotated genes, curated ortholog sets and virus genome sequences and SARS-Cov-2 proteins. The program follows a hierarchy that makes it easier for users to select exact which options they would like to use. In addition to the program commands, additional flags are available for filtering the results. We will go over those during this tutorial.\n",
    "<img src=\"./images/datasets1.png\" alt=\"datasets\" style=\"width: 700px;\"/>"
   ]
  },
  {
   "cell_type": "markdown",
   "id": "ff69c110",
   "metadata": {},
   "source": [
    "### `dataformat`\n",
    "\n",
    "Now we are going to combine `datasets` with another tool called `dataformat`. `dataformat` allows you to extract metadata information from the JSON-Lines data report files included with all `datasets` data packages or accessible through `summary` command. You can use `dataformat` to:\n",
    "- Create a tab-delimited file (.tsv) or excel file with the fields you need\n",
    "- Quickly visualize the information on the screen\n",
    "\n",
    "<img src=\"./images/dataformat1.png\" alt=\"dataformat\"  style=\"width: 700px;\"/>"
   ]
  },
  {
   "cell_type": "code",
   "execution_count": 2,
   "id": "a9176757",
   "metadata": {},
   "outputs": [
    {
     "name": "stdout",
     "output_type": "stream",
     "text": [
      "\n",
      "Convert Genome Assembly Data Report into TSV format.\n",
      "\n",
      "Refer to NCBI's [download and install](https://www.ncbi.nlm.nih.gov/datasets/docs/v2/download-and-install/) documentation for information about getting started with the command-line tools.\n",
      "\n",
      "Usage\n",
      "  dataformat tsv genome [flags]\n",
      "\n",
      "Examples\n",
      "  dataformat tsv genome --inputfile human/ncbi_dataset/data/assembly_data_report.jsonl\n",
      "  dataformat tsv genome --package human.zip\n",
      "\n",
      "Flags\n",
      "      --fields strings     Comma-separated list of fields\n",
      "                               - accession\n",
      "                               - annotinfo-busco-complete\n",
      "                               - annotinfo-busco-duplicated\n",
      "                               - annotinfo-busco-fragmented\n",
      "                               - annotinfo-busco-lineage\n",
      "                               - annotinfo-busco-missing\n",
      "                               - annotinfo-busco-singlecopy\n",
      "                               - annotinfo-busco-totalcount\n",
      "                               - annotinfo-busco-ver\n",
      "                               - annotinfo-featcount-gene-non-coding\n",
      "                               - annotinfo-featcount-gene-other\n",
      "                               - annotinfo-featcount-gene-protein-coding\n",
      "                               - annotinfo-featcount-gene-pseudogene\n",
      "                               - annotinfo-featcount-gene-total\n",
      "                               - annotinfo-method\n",
      "                               - annotinfo-name\n",
      "                               - annotinfo-pipeline\n",
      "                               - annotinfo-provider\n",
      "                               - annotinfo-release-date\n",
      "                               - annotinfo-release-version\n",
      "                               - annotinfo-report-url\n",
      "                               - annotinfo-software-version\n",
      "                               - annotinfo-status\n",
      "                               - assminfo-atypicalis-atypical\n",
      "                               - assminfo-atypicalwarnings\n",
      "                               - assminfo-bioproject-lineage-accession\n",
      "                               - assminfo-bioproject-lineage-parent-accession\n",
      "                               - assminfo-bioproject-lineage-parent-accessions\n",
      "                               - assminfo-bioproject-lineage-title\n",
      "                               - assminfo-biosample-accession\n",
      "                               - assminfo-biosample-attribute-name\n",
      "                               - assminfo-biosample-attribute-value\n",
      "                               - assminfo-biosample-bioproject-accession\n",
      "                               - assminfo-biosample-bioproject-parent-accession\n",
      "                               - assminfo-biosample-bioproject-parent-accessions\n",
      "                               - assminfo-biosample-bioproject-title\n",
      "                               - assminfo-biosample-description-comment\n",
      "                               - assminfo-biosample-description-organism-common-name\n",
      "                               - assminfo-biosample-description-organism-infraspecific-breed\n",
      "                               - assminfo-biosample-description-organism-infraspecific-cultivar\n",
      "                               - assminfo-biosample-description-organism-infraspecific-ecotype\n",
      "                               - assminfo-biosample-description-organism-infraspecific-isolate\n",
      "                               - assminfo-biosample-description-organism-infraspecific-sex\n",
      "                               - assminfo-biosample-description-organism-infraspecific-strain\n",
      "                               - assminfo-biosample-description-organism-name\n",
      "                               - assminfo-biosample-description-organism-pangolin\n",
      "                               - assminfo-biosample-description-organism-tax-id\n",
      "                               - assminfo-biosample-description-title\n",
      "                               - assminfo-biosample-ids-db\n",
      "                               - assminfo-biosample-ids-label\n",
      "                               - assminfo-biosample-ids-value\n",
      "                               - assminfo-biosample-last-updated\n",
      "                               - assminfo-biosample-models\n",
      "                               - assminfo-biosample-owner-contact-lab\n",
      "                               - assminfo-biosample-owner-name\n",
      "                               - assminfo-biosample-package\n",
      "                               - assminfo-biosample-publication-date\n",
      "                               - assminfo-biosample-status-status\n",
      "                               - assminfo-biosample-status-when\n",
      "                               - assminfo-biosample-submission-date\n",
      "                               - assminfo-blast-url\n",
      "                               - assminfo-description\n",
      "                               - assminfo-level\n",
      "                               - assminfo-linked-assmaccession\n",
      "                               - assminfo-linked-assmtype\n",
      "                               - assminfo-name\n",
      "                               - assminfo-paired-assmaccession\n",
      "                               - assminfo-paired-assmname\n",
      "                               - assminfo-paired-assmstatus\n",
      "                               - assminfo-refseq-category\n",
      "                               - assminfo-sequencing-tech\n",
      "                               - assminfo-status\n",
      "                               - assminfo-submission-date\n",
      "                               - assminfo-submitter\n",
      "                               - assminfo-synonym\n",
      "                               - assminfo-type\n",
      "                               - assmstats-contig-l50\n",
      "                               - assmstats-contig-n50\n",
      "                               - assmstats-gaps-between-scaffolds-count\n",
      "                               - assmstats-gc-count\n",
      "                               - assmstats-gc-percent\n",
      "                               - assmstats-number-of-component-sequences\n",
      "                               - assmstats-number-of-contigs\n",
      "                               - assmstats-number-of-scaffolds\n",
      "                               - assmstats-scaffold-l50\n",
      "                               - assmstats-scaffold-n50\n",
      "                               - assmstats-total-number-of-chromosomes\n",
      "                               - assmstats-total-sequence-len\n",
      "                               - assmstats-total-ungapped-len\n",
      "                               - current-accession\n",
      "                               - organelle-assembly-name\n",
      "                               - organelle-bioproject-accessions\n",
      "                               - organelle-description\n",
      "                               - organelle-infraspecific-name\n",
      "                               - organelle-submitter\n",
      "                               - organelle-total-seq-length\n",
      "                               - organism-common-name\n",
      "                               - organism-infraspecific-breed\n",
      "                               - organism-infraspecific-cultivar\n",
      "                               - organism-infraspecific-ecotype\n",
      "                               - organism-infraspecific-isolate\n",
      "                               - organism-infraspecific-sex\n",
      "                               - organism-infraspecific-strain\n",
      "                               - organism-name\n",
      "                               - organism-pangolin\n",
      "                               - organism-tax-id\n",
      "                               - source_database\n",
      "                               - type_material-display_text\n",
      "                               - type_material-label\n",
      "                               - wgs-contigs-url\n",
      "                               - wgs-project-accession\n",
      "                               - wgs-url\n",
      "  -h, --help               help for genome\n",
      "      --inputfile string   Input file (default \"/dev/stdin\")\n",
      "      --package string     Data package (zip archive), inputfile parameter is relative to the root path inside the archive\n",
      "\n",
      "\n",
      "\n",
      "Global Flags\n",
      "      --elide-header   Do not output header\n",
      "      --force          Force dataformat to run without type check prompt\n",
      "\n"
     ]
    }
   ],
   "source": [
    "%%bash\n",
    "# Read the dataformat help menu. This is a great way to get a list of the available metadata fields.\n",
    "dataformat tsv genome -h"
   ]
  },
  {
   "cell_type": "markdown",
   "id": "75ad66b3",
   "metadata": {},
   "source": [
    "## Part I: Accessing genomes<a class=\"anchor\" id=\"Part-I\"></a>"
   ]
  },
  {
   "cell_type": "markdown",
   "id": "c5509425",
   "metadata": {},
   "source": [
    "<img src=\"./images/elmo_workflow.png\" style=\"width: 600px;\">"
   ]
  },
  {
   "cell_type": "markdown",
   "id": "b29b46e2",
   "metadata": {},
   "source": [
    "First, let's figure out what kind of genome information NCBI has for ants (family Formicidae). For this task, we will use the command `datasets summary` command, as shown in the diagram below. We will pipe the `datasets` output to `jq` so we can see how many ant genomes are in the NCBI database."
   ]
  },
  {
   "cell_type": "markdown",
   "id": "b1c78dcf",
   "metadata": {},
   "source": [
    "<img src=\"./images/datasets-s-genome-tax.png\" style=\"width: 800px;\"/>"
   ]
  },
  {
   "cell_type": "code",
   "execution_count": 3,
   "id": "076161ca",
   "metadata": {},
   "outputs": [
    {
     "name": "stdout",
     "output_type": "stream",
     "text": [
      "108\n"
     ]
    }
   ],
   "source": [
    "%%bash\n",
    "# Get metadata info\n",
    "datasets summary genome taxon formicidae | jq '.total_count'\n"
   ]
  },
  {
   "cell_type": "markdown",
   "id": "0993d504",
   "metadata": {},
   "source": [
    "Now we know that there are 108 ant genomes at NCBI. Let's save the full metadata file as JSON-Lines using the flag `--as-json-lines` to make it easier to extract information from the metadata file later."
   ]
  },
  {
   "cell_type": "code",
   "execution_count": 4,
   "id": "9f1c4ea3",
   "metadata": {},
   "outputs": [],
   "source": [
    "%%bash\n",
    "# Get metadata info and save to a file\n",
    "datasets summary genome taxon formicidae --as-json-lines > formicidae_summary.jsonl"
   ]
  },
  {
   "cell_type": "markdown",
   "id": "dd676b9b",
   "metadata": {},
   "source": [
    "**Now let's take a look at the metadata using jq**  \n",
    "Since the output is really long, we will only show the first 50 lines (`head -n 50`). The flag `-C` in the `jq` command shows the output in color, which maes it easier to read."
   ]
  },
  {
   "cell_type": "code",
   "execution_count": 5,
   "id": "4206d799",
   "metadata": {},
   "outputs": [
    {
     "name": "stdout",
     "output_type": "stream",
     "text": [
      "\u001b[1;39m{\n",
      "  \u001b[0m\u001b[34;1m\"accession\"\u001b[0m\u001b[1;39m: \u001b[0m\u001b[0;32m\"GCA_017607545.1\"\u001b[0m\u001b[1;39m,\n",
      "  \u001b[0m\u001b[34;1m\"annotation_info\"\u001b[0m\u001b[1;39m: \u001b[0m\u001b[1;39m{\n",
      "    \u001b[0m\u001b[34;1m\"name\"\u001b[0m\u001b[1;39m: \u001b[0m\u001b[0;32m\"Annotation submitted by BGI\"\u001b[0m\u001b[1;39m,\n",
      "    \u001b[0m\u001b[34;1m\"provider\"\u001b[0m\u001b[1;39m: \u001b[0m\u001b[0;32m\"BGI\"\u001b[0m\u001b[1;39m,\n",
      "    \u001b[0m\u001b[34;1m\"release_date\"\u001b[0m\u001b[1;39m: \u001b[0m\u001b[0;32m\"2021-03-29\"\u001b[0m\u001b[1;39m,\n",
      "    \u001b[0m\u001b[34;1m\"stats\"\u001b[0m\u001b[1;39m: \u001b[0m\u001b[1;39m{\n",
      "      \u001b[0m\u001b[34;1m\"gene_counts\"\u001b[0m\u001b[1;39m: \u001b[0m\u001b[1;39m{\n",
      "        \u001b[0m\u001b[34;1m\"protein_coding\"\u001b[0m\u001b[1;39m: \u001b[0m\u001b[0;39m8986\u001b[0m\u001b[1;39m,\n",
      "        \u001b[0m\u001b[34;1m\"pseudogene\"\u001b[0m\u001b[1;39m: \u001b[0m\u001b[0;39m5654\u001b[0m\u001b[1;39m,\n",
      "        \u001b[0m\u001b[34;1m\"total\"\u001b[0m\u001b[1;39m: \u001b[0m\u001b[0;39m14640\u001b[0m\u001b[1;39m\n",
      "      \u001b[1;39m}\u001b[0m\u001b[1;39m\n",
      "    \u001b[1;39m}\u001b[0m\u001b[1;39m\n",
      "  \u001b[1;39m}\u001b[0m\u001b[1;39m,\n",
      "  \u001b[0m\u001b[34;1m\"assembly_info\"\u001b[0m\u001b[1;39m: \u001b[0m\u001b[1;39m{\n",
      "    \u001b[0m\u001b[34;1m\"assembly_level\"\u001b[0m\u001b[1;39m: \u001b[0m\u001b[0;32m\"Scaffold\"\u001b[0m\u001b[1;39m,\n",
      "    \u001b[0m\u001b[34;1m\"assembly_name\"\u001b[0m\u001b[1;39m: \u001b[0m\u001b[0;32m\"ASM1760754v1\"\u001b[0m\u001b[1;39m,\n",
      "    \u001b[0m\u001b[34;1m\"assembly_status\"\u001b[0m\u001b[1;39m: \u001b[0m\u001b[0;32m\"current\"\u001b[0m\u001b[1;39m,\n",
      "    \u001b[0m\u001b[34;1m\"assembly_type\"\u001b[0m\u001b[1;39m: \u001b[0m\u001b[0;32m\"haploid\"\u001b[0m\u001b[1;39m,\n",
      "    \u001b[0m\u001b[34;1m\"bioproject_lineage\"\u001b[0m\u001b[1;39m: \u001b[0m\u001b[1;39m[\n",
      "      \u001b[1;39m{\n",
      "        \u001b[0m\u001b[34;1m\"bioprojects\"\u001b[0m\u001b[1;39m: \u001b[0m\u001b[1;39m[\n",
      "          \u001b[1;39m{\n",
      "            \u001b[0m\u001b[34;1m\"accession\"\u001b[0m\u001b[1;39m: \u001b[0m\u001b[0;32m\"PRJNA605929\"\u001b[0m\u001b[1;39m,\n",
      "            \u001b[0m\u001b[34;1m\"title\"\u001b[0m\u001b[1;39m: \u001b[0m\u001b[0;32m\"Project of the leaf-cutting ants\"\u001b[0m\u001b[1;39m\n",
      "          \u001b[1;39m}\u001b[0m\u001b[1;39m\n",
      "        \u001b[1;39m]\u001b[0m\u001b[1;39m\n",
      "      \u001b[1;39m}\u001b[0m\u001b[1;39m\n",
      "    \u001b[1;39m]\u001b[0m\u001b[1;39m,\n",
      "    \u001b[0m\u001b[34;1m\"biosample\"\u001b[0m\u001b[1;39m: \u001b[0m\u001b[1;39m{\n",
      "      \u001b[0m\u001b[34;1m\"accession\"\u001b[0m\u001b[1;39m: \u001b[0m\u001b[0;32m\"SAMN14167745\"\u001b[0m\u001b[1;39m,\n",
      "      \u001b[0m\u001b[34;1m\"attributes\"\u001b[0m\u001b[1;39m: \u001b[0m\u001b[1;39m[\n",
      "        \u001b[1;39m{\n",
      "          \u001b[0m\u001b[34;1m\"name\"\u001b[0m\u001b[1;39m: \u001b[0m\u001b[0;32m\"isolate\"\u001b[0m\u001b[1;39m,\n",
      "          \u001b[0m\u001b[34;1m\"value\"\u001b[0m\u001b[1;39m: \u001b[0m\u001b[0;32m\"BGI-DK2014a\"\u001b[0m\u001b[1;39m\n",
      "        \u001b[1;39m}\u001b[0m\u001b[1;39m,\n",
      "        \u001b[1;39m{\n",
      "          \u001b[0m\u001b[34;1m\"name\"\u001b[0m\u001b[1;39m: \u001b[0m\u001b[0;32m\"breed\"\u001b[0m\u001b[1;39m,\n",
      "          \u001b[0m\u001b[34;1m\"value\"\u001b[0m\u001b[1;39m: \u001b[0m\u001b[0;32m\"not collected\"\u001b[0m\u001b[1;39m\n",
      "        \u001b[1;39m}\u001b[0m\u001b[1;39m,\n",
      "        \u001b[1;39m{\n",
      "          \u001b[0m\u001b[34;1m\"name\"\u001b[0m\u001b[1;39m: \u001b[0m\u001b[0;32m\"host\"\u001b[0m\u001b[1;39m,\n",
      "          \u001b[0m\u001b[34;1m\"value\"\u001b[0m\u001b[1;39m: \u001b[0m\u001b[0;32m\"not collected\"\u001b[0m\u001b[1;39m\n",
      "        \u001b[1;39m}\u001b[0m\u001b[1;39m,\n",
      "        \u001b[1;39m{\n",
      "          \u001b[0m\u001b[34;1m\"name\"\u001b[0m\u001b[1;39m: \u001b[0m\u001b[0;32m\"isolation_source\"\u001b[0m\u001b[1;39m,\n",
      "          \u001b[0m\u001b[34;1m\"value\"\u001b[0m\u001b[1;39m: \u001b[0m\u001b[0;32m\"not collected\"\u001b[0m\u001b[1;39m\n",
      "        \u001b[1;39m}\u001b[0m\u001b[1;39m,\n",
      "        \u001b[1;39m{\n",
      "          \u001b[0m\u001b[34;1m\"name\"\u001b[0m\u001b[1;39m: \u001b[0m\u001b[0;32m\"collection_date\"\u001b[0m\u001b[1;39m,\n"
     ]
    }
   ],
   "source": [
    "%%bash\n",
    "\n",
    "cat formicidae_summary.jsonl | jq -C . | head -n 50\n"
   ]
  },
  {
   "cell_type": "markdown",
   "id": "0c98b353",
   "metadata": {},
   "source": [
    "### A little bit more about JSON files\n",
    "\n",
    "A JSON (JavaScript Object Notation) file stores data structures and objects. In a very simplified (and non-technical) way, a JSON file is a box, that might contain other boxes with more boxes inside. The same is true for JSON-Lines; the difference is that in a JSON-Lines file, each line represents a full JSON object.  \n",
    "\n",
    "At the first level of `datasets summary genome` our JSON-Lines \"box\" is organized like this:\n",
    " \n",
    "```\n",
    "{\n",
    " assemblies[\n",
    "      assembly{},\n",
    "      assembly{},\n",
    " ],\n",
    " total_count\n",
    "}\n",
    "```\n",
    "If we want to look at the value in the field \"total_count\", here's the command we would use:"
   ]
  },
  {
   "cell_type": "code",
   "execution_count": 6,
   "id": "16dcb31e",
   "metadata": {},
   "outputs": [
    {
     "name": "stdout",
     "output_type": "stream",
     "text": [
      "5\n"
     ]
    }
   ],
   "source": [
    "%%bash\n",
    "datasets summary genome taxon herpestidae | jq '.total_count'"
   ]
  },
  {
   "cell_type": "markdown",
   "id": "a8e0a749",
   "metadata": {},
   "source": [
    "As we mentioned above, in addition to `datasets`, we have a companion tool called `dataformat`. `dataformat` converts `datasets` JSON-Lines outputs to `tsv` or Excel <html>&reg;</html> formats. Similarly to our JSON reports, `dataformat` also follows a hierarchical organization.\n",
    "<br>\n",
    "<img src=\"./images/dataformat-genome.png\" style=\"width:900px;\"/>\n",
    "\n"
   ]
  },
  {
   "cell_type": "markdown",
   "id": "7747070e",
   "metadata": {},
   "source": [
    "For example: if we want to explore some  basic assembly stats (such as contig N50), we can will find that information in the box `assmstats` (`assm` = assembly). This image is useful to help you build the field names `dataformat` recognizes. In this example, the field name has two parts: `assmstats` and `contig-n50`, and those will be joined by a dash (`-`), like this: `assmstats-contig-n50`.\n",
    "<br>\n",
    "<img src=\"./images/dataformat-genome-contign50.png\" style=\"width:900px;\"/>\n"
   ]
  },
  {
   "cell_type": "code",
   "execution_count": 7,
   "id": "bf818971",
   "metadata": {
    "scrolled": true
   },
   "outputs": [
    {
     "name": "stdout",
     "output_type": "stream",
     "text": [
      "Assembly Stats Contig N50\n",
      "113567\n",
      "180702\n",
      "75409\n",
      "148487\n",
      "75409\n"
     ]
    }
   ],
   "source": [
    "%%bash\n",
    "datasets summary genome taxon herpestidae --as-json-lines | dataformat tsv genome --fields assmstats-contig-n50\n",
    "\n",
    "#The equivalent jq command is shown below:\n",
    "#datasets summary genome taxon herpestidae --as-json-lines | jq '.assembly_stats.contig_n50'"
   ]
  },
  {
   "cell_type": "markdown",
   "id": "e4d84d63",
   "metadata": {},
   "source": [
    "Now let's see how we can retrieve the scientific names associated with those assemblies.\n",
    "<br>\n",
    "<img src=\"./images/dataformat-genome-org.png\" style=\"width:900px;\"/>"
   ]
  },
  {
   "cell_type": "code",
   "execution_count": 8,
   "id": "d4e19c50",
   "metadata": {},
   "outputs": [
    {
     "name": "stdout",
     "output_type": "stream",
     "text": [
      "Organism Name\n",
      "Helogale parvula\n",
      "Mungos mungo\n",
      "Suricata suricatta\n",
      "Suricata suricatta\n",
      "Suricata suricatta\n"
     ]
    }
   ],
   "source": [
    "%%bash\n",
    "datasets summary genome taxon herpestidae --as-json-lines | dataformat tsv genome --fields organism-name\n",
    "\n",
    "#jq equivalent:\n",
    "#datasets summary genome taxon herpestidae --as-json-lines | jq '.organism.organism_name'"
   ]
  },
  {
   "cell_type": "markdown",
   "id": "7cb3fd67",
   "metadata": {},
   "source": [
    "As you can see, `dataformat` is very useful in retrieving information from the summary metadata. Let's try a few more complex examples."
   ]
  },
  {
   "cell_type": "markdown",
   "id": "5a7bb1f1",
   "metadata": {},
   "source": [
    "First, let's retrieve information from three fields at the same time: scientific name, biosample accession number  and contig N50.\n",
    "<br>\n",
    "<img src=\"./images/dataformat-genome-3fields.png\" style=\"width:900px;\"/>"
   ]
  },
  {
   "cell_type": "code",
   "execution_count": 9,
   "id": "0804f4ca",
   "metadata": {},
   "outputs": [
    {
     "name": "stdout",
     "output_type": "stream",
     "text": [
      "Organism Name\tAssembly BioSample Accession\tAssembly Stats Contig N50\n",
      "Helogale parvula\tSAMN07678086\t113567\n",
      "Mungos mungo\tSAMN07678097\t180702\n",
      "Suricata suricatta\tSAMN11840572\t75409\n",
      "Suricata suricatta\tSAMN07678040\t148487\n",
      "Suricata suricatta\tSAMN11840572\t75409\n"
     ]
    }
   ],
   "source": [
    "%%bash\n",
    "\n",
    "datasets summary genome taxon herpestidae --as-json-lines | dataformat tsv genome \\\n",
    "--fields organism-name,assminfo-biosample-accession,assmstats-contig-n50\n"
   ]
  },
  {
   "cell_type": "markdown",
   "id": "7a6fe95c",
   "metadata": {},
   "source": [
    "**Last one**: let's look at a larger collection of genome assemblies (let's say, all Carnivora) and select only those assemblies with contig N50 larger than 15 Mb (15000000 bp). `datasets` provides many options for filtering, but there is no built-in filter for contig N50 size.  \n",
    "\n",
    "Here's what we want to see: assembly accession number, species and assembly level for those genomes with contig N50 above 15 Mb. Notice that assembly accession is different from biosample accession.\n",
    "\n",
    "<br>\n",
    "<img src=\"./images/dataformat-genome-3fields-accession.png\" style=\"width:900px;\"/>"
   ]
  },
  {
   "cell_type": "code",
   "execution_count": 10,
   "id": "3f2a71f4",
   "metadata": {},
   "outputs": [],
   "source": [
    "%%bash\n",
    "\n",
    "datasets summary genome taxon carnivora --as-json-lines | dataformat tsv genome \\\n",
    "--fields accession,organism-name,assminfo-level,assmstats-contig-n50 > carnivora.tsv\n",
    "\n",
    "#datasets summary genome taxon carnivora | jq -r '.reports[] \n",
    "#| select(.assembly_stats.contig_n50 > 15000000) \n",
    "#| [.accession, .organism.organism_name, .assembly_info.assembly_level, .assembly_stats.contig_n50] \n",
    "#| @tsv'"
   ]
  },
  {
   "cell_type": "code",
   "execution_count": 11,
   "id": "7f9e4f13",
   "metadata": {},
   "outputs": [
    {
     "data": {
      "text/html": [
       "<div>\n",
       "<style scoped>\n",
       "    .dataframe tbody tr th:only-of-type {\n",
       "        vertical-align: middle;\n",
       "    }\n",
       "\n",
       "    .dataframe tbody tr th {\n",
       "        vertical-align: top;\n",
       "    }\n",
       "\n",
       "    .dataframe thead th {\n",
       "        text-align: right;\n",
       "    }\n",
       "</style>\n",
       "<table border=\"1\" class=\"dataframe\">\n",
       "  <thead>\n",
       "    <tr style=\"text-align: right;\">\n",
       "      <th></th>\n",
       "      <th>Assembly Accession</th>\n",
       "      <th>Organism Name</th>\n",
       "      <th>Assembly Level</th>\n",
       "      <th>Assembly Stats Contig N50</th>\n",
       "    </tr>\n",
       "  </thead>\n",
       "  <tbody>\n",
       "    <tr>\n",
       "      <th>0</th>\n",
       "      <td>GCF_003709585.1</td>\n",
       "      <td>Acinonyx jubatus</td>\n",
       "      <td>Scaffold</td>\n",
       "      <td>179924</td>\n",
       "    </tr>\n",
       "    <tr>\n",
       "      <th>1</th>\n",
       "      <td>GCF_001443585.1</td>\n",
       "      <td>Acinonyx jubatus</td>\n",
       "      <td>Scaffold</td>\n",
       "      <td>35120</td>\n",
       "    </tr>\n",
       "    <tr>\n",
       "      <th>2</th>\n",
       "      <td>GCA_001443585.1</td>\n",
       "      <td>Acinonyx jubatus</td>\n",
       "      <td>Scaffold</td>\n",
       "      <td>35120</td>\n",
       "    </tr>\n",
       "    <tr>\n",
       "      <th>3</th>\n",
       "      <td>GCA_003709585.1</td>\n",
       "      <td>Acinonyx jubatus</td>\n",
       "      <td>Scaffold</td>\n",
       "      <td>179924</td>\n",
       "    </tr>\n",
       "    <tr>\n",
       "      <th>4</th>\n",
       "      <td>GCF_002007445.2</td>\n",
       "      <td>Ailuropoda melanoleuca</td>\n",
       "      <td>Chromosome</td>\n",
       "      <td>127687</td>\n",
       "    </tr>\n",
       "    <tr>\n",
       "      <th>...</th>\n",
       "      <td>...</td>\n",
       "      <td>...</td>\n",
       "      <td>...</td>\n",
       "      <td>...</td>\n",
       "    </tr>\n",
       "    <tr>\n",
       "      <th>221</th>\n",
       "      <td>GCF_900631625.1</td>\n",
       "      <td>Zalophus californianus</td>\n",
       "      <td>Scaffold</td>\n",
       "      <td>97662</td>\n",
       "    </tr>\n",
       "    <tr>\n",
       "      <th>222</th>\n",
       "      <td>GCA_004024565.1</td>\n",
       "      <td>Zalophus californianus</td>\n",
       "      <td>Scaffold</td>\n",
       "      <td>90567</td>\n",
       "    </tr>\n",
       "    <tr>\n",
       "      <th>223</th>\n",
       "      <td>GCA_009762295.2</td>\n",
       "      <td>Zalophus californianus</td>\n",
       "      <td>Contig</td>\n",
       "      <td>1316871</td>\n",
       "    </tr>\n",
       "    <tr>\n",
       "      <th>224</th>\n",
       "      <td>GCA_009762305.2</td>\n",
       "      <td>Zalophus californianus</td>\n",
       "      <td>Chromosome</td>\n",
       "      <td>32626160</td>\n",
       "    </tr>\n",
       "    <tr>\n",
       "      <th>225</th>\n",
       "      <td>GCA_900631625.1</td>\n",
       "      <td>Zalophus californianus</td>\n",
       "      <td>Scaffold</td>\n",
       "      <td>97662</td>\n",
       "    </tr>\n",
       "  </tbody>\n",
       "</table>\n",
       "<p>226 rows × 4 columns</p>\n",
       "</div>"
      ],
      "text/plain": [
       "    Assembly Accession           Organism Name Assembly Level  \\\n",
       "0      GCF_003709585.1        Acinonyx jubatus       Scaffold   \n",
       "1      GCF_001443585.1        Acinonyx jubatus       Scaffold   \n",
       "2      GCA_001443585.1        Acinonyx jubatus       Scaffold   \n",
       "3      GCA_003709585.1        Acinonyx jubatus       Scaffold   \n",
       "4      GCF_002007445.2  Ailuropoda melanoleuca     Chromosome   \n",
       "..                 ...                     ...            ...   \n",
       "221    GCF_900631625.1  Zalophus californianus       Scaffold   \n",
       "222    GCA_004024565.1  Zalophus californianus       Scaffold   \n",
       "223    GCA_009762295.2  Zalophus californianus         Contig   \n",
       "224    GCA_009762305.2  Zalophus californianus     Chromosome   \n",
       "225    GCA_900631625.1  Zalophus californianus       Scaffold   \n",
       "\n",
       "     Assembly Stats Contig N50  \n",
       "0                       179924  \n",
       "1                        35120  \n",
       "2                        35120  \n",
       "3                       179924  \n",
       "4                       127687  \n",
       "..                         ...  \n",
       "221                      97662  \n",
       "222                      90567  \n",
       "223                    1316871  \n",
       "224                   32626160  \n",
       "225                      97662  \n",
       "\n",
       "[226 rows x 4 columns]"
      ]
     },
     "execution_count": 11,
     "metadata": {},
     "output_type": "execute_result"
    }
   ],
   "source": [
    "import pandas as pd                                   #load pandas to this notebook\n",
    "\n",
    "carnivora = pd.read_csv('carnivora.tsv', sep='\\t')    #use pandas to import carnivora.tsv\n",
    "carnivora                                             #visualize the data table as the object carnivora"
   ]
  },
  {
   "cell_type": "markdown",
   "id": "f9582264",
   "metadata": {},
   "source": [
    "Using `pandas`, we will select only the rows with contig N50 value above 15000000. "
   ]
  },
  {
   "cell_type": "code",
   "execution_count": 12,
   "id": "ca76e9c6",
   "metadata": {},
   "outputs": [
    {
     "data": {
      "text/html": [
       "<div>\n",
       "<style scoped>\n",
       "    .dataframe tbody tr th:only-of-type {\n",
       "        vertical-align: middle;\n",
       "    }\n",
       "\n",
       "    .dataframe tbody tr th {\n",
       "        vertical-align: top;\n",
       "    }\n",
       "\n",
       "    .dataframe thead th {\n",
       "        text-align: right;\n",
       "    }\n",
       "</style>\n",
       "<table border=\"1\" class=\"dataframe\">\n",
       "  <thead>\n",
       "    <tr style=\"text-align: right;\">\n",
       "      <th></th>\n",
       "      <th>Assembly Accession</th>\n",
       "      <th>Organism Name</th>\n",
       "      <th>Assembly Level</th>\n",
       "      <th>Assembly Stats Contig N50</th>\n",
       "    </tr>\n",
       "  </thead>\n",
       "  <tbody>\n",
       "    <tr>\n",
       "      <th>14</th>\n",
       "      <td>GCA_905319855.2</td>\n",
       "      <td>Canis lupus</td>\n",
       "      <td>Chromosome</td>\n",
       "      <td>34375412</td>\n",
       "    </tr>\n",
       "    <tr>\n",
       "      <th>15</th>\n",
       "      <td>GCF_003254725.2</td>\n",
       "      <td>Canis lupus dingo</td>\n",
       "      <td>Chromosome</td>\n",
       "      <td>40716615</td>\n",
       "    </tr>\n",
       "    <tr>\n",
       "      <th>16</th>\n",
       "      <td>GCF_012295265.1</td>\n",
       "      <td>Canis lupus dingo</td>\n",
       "      <td>Chromosome</td>\n",
       "      <td>23108747</td>\n",
       "    </tr>\n",
       "    <tr>\n",
       "      <th>17</th>\n",
       "      <td>GCA_003254725.2</td>\n",
       "      <td>Canis lupus dingo</td>\n",
       "      <td>Chromosome</td>\n",
       "      <td>40716615</td>\n",
       "    </tr>\n",
       "    <tr>\n",
       "      <th>18</th>\n",
       "      <td>GCA_012295265.1</td>\n",
       "      <td>Canis lupus dingo</td>\n",
       "      <td>Chromosome</td>\n",
       "      <td>23108747</td>\n",
       "    </tr>\n",
       "    <tr>\n",
       "      <th>...</th>\n",
       "      <td>...</td>\n",
       "      <td>...</td>\n",
       "      <td>...</td>\n",
       "      <td>...</td>\n",
       "    </tr>\n",
       "    <tr>\n",
       "      <th>213</th>\n",
       "      <td>GCA_024500485.1</td>\n",
       "      <td>Vulpes ferrilata</td>\n",
       "      <td>Chromosome</td>\n",
       "      <td>52909674</td>\n",
       "    </tr>\n",
       "    <tr>\n",
       "      <th>214</th>\n",
       "      <td>GCF_018345385.1</td>\n",
       "      <td>Vulpes lagopus</td>\n",
       "      <td>Chromosome</td>\n",
       "      <td>33460300</td>\n",
       "    </tr>\n",
       "    <tr>\n",
       "      <th>216</th>\n",
       "      <td>GCA_018345385.1</td>\n",
       "      <td>Vulpes lagopus</td>\n",
       "      <td>Chromosome</td>\n",
       "      <td>33460300</td>\n",
       "    </tr>\n",
       "    <tr>\n",
       "      <th>220</th>\n",
       "      <td>GCF_009762305.2</td>\n",
       "      <td>Zalophus californianus</td>\n",
       "      <td>Chromosome</td>\n",
       "      <td>32626160</td>\n",
       "    </tr>\n",
       "    <tr>\n",
       "      <th>224</th>\n",
       "      <td>GCA_009762305.2</td>\n",
       "      <td>Zalophus californianus</td>\n",
       "      <td>Chromosome</td>\n",
       "      <td>32626160</td>\n",
       "    </tr>\n",
       "  </tbody>\n",
       "</table>\n",
       "<p>68 rows × 4 columns</p>\n",
       "</div>"
      ],
      "text/plain": [
       "    Assembly Accession           Organism Name Assembly Level  \\\n",
       "14     GCA_905319855.2             Canis lupus     Chromosome   \n",
       "15     GCF_003254725.2       Canis lupus dingo     Chromosome   \n",
       "16     GCF_012295265.1       Canis lupus dingo     Chromosome   \n",
       "17     GCA_003254725.2       Canis lupus dingo     Chromosome   \n",
       "18     GCA_012295265.1       Canis lupus dingo     Chromosome   \n",
       "..                 ...                     ...            ...   \n",
       "213    GCA_024500485.1        Vulpes ferrilata     Chromosome   \n",
       "214    GCF_018345385.1          Vulpes lagopus     Chromosome   \n",
       "216    GCA_018345385.1          Vulpes lagopus     Chromosome   \n",
       "220    GCF_009762305.2  Zalophus californianus     Chromosome   \n",
       "224    GCA_009762305.2  Zalophus californianus     Chromosome   \n",
       "\n",
       "     Assembly Stats Contig N50  \n",
       "14                    34375412  \n",
       "15                    40716615  \n",
       "16                    23108747  \n",
       "17                    40716615  \n",
       "18                    23108747  \n",
       "..                         ...  \n",
       "213                   52909674  \n",
       "214                   33460300  \n",
       "216                   33460300  \n",
       "220                   32626160  \n",
       "224                   32626160  \n",
       "\n",
       "[68 rows x 4 columns]"
      ]
     },
     "execution_count": 12,
     "metadata": {},
     "output_type": "execute_result"
    }
   ],
   "source": [
    "#Filter the column Assembly Stats Contig N50 by showing only accessions with contig N50 larger thab 15 Mb.\n",
    "\n",
    "carnivora[carnivora['Assembly Stats Contig N50'] > 15000000]"
   ]
  },
  {
   "cell_type": "markdown",
   "id": "2f550f75",
   "metadata": {},
   "source": [
    "### Let's continue to explore the available genomes for the family Formicidae\n"
   ]
  },
  {
   "cell_type": "markdown",
   "id": "87806b8c",
   "metadata": {},
   "source": [
    "For this part, we will use two UNIX commands: `sort` and `uniq`. \n",
    "\n",
    "- `sort` can be used to sort text files line by line, numerically and alphabetically.   \n",
    "- `uniq` will filter out the repeated lines in a file. However, `uniq` can only detect repeated lines if they are adjacent to each other. In other words, if they are alphabetically or numerically sorted. The flag `-c` or `--count` tells the command `uniq` to remove the repeated lines, and to count how many times each value appeared. \n",
    "\n",
    "So, we will use `dataformat` to extract the information we need, sort the result and count the number of unique entries."
   ]
  },
  {
   "cell_type": "code",
   "execution_count": 13,
   "id": "b2c1912d",
   "metadata": {},
   "outputs": [
    {
     "name": "stdout",
     "output_type": "stream",
     "text": [
      "   1 Acromyrmex charruanus\n",
      "   3 Acromyrmex echinatior\n",
      "   1 Acromyrmex heyeri\n",
      "   1 Acromyrmex insinuator\n",
      "   1 Aphaenogaster ashmeadi\n",
      "   1 Aphaenogaster floridana\n",
      "   1 Aphaenogaster fulva\n",
      "   1 Aphaenogaster miamiana\n",
      "   1 Aphaenogaster picea\n",
      "   2 Aphaenogaster rudis\n",
      "   3 Atta cephalotes\n",
      "   2 Atta colombica\n",
      "   1 Atta texana\n",
      "   4 Camponotus floridanus\n",
      "   2 Camponotus pennsylvanicus\n",
      "   1 Camponotus vicinus\n",
      "   1 Cardiocondyla obscurior\n",
      "   4 Cataglyphis hispanica\n",
      "   1 Cataglyphis niger\n",
      "   1 Crematogaster levior\n",
      "   2 Cyphomyrmex costatus\n",
      "   2 Dinoponera quadriceps\n",
      "   1 Eciton burchellii\n",
      "   1 Formica aquilonia x Formica polyctena\n",
      "   2 Formica exsecta\n",
      "   1 Formica selysi\n",
      "   4 Harpegnathos saltator\n",
      "   1 Lasius niger\n",
      "   2 Linepithema humile\n",
      "   7 Monomorium pharaonis\n",
      "   3 Nylanderia fulva\n",
      "   2 Odontomachus brunneus\n",
      "   4 Ooceraea biroi\n",
      "   2 Pogonomyrmex barbatus\n",
      "   2 Pogonomyrmex californicus\n",
      "   1 Pseudoatta argentina\n",
      "   1 Pseudomyrmex concolor\n",
      "   1 Pseudomyrmex cubaensis\n",
      "   1 Pseudomyrmex dendroicus\n",
      "   1 Pseudomyrmex elongatus\n",
      "   1 Pseudomyrmex flavicornis\n",
      "   2 Pseudomyrmex gracilis\n",
      "   1 Pseudomyrmex pallidus\n",
      "   1 Pseudomyrmex sp. PSW-54\n",
      "   1 Solenopsis fugax\n",
      "   9 Solenopsis invicta\n",
      "   2 Temnothorax curvispinosus\n",
      "   1 Temnothorax longispinosus\n",
      "   1 Tetramorium alpestre\n",
      "   2 Tetramorium bicarinatum\n",
      "   1 Tetramorium immigrans\n",
      "   1 Tetramorium parvispinum\n",
      "   1 Tetramorium simillimum\n",
      "   2 Trachymyrmex cornetzi\n",
      "   2 Trachymyrmex septentrionalis\n",
      "   2 Trachymyrmex zeteki\n",
      "   2 Vollenhovia emeryi\n",
      "   2 Wasmannia auropunctata\n"
     ]
    }
   ],
   "source": [
    "%%bash\n",
    "# For which species does NCBI have genomes in its database? How many per species?\n",
    "\n",
    "datasets summary genome taxon formicidae --as-json-lines | dataformat tsv genome \\\n",
    "--fields organism-name --elide-header | sort | uniq -c"
   ]
  },
  {
   "cell_type": "code",
   "execution_count": 14,
   "id": "6c953fbd",
   "metadata": {},
   "outputs": [
    {
     "name": "stdout",
     "output_type": "stream",
     "text": [
      "  17 Chromosome\n",
      "   3 Contig\n",
      "  88 Scaffold\n"
     ]
    }
   ],
   "source": [
    "%%bash\n",
    "# What is the assembly level (contig, scaffold, chromosome, complete) breakdown?\n",
    "\n",
    "datasets summary genome taxon formicidae --as-json-lines | dataformat tsv genome \\\n",
    "--fields assminfo-level --elide-header  | sort | uniq -c"
   ]
  },
  {
   "cell_type": "markdown",
   "id": "ed84aedf",
   "metadata": {},
   "source": [
    "### How to get help when using the command line\n",
    "\n",
    "Since `datasets` is a very hierarchical program, we can use that characteristic to our advantage to get very specific help.   For example: if we type `datasets --help`, we will see the first level of commands available.\n"
   ]
  },
  {
   "cell_type": "code",
   "execution_count": 15,
   "id": "d219e750",
   "metadata": {},
   "outputs": [
    {
     "name": "stdout",
     "output_type": "stream",
     "text": [
      "datasets is a command-line tool that is used to query and download biological sequence data\n",
      "across all domains of life from NCBI databases.\n",
      "\n",
      "Refer to NCBI's [download and install](https://www.ncbi.nlm.nih.gov/datasets/docs/v2/download-and-install/) documentation for information about getting started with the command-line tools.\n",
      "\n",
      "Usage\n",
      "  datasets [command]\n",
      "\n",
      "Data Retrieval Commands\n",
      "  summary     Print a data report containing gene, genome or virus metadata\n",
      "  download    Download a gene, genome or virus dataset as a zip file\n",
      "  rehydrate   Rehydrate a downloaded, dehydrated dataset\n",
      "\n",
      "Miscellaneous Commands\n",
      "  completion  Generate autocompletion scripts\n",
      "\n",
      "Flags\n",
      "      --api-key string   Specify an NCBI API key\n",
      "      --debug            Emit debugging info\n",
      "      --help             Print detailed help about a datasets command\n",
      "      --version          Print version of datasets\n",
      "\n",
      "Use datasets <command> --help for detailed help about a command.\n"
     ]
    }
   ],
   "source": [
    "%%bash\n",
    "datasets --help"
   ]
  },
  {
   "cell_type": "markdown",
   "id": "db05f935",
   "metadata": {},
   "source": [
    "Notice the difference from when we type `datasets summary genome taxon formicidae --help`  \n"
   ]
  },
  {
   "cell_type": "code",
   "execution_count": 16,
   "id": "a09930dd",
   "metadata": {},
   "outputs": [
    {
     "name": "stdout",
     "output_type": "stream",
     "text": [
      "\n",
      "Print a data report containing genome metadata by taxon (NCBI Taxonomy ID, scientific or common name at any tax rank). The data report is returned in JSON format.\n",
      "\n",
      "Usage\n",
      "  datasets summary genome taxon [flags]\n",
      "\n",
      "Sample Commands\n",
      "  datasets summary genome taxon human\n",
      "  datasets summary genome taxon \"mus musculus\"\n",
      "  datasets summary genome taxon 10116\n",
      "\n",
      "Global Flags\n",
      "      --annotated                 Limit to annotated genomes\n",
      "      --api-key string            Specify an NCBI API key\n",
      "      --as-json-lines             Output results in JSON Lines format\n",
      "      --assembly-level string     Limit to genomes at one or more assembly levels (comma-separated):\n",
      "                                    * chromosome\n",
      "                                    * complete\n",
      "                                    * contig\n",
      "                                    * scaffold\n",
      "                                     (default \"[]\")\n",
      "      --assembly-source string    Limit to 'RefSeq' (GCF_) or 'GenBank' (GCA_) genomes (default \"all\")\n",
      "      --assembly-version string   Limit to 'latest' assembly accession version or include 'all' (latest + previous versions)\n",
      "                                     (default \"latest\")\n",
      "      --debug                     Emit debugging info\n",
      "      --exclude-atypical          Exclude atypical assemblies\n",
      "      --help                      Print detailed help about a datasets command\n",
      "      --limit string              Limit the number of genome summaries returned\n",
      "                                    * all:      returns all matching genome summaries\n",
      "                                    * a number: returns the specified number of matching genome summaries\n",
      "                                       (default \"all\")\n",
      "      --reference                 Limit to reference genomes\n",
      "      --released-after string     Limit to genomes released on or after a specified date (MM/DD/YYYY)\n",
      "      --released-before string    Limit to genomes released on or before a specified date (MM/DD/YYYY)\n",
      "      --report string             Choose the output type:\n",
      "                                    * genome:   Retrieve the primary genome report\n",
      "                                    * sequence: Retrieve the sequence report\n",
      "                                    * ids_only: Retrieve only the genome identifiers\n",
      "                                     (default \"genome\")\n",
      "      --search strings            Limit results to genomes with specified text in the searchable fields:\n",
      "                                  species and infraspecies, assembly name and submitter.\n",
      "                                  To search multiple strings, use the flag multiple times.\n",
      "      --version                   Print version of datasets\n",
      "\n"
     ]
    }
   ],
   "source": [
    "%%bash\n",
    "datasets summary genome taxon formicidae --help"
   ]
  },
  {
   "cell_type": "markdown",
   "id": "598672be",
   "metadata": {},
   "source": [
    "### Exercises\n",
    "\n",
    "Now we will practice what we learned about `datasets` and `dataformat`. Take a look at the questions below and feel free to ask questions. Check out the `--help` options from the command line to assist you in this exercise.\n"
   ]
  },
  {
   "cell_type": "code",
   "execution_count": 17,
   "id": "7c88ac9b",
   "metadata": {},
   "outputs": [],
   "source": [
    "%%bash\n",
    "# How many reference genomes in the family Formicidae? (hint --reference)\n",
    "\n"
   ]
  },
  {
   "cell_type": "code",
   "execution_count": 18,
   "id": "e5632797",
   "metadata": {},
   "outputs": [],
   "source": [
    "%%bash\n",
    "# How many reference genomes are annotated? (hint: --annotated)\n",
    "\n"
   ]
  },
  {
   "cell_type": "code",
   "execution_count": 19,
   "id": "462d4858",
   "metadata": {},
   "outputs": [],
   "source": [
    "%%bash\n",
    "# How many genomes have NCBI (RefSeq) annotations? (hint: --assembly-source)\n",
    "\n"
   ]
  },
  {
   "cell_type": "markdown",
   "id": "507517eb",
   "metadata": {},
   "source": [
    "### Bonus questions:"
   ]
  },
  {
   "cell_type": "code",
   "execution_count": 20,
   "id": "c114d6ee",
   "metadata": {},
   "outputs": [],
   "source": [
    "%%bash\n",
    "# Now look at the summary metadata for your organism of interest \n",
    "# (if you don't have a favorite, go with red panda, Ailurus fulgens, taxid: 9649)\n",
    "\n"
   ]
  },
  {
   "cell_type": "code",
   "execution_count": 21,
   "id": "62ff1beb",
   "metadata": {},
   "outputs": [],
   "source": [
    "%%bash\n",
    "# How many genomes?\n",
    "\n"
   ]
  },
  {
   "cell_type": "code",
   "execution_count": 22,
   "id": "308bd3d3",
   "metadata": {},
   "outputs": [],
   "source": [
    "%%bash\n",
    "# Assembly level breakdown\n",
    "\n"
   ]
  },
  {
   "cell_type": "code",
   "execution_count": 23,
   "id": "9bf4dbee",
   "metadata": {},
   "outputs": [],
   "source": [
    "%%bash\n",
    "# How many genomes have a contig N50 value above 15Mb?\n",
    "\n"
   ]
  },
  {
   "cell_type": "markdown",
   "id": "6b9ce67e",
   "metadata": {},
   "source": [
    "### What is the difference/relationship between Genbank, RefSeq and Reference assemblies?\n",
    "  \n",
    "   \n",
    "<br>\n",
    "\n",
    "---\n",
    "<img src=\"https://www.ncbi.nlm.nih.gov/datasets/docs/v2/images/gcf_vs_gca_v9.png\" alt=\"difference-gca-gcf\" style=\"width:600px;\">\n",
    "\n",
    "---"
   ]
  },
  {
   "cell_type": "markdown",
   "id": "d66b33f7",
   "metadata": {},
   "source": [
    "### Data package\n",
    "\n",
    "We explored the `datasets summary` option, in which we had a chance to look at the summary metadata ***without*** downloading any files. In the next steps, we will look at the data packages, which contain the actual data files. \n",
    "\n",
    "<br>\n",
    "\n",
    "<img src=\"./images/data-packages.png\" alt=\"data_package\" style=\"width:600px;\" />\n",
    "<br>"
   ]
  },
  {
   "cell_type": "markdown",
   "id": "b1374e2e",
   "metadata": {},
   "source": [
    "Each `datasets` option (aka. `genome`, `gene`, `virus`) has a different data package content. Users can customize data packages by using the flag `--include` to add or remove files. The image below shows the filetypes (potentially) available for each `datasets` option. \n",
    "  \n",
    "The same flag (`--include`) is used to add multiple data reports to the data package. Please refer to the [NCBI Datasets Data Package Reference page](https://www.ncbi.nlm.nih.gov/datasets/docs/v2/reference-docs/data-packages/) for more information about each report and data package contents.\n",
    "\n",
    "<br>\n",
    "\n",
    "<img src=\"./images/data-package-contents-op2.png\" style=\"width:800px;\">"
   ]
  },
  {
   "cell_type": "markdown",
   "id": "833259d4",
   "metadata": {},
   "source": [
    "\n",
    "---\n",
    "#### IMPORTANT:\n",
    "\n",
    "When the flag `--include` is invoked, the default package contents are reset, which means that we need to list all file types we want to download.  \n",
    "\n",
    "For example: the default genome data package contains the JSON-Lines data report `assembly_data_report.jsonl` and each genome assembly sequences in FASTA format. Let's imagine we also want to download the protein sequences. In that case, we would use the following command:\n",
    "\n",
    "`datasets download genome taxon cat --include protein,genome`\n",
    "\n",
    "If we say: \n",
    "`datasets download genome taxon cat --include protein`\n",
    "\n",
    "Only the protein sequences would be included, but not the genome assembly FASTA. \n",
    "\n",
    "---"
   ]
  },
  {
   "cell_type": "code",
   "execution_count": 24,
   "id": "fa1fd70d",
   "metadata": {},
   "outputs": [],
   "source": [
    "%%bash\n",
    "# Download all available GenBank assemblies for the genus Acromyrmex and save as genomes.zip\n",
    "\n",
    "datasets download genome taxon acromyrmex --assembly-source genbank --filename genomes.zip --no-progressbar"
   ]
  },
  {
   "cell_type": "code",
   "execution_count": 25,
   "id": "5f57b5e8",
   "metadata": {},
   "outputs": [
    {
     "name": "stdout",
     "output_type": "stream",
     "text": [
      "Archive:  genomes.zip\n",
      "  inflating: genomes/README.md       \n",
      "  inflating: genomes/ncbi_dataset/data/assembly_data_report.jsonl  \n",
      "  inflating: genomes/ncbi_dataset/data/GCA_000204515.1/GCA_000204515.1_Aech_3.9_genomic.fna  \n",
      "  inflating: genomes/ncbi_dataset/data/GCA_017607455.1/GCA_017607455.1_ASM1760745v1_genomic.fna  \n",
      "  inflating: genomes/ncbi_dataset/data/GCA_017607545.1/GCA_017607545.1_ASM1760754v1_genomic.fna  \n",
      "  inflating: genomes/ncbi_dataset/data/GCA_017607565.1/GCA_017607565.1_ASM1760756v1_genomic.fna  \n",
      "  inflating: genomes/ncbi_dataset/data/GCA_024713525.1/GCA_024713525.1_ASM2471352v1_genomic.fna  \n",
      "  inflating: genomes/ncbi_dataset/data/dataset_catalog.json  \n"
     ]
    }
   ],
   "source": [
    "%%bash\n",
    "# Unzip genomes.zip to the folder genomes\n",
    "unzip -o genomes.zip -d genomes"
   ]
  },
  {
   "cell_type": "code",
   "execution_count": 26,
   "id": "f3337168",
   "metadata": {},
   "outputs": [
    {
     "name": "stdout",
     "output_type": "stream",
     "text": [
      "\u001b[01;34mgenomes/\u001b[0m\n",
      "├── \u001b[00mREADME.md\u001b[0m\n",
      "└── \u001b[01;34mncbi_dataset\u001b[0m\n",
      "    └── \u001b[01;34mdata\u001b[0m\n",
      "        ├── \u001b[01;34mGCA_000204515.1\u001b[0m\n",
      "        │   └── \u001b[00mGCA_000204515.1_Aech_3.9_genomic.fna\u001b[0m\n",
      "        ├── \u001b[01;34mGCA_017607455.1\u001b[0m\n",
      "        │   └── \u001b[00mGCA_017607455.1_ASM1760745v1_genomic.fna\u001b[0m\n",
      "        ├── \u001b[01;34mGCA_017607545.1\u001b[0m\n",
      "        │   └── \u001b[00mGCA_017607545.1_ASM1760754v1_genomic.fna\u001b[0m\n",
      "        ├── \u001b[01;34mGCA_017607565.1\u001b[0m\n",
      "        │   └── \u001b[00mGCA_017607565.1_ASM1760756v1_genomic.fna\u001b[0m\n",
      "        ├── \u001b[01;34mGCA_024713525.1\u001b[0m\n",
      "        │   └── \u001b[00mGCA_024713525.1_ASM2471352v1_genomic.fna\u001b[0m\n",
      "        ├── \u001b[00massembly_data_report.jsonl\u001b[0m\n",
      "        └── \u001b[00mdataset_catalog.json\u001b[0m\n",
      "\n",
      "7 directories, 8 files\n"
     ]
    }
   ],
   "source": [
    "%%bash\n",
    "# Explore the folder structure of the folder genome with the command tree\n",
    "tree -C genomes/"
   ]
  },
  {
   "cell_type": "markdown",
   "id": "77a0fe05",
   "metadata": {},
   "source": [
    "### Let's recap our goals\n",
    "\n",
    "We used `datasets` to download all the Genbank assemblies for the genus *Acromyrmex*. The next step is to download the gene *orco* (odorance receptor coreceptor) for the same genus. But first, let's learn more about how genes are organized at NCBI.\n",
    "\n",
    "<img src=\"./images/elmo_workflow-1.png\" alt=\"done1\" style=\"width: 600px;\" />"
   ]
  },
  {
   "cell_type": "markdown",
   "id": "92c031a1",
   "metadata": {},
   "source": [
    "## Part II: Accessing genes <a class=\"anchor\" id=\"Part-II\"></a>\n",
    "### GENES\n",
    "\n",
    "Independent of choosing `datasets download` or `datasets summary`, there are four options for retrieving gene information: `accession`, `gene-id`, `symbol` and `taxon`. \n",
    "\n",
    "\n",
    "<img src=\"./images/datasets-gene.png\" style=\"width: 700px;\"/>\n"
   ]
  },
  {
   "cell_type": "markdown",
   "id": "5b4d055b",
   "metadata": {},
   "source": [
    "When choosing any of those options, you will retrieve the gene information for the **reference** taxon. Like this:\n",
    "\n",
    "`datasets download gene accession XR_002738142.1`  \n",
    "`datasets download gene gene-id 101081937`  \n",
    "`datasets download gene symbol BRCA1 --taxon cat`  \n",
    "`datasets download gene taxon cat`. \n",
    "\n",
    "The first three commands will download the same gene from the cat (<i>Felis catus</i>) <u>reference genome</u>, and the last one will download all genes that species RefSeq annotation. \n",
    "\n",
    "- **accession**:  Unique identifier. Accession includes RefSeq RNA and protein accessions. Since it's unique, taxon is implied (aka there will never be two sequences from different taxa with the same accession number).  \n",
    "\n",
    "- **gene-id**:  Also a unique identifier. Every RefSeq genome annotated has a unique set of identifiers. For example: the gene-id for BRCA1 in human is 672, while in cat is 101081937.  \n",
    "\n",
    "- **symbol**: Differently from accession and gene-id, gene symbol is not unique and means different things in different taxonomic groups. If using the symbol option, you should specify the species. The default option is human.\n",
    "\n",
    "- **taxon**: Species-level. Retrieves the entire set of RefSeq annotated genes for the specified taxon.  \n",
    "\n",
    "**Remember**  \n",
    "Both `summary` and `download` will return results for the **reference assembly** of a <u>single species</u>. If you want to download a curated set of the same gene for multiple taxa, you should use the flag `--ortholog`. We'll talk more about it later. \n",
    "\n",
    "<img src=\"./images/dataformat-gene.png\" />\n",
    "\n",
    "Now let's take a look at a gene example:"
   ]
  },
  {
   "cell_type": "code",
   "execution_count": 27,
   "id": "6e2b6fe8",
   "metadata": {},
   "outputs": [
    {
     "name": "stdout",
     "output_type": "stream",
     "text": [
      "\u001b[1;39m{\n",
      "  \u001b[0m\u001b[34;1m\"reports\"\u001b[0m\u001b[1;39m: \u001b[0m\u001b[1;39m[\n",
      "    \u001b[1;39m{\n",
      "      \u001b[0m\u001b[34;1m\"gene\"\u001b[0m\u001b[1;39m: \u001b[0m\u001b[1;39m{\n",
      "        \u001b[0m\u001b[34;1m\"annotations\"\u001b[0m\u001b[1;39m: \u001b[0m\u001b[1;39m[\n",
      "          \u001b[1;39m{\n",
      "            \u001b[0m\u001b[34;1m\"annotation_name\"\u001b[0m\u001b[1;39m: \u001b[0m\u001b[0;32m\"NCBI Annotation Release 110\"\u001b[0m\u001b[1;39m,\n",
      "            \u001b[0m\u001b[34;1m\"annotation_release_date\"\u001b[0m\u001b[1;39m: \u001b[0m\u001b[0;32m\"2022-02-25\"\u001b[0m\u001b[1;39m,\n",
      "            \u001b[0m\u001b[34;1m\"assembly_accession\"\u001b[0m\u001b[1;39m: \u001b[0m\u001b[0;32m\"GCF_000001405.40\"\u001b[0m\u001b[1;39m,\n",
      "            \u001b[0m\u001b[34;1m\"assembly_name\"\u001b[0m\u001b[1;39m: \u001b[0m\u001b[0;32m\"GRCh38.p14\"\u001b[0m\u001b[1;39m,\n",
      "            \u001b[0m\u001b[34;1m\"genomic_locations\"\u001b[0m\u001b[1;39m: \u001b[0m\u001b[1;39m[\n",
      "              \u001b[1;39m{\n",
      "                \u001b[0m\u001b[34;1m\"genomic_accession_version\"\u001b[0m\u001b[1;39m: \u001b[0m\u001b[0;32m\"NC_000012.12\"\u001b[0m\u001b[1;39m,\n",
      "                \u001b[0m\u001b[34;1m\"genomic_range\"\u001b[0m\u001b[1;39m: \u001b[0m\u001b[1;39m{\n",
      "                  \u001b[0m\u001b[34;1m\"begin\"\u001b[0m\u001b[1;39m: \u001b[0m\u001b[0;32m\"68154768\"\u001b[0m\u001b[1;39m,\n",
      "                  \u001b[0m\u001b[34;1m\"end\"\u001b[0m\u001b[1;39m: \u001b[0m\u001b[0;32m\"68159740\"\u001b[0m\u001b[1;39m,\n",
      "                  \u001b[0m\u001b[34;1m\"orientation\"\u001b[0m\u001b[1;39m: \u001b[0m\u001b[0;32m\"minus\"\u001b[0m\u001b[1;39m\n",
      "                \u001b[1;39m}\u001b[0m\u001b[1;39m,\n",
      "                \u001b[0m\u001b[34;1m\"sequence_name\"\u001b[0m\u001b[1;39m: \u001b[0m\u001b[0;32m\"12\"\u001b[0m\u001b[1;39m\n",
      "              \u001b[1;39m}\u001b[0m\u001b[1;39m\n",
      "            \u001b[1;39m]\u001b[0m\u001b[1;39m\n",
      "          \u001b[1;39m}\u001b[0m\u001b[1;39m,\n",
      "          \u001b[1;39m{\n",
      "            \u001b[0m\u001b[34;1m\"annotation_name\"\u001b[0m\u001b[1;39m: \u001b[0m\u001b[0;32m\"NCBI Annotation Release 110\"\u001b[0m\u001b[1;39m,\n",
      "            \u001b[0m\u001b[34;1m\"annotation_release_date\"\u001b[0m\u001b[1;39m: \u001b[0m\u001b[0;32m\"2022-02-25\"\u001b[0m\u001b[1;39m,\n",
      "            \u001b[0m\u001b[34;1m\"assembly_accession\"\u001b[0m\u001b[1;39m: \u001b[0m\u001b[0;32m\"GCF_009914755.1\"\u001b[0m\u001b[1;39m,\n",
      "            \u001b[0m\u001b[34;1m\"assembly_name\"\u001b[0m\u001b[1;39m: \u001b[0m\u001b[0;32m\"T2T-CHM13v2.0\"\u001b[0m\u001b[1;39m,\n",
      "            \u001b[0m\u001b[34;1m\"genomic_locations\"\u001b[0m\u001b[1;39m: \u001b[0m\u001b[1;39m[\n",
      "              \u001b[1;39m{\n",
      "                \u001b[0m\u001b[34;1m\"genomic_accession_version\"\u001b[0m\u001b[1;39m: \u001b[0m\u001b[0;32m\"NC_060936.1\"\u001b[0m\u001b[1;39m,\n",
      "                \u001b[0m\u001b[34;1m\"genomic_range\"\u001b[0m\u001b[1;39m: \u001b[0m\u001b[1;39m{\n",
      "                  \u001b[0m\u001b[34;1m\"begin\"\u001b[0m\u001b[1;39m: \u001b[0m\u001b[0;32m\"68134280\"\u001b[0m\u001b[1;39m,\n",
      "                  \u001b[0m\u001b[34;1m\"end\"\u001b[0m\u001b[1;39m: \u001b[0m\u001b[0;32m\"68139252\"\u001b[0m\u001b[1;39m,\n",
      "                  \u001b[0m\u001b[34;1m\"orientation\"\u001b[0m\u001b[1;39m: \u001b[0m\u001b[0;32m\"minus\"\u001b[0m\u001b[1;39m\n",
      "                \u001b[1;39m}\u001b[0m\u001b[1;39m,\n",
      "                \u001b[0m\u001b[34;1m\"sequence_name\"\u001b[0m\u001b[1;39m: \u001b[0m\u001b[0;32m\"12\"\u001b[0m\u001b[1;39m\n",
      "              \u001b[1;39m}\u001b[0m\u001b[1;39m\n",
      "            \u001b[1;39m]\u001b[0m\u001b[1;39m\n",
      "          \u001b[1;39m}\u001b[0m\u001b[1;39m\n",
      "        \u001b[1;39m]\u001b[0m\u001b[1;39m,\n",
      "        \u001b[0m\u001b[34;1m\"chromosomes\"\u001b[0m\u001b[1;39m: \u001b[0m\u001b[1;39m[\n",
      "          \u001b[0;32m\"12\"\u001b[0m\u001b[1;39m\n",
      "        \u001b[1;39m]\u001b[0m\u001b[1;39m,\n",
      "        \u001b[0m\u001b[34;1m\"common_name\"\u001b[0m\u001b[1;39m: \u001b[0m\u001b[0;32m\"human\"\u001b[0m\u001b[1;39m,\n",
      "        \u001b[0m\u001b[34;1m\"description\"\u001b[0m\u001b[1;39m: \u001b[0m\u001b[0;32m\"interferon gamma\"\u001b[0m\u001b[1;39m,\n",
      "        \u001b[0m\u001b[34;1m\"ensembl_gene_ids\"\u001b[0m\u001b[1;39m: \u001b[0m\u001b[1;39m[\n",
      "          \u001b[0;32m\"ENSG00000111537\"\u001b[0m\u001b[1;39m\n",
      "        \u001b[1;39m]\u001b[0m\u001b[1;39m,\n",
      "        \u001b[0m\u001b[34;1m\"gene_groups\"\u001b[0m\u001b[1;39m: \u001b[0m\u001b[1;39m[\n",
      "          \u001b[1;39m{\n",
      "            \u001b[0m\u001b[34;1m\"id\"\u001b[0m\u001b[1;39m: \u001b[0m\u001b[0;32m\"3458\"\u001b[0m\u001b[1;39m,\n",
      "            \u001b[0m\u001b[34;1m\"method\"\u001b[0m\u001b[1;39m: \u001b[0m\u001b[0;32m\"NCBI Ortholog\"\u001b[0m\u001b[1;39m\n",
      "          \u001b[1;39m}\u001b[0m\u001b[1;39m\n",
      "        \u001b[1;39m]\u001b[0m\u001b[1;39m,\n",
      "        \u001b[0m\u001b[34;1m\"gene_id\"\u001b[0m\u001b[1;39m: \u001b[0m\u001b[0;32m\"3458\"\u001b[0m\u001b[1;39m,\n",
      "        \u001b[0m\u001b[34;1m\"nomenclature_authority\"\u001b[0m\u001b[1;39m: \u001b[0m\u001b[1;39m{\n",
      "          \u001b[0m\u001b[34;1m\"authority\"\u001b[0m\u001b[1;39m: \u001b[0m\u001b[0;32m\"HGNC\"\u001b[0m\u001b[1;39m,\n",
      "          \u001b[0m\u001b[34;1m\"identifier\"\u001b[0m\u001b[1;39m: \u001b[0m\u001b[0;32m\"HGNC:5438\"\u001b[0m\u001b[1;39m\n",
      "        \u001b[1;39m}\u001b[0m\u001b[1;39m,\n",
      "        \u001b[0m\u001b[34;1m\"omim_ids\"\u001b[0m\u001b[1;39m: \u001b[0m\u001b[1;39m[\n",
      "          \u001b[0;32m\"147570\"\u001b[0m\u001b[1;39m\n",
      "        \u001b[1;39m]\u001b[0m\u001b[1;39m,\n",
      "        \u001b[0m\u001b[34;1m\"orientation\"\u001b[0m\u001b[1;39m: \u001b[0m\u001b[0;32m\"minus\"\u001b[0m\u001b[1;39m,\n",
      "        \u001b[0m\u001b[34;1m\"protein_count\"\u001b[0m\u001b[1;39m: \u001b[0m\u001b[0;39m1\u001b[0m\u001b[1;39m,\n",
      "        \u001b[0m\u001b[34;1m\"reference_standards\"\u001b[0m\u001b[1;39m: \u001b[0m\u001b[1;39m[\n",
      "          \u001b[1;39m{\n",
      "            \u001b[0m\u001b[34;1m\"gene_range\"\u001b[0m\u001b[1;39m: \u001b[0m\u001b[1;39m{\n",
      "              \u001b[0m\u001b[34;1m\"accession_version\"\u001b[0m\u001b[1;39m: \u001b[0m\u001b[0;32m\"NG_015840.1\"\u001b[0m\u001b[1;39m,\n",
      "              \u001b[0m\u001b[34;1m\"range\"\u001b[0m\u001b[1;39m: \u001b[0m\u001b[1;39m[\n",
      "                \u001b[1;39m{\n",
      "                  \u001b[0m\u001b[34;1m\"begin\"\u001b[0m\u001b[1;39m: \u001b[0m\u001b[0;32m\"5002\"\u001b[0m\u001b[1;39m,\n",
      "                  \u001b[0m\u001b[34;1m\"end\"\u001b[0m\u001b[1;39m: \u001b[0m\u001b[0;32m\"9974\"\u001b[0m\u001b[1;39m,\n",
      "                  \u001b[0m\u001b[34;1m\"orientation\"\u001b[0m\u001b[1;39m: \u001b[0m\u001b[0;32m\"plus\"\u001b[0m\u001b[1;39m\n",
      "                \u001b[1;39m}\u001b[0m\u001b[1;39m\n",
      "              \u001b[1;39m]\u001b[0m\u001b[1;39m\n",
      "            \u001b[1;39m}\u001b[0m\u001b[1;39m,\n",
      "            \u001b[0m\u001b[34;1m\"type\"\u001b[0m\u001b[1;39m: \u001b[0m\u001b[0;32m\"REFSEQ_GENE\"\u001b[0m\u001b[1;39m\n",
      "          \u001b[1;39m}\u001b[0m\u001b[1;39m\n",
      "        \u001b[1;39m]\u001b[0m\u001b[1;39m,\n",
      "        \u001b[0m\u001b[34;1m\"swiss_prot_accessions\"\u001b[0m\u001b[1;39m: \u001b[0m\u001b[1;39m[\n",
      "          \u001b[0;32m\"P01579\"\u001b[0m\u001b[1;39m\n",
      "        \u001b[1;39m]\u001b[0m\u001b[1;39m,\n",
      "        \u001b[0m\u001b[34;1m\"symbol\"\u001b[0m\u001b[1;39m: \u001b[0m\u001b[0;32m\"IFNG\"\u001b[0m\u001b[1;39m,\n",
      "        \u001b[0m\u001b[34;1m\"synonyms\"\u001b[0m\u001b[1;39m: \u001b[0m\u001b[1;39m[\n",
      "          \u001b[0;32m\"IFG\"\u001b[0m\u001b[1;39m,\n",
      "          \u001b[0;32m\"IFI\"\u001b[0m\u001b[1;39m,\n",
      "          \u001b[0;32m\"IMD69\"\u001b[0m\u001b[1;39m\n",
      "        \u001b[1;39m]\u001b[0m\u001b[1;39m,\n",
      "        \u001b[0m\u001b[34;1m\"tax_id\"\u001b[0m\u001b[1;39m: \u001b[0m\u001b[0;32m\"9606\"\u001b[0m\u001b[1;39m,\n",
      "        \u001b[0m\u001b[34;1m\"taxname\"\u001b[0m\u001b[1;39m: \u001b[0m\u001b[0;32m\"Homo sapiens\"\u001b[0m\u001b[1;39m,\n",
      "        \u001b[0m\u001b[34;1m\"transcript_count\"\u001b[0m\u001b[1;39m: \u001b[0m\u001b[0;39m1\u001b[0m\u001b[1;39m,\n",
      "        \u001b[0m\u001b[34;1m\"transcript_type_counts\"\u001b[0m\u001b[1;39m: \u001b[0m\u001b[1;39m[\n",
      "          \u001b[1;39m{\n",
      "            \u001b[0m\u001b[34;1m\"count\"\u001b[0m\u001b[1;39m: \u001b[0m\u001b[0;39m1\u001b[0m\u001b[1;39m,\n",
      "            \u001b[0m\u001b[34;1m\"type\"\u001b[0m\u001b[1;39m: \u001b[0m\u001b[0;32m\"PROTEIN_CODING\"\u001b[0m\u001b[1;39m\n",
      "          \u001b[1;39m}\u001b[0m\u001b[1;39m\n",
      "        \u001b[1;39m]\u001b[0m\u001b[1;39m,\n",
      "        \u001b[0m\u001b[34;1m\"type\"\u001b[0m\u001b[1;39m: \u001b[0m\u001b[0;32m\"PROTEIN_CODING\"\u001b[0m\u001b[1;39m\n",
      "      \u001b[1;39m}\u001b[0m\u001b[1;39m,\n",
      "      \u001b[0m\u001b[34;1m\"query\"\u001b[0m\u001b[1;39m: \u001b[0m\u001b[1;39m[\n",
      "        \u001b[0;32m\"ifng\"\u001b[0m\u001b[1;39m\n",
      "      \u001b[1;39m]\u001b[0m\u001b[1;39m\n",
      "    \u001b[1;39m}\u001b[0m\u001b[1;39m\n",
      "  \u001b[1;39m]\u001b[0m\u001b[1;39m,\n",
      "  \u001b[0m\u001b[34;1m\"total_count\"\u001b[0m\u001b[1;39m: \u001b[0m\u001b[0;39m1\u001b[0m\u001b[1;39m\n",
      "\u001b[1;39m}\u001b[0m\n"
     ]
    }
   ],
   "source": [
    "%%bash\n",
    "#Example: IFNG in human\n",
    "datasets summary gene symbol ifng | jq -C .\n"
   ]
  },
  {
   "cell_type": "code",
   "execution_count": 28,
   "id": "e748073a",
   "metadata": {},
   "outputs": [
    {
     "name": "stdout",
     "output_type": "stream",
     "text": [
      "Taxonomic Name\tSymbol\tSynonyms\n",
      "Homo sapiens\tIFNG\tIFG,IFI,IMD69\n"
     ]
    }
   ],
   "source": [
    "%%bash\n",
    "# how datasets deals with synonyms\n",
    "datasets summary gene symbol IFG --as-json-lines | dataformat tsv gene \\\n",
    "--fields tax-name,symbol,synonyms\n"
   ]
  },
  {
   "cell_type": "code",
   "execution_count": 29,
   "id": "94d1bdbf",
   "metadata": {},
   "outputs": [
    {
     "name": "stdout",
     "output_type": "stream",
     "text": [
      "{\"reports\": [{\"gene\":{\"annotations\":[{\"annotation_name\":\"NCBI Annotation Release 105\",\"annotation_release_date\":\"2021-10-27\",\"assembly_accession\":\"GCF_018350175.1\",\"assembly_name\":\"F.catus_Fca126_mat1.0\",\"genomic_locations\":[{\"genomic_accession_version\":\"NC_058374.1\",\"genomic_range\":{\"begin\":\"93137484\",\"end\":\"93141840\",\"orientation\":\"minus\"},\"sequence_name\":\"B4\"}]}],\"chromosomes\":[\"B4\"],\"common_name\":\"domestic cat\",\"description\":\"interferon gamma\",\"gene_groups\":[{\"id\":\"3458\",\"method\":\"NCBI Ortholog\"}],\"gene_id\":\"493965\",\"nomenclature_authority\":{\"authority\":\"VGNC\",\"identifier\":\"VGNC:67703\"},\"orientation\":\"minus\",\"protein_count\":1,\"swiss_prot_accessions\":[\"P46402\"],\"symbol\":\"IFNG\",\"tax_id\":\"9685\",\"taxname\":\"Felis catus\",\"transcript_count\":1,\"transcript_type_counts\":[{\"count\":1,\"type\":\"PROTEIN_CODING\"}],\"type\":\"PROTEIN_CODING\"},\"query\":[\"ifng\"]}],\"total_count\": 1}\n"
     ]
    }
   ],
   "source": [
    "%%bash\n",
    "#Example: IFNG in cat\n",
    "datasets summary gene symbol ifng --taxon \"felis catus\"\n"
   ]
  },
  {
   "cell_type": "markdown",
   "id": "1d69331f",
   "metadata": {},
   "source": [
    "### Back to ants\n",
    "We will download the gene *orco* for the species *Acromyrmex echinatior*. We will use the gene-id 105147775 instead of the symbol because no informative gene symbol has been assigned for this gene.  "
   ]
  },
  {
   "cell_type": "code",
   "execution_count": 30,
   "id": "0d5bb16e",
   "metadata": {},
   "outputs": [
    {
     "name": "stdout",
     "output_type": "stream",
     "text": [
      "Description\tNCBI GeneID\tSymbol\tTaxonomic Name\n",
      "odorant receptor coreceptor\t105147775\tLOC105147775\tAcromyrmex echinatior\n"
     ]
    }
   ],
   "source": [
    "%%bash\n",
    "# Using gene-id to retrieve gene information\n",
    "datasets summary gene gene-id 105147775 --as-json-lines | dataformat tsv gene \\\n",
    "--fields description,gene-id,symbol,tax-name\n"
   ]
  },
  {
   "cell_type": "code",
   "execution_count": 31,
   "id": "91058e44",
   "metadata": {},
   "outputs": [
    {
     "name": "stdout",
     "output_type": "stream",
     "text": [
      "{\"total_count\": 0}\n"
     ]
    }
   ],
   "source": [
    "%%bash\n",
    "# if we try to retrieve metadata information for this gene using the symbol orco, what happens?\n",
    "datasets summary gene symbol orco --taxon \"acromyrmex echinatior\"\n"
   ]
  },
  {
   "cell_type": "code",
   "execution_count": 32,
   "id": "e08b9763",
   "metadata": {},
   "outputs": [],
   "source": [
    "%%bash\n",
    "# Download the gene data package for the gene-id 105147775 (*orco* in Acromyrmex echinatior)\n",
    "# We want to include the FASTA file with gene sequences, so we will use the flag --include.\n",
    "\n",
    "datasets download gene gene-id 105147775 --filename gene.zip --include gene,protein,rna --no-progressbar\n"
   ]
  },
  {
   "cell_type": "code",
   "execution_count": 33,
   "id": "32ff018d",
   "metadata": {},
   "outputs": [
    {
     "name": "stdout",
     "output_type": "stream",
     "text": [
      "Archive:  gene.zip\n",
      "  inflating: gene/README.md          \n",
      "  inflating: gene/ncbi_dataset/data/gene.fna  \n",
      "  inflating: gene/ncbi_dataset/data/protein.faa  \n",
      "  inflating: gene/ncbi_dataset/data/rna.fna  \n",
      "  inflating: gene/ncbi_dataset/data/data_report.jsonl  \n",
      "  inflating: gene/ncbi_dataset/data/dataset_catalog.json  \n"
     ]
    }
   ],
   "source": [
    "%%bash\n",
    "#Unzip the file\n",
    "unzip -o gene.zip -d gene"
   ]
  },
  {
   "cell_type": "code",
   "execution_count": 34,
   "id": "9ab71ee8",
   "metadata": {},
   "outputs": [
    {
     "name": "stdout",
     "output_type": "stream",
     "text": [
      "\u001b[01;34mgene\u001b[0m\n",
      "├── \u001b[00mREADME.md\u001b[0m\n",
      "└── \u001b[01;34mncbi_dataset\u001b[0m\n",
      "    └── \u001b[01;34mdata\u001b[0m\n",
      "        ├── \u001b[00mdata_report.jsonl\u001b[0m\n",
      "        ├── \u001b[00mdataset_catalog.json\u001b[0m\n",
      "        ├── \u001b[00mgene.fna\u001b[0m\n",
      "        ├── \u001b[00mprotein.faa\u001b[0m\n",
      "        └── \u001b[00mrna.fna\u001b[0m\n",
      "\n",
      "2 directories, 6 files\n"
     ]
    }
   ],
   "source": [
    "%%bash\n",
    "#Explore the data package structure using tree\n",
    "tree gene"
   ]
  },
  {
   "cell_type": "markdown",
   "id": "af8f7dde",
   "metadata": {},
   "source": [
    "### Exercises\n",
    "\n",
    "1. Look for the summary data for a gene of interest (check the [etherpad](https://etherpad.wikimedia.org/p/CSHL_Datasets_Workshop_2021) for suggestions)\n",
    "2. What is the gene location?\n",
    "3. What is the gene range?\n",
    "4. Now, download a list of gene symbols using the file genes.txt (provided). Save it as gene_list.zip\n",
    "5. Unzip gene_list.zip and explore the folder structure\n",
    "6. How many fasta files are there?"
   ]
  },
  {
   "cell_type": "code",
   "execution_count": 35,
   "id": "a4250b69",
   "metadata": {},
   "outputs": [],
   "source": [
    "%%bash\n",
    "# Summary data\n",
    "\n"
   ]
  },
  {
   "cell_type": "code",
   "execution_count": 36,
   "id": "60d2f31e",
   "metadata": {},
   "outputs": [],
   "source": [
    "%%bash\n",
    "# Gene location\n",
    "\n"
   ]
  },
  {
   "cell_type": "code",
   "execution_count": 37,
   "id": "a2d483de",
   "metadata": {},
   "outputs": [],
   "source": [
    "%%bash\n",
    "# Gene range\n",
    "\n"
   ]
  },
  {
   "cell_type": "code",
   "execution_count": 38,
   "id": "0ed6c85b",
   "metadata": {},
   "outputs": [],
   "source": [
    "%%bash\n",
    "# Download a list of genes and save the data package as gene_list.zip (--filename gene_list.zip)\n"
   ]
  },
  {
   "cell_type": "code",
   "execution_count": 39,
   "id": "bfa13ee9",
   "metadata": {},
   "outputs": [],
   "source": [
    "%%bash\n",
    "# Explore the folder structure\n",
    "\n"
   ]
  },
  {
   "cell_type": "code",
   "execution_count": 40,
   "id": "cde5b036",
   "metadata": {},
   "outputs": [],
   "source": [
    "%%bash\n",
    "# How many genes were downloaded?\n",
    "\n"
   ]
  },
  {
   "cell_type": "code",
   "execution_count": 41,
   "id": "f4dfb0a2",
   "metadata": {},
   "outputs": [],
   "source": [
    "%%bash\n",
    "# How many fasta files in the data package?\n",
    "\n"
   ]
  },
  {
   "cell_type": "markdown",
   "id": "c908cc8b",
   "metadata": {},
   "source": [
    "## Part III: Accessing orthologs <a class=\"anchor\" id=\"Part-III\"></a>\n",
    "\n",
    "### Orthologs\n",
    "\n",
    "Since `datasets version 14`, users can retrieve ortholog information using the flag `--ortholog` under the `gene` service (with exception for the `taxon` option).\n",
    "\n",
    "#### <font color='blue'>Wait, but what is an ortholog set?</font>\n",
    "\n",
    ">An ortholog set, or ortholog gene group, is a group of sequences that have been identified by the NCBI genome annotation team as homologous genes related to each other by speciation events. They are identified by a combination of protein similarity + local syntheny information. \n",
    "Currently, NCBI has ortholog sets calculated for vertebrates and some insects. \n",
    "\n",
    "\n",
    "#### Examples:\n",
    "\n",
    "`datasets download gene accession XR_002738142.1 --ortholog all`  \n",
    "`datasets download gene gene-id 101081937 --ortholog all`  \n",
    "`datasets download gene symbol BRCA1 --ortholog all --taxon cat`  \n",
    "\n",
    "All three commands will download the **same** ortholog set (which is the complete set). \n",
    "\n",
    "What if I want to filter the ortholog set to include *only* a taxonomic group of interest?\n",
    "\n"
   ]
  },
  {
   "cell_type": "markdown",
   "id": "3c1ab1db",
   "metadata": {},
   "source": [
    "### Applying a taxonomic filter to the ortholog set\n",
    "\n",
    "When using the `--ortholog` flag, users need to provide an argument for it. The argument should be one or more taxa (any rank) to filter results or 'all' for the complete set.\n",
    "\n",
    "#### Examples\n",
    "\n",
    "- `datasets summary gene symbol brca1 --ortholog \"felis catus\"`  \n",
    "Prints a json metadata summary of the gene brca1 for the domestic cat only. \n",
    "  \n",
    "  \n",
    "- `datasets summary gene symbol brca1 --taxon \"felis catus\" --ortholog all`  \n",
    "Even though this option looks similar to the one above, the result is *very different*. Here, we're asking `datasets` to find the ortholog set to which the gene brca1 in the domestic cat belongs. And `datasets` will download the <u>entire</u> ortholog set, not only the sequences for the domestic cat.\n"
   ]
  },
  {
   "cell_type": "markdown",
   "id": "3673c066",
   "metadata": {},
   "source": [
    "#### We are going to do the following steps:\n",
    "- download the ortholog data package and save it with the name ortholog.zip\n",
    "- unzip it to the folder ortholog\n",
    "- look at the files\n",
    "\n",
    "Helpful info:\n",
    "\n",
    "- gene symbol: orco\n",
    "- gene-id in *Drosophila melanogaster*: 40650\n",
    "- gene-id in *Acromyrmer echinatior*: 105147775\n",
    "- target taxon: Formicidae"
   ]
  },
  {
   "cell_type": "code",
   "execution_count": 42,
   "id": "4040acda",
   "metadata": {},
   "outputs": [],
   "source": [
    "%%bash\n",
    "# download the orco ortholog set for ants (Formicidae)\n",
    "datasets download gene gene-id 40650 --ortholog formicidae --include gene --filename ortholog.zip --no-progressbar\n"
   ]
  },
  {
   "cell_type": "code",
   "execution_count": 43,
   "id": "c295a289",
   "metadata": {},
   "outputs": [
    {
     "name": "stdout",
     "output_type": "stream",
     "text": [
      "Archive:  ortholog.zip\n",
      "  inflating: ortholog/README.md      \n",
      "  inflating: ortholog/ncbi_dataset/data/gene.fna  \n",
      "  inflating: ortholog/ncbi_dataset/data/data_report.jsonl  \n",
      "  inflating: ortholog/ncbi_dataset/data/dataset_catalog.json  \n"
     ]
    }
   ],
   "source": [
    "%%bash\n",
    "# unzip it to the folder ortholog\n",
    "unzip -o ortholog.zip -d ortholog\n"
   ]
  },
  {
   "cell_type": "code",
   "execution_count": 44,
   "id": "5f22996a",
   "metadata": {},
   "outputs": [
    {
     "name": "stdout",
     "output_type": "stream",
     "text": [
      "\u001b[01;34mortholog/\u001b[0m\n",
      "├── \u001b[00mREADME.md\u001b[0m\n",
      "└── \u001b[01;34mncbi_dataset\u001b[0m\n",
      "    └── \u001b[01;34mdata\u001b[0m\n",
      "        ├── \u001b[00mdata_report.jsonl\u001b[0m\n",
      "        ├── \u001b[00mdataset_catalog.json\u001b[0m\n",
      "        └── \u001b[00mgene.fna\u001b[0m\n",
      "\n",
      "2 directories, 4 files\n"
     ]
    }
   ],
   "source": [
    "%%bash\n",
    "#Explore the folder structure\n",
    "tree ortholog/\n"
   ]
  },
  {
   "cell_type": "markdown",
   "id": "ad41374d",
   "metadata": {},
   "source": [
    "## What have we done so far?\n",
    "- Explored metadata for all ant genomes\n",
    "- Downloaded genomes for the panamanian leaf cutter ant\n",
    "- Downloaded the *orco* gene for *Acromyrmex echinatior*\n",
    "- Downloaded the ortholog set for all ants for the *orco* gene\n",
    "\n",
    "<br>\n",
    "\n",
    "<img src=\"./images/elmo_workflow-2.png\" style=\"width:600px;\"/>"
   ]
  },
  {
   "cell_type": "markdown",
   "id": "8a89ad6f",
   "metadata": {},
   "source": [
    "## Part IV: Building a BLAST database and creating a phylogenetic tree<a class=\"anchor\" id=\"Part-IV\"></a>\n",
    "\n",
    "### Here's what we are showing you now:\n",
    "- BLAST:\n",
    "    - Create a BLAST database for each genome\n",
    "    - BLAST the *orco* gene sequence against the genomes database and extract the matching regions\n",
    "- multiple sequence alignment of the blast matches and the ortholog sequences\n",
    "- generate a approximate maximum likelihood tree using FastTree\n",
    "\n",
    "We'll add more detailed information about the commands we're using here to the GitHub page."
   ]
  },
  {
   "cell_type": "markdown",
   "id": "aca6900d",
   "metadata": {},
   "source": [
    "#### Extracting taxIDs from the genome data package\n",
    "\n",
    "First, let's use `dataformat` to extract the species names, taxID and assembly accession numbers from the genomes we downloaded. We will talk in more detail about `dataformat` later."
   ]
  },
  {
   "cell_type": "code",
   "execution_count": 45,
   "id": "b1ce6599",
   "metadata": {},
   "outputs": [
    {
     "name": "stdout",
     "output_type": "stream",
     "text": [
      "Organism Name\tOrganism Taxonomic ID\tAssembly Accession\n",
      "Acromyrmex echinatior\t103372\tGCA_000204515.1\n",
      "Acromyrmex insinuator\t230686\tGCA_017607455.1\n",
      "Acromyrmex charruanus\t2715315\tGCA_017607545.1\n",
      "Acromyrmex heyeri\t230685\tGCA_017607565.1\n",
      "Acromyrmex echinatior\t103372\tGCA_024713525.1\n"
     ]
    }
   ],
   "source": [
    "%%bash\n",
    "# Extract tax id for each species:\n",
    "dataformat tsv genome --fields organism-name,organism-tax-id,accession --package genomes.zip "
   ]
  },
  {
   "cell_type": "markdown",
   "id": "0c5e8357",
   "metadata": {},
   "source": [
    "#### Creating a BLAST database with taxonomy information.\n",
    "\n",
    "First we are going to create a folder called `blastdb` with the UNIX command `mkdir`. Next, we will change to the directory we just created. Finally, we will make a copy of the NCBI taxonomy database (taxdb)"
   ]
  },
  {
   "cell_type": "code",
   "execution_count": 46,
   "id": "89044275",
   "metadata": {},
   "outputs": [
    {
     "name": "stdout",
     "output_type": "stream",
     "text": [
      "mkdir: blastdb: File exists\n",
      "/Users/nunestsuchiyam2/Desktop/datasets/blastdb\n",
      "Connected to NCBI\n",
      "Downloading taxdb.tar.gz... [OK]\n"
     ]
    }
   ],
   "source": [
    "# Create a folder called blastdb\n",
    "!mkdir blastdb\n",
    "\n",
    "# change directory to the folder blastdb\n",
    "%cd blastdb\n",
    "\n",
    "# download the NCBI Taxonomy Database (taxdb)\n",
    "!update_blastdb.pl taxdb\n",
    "\n",
    "#Now let's extract the taxdb to the blastdb folder\n",
    "!tar xfz taxdb.tar.gz"
   ]
  },
  {
   "cell_type": "markdown",
   "id": "6ec18669",
   "metadata": {},
   "source": [
    "#### BLAST database and search\n",
    "Now we will create a BLAST database with the *Acromyrmex* genomes we downloaded. More information about the commands is available on out GitHub page."
   ]
  },
  {
   "cell_type": "code",
   "execution_count": 47,
   "id": "07ccb922",
   "metadata": {},
   "outputs": [
    {
     "name": "stdout",
     "output_type": "stream",
     "text": [
      "/Users/nunestsuchiyam2/Desktop/datasets/blastdb\r\n"
     ]
    }
   ],
   "source": [
    "!pwd"
   ]
  },
  {
   "cell_type": "code",
   "execution_count": 48,
   "id": "a15f18f5",
   "metadata": {},
   "outputs": [
    {
     "name": "stdout",
     "output_type": "stream",
     "text": [
      "\n",
      "\n",
      "Building a new DB, current time: 01/03/2023 09:22:30\n",
      "New DB name:   /Users/nunestsuchiyam2/Desktop/datasets/blastdb/Aechinatior\n",
      "New DB title:  ../genomes/ncbi_dataset/data/GCA_000204515.1/GCA_000204515.1_Aech_3.9_genomic.fna\n",
      "Sequence type: Nucleotide\n",
      "Deleted existing Nucleotide BLAST database named /Users/nunestsuchiyam2/Desktop/datasets/blastdb/Aechinatior\n",
      "Keep MBits: T\n",
      "Maximum file size: 1000000000B\n",
      "Adding sequences from FASTA; added 4339 sequences in 3.1595 seconds.\n",
      "\n",
      "\n",
      "\n",
      "\n",
      "Building a new DB, current time: 01/03/2023 09:22:34\n",
      "New DB name:   /Users/nunestsuchiyam2/Desktop/datasets/blastdb/Ainsinuator\n",
      "New DB title:  ../genomes/ncbi_dataset/data/GCA_017607455.1/GCA_017607455.1_ASM1760745v1_genomic.fna\n",
      "Sequence type: Nucleotide\n",
      "Deleted existing Nucleotide BLAST database named /Users/nunestsuchiyam2/Desktop/datasets/blastdb/Ainsinuator\n",
      "Keep MBits: T\n",
      "Maximum file size: 1000000000B\n",
      "Adding sequences from FASTA; added 890 sequences in 3.17545 seconds.\n",
      "\n",
      "\n",
      "\n",
      "\n",
      "Building a new DB, current time: 01/03/2023 09:22:38\n",
      "New DB name:   /Users/nunestsuchiyam2/Desktop/datasets/blastdb/Acharruanus\n",
      "New DB title:  ../genomes/ncbi_dataset/data/GCA_017607545.1/GCA_017607545.1_ASM1760754v1_genomic.fna\n",
      "Sequence type: Nucleotide\n",
      "Deleted existing Nucleotide BLAST database named /Users/nunestsuchiyam2/Desktop/datasets/blastdb/Acharruanus\n",
      "Keep MBits: T\n",
      "Maximum file size: 1000000000B\n",
      "Adding sequences from FASTA; added 6883 sequences in 3.09871 seconds.\n",
      "\n",
      "\n",
      "\n",
      "\n",
      "Building a new DB, current time: 01/03/2023 09:22:42\n",
      "New DB name:   /Users/nunestsuchiyam2/Desktop/datasets/blastdb/Aheyeri\n",
      "New DB title:  ../genomes/ncbi_dataset/data/GCA_017607565.1/GCA_017607565.1_ASM1760756v1_genomic.fna\n",
      "Sequence type: Nucleotide\n",
      "Deleted existing Nucleotide BLAST database named /Users/nunestsuchiyam2/Desktop/datasets/blastdb/Aheyeri\n",
      "Keep MBits: T\n",
      "Maximum file size: 1000000000B\n",
      "Adding sequences from FASTA; added 11183 sequences in 3.35992 seconds.\n",
      "\n",
      "\n",
      "\n",
      "\n",
      "Building a new DB, current time: 01/03/2023 09:22:46\n",
      "New DB name:   /Users/nunestsuchiyam2/Desktop/datasets/blastdb/Aechinatior\n",
      "New DB title:  ../genomes/ncbi_dataset/data/GCA_024713525.1/GCA_024713525.1_ASM2471352v1_genomic.fna\n",
      "Sequence type: Nucleotide\n",
      "Deleted existing Nucleotide BLAST database named /Users/nunestsuchiyam2/Desktop/datasets/blastdb/Aechinatior\n",
      "Keep MBits: T\n",
      "Maximum file size: 1000000000B\n",
      "Adding sequences from FASTA; added 433 sequences in 2.95983 seconds.\n",
      "\n",
      "\n"
     ]
    },
    {
     "name": "stderr",
     "output_type": "stream",
     "text": [
      "Created nucleotide BLAST (alias) database acromyrmex with 19389 sequences\n"
     ]
    }
   ],
   "source": [
    "%%bash\n",
    "# Create a blast database for each genome\n",
    "makeblastdb -dbtype nucl -in ../genomes/ncbi_dataset/data/GCA_000204515.1/GCA_000204515.1_Aech_3.9_genomic.fna -taxid 103372 -out Aechinatior\n",
    "makeblastdb -dbtype nucl -in ../genomes/ncbi_dataset/data/GCA_017607455.1/GCA_017607455.1_ASM1760745v1_genomic.fna -taxid 230686 -out Ainsinuator \n",
    "makeblastdb -dbtype nucl -in ../genomes/ncbi_dataset/data/GCA_017607545.1/GCA_017607545.1_ASM1760754v1_genomic.fna -taxid 2715315 -out Acharruanus\n",
    "makeblastdb -dbtype nucl -in ../genomes/ncbi_dataset/data/GCA_017607565.1/GCA_017607565.1_ASM1760756v1_genomic.fna -taxid 230685 -out Aheyeri\n",
    "makeblastdb -dbtype nucl -in ../genomes/ncbi_dataset/data/GCA_024713525.1/GCA_024713525.1_ASM2471352v1_genomic.fna -taxid 103372 -out Aechinatior\n",
    "\n",
    "# Create an alias under which the four genome databases can be called\n",
    "blastdb_aliastool -dbtype nucl -title acromyrmex -out acromyrmex -dblist \"Acharruanus Aechinatior Aheyeri Ainsinuator\"\n",
    "\n",
    "# BLASTN search\n",
    "blastn \\\n",
    "-db acromyrmex \\\n",
    "-query ../gene/ncbi_dataset/data/gene.fna \\\n",
    "-evalue 1e-50 \\\n",
    "-outfmt 11 \\\n",
    "-max_hsps 1 \\\n",
    "-out orco_acromyrmex_1e-50.asn\n",
    "\n",
    "# Covert the asn.1 output to tabular (output format 6)\n",
    "\n",
    "blast_formatter \\\n",
    "-archive orco_acromyrmex_1e-50.asn \\\n",
    "-outfmt '6 sseqid sstart send evalue length staxid ssciname' > orco_acromyrmex_1e-50.tsv"
   ]
  },
  {
   "cell_type": "markdown",
   "id": "4ec1c81f",
   "metadata": {},
   "source": [
    "Using `pandas` again, we will create an object with the tsv file we just created from the BLAST output, so we can take a look at our results."
   ]
  },
  {
   "cell_type": "code",
   "execution_count": 49,
   "id": "ba539fd4",
   "metadata": {},
   "outputs": [
    {
     "data": {
      "text/html": [
       "<div>\n",
       "<style scoped>\n",
       "    .dataframe tbody tr th:only-of-type {\n",
       "        vertical-align: middle;\n",
       "    }\n",
       "\n",
       "    .dataframe tbody tr th {\n",
       "        vertical-align: top;\n",
       "    }\n",
       "\n",
       "    .dataframe thead th {\n",
       "        text-align: right;\n",
       "    }\n",
       "</style>\n",
       "<table border=\"1\" class=\"dataframe\">\n",
       "  <thead>\n",
       "    <tr style=\"text-align: right;\">\n",
       "      <th></th>\n",
       "      <th>0</th>\n",
       "      <th>1</th>\n",
       "      <th>2</th>\n",
       "      <th>3</th>\n",
       "      <th>4</th>\n",
       "      <th>5</th>\n",
       "      <th>6</th>\n",
       "    </tr>\n",
       "  </thead>\n",
       "  <tbody>\n",
       "    <tr>\n",
       "      <th>0</th>\n",
       "      <td>JANHNX010000124.1</td>\n",
       "      <td>51973</td>\n",
       "      <td>43743</td>\n",
       "      <td>0.000000e+00</td>\n",
       "      <td>8231</td>\n",
       "      <td>103372</td>\n",
       "      <td>Acromyrmex echinatior</td>\n",
       "    </tr>\n",
       "    <tr>\n",
       "      <th>1</th>\n",
       "      <td>JAANIC010002885.1</td>\n",
       "      <td>374203</td>\n",
       "      <td>382429</td>\n",
       "      <td>0.000000e+00</td>\n",
       "      <td>8319</td>\n",
       "      <td>2715315</td>\n",
       "      <td>Acromyrmex charruanus</td>\n",
       "    </tr>\n",
       "    <tr>\n",
       "      <th>2</th>\n",
       "      <td>JAANHZ010000736.1</td>\n",
       "      <td>394277</td>\n",
       "      <td>399208</td>\n",
       "      <td>0.000000e+00</td>\n",
       "      <td>4942</td>\n",
       "      <td>230686</td>\n",
       "      <td>Acromyrmex insinuator</td>\n",
       "    </tr>\n",
       "    <tr>\n",
       "      <th>3</th>\n",
       "      <td>JAANIB010005913.1</td>\n",
       "      <td>42669</td>\n",
       "      <td>38207</td>\n",
       "      <td>0.000000e+00</td>\n",
       "      <td>4507</td>\n",
       "      <td>230685</td>\n",
       "      <td>Acromyrmex heyeri</td>\n",
       "    </tr>\n",
       "    <tr>\n",
       "      <th>4</th>\n",
       "      <td>JAANIB010010813.1</td>\n",
       "      <td>2927587</td>\n",
       "      <td>2927837</td>\n",
       "      <td>3.150000e-64</td>\n",
       "      <td>256</td>\n",
       "      <td>230685</td>\n",
       "      <td>Acromyrmex heyeri</td>\n",
       "    </tr>\n",
       "    <tr>\n",
       "      <th>5</th>\n",
       "      <td>JAANIC010005341.1</td>\n",
       "      <td>252786</td>\n",
       "      <td>252532</td>\n",
       "      <td>4.070000e-63</td>\n",
       "      <td>259</td>\n",
       "      <td>2715315</td>\n",
       "      <td>Acromyrmex charruanus</td>\n",
       "    </tr>\n",
       "    <tr>\n",
       "      <th>6</th>\n",
       "      <td>JAANHZ010000232.1</td>\n",
       "      <td>840079</td>\n",
       "      <td>839835</td>\n",
       "      <td>1.460000e-62</td>\n",
       "      <td>249</td>\n",
       "      <td>230686</td>\n",
       "      <td>Acromyrmex insinuator</td>\n",
       "    </tr>\n",
       "    <tr>\n",
       "      <th>7</th>\n",
       "      <td>JANHNX010000289.1</td>\n",
       "      <td>1861440</td>\n",
       "      <td>1861196</td>\n",
       "      <td>1.460000e-62</td>\n",
       "      <td>249</td>\n",
       "      <td>103372</td>\n",
       "      <td>Acromyrmex echinatior</td>\n",
       "    </tr>\n",
       "    <tr>\n",
       "      <th>8</th>\n",
       "      <td>JAANIB010005055.1</td>\n",
       "      <td>682287</td>\n",
       "      <td>682472</td>\n",
       "      <td>1.470000e-57</td>\n",
       "      <td>190</td>\n",
       "      <td>230685</td>\n",
       "      <td>Acromyrmex heyeri</td>\n",
       "    </tr>\n",
       "    <tr>\n",
       "      <th>9</th>\n",
       "      <td>JAANIC010001616.1</td>\n",
       "      <td>1476837</td>\n",
       "      <td>1476653</td>\n",
       "      <td>1.910000e-56</td>\n",
       "      <td>188</td>\n",
       "      <td>2715315</td>\n",
       "      <td>Acromyrmex charruanus</td>\n",
       "    </tr>\n",
       "    <tr>\n",
       "      <th>10</th>\n",
       "      <td>JAANHZ010000841.1</td>\n",
       "      <td>315266</td>\n",
       "      <td>315075</td>\n",
       "      <td>2.470000e-55</td>\n",
       "      <td>195</td>\n",
       "      <td>230686</td>\n",
       "      <td>Acromyrmex insinuator</td>\n",
       "    </tr>\n",
       "    <tr>\n",
       "      <th>11</th>\n",
       "      <td>JANHNX010000040.1</td>\n",
       "      <td>188192</td>\n",
       "      <td>188383</td>\n",
       "      <td>2.470000e-55</td>\n",
       "      <td>195</td>\n",
       "      <td>103372</td>\n",
       "      <td>Acromyrmex echinatior</td>\n",
       "    </tr>\n",
       "    <tr>\n",
       "      <th>12</th>\n",
       "      <td>JAANIB010000751.1</td>\n",
       "      <td>1021249</td>\n",
       "      <td>1021433</td>\n",
       "      <td>8.870000e-55</td>\n",
       "      <td>189</td>\n",
       "      <td>230685</td>\n",
       "      <td>Acromyrmex heyeri</td>\n",
       "    </tr>\n",
       "    <tr>\n",
       "      <th>13</th>\n",
       "      <td>JAANIB010006262.1</td>\n",
       "      <td>173422</td>\n",
       "      <td>173603</td>\n",
       "      <td>5.340000e-52</td>\n",
       "      <td>188</td>\n",
       "      <td>230685</td>\n",
       "      <td>Acromyrmex heyeri</td>\n",
       "    </tr>\n",
       "    <tr>\n",
       "      <th>14</th>\n",
       "      <td>JAANIC010003998.1</td>\n",
       "      <td>311753</td>\n",
       "      <td>311534</td>\n",
       "      <td>5.340000e-52</td>\n",
       "      <td>236</td>\n",
       "      <td>2715315</td>\n",
       "      <td>Acromyrmex charruanus</td>\n",
       "    </tr>\n",
       "  </tbody>\n",
       "</table>\n",
       "</div>"
      ],
      "text/plain": [
       "                    0        1        2             3     4        5  \\\n",
       "0   JANHNX010000124.1    51973    43743  0.000000e+00  8231   103372   \n",
       "1   JAANIC010002885.1   374203   382429  0.000000e+00  8319  2715315   \n",
       "2   JAANHZ010000736.1   394277   399208  0.000000e+00  4942   230686   \n",
       "3   JAANIB010005913.1    42669    38207  0.000000e+00  4507   230685   \n",
       "4   JAANIB010010813.1  2927587  2927837  3.150000e-64   256   230685   \n",
       "5   JAANIC010005341.1   252786   252532  4.070000e-63   259  2715315   \n",
       "6   JAANHZ010000232.1   840079   839835  1.460000e-62   249   230686   \n",
       "7   JANHNX010000289.1  1861440  1861196  1.460000e-62   249   103372   \n",
       "8   JAANIB010005055.1   682287   682472  1.470000e-57   190   230685   \n",
       "9   JAANIC010001616.1  1476837  1476653  1.910000e-56   188  2715315   \n",
       "10  JAANHZ010000841.1   315266   315075  2.470000e-55   195   230686   \n",
       "11  JANHNX010000040.1   188192   188383  2.470000e-55   195   103372   \n",
       "12  JAANIB010000751.1  1021249  1021433  8.870000e-55   189   230685   \n",
       "13  JAANIB010006262.1   173422   173603  5.340000e-52   188   230685   \n",
       "14  JAANIC010003998.1   311753   311534  5.340000e-52   236  2715315   \n",
       "\n",
       "                        6  \n",
       "0   Acromyrmex echinatior  \n",
       "1   Acromyrmex charruanus  \n",
       "2   Acromyrmex insinuator  \n",
       "3       Acromyrmex heyeri  \n",
       "4       Acromyrmex heyeri  \n",
       "5   Acromyrmex charruanus  \n",
       "6   Acromyrmex insinuator  \n",
       "7   Acromyrmex echinatior  \n",
       "8       Acromyrmex heyeri  \n",
       "9   Acromyrmex charruanus  \n",
       "10  Acromyrmex insinuator  \n",
       "11  Acromyrmex echinatior  \n",
       "12      Acromyrmex heyeri  \n",
       "13      Acromyrmex heyeri  \n",
       "14  Acromyrmex charruanus  "
      ]
     },
     "execution_count": 49,
     "metadata": {},
     "output_type": "execute_result"
    }
   ],
   "source": [
    "# Create a table and visualize the BLAST results\n",
    "\n",
    "blast_table = pd.read_csv('orco_acromyrmex_1e-50.tsv', sep='\\t', header=None)\n",
    "blast_table"
   ]
  },
  {
   "cell_type": "markdown",
   "id": "ad0ead0a",
   "metadata": {},
   "source": [
    "#### Converting from BLAST to fasta\n",
    "\n",
    "Now we are going to use some \"tricks\" (not really, just some good old bash scripting) to extract fasta sequences from the BLAST output. For tthis task, we will be using `blast_formatter` again."
   ]
  },
  {
   "cell_type": "code",
   "execution_count": 50,
   "id": "6b0fcd5b",
   "metadata": {},
   "outputs": [
    {
     "name": "stderr",
     "output_type": "stream",
     "text": [
      "Warning: Examining 5 or more matches is recommended\n"
     ]
    }
   ],
   "source": [
    "%%bash\n",
    "# Convert BLAST output to fasta\n",
    "\n",
    "blast_formatter \\\n",
    "-archive orco_acromyrmex_1e-50.asn \\\n",
    "-outfmt '6 ssciname sseqid sseq' \\\n",
    "-max_target_seqs 4 | awk 'BEGIN{FS=\"\\t\"; OFS=\"\\n\"}{gsub(/ /, \"_\", $1);gsub(/-/, \"\", $3); print \">\"$1\"_\"$2,$3}' > ../acromyrmex_orco.fasta\n"
   ]
  },
  {
   "cell_type": "markdown",
   "id": "2d7041a1",
   "metadata": {},
   "source": [
    "<img src=\"./images/elmo_workflow-3.png\" style=\"width: 600px;\"/>"
   ]
  },
  {
   "cell_type": "markdown",
   "id": "de48261f",
   "metadata": {},
   "source": [
    "### VERY IMPORTANT!\n",
    "For the next steps, we need to go back to our home folder. Let's do it in steps again."
   ]
  },
  {
   "cell_type": "code",
   "execution_count": 51,
   "id": "5e9fa8c8",
   "metadata": {},
   "outputs": [
    {
     "name": "stdout",
     "output_type": "stream",
     "text": [
      "/Users/nunestsuchiyam2/Desktop/datasets/blastdb\n"
     ]
    }
   ],
   "source": [
    "%%bash\n",
    "## Check where you are\n",
    "pwd"
   ]
  },
  {
   "cell_type": "code",
   "execution_count": 52,
   "id": "d795c1c9",
   "metadata": {},
   "outputs": [
    {
     "name": "stdout",
     "output_type": "stream",
     "text": [
      "/Users/nunestsuchiyam2/Desktop/datasets\n"
     ]
    }
   ],
   "source": [
    "## If you're not in the home folder, run this command:\n",
    "%cd .."
   ]
  },
  {
   "cell_type": "markdown",
   "id": "1fdf2d6a",
   "metadata": {},
   "source": [
    "### Multiple sequence alignment: BLAST matches + *orco* orthologs\n",
    "\n",
    "First, let's simplify the FASTA headers in the ortholog set."
   ]
  },
  {
   "cell_type": "code",
   "execution_count": 53,
   "id": "2a0d770e",
   "metadata": {},
   "outputs": [
    {
     "name": "stderr",
     "output_type": "stream",
     "text": [
      "[INFO]\u001b[0m read key-value file: /dev/fd/63\n",
      "[INFO]\u001b[0m 23 pairs of key-value loaded\n"
     ]
    }
   ],
   "source": [
    "%%bash\n",
    "# Extract the FASTA headers from the gene ortholog fasta, replace the spaces by commas and save as a txt file.\n",
    "grep \">\" ortholog/ncbi_dataset/data/gene.fna | sed 's/ /,/g' > ortholog_seqid.txt\n",
    "\n",
    "# Create a mapping file with the original name in the column 1 and a shortened name on column 2\n",
    "# For the new name, we will keep only the genus initial, species name and NCBI Gene ID. Example:\n",
    "# Original: NW_017296201.1:c2116125-2107387 LOC108758761 [organism=Trachymyrmex cornetzi] [GeneID=108758761] [chromosome=Un]\n",
    "# New name: T_cornetzi_108758761\n",
    "\n",
    "cat ortholog_seqid.txt | while read line; do\n",
    "new=$( echo $line | awk 'BEGIN {FS=\",\"; OFS=\"_\"}{gsub(/\\[organism\\=/, \"\", $3);gsub(/]/, \"\", $4);gsub(/\\[GeneID\\=|\\]/, \"\", $5)} ;{print substr($3,1,1)\"_\"$4,$5}'); \n",
    "old=$( echo $line | sed 's/,/\\_/g;s/>//g')\n",
    "printf \"${old}\\t${new}\\n\" >> name_map.tsv; \n",
    "done\n",
    "\n",
    "# Copy the ortholog dataset fasta from the folder ortholog to the folder datasets\n",
    "cp ortholog/ncbi_dataset/data/gene.fna ortholog_gene.fna\n",
    "\n",
    "# Replace spaces in the FASTA header by underscores.\n",
    "# Why? Because we need the FASTA headers to match the \"old\" in the file name_map.tsv. This is what we have:\n",
    "# Original: >NW_017296201.1:c2116125-2107387,LOC108758761,[organism=Trachymyrmex,cornetzi],[GeneID=108758761],[chromosome=Un]\n",
    "# \"old\": NW_017296201.1:c2116125-2107387_LOC108758761_[organism=Trachymyrmex_cornetzi]_[GeneID=108758761]_[chromosome=Un]\n",
    "# \"new\": T_cornetzi_108758761\n",
    "\n",
    "sed 's/ /_/g' ortholog_gene.fna > ortholog_gene_nospaces.fna\n",
    "\n",
    "#Replace the names in the fasta file\n",
    "cat ortholog_gene_nospaces.fna | seqkit replace \\\n",
    "--kv-file  <(cut -f 1,2 name_map.tsv) \\\n",
    "--pattern \"^(.*)\" --replacement \"{kv}\" > ortholog_gene_final.fna"
   ]
  },
  {
   "cell_type": "markdown",
   "id": "5df12c8c",
   "metadata": {},
   "source": [
    "Let's check the first ten FASTA headers after the name replacement. "
   ]
  },
  {
   "cell_type": "code",
   "execution_count": 54,
   "id": "cb689c75",
   "metadata": {},
   "outputs": [
    {
     "name": "stdout",
     "output_type": "stream",
     "text": [
      ">A_echinatior_105147775\n",
      ">T_curvispinosus_112460528\n",
      ">A_colombica_108684598\n",
      ">F_exsecta_115237480\n",
      ">L_humile_105673490\n",
      ">P_gracilis_109857416\n",
      ">H_saltator_105183395\n",
      ">C_floridanus_105249684\n",
      ">A_cephalotes_105625195\n",
      ">W_auropunctata_105457428\n"
     ]
    }
   ],
   "source": [
    "%%bash\n",
    "\n",
    "grep \">\" ortholog_gene_final.fna | head"
   ]
  },
  {
   "cell_type": "markdown",
   "id": "2fa2ed2f",
   "metadata": {},
   "source": [
    "### Multiple sequence alignment and phylogenetic reconstruction\n",
    "\n",
    "Now, let's concatenate the FASTA we extracted from the BLAST matches, align them using MAFFT and use FastTree to generate an approximate ML phylogeny."
   ]
  },
  {
   "cell_type": "code",
   "execution_count": 55,
   "id": "006779c3",
   "metadata": {},
   "outputs": [
    {
     "name": "stderr",
     "output_type": "stream",
     "text": [
      "nthread = 0\n",
      "nthreadpair = 0\n",
      "nthreadtb = 0\n",
      "ppenalty_ex = 0\n",
      "stacksize: 8192 kb\n",
      "generating a scoring matrix for nucleotide (dist=200) ... done\n",
      "Gap Penalty = -1.53, +0.00, +0.00\n",
      "\n",
      "\n",
      "\n",
      "Making a distance matrix ..\n",
      "\n",
      "There are 640 ambiguous characters.\n",
      "    1 / 27\n",
      "done.\n",
      "\n",
      "Constructing a UPGMA tree (efffree=0) ... \n",
      "   20 / 27\n",
      "done.\n",
      "\n",
      "Progressive alignment 1/2... \n",
      "STEP    12 / 26 \n",
      "Reallocating..done. *alloclen = 27130\n",
      "STEP    16 / 26 \n",
      "Reallocating..done. *alloclen = 30190\n",
      "STEP    21 / 26 \n",
      "Reallocating..done. *alloclen = 31425\n",
      "STEP    26 / 26 \n",
      "done.\n",
      "\n",
      "Making a distance matrix from msa.. \n",
      "    0 / 27\n",
      "done.\n",
      "\n",
      "Constructing a UPGMA tree (efffree=1) ... \n",
      "   20 / 27\n",
      "done.\n",
      "\n",
      "Progressive alignment 2/2... \n",
      "STEP    14 / 26 \n",
      "Reallocating..done. *alloclen = 25897\n",
      "STEP    18 / 26 \n",
      "Reallocating..done. *alloclen = 27161\n",
      "STEP    20 / 26 \n",
      "Reallocating..done. *alloclen = 31976\n",
      "STEP    23 / 26 \n",
      "Reallocating..done. *alloclen = 34147\n",
      "STEP    26 / 26 \n",
      "done.\n",
      "\n",
      "disttbfast (nuc) Version 7.508\n",
      "alg=A, model=DNA200 (2), 1.53 (4.59), -0.00 (-0.00), noshift, amax=0.0\n",
      "0 thread(s)\n",
      "\n",
      "\n",
      "Strategy:\n",
      " FFT-NS-2 (Fast but rough)\n",
      " Progressive method (guide trees were built 2 times.)\n",
      "\n",
      "If unsure which option to use, try 'mafft --auto input > output'.\n",
      "For more information, see 'mafft --help', 'mafft --man' and the mafft page.\n",
      "\n",
      "The default gap scoring scheme has been changed in version 7.110 (2013 Oct).\n",
      "It tends to insert more gaps into gap-rich regions than previous versions.\n",
      "To disable this change, add the --leavegappyregion option.\n",
      "\n",
      "FastTree Version 2.1.11 Double precision (No SSE3)\n",
      "Alignment: orco_all_aln.fasta\n",
      "Nucleotide distances: Jukes-Cantor Joins: balanced Support: SH-like 1000\n",
      "Search: Normal +NNI +SPR (2 rounds range 10) +ML-NNI opt-each=1\n",
      "TopHits: 1.00*sqrtN close=default refresh=0.80\n",
      "ML Model: Jukes-Cantor, CAT approximation with 20 rate categories\n",
      "Ignored unknown character n (seen 640 times)\n",
      "Initial topology in 0.13 seconds\n",
      "Refining topology: 19 rounds ME-NNIs, 2 rounds ME-SPRs, 9 rounds ML-NNIs\n",
      "      0.12 seconds: ME NNI round 1 of 19, 1 of 24 splits\n",
      "      0.95 seconds: ME NNI round 7 of 19, 1 of 24 splits\n",
      "      1.76 seconds: ME NNI round 13 of 19, 1 of 24 splits\n",
      "Total branch-length 3.000 after 1.84 sec\n",
      "      2.18 seconds: ML NNI round 1 of 9, 1 of 24 splits\n",
      "ML-NNI round 1: LogLk = -132450.533 NNIs 3 max delta 21.51 Time 3.28\n",
      "      3.29 seconds: Site likelihoods with rate category 1 of 20\n",
      "      3.40 seconds: Site likelihoods with rate category 10 of 20\n",
      "      3.50 seconds: Site likelihoods with rate category 19 of 20\n",
      "Switched to using 20 rate categories (CAT approximation)\n",
      "Rate categories were divided by 0.726 so that average rate = 1.0\n",
      "CAT-based log-likelihoods may not be comparable across runs\n",
      "Use -gamma for approximate but comparable Gamma(20) log-likelihoods\n",
      "ML-NNI round 2: LogLk = -124579.701 NNIs 0 max delta 0.00 Time 4.03\n",
      "Turning off heuristics for final round of ML NNIs (converged)\n",
      "      4.03 seconds: ML NNI round 3 of 9, 1 of 24 splits\n",
      "ML-NNI round 3: LogLk = -124572.254 NNIs 0 max delta 0.00 Time 5.14 (final)\n",
      "      5.14 seconds: ML Lengths 1 of 24 splits\n",
      "Optimize all lengths: LogLk = -124571.819 Time 5.42\n",
      "Total time: 8.61 seconds Unique: 26/27 Bad splits: 0/23\n"
     ]
    }
   ],
   "source": [
    "%%bash\n",
    "\n",
    "#Concatenate sequences\n",
    "cat ortholog_gene_final.fna acromyrmex_orco.fasta > orco_all.fasta\n",
    "\n",
    "#align sequences with mafft\n",
    "mafft orco_all.fasta > orco_all_aln.fasta\n",
    "\n",
    "#Generate a phylogeny using fasttree\n",
    "FastTree -nt orco_all_aln.fasta > orco.tree"
   ]
  },
  {
   "cell_type": "markdown",
   "id": "5015f7d8",
   "metadata": {},
   "source": [
    "### Visualizing the tree"
   ]
  },
  {
   "cell_type": "code",
   "execution_count": 56,
   "id": "c0b9f71f",
   "metadata": {},
   "outputs": [],
   "source": [
    "import Bio\n",
    "from Bio import Phylo\n",
    "from Bio.Phylo.Applications import PhymlCommandline\n",
    "from Bio.Phylo.PAML import codeml\n",
    "from Bio.Phylo.PhyloXML import Phylogeny\n",
    "\n",
    "import matplotlib as mp\n",
    "%matplotlib inline"
   ]
  },
  {
   "cell_type": "code",
   "execution_count": 57,
   "id": "d614b552",
   "metadata": {},
   "outputs": [
    {
     "name": "stdout",
     "output_type": "stream",
     "text": [
      "                            _ T_septentrionalis_108751604\n",
      "                           |\n",
      "                           |  , A_colombica_108684598\n",
      "                           |__|\n",
      "                           |  | A_cephalotes_105625195\n",
      "                           |\n",
      "                           | , A_echinatior_105147775\n",
      "                           | |\n",
      "                           |,| Acromyrmex_echinatior_JANHNX010000124.1\n",
      "                          _|||\n",
      "                         | ||| Acromyrmex_insinuator_JAANHZ010000736.1\n",
      "                         | ||\n",
      "                         | ||, Acromyrmex_charruanus_JAANIC010002885.1\n",
      "                        ,| |||\n",
      "                        || | | Acromyrmex_heyeri_JAANIB010005913.1\n",
      "                        || |\n",
      "                    ____|| |_ T_cornetzi_108758761\n",
      "                   |    ||\n",
      "                   |    ||__ T_zeteki_108724845\n",
      "                  ,|    |\n",
      "                  ||    |____ C_costatus_108774915\n",
      "                  ||\n",
      "                  ||________ W_auropunctata_105457428\n",
      "                __|\n",
      "               |  |    ____ T_curvispinosus_112460528\n",
      "               |  | __|\n",
      "               |  ||  |________ V_emeryi_105561667\n",
      "             __|  ||\n",
      "            |  |   |   ______ S_invicta_105199036\n",
      "            |  |   |__|\n",
      "            |  |      |___________ M_pharaonis_105831208\n",
      "           _|  |\n",
      "          | |  |_____________ P_barbatus_105424270\n",
      "          | |\n",
      "          | |  _________________ O_biroi_105284785\n",
      "          | |_|\n",
      "          |   |         _______ N_fulva_114934660\n",
      "          |   |________|\n",
      "  ________|            |  _____ C_floridanus_105249684\n",
      " |        |            |_|\n",
      " |        |              |  __ F_exsecta_115237480\n",
      " |        |              |_|\n",
      " |        |                |___ C_hispanica_126855417\n",
      " |        |\n",
      "_|        |   _____________ L_humile_105673490\n",
      " |        |__|\n",
      " |           |______________________ P_gracilis_109857416\n",
      " |\n",
      " |_________________ O_brunneus_116854080\n",
      " |\n",
      " |  ______________ H_saltator_105183395\n",
      " |_|\n",
      "   |_________________ D_quadriceps_106748868\n",
      "\n"
     ]
    }
   ],
   "source": [
    "# Read tree file\n",
    "\n",
    "orco_xml = Phylo.convert(\"orco.tree\", \"newick\", \"orco.tree.xml\", \"phyloxml\")\n",
    "orco_tree = Phylo.read(\"orco.tree.xml\", \"phyloxml\")\n",
    "\n",
    "orco_tree_rooted = orco_tree.root_with_outgroup('O_brunneus_116854080','D_quadriceps_106748868','H_saltator_105183395')\n",
    "Phylo.draw_ascii(orco_tree)\n"
   ]
  },
  {
   "cell_type": "markdown",
   "id": "6c13030e",
   "metadata": {},
   "source": [
    "## Part V: Downloading large datasets (dehydration/rehydration) <a class=\"anchor\" id=\"Part-V\"></a>"
   ]
  },
  {
   "cell_type": "markdown",
   "id": "f337e0d4",
   "metadata": {},
   "source": [
    "Now you learned how to download genomes, genes and ortholog gene sets from NCBI with one command using `datasets`. Now we want to show you another feature of `datasets` that allows you to download what we call a `dehydrated` package. Let's download a dehydrated package and explore the files inside it."
   ]
  },
  {
   "cell_type": "code",
   "execution_count": 58,
   "id": "641aef51",
   "metadata": {},
   "outputs": [],
   "source": [
    "%%bash\n",
    "# Download a dehydrated data package for all acromyrmex GenBank genomes\n",
    "datasets download genome taxon acromyrmex --assembly-source genbank --dehydrated --include genome,protein --filename acromyrmex.zip --no-progressbar"
   ]
  },
  {
   "cell_type": "code",
   "execution_count": 59,
   "id": "50a28140",
   "metadata": {},
   "outputs": [
    {
     "name": "stdout",
     "output_type": "stream",
     "text": [
      "Archive:  acromyrmex.zip\n",
      "  inflating: acromyrmex/README.md    \n",
      "  inflating: acromyrmex/ncbi_dataset/data/assembly_data_report.jsonl  \n",
      "  inflating: acromyrmex/ncbi_dataset/fetch.txt  \n",
      "  inflating: acromyrmex/ncbi_dataset/data/dataset_catalog.json  \n"
     ]
    }
   ],
   "source": [
    "%%bash\n",
    "# Next we have to unzip the dehydrated package\n",
    "unzip -o acromyrmex.zip -d acromyrmex"
   ]
  },
  {
   "cell_type": "code",
   "execution_count": 60,
   "id": "21ef31e6",
   "metadata": {},
   "outputs": [
    {
     "name": "stdout",
     "output_type": "stream",
     "text": [
      "\u001b[01;34macromyrmex/\u001b[0m\n",
      "├── \u001b[00mREADME.md\u001b[0m\n",
      "└── \u001b[01;34mncbi_dataset\u001b[0m\n",
      "    ├── \u001b[01;34mdata\u001b[0m\n",
      "    │   ├── \u001b[01;34mGCA_000204515.1\u001b[0m\n",
      "    │   │   └── \u001b[00mprotein.faa\u001b[0m\n",
      "    │   ├── \u001b[00massembly_data_report.jsonl\u001b[0m\n",
      "    │   └── \u001b[00mdataset_catalog.json\u001b[0m\n",
      "    └── \u001b[00mfetch.txt\u001b[0m\n",
      "\n",
      "3 directories, 5 files\n"
     ]
    }
   ],
   "source": [
    "%%bash\n",
    "# Now let's use the command tree to look at the data package contents\n",
    "tree acromyrmex/"
   ]
  },
  {
   "cell_type": "markdown",
   "id": "bdf17759",
   "metadata": {},
   "source": [
    "**What is difference between this folder (`acromyrmex`) and the folder `genomes`?**   \n",
    "Let's use `tree` again to look at the contents of the folder genomes."
   ]
  },
  {
   "cell_type": "code",
   "execution_count": 61,
   "id": "681ecb2f",
   "metadata": {},
   "outputs": [
    {
     "name": "stdout",
     "output_type": "stream",
     "text": [
      "\u001b[01;34mgenomes/\u001b[0m\n",
      "├── \u001b[00mREADME.md\u001b[0m\n",
      "└── \u001b[01;34mncbi_dataset\u001b[0m\n",
      "    └── \u001b[01;34mdata\u001b[0m\n",
      "        ├── \u001b[01;34mGCA_000204515.1\u001b[0m\n",
      "        │   └── \u001b[00mGCA_000204515.1_Aech_3.9_genomic.fna\u001b[0m\n",
      "        ├── \u001b[01;34mGCA_017607455.1\u001b[0m\n",
      "        │   └── \u001b[00mGCA_017607455.1_ASM1760745v1_genomic.fna\u001b[0m\n",
      "        ├── \u001b[01;34mGCA_017607545.1\u001b[0m\n",
      "        │   └── \u001b[00mGCA_017607545.1_ASM1760754v1_genomic.fna\u001b[0m\n",
      "        ├── \u001b[01;34mGCA_017607565.1\u001b[0m\n",
      "        │   └── \u001b[00mGCA_017607565.1_ASM1760756v1_genomic.fna\u001b[0m\n",
      "        ├── \u001b[01;34mGCA_024713525.1\u001b[0m\n",
      "        │   └── \u001b[00mGCA_024713525.1_ASM2471352v1_genomic.fna\u001b[0m\n",
      "        ├── \u001b[00massembly_data_report.jsonl\u001b[0m\n",
      "        └── \u001b[00mdataset_catalog.json\u001b[0m\n",
      "\n",
      "7 directories, 8 files\n"
     ]
    }
   ],
   "source": [
    "%%bash\n",
    "# Check the folder contents of genome\n",
    "tree genomes/"
   ]
  },
  {
   "cell_type": "markdown",
   "id": "7d0770b7",
   "metadata": {},
   "source": [
    "Both packages include the files `assembly_data_report.jsonl` and `dataset_catalog.json`, but the folder acromyrmex has the file `fetch.txt` instead of the *actual* data. Let's take a look in this file."
   ]
  },
  {
   "cell_type": "code",
   "execution_count": 62,
   "id": "468d7749",
   "metadata": {},
   "outputs": [
    {
     "data": {
      "text/html": [
       "<div>\n",
       "<style scoped>\n",
       "    .dataframe tbody tr th:only-of-type {\n",
       "        vertical-align: middle;\n",
       "    }\n",
       "\n",
       "    .dataframe tbody tr th {\n",
       "        vertical-align: top;\n",
       "    }\n",
       "\n",
       "    .dataframe thead th {\n",
       "        text-align: right;\n",
       "    }\n",
       "</style>\n",
       "<table border=\"1\" class=\"dataframe\">\n",
       "  <thead>\n",
       "    <tr style=\"text-align: right;\">\n",
       "      <th></th>\n",
       "      <th>0</th>\n",
       "      <th>1</th>\n",
       "      <th>2</th>\n",
       "    </tr>\n",
       "  </thead>\n",
       "  <tbody>\n",
       "    <tr>\n",
       "      <th>0</th>\n",
       "      <td>https://api.ncbi.nlm.nih.gov/datasets/fetch_h/...</td>\n",
       "      <td>0</td>\n",
       "      <td>data/GCA_000204515.1/GCA_000204515.1_Aech_3.9_...</td>\n",
       "    </tr>\n",
       "    <tr>\n",
       "      <th>1</th>\n",
       "      <td>https://api.ncbi.nlm.nih.gov/datasets/fetch_h/...</td>\n",
       "      <td>0</td>\n",
       "      <td>data/GCA_000204515.1/protein.faa</td>\n",
       "    </tr>\n",
       "    <tr>\n",
       "      <th>2</th>\n",
       "      <td>https://api.ncbi.nlm.nih.gov/datasets/fetch_h/...</td>\n",
       "      <td>0</td>\n",
       "      <td>data/GCA_017607455.1/GCA_017607455.1_ASM176074...</td>\n",
       "    </tr>\n",
       "    <tr>\n",
       "      <th>3</th>\n",
       "      <td>https://api.ncbi.nlm.nih.gov/datasets/fetch_h/...</td>\n",
       "      <td>0</td>\n",
       "      <td>data/GCA_017607455.1/protein.faa</td>\n",
       "    </tr>\n",
       "    <tr>\n",
       "      <th>4</th>\n",
       "      <td>https://api.ncbi.nlm.nih.gov/datasets/fetch_h/...</td>\n",
       "      <td>0</td>\n",
       "      <td>data/GCA_017607545.1/GCA_017607545.1_ASM176075...</td>\n",
       "    </tr>\n",
       "    <tr>\n",
       "      <th>5</th>\n",
       "      <td>https://api.ncbi.nlm.nih.gov/datasets/fetch_h/...</td>\n",
       "      <td>0</td>\n",
       "      <td>data/GCA_017607545.1/protein.faa</td>\n",
       "    </tr>\n",
       "    <tr>\n",
       "      <th>6</th>\n",
       "      <td>https://api.ncbi.nlm.nih.gov/datasets/fetch_h/...</td>\n",
       "      <td>0</td>\n",
       "      <td>data/GCA_017607565.1/GCA_017607565.1_ASM176075...</td>\n",
       "    </tr>\n",
       "    <tr>\n",
       "      <th>7</th>\n",
       "      <td>https://api.ncbi.nlm.nih.gov/datasets/fetch_h/...</td>\n",
       "      <td>0</td>\n",
       "      <td>data/GCA_017607565.1/protein.faa</td>\n",
       "    </tr>\n",
       "    <tr>\n",
       "      <th>8</th>\n",
       "      <td>https://api.ncbi.nlm.nih.gov/datasets/fetch_h/...</td>\n",
       "      <td>0</td>\n",
       "      <td>data/GCA_024713525.1/GCA_024713525.1_ASM247135...</td>\n",
       "    </tr>\n",
       "  </tbody>\n",
       "</table>\n",
       "</div>"
      ],
      "text/plain": [
       "                                                   0  1  \\\n",
       "0  https://api.ncbi.nlm.nih.gov/datasets/fetch_h/...  0   \n",
       "1  https://api.ncbi.nlm.nih.gov/datasets/fetch_h/...  0   \n",
       "2  https://api.ncbi.nlm.nih.gov/datasets/fetch_h/...  0   \n",
       "3  https://api.ncbi.nlm.nih.gov/datasets/fetch_h/...  0   \n",
       "4  https://api.ncbi.nlm.nih.gov/datasets/fetch_h/...  0   \n",
       "5  https://api.ncbi.nlm.nih.gov/datasets/fetch_h/...  0   \n",
       "6  https://api.ncbi.nlm.nih.gov/datasets/fetch_h/...  0   \n",
       "7  https://api.ncbi.nlm.nih.gov/datasets/fetch_h/...  0   \n",
       "8  https://api.ncbi.nlm.nih.gov/datasets/fetch_h/...  0   \n",
       "\n",
       "                                                   2  \n",
       "0  data/GCA_000204515.1/GCA_000204515.1_Aech_3.9_...  \n",
       "1                   data/GCA_000204515.1/protein.faa  \n",
       "2  data/GCA_017607455.1/GCA_017607455.1_ASM176074...  \n",
       "3                   data/GCA_017607455.1/protein.faa  \n",
       "4  data/GCA_017607545.1/GCA_017607545.1_ASM176075...  \n",
       "5                   data/GCA_017607545.1/protein.faa  \n",
       "6  data/GCA_017607565.1/GCA_017607565.1_ASM176075...  \n",
       "7                   data/GCA_017607565.1/protein.faa  \n",
       "8  data/GCA_024713525.1/GCA_024713525.1_ASM247135...  "
      ]
     },
     "execution_count": 62,
     "metadata": {},
     "output_type": "execute_result"
    }
   ],
   "source": [
    "# Inspect the file fetch.txt\n",
    "import pandas as pd\n",
    "fetch = pd.read_csv('./acromyrmex/ncbi_dataset/fetch.txt', sep='\\t', header=None)\n",
    "fetch"
   ]
  },
  {
   "cell_type": "markdown",
   "id": "19110c84",
   "metadata": {},
   "source": [
    "The file `fetch.txt` has a list of files to be \"fetched\" (downloaded) with their respective links. And they are the same files that were originally included in when we downloaded the genomes in the beginning of this notebook.  "
   ]
  },
  {
   "cell_type": "markdown",
   "id": "9cd8e6be",
   "metadata": {},
   "source": [
    "#### BUT WHY WOULD I WANT TO USE THIS OPTION?\n",
    "\n",
    "Some possibilities:\n",
    "- You are working with very large genomes and want to share the data with your collaborators. Instead of sending a massive data file, you can send a text file that they can use to download the same data you're working on.\n",
    "- Or maybe you hand selected some genomes for a project from the [NCBI Datasets website](https://www.ncbi.nlm.nih.gov/datasets/genomes/) and they don't follow a specific pattern that can be replicated. You can also download a dehydrated package from our website, share it and download everything you need later."
   ]
  },
  {
   "cell_type": "code",
   "execution_count": 63,
   "id": "58ce2486",
   "metadata": {},
   "outputs": [
    {
     "name": "stdout",
     "output_type": "stream",
     "text": [
      "\n",
      "Download data files for an unzipped, dehydrated genome data package. Data files specified in fetch.txt will be downloaded from NCBI. Read more about how rehydration can help with large genome downloads: https://www.ncbi.nlm.nih.gov/datasets/docs/v2/how-tos/genomes/large-download/\n",
      "\n",
      "Usage\n",
      "  datasets rehydrate [flags] --directory <directory_name>\n",
      "\n",
      "Flags\n",
      "      --directory string   Specify the directory containing the unzipped dehydrated bag\n",
      "      --gzip               rehydrate files to gzip format\n",
      "      --list               List files that would be downloaded during rehydration\n",
      "      --match string       Specify substring that matches files for rehydration\n",
      "      --max-workers int    Limit the maximum number of concurrent download workers (allowed range is 1-30) (default 10)\n",
      "\n",
      "\n",
      "Global Flags\n",
      "      --api-key string   Specify an NCBI API key\n",
      "      --debug            Emit debugging info\n",
      "      --help             Print detailed help about a datasets command\n",
      "      --version          Print version of datasets\n",
      "\n"
     ]
    }
   ],
   "source": [
    "%%bash\n",
    "# Let's look at the help file for rehydrate\n",
    "datasets rehydrate -h"
   ]
  },
  {
   "cell_type": "code",
   "execution_count": 64,
   "id": "973ffa9b",
   "metadata": {},
   "outputs": [
    {
     "name": "stdout",
     "output_type": "stream",
     "text": [
      "data/GCA_000204515.1/GCA_000204515.1_Aech_3.9_genomic.fna\n",
      "data/GCA_000204515.1/protein.faa\n",
      "data/GCA_017607455.1/GCA_017607455.1_ASM1760745v1_genomic.fna\n",
      "data/GCA_017607455.1/protein.faa\n",
      "data/GCA_017607545.1/GCA_017607545.1_ASM1760754v1_genomic.fna\n",
      "data/GCA_017607545.1/protein.faa\n",
      "data/GCA_017607565.1/GCA_017607565.1_ASM1760756v1_genomic.fna\n",
      "data/GCA_017607565.1/protein.faa\n",
      "data/GCA_024713525.1/GCA_024713525.1_ASM2471352v1_genomic.fna\n",
      "Found 9 files for rehydration\n"
     ]
    }
   ],
   "source": [
    "%%bash\n",
    "# Let's get a list of files that are available for download \n",
    "datasets rehydrate --directory acromyrmex/ --list"
   ]
  },
  {
   "cell_type": "code",
   "execution_count": 65,
   "id": "2daf20e5",
   "metadata": {},
   "outputs": [
    {
     "name": "stdout",
     "output_type": "stream",
     "text": [
      "Found 1 files for rehydration\n",
      "Found no files for rehydration\n"
     ]
    }
   ],
   "source": [
    "%%bash\n",
    "# Let's only get the protein sequences for the genome with the highest contigN50 value\n",
    "datasets rehydrate --directory acromyrmex/ --match GCA_000204515.1/protein.faa "
   ]
  },
  {
   "cell_type": "code",
   "execution_count": 66,
   "id": "c601a31b",
   "metadata": {},
   "outputs": [
    {
     "name": "stdout",
     "output_type": "stream",
     "text": [
      "\u001b[01;34macromyrmex/\u001b[0m\n",
      "├── \u001b[00mREADME.md\u001b[0m\n",
      "└── \u001b[01;34mncbi_dataset\u001b[0m\n",
      "    ├── \u001b[01;34mdata\u001b[0m\n",
      "    │   ├── \u001b[01;34mGCA_000204515.1\u001b[0m\n",
      "    │   │   └── \u001b[00mprotein.faa\u001b[0m\n",
      "    │   ├── \u001b[00massembly_data_report.jsonl\u001b[0m\n",
      "    │   └── \u001b[00mdataset_catalog.json\u001b[0m\n",
      "    └── \u001b[00mfetch.txt\u001b[0m\n",
      "\n",
      "3 directories, 5 files\n"
     ]
    }
   ],
   "source": [
    "%%bash\n",
    "# Let's use tree to look at our folder acromyrmex again\n",
    "tree acromyrmex/"
   ]
  },
  {
   "cell_type": "markdown",
   "id": "a5f5f853",
   "metadata": {},
   "source": [
    "We can see that the file we requested ` GCA_000204515.1/protein.faa` was downloaded to the folder `acromyrmex`"
   ]
  },
  {
   "cell_type": "code",
   "execution_count": 67,
   "id": "ff56a582",
   "metadata": {},
   "outputs": [
    {
     "name": "stdout",
     "output_type": "stream",
     "text": [
      ">EGI57120.1 Histone-lysine N-methyltransferase SETMAR [Acromyrmex echinatior]\n",
      "MAKFNEFRYELFPHPAYLPDLALCDYFLFPNLKKWFGRKRFTTREQLIAETEAYFERLDKSYYLNKLENRSIKSIELKGN\n",
      "YVEKQK\n",
      ">EGI57121.1 hypothetical protein G5I_14843 [Acromyrmex echinatior]\n",
      "MPTQSGLIVPTYIAMLPTLTVHKYSLFRLSRELHNLFVRLVARSCGMMTSYTQAPKRLDTSGHVYLVYEDPGQLNTEEEE\n",
      "EEEEAYNALATSTERS\n",
      ">EGI57122.1 Nidogen-1 [Acromyrmex echinatior]\n",
      "MRRDFCNGGLACAVVWVSTCLLLVLSLSTSTIAEPLLRVAGRCPSLVEQNVCPSRAPACENDYQCQGTEERCCKTACGLR\n",
      "CIAGELTGCEQLELAAVRRSRALGARGPQQFIPRCNNETGEFERIQCEPHGRSCWCVDEIGAEIPGTRAPSKSVVDCDKP\n",
      "HSCPAHSCRMLCPLGFEINEVTGCPKCECRDPCRGVTCPGIGQICELIAVNCIREPCPPVPSCRKTRSLSTICPAGEPLQ\n"
     ]
    }
   ],
   "source": [
    "%%bash\n",
    "# Take a peek at the downloaded protein file\n",
    "cat acromyrmex/ncbi_dataset/data/GCA_000204515.1/protein.faa | head"
   ]
  },
  {
   "cell_type": "markdown",
   "id": "7f69f702",
   "metadata": {},
   "source": [
    "## Exercise\n",
    "* Download a dehydrated package for all *Mycobacterium tuberculosis* genomes that meet all of the following criteria (hint: use flags)\n",
    "    1. submitted/released in 2021\n",
    "    2. annotated\n",
    "    3. assembly level of complete_genome\n",
    "* use `dataformat` to view the sequencing technology used for each of these genomes\n",
    "* use the `rehydrate` option to get the genome sequence for one genome generated using Oxford Nanopore"
   ]
  },
  {
   "cell_type": "code",
   "execution_count": 68,
   "id": "1ca7bc51",
   "metadata": {},
   "outputs": [],
   "source": [
    "%%bash\n",
    "# Download a dehydrated genome data package\n",
    "\n"
   ]
  },
  {
   "cell_type": "code",
   "execution_count": 69,
   "id": "94ca3308",
   "metadata": {},
   "outputs": [],
   "source": [
    "%%bash\n",
    "# Unzip the data package\n",
    "\n"
   ]
  },
  {
   "cell_type": "code",
   "execution_count": 70,
   "id": "78bcf9f1",
   "metadata": {},
   "outputs": [],
   "source": [
    "%%bash\n",
    "# Use dataformat to generate a table that includes sequencing technology\n",
    "\n"
   ]
  },
  {
   "cell_type": "code",
   "execution_count": 71,
   "id": "d3a4727d",
   "metadata": {},
   "outputs": [],
   "source": [
    "%%bash\n",
    "# Use rehydrate to get genome sequence generated using Oxford Nanopore\n",
    "\n"
   ]
  }
 ],
 "metadata": {
  "kernelspec": {
   "display_name": "Python 3 (ipykernel)",
   "language": "python",
   "name": "python3"
  },
  "language_info": {
   "codemirror_mode": {
    "name": "ipython",
    "version": 3
   },
   "file_extension": ".py",
   "mimetype": "text/x-python",
   "name": "python",
   "nbconvert_exporter": "python",
   "pygments_lexer": "ipython3",
   "version": "3.11.0"
  }
 },
 "nbformat": 4,
 "nbformat_minor": 5
}
