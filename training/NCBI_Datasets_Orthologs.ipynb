{
 "cells": [
  {
   "cell_type": "markdown",
   "id": "a17a866f",
   "metadata": {
    "editable": true,
    "slideshow": {
     "slide_type": "slide"
    },
    "tags": []
   },
   "source": [
    "# Using NCBI Datasets command-line tools to download protein sequnces of orthologs from certain taxa and prepare them for alignment\n"
   ]
  },
  {
   "cell_type": "markdown",
   "id": "730c5c91-9393-42bb-8cb0-ad1df20fd69d",
   "metadata": {},
   "source": [
    "### Orthologs\n",
    "\n",
    "Since `datasets` version 14, users can retrieve ortholog information using the flag `--ortholog` with the `gene` subcommand.\n",
    "\n",
    "#### <font color='blue'>Wait, but what is an ortholog set?</font>\n",
    "\n",
    ">An ortholog set, or ortholog gene group, is a group of genes that have been identified by the NCBI genome annotation team as homologous genes that are separated by speciation events. They are identified by a combination of protein similarity + local synteny information. \n",
    "Currently, NCBI has ortholog sets calculated for vertebrates and some insects.\n",
    ">\n",
    ">You can retrieve the genes in an ortholog set using an identifier for one of its genes, such as a gene symbol or sequence accession.\n",
    "\n",
    "\n",
    "#### Examples:\n",
    "\n",
    "`datasets download gene accession NM_007037.6 --ortholog all`  \n",
    "`datasets download gene gene-id 11095 --ortholog all`  \n",
    "`datasets download gene symbol adamts8 --taxon 'human' --ortholog all`  \n",
    "\n",
    "All three commands will download the **same** ortholog set (which is the complete set). \n",
    "\n",
    "**What if I want to filter the ortholog set to include *only* a taxonomic group of interest?**"
   ]
  },
  {
   "cell_type": "markdown",
   "id": "3c1ab1db",
   "metadata": {
    "jp-MarkdownHeadingCollapsed": true
   },
   "source": [
    "### Applying a taxonomic filter to the ortholog set\n",
    "\n",
    "When using the `--ortholog` flag, users need to provide an argument for it. The argument should be one or more taxa (any rank) to filter results or 'all' for the complete set."
   ]
  },
  {
   "cell_type": "markdown",
   "id": "805bc276-abb6-469c-a377-42c19428ffd6",
   "metadata": {},
   "source": [
    "### Case Study\n",
    "\n",
    "A common task for biologists who work on a particular gene or protein is to find a set of orthologous protein sequences and create an alignment of them to identify organism-specific differences (variations). \n",
    "\n",
    "An example of a research project that aims to do this focuses on the human ADAMTS8 protein which has been proposed to serve as a possible tumor suppressor with reduced activity noted in many cancers. Despite their vast size and long lifespans, whales, dolphins and porpoises and other Cetaceans have proportionately very low incidences of cancer. \n",
    "\n",
    "**In this example, we'll start with the human ADAMTS8 protein, find a set of Cetacean orthologs, and then align these sequences to look for variations the cetaceans.** This choice of gene was inspired by a [2021 publication by Tejada-Martinez et al.](https://www.ncbi.nlm.nih.gov/pmc/articles/PMC7935004/) on positive selection and duplications of tumor suppressor genes in cetaeans. "
   ]
  },
  {
   "cell_type": "markdown",
   "id": "3673c066",
   "metadata": {},
   "source": [
    "### We are going to follow these steps:\n",
    "- Before downloading the actual sequence data - get a sense of what species are present \n",
    "- Download a dataset including the original human adamst8 sequence and all of the available Cetacean orthologs\n",
    "- Unzip it to a custom folder\n",
    "- Look at some metadata for the genes in the ortholog set\n",
    "- Clean up FASTA headers and align the protein sequences for the genes in the set\n",
    "- Optional workflow - download only the longest protein sequence for an ortholog"
   ]
  },
  {
   "cell_type": "markdown",
   "id": "74bda277-b844-4aa3-a7f0-32fae4efe555",
   "metadata": {},
   "source": [
    "**Note**: \n",
    "This tutorial assumes that you have installed [NCBI Datasets and Dataformat command line tools](https://www.ncbi.nlm.nih.gov/datasets/docs/v2/download-and-install/) and the [Clustal Omega](http://www.clustal.org/omega/) aligner. "
   ]
  },
  {
   "cell_type": "markdown",
   "id": "e7d1ef02-327c-41f1-80cf-0d82f18d1894",
   "metadata": {},
   "source": [
    "#### Assessing available orthologs in a target taxonomic group \n",
    "\n",
    "Here, we used the `summary` command to look at metadata without actually downloading any of ortholog data just yet. The `dataformat` command takes the information from `summary` and reformats it into a nice, human readable TSV file and allows us to view just the taxonomic names associated with the available orthologs."
   ]
  },
  {
   "cell_type": "code",
   "execution_count": null,
   "id": "598b4d9e-c3a8-49ae-82f4-61c0965c3e4d",
   "metadata": {},
   "outputs": [],
   "source": [
    "%%bash\n",
    "datasets summary gene symbol adamts8 --taxon 'human' --ortholog cetacea --as-json-lines | dataformat tsv gene --fields tax-name"
   ]
  },
  {
   "cell_type": "markdown",
   "id": "4238bd86-9324-4f88-bf20-cff651f596aa",
   "metadata": {},
   "source": [
    "#### Download and unzip sequence dataset package containing human sequence and cetacean orthologs\n",
    "\n",
    "We are satisfied with the number of species present (18 cetaceans at the time of writing) and taxonomic spread of cetacean orthologs for human ADAMTS8, so we are now downloading the actual protein sequence data to align. "
   ]
  },
  {
   "cell_type": "code",
   "execution_count": null,
   "id": "a075ec02-e6ed-4d65-b803-6ca22e1ac10b",
   "metadata": {},
   "outputs": [],
   "source": [
    "%%bash\n",
    "# download the ortholog set for cetaceans and the original human sequence\n",
    "datasets download gene symbol adamts8 --taxon 'human' --ortholog 'human',cetacea --filename adamts8_orthologs.zip --no-progressbar"
   ]
  },
  {
   "cell_type": "code",
   "execution_count": null,
   "id": "c295a289",
   "metadata": {},
   "outputs": [],
   "source": [
    "%%bash\n",
    "# Unzip it to a folder with the same name\n",
    "unzip adamts8_orthologs.zip -d adamts8_orthologs\n"
   ]
  },
  {
   "cell_type": "markdown",
   "id": "22517ab1-ff7b-4f75-90ed-184056d1ba86",
   "metadata": {},
   "source": [
    "#### Use dataformat to look at some metadata for the downloaded gene set\n",
    "\n",
    "This time, our input for `dataformat` is the `data_report.jsonl` file that came with the sequence data package, which can be found in the following location in the unzipped directory. We are adding a `protein-count` column to see if any of our orthologs have multiple associated protein sequences."
   ]
  },
  {
   "cell_type": "code",
   "execution_count": 56,
   "id": "fc2e19f8",
   "metadata": {},
   "outputs": [
    {
     "name": "stdout",
     "output_type": "stream",
     "text": [
      "Taxonomic Name\tSymbol\tNCBI GeneID\tGene Group Method\tGene Group Identifier\tProteins\n",
      "Orcinus orca\tADAMTS8\t101290160\tNCBI Ortholog\t11095\t1\n",
      "Tursiops truncatus\tADAMTS8\t101325122\tNCBI Ortholog\t11095\t1\n",
      "Physeter catodon\tADAMTS8\t102987620\tNCBI Ortholog\t11095\t1\n",
      "Balaenoptera acutorostrata\tADAMTS8\t103000097\tNCBI Ortholog\t11095\t3\n",
      "Lipotes vexillifer\tADAMTS8\t103074223\tNCBI Ortholog\t11095\t1\n",
      "Homo sapiens\tADAMTS8\t11095\tNCBI Ortholog\t11095\t3\n",
      "Delphinapterus leucas\tADAMTS8\t111165488\tNCBI Ortholog\t11095\t1\n",
      "Neophocaena asiaeorientalis asiaeorientalis\tADAMTS8\t112407533\tNCBI Ortholog\t11095\t1\n",
      "Lagenorhynchus obliquidens\tADAMTS8\t113612809\tNCBI Ortholog\t11095\t1\n"
     ]
    }
   ],
   "source": [
    "%%bash\n",
    "# Generate a table describing the genes in the ortholog set. \n",
    "dataformat tsv gene --inputfile adamts8_orthologs/ncbi_dataset/data/data_report.jsonl \\\n",
    "--fields tax-name,symbol,gene-id,group-method,group-id,protein-count | head"
   ]
  },
  {
   "cell_type": "markdown",
   "id": "007a4287-ec6b-4806-b41e-bda3cfbb2e16",
   "metadata": {},
   "source": [
    "#### Examine protein FASTA file and prepare headers for alignment\n",
    "\n",
    "As you can see below, the FASTA headers contain a lot of information (Accession, Gene Symbol, Organism and Gene ID) with fields separated by spaces. Spaces in headers can cause issues for downstream analyses and make output hard to read, so at minimum, you may want to replace them with underscores."
   ]
  },
  {
   "cell_type": "code",
   "execution_count": 116,
   "id": "0c38a89f-7718-4bcf-90ee-994041ce8ec3",
   "metadata": {},
   "outputs": [
    {
     "name": "stdout",
     "output_type": "stream",
     "text": [
      ">XP_029063740.1 ADAMTS8 [organism=Monodon monoceros] [GeneID=114886841]\n",
      ">XP_033717680.1 ADAMTS8 [organism=Tursiops truncatus] [GeneID=101325122]\n",
      ">XP_023987074.2 ADAMTS8 [organism=Physeter catodon] [GeneID=102987620]\n",
      ">XP_059786001.1 ADAMTS8 [organism=Balaenoptera ricei] [GeneID=132370273]\n",
      ">XP_061058257.1 ADAMTS8 [organism=Eubalaena glacialis] [GeneID=133098920]\n"
     ]
    }
   ],
   "source": [
    "%%bash\n",
    "#Extracting just the headers to look at their format\n",
    "grep \">\" adamts8_orthologs/ncbi_dataset/data/protein.faa | head -5"
   ]
  },
  {
   "cell_type": "code",
   "execution_count": 114,
   "id": "eb303844-129e-499f-a78d-d57857afdf61",
   "metadata": {},
   "outputs": [],
   "source": [
    "%%bash\n",
    "# Update FASTA headers in the protein sequence file to make clustalo output easier to understand\n",
    "sed 's/ /_/g' adamts8_orthologs/ncbi_dataset/data/protein.faa > renamed.proteins.faa"
   ]
  },
  {
   "cell_type": "markdown",
   "id": "005d820d-ed60-4062-a844-416b8ef1682e",
   "metadata": {},
   "source": [
    "You could further trim down the headers to just certain desired fields using further scripting if desired, or use the NCBI Datasets data report to access the protein metadata in a way that is more amenable to programming."
   ]
  },
  {
   "cell_type": "markdown",
   "id": "df9be070-7acc-47aa-9fae-cd874fcd3a7f",
   "metadata": {},
   "source": [
    "#### Infer an alignment from renamed FASTA file ####\n",
    "\n",
    "In this example, we are using Clustal Omega, which is a powerful open-source aligner but you are free to use your preferred choice of alignment software. \n",
    "\n",
    "Publication: https://www.ncbi.nlm.nih.gov/pmc/articles/PMC5734385/\n",
    "\n",
    "Clustal Omega Binaries: http://www.clustal.org/omega/\n",
    "\n",
    "**The following command will generate both a Clustal formatted alignment and a distance matrix:**\n"
   ]
  },
  {
   "cell_type": "code",
   "execution_count": 124,
   "id": "86207811-4876-4138-b6fe-3804ac0a3807",
   "metadata": {},
   "outputs": [],
   "source": [
    "%%bash\n",
    "# Run alignment\n",
    "./clustalo --infile renamed.proteins.faa --full --outfmt=clu --distmat-out=adamts8_distmat --force > adamts8_clustal.clu"
   ]
  },
  {
   "cell_type": "code",
   "execution_count": 73,
   "id": "bfe8e326-dcce-4887-90a3-e79be71b25dc",
   "metadata": {},
   "outputs": [
    {
     "name": "stdout",
     "output_type": "stream",
     "text": [
      "CLUSTAL O(1.2.3) multiple sequence alignment\n",
      "\n",
      "\n",
      "XP_029063740.1_ADAMTS8_[organism=Monodon_monoceros]_[GeneID=114886841]                                MSKPGRKYKYEGLGSPLCASRGGEKAGAEDAHAAGAPVARDRLGGRAREQRQRRQPEGPP\n",
      "XP_033717680.1_ADAMTS8_[organism=Tursiops_truncatus]_[GeneID=101325122]                               ------------------------------------------------------------\n",
      "XP_023987074.2_ADAMTS8_[organism=Physeter_catodon]_[GeneID=102987620]                                 MSKPRRKYKYEGLGSPLWASRAGEKAGAEDARAAGAPVARARLGGRARRQRX-RQPEGPP\n",
      "XP_059786001.1_ADAMTS8_[organism=Balaenoptera_ricei]_[GeneID=132370273]                               MSKPGRKYKYEGLGSPLCASRGGEKAGAEDAHAAGAPVARARLGGRAREQRP-RQPEGPP\n",
      "XP_061058257.1_ADAMTS8_[organism=Eubalaena_glacialis]_[GeneID=133098920]                              MSKPGRKYKYEGLGSPLCASRGGEKAGAEDAHAAGAPVA--RLGGRAREQRP-RQPEGSP\n",
      "XP_024612646.1_ADAMTS8_[organism=Neophocaena_asiaeorientalis_asiaeorientalis]_[GeneID=112407533]      ------------------------------------------------------------\n",
      "XP_026948784.1_ADAMTS8_[organism=Lagenorhynchus_obliquidens]_[GeneID=113612809]                       ------------------------------------------------------------\n"
     ]
    }
   ],
   "source": [
    "%%bash\n",
    "# Look at output of blast\n",
    "head adamts8_clustal.clu"
   ]
  },
  {
   "cell_type": "markdown",
   "id": "704e0b2e-85a0-40de-a5b2-b8df152c5286",
   "metadata": {},
   "source": [
    "\n",
    "\n",
    "\n",
    "### Get one protein per gene from a set of orthologs ###\n",
    "\n",
    "As we saw above, several species have multiple available proteins per `adamts8` ortholog. To simplify our final alignment, lets select the longest protein sequence per gene from this set of orthologs."
   ]
  },
  {
   "cell_type": "markdown",
   "id": "3508bf53-25f9-4e25-b803-5cad56d48d8a",
   "metadata": {},
   "source": [
    "This can be done in three steps:\n",
    "\n",
    "* Get transcript and protein metadata for the gene products of the ortholog set\n",
    "* Extract the accessions of the longest protein and corresponding transcript from this metadata\n",
    "* Download the set of longest protein and corresponding transcript sequences, one per gene\n",
    "\n",
    "#### Get transcript and protein metadata necessary for choosing the ortholog: ####"
   ]
  },
  {
   "cell_type": "code",
   "execution_count": null,
   "id": "bdc2b459-1112-4afe-8d01-e6210405ab9e",
   "metadata": {},
   "outputs": [],
   "source": [
    "%%bash\n",
    "datasets summary gene symbol adamts8 \\\n",
    "--ortholog 'homo sapiens,cetacea' \\\n",
    "--report product --as-json-lines > adamts8_products.jsonl"
   ]
  },
  {
   "cell_type": "code",
   "execution_count": 98,
   "id": "ffb48f11-5817-462c-ade7-d2b9464aad0e",
   "metadata": {},
   "outputs": [],
   "source": [
    "%%bash\n",
    "dataformat tsv gene-product \\\n",
    "--inputfile adamts8_products.jsonl \\\n",
    "--fields gene-id,tax-name,symbol,transcript-accession,transcript-length,transcript-protein-accession,transcript-protein-length > transcript_protein.tsv"
   ]
  },
  {
   "cell_type": "code",
   "execution_count": 101,
   "id": "7b107cdd-373a-4ce3-a46a-8eb4e91dbebf",
   "metadata": {},
   "outputs": [
    {
     "name": "stdout",
     "output_type": "stream",
     "text": [
      "NCBI GeneID\tTaxonomic Name\tSymbol\tTranscript Accession\tTranscript Transcript Length\tTranscript Protein Accession\tTranscript Protein Length\n",
      "112407533\tNeophocaena asiaeorientalis asiaeorientalis\tADAMTS8\tXM_024756878.1\t3090\tXP_024612646.1\t850\n",
      "115844401\tGlobicephala melas\tADAMTS8\tXM_030841433.2\t3626\tXP_030697293.2\t998\n",
      "116758202\tPhocoena sinus\tADAMTS8\tXM_032640990.1\t5949\tXP_032496881.1\t998\n",
      "103000097\tBalaenoptera acutorostrata\tADAMTS8\tXM_057552216.1\t2592\tXP_057408199.1\t851\n"
     ]
    }
   ],
   "source": [
    "%%bash\n",
    "head -5 transcript_protein.tsv"
   ]
  },
  {
   "cell_type": "markdown",
   "id": "632370fe-96bf-4d61-9a44-0e81435b8835",
   "metadata": {},
   "source": [
    "\n",
    "#### Extract the accessions of the longest protein ####\n",
    "\n",
    "In order to pick a single protein sequence for each gene, we will write a Bash command using to  identify the longest protein for each gene, and save the accession for this longest protein to a new file called`longest.list` by parsting the `transcript_protein.tsv` file we just created. \n",
    "\n",
    "This code first sorts this file by `NCBI Gene ID`, then by protein length, then by Protein Accession number (to produce consistent results if two proteins are of the same length). Next, it uses `awk` to print only the first line per Gene ID, and then cuts just the column of protein IDs. We will then pass on this list of IDs to Datasets.\n",
    "\n",
    "\n",
    "To learn more about selecting one isoform per ortholog, check out this other Datasets tutorial:  https://www.ncbi.nlm.nih.gov/datasets/docs/v2/tutorials/ortholog-get-one-isoform/."
   ]
  },
  {
   "cell_type": "code",
   "execution_count": 65,
   "id": "4010df1a-6ec2-4a87-bf06-789b58400911",
   "metadata": {},
   "outputs": [],
   "source": [
    "%%bash\n",
    "cat transcript_protein.tsv | sort -k1n -nrk7 -k6 | \\\n",
    "awk 'BEGIN{FS=\"\\t\";OFS=\"\\t\";gene=0}{if(gene!=$1){print $0};gene=$1}END{if(gene!=$1){print $0}}' |\\\n",
    "cut -f6  > longest.list"
   ]
  },
  {
   "cell_type": "markdown",
   "id": "ff54f447-90c7-4562-8682-f72fcf45386b",
   "metadata": {},
   "source": [
    "Now that we have a list of transcript and protein accessions, we can use datasets to download the sequences.\n",
    "Use the `--fasta-filter-file` flag to only get sequence for the specific transcript and protein accessions in the file, `longest.list`."
   ]
  },
  {
   "cell_type": "code",
   "execution_count": null,
   "id": "4c8f8245-0975-48ef-a971-ab3a17db97be",
   "metadata": {},
   "outputs": [],
   "source": [
    "%%bash\n",
    "datasets download gene accession --no-progressbar  \\\n",
    "--inputfile longest.list \\\n",
    "--fasta-filter-file longest.list \\\n",
    "--filename longest_protein.zip"
   ]
  },
  {
   "cell_type": "markdown",
   "id": "cf21cb48-9870-41ad-879b-7164e2831ba0",
   "metadata": {},
   "source": [
    "#### Unzip, update headers and align ####\n",
    "\n",
    "Just like in the previous example, we are now going to expand the `.zip` file into a new directory, adjust the FASTA headers, and use Clustal Omega to align the sequences and output an alignment and distance matrix."
   ]
  },
  {
   "cell_type": "code",
   "execution_count": 68,
   "id": "3cb5a0c0-f5b0-4731-86d7-5df12f6f45c5",
   "metadata": {},
   "outputs": [
    {
     "name": "stdout",
     "output_type": "stream",
     "text": [
      "Archive:  longest_protein.zip\n",
      "  inflating: longest_protein/README.md  \n",
      "  inflating: longest_protein/ncbi_dataset/data/protein.faa  \n",
      "  inflating: longest_protein/ncbi_dataset/data/data_report.jsonl  \n",
      "  inflating: longest_protein/ncbi_dataset/data/dataset_catalog.json  \n"
     ]
    }
   ],
   "source": [
    "%%bash\n",
    "unzip longest_protein.zip -d longest_protein"
   ]
  },
  {
   "cell_type": "code",
   "execution_count": 69,
   "id": "e2e494ec-a2f8-47c8-bbaa-00a0055b5568",
   "metadata": {},
   "outputs": [],
   "source": [
    "%%bash\n",
    "# Update FASTA headers in the protein sequence file to make clustalo output easier to understand\n",
    "sed 's/ /_/g' longest_protein/ncbi_dataset/data/protein.faa > longest.renamed.proteins.faa"
   ]
  },
  {
   "cell_type": "code",
   "execution_count": 74,
   "id": "614e8a0a-15cd-4820-ad7d-a21b11801575",
   "metadata": {},
   "outputs": [],
   "source": [
    "%%bash\n",
    "# Run Clustal Omega on this new input file\n",
    "./clustalo --infile longest.renamed.proteins.faa --full --outfmt=clu --distmat-out=adamts8_distmat_longest --force > adamts8_longest_clustal.clu"
   ]
  },
  {
   "cell_type": "markdown",
   "id": "c8382781-b61a-4473-bfc6-49d6cd041fa8",
   "metadata": {},
   "source": [
    "### The NIH Comparative Genomics Resource (CGR)\n",
    "\n",
    "The NCBI tools used in this tutorial (NCBI Datasets CLI tools and NCBI Orthologs) are both part of the [NIH Comparative Genomics Resource (CGR)](https://www.ncbi.nlm.nih.gov/datasets/cgr/). CGR facilitates reliable comparative genomics analyses for all eukaryotic organisms through an NCBI Toolkit and community collaboration. CGR provides comparative genomicists with a wide and expanding taxonomic range of genome assemblies and annotations while specialized BLAST databases, comparative visualization tools, orthology data, protein domain data, and more support your analyses.\n",
    "\n",
    "Follow us on X @NCBI and join our mailing list to keep up to date with NCBI Datasets, NCBI Orthologs and other CGR news."
   ]
  }
 ],
 "metadata": {
  "kernelspec": {
   "display_name": "Python 3 (ipykernel)",
   "language": "python",
   "name": "python3"
  },
  "language_info": {
   "codemirror_mode": {
    "name": "ipython",
    "version": 3
   },
   "file_extension": ".py",
   "mimetype": "text/x-python",
   "name": "python",
   "nbconvert_exporter": "python",
   "pygments_lexer": "ipython3",
   "version": "3.11.8"
  }
 },
 "nbformat": 4,
 "nbformat_minor": 5
}
