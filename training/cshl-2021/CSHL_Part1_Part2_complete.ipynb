{
 "cells": [
  {
   "cell_type": "markdown",
   "id": "54a6de46",
   "metadata": {},
   "source": [
    "# NCBI Datasets - CSHL (11/02/2021)"
   ]
  },
  {
   "cell_type": "markdown",
   "id": "3bd7dca2",
   "metadata": {},
   "source": [
    "### Important resources:\n",
    "- Etherpad: <link>\n",
    "- Github: <link>\n",
    "- NCBI datasets: <link>\n",
    "- Code of Conduct (?): <link> *we can use the Carpentries COC*\n",
    "- jq cheat sheet: <link>\n",
    "- UNIX cheat sheet: <link>"
   ]
  },
  {
   "cell_type": "markdown",
   "id": "8748f282",
   "metadata": {},
   "source": [
    "## Case study: Elmo loves ants\n",
    "\n",
    "Elmo is a graduate student at the Via Sesamum University. As part of his Ph.D. project, he studies Panamanian leaf cutter ants (genus *Acromyrmex*, family Formicidae) and how variation in the gene *orco* (**o**dorant **r**eceptor **co**receptor) affects the colonies of this genus.\n",
    "\n",
    "(here's the [link](https://www.sciencedirect.com/science/article/pii/S0092867417307729#app3) to a cool paper talking about this gene in ants of the species *Ooceraea biroi*).\n",
    "\n",
    "<img src=\"./images/ants.png\" alt=\"image\"/>"
   ]
  },
  {
   "cell_type": "markdown",
   "id": "aba5458e",
   "metadata": {},
   "source": [
    "Elmo will use `datasets` to help him gather the existing genomic resources from NCBI. He will:\n",
    "\n",
    "- download all available genomes for the genus *Acromyrmex*\n",
    "- download the *orco* gene from the *Acromyrmex* reference genome\n",
    "- download the ortholog set for this gene for all ants (Formicidae)\n",
    "\n",
    "In addition, he will also do the following tasks:\n",
    "- Create a custom BLAST database with the Panamanian leaf cutter ants genomes \n",
    "- BLAST the gene *orco* against the database\n",
    "- Multiple sequence alignment of the BLAST results and the ortholog gene sequences\n",
    "- Build a phylogenetic tree using fastTree\n",
    "\n",
    "## something about dataformat and dehydrated files"
   ]
  },
  {
   "cell_type": "markdown",
   "id": "62c4d179",
   "metadata": {},
   "source": [
    "### How is `datasets` organized?\n",
    "\n",
    "[NCBI datasets](https://www.ncbi.nlm.nih.gov/datasets/docs/v1/quickstarts/command-line-tools/) is a command line tool that allows users to download data packages (data + metadata) or look at metadata summaries for genomes, RefSeq annotated genes, curated ortholog sets and SARS-Cov-2 virus sequences and proteins. The program follows a hierarchy that makes it easier for users to select exact which options they would like to use. In addition to the program commands, additional flags are available for filtering the results. We will go over those during this tutorial.\n",
    "<img src=\"./images/datasets_horizontal.drawio.png\" alt=\"datasets\" style=\"width: 600px;\"/>"
   ]
  },
  {
   "cell_type": "markdown",
   "id": "10c19b1b",
   "metadata": {},
   "source": [
    "In addition to `datasets`, we will be using `jq` (json parser) to take a look at the metadata information. Our metadata reports are almsot all in json or json-lines format. We put together a [jq cheat sheet](<add link>) to help you extract information from those files."
   ]
  },
  {
   "cell_type": "markdown",
   "id": "ba09dac3",
   "metadata": {},
   "source": [
    "## Tutorial - Part 1"
   ]
  },
  {
   "cell_type": "markdown",
   "id": "ace1dd5d",
   "metadata": {},
   "source": [
    "![workflow](./images/elmo_workflow.drawio.png)"
   ]
  },
  {
   "cell_type": "markdown",
   "id": "17264230",
   "metadata": {},
   "source": [
    "First, let's figure out what kind of information NCBI has for ants (family Formicidae)."
   ]
  },
  {
   "cell_type": "code",
   "execution_count": null,
   "id": "076161ca",
   "metadata": {},
   "outputs": [],
   "source": [
    "# Get metadata info\n",
    "!datasets summary genome taxon formicidae"
   ]
  },
  {
   "cell_type": "code",
   "execution_count": null,
   "id": "83c4c738",
   "metadata": {},
   "outputs": [],
   "source": [
    "# Get metadata info and save to a file\n",
    "!datasets summary genome taxon formicidae > formicidae_summary.json"
   ]
  },
  {
   "cell_type": "markdown",
   "id": "eda4485e",
   "metadata": {},
   "source": [
    "**Now let's take a look at the metadata usign jq**"
   ]
  },
  {
   "cell_type": "code",
   "execution_count": null,
   "id": "9e692dec",
   "metadata": {},
   "outputs": [],
   "source": [
    "!datasets summary genome taxon formicidae | jq ."
   ]
  },
  {
   "cell_type": "markdown",
   "id": "35769fcf",
   "metadata": {},
   "source": [
    "### A little bit more about json files\n",
    "A JSON (JavaScript Object Notation) file stores data structures and objects. In a very simplified (and non-technical) way, a JSON file is a box, that might contain other boxes with more boxes inside. In `datasets summary` our JSON \"box\" is organized like this:\n",
    "<img src=\"./images/json1.png\" alt=\"image\" style=\"width: 600px;\"/>"
   ]
  },
  {
   "cell_type": "markdown",
   "id": "30265106",
   "metadata": {},
   "source": [
    "If we continue to expand each one of those assembly boxes, more levels of the hierarchy will be revelead. Let's take a look inside the pink assembly box:\n",
    "<img src=\"./images/json2.png\" alt=\"image\" style=\"width: 600px;\"/>"
   ]
  },
  {
   "cell_type": "markdown",
   "id": "f81cbc5d",
   "metadata": {},
   "source": [
    "Here we can see that some of the assembly information, such as assembly accession number, contig N50  or submission date are not include inside any of the available \"boxes\" (annotation_metadata, chromosomes, bioproject_lineage, and org). Those fields describe assembly features/characteristics that pertain the entire assembly, and not only any of those boxes available.\n",
    "Let's try to expand a those boxes now:\n",
    "<img src=\"./images/json3.png\" alt=\"image\" style=\"width: 600px;\"/>"
   ]
  },
  {
   "cell_type": "markdown",
   "id": "9d7bbbeb",
   "metadata": {},
   "source": [
    "Now we can see all the available fields for the genome summary. Not all assemblies will have those, but this is to give you an idea of how the information is organized. And each assembly will have the same fields, like this:\n",
    "\n",
    "<img src=\"./images/json4.png\" alt=\"image\" style=\"width: 600px;\"/>"
   ]
  },
  {
   "cell_type": "markdown",
   "id": "b2214701",
   "metadata": {},
   "source": [
    "**RESOURCE:**  \n",
    "We included a list of all fields in the genome summary in our [jq cheatsheet]() to help you extract the information you need. And we will show you now how to do that. "
   ]
  },
  {
   "cell_type": "code",
   "execution_count": null,
   "id": "693940db",
   "metadata": {},
   "outputs": [],
   "source": []
  },
  {
   "cell_type": "code",
   "execution_count": null,
   "id": "5e27a625",
   "metadata": {},
   "outputs": [],
   "source": []
  },
  {
   "cell_type": "code",
   "execution_count": null,
   "id": "6fc3f641",
   "metadata": {},
   "outputs": [],
   "source": []
  },
  {
   "cell_type": "code",
   "execution_count": null,
   "id": "75ec296a",
   "metadata": {},
   "outputs": [],
   "source": []
  },
  {
   "cell_type": "code",
   "execution_count": null,
   "id": "73693687",
   "metadata": {},
   "outputs": [],
   "source": []
  },
  {
   "cell_type": "code",
   "execution_count": null,
   "id": "06320b92",
   "metadata": {},
   "outputs": [],
   "source": []
  },
  {
   "cell_type": "code",
   "execution_count": null,
   "id": "0ff35e1a",
   "metadata": {},
   "outputs": [],
   "source": []
  },
  {
   "cell_type": "code",
   "execution_count": null,
   "id": "6151bc9b",
   "metadata": {},
   "outputs": [],
   "source": [
    "!datasets download genome taxon acromyrmex --assembly-source genbank --filename genomes.zip --no-progressbar"
   ]
  },
  {
   "cell_type": "code",
   "execution_count": null,
   "id": "5f57b5e8",
   "metadata": {},
   "outputs": [],
   "source": [
    "!unzip genomes.zip -d genomes"
   ]
  },
  {
   "cell_type": "code",
   "execution_count": null,
   "id": "f3337168",
   "metadata": {},
   "outputs": [],
   "source": [
    "!tree genomes/"
   ]
  },
  {
   "cell_type": "code",
   "execution_count": null,
   "id": "0d5bb16e",
   "metadata": {},
   "outputs": [],
   "source": [
    "!datasets summary gene gene-id 105147775 | jq '.genes[].gene | {gene_description: .description, gene_id: .gene_id, symbol: .symbol, species: .taxname}'"
   ]
  },
  {
   "cell_type": "code",
   "execution_count": null,
   "id": "e08b9763",
   "metadata": {},
   "outputs": [],
   "source": [
    "!datasets download gene gene-id 105147775 --filename gene.zip --no-progressbar"
   ]
  },
  {
   "cell_type": "markdown",
   "id": "85f07f2d",
   "metadata": {},
   "source": [
    "!unzip gene.zip -d gene"
   ]
  },
  {
   "cell_type": "code",
   "execution_count": null,
   "id": "9ab71ee8",
   "metadata": {},
   "outputs": [],
   "source": [
    "!tree gene"
   ]
  },
  {
   "cell_type": "code",
   "execution_count": null,
   "id": "2c2100eb",
   "metadata": {},
   "outputs": [],
   "source": [
    "import pandas as pd\n",
    "gene_orco = pd.read_csv('gene/ncbi_dataset/data/data_table.tsv', sep='\\t')\n",
    "gene_orco"
   ]
  },
  {
   "cell_type": "code",
   "execution_count": null,
   "id": "4040acda",
   "metadata": {},
   "outputs": [],
   "source": [
    "!time datasets download ortholog gene-id 40650 --taxon-filter formicidae --filename ortholog.zip --no-progressbar"
   ]
  },
  {
   "cell_type": "code",
   "execution_count": null,
   "id": "c295a289",
   "metadata": {},
   "outputs": [],
   "source": [
    "!time unzip ortholog.zip -d ortholog"
   ]
  },
  {
   "cell_type": "code",
   "execution_count": null,
   "id": "5f22996a",
   "metadata": {},
   "outputs": [],
   "source": [
    "!tree ortholog/"
   ]
  },
  {
   "cell_type": "code",
   "execution_count": null,
   "id": "b1ce6599",
   "metadata": {},
   "outputs": [],
   "source": [
    "%cd blastdb/"
   ]
  },
  {
   "cell_type": "code",
   "execution_count": null,
   "id": "a15f18f5",
   "metadata": {},
   "outputs": [],
   "source": [
    "%%bash\n",
    "makeblastdb -dbtype nucl -in ../genomes/ncbi_dataset/data/GCA_000204515.1/unplaced.scaf.fna -taxid 103372 -out Aechinatior\n",
    "makeblastdb -dbtype nucl -in ../genomes/ncbi_dataset/data/GCA_017607455.1/GCA_017607455.1_ASM1760745v1_genomic.fna -taxid 230686 -out Ainsinuator \n",
    "makeblastdb -dbtype nucl -in ../genomes/ncbi_dataset/data/GCA_017607545.1/GCA_017607545.1_ASM1760754v1_genomic.fna -taxid 2715315 -out Acharruanus\n",
    "makeblastdb -dbtype nucl -in ../genomes/ncbi_dataset/data/GCA_017607565.1/GCA_017607565.1_ASM1760756v1_genomic.fna -taxid 230685 -out Aheyeri"
   ]
  },
  {
   "cell_type": "code",
   "execution_count": null,
   "id": "ad0961bd",
   "metadata": {},
   "outputs": [],
   "source": [
    "!blastdb_aliastool -dbtype nucl -title acromyrmex -out acromyrmex -dblist \"Acharruanus Aechinatior Aheyeri Ainsinuator\""
   ]
  },
  {
   "cell_type": "code",
   "execution_count": null,
   "id": "b39d7eb6",
   "metadata": {},
   "outputs": [],
   "source": [
    "%%bash\n",
    "blastn \\\n",
    "-db acromyrmex \\\n",
    "-query ../gene/ncbi_dataset/data/gene.fna \\\n",
    "-evalue 1e-50 \\\n",
    "-outfmt 11 \\\n",
    "-max_hsps 1 \\\n",
    "-out orco_acromyrmex_1e-50.asn"
   ]
  },
  {
   "cell_type": "code",
   "execution_count": null,
   "id": "47c7e81f",
   "metadata": {},
   "outputs": [],
   "source": [
    "%%bash\n",
    "blast_formatter \\\n",
    "-archive orco_acromyrmex_1e-50.asn \\\n",
    "-outfmt '6 sseqid sstart send evalue length staxid ssciname' > orco_acromyrmex_1e-50.tsv"
   ]
  },
  {
   "cell_type": "code",
   "execution_count": null,
   "id": "ba539fd4",
   "metadata": {},
   "outputs": [],
   "source": [
    "blast_table = pd.read_csv('orco_acromyrmex_1e-50.tsv', sep='\\t', header=None)\n",
    "blast_table"
   ]
  },
  {
   "cell_type": "code",
   "execution_count": null,
   "id": "d09fa292",
   "metadata": {},
   "outputs": [],
   "source": [
    "%%bash\n",
    "blast_formatter \\\n",
    "-archive orco_acromyrmex_1e-50.asn \\\n",
    "-outfmt '6 ssciname sseqid sseq' \\\n",
    "-max_target_seqs 4"
   ]
  },
  {
   "cell_type": "code",
   "execution_count": null,
   "id": "127b6fec",
   "metadata": {},
   "outputs": [],
   "source": [
    "%%bash\n",
    "blast_formatter \\\n",
    "-archive orco_acromyrmex_1e-50.asn \\\n",
    "-outfmt '6 ssciname sseqid sseq' \\\n",
    "-max_target_seqs 4 | awk 'BEGIN{FS=\"\\t\"; OFS=\"\\n\"}{gsub(/ /, \"_\", $1);gsub(/-/, \"\", $3); print \">\"$1\"_\"$2,$3}'"
   ]
  },
  {
   "cell_type": "code",
   "execution_count": null,
   "id": "6b0fcd5b",
   "metadata": {},
   "outputs": [],
   "source": [
    "%%bash\n",
    "blast_formatter \\\n",
    "-archive orco_acromyrmex_1e-50.asn \\\n",
    "-outfmt '6 ssciname sseqid sseq' \\\n",
    "-max_target_seqs 4 | awk 'BEGIN{FS=\"\\t\"; OFS=\"\\n\"}{gsub(/ /, \"_\", $1);gsub(/-/, \"\", $3); print \">\"$1\"_\"$2,$3}' > ../acromyrmex_orco.fasta"
   ]
  },
  {
   "cell_type": "code",
   "execution_count": null,
   "id": "ffb549f9",
   "metadata": {},
   "outputs": [],
   "source": [
    "%cd ~"
   ]
  },
  {
   "cell_type": "code",
   "execution_count": null,
   "id": "2a0d770e",
   "metadata": {},
   "outputs": [],
   "source": [
    "# Extract the seqids from the gene ortholog fasta and remove the spaces\n",
    "!grep \">\" ortholog/ncbi_dataset/data/gene.fna | sed 's/ /,/g' > ortholog_seqid.txt"
   ]
  },
  {
   "cell_type": "code",
   "execution_count": null,
   "id": "2f62c1b2",
   "metadata": {},
   "outputs": [],
   "source": [
    "%%bash\n",
    "#Create a mapping file with the original name in the column 1 and a shortened name on column 2\n",
    "cat ortholog_seqid.txt | while read line; do\n",
    "new=$( echo $line | awk 'BEGIN {FS=\",\"; OFS=\"_\"}{gsub(/\\[organism\\=/, \"\", $3);gsub(/]/, \"\", $4);gsub(/\\[GeneID\\=|\\]/, \"\", $5)} ;{print substr($3,0,1)$4,$5}'); \n",
    "old=$( echo $line | sed 's/,/\\_/g;s/>//g')\n",
    "printf \"${old}\\t${new}\\n\" >> name_map.tsv; \n",
    "done"
   ]
  },
  {
   "cell_type": "code",
   "execution_count": null,
   "id": "c78ab225",
   "metadata": {},
   "outputs": [],
   "source": [
    "import pandas as pd\n",
    "name_map = pd.read_csv('name_map.tsv', sep='\\t', header=None)\n",
    "name_map"
   ]
  },
  {
   "cell_type": "code",
   "execution_count": null,
   "id": "006779c3",
   "metadata": {},
   "outputs": [],
   "source": [
    "#Copy the ortholog dataset fasta\n",
    "!cp ortholog/ncbi_dataset/data/gene.fna ortholog_gene.fna"
   ]
  },
  {
   "cell_type": "code",
   "execution_count": null,
   "id": "66454b4c",
   "metadata": {},
   "outputs": [],
   "source": [
    "#Remove spaces in the fasta sequnce names\n",
    "!sed 's/ /_/g' ortholog_gene.fna > ortholog_gene_nospaces.fna"
   ]
  },
  {
   "cell_type": "code",
   "execution_count": null,
   "id": "9e5342cb",
   "metadata": {},
   "outputs": [],
   "source": [
    "!head -n1 ortholog_gene_nospaces.fna"
   ]
  },
  {
   "cell_type": "code",
   "execution_count": null,
   "id": "01913b3b",
   "metadata": {},
   "outputs": [],
   "source": [
    "%%bash\n",
    "#Replace the names in the fasta file\n",
    "cat ortholog_gene_nospaces.fna | seqkit replace \\\n",
    "--kv-file  <(cut -f 1,2 name_map.tsv) \\\n",
    "--pattern \"^(.*)\" --replacement \"{kv}\" > ortholog_gene_final.fna"
   ]
  },
  {
   "cell_type": "code",
   "execution_count": null,
   "id": "0926d5e3",
   "metadata": {},
   "outputs": [],
   "source": [
    "!grep \">\" ortholog_gene_final.fna"
   ]
  },
  {
   "cell_type": "code",
   "execution_count": null,
   "id": "6a2f4830",
   "metadata": {},
   "outputs": [],
   "source": [
    "#Concatenate sequences\n",
    "!cat ortholog_gene_final.fna acromyrmex_orco.fasta > orco_all.fasta"
   ]
  },
  {
   "cell_type": "code",
   "execution_count": null,
   "id": "38d22cd8",
   "metadata": {},
   "outputs": [],
   "source": [
    "#align sequences with mafft\n",
    "!time mafft orco_all.fasta > orco_all_aln.fasta"
   ]
  },
  {
   "cell_type": "code",
   "execution_count": null,
   "id": "824aae1e",
   "metadata": {},
   "outputs": [],
   "source": [
    "%%bash\n",
    "#Generate a phylogeny using fasttree\n",
    "time FastTree -nt orco_all_aln.fasta > orco.tree"
   ]
  },
  {
   "cell_type": "code",
   "execution_count": null,
   "id": "ed40707b",
   "metadata": {},
   "outputs": [],
   "source": [
    "import toytree"
   ]
  },
  {
   "cell_type": "code",
   "execution_count": null,
   "id": "0044312d",
   "metadata": {},
   "outputs": [],
   "source": [
    "orco_tree = toytree.tree(\"orco.tree\")\n",
    "orco_tree_rooted = orco_tree.root(names=[\"Obrunneus_116854080\",\"Dquadriceps_106748868\",\"Hsaltator_105183395\"])\n",
    "orco_tree_rooted.draw(tree_style='d')"
   ]
  },
  {
   "cell_type": "markdown",
   "id": "6c13030e",
   "metadata": {},
   "source": [
    "## PART 2: large datasets (GENOMES)"
   ]
  },
  {
   "cell_type": "code",
   "execution_count": null,
   "id": "641aef51",
   "metadata": {},
   "outputs": [],
   "source": [
    "# Download a dehydrated data package for all acromyrmex GenBank genomes\n",
    "!time datasets download genome taxon acromyrmex --assembly-source genbank --dehydrated --filename acromyrmex-dry.zip --no-progressbar"
   ]
  },
  {
   "cell_type": "code",
   "execution_count": null,
   "id": "9d794025",
   "metadata": {},
   "outputs": [],
   "source": [
    "# Read the dataformat help menu. This is a great way to get a list of the available metadata fields.\n",
    "!dataformat tsv genome -h"
   ]
  },
  {
   "cell_type": "code",
   "execution_count": null,
   "id": "4074fd9c",
   "metadata": {},
   "outputs": [],
   "source": [
    "%%bash\n",
    "# Use dataformat to look at the genome data package for ants\n",
    "# We can use this information to select a \"best\" genome--we'll pick one with the highest contigN50 value\n",
    "dataformat tsv genome \\\n",
    "--fields organism-name,assminfo-accession,assmstats-contig-n50,assminfo-level,assminfo-submission-date,assminfo-submitter \\\n",
    "--package acromyrmex-dry.zip"
   ]
  },
  {
   "cell_type": "code",
   "execution_count": null,
   "id": "50a28140",
   "metadata": {},
   "outputs": [],
   "source": [
    "# Next we have to unzip the dehydrated package\n",
    "!unzip acromyrmex-dry.zip -d acromyrmex-dry "
   ]
  },
  {
   "cell_type": "code",
   "execution_count": null,
   "id": "973ffa9b",
   "metadata": {},
   "outputs": [],
   "source": [
    "# Let's get a list of files that are available for download \n",
    "!datasets rehydrate --directory acromyrmex-dry/ --list"
   ]
  },
  {
   "cell_type": "code",
   "execution_count": null,
   "id": "2daf20e5",
   "metadata": {},
   "outputs": [],
   "source": [
    "# Let's only get the protein sequences for the genome with the highest contigN50 value\n",
    "!datasets rehydrate --directory acromyrmex-dry/ --match GCA_000204515.1/protein.faa --no-progressbar"
   ]
  },
  {
   "cell_type": "code",
   "execution_count": null,
   "id": "ff56a582",
   "metadata": {},
   "outputs": [],
   "source": [
    "# Take a peek at the downloaded protein file\n",
    "!cat acromyrmex-dry/ncbi_dataset/data/GCA_000204515.1/protein.faa | head"
   ]
  },
  {
   "cell_type": "code",
   "execution_count": null,
   "id": "58ce2486",
   "metadata": {},
   "outputs": [],
   "source": [
    "!datasets rehydrate -h"
   ]
  },
  {
   "cell_type": "markdown",
   "id": "7f69f702",
   "metadata": {},
   "source": [
    "## Exercise\n",
    "* Download a dehydrated package for all *Mycobacterium tuberculosis* genomes that meet all of the following criteria (hint: use flags)\n",
    "    1. submitted/released in 2021\n",
    "    2. annotated\n",
    "    3. assembly level of complete_genome\n",
    "* use dataformat to view the sequencing technology used for each of these genomes\n",
    "* use rehydrate to get the genome sequence for one genome generated using Oxford Nanopore"
   ]
  },
  {
   "cell_type": "code",
   "execution_count": null,
   "id": "1ca7bc51",
   "metadata": {},
   "outputs": [],
   "source": [
    "# Download a dehydrated genome data package"
   ]
  },
  {
   "cell_type": "code",
   "execution_count": null,
   "id": "94ca3308",
   "metadata": {},
   "outputs": [],
   "source": [
    "# Unzip the data package"
   ]
  },
  {
   "cell_type": "code",
   "execution_count": null,
   "id": "78bcf9f1",
   "metadata": {},
   "outputs": [],
   "source": [
    "# Use dataformat to generate a table that includes sequencing technology"
   ]
  },
  {
   "cell_type": "code",
   "execution_count": null,
   "id": "d3a4727d",
   "metadata": {},
   "outputs": [],
   "source": [
    "# Use rehydrate to get genome sequence generated using Oxford Nanopore"
   ]
  }
 ],
 "metadata": {
  "kernelspec": {
   "display_name": "Python 3 (ipykernel)",
   "language": "python",
   "name": "python3"
  },
  "language_info": {
   "codemirror_mode": {
    "name": "ipython",
    "version": 3
   },
   "file_extension": ".py",
   "mimetype": "text/x-python",
   "name": "python",
   "nbconvert_exporter": "python",
   "pygments_lexer": "ipython3",
   "version": "3.7.11"
  }
 },
 "nbformat": 4,
 "nbformat_minor": 5
}
