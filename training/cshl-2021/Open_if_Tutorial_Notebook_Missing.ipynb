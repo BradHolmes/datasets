{
 "cells": [
  {
   "cell_type": "code",
   "execution_count": null,
   "id": "3777cc8c",
   "metadata": {},
   "outputs": [],
   "source": [
    "!wget https://raw.githubusercontent.com/ncbi/datasets/workshop-cshl-2021/training/cshl-2021/CSHL_datasets_Nov01.ipynb"
   ]
  },
  {
   "cell_type": "code",
   "execution_count": null,
   "id": "c5dafaed",
   "metadata": {},
   "outputs": [],
   "source": [
    "!wget https://raw.githubusercontent.com/ncbi/datasets/workshop-cshl-2021/training/cshl-2021/genes.txt"
   ]
  },
  {
   "cell_type": "code",
   "execution_count": null,
   "id": "6faee475",
   "metadata": {},
   "outputs": [],
   "source": [
    "!ghclone https://github.com/ncbi/datasets/tree/workshop-cshl-2021/training/cshl-2021/images"
   ]
  },
  {
   "cell_type": "code",
   "execution_count": null,
   "id": "44f1e7c9",
   "metadata": {},
   "outputs": [],
   "source": []
  }
 ],
 "metadata": {
  "kernelspec": {
   "display_name": "Python 3 (ipykernel)",
   "language": "python",
   "name": "python3"
  },
  "language_info": {
   "codemirror_mode": {
    "name": "ipython",
    "version": 3
   },
   "file_extension": ".py",
   "mimetype": "text/x-python",
   "name": "python",
   "nbconvert_exporter": "python",
   "pygments_lexer": "ipython3",
   "version": "3.9.7"
  }
 },
 "nbformat": 4,
 "nbformat_minor": 5
}
