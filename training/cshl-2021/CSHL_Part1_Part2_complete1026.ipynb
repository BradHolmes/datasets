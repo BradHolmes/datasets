{
 "cells": [
  {
   "cell_type": "markdown",
   "id": "a17a866f",
   "metadata": {},
   "source": [
    "# NCBI Datasets - CSHL (11/02/2021)"
   ]
  },
  {
   "cell_type": "markdown",
   "id": "3c2018eb",
   "metadata": {},
   "source": [
    "### Important resources:\n",
    "- Etherpad: <link>\n",
    "- Github: <link>\n",
    "- NCBI datasets: <link>\n",
    "- Code of Conduct (?): <link> *we can use the Carpentries COC*\n",
    "- jq cheat sheet: <link>\n",
    "- UNIX cheat sheet: <link>"
   ]
  },
  {
   "cell_type": "markdown",
   "id": "b8805d73",
   "metadata": {},
   "source": [
    "## Case study: Elmo loves ants\n",
    "\n",
    "Elmo is a graduate student at the Via Sesamum University. As part of his Ph.D. project, he studies Panamanian leaf cutter ants (genus *Acromyrmex*, family Formicidae) and how variation in the gene *orco* (**o**dorant **r**eceptor **co**receptor) affects the colonies of this genus.\n",
    "\n",
    "(here's the [link](https://www.sciencedirect.com/science/article/pii/S0092867417307729#app3) to a cool paper talking about this gene in ants of the species *Ooceraea biroi*).\n",
    "\n",
    "<img src=\"./images/ants.png\" alt=\"image\"/>"
   ]
  },
  {
   "cell_type": "markdown",
   "id": "fb672e02",
   "metadata": {},
   "source": [
    "Elmo will use `datasets` to help him gather the existing genomic resources from NCBI. He will:\n",
    "\n",
    "- download all available genomes for the genus *Acromyrmex*\n",
    "- download the *orco* gene from the *Acromyrmex* reference genome\n",
    "- download the ortholog set for this gene for all ants (Formicidae)\n",
    "\n",
    "In addition, he will also do the following tasks:\n",
    "- Create a custom BLAST database with the Panamanian leaf cutter ants genomes \n",
    "- BLAST the gene *orco* against the database\n",
    "- Multiple sequence alignment of the BLAST results and the ortholog gene sequences\n",
    "- Build a phylogenetic tree using fastTree\n",
    "\n",
    "## something about dataformat and dehydrated files"
   ]
  },
  {
   "cell_type": "markdown",
   "id": "8b785d5b",
   "metadata": {},
   "source": [
    "### How is `datasets` organized?\n",
    "\n",
    "[NCBI datasets](https://www.ncbi.nlm.nih.gov/datasets/docs/v1/quickstarts/command-line-tools/) is a command line tool that allows users to download data packages (data + metadata) or look at metadata summaries for genomes, RefSeq annotated genes, curated ortholog sets and SARS-Cov-2 virus sequences and proteins. The program follows a hierarchy that makes it easier for users to select exact which options they would like to use. In addition to the program commands, additional flags are available for filtering the results. We will go over those during this tutorial.\n",
    "<img src=\"./images/datasets_horizontal.drawio.png\" alt=\"datasets\" style=\"width: 600px;\"/>"
   ]
  },
  {
   "cell_type": "markdown",
   "id": "54d048ca",
   "metadata": {},
   "source": [
    "In addition to `datasets`, we will be using `jq` (json parser) to take a look at the metadata information. Our metadata reports are almsot all in json or json-lines format. We put together a [jq cheat sheet](<add link>) to help you extract information from those files."
   ]
  },
  {
   "cell_type": "markdown",
   "id": "75ad66b3",
   "metadata": {},
   "source": [
    "## Tutorial - Part 1"
   ]
  },
  {
   "cell_type": "markdown",
   "id": "c5509425",
   "metadata": {},
   "source": [
    "![workflow](./images/elmo_workflow.drawio.png)"
   ]
  },
  {
   "cell_type": "markdown",
   "id": "b29b46e2",
   "metadata": {},
   "source": [
    "First, let's figure out what kind of information NCBI has for ants (family Formicidae)."
   ]
  },
  {
   "cell_type": "markdown",
   "id": "b1c78dcf",
   "metadata": {},
   "source": [
    "![summary_genome](./images/summary_genome_taxon.png)"
   ]
  },
  {
   "cell_type": "code",
   "execution_count": null,
   "id": "076161ca",
   "metadata": {},
   "outputs": [],
   "source": [
    "# Get metadata info\n",
    "!datasets summary genome taxon formicidae"
   ]
  },
  {
   "cell_type": "code",
   "execution_count": null,
   "id": "9f1c4ea3",
   "metadata": {},
   "outputs": [],
   "source": [
    "# Get metadata info and save to a file\n",
    "!datasets summary genome taxon formicidae > formicidae_summary.json"
   ]
  },
  {
   "cell_type": "markdown",
   "id": "dd676b9b",
   "metadata": {},
   "source": [
    "**Now let's take a look at the metadata usign jq**"
   ]
  },
  {
   "cell_type": "code",
   "execution_count": null,
   "id": "4206d799",
   "metadata": {},
   "outputs": [],
   "source": [
    "!datasets summary genome taxon formicidae | jq ."
   ]
  },
  {
   "cell_type": "markdown",
   "id": "0c98b353",
   "metadata": {},
   "source": [
    "### A little bit more about json files\n",
    "A JSON (JavaScript Object Notation) file stores data structures and objects. In a very simplified (and non-technical) way, a JSON file is a box, that might contain other boxes with more boxes inside. In `datasets summary` our JSON \"box\" is organized like this:\n",
    "<img src=\"./images/json1.png\" alt=\"image\" style=\"width: 600px;\"/>"
   ]
  },
  {
   "cell_type": "markdown",
   "id": "648dbd10",
   "metadata": {},
   "source": [
    "If we continue to expand each one of those assembly boxes, more levels of the hierarchy will be revelead. Let's take a look inside the pink assembly box:\n",
    "<img src=\"./images/json2.png\" alt=\"image\" style=\"width: 600px;\"/>"
   ]
  },
  {
   "cell_type": "markdown",
   "id": "c4998eb9",
   "metadata": {},
   "source": [
    "Here we can see that some of the assembly information, such as assembly accession number, contig N50  or submission date are not include inside any of the available \"boxes\" (annotation_metadata, chromosomes, bioproject_lineage, and org). Those fields describe assembly features/characteristics that pertain the entire assembly, and not only any of those boxes available.\n",
    "Let's try to expand a those boxes now:\n",
    "<img src=\"./images/json3.png\" alt=\"image\" style=\"width: 600px;\"/>"
   ]
  },
  {
   "cell_type": "markdown",
   "id": "7a6fe95c",
   "metadata": {},
   "source": [
    "Now we can see all the available fields for the genome summary. Not all assemblies will have those, but this is to give you an idea of how the information is organized. And each assembly will have the same fields, like this:\n",
    "\n",
    "<img src=\"./images/json4.png\" alt=\"image\" style=\"width: 600px;\"/>"
   ]
  },
  {
   "cell_type": "markdown",
   "id": "64bd7499",
   "metadata": {},
   "source": [
    "**RESOURCE:**  \n",
    "We included a list of all fields in the genome summary in our [jq cheatsheet]() to help you extract the information you need. And we will show you now how to do that. "
   ]
  },
  {
   "cell_type": "markdown",
   "id": "2f550f75",
   "metadata": {},
   "source": [
    "### Let's continue to explore the available genomes for the family Formicidae\n",
    "\n",
    "<img src=\"./images/summary_genome_taxon.png\" alt=\"summary\" />"
   ]
  },
  {
   "cell_type": "code",
   "execution_count": null,
   "id": "b2c1912d",
   "metadata": {},
   "outputs": [],
   "source": [
    "# For which species does NCBI have genomes in its database? How many per species?\n",
    "\n",
    "!datasets summary genome taxon formicidae | jq '.assemblies[].assembly.org.sci_name' | sort | uniq -c"
   ]
  },
  {
   "cell_type": "code",
   "execution_count": null,
   "id": "6c953fbd",
   "metadata": {},
   "outputs": [],
   "source": [
    "# What is the assembly level (contig, scaffold, chromosome, complete) breakdown?\n",
    "\n",
    "!datasets summary genome taxon formicidae | jq '.assemblies[].assembly.assembly_level' | sort | uniq -c"
   ]
  },
  {
   "cell_type": "markdown",
   "id": "ed84aedf",
   "metadata": {},
   "source": [
    "### How to get help when using the command line\n",
    "\n",
    "Since `datasets` is a very hierarchical program, we can use that characteristic to our advantage to get very specific help.   For example: if we type `datasets --help`, we will see the first level of commands available.\n"
   ]
  },
  {
   "cell_type": "code",
   "execution_count": 3,
   "id": "d219e750",
   "metadata": {},
   "outputs": [
    {
     "name": "stdout",
     "output_type": "stream",
     "text": [
      "datasets is a command-line tool that is used to query and download biological sequence data\r\n",
      "across all domains of life from NCBI databases.\r\n",
      "\r\n",
      "Refer to NCBI's [command line quickstart](https://www.ncbi.nlm.nih.gov/datasets/docs/quickstarts/command-line-tools/) documentation for information about getting started with the command-line tools.\r\n",
      "\r\n",
      "Usage\r\n",
      "  datasets [command]\r\n",
      "\r\n",
      "Data Retrieval Commands\r\n",
      "  summary              print a summary of a gene or genome dataset\r\n",
      "  download             download a gene, genome or coronavirus dataset as a zip file\r\n",
      "  rehydrate            rehydrate a downloaded, dehydrated dataset\r\n",
      "\r\n",
      "Miscellaneous Commands\r\n",
      "  completion           generate autocompletion scripts\r\n",
      "  version              print the version of this client and exit\r\n",
      "  help                 Help about any command\r\n",
      "\r\n",
      "Flags\r\n",
      "      --api-key string   NCBI Datasets API Key\r\n",
      "  -h, --help             help for datasets\r\n",
      "      --no-progressbar   hide progress bar\r\n",
      "\r\n",
      "Use datasets help <command> for detailed help about a command.\r\n"
     ]
    }
   ],
   "source": [
    "!datasets --help"
   ]
  },
  {
   "cell_type": "markdown",
   "id": "db05f935",
   "metadata": {},
   "source": [
    "Notice the difference from when we type `datasets summary genome taxon formicidae --help`  \n"
   ]
  },
  {
   "cell_type": "code",
   "execution_count": 4,
   "id": "a09930dd",
   "metadata": {},
   "outputs": [
    {
     "name": "stdout",
     "output_type": "stream",
     "text": [
      "\r\n",
      "Print a summary of a genome dataset by taxon (NCBI Taxonomy ID, scientific or common name at any tax rank). The summary is returned in JSON format.\r\n",
      "\r\n",
      "Refer to NCBI's [command line quickstart](https://www.ncbi.nlm.nih.gov/datasets/docs/quickstarts/command-line-tools/) documentation for information about getting started with the command-line tools.\r\n",
      "\r\n",
      "Usage\r\n",
      "  datasets summary genome taxon [flags]\r\n",
      "\r\n",
      "Examples\r\n",
      "  datasets summary genome taxon human\r\n",
      "  datasets summary genome taxon \"mus musculus\"\r\n",
      "  datasets summary genome taxon 10116\r\n",
      "\r\n",
      "Flags\r\n",
      "  -h, --help              help for taxon\r\n",
      "      --tax-exact-match   exclude sub-species when a species-level taxon is specified\r\n",
      "\r\n",
      "\r\n",
      "Global Flags\r\n",
      "  -a, --annotated                only include genomes with annotation\r\n",
      "      --api-key string           NCBI Datasets API Key\r\n",
      "      --assembly-level string    restrict assemblies to a comma-separated list of one or more of: chromosome, complete_genome, contig, scaffold\r\n",
      "      --assembly-source string   restrict assemblies to refseq or genbank only\r\n",
      "      --assmaccs                 return only assembly accessions\r\n",
      "      --limit string             limit the number of genome summaries returned\r\n",
      "                                 * \"all\": returns all matching genome summaries\r\n",
      "                                 * \"none\": returns only the number of matching genome summaries\r\n",
      "                                 * a number: returns the specified number of matching genome summaries\r\n",
      "                                  (default \"all\")\r\n",
      "      --no-progressbar           hide progress bar\r\n",
      "      --reference                limit to reference and representative (GCF_ and GCA_) assemblies\r\n",
      "      --released-before string   only include genomes that have been released before a specified date (MM/DD/YYYY)\r\n",
      "      --released-since string    only include genomes that have been released after a specified date (MM/DD/YYYY)\r\n",
      "      --search strings           only include genomes that have the specified text in the\r\n",
      "                                 searchable fields: species and infraspecies, assembly name and submitter\r\n",
      "                                 To provide multiple strings '--search' can be included multiple times\r\n",
      "\r\n"
     ]
    }
   ],
   "source": [
    "!datasets summary genome taxon formicidae --help"
   ]
  },
  {
   "cell_type": "markdown",
   "id": "598672be",
   "metadata": {},
   "source": [
    "### Exercises\n",
    "\n",
    "Now we will practice what we learned about `datasets`. Take a look at the questions below and feel free to ask questions. Useful resources for this exercise are the `--help` from the command line and the [jq cheatsheet](). \n"
   ]
  },
  {
   "cell_type": "code",
   "execution_count": null,
   "id": "7c88ac9b",
   "metadata": {},
   "outputs": [],
   "source": [
    "# How many reference genomes in the family Formicidae? (hint --reference)\n",
    "!\n"
   ]
  },
  {
   "cell_type": "code",
   "execution_count": null,
   "id": "e5632797",
   "metadata": {},
   "outputs": [],
   "source": [
    "# How many reference genomes are annotated? (hint: --annotated)\n",
    "!\n"
   ]
  },
  {
   "cell_type": "code",
   "execution_count": null,
   "id": "462d4858",
   "metadata": {},
   "outputs": [],
   "source": [
    "# How many genomes have NCBI (RefSeq) annotations? (hint: --assembly-source)\n",
    "!\n"
   ]
  },
  {
   "cell_type": "markdown",
   "id": "507517eb",
   "metadata": {},
   "source": [
    "### Bonus questions:"
   ]
  },
  {
   "cell_type": "code",
   "execution_count": null,
   "id": "b74655c4",
   "metadata": {},
   "outputs": [],
   "source": [
    "## Take a look at the jq cheat sheet (link here) and try to build a jq query for the metadata\n",
    "!\n",
    "\n"
   ]
  },
  {
   "cell_type": "code",
   "execution_count": null,
   "id": "c114d6ee",
   "metadata": {},
   "outputs": [],
   "source": [
    "# Now look at the summary metadata for your organism of interest \n",
    "# (if you don't have a favorite, go with red panda, Ailurus fulgens, taxid: 9649)\n",
    "!\n"
   ]
  },
  {
   "cell_type": "code",
   "execution_count": null,
   "id": "62ff1beb",
   "metadata": {},
   "outputs": [],
   "source": [
    "# How many genomes?\n",
    "!\n",
    "\n"
   ]
  },
  {
   "cell_type": "code",
   "execution_count": null,
   "id": "308bd3d3",
   "metadata": {},
   "outputs": [],
   "source": [
    "# Assembly level breakdown\n",
    "!\n"
   ]
  },
  {
   "cell_type": "code",
   "execution_count": null,
   "id": "9bf4dbee",
   "metadata": {},
   "outputs": [],
   "source": [
    "# How many above contig N50 15Mb?\n",
    "!\n"
   ]
  },
  {
   "cell_type": "markdown",
   "id": "6c3bdb20",
   "metadata": {},
   "source": [
    "### Back to the main room\n"
   ]
  },
  {
   "cell_type": "markdown",
   "id": "6b9ce67e",
   "metadata": {},
   "source": [
    "### What is the difference/relationship between Genbank, RefSeq and Reference assemblies?\n",
    "\n",
    "<img src=\"./images/gca_gcf.png\" alt=\"ref\" />"
   ]
  },
  {
   "cell_type": "markdown",
   "id": "d66b33f7",
   "metadata": {},
   "source": [
    "### Data package\n",
    "\n",
    "We explored the `datasets summary` option, in which we had a chance to look at the summary metadata ***without*** downloading any files. In the next steps, we will look at the data packages, which contains the actual data files. \n",
    "<img src=\"./images/genome_data_package.png\" alt=\"data_package\" />"
   ]
  },
  {
   "cell_type": "code",
   "execution_count": null,
   "id": "fa1fd70d",
   "metadata": {},
   "outputs": [],
   "source": [
    "# Download all available GenBank assemblies for the genus Acromyrmex and save as genomes.zip\n",
    "!datasets download genome taxon acromyrmex --assembly-source genbank --filename genomes.zip --no-progressbar"
   ]
  },
  {
   "cell_type": "code",
   "execution_count": null,
   "id": "5f57b5e8",
   "metadata": {},
   "outputs": [],
   "source": [
    "# Unzip genomes.zip to the folder genomes\n",
    "!unzip genomes.zip -d genomes"
   ]
  },
  {
   "cell_type": "code",
   "execution_count": null,
   "id": "f3337168",
   "metadata": {},
   "outputs": [],
   "source": [
    "# Explore the folder structure of the folder genome with the command tree\n",
    "!tree genomes/"
   ]
  },
  {
   "cell_type": "markdown",
   "id": "77a0fe05",
   "metadata": {},
   "source": [
    "### Let's recap our goals\n",
    "\n",
    "We used `datasets` to download all the Genbank assemblies for the genus *Acromyrmex*. The next step is to download the gene *orco* (odorance receptor coreceptor) for the same genus. But first, let's learn more about how genes are organized at NCBI.\n",
    "\n",
    "<img src=\"./images/elmo_done1.png\" alt=\"done1\" style=\"width: 450px;\" />"
   ]
  },
  {
   "cell_type": "markdown",
   "id": "92c031a1",
   "metadata": {},
   "source": [
    "### GENES\n",
    "\n",
    "Independent of choosing `datasets download` or `datasets summary`, there are three options for retrieving gene information:\n",
    "- accession\n",
    "- gene-id\n",
    "- symbol\n",
    "\n",
    "<img src=\"./images/genes_op2.png\" style=\"width: 800px;\"/>\n",
    "\n",
    "hen choosing any of those three options, you will retrieve the gene information for the **reference** taxon. Like this:\n",
    "\n",
    "`datasets download gene accession XR_002738142.1`  \n",
    "`datasets download gene gene-id 101081937`  \n",
    "`datasets download gene symbol BRCA1 --taxon cat`  \n",
    "\n",
    "All three commands will download the same gene from the cat (<i>Felis catus</i>) <u>reference genome</u>. \n",
    "\n",
    "#### accession\n",
    "Unique identifier. Accession includes RefSeq accession DNA, RNA and protein sequences. Since it's unique, taxon is implied (aka there will never be two sequences from different taxa with the same accession number).\n",
    "\n",
    "#### gene-id\n",
    "Also an unique identifier. Every RefSeq genome annotated has a unique set of identifiers. For example: the gene-id for BRCA1 in human is 672, while in cat is 101081937.\n",
    "\n",
    "#### symbol\n",
    "Differently from accession and gene-id, gene symbol is not unique and means different things in different taxonomic groups. If using the symbol option, you should specify the species. The default option is human.\n",
    "\n",
    "**Remember**: both `summary` and `download` will return results for the **reference assembly** of a <u>single species</u>. If you want to download a curated set of the same gene for multiple taxa, you should use the option `ortholog`. We'll talk more about it later.\n",
    "\n",
    "Now let's take a look at a gene example:"
   ]
  },
  {
   "cell_type": "code",
   "execution_count": null,
   "id": "6e2b6fe8",
   "metadata": {},
   "outputs": [],
   "source": [
    "#Example: IFNG in human\n",
    "!datasets summary gene symbol ifng | jq .\n"
   ]
  },
  {
   "cell_type": "code",
   "execution_count": null,
   "id": "e748073a",
   "metadata": {},
   "outputs": [],
   "source": [
    "# how datasets deasl with synonyms\n",
    "!datasets summary gene symbol IFG | jq -r '.genes[].gene | {species: .taxname, symbol: .symbol, synonyms:.synonyms}'"
   ]
  },
  {
   "cell_type": "code",
   "execution_count": null,
   "id": "94d1bdbf",
   "metadata": {},
   "outputs": [],
   "source": [
    "#Example: IFNG in cat\n",
    "!datasets summary gene symbol ifng --taxon \"felis catus\""
   ]
  },
  {
   "cell_type": "markdown",
   "id": "1d69331f",
   "metadata": {},
   "source": [
    "### Back to ants\n",
    "We will download the gene *orco* for the species *Acromyrmex echinatior*. We will use the gene-id 105147775 instead of the symbol.\n",
    "The reason for it is that sometimes even when a known gene is characterized in a species, the gene symbol is not necessarily propagated."
   ]
  },
  {
   "cell_type": "code",
   "execution_count": null,
   "id": "0d5bb16e",
   "metadata": {},
   "outputs": [],
   "source": [
    "# Using gene-id to retrieve gene information\n",
    "!datasets summary gene gene-id 105147775 | jq '.genes[].gene | {gene_description: .description, gene_id: .gene_id, symbol: .symbol, species: .taxname}'"
   ]
  },
  {
   "cell_type": "code",
   "execution_count": null,
   "id": "91058e44",
   "metadata": {},
   "outputs": [],
   "source": [
    "# if we try to retrieve metadata information for this gene using the symbol orco, what happens?\n",
    "!datasets summary gene symbol orco --taxon \"acromyrmex echinatior\""
   ]
  },
  {
   "cell_type": "code",
   "execution_count": null,
   "id": "e08b9763",
   "metadata": {},
   "outputs": [],
   "source": [
    "# Download the gene data package for the gene-id 105147775 (*orco* in Acromyrmex echinatior)\n",
    "!datasets download gene gene-id 105147775 --filename gene.zip --no-progressbar"
   ]
  },
  {
   "cell_type": "code",
   "execution_count": null,
   "id": "32ff018d",
   "metadata": {},
   "outputs": [],
   "source": [
    "#Unzip the file\n",
    "!unzip gene.zip -d gene"
   ]
  },
  {
   "cell_type": "code",
   "execution_count": null,
   "id": "9ab71ee8",
   "metadata": {},
   "outputs": [],
   "source": [
    "#Explore the data package structure using tree\n",
    "!tree gene"
   ]
  },
  {
   "cell_type": "markdown",
   "id": "970bc941",
   "metadata": {},
   "source": [
    "Now we are going to take advantage of the fact that we are using a Jupyter Notebook and use the package `pandas` to look at the gene data table"
   ]
  },
  {
   "cell_type": "code",
   "execution_count": null,
   "id": "255253a9",
   "metadata": {},
   "outputs": [],
   "source": [
    "import pandas as pd                                                        #load pandas to this notebook\n",
    "gene_orco = pd.read_csv('gene/ncbi_dataset/data/data_table.tsv', sep='\\t') #use pandas to import the data_table.tsv\n",
    "gene_orco                                                                  #visualize the data table as the object gene_orco"
   ]
  },
  {
   "cell_type": "markdown",
   "id": "af8f7dde",
   "metadata": {},
   "source": [
    "### Exercises\n",
    "\n",
    "1. Look for the summary data for a gene of interest (check the [etherpad]() for suggestions)\n",
    "2. What is the gene location?\n",
    "3. What is the gene range?\n",
    "4. Now, download a list of genes using the file genes.txt (provided). Save it as gene_list.zip\n",
    "5. Unzip gene_list.zip and explore the folder structure\n",
    "6. How many fasta files?"
   ]
  },
  {
   "cell_type": "code",
   "execution_count": null,
   "id": "a4250b69",
   "metadata": {},
   "outputs": [],
   "source": [
    "# Summary data\n",
    "!\n"
   ]
  },
  {
   "cell_type": "code",
   "execution_count": null,
   "id": "60d2f31e",
   "metadata": {},
   "outputs": [],
   "source": [
    "# Gene location\n",
    "!\n"
   ]
  },
  {
   "cell_type": "code",
   "execution_count": null,
   "id": "a2d483de",
   "metadata": {},
   "outputs": [],
   "source": [
    "# Gene range\n",
    "!\n"
   ]
  },
  {
   "cell_type": "code",
   "execution_count": null,
   "id": "0ed6c85b",
   "metadata": {},
   "outputs": [],
   "source": [
    "# Download a list of genes\n",
    "! --filename gene_list.zip\n"
   ]
  },
  {
   "cell_type": "code",
   "execution_count": null,
   "id": "bfa13ee9",
   "metadata": {},
   "outputs": [],
   "source": [
    "# Explore the folder structure\n",
    "!\n"
   ]
  },
  {
   "cell_type": "code",
   "execution_count": null,
   "id": "cde5b036",
   "metadata": {},
   "outputs": [],
   "source": [
    "# How many genes were downloaded?\n",
    "!\n"
   ]
  },
  {
   "cell_type": "code",
   "execution_count": null,
   "id": "f4dfb0a2",
   "metadata": {},
   "outputs": [],
   "source": [
    "# How many fasta files in the data package?\n",
    "!\n"
   ]
  },
  {
   "cell_type": "markdown",
   "id": "c908cc8b",
   "metadata": {},
   "source": [
    "### Orthologs\n",
    "\n",
    "The options to retrieve ortholog sets are the same as those for genes. We'll go over the differences when usign each option:\n",
    "\n",
    "- accession\n",
    "- gene-id\n",
    "- symbol\n",
    "\n",
    "<img src=\"./images/ortholog.png\" style=\"width: 800px;\" />\n",
    "\n",
    "When choosing any of those three options, you will download the **full** ortholog set to which they belong (unless you use additional filtering. We'll cover it below). Like this:\n",
    "\n",
    "`datasets download ortholog accession XR_002738142.1`\n",
    "`datasets download ortholog gene-id 101081937`\n",
    "`datasets download ortholog symbol BRCA1 --taxon cat`\n",
    "\n",
    "All three commands will download the **same** ortholog set. \n",
    "\n",
    "#### accession\n",
    "Unique identifier. Accession includes RefSeq accession DNA, RNA and protein sequences. Since it's unique, taxon is implied (aka there will never be two sequences from different taxa with the same accession number).\n",
    "\n",
    "#### gene-id\n",
    "Also an unique identifier. Every RefSeq genome annotated has a unique set of identifiers. For example: the gene-id for BRCA1 in human is 672, while in cat is 101081937. You can use either one (672 or 101081937) to get the same vertebrate BRCA1 ortholog set.\n",
    "\n",
    "#### symbol\n",
    "Differently from accession and gene-id, gene symbol is not unique and means different things in different taxonomic groups. For example: the P53 ortholog set in vertebrates is different from the insect set. If using the symbol option, you should specify the taxonomic group. The default option is human. Note that if you want ortholog sets from multiple vertebrate species, you might end up downloading the same ortholog set multiple times. Like this: \n",
    "\n",
    "`datasets download ortholog symbol brca1 --taxon cat`  \n",
    "`datasets download ortholog symbol brca1 --taxon chicken`  \n",
    "`datasets download ortholog symbol brca1 --taxon \"chelonia mydas\"`  \n",
    "\n",
    "If that's the case, how to you filter the ortholog set to include *only* your taxonomic group of interest?\n",
    "\n",
    "### Applying a taxonomic filter to the ortholog set\n",
    "\n",
    "For the orthologs, `datasets` provides the flag `--taxon-filter`, which allows the user to restrict the summary or download to one or multiple taxonomic groups.  `--taxon` and `--taxon-filter` have different effects on the data package/summary output.A few examples:\n",
    "\n",
    "- `datasets summary ortholog symbol brca1 --taxon-filter \"felis catus\"`  \n",
    "Prints a json metadata summary of the gene brca1 for the domestic cat. \n",
    "We did not specify a `--taxon` because the default is human, and Felidae and human are part of the same brca1 ortholog set.   \n",
    "\n",
    "  \n",
    "\n",
    "- `datasets summary ortholog symbol brca1 --taxon \"felis catus\"`  \n",
    "Even though this option looks almost the same as the one above, the result is *very different*. Here, we're asking `datasets` to find the ortholog set to which the gene brca1 in the domestic cat belongs. And `datasets` will download the <u>entire</u> ortholog set, not only the sequences for the domestic cat.\n",
    "\n",
    "\n",
    "- `datasets summary ortholog symbol brca1 --taxon \"felis catus\" --taxon-filter \"felis catus\"`  \n",
    "gives you the same result as `datasets summary ortholog symbol brca1 --taxon-filter \"felis catus\"`"
   ]
  },
  {
   "cell_type": "markdown",
   "id": "3673c066",
   "metadata": {},
   "source": [
    "### Exercise\n",
    "- download the ortholog data package and save it with the name ortholog.zip\n",
    "- unzip it to the folder ortholog\n",
    "- look at the files\n",
    "\n",
    "Without looking below, how would you download the *orco* dataset for all ants (Formicidae)? Here's some information to help you with that:\n",
    "\n",
    "- gene symbol: orco\n",
    "- gene-id in *Drosophila melanogaster*: 40650\n",
    "- gene-id in *Acromyrmer echinatior*: 105147775\n",
    "- target taxon: Formicidae"
   ]
  },
  {
   "cell_type": "code",
   "execution_count": 6,
   "id": "4040acda",
   "metadata": {},
   "outputs": [],
   "source": [
    "# download the orco ortholog set for ants (Formicidae)\n",
    "!\n"
   ]
  },
  {
   "cell_type": "code",
   "execution_count": null,
   "id": "c295a289",
   "metadata": {},
   "outputs": [],
   "source": [
    "# unzip it to the folder ortholog\n",
    "!\n"
   ]
  },
  {
   "cell_type": "code",
   "execution_count": null,
   "id": "5f22996a",
   "metadata": {},
   "outputs": [],
   "source": [
    "#Explore the folder structure\n",
    "!\n"
   ]
  },
  {
   "cell_type": "code",
   "execution_count": null,
   "id": "edc2c564",
   "metadata": {},
   "outputs": [],
   "source": [
    "# Create an object called ortho_table using pandas\n",
    "ortho_table = pd.read_csv(\"orco_ortholog/ncbi_dataset/data/data_table.tsv\", sep='\\t')\n",
    "ortho_table"
   ]
  },
  {
   "cell_type": "markdown",
   "id": "ad41374d",
   "metadata": {},
   "source": [
    "## What have we done so far?\n",
    "- Explored metadata for all ant genomes\n",
    "- Downloaded genomes for the panamanian leaf cutter ant\n",
    "- Downloaded the orco gene for Acromyrmex echinatior\n",
    "- Downloaded the ortholog set for all ants for the orco gene\n",
    "\n",
    "<img src=\"./images/elmo_done.png\" />"
   ]
  },
  {
   "cell_type": "markdown",
   "id": "8a89ad6f",
   "metadata": {},
   "source": [
    "### Here's what we are showing you now:\n",
    "- create BLAST database for each genome\n",
    "- BLAST the *orco* gene sequence against the genomes database and extract the matching regions\n",
    "- multiple sequence alignment of the blast matches and the ortholog sequences\n",
    "- generate a approximate maximum likelihood tree using FastTree"
   ]
  },
  {
   "cell_type": "code",
   "execution_count": null,
   "id": "b1ce6599",
   "metadata": {},
   "outputs": [],
   "source": [
    "# Change directories to the folder blastdb\n",
    "%cd blastdb/"
   ]
  },
  {
   "cell_type": "code",
   "execution_count": null,
   "id": "2925630e",
   "metadata": {},
   "outputs": [],
   "source": [
    "# Extract tax id for each species:\n",
    "!dataformat tsv genome --fields organism-name,tax-id,assminfo-accession --package ../acromyrmex.zip "
   ]
  },
  {
   "cell_type": "code",
   "execution_count": null,
   "id": "a15f18f5",
   "metadata": {},
   "outputs": [],
   "source": [
    "# Create a blast database for each genome\n",
    "!makeblastdb -dbtype nucl -in ../genomes/ncbi_dataset/data/GCA_000204515.1/unplaced.scaf.fna -taxid 103372 -out Aechinatior\n",
    "!makeblastdb -dbtype nucl -in ../genomes/ncbi_dataset/data/GCA_017607455.1/GCA_017607455.1_ASM1760745v1_genomic.fna -taxid 230686 -out Ainsinuator \n",
    "!makeblastdb -dbtype nucl -in ../genomes/ncbi_dataset/data/GCA_017607545.1/GCA_017607545.1_ASM1760754v1_genomic.fna -taxid 2715315 -out Acharruanus\n",
    "!makeblastdb -dbtype nucl -in ../genomes/ncbi_dataset/data/GCA_017607565.1/GCA_017607565.1_ASM1760756v1_genomic.fna -taxid 230685 -out Aheyeri"
   ]
  },
  {
   "cell_type": "markdown",
   "id": "5f3e77fd",
   "metadata": {},
   "source": [
    "Let's go over the BLAST command:\n",
    "```\n",
    "makeblastdb \\\n",
    "-dbtype nucl \\\n",
    "-in ../genomes/ncbi_dataset/data/GCA_017607565.1/GCA_017607565.1_ASM1760756v1_genomic.fna \\\n",
    "-taxid 230685 \\\n",
    "-out Aheyeri\n",
    "```"
   ]
  },
  {
   "cell_type": "markdown",
   "id": "1673289d",
   "metadata": {},
   "source": [
    "Now we want to create an alias that includes the four BLAST databases we just created. We will call this database <i>Acromyrmex</i>."
   ]
  },
  {
   "cell_type": "code",
   "execution_count": null,
   "id": "ad0961bd",
   "metadata": {},
   "outputs": [],
   "source": [
    "# Create an alias under which the four genome databases can be called\n",
    "!blastdb_aliastool -dbtype nucl -title acromyrmex -out acromyrmex -dblist \"Acharruanus Aechinatior Aheyeri Ainsinuator\""
   ]
  },
  {
   "cell_type": "markdown",
   "id": "fe19399d",
   "metadata": {},
   "source": [
    "Time for our BLAST search. We will search for the gene *orco* matches in the genomes (the databases we just created). WE will be very stringent on our search, and will use an output that allows for it to be converted into other formats. Here's the command breakdown:\n",
    "\n",
    "---\n",
    "```\n",
    "blastn \\                                     # Calls the program BLASTN (nucleotide to nucleotide search)\n",
    "-db acromyrmex \\                             # BLAST database to be used\n",
    "-query ../gene/ncbi_dataset/data/gene.fna \\  # query: in our example, orco gene sequence\n",
    "-evalue 1e-50 \\                              # e-value: number of hits one would expect to see by chance\n",
    "-outfmt 11 \\                                 # output format: asn.1\n",
    "-max_hsps 1 \\                                # Maximum number of HSPs (alignments) to keep \n",
    "-out orco_acromyrmex_1e-50.asn               # output file\n",
    "```\n",
    "---"
   ]
  },
  {
   "cell_type": "code",
   "execution_count": null,
   "id": "b39d7eb6",
   "metadata": {},
   "outputs": [],
   "source": [
    "%%bash\n",
    "# BLASTN search\n",
    "\n",
    "blastn \\\n",
    "-db acromyrmex \\\n",
    "-query ../gene/ncbi_dataset/data/gene.fna \\\n",
    "-evalue 1e-50 \\\n",
    "-outfmt 11 \\\n",
    "-max_hsps 1 \\\n",
    "-out orco_acromyrmex_1e-50.asn"
   ]
  },
  {
   "cell_type": "markdown",
   "id": "fcd73708",
   "metadata": {},
   "source": [
    "Now we will convert our output file using a program called `blast_formatter` (included in the BLAST package). We could have created an output file in the desired format, but if we ever need the same BLAST results in another format, we wouldn't be able to easily make the conversion.\n"
   ]
  },
  {
   "cell_type": "code",
   "execution_count": null,
   "id": "47c7e81f",
   "metadata": {},
   "outputs": [],
   "source": [
    "%%bash\n",
    "# Covert the asn.1 output to tabular (output format 6)\n",
    "\n",
    "blast_formatter \\\n",
    "-archive orco_acromyrmex_1e-50.asn \\\n",
    "-outfmt '6 sseqid sstart send evalue length staxid ssciname' > orco_acromyrmex_1e-50.tsv"
   ]
  },
  {
   "cell_type": "markdown",
   "id": "13b21c9f",
   "metadata": {},
   "source": [
    "Using `pandas` again, we will create an object with the tsv file we just created from the BLAST output, so we can take a look at our results."
   ]
  },
  {
   "cell_type": "code",
   "execution_count": null,
   "id": "ba539fd4",
   "metadata": {},
   "outputs": [],
   "source": [
    "# Create a table and visualize the BLAST results\n",
    "\n",
    "blast_table = pd.read_csv('orco_acromyrmex_1e-50.tsv', sep='\\t', header=None)\n",
    "blast_table"
   ]
  },
  {
   "cell_type": "markdown",
   "id": "4645ea7f",
   "metadata": {},
   "source": [
    "#### Converting from BLAST to fasta\n",
    "\n",
    "Now we are going to use some \"tricks\" (not really, just some good old bash scripting) to extract fasta sequences from the BLAST output. We will be using `blast_formatter` again and we'll do everything into multiple steps so we can all understand what's going on. "
   ]
  },
  {
   "cell_type": "code",
   "execution_count": null,
   "id": "d09fa292",
   "metadata": {},
   "outputs": [],
   "source": [
    "%%bash\n",
    "# First, let's extract the following fields from the top 4 results: \n",
    "# subject scientific name (ssciname)\n",
    "# subject sequence ID (sseqid) and \n",
    "# subject sequence (sseq)\n",
    "\n",
    "blast_formatter \\\n",
    "-archive orco_acromyrmex_1e-50.asn \\\n",
    "-outfmt '6 ssciname sseqid sseq' \\\n",
    "-max_target_seqs 4"
   ]
  },
  {
   "cell_type": "code",
   "execution_count": null,
   "id": "127b6fec",
   "metadata": {},
   "outputs": [],
   "source": [
    "%%bash\n",
    "#Same command from above, but now were pipping the output into a awk comamnd. The command explanation is in the Etherpad\n",
    "\n",
    "blast_formatter \\\n",
    "-archive orco_acromyrmex_1e-50.asn \\\n",
    "-outfmt '6 ssciname sseqid sseq' \\\n",
    "-max_target_seqs 4 | awk 'BEGIN{FS=\"\\t\"; OFS=\"\\n\"}{gsub(/ /, \"_\", $1);gsub(/-/, \"\", $3); print \">\"$1\"_\"$2,$3}'"
   ]
  },
  {
   "cell_type": "code",
   "execution_count": null,
   "id": "6b0fcd5b",
   "metadata": {},
   "outputs": [],
   "source": [
    "%%bash\n",
    "# Now let's save it to a file called acromyrmex_orco.fasta\n",
    "\n",
    "blast_formatter \\\n",
    "-archive orco_acromyrmex_1e-50.asn \\\n",
    "-outfmt '6 ssciname sseqid sseq' \\\n",
    "-max_target_seqs 4 | awk 'BEGIN{FS=\"\\t\"; OFS=\"\\n\"}{gsub(/ /, \"_\", $1);gsub(/-/, \"\", $3); print \">\"$1\"_\"$2,$3}' > ../acromyrmex_orco.fasta"
   ]
  },
  {
   "cell_type": "code",
   "execution_count": null,
   "id": "ffb549f9",
   "metadata": {},
   "outputs": [],
   "source": [
    "#Now let's go back to our home directory and revise what we've done so far.\n",
    "%cd ~"
   ]
  },
  {
   "cell_type": "markdown",
   "id": "d0f35be1",
   "metadata": {},
   "source": [
    "<img src=\"./images/elmo_blast_done.png\"/>"
   ]
  },
  {
   "cell_type": "code",
   "execution_count": null,
   "id": "2a0d770e",
   "metadata": {},
   "outputs": [],
   "source": [
    "# Extract the seqids from the gene ortholog fasta and remove the spaces\n",
    "!grep \">\" ortholog/ncbi_dataset/data/gene.fna | sed 's/ /,/g' > ortholog_seqid.txt"
   ]
  },
  {
   "cell_type": "code",
   "execution_count": null,
   "id": "2f62c1b2",
   "metadata": {},
   "outputs": [],
   "source": [
    "%%bash\n",
    "#Create a mapping file with the original name in the column 1 and a shortened name on column 2\n",
    "cat ortholog_seqid.txt | while read line; do\n",
    "new=$( echo $line | awk 'BEGIN {FS=\",\"; OFS=\"_\"}{gsub(/\\[organism\\=/, \"\", $3);gsub(/]/, \"\", $4);gsub(/\\[GeneID\\=|\\]/, \"\", $5)} ;{print substr($3,0,1)$4,$5}'); \n",
    "old=$( echo $line | sed 's/,/\\_/g;s/>//g')\n",
    "printf \"${old}\\t${new}\\n\" >> name_map.tsv; \n",
    "done"
   ]
  },
  {
   "cell_type": "code",
   "execution_count": null,
   "id": "c78ab225",
   "metadata": {},
   "outputs": [],
   "source": [
    "import pandas as pd\n",
    "name_map = pd.read_csv('name_map.tsv', sep='\\t', header=None)\n",
    "name_map"
   ]
  },
  {
   "cell_type": "code",
   "execution_count": null,
   "id": "006779c3",
   "metadata": {},
   "outputs": [],
   "source": [
    "#Copy the ortholog dataset fasta\n",
    "!cp ortholog/ncbi_dataset/data/gene.fna ortholog_gene.fna"
   ]
  },
  {
   "cell_type": "code",
   "execution_count": null,
   "id": "66454b4c",
   "metadata": {},
   "outputs": [],
   "source": [
    "#Remove spaces in the fasta sequnce names\n",
    "!sed 's/ /_/g' ortholog_gene.fna > ortholog_gene_nospaces.fna"
   ]
  },
  {
   "cell_type": "code",
   "execution_count": null,
   "id": "9e5342cb",
   "metadata": {},
   "outputs": [],
   "source": [
    "!head -n1 ortholog_gene_nospaces.fna"
   ]
  },
  {
   "cell_type": "code",
   "execution_count": null,
   "id": "01913b3b",
   "metadata": {},
   "outputs": [],
   "source": [
    "%%bash\n",
    "#Replace the names in the fasta file\n",
    "cat ortholog_gene_nospaces.fna | seqkit replace \\\n",
    "--kv-file  <(cut -f 1,2 name_map.tsv) \\\n",
    "--pattern \"^(.*)\" --replacement \"{kv}\" > ortholog_gene_final.fna"
   ]
  },
  {
   "cell_type": "code",
   "execution_count": null,
   "id": "0926d5e3",
   "metadata": {},
   "outputs": [],
   "source": [
    "!grep \">\" ortholog_gene_final.fna"
   ]
  },
  {
   "cell_type": "code",
   "execution_count": null,
   "id": "6a2f4830",
   "metadata": {},
   "outputs": [],
   "source": [
    "#Concatenate sequences\n",
    "!cat ortholog_gene_final.fna acromyrmex_orco.fasta > orco_all.fasta"
   ]
  },
  {
   "cell_type": "code",
   "execution_count": null,
   "id": "38d22cd8",
   "metadata": {},
   "outputs": [],
   "source": [
    "#align sequences with mafft\n",
    "!time mafft orco_all.fasta > orco_all_aln.fasta"
   ]
  },
  {
   "cell_type": "code",
   "execution_count": null,
   "id": "824aae1e",
   "metadata": {},
   "outputs": [],
   "source": [
    "#Generate a phylogeny using fasttree\n",
    "!time FastTree -nt orco_all_aln.fasta > orco.tree"
   ]
  },
  {
   "cell_type": "code",
   "execution_count": null,
   "id": "ed40707b",
   "metadata": {},
   "outputs": [],
   "source": [
    "import toytree"
   ]
  },
  {
   "cell_type": "code",
   "execution_count": null,
   "id": "0044312d",
   "metadata": {},
   "outputs": [],
   "source": [
    "orco_tree = toytree.tree(\"orco.tree\")\n",
    "orco_tree_rooted = orco_tree.root(names=[\"Obrunneus_116854080\",\"Dquadriceps_106748868\",\"Hsaltator_105183395\"])\n",
    "orco_tree_rooted.draw(tree_style='d')"
   ]
  },
  {
   "cell_type": "markdown",
   "id": "6c13030e",
   "metadata": {},
   "source": [
    "## PART 2: large datasets (GENOMES)"
   ]
  },
  {
   "cell_type": "code",
   "execution_count": null,
   "id": "641aef51",
   "metadata": {},
   "outputs": [],
   "source": [
    "# Download a dehydrated data package for all acromyrmex GenBank genomes\n",
    "!time datasets download genome taxon acromyrmex --assembly-source genbank --dehydrated --filename acromyrmex-dry.zip --no-progressbar"
   ]
  },
  {
   "cell_type": "code",
   "execution_count": null,
   "id": "9d794025",
   "metadata": {},
   "outputs": [],
   "source": [
    "# Read the dataformat help menu. This is a great way to get a list of the available metadata fields.\n",
    "!dataformat tsv genome -h"
   ]
  },
  {
   "cell_type": "code",
   "execution_count": null,
   "id": "4074fd9c",
   "metadata": {},
   "outputs": [],
   "source": [
    "%%bash\n",
    "# Use dataformat to look at the genome data package for ants\n",
    "# We can use this information to select a \"best\" genome--we'll pick one with the highest contigN50 value\n",
    "dataformat tsv genome \\\n",
    "--fields organism-name,assminfo-accession,assmstats-contig-n50,assminfo-level,assminfo-submission-date,assminfo-submitter \\\n",
    "--package acromyrmex-dry.zip"
   ]
  },
  {
   "cell_type": "code",
   "execution_count": null,
   "id": "50a28140",
   "metadata": {},
   "outputs": [],
   "source": [
    "# Next we have to unzip the dehydrated package\n",
    "!unzip acromyrmex-dry.zip -d acromyrmex-dry "
   ]
  },
  {
   "cell_type": "code",
   "execution_count": null,
   "id": "973ffa9b",
   "metadata": {},
   "outputs": [],
   "source": [
    "# Let's get a list of files that are available for download \n",
    "!datasets rehydrate --directory acromyrmex-dry/ --list"
   ]
  },
  {
   "cell_type": "code",
   "execution_count": null,
   "id": "2daf20e5",
   "metadata": {},
   "outputs": [],
   "source": [
    "# Let's only get the protein sequences for the genome with the highest contigN50 value\n",
    "!datasets rehydrate --directory acromyrmex-dry/ --match GCA_000204515.1/protein.faa --no-progressbar"
   ]
  },
  {
   "cell_type": "code",
   "execution_count": null,
   "id": "ff56a582",
   "metadata": {},
   "outputs": [],
   "source": [
    "# Take a peek at the downloaded protein file\n",
    "!cat acromyrmex-dry/ncbi_dataset/data/GCA_000204515.1/protein.faa | head"
   ]
  },
  {
   "cell_type": "code",
   "execution_count": null,
   "id": "58ce2486",
   "metadata": {},
   "outputs": [],
   "source": [
    "!datasets rehydrate -h"
   ]
  },
  {
   "cell_type": "markdown",
   "id": "7f69f702",
   "metadata": {},
   "source": [
    "## Exercise\n",
    "* Download a dehydrated package for all *Mycobacterium tuberculosis* genomes that meet all of the following criteria (hint: use flags)\n",
    "    1. submitted/released in 2021\n",
    "    2. annotated\n",
    "    3. assembly level of complete_genome\n",
    "* use dataformat to view the sequencing technology used for each of these genomes\n",
    "* use rehydrate to get the genome sequence for one genome generated using Oxford Nanopore"
   ]
  },
  {
   "cell_type": "code",
   "execution_count": null,
   "id": "1ca7bc51",
   "metadata": {},
   "outputs": [],
   "source": [
    "# Download a dehydrated genome data package"
   ]
  },
  {
   "cell_type": "code",
   "execution_count": null,
   "id": "94ca3308",
   "metadata": {},
   "outputs": [],
   "source": [
    "# Unzip the data package"
   ]
  },
  {
   "cell_type": "code",
   "execution_count": null,
   "id": "78bcf9f1",
   "metadata": {},
   "outputs": [],
   "source": [
    "# Use dataformat to generate a table that includes sequencing technology"
   ]
  },
  {
   "cell_type": "code",
   "execution_count": null,
   "id": "d3a4727d",
   "metadata": {},
   "outputs": [],
   "source": [
    "# Use rehydrate to get genome sequence generated using Oxford Nanopore"
   ]
  }
 ],
 "metadata": {
  "kernelspec": {
   "display_name": "Python 3 (ipykernel)",
   "language": "python",
   "name": "python3"
  },
  "language_info": {
   "codemirror_mode": {
    "name": "ipython",
    "version": 3
   },
   "file_extension": ".py",
   "mimetype": "text/x-python",
   "name": "python",
   "nbconvert_exporter": "python",
   "pygments_lexer": "ipython3",
   "version": "3.7.11"
  }
 },
 "nbformat": 4,
 "nbformat_minor": 5
}
