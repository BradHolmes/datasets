{
 "cells": [
  {
   "cell_type": "markdown",
   "metadata": {
    "slideshow": {
     "slide_type": "notes"
    }
   },
   "source": [
    "# Use NCBI Datasets to Retrieve Information on Genes\n",
    "\n",
    "The objective of this notebook is to use the `ncbi.datasets` python library to download and extract gene data.\n",
    "\n",
    "In this example, we will get information about the Gonadotropin Releasing Hormone Receptor (GNRHR) gene family, which plays a key role in sexual development and function across vertebrates.\n",
    "\n",
    "This notebook will demonstrate the following features that are available through NCBI Datasets for retrieving gene data:  \n",
    "1. Getting gene metadata as a JSON-formatted gene descriptor, by specifying either an NCBI Gene ID or gene symbol  \n",
    "2. Downloading gene datasets, which include gene, transcript, and protein sequences, and a data report (gene metadata in a more human-readable yaml format)\n",
    "\n",
    "Gonadotropin Releasing Hormone (GnRH) binds and activates the GnRH receptor (GnRHR) to stimulate secretion of follicle stimulating hormone (FSH) and luteinizing hormones (LH). These hormones in turn regulate repoductive development and function. \n",
    "\n",
    "While the role of GnRH in reproduction is conserved across vertebrates, GnRH receptor copy number is variable. \n",
    "In humans and some primates, there are two GnRHR genes, while in fish and amphibians, three GnRHR genes have been identified, with additional duplications observed in some fish. Additional receptors and GnRH ligands suggests that new functions could have been acquired by the additional gene copies[1].\n",
    "\n",
    "[1] Moncaut N, Somoza G, Power DM, Canário AV. Five gonadotrophin-releasing hormone receptors in a teleost fish: isolation, tissue distribution and phylogenetic relationships. J Mol Endocrinol. 2005 Jun;34(3):767-79. doi: 10.1677/jme.1.01757. PMID: 15956346.\n"
   ]
  },
  {
   "cell_type": "markdown",
   "metadata": {
    "slideshow": {
     "slide_type": "notes"
    }
   },
   "source": [
    "First we will load the libraries necessary to run this notebook. This includes:\n",
    "1. the ncbi.datasets library \n",
    "2. pandas, the python data analysis library and \n",
    "3. pprint, which allows \"pretty-printing\" of Python data structures"
   ]
  },
  {
   "cell_type": "code",
   "execution_count": 1,
   "metadata": {
    "slideshow": {
     "slide_type": "skip"
    }
   },
   "outputs": [],
   "source": [
    "# load all libraries\n",
    "import pandas as pd\n",
    "import ncbi.datasets\n"
   ]
  },
  {
   "cell_type": "markdown",
   "metadata": {
    "slideshow": {
     "slide_type": "slide"
    }
   },
   "source": [
    "## Get gene descriptors for three human GnRHR genes \n",
    "First we're going to get gene descriptors (metadata) for three human GnRHR genes, GNRHR, GNRHR2, and GNRHR2P1, by specifying the NCBI Gene IDs for these genes. \n",
    "\n",
    "Gene descriptors provide gene metadata in a machine-readable JSON format.\n",
    "\n",
    "Gene descriptors contain a lot of interesting metadata and it's easy to pull out just the fields that you're interested in. As an example, here we'll show gene symbols, chromosome number and the corresponding SwissProt accession for the three genes."
   ]
  },
  {
   "cell_type": "code",
   "execution_count": 1,
   "metadata": {
    "slideshow": {
     "slide_type": "slide"
    }
   },
   "outputs": [],
   "source": [
    "# start a datasets gene API instance\n",
    "api_client = ncbi.datasets.ApiClient()\n",
    "ds_gene_instance = ncbi.datasets.GeneDatasetDescriptorsApi(api_client)\n",
    "\n",
    "# Retrieve descriptors for three known gene-ids.\n",
    "gene_descriptors = ds_gene_instance.gene_descriptors_by_id([2798, 114814, 404718])\n",
    "\n",
    "# Look up the symbols for each gene\n",
    "def report_on_gene_descriptors(gene_descriptors, leader='\\t'):\n",
    "    if gene_descriptors.errors:\n",
    "        for error in gene_descriptors.errors:\n",
    "            print(f'{leader}Error for: ({\",\".join(error.invalid_identifiers)})')\n",
    "\n",
    "    if not gene_descriptors.genes:\n",
    "        print(f'{leader}No descriptors found')\n",
    "        return\n",
    "\n",
    "    for gene in gene_descriptors.genes:\n",
    "        print(f'{leader}{gene.gene_id} -> {gene.symbol} (Chromosome(s): {gene.chromosomes}, SwissProt: {gene.swiss_prot_accessions})')\n",
    "\n",
    "report_on_gene_descriptors(gene_descriptors)"
   ]
  },
  {
   "cell_type": "markdown",
   "metadata": {},
   "source": [
    "## Get gene descriptors for GNRHR genes throughout primates\n",
    "Now we're going to get gene descriptors (metadata) for a large set of GnRHR genes in primates. To get these gene descriptors we can specify gene symbol and species-level Tax IDs.  \n",
    "In order to get these species-level Tax ID, we're going to use the Datasets taxtree API to get the species-level TaxIDs under the taxonomic rank of primate.\n",
    "We're going to search for two symbols, GNRHR and GNRHR2. Interestingly, very few primates have an annotated gene ortholog of human GNRHR2, and this is reflected in the results. In fact, the only non-human primates for which we can find GNRHR2 is in Rhesus monkey (Macaca mulatta) and white-tufted-ear marmoset.\n",
    "For those primates without an apparent GNRHR2, it's also possible that we might miss the gene because of inconsistent (or missing) nomenclature.\n",
    "In a future iteration of Datasets, we plan to give users access to orthology information that would allow retrieval of a more comprehensive set of gene homologs across organisms."
   ]
  },
  {
   "cell_type": "code",
   "execution_count": 1,
   "metadata": {},
   "outputs": [],
   "source": [
    "#Get gene descriptors by gene symbol + organism name for all primates\n",
    "ds_tax_instance = ncbi.datasets.TaxTreeApi(api_client)\n",
    "primate_tax_id = 9443\n",
    "\n",
    "def species_tax_ids(tree):\n",
    "    \n",
    "    if tree.children:\n",
    "        for child in tree.children:\n",
    "            yield from species_tax_ids(child)\n",
    "        \n",
    "    if tree.rank == 'SPECIES':\n",
    "        yield tree.tax_id, tree.sci_name, tree.common_name\n",
    "\n",
    "primate_tax_tree = ds_tax_instance.tax_tree_by_tax_id(primate_tax_id)\n",
    "\n",
    "symbols = ['GNRHR', 'GNRHR2']\n",
    "for tax_id, sci_name, common_name in species_tax_ids(primate_tax_tree):\n",
    "    print(f'Fetch for {common_name} ({sci_name})')\n",
    "    gene_descriptors = ds_gene_instance.gene_descriptors_by_tax_and_symbol(symbol=symbols, tax_token=tax_id)\n",
    "    report_on_gene_descriptors(gene_descriptors)\n"
   ]
  },
  {
   "cell_type": "markdown",
   "metadata": {
    "slideshow": {
     "slide_type": "slide"
    }
   },
   "source": [
    "## Get gene descriptors for GNRHR genes across vertebrates and build a table\n",
    "\n",
    "Let's expand the taxonomic scope even further, and look at a selection of vertebrates.\n",
    "\n",
    "We'll use a pre-determined list of Gene IDs to get gene descriptors for these genes and build an easily readable table with key information about these genes."
   ]
  },
  {
   "cell_type": "code",
   "execution_count": 1,
   "metadata": {
    "slideshow": {
     "slide_type": "slide"
    }
   },
   "outputs": [],
   "source": [
    "# extract fields of interest from descriptors class to build a table\n",
    "cols = '''\n",
    "common_name\n",
    "taxonomic_name\n",
    "symbol\n",
    "type\n",
    "chromosome\n",
    "num_transcripts\n",
    "ensembl_id\n",
    "omim_id\n",
    "uniprot_id\n",
    "nomenclature_id\n",
    "nomenclature_auth\n",
    "genome_coordinates\n",
    "'''\n",
    "cols = cols.split('\\n')[1:-1]\n",
    "\n",
    "def _range_repr(range):\n",
    "    ret = []\n",
    "    for interval in range:\n",
    "        ret.append(f'{interval.begin}_{interval.end}')\n",
    "    return ','.join(ret)\n",
    "\n",
    "def _ranges_repr(ranges):\n",
    "    ret = []\n",
    "    for range in ranges:\n",
    "        ret.append(f'{range.accession_version}:{_range_repr(range.range)}')\n",
    "    return ','.join(ret)\n",
    "\n",
    "# specify genes of interest and retrieve descriptors\n",
    "gene_ids = [2798, 114814, 404718, 14715, 109324103, 109309182, 281798, 395368, 403718, 427517, 471226, 7226731, 100001586, 100135415, 100135416, 100135417, 100136028, 100270671, 100270672, 101318246, 101932446, 101935915, 101953943, 102193667, 102202954, 102205592, 102346610, 102363373, 102364206, 102366752, 102536567, 102687824, 102694185, 102770612, 103899900, 103899926, 105916404, 105919697, 105934126, 108392639, 109987527, 109994050, 109999298, 110488224, 110495632, 110496352, 110513414, 110520912, 112994411, 112996301, 114645297, 114667483]\n",
    "gene_descriptors = ds_gene_instance.gene_descriptors_by_id(gene_ids)\n",
    "\n",
    "# collect elements of the descriptor class into a dictionary based on each gene ID\n",
    "table_data = {}\n",
    "for gene in gene_descriptors.genes:\n",
    "    table_data[gene.gene_id] = [gene.common_name]\n",
    "    table_data[gene.gene_id].append(gene.taxname)\n",
    "    table_data[gene.gene_id].append(gene.symbol)\n",
    "    table_data[gene.gene_id].append(gene.type)\n",
    "    table_data[gene.gene_id].append(gene.chromosome)\n",
    "    if gene.transcripts:\n",
    "        table_data[gene.gene_id].append(len(gene.transcripts))\n",
    "    else:\n",
    "        table_data[gene.gene_id].append(0)\n",
    "    table_data[gene.gene_id].append(gene.ensembl_gene_ids)\n",
    "    table_data[gene.gene_id].append(gene.omim_ids)\n",
    "    table_data[gene.gene_id].append(gene.swiss_prot_accessions)\n",
    "    if gene.nomenclature_authority:\n",
    "        table_data[gene.gene_id].append(gene.nomenclature_authority.identifier)\n",
    "        table_data[gene.gene_id].append(gene.nomenclature_authority.authority)\n",
    "    else:\n",
    "        table_data[gene.gene_id].append(None)\n",
    "        table_data[gene.gene_id].append(None)        \n",
    "    table_data[gene.gene_id].append(_ranges_repr(gene.genomic_ranges))\n",
    "\n",
    "        \n",
    "df = pd.DataFrame.from_dict(table_data, orient='index', columns=cols)\n",
    "df.index.name = 'gene_id'\n",
    "df"
   ]
  },
  {
   "cell_type": "markdown",
   "metadata": {
    "slideshow": {
     "slide_type": "slide"
    }
   },
   "source": [
    "## Use gene descriptor data to build a simple table of gene copy numbers\n",
    "\n",
    "As we mentioned before, while the role of the gonadotropin releasing hormone and receptor in reproduction is highly conserved across vertebrates, gene copy number for the receptor genes is not. Let's take a quick look at how gene count varies in different organisms.  \n",
    "Note that in our list, you can see that rainbow trout has the most gene copies at 6, while numerous mammals, including mouse, dolphin and alpaca, only have a single annotated gene copy. "
   ]
  },
  {
   "cell_type": "code",
   "execution_count": 1,
   "metadata": {
    "slideshow": {
     "slide_type": "slide"
    }
   },
   "outputs": [],
   "source": [
    "# plot gene count based on organism\n",
    "gene_cnt = df.groupby('common_name')['symbol'].count().reset_index()\n",
    "gene_cnt.columns = ['organism', 'gene_count']\n",
    "gene_cnt.sort_values('gene_count', ascending=False, inplace=True)\n",
    "gene_cnt"
   ]
  },
  {
   "cell_type": "markdown",
   "metadata": {
    "slideshow": {
     "slide_type": "slide"
    }
   },
   "source": [
    "## Use gene datasets to build a transcript-focused table\n",
    "\n",
    "Finally, we are going to download a gene dataset for the human GnRH receptor genes, and use metadata included within the dataset to build a transcript-focused table.\n",
    "We'll take this metadata from the data report file, which is similar to the gene descriptor described above, but in a more human-readable yaml format.  \n",
    "Note that gene datasets include a data table that is gene-oriented, with one gene record per row. Here, we are building a custom transcript-oriented table.\n"
   ]
  },
  {
   "cell_type": "code",
   "execution_count": 1,
   "metadata": {
    "slideshow": {
     "slide_type": "slide"
    }
   },
   "outputs": [],
   "source": [
    "%%time\n",
    "\n",
    "ds_gene_download_instance = ncbi.datasets.DownloadApi(ncbi.datasets.ApiClient())\n",
    "gene_ids = [2798, 114814, 404718]\n",
    "gene_ds_download = ds_gene_download_instance.download_gene_package(gene_ids, _preload_content=False)\n",
    "\n",
    "## write to a zip file \n",
    "zipfile_name = 'gene_ds.zip'\n",
    "with open(zipfile_name, 'wb') as f:\n",
    "    f.write(gene_ds_download.data)\n",
    "\n",
    "print(f'Download complete to {zipfile_name}')"
   ]
  },
  {
   "cell_type": "code",
   "execution_count": 1,
   "metadata": {
    "slideshow": {
     "slide_type": "notes"
    }
   },
   "outputs": [],
   "source": [
    "!unzip -v {zipfile_name}"
   ]
  },
  {
   "cell_type": "code",
   "execution_count": 1,
   "metadata": {
    "slideshow": {
     "slide_type": "slide"
    }
   },
   "outputs": [],
   "source": [
    "import json\n",
    "import zipfile\n",
    "\n",
    "from google.protobuf.json_format import ParseDict\n",
    "import yaml\n",
    "\n",
    "import ncbi.datasets.v1alpha1.reports.gene_pb2 as gene_report_pb2\n",
    "\n",
    "def gene_report_for(path_to_zipfile):\n",
    "    '''\n",
    "    Return an object representing the data report.\n",
    "    path_to_zipfile: The relative path to the zipfile containing the virus data report\n",
    "    '''\n",
    "    with zipfile.ZipFile(path_to_zipfile, 'r') as zip:\n",
    "        gene_report_as_dict = yaml.safe_load(zip.read('ncbi_dataset/data/data_report.yaml'))\n",
    "    gene_report = gene_report_pb2.GeneDescriptors()\n",
    "    ParseDict(gene_report_as_dict, gene_report)\n",
    "    return gene_report\n",
    "\n",
    "def _5prime_len(transcript):\n",
    "    if not transcript.cds or not transcript.cds.range:\n",
    "        return None\n",
    "    return transcript.cds.range[0].begin - 1\n",
    "\n",
    "def _3prime_len(transcript):\n",
    "    if not transcript.cds or not transcript.cds.range:\n",
    "        return None\n",
    "    return transcript.length - transcript.cds.range[0].end\n",
    "\n",
    "gene_report = gene_report_for(zipfile_name)\n",
    "\n",
    "rows = []\n",
    "for gene in gene_report.genes:\n",
    "\n",
    "    # transcripts for each gene are embedded as lists and require additional handling\n",
    "    for transcript in gene.transcripts:\n",
    "        rows.append({\n",
    "            'gene_id': gene.gene_id,\n",
    "            'gene_symbol': gene.symbol,\n",
    "            'gene_taxonomy': gene.taxname,            \n",
    "            'accVer': transcript.accession_version,\n",
    "            'name': transcript.name,\n",
    "            'length': transcript.length,\n",
    "            '5`UTR_len': _5prime_len(transcript),\n",
    "            '3`UTR_len': _3prime_len(transcript),\n",
    "            'protAccVer': transcript.protein.accession_version or None,\n",
    "            'protName': transcript.protein.isoform_name or None,\n",
    "            'protLength': transcript.protein.length or None,\n",
    "            'exonAccVer': transcript.exons.accession_version,\n",
    "            'numExons': len(transcript.exons.range),\n",
    "        })\n",
    "\n",
    "transcript_table = pd.DataFrame(rows)\n",
    "\n",
    "transcript_table\n"
   ]
  }
 ],
 "metadata": {
  "celltoolbar": "Slideshow",
  "kernelspec": {
   "display_name": "Python 3",
   "language": "python",
   "name": "python3"
  },
  "language_info": {
   "codemirror_mode": {
    "name": "ipython",
    "version": 3
   },
   "file_extension": ".py",
   "mimetype": "text/x-python",
   "name": "python",
   "nbconvert_exporter": "python",
   "pygments_lexer": "ipython3",
   "version": "3.7.3"
  }
 },
 "nbformat": 4,
 "nbformat_minor": 4
}
