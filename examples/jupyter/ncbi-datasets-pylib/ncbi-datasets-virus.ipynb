{
 "cells": [
  {
   "cell_type": "markdown",
   "metadata": {},
   "source": [
    "# Using `ncbi.datasets` library to download and parse virus datasets\n",
    "\n",
    "The objective of this notebook is to use the `ncbi.datasets` python library to download and extract viral genome and annotation data.\n",
    "\n",
    "First, let's import the python modules we'll use.  Be sure you have first installed the requirements in 'requirements.txt' into your virtual environment. "
   ]
  },
  {
   "cell_type": "code",
   "execution_count": 1,
   "metadata": {},
   "outputs": [],
   "source": [
    "import ncbi.datasets\n",
    "import json\n",
    "import os\n",
    "import csv\n",
    "import yaml\n",
    "import zipfile\n",
    "import pandas as pd\n",
    "from pyfaidx import Fasta\n",
    "from google.protobuf.json_format import ParseDict\n",
    "import ncbi.datasets.v1alpha1.reports.virus_pb2 as virus_report_pb2\n",
    "from collections import OrderedDict, Counter\n",
    "from datetime import datetime, timezone, timedelta"
   ]
  },
  {
   "cell_type": "markdown",
   "metadata": {},
   "source": [
    "We will need an api object specific to retrieving viral data. To see all the possible API instances, [visit the documentation on GitHub](https://github.com/ncbi/datasets/tree/master/client_docs/python#documentation-for-api-endpoints)\". "
   ]
  },
  {
   "cell_type": "code",
   "execution_count": 1,
   "metadata": {},
   "outputs": [],
   "source": [
    "virus_api = ncbi.datasets.VirusApi(ncbi.datasets.ApiClient())"
   ]
  },
  {
   "cell_type": "markdown",
   "metadata": {},
   "source": [
    "## The NCBI data report\n",
    "\n",
    "Viral genome data downloaded using the NCBI Datasets API uses the same file hierarchy as the other assembly download objects (see [Assembly Jupyter Notebook](ncbi-datasets-assembly.ipynb) to learn more). The structured zip archive in the bdbag format contains a data report that can be traversed using the `ncbi.datasets` python library to extract metadata. \n",
    "\n",
    "To illustrate how one can use these files, we will download all RefSeq genomes for the coronaviridae family and extract some genome and annotation information in tabular form. "
   ]
  },
  {
   "cell_type": "code",
   "execution_count": 1,
   "metadata": {
    "scrolled": true
   },
   "outputs": [
    {
     "name": "stdout",
     "output_type": "stream",
     "text": [
      "Download complete\n",
      "Archive:  ncbi_genomes.zip\r\n",
      " Length   Method    Size  Cmpr    Date    Time   CRC-32   Name\r\n",
      "--------  ------  ------- ---- ---------- ----- --------  ----\r\n",
      "     661  Defl:N      384  42% 09-08-2020 06:58 bc3c97af  README.md\r\n",
      " 2614793  Defl:N   899491  66% 09-08-2020 06:58 ef541e86  ncbi_dataset/data/cds.fna\r\n",
      " 1918794  Defl:N   666014  65% 09-08-2020 06:58 221be551  ncbi_dataset/data/genomic.fna\r\n",
      "  952864  Defl:N   422108  56% 09-08-2020 06:58 594c4b3f  ncbi_dataset/data/protein.faa\r\n",
      " 3925485  Defl:N  1554217  60% 09-08-2020 06:58 2d9bbdd4  ncbi_dataset/data/genomic.gbff\r\n",
      " 3160554  Defl:N   749099  76% 09-08-2020 06:58 c94d7cdb  ncbi_dataset/data/protein.gpff\r\n",
      "  774772  Defl:N   134620  83% 09-08-2020 06:58 01de2508  ncbi_dataset/data/data_report.yaml\r\n",
      "    2398  Defl:N     1050  56% 09-08-2020 06:58 8d3e9da3  ncbi_dataset/data/virus_dataset.md\r\n",
      "     624  Defl:N      221  65% 09-08-2020 06:58 97c30b30  ncbi_dataset/data/dataset_catalog.json\r\n",
      "       0  Defl:N        2   0% 09-08-2020 06:58 00000000  ncbi_dataset/fetch.txt\r\n",
      "--------          -------  ---                            -------\r\n",
      "13350945          4427206  67%                            10 files\r\n"
     ]
    }
   ],
   "source": [
    "## download all refseq genomes for the coronaviridate family (taxid 11118)\n",
    "\n",
    "taxid = 11118\n",
    "\n",
    "viral_genomes = virus_api.virus_genome_download(\n",
    "    taxid, \n",
    "    refseq_only=True, \n",
    "    include_sequence=True,\n",
    "    _preload_content=False\n",
    ")\n",
    "\n",
    "zipfn = 'ncbi_genomes.zip'\n",
    "with open(zipfn, 'wb') as f:\n",
    "    f.write(viral_genomes.data)\n",
    "\n",
    "print(f'Download complete')\n",
    "\n",
    "!unzip -v {zipfn}"
   ]
  },
  {
   "cell_type": "markdown",
   "metadata": {},
   "source": [
    "The contents of the bdbag archive are shown above. We will use the following function to extract data from the `data_report.yaml` file and read it into an object (named `virus_report` in this example)."
   ]
  },
  {
   "cell_type": "markdown",
   "metadata": {},
   "source": [
    "As shown below, one can easily navigate through the contents of the `virus_report` object to extract data. "
   ]
  },
  {
   "cell_type": "code",
   "execution_count": 1,
   "metadata": {},
   "outputs": [
    {
     "data": {
      "text/html": [
       "<div>\n",
       "<style scoped>\n",
       "    .dataframe tbody tr th:only-of-type {\n",
       "        vertical-align: middle;\n",
       "    }\n",
       "\n",
       "    .dataframe tbody tr th {\n",
       "        vertical-align: top;\n",
       "    }\n",
       "\n",
       "    .dataframe thead th {\n",
       "        text-align: right;\n",
       "    }\n",
       "</style>\n",
       "<table border=\"1\" class=\"dataframe\">\n",
       "  <thead>\n",
       "    <tr style=\"text-align: right;\">\n",
       "      <th></th>\n",
       "      <th>Accession</th>\n",
       "      <th>TaxID</th>\n",
       "      <th>VirusName</th>\n",
       "      <th>Host</th>\n",
       "      <th>Isolate</th>\n",
       "      <th>Location</th>\n",
       "      <th>Length</th>\n",
       "      <th>Genes</th>\n",
       "      <th>Proteins</th>\n",
       "      <th>MaturePeptides</th>\n",
       "    </tr>\n",
       "  </thead>\n",
       "  <tbody>\n",
       "    <tr>\n",
       "      <th>0</th>\n",
       "      <td>NC_001451.1</td>\n",
       "      <td>11120</td>\n",
       "      <td>Infectious bronchitis virus</td>\n",
       "      <td></td>\n",
       "      <td></td>\n",
       "      <td></td>\n",
       "      <td>27608</td>\n",
       "      <td>6</td>\n",
       "      <td>10</td>\n",
       "      <td>14</td>\n",
       "    </tr>\n",
       "    <tr>\n",
       "      <th>1</th>\n",
       "      <td>NC_001846.1</td>\n",
       "      <td>11138</td>\n",
       "      <td>Murine hepatitis virus</td>\n",
       "      <td></td>\n",
       "      <td></td>\n",
       "      <td></td>\n",
       "      <td>31357</td>\n",
       "      <td>5</td>\n",
       "      <td>7</td>\n",
       "      <td>26</td>\n",
       "    </tr>\n",
       "    <tr>\n",
       "      <th>2</th>\n",
       "      <td>NC_002306.3</td>\n",
       "      <td>11135</td>\n",
       "      <td>Feline infectious peritonitis virus</td>\n",
       "      <td></td>\n",
       "      <td>79-1146</td>\n",
       "      <td>USA</td>\n",
       "      <td>29355</td>\n",
       "      <td>10</td>\n",
       "      <td>9</td>\n",
       "      <td>0</td>\n",
       "    </tr>\n",
       "    <tr>\n",
       "      <th>3</th>\n",
       "      <td>NC_002645.1</td>\n",
       "      <td>11137</td>\n",
       "      <td>Human coronavirus 229E</td>\n",
       "      <td></td>\n",
       "      <td></td>\n",
       "      <td></td>\n",
       "      <td>27317</td>\n",
       "      <td>7</td>\n",
       "      <td>8</td>\n",
       "      <td>0</td>\n",
       "    </tr>\n",
       "    <tr>\n",
       "      <th>4</th>\n",
       "      <td>NC_003436.1</td>\n",
       "      <td>28295</td>\n",
       "      <td>Porcine epidemic diarrhea virus</td>\n",
       "      <td></td>\n",
       "      <td></td>\n",
       "      <td></td>\n",
       "      <td>28033</td>\n",
       "      <td>6</td>\n",
       "      <td>6</td>\n",
       "      <td>13</td>\n",
       "    </tr>\n",
       "  </tbody>\n",
       "</table>\n",
       "</div>"
      ],
      "text/plain": [
       "     Accession  TaxID                            VirusName Host  Isolate  \\\n",
       "0  NC_001451.1  11120          Infectious bronchitis virus                 \n",
       "1  NC_001846.1  11138               Murine hepatitis virus                 \n",
       "2  NC_002306.3  11135  Feline infectious peritonitis virus       79-1146   \n",
       "3  NC_002645.1  11137               Human coronavirus 229E                 \n",
       "4  NC_003436.1  28295      Porcine epidemic diarrhea virus                 \n",
       "\n",
       "  Location  Length  Genes  Proteins  MaturePeptides  \n",
       "0            27608      6        10              14  \n",
       "1            31357      5         7              26  \n",
       "2      USA   29355     10         9               0  \n",
       "3            27317      7         8               0  \n",
       "4            28033      6         6              13  "
      ]
     },
     "execution_count": 1,
     "metadata": {},
     "output_type": "execute_result"
    }
   ],
   "source": [
    "# A utility class for working with virus dataset zipfiles.\n",
    "from ncbi.datasets.package.dataset import VirusDataset\n",
    "\n",
    "vd = VirusDataset(zipfn)\n",
    "\n",
    "genome_data = []\n",
    "for g in vd.get_report_assemblies():\n",
    "    genome_data.append({\n",
    "        'Accession': g.accession,\n",
    "        'TaxID': g.virus.tax_id,\n",
    "        'VirusName': g.virus.sci_name,\n",
    "        'Host': g.host.sci_name,\n",
    "        'Isolate': g.isolate.name,\n",
    "        'Location': g.location.geographic_location,\n",
    "        'Length': g.length,\n",
    "        'Genes': g.gene_count,\n",
    "        'Proteins': g.protein_count,\n",
    "        'MaturePeptides': g.mature_peptide_count\n",
    "    })\n",
    "    \n",
    "df1 = pd.DataFrame(genome_data)\n",
    "df1.head()"
   ]
  },
  {
   "cell_type": "markdown",
   "metadata": {},
   "source": [
    "We can now quickly generate plots using the data in the dataframe. For example, a set of histograms showing the distribution of the length of the genomes, and the number of genes, proteins and mature peptides is shown below. "
   ]
  },
  {
   "cell_type": "code",
   "execution_count": 1,
   "metadata": {},
   "outputs": [
    {
     "data": {
      "text/plain": [
       "array([[<AxesSubplot:title={'center':'Length'}>,\n",
       "        <AxesSubplot:title={'center':'Genes'}>],\n",
       "       [<AxesSubplot:title={'center':'Proteins'}>,\n",
       "        <AxesSubplot:title={'center':'MaturePeptides'}>]], dtype=object)"
      ]
     },
     "execution_count": 1,
     "metadata": {},
     "output_type": "execute_result"
    },
    {
     "data": {
      "image/png": "[encoded data removed]",
      "text/plain": [
       "<Figure size 1080x720 with 4 Axes>"
      ]
     },
     "metadata": {
      "needs_background": "light"
     },
     "output_type": "display_data"
    }
   ],
   "source": [
    "df1.hist(column=['Length', 'Genes', 'Proteins', 'MaturePeptides'], figsize=(15,10))"
   ]
  },
  {
   "cell_type": "markdown",
   "metadata": {},
   "source": [
    "Along the same lines, data can be extracted from the `data_report.yaml` file and saved as a tab-delimited file to use in external applications like R and Excel. "
   ]
  },
  {
   "cell_type": "code",
   "execution_count": 1,
   "metadata": {},
   "outputs": [],
   "source": [
    "genome_table = [['gene_name', 'nuc_acc', 'nuc_ranges', 'prot_name', 'prot_acc', 'prot_len']]\n",
    "for g in vd.get_report_assemblies():\n",
    "    annot = g.annotation\n",
    "    for gene in annot.genes:\n",
    "        gene_name = gene.name\n",
    "        for c in gene.cds:\n",
    "            ranges = []\n",
    "            for r in c.nucleotide.range:\n",
    "                ranges.append([r.begin, r.end])\n",
    "            prot_len = c.protein.range[-1].end\n",
    "            genome_table.append([gene.name, c.nucleotide.accession_version, ranges, c.name, c.protein.accession_version, prot_len])\n",
    "\n",
    "            \n",
    "tsv_file = 'virus_genome_info.tsv'\n",
    "with open(tsv_file, 'wt') as f:\n",
    "    tbl = csv.writer(f, delimiter = '\\t', lineterminator = os.linesep)\n",
    "    tbl.writerows(genome_table)"
   ]
  },
  {
   "cell_type": "markdown",
   "metadata": {},
   "source": [
    "Finally, we can also use the data report to compute useful summaries, like the CDS length of each protein"
   ]
  },
  {
   "cell_type": "code",
   "execution_count": 1,
   "metadata": {},
   "outputs": [],
   "source": [
    "cds_lengths = []\n",
    "for g in vd.get_report_assemblies():\n",
    "    annot = g.annotation\n",
    "    for gene in annot.genes: \n",
    "        for c in gene.cds:\n",
    "            cds_len = 0\n",
    "            for r in c.nucleotide.range:\n",
    "                cds_len += r.end - r.begin + 1\n",
    "            cds_lengths.append({\n",
    "                'Accession': g.accession,\n",
    "                'Gene': gene.name,\n",
    "                'Protein': c.name,\n",
    "                'CDS_Length': cds_len\n",
    "            })"
   ]
  },
  {
   "cell_type": "code",
   "execution_count": 1,
   "metadata": {},
   "outputs": [
    {
     "data": {
      "text/html": [
       "<div>\n",
       "<style scoped>\n",
       "    .dataframe tbody tr th:only-of-type {\n",
       "        vertical-align: middle;\n",
       "    }\n",
       "\n",
       "    .dataframe tbody tr th {\n",
       "        vertical-align: top;\n",
       "    }\n",
       "\n",
       "    .dataframe thead th {\n",
       "        text-align: right;\n",
       "    }\n",
       "</style>\n",
       "<table border=\"1\" class=\"dataframe\">\n",
       "  <thead>\n",
       "    <tr style=\"text-align: right;\">\n",
       "      <th></th>\n",
       "      <th>Accession</th>\n",
       "      <th>Gene</th>\n",
       "      <th>Protein</th>\n",
       "      <th>CDS_Length</th>\n",
       "    </tr>\n",
       "  </thead>\n",
       "  <tbody>\n",
       "    <tr>\n",
       "      <th>0</th>\n",
       "      <td>NC_001451.1</td>\n",
       "      <td>1ab</td>\n",
       "      <td>ORF1ab polyprotein</td>\n",
       "      <td>19890</td>\n",
       "    </tr>\n",
       "    <tr>\n",
       "      <th>1</th>\n",
       "      <td>NC_001451.1</td>\n",
       "      <td>1ab</td>\n",
       "      <td>ORF1a polyprotein</td>\n",
       "      <td>11856</td>\n",
       "    </tr>\n",
       "    <tr>\n",
       "      <th>2</th>\n",
       "      <td>NC_001451.1</td>\n",
       "      <td>2</td>\n",
       "      <td>spike protein</td>\n",
       "      <td>3489</td>\n",
       "    </tr>\n",
       "    <tr>\n",
       "      <th>3</th>\n",
       "      <td>NC_001451.1</td>\n",
       "      <td>3</td>\n",
       "      <td>3a protein</td>\n",
       "      <td>174</td>\n",
       "    </tr>\n",
       "    <tr>\n",
       "      <th>4</th>\n",
       "      <td>NC_001451.1</td>\n",
       "      <td>3</td>\n",
       "      <td>3b protein</td>\n",
       "      <td>195</td>\n",
       "    </tr>\n",
       "  </tbody>\n",
       "</table>\n",
       "</div>"
      ],
      "text/plain": [
       "     Accession Gene             Protein  CDS_Length\n",
       "0  NC_001451.1  1ab  ORF1ab polyprotein       19890\n",
       "1  NC_001451.1  1ab   ORF1a polyprotein       11856\n",
       "2  NC_001451.1    2       spike protein        3489\n",
       "3  NC_001451.1    3          3a protein         174\n",
       "4  NC_001451.1    3          3b protein         195"
      ]
     },
     "execution_count": 1,
     "metadata": {},
     "output_type": "execute_result"
    }
   ],
   "source": [
    "df2 = pd.DataFrame(cds_lengths)\n",
    "df2.head()"
   ]
  },
  {
   "cell_type": "markdown",
   "metadata": {},
   "source": [
    "## Add taxid to the FASTA header\n",
    "\n",
    "In addition to the data report, the bdbag archive contains one or more sequence files that can be processed together. For example, we can add a different set of attributes to the FASTA header in the sequence files. For this, we will first create a map of genomic accessions to taxids and virus names using the data in `data_report.yaml` file. Then, we will use the `pyfaidx` python module to change the headers in `genomic.fna` FASTA file to include taxids."
   ]
  },
  {
   "cell_type": "code",
   "execution_count": 1,
   "metadata": {},
   "outputs": [],
   "source": [
    "taxids_by_accession = dict()\n",
    "\n",
    "for genome in vd.get_report_assemblies():\n",
    "    taxids_by_accession[genome.accession] = (genome.virus.tax_id, genome.virus.sci_name)"
   ]
  },
  {
   "cell_type": "code",
   "execution_count": 1,
   "metadata": {},
   "outputs": [],
   "source": [
    "## parse data catalog \n",
    "with zipfile.ZipFile(zipfn, 'r') as zip:\n",
    "    data_catalog = json.loads(zip.read('ncbi_dataset/data/dataset_catalog.json'))"
   ]
  },
  {
   "cell_type": "code",
   "execution_count": 1,
   "metadata": {},
   "outputs": [],
   "source": [
    "with zipfile.ZipFile(zipfn, 'r') as zip:\n",
    "    data = zip.read('ncbi_dataset/data/genomic.fna')\n",
    "    with open('genomic.fna', 'wb') as f:\n",
    "        f.write(data)\n",
    "\n",
    "with open('genomic.out.fna', 'w') as f:\n",
    "    genomic_seqs = Fasta('genomic.fna')\n",
    "    for g in genomic_seqs:\n",
    "        (taxid, org_name) = taxids_by_accession[g.name]\n",
    "        header = '>' + '|'.join([g.name, str(taxid), org_name, '\\n'])\n",
    "        f.write(header)\n",
    "        f.write(genomic_seqs[g.name][:].seq + '\\n')"
   ]
  },
  {
   "cell_type": "markdown",
   "metadata": {},
   "source": [
    "## Fetch all SARS-CoV-2 genomes submitted in the past 7 days\n",
    "\n",
    "Narrowing our focus a little, if we are interested in just SARS-CoV-2 genomes they too can be downloaded using `ncbi.datasets` library as shown below. Here, for example, we will restrict the data returned to only those genomes that were submitted in the past 7 days. \n",
    "\n",
    "A python datetime object is created with the desired date and provided to the api instance. "
   ]
  },
  {
   "cell_type": "code",
   "execution_count": 1,
   "metadata": {},
   "outputs": [
    {
     "name": "stdout",
     "output_type": "stream",
     "text": [
      "Download genomes release since: 2020-09-01 10:59:14.899425+00:00\n",
      "Start downloading ...\n",
      "Finished.\n"
     ]
    }
   ],
   "source": [
    "## to fetch all genomes submitted in the past 7 days\n",
    "t = 7\n",
    "d = datetime.now(timezone.utc) - timedelta(days=t)\n",
    "taxid = 2697049\n",
    "\n",
    "print(f'Download genomes release since: {d}')\n",
    "cov2_genomes = virus_api.virus_genome_download(\n",
    "    taxid, \n",
    "    released_since = d.isoformat(),\n",
    "    include_annotation_type=['PDB_FILES'],\n",
    "    _preload_content=False)\n",
    "\n",
    "print('Start downloading ...')\n",
    "zipfn = 'ncbi_genomes.zip'\n",
    "with open(zipfn, 'wb') as f:\n",
    "    f.write(cov2_genomes.data)\n",
    "print('Finished.')"
   ]
  },
  {
   "cell_type": "markdown",
   "metadata": {},
   "source": [
    "Now, we can use the information in the data report to tabulate information such as the number of genomes by collection date and georaphic location as shown below. "
   ]
  },
  {
   "cell_type": "code",
   "execution_count": 1,
   "metadata": {},
   "outputs": [
    {
     "name": "stdout",
     "output_type": "stream",
     "text": [
      "Counter({'2020/07': 3631, '2020/06': 515, '2020/04': 229, '2020/08': 145, '2020': 135, '2020/03': 117, '2020/05': 94, '': 2, '2020/01': 1})\n"
     ]
    }
   ],
   "source": [
    "# Warning: This step can take several minutes to execute, depending on the size of the request.  \n",
    "#          You may want ot shorten the time window to less than 7 days.\n",
    "vd = VirusDataset(zipfn)\n",
    "\n",
    "coll_by_month = Counter()\n",
    "geo_by_date = []\n",
    "\n",
    "for g in vd.get_report_assemblies():\n",
    "    coll_date = g.isolate.collection_date\n",
    "    coll_date = '/'.join(coll_date.split('-')[:2])\n",
    "    coll_by_month[coll_date] += 1\n",
    "    \n",
    "    geo_by_date.append({\n",
    "        'Date': g.isolate.collection_date,\n",
    "        'Location': g.location.geographic_location.split(':')[0]\n",
    "    })    \n",
    "\n",
    "print(coll_by_month)"
   ]
  },
  {
   "cell_type": "code",
   "execution_count": 1,
   "metadata": {},
   "outputs": [
    {
     "data": {
      "text/plain": [
       "<AxesSubplot:>"
      ]
     },
     "execution_count": 1,
     "metadata": {},
     "output_type": "execute_result"
    },
    {
     "data": {
      "image/png": "[encoded data removed]",
      "text/plain": [
       "<Figure size 648x432 with 1 Axes>"
      ]
     },
     "metadata": {
      "needs_background": "light"
     },
     "output_type": "display_data"
    }
   ],
   "source": [
    "df = pd.DataFrame.from_dict(coll_by_month, orient='index', columns=['count']).sort_index()\n",
    "df.plot(kind = 'barh', y='count', figsize=(9,6))"
   ]
  },
  {
   "cell_type": "code",
   "execution_count": 1,
   "metadata": {},
   "outputs": [
    {
     "data": {
      "text/html": [
       "<div>\n",
       "<style scoped>\n",
       "    .dataframe tbody tr th:only-of-type {\n",
       "        vertical-align: middle;\n",
       "    }\n",
       "\n",
       "    .dataframe tbody tr th {\n",
       "        vertical-align: top;\n",
       "    }\n",
       "\n",
       "    .dataframe thead th {\n",
       "        text-align: right;\n",
       "    }\n",
       "</style>\n",
       "<table border=\"1\" class=\"dataframe\">\n",
       "  <thead>\n",
       "    <tr style=\"text-align: right;\">\n",
       "      <th></th>\n",
       "      <th>Date</th>\n",
       "      <th>Location</th>\n",
       "    </tr>\n",
       "  </thead>\n",
       "  <tbody>\n",
       "    <tr>\n",
       "      <th>0</th>\n",
       "      <td>2020-06</td>\n",
       "      <td>USA</td>\n",
       "    </tr>\n",
       "    <tr>\n",
       "      <th>1</th>\n",
       "      <td>2020-06</td>\n",
       "      <td>USA</td>\n",
       "    </tr>\n",
       "    <tr>\n",
       "      <th>2</th>\n",
       "      <td>2020-06</td>\n",
       "      <td>USA</td>\n",
       "    </tr>\n",
       "    <tr>\n",
       "      <th>3</th>\n",
       "      <td>2020-06</td>\n",
       "      <td>USA</td>\n",
       "    </tr>\n",
       "    <tr>\n",
       "      <th>4</th>\n",
       "      <td>2020-06</td>\n",
       "      <td>USA</td>\n",
       "    </tr>\n",
       "  </tbody>\n",
       "</table>\n",
       "</div>"
      ],
      "text/plain": [
       "      Date Location\n",
       "0  2020-06      USA\n",
       "1  2020-06      USA\n",
       "2  2020-06      USA\n",
       "3  2020-06      USA\n",
       "4  2020-06      USA"
      ]
     },
     "execution_count": 1,
     "metadata": {},
     "output_type": "execute_result"
    }
   ],
   "source": [
    "df3 = pd.DataFrame(geo_by_date)\n",
    "df3.head()"
   ]
  },
  {
   "cell_type": "code",
   "execution_count": 1,
   "metadata": {},
   "outputs": [
    {
     "data": {
      "text/plain": [
       "<AxesSubplot:>"
      ]
     },
     "execution_count": 1,
     "metadata": {},
     "output_type": "execute_result"
    },
    {
     "data": {
      "image/png": "[encoded data removed]",
      "text/plain": [
       "<Figure size 648x432 with 1 Axes>"
      ]
     },
     "metadata": {
      "needs_background": "light"
     },
     "output_type": "display_data"
    }
   ],
   "source": [
    "pd.value_counts(df3['Location']).plot.barh(figsize=(9,6))"
   ]
  }
 ],
 "metadata": {
  "kernelspec": {
   "display_name": "Python 3",
   "language": "python",
   "name": "python3"
  },
  "language_info": {
   "codemirror_mode": {
    "name": "ipython",
    "version": 3
   },
   "file_extension": ".py",
   "mimetype": "text/x-python",
   "name": "python",
   "nbconvert_exporter": "python",
   "pygments_lexer": "ipython3",
   "version": "3.8.1"
  }
 },
 "nbformat": 4,
 "nbformat_minor": 4
}
