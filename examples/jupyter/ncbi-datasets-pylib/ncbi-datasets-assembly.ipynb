{
 "cells": [
  {
   "cell_type": "markdown",
   "metadata": {},
   "source": [
    "# Using the `ncbi.datasets` python library to navigate NCBI assembly data\n",
    "\n",
    "The `ncbi.datasets` python library can be used to query NCBI datasets and navigate through the results quickly within python. "
   ]
  },
  {
   "cell_type": "markdown",
   "metadata": {},
   "source": [
    "## Getting started\n",
    "\n",
    "First, let's import the python modules we'll use.  Be sure you have first installed the requirements in 'requirements.txt' into your virtual environment."
   ]
  },
  {
   "cell_type": "code",
   "execution_count": 1,
   "metadata": {},
   "outputs": [],
   "source": [
    "import sys\n",
    "import zipfile\n",
    "import pandas as pd\n",
    "from pprint import pprint\n",
    "from datetime import datetime\n",
    "from collections import defaultdict, Counter\n",
    "from IPython.display import display\n",
    "\n",
    "import matplotlib.pyplot as plt\n",
    "plt.style.use('ggplot')\n",
    "\n",
    "try:\n",
    "    import ncbi.datasets\n",
    "except ImportError:\n",
    "    print('ncbi.datasets module not found. To install, run `pip install ncbi-datasets-pylib`.')"
   ]
  },
  {
   "cell_type": "markdown",
   "metadata": {},
   "source": [
    "## Genome summaries\n",
    "\n",
    "Genome summaries include all the metadata you'll need, and can be accessed in four ways:\n",
    "1. accession: an NCBI Assembly accession\n",
    "2. organism: an organism or a taxonomical group name \n",
    "3. taxid: using an NCBI Taxonomy identifier, at any level.\n",
    "4. BioProject: using an NCBI BioProject accession\n",
    "\n",
    "First, we'll need an api object specific to retrieving assembly descriptors.  To see all the possible API instances, [visit the documentation on GitHub](https://github.com/ncbi/datasets/tree/master/client_docs/python#documentation-for-api-endpoints)"
   ]
  },
  {
   "cell_type": "code",
   "execution_count": 1,
   "metadata": {},
   "outputs": [],
   "source": [
    "## start an api_instance \n",
    "api_instance = ncbi.datasets.GenomeApi(ncbi.datasets.ApiClient())"
   ]
  },
  {
   "cell_type": "code",
   "execution_count": 1,
   "metadata": {},
   "outputs": [],
   "source": []
  },
  {
   "cell_type": "markdown",
   "metadata": {},
   "source": [
    "### Genome summaries by accession\n",
    "\n",
    "Let's start with the simplest case.  Say you already know the NCBI Assembly accession, for example, for the latest human reference genome assembly (GRCh38), `GCF_000001405.39`.  Using the `assembly_descriptors_by_accessions()` method, we'll get back a `V1alpha1AssemblyDatasetDescriptors` object ([documented here](https://github.com/ncbi/datasets/blob/master/client_docs/python/docs/V1alpha1AssemblyDatasetDescriptors.md)) (a mouthful we know).  The various fields in the response are attributes of the object.\n",
    "\n",
    "Let's see this in practice."
   ]
  },
  {
   "cell_type": "code",
   "execution_count": 1,
   "metadata": {},
   "outputs": [
    {
     "data": {
      "text/plain": [
       "ncbi.datasets.models.v1alpha1_assembly_metadata.V1alpha1AssemblyMetadata"
      ]
     },
     "execution_count": 1,
     "metadata": {},
     "output_type": "execute_result"
    }
   ],
   "source": [
    "assembly_accessions = ['GCF_000001405.39'] ## needs to be a full accession.version\n",
    "\n",
    "genome_summary = api_instance.assembly_descriptors_by_accessions(assembly_accessions, limit='all')\n",
    "\n",
    "type(genome_summary)\n"
   ]
  },
  {
   "cell_type": "markdown",
   "metadata": {},
   "source": [
    "`genome_summary` contains metadata about the genome assembly and the total count of results in JSON format."
   ]
  },
  {
   "cell_type": "code",
   "execution_count": 1,
   "metadata": {},
   "outputs": [
    {
     "name": "stdout",
     "output_type": "stream",
     "text": [
      "{'assemblies': [{'assembly': {'annotation_metadata': {'file': [{'estimated_size': '49900325',\n",
      "                                                                'type': 'GENOME_GFF'},\n",
      "                                                               {'estimated_size': '1315360259',\n",
      "                                                                'type': 'GENOME_GBFF'},\n",
      "                                                               {'estimated_size': '118242932',\n",
      "                                                                'type': 'RNA_FASTA'},\n",
      "                                                               {'estimated_size': '26280470',\n",
      "                                                                'type': 'PROT_FASTA'},\n",
      "                                                               {'estimated_size': '41033486',\n",
      "                                                                'type': 'GENOME_GTF'}],\n",
      "                                                      'name': 'NCBI Annotation '\n",
      "                                                              'Release '\n",
      "                                                              '109.20200815',\n",
      "                                                      'release_date': 'Aug 15, '\n",
      "                                                                      '2020',\n",
      "                                                      'release_number': '109.20200815',\n",
      "                                                      'report_url': 'https://www.ncbi.nlm.nih.gov/genome/annotation_euk/Homo_sapiens/109.20200815/',\n",
      "                                                      'source': 'NCBI'},\n",
      "                              'assembly_accession': 'GCF_000001405.39',\n",
      "                              'assembly_category': 'reference genome',\n",
      "                              'assembly_level': 'Chromosome',\n",
      "                              'bioproject_lineages': [{'bioprojects': [{'accession': 'PRJNA31257',\n",
      "                                                                        'parent_accession': None,\n",
      "                                                                        'title': 'The '\n",
      "                                                                                 'Human '\n",
      "                                                                                 'Genome '\n",
      "                                                                                 'Project, '\n",
      "                                                                                 'currently '\n",
      "                                                                                 'maintained '\n",
      "                                                                                 'by '\n",
      "                                                                                 'the '\n",
      "                                                                                 'Genome '\n",
      "                                                                                 'Reference '\n",
      "                                                                                 'Consortium '\n",
      "                                                                                 '(GRC)'}]}],\n",
      "                              'chromosomes': ['1',\n",
      "                                              '2',\n",
      "                                              '3',\n",
      "                                              '4',\n",
      "                                              '5',\n",
      "                                              '6',\n",
      "                                              '7',\n",
      "                                              '8',\n",
      "                                              '9',\n",
      "                                              '10',\n",
      "                                              '11',\n",
      "                                              '12',\n",
      "                                              '13',\n",
      "                                              '14',\n",
      "                                              '15',\n",
      "                                              '16',\n",
      "                                              '17',\n",
      "                                              '18',\n",
      "                                              '19',\n",
      "                                              '20',\n",
      "                                              '21',\n",
      "                                              '22',\n",
      "                                              'X',\n",
      "                                              'Y',\n",
      "                                              'Un',\n",
      "                                              'MT'],\n",
      "                              'contig_n50': 57879411,\n",
      "                              'display_name': 'GRCh38.p13',\n",
      "                              'estimated_size': '2383175849',\n",
      "                              'org': {'assembly_count': None,\n",
      "                                      'assembly_counts': {'node': 224,\n",
      "                                                          'subtree': 224},\n",
      "                                      'blast_node': None,\n",
      "                                      'breed': None,\n",
      "                                      'children': None,\n",
      "                                      'common_name': 'human',\n",
      "                                      'counts': None,\n",
      "                                      'cultivar': None,\n",
      "                                      'ecotype': None,\n",
      "                                      'icon': None,\n",
      "                                      'isolate': None,\n",
      "                                      'key': '9606',\n",
      "                                      'max_ord': None,\n",
      "                                      'merged': None,\n",
      "                                      'merged_tax_ids': None,\n",
      "                                      'min_ord': None,\n",
      "                                      'parent_tax_id': '9605',\n",
      "                                      'rank': 'SPECIES',\n",
      "                                      'sci_name': 'Homo sapiens',\n",
      "                                      'search_text': None,\n",
      "                                      'sex': None,\n",
      "                                      'strain': None,\n",
      "                                      'tax_id': '9606',\n",
      "                                      'title': 'human'},\n",
      "                              'seq_length': '3099706404',\n",
      "                              'submission_date': '2019-02-28'},\n",
      "                 'messages': None}],\n",
      " 'messages': None,\n",
      " 'total_count': 1}\n"
     ]
    }
   ],
   "source": [
    "print(genome_summary)"
   ]
  },
  {
   "cell_type": "code",
   "execution_count": 1,
   "metadata": {},
   "outputs": [
    {
     "name": "stdout",
     "output_type": "stream",
     "text": [
      "Number of assemblies: 1\n"
     ]
    }
   ],
   "source": [
    "print(f\"Number of assemblies: {genome_summary.total_count}\" )"
   ]
  },
  {
   "cell_type": "code",
   "execution_count": 1,
   "metadata": {},
   "outputs": [
    {
     "name": "stdout",
     "output_type": "stream",
     "text": [
      "GCF_000001405.39\tChromosome\t26\t2019-02-28\n"
     ]
    }
   ],
   "source": [
    "## print other information \n",
    "for assembly in map(lambda d: d.assembly, genome_summary.assemblies):\n",
    "    print(\n",
    "        assembly.assembly_accession,\n",
    "        assembly.assembly_level,\n",
    "        len(assembly.chromosomes),\n",
    "        assembly.submission_date,\n",
    "        sep='\\t')"
   ]
  },
  {
   "cell_type": "markdown",
   "metadata": {},
   "source": [
    "### Genome summaries by organism or tax group name \n",
    "\n",
    "Now let's say you only know the name of the organism for which you want to retrieve assembly information."
   ]
  },
  {
   "cell_type": "code",
   "execution_count": 1,
   "metadata": {},
   "outputs": [],
   "source": [
    "## a few examples to try \n",
    "# tax_name = 'mammals'\n",
    "# tax_name = 'birds'\n",
    "# tax_name = 'butterflies'\n",
    "tax_name = 'primates'\n",
    "\n",
    "genome_summary = api_instance.assembly_descriptors_by_taxon(\n",
    "    taxon=tax_name,\n",
    "    limit='all')"
   ]
  },
  {
   "cell_type": "code",
   "execution_count": 1,
   "metadata": {},
   "outputs": [
    {
     "name": "stdout",
     "output_type": "stream",
     "text": [
      "Number of assemblies in the group 'primates': 348\n"
     ]
    }
   ],
   "source": [
    "print(f\"Number of assemblies in the group '{tax_name}': {genome_summary.total_count}\")"
   ]
  },
  {
   "cell_type": "markdown",
   "metadata": {},
   "source": [
    "#### Assemblies organized by GenBank/RefSeq\n",
    "Now we can analyze the results and organize by GenBank and RefSeq, and make a nice tabular output and pie-chart of the results."
   ]
  },
  {
   "cell_type": "code",
   "execution_count": 1,
   "metadata": {},
   "outputs": [
    {
     "name": "stdout",
     "output_type": "stream",
     "text": [
      "Counter({'GenBank': 318, 'RefSeq': 30})\n"
     ]
    }
   ],
   "source": [
    "assm_counter = Counter()\n",
    "for assembly in map(lambda d: d.assembly, genome_summary.assemblies):\n",
    "    if assembly.assembly_accession[:3] == 'GCA':\n",
    "        assm_counter['GenBank'] += 1\n",
    "    elif assembly.assembly_accession[:3] == 'GCF':\n",
    "        assm_counter['RefSeq'] += 1\n",
    "    \n",
    "print(assm_counter)"
   ]
  },
  {
   "cell_type": "code",
   "execution_count": 1,
   "metadata": {},
   "outputs": [
    {
     "data": {
      "text/html": [
       "<div>\n",
       "<style scoped>\n",
       "    .dataframe tbody tr th:only-of-type {\n",
       "        vertical-align: middle;\n",
       "    }\n",
       "\n",
       "    .dataframe tbody tr th {\n",
       "        vertical-align: top;\n",
       "    }\n",
       "\n",
       "    .dataframe thead th {\n",
       "        text-align: right;\n",
       "    }\n",
       "</style>\n",
       "<table border=\"1\" class=\"dataframe\">\n",
       "  <thead>\n",
       "    <tr style=\"text-align: right;\">\n",
       "      <th></th>\n",
       "      <th>count</th>\n",
       "    </tr>\n",
       "  </thead>\n",
       "  <tbody>\n",
       "    <tr>\n",
       "      <th>RefSeq</th>\n",
       "      <td>30</td>\n",
       "    </tr>\n",
       "    <tr>\n",
       "      <th>GenBank</th>\n",
       "      <td>318</td>\n",
       "    </tr>\n",
       "  </tbody>\n",
       "</table>\n",
       "</div>"
      ],
      "text/plain": [
       "         count\n",
       "RefSeq      30\n",
       "GenBank    318"
      ]
     },
     "metadata": {},
     "output_type": "display_data"
    },
    {
     "data": {
      "text/plain": [
       "<AxesSubplot:title={'center':'Assemblies by type'}, ylabel='count'>"
      ]
     },
     "execution_count": 1,
     "metadata": {},
     "output_type": "execute_result"
    },
    {
     "data": {
      "image/png": "[encoded data removed]",
      "text/plain": [
       "<Figure size 432x432 with 1 Axes>"
      ]
     },
     "metadata": {},
     "output_type": "display_data"
    }
   ],
   "source": [
    "df = pd.DataFrame.from_dict(assm_counter, orient='index', columns=['count'])\n",
    "display(df)\n",
    "df.plot(kind='pie', y='count', figsize=(6,6), title='Assemblies by type')"
   ]
  },
  {
   "cell_type": "markdown",
   "metadata": {},
   "source": [
    "#### Assemblies organized by assembly level\n",
    "Alternatively, we can organize by the assembly level (scaffold, contig or choromosome)."
   ]
  },
  {
   "cell_type": "code",
   "execution_count": 1,
   "metadata": {},
   "outputs": [
    {
     "name": "stdout",
     "output_type": "stream",
     "text": [
      "Counter({'Scaffold': 214, 'Contig': 68, 'Chromosome': 66})\n"
     ]
    }
   ],
   "source": [
    "assm_level = Counter()\n",
    "for assembly in map(lambda d: d.assembly, genome_summary.assemblies):\n",
    "    assm_level[assembly.assembly_level] += 1\n",
    "    \n",
    "print(assm_level)"
   ]
  },
  {
   "cell_type": "code",
   "execution_count": 1,
   "metadata": {},
   "outputs": [
    {
     "data": {
      "text/html": [
       "<div>\n",
       "<style scoped>\n",
       "    .dataframe tbody tr th:only-of-type {\n",
       "        vertical-align: middle;\n",
       "    }\n",
       "\n",
       "    .dataframe tbody tr th {\n",
       "        vertical-align: top;\n",
       "    }\n",
       "\n",
       "    .dataframe thead th {\n",
       "        text-align: right;\n",
       "    }\n",
       "</style>\n",
       "<table border=\"1\" class=\"dataframe\">\n",
       "  <thead>\n",
       "    <tr style=\"text-align: right;\">\n",
       "      <th></th>\n",
       "      <th>count</th>\n",
       "    </tr>\n",
       "  </thead>\n",
       "  <tbody>\n",
       "    <tr>\n",
       "      <th>Scaffold</th>\n",
       "      <td>214</td>\n",
       "    </tr>\n",
       "    <tr>\n",
       "      <th>Chromosome</th>\n",
       "      <td>66</td>\n",
       "    </tr>\n",
       "    <tr>\n",
       "      <th>Contig</th>\n",
       "      <td>68</td>\n",
       "    </tr>\n",
       "  </tbody>\n",
       "</table>\n",
       "</div>"
      ],
      "text/plain": [
       "            count\n",
       "Scaffold      214\n",
       "Chromosome     66\n",
       "Contig         68"
      ]
     },
     "metadata": {},
     "output_type": "display_data"
    },
    {
     "data": {
      "text/plain": [
       "<AxesSubplot:title={'center':'Assemblies by level'}, ylabel='count'>"
      ]
     },
     "execution_count": 1,
     "metadata": {},
     "output_type": "execute_result"
    },
    {
     "data": {
      "image/png": "[encoded data removed]",
      "text/plain": [
       "<Figure size 432x432 with 1 Axes>"
      ]
     },
     "metadata": {},
     "output_type": "display_data"
    }
   ],
   "source": [
    "df = pd.DataFrame.from_dict(assm_level, orient='index', columns=['count'])\n",
    "display(df)\n",
    "df.plot(kind='pie', y='count', figsize=(6,6), title='Assemblies by level',)"
   ]
  },
  {
   "cell_type": "markdown",
   "metadata": {},
   "source": [
    "#### Assemblies grouped and counted by annotation release number\n",
    "\n",
    "All RefSeq assemblies are annotated and each annotation release is numbered, starting from 100. A quick way to check if the latest annotation is the first time an assembly for that organism was annotated is to check the annotation release number. Anything above 100 can be interpreted to have been through multiple annotations. \n",
    "\n",
    "For example, in the analysis shown below, the human assembly has an annotation release number 109 indicating that a human assembly was annotated multiple times. On the other hand, the silvery gibbon assembly has an annotation release number of 100 indicating that this is the first time an assembly from this organism was annotated. "
   ]
  },
  {
   "cell_type": "code",
   "execution_count": 1,
   "metadata": {},
   "outputs": [
    {
     "name": "stdout",
     "output_type": "stream",
     "text": [
      "Counter({100: 9, 101: 8, 103: 3, 105: 3, 102: 3, 104: 2, 109: 1})\n"
     ]
    }
   ],
   "source": [
    "## out of the 28 RefSeq assemblies, how many have been annotated more than once? \n",
    "annot_counter = Counter()\n",
    "for assembly in map(lambda d: d.assembly, genome_summary.assemblies):\n",
    "    if assembly.assembly_accession.startswith('GCF') and assembly.annotation_metadata and assembly.annotation_metadata.release_number:\n",
    "        rel = int(assembly.annotation_metadata.release_number.split('.')[0])\n",
    "        annot_counter[rel] += 1\n",
    "pprint(annot_counter)"
   ]
  },
  {
   "cell_type": "code",
   "execution_count": 1,
   "metadata": {},
   "outputs": [
    {
     "data": {
      "text/plain": [
       "<AxesSubplot:>"
      ]
     },
     "execution_count": 1,
     "metadata": {},
     "output_type": "execute_result"
    },
    {
     "data": {
      "image/png": "[encoded data removed]",
      "text/plain": [
       "<Figure size 648x432 with 1 Axes>"
      ]
     },
     "metadata": {},
     "output_type": "display_data"
    }
   ],
   "source": [
    "df = pd.DataFrame.from_dict(annot_counter, orient='index', columns=['count']).sort_index()\n",
    "df.plot(kind='bar', y='count', figsize=(9,6))"
   ]
  },
  {
   "cell_type": "markdown",
   "metadata": {},
   "source": [
    "#### Assemblies organized by annotation release number"
   ]
  },
  {
   "cell_type": "code",
   "execution_count": 1,
   "metadata": {},
   "outputs": [
    {
     "name": "stdout",
     "output_type": "stream",
     "text": [
      "defaultdict(<class 'list'>,\n",
      "            {'100': ['GCF_000955945.1 sooty mangabey',\n",
      "                     'GCF_000951045.1 drill',\n",
      "                     'GCF_003255815.1 gelada',\n",
      "                     'GCF_000951035.1 Colobus angolensis palliatus',\n",
      "                     \"GCF_009764315.1 Francois's langur\",\n",
      "                     'GCF_001698545.1 black snub-nosed monkey',\n",
      "                     'GCF_001604975.1 Panamanian white-faced capuchin',\n",
      "                     'GCF_009761245.1 Tufted capuchin',\n",
      "                     \"GCF_000956105.1 Coquerel's sifaka\"],\n",
      "             '101': ['GCF_009828535.2 silvery gibbon',\n",
      "                     'GCF_000364345.1 crab-eating macaque',\n",
      "                     'GCF_000956065.1 pig-tailed macaque',\n",
      "                     'GCF_007565055.1 golden snub-nosed monkey',\n",
      "                     \"GCF_000952055.2 Ma's night monkey\",\n",
      "                     'GCF_000235385.1 Bolivian squirrel monkey',\n",
      "                     'GCF_000164805.1 Philippine tarsier',\n",
      "                     'GCF_000165445.2 gray mouse lemur'],\n",
      "             '102': ['GCF_008122165.1 western lowland gorilla',\n",
      "                     'GCF_002776525.3 Ugandan red Colobus',\n",
      "                     'GCF_000181295.1 small-eared galago'],\n",
      "             '103': ['GCF_006542625.1 northern white-cheeked gibbon',\n",
      "                     'GCF_002880775.1 Sumatran orangutan',\n",
      "                     'GCF_003339765.1 Rhesus monkey'],\n",
      "             '104': ['GCF_013052645.1 pygmy chimpanzee',\n",
      "                     'GCF_008728515.1 olive baboon'],\n",
      "             '105': ['GCF_002880755.1 chimpanzee',\n",
      "                     'GCF_009663435.1 white-tufted-ear marmoset'],\n",
      "             '105.20201022': ['GCF_000001405.25 human'],\n",
      "             '109.20200815': ['GCF_000001405.39 human']})\n"
     ]
    }
   ],
   "source": [
    "annot_list = defaultdict(list)\n",
    "for assembly in map(lambda d: d.assembly, genome_summary.assemblies):\n",
    "    if assembly.assembly_accession.startswith('GCF') and assembly.annotation_metadata:\n",
    "        rel = assembly.annotation_metadata.release_number\n",
    "        annot_list[rel].append(assembly.assembly_accession + ' ' + assembly.org.title)\n",
    "pprint(annot_list)"
   ]
  },
  {
   "cell_type": "markdown",
   "metadata": {
    "jupyter": {
     "outputs_hidden": true
    }
   },
   "source": [
    "### Genomes summaries by taxid\n",
    "Finally, you may want to query for genome assemblies by NCBI Taxonomy ID.  "
   ]
  },
  {
   "cell_type": "code",
   "execution_count": 1,
   "metadata": {},
   "outputs": [],
   "source": [
    "# taxid = 8782 ## birds\n",
    "# taxid = 7898 ## ray-finned fish\n",
    "taxid = 37572 ## butterflies\n",
    "\n",
    "genome_summary = api_instance.assembly_descriptors_by_taxon(\n",
    "    taxon=taxid,\n",
    "    limit='all',\n",
    "    filters_refseq_only=True)"
   ]
  },
  {
   "cell_type": "code",
   "execution_count": 1,
   "metadata": {},
   "outputs": [
    {
     "name": "stdout",
     "output_type": "stream",
     "text": [
      "Number of assemblies: 8\n"
     ]
    }
   ],
   "source": [
    "print(f\"Number of assemblies: {genome_summary.total_count}\")"
   ]
  },
  {
   "cell_type": "code",
   "execution_count": 1,
   "metadata": {},
   "outputs": [
    {
     "name": "stdout",
     "output_type": "stream",
     "text": [
      "Counter({'GCF': 8})\n"
     ]
    }
   ],
   "source": [
    "## count number of GenBank and RefSeq assemblies\n",
    "## all are RefSeq assemblies because 'filters_refseq_only=True' above\n",
    "assm_counter = Counter()\n",
    "for assembly in map(lambda d: d.assembly, genome_summary.assemblies):\n",
    "    assm_counter[assembly.assembly_accession[:3]] += 1\n",
    "    \n",
    "print(assm_counter)"
   ]
  },
  {
   "cell_type": "markdown",
   "metadata": {},
   "source": [
    "#### Group assemblies by annotation date"
   ]
  },
  {
   "cell_type": "code",
   "execution_count": 1,
   "metadata": {},
   "outputs": [
    {
     "name": "stdout",
     "output_type": "stream",
     "text": [
      "[('2015', 3), ('2017', 1), ('2018', 2), ('2020', 2)]\n"
     ]
    }
   ],
   "source": [
    "annot_rel_dates = Counter()\n",
    "for assembly in map(lambda d: d.assembly, genome_summary.assemblies):\n",
    "    if not assembly.annotation_metadata:\n",
    "        continue\n",
    "    rel_date = datetime.strptime(assembly.annotation_metadata.release_date, '%b %d, %Y')\n",
    "    rel_year = datetime.strftime(rel_date, '%Y')\n",
    "    annot_rel_dates[rel_year] += 1\n",
    "pprint(sorted(annot_rel_dates.items()))"
   ]
  },
  {
   "cell_type": "code",
   "execution_count": 1,
   "metadata": {},
   "outputs": [
    {
     "data": {
      "text/plain": [
       "<AxesSubplot:>"
      ]
     },
     "execution_count": 1,
     "metadata": {},
     "output_type": "execute_result"
    },
    {
     "data": {
      "image/png": "[encoded data removed]",
      "text/plain": [
       "<Figure size 648x432 with 1 Axes>"
      ]
     },
     "metadata": {},
     "output_type": "display_data"
    }
   ],
   "source": [
    "df = pd.DataFrame.from_dict(annot_rel_dates, orient='index', columns=['count']).sort_index()\n",
    "df.plot(kind='barh', y='count', figsize=(9,6))"
   ]
  },
  {
   "cell_type": "code",
   "execution_count": 1,
   "metadata": {
    "scrolled": true
   },
   "outputs": [
    {
     "data": {
      "text/html": [
       "<div>\n",
       "<style scoped>\n",
       "    .dataframe tbody tr th:only-of-type {\n",
       "        vertical-align: middle;\n",
       "    }\n",
       "\n",
       "    .dataframe tbody tr th {\n",
       "        vertical-align: top;\n",
       "    }\n",
       "\n",
       "    .dataframe thead th {\n",
       "        text-align: right;\n",
       "    }\n",
       "</style>\n",
       "<table border=\"1\" class=\"dataframe\">\n",
       "  <thead>\n",
       "    <tr style=\"text-align: right;\">\n",
       "      <th></th>\n",
       "      <th>GCF_009731565.1</th>\n",
       "      <th>GCF_902806685.1</th>\n",
       "      <th>GCF_900239965.1</th>\n",
       "      <th>GCF_002938995.1</th>\n",
       "      <th>GCF_000836235.1</th>\n",
       "      <th>GCF_000836215.1</th>\n",
       "      <th>GCF_001298355.1</th>\n",
       "      <th>GCF_001856805.1</th>\n",
       "    </tr>\n",
       "  </thead>\n",
       "  <tbody>\n",
       "    <tr>\n",
       "      <th>assm_name</th>\n",
       "      <td>Dplex_v4</td>\n",
       "      <td>iAphHyp1.1</td>\n",
       "      <td>Bicyclus_anynana_v1.2</td>\n",
       "      <td>ASM293899v1</td>\n",
       "      <td>Pxut_1.0</td>\n",
       "      <td>Ppol_1.0</td>\n",
       "      <td>Pap_ma_1.0</td>\n",
       "      <td>P_rapae_3842_assembly_v2</td>\n",
       "    </tr>\n",
       "    <tr>\n",
       "      <th>annot_rel_date</th>\n",
       "      <td>Feb 24, 2020</td>\n",
       "      <td>Jun 05, 2020</td>\n",
       "      <td>Feb 16, 2018</td>\n",
       "      <td>Oct 03, 2018</td>\n",
       "      <td>Jul 31, 2015</td>\n",
       "      <td>Jul 30, 2015</td>\n",
       "      <td>Oct 28, 2015</td>\n",
       "      <td>Aug 08, 2017</td>\n",
       "    </tr>\n",
       "    <tr>\n",
       "      <th>annot_rel_num</th>\n",
       "      <td>100</td>\n",
       "      <td>100</td>\n",
       "      <td>100</td>\n",
       "      <td>100</td>\n",
       "      <td>100</td>\n",
       "      <td>100</td>\n",
       "      <td>100</td>\n",
       "      <td>100</td>\n",
       "    </tr>\n",
       "    <tr>\n",
       "      <th>assm_level</th>\n",
       "      <td>Chromosome</td>\n",
       "      <td>Chromosome</td>\n",
       "      <td>Scaffold</td>\n",
       "      <td>Scaffold</td>\n",
       "      <td>Scaffold</td>\n",
       "      <td>Scaffold</td>\n",
       "      <td>Scaffold</td>\n",
       "      <td>Scaffold</td>\n",
       "    </tr>\n",
       "    <tr>\n",
       "      <th>num_chromosomes</th>\n",
       "      <td>31</td>\n",
       "      <td>30</td>\n",
       "      <td>None</td>\n",
       "      <td>None</td>\n",
       "      <td>None</td>\n",
       "      <td>None</td>\n",
       "      <td>None</td>\n",
       "      <td>None</td>\n",
       "    </tr>\n",
       "    <tr>\n",
       "      <th>contig_n50</th>\n",
       "      <td>108026</td>\n",
       "      <td>2012761</td>\n",
       "      <td>78697</td>\n",
       "      <td>254123</td>\n",
       "      <td>128246</td>\n",
       "      <td>47768</td>\n",
       "      <td>92238</td>\n",
       "      <td>54957</td>\n",
       "    </tr>\n",
       "    <tr>\n",
       "      <th>seq_length</th>\n",
       "      <td>248676414</td>\n",
       "      <td>408137179</td>\n",
       "      <td>475399557</td>\n",
       "      <td>357124929</td>\n",
       "      <td>243890167</td>\n",
       "      <td>227005758</td>\n",
       "      <td>278421261</td>\n",
       "      <td>245871251</td>\n",
       "    </tr>\n",
       "    <tr>\n",
       "      <th>submission_date</th>\n",
       "      <td>2019-12-11</td>\n",
       "      <td>2020-02-22</td>\n",
       "      <td>2018-01-02</td>\n",
       "      <td>2018-02-23</td>\n",
       "      <td>2015-02-02</td>\n",
       "      <td>2015-02-02</td>\n",
       "      <td>2015-09-28</td>\n",
       "      <td>2016-10-16</td>\n",
       "    </tr>\n",
       "  </tbody>\n",
       "</table>\n",
       "</div>"
      ],
      "text/plain": [
       "                GCF_009731565.1 GCF_902806685.1        GCF_900239965.1  \\\n",
       "assm_name              Dplex_v4      iAphHyp1.1  Bicyclus_anynana_v1.2   \n",
       "annot_rel_date     Feb 24, 2020    Jun 05, 2020           Feb 16, 2018   \n",
       "annot_rel_num               100             100                    100   \n",
       "assm_level           Chromosome      Chromosome               Scaffold   \n",
       "num_chromosomes              31              30                   None   \n",
       "contig_n50               108026         2012761                  78697   \n",
       "seq_length            248676414       408137179              475399557   \n",
       "submission_date      2019-12-11      2020-02-22             2018-01-02   \n",
       "\n",
       "                GCF_002938995.1 GCF_000836235.1 GCF_000836215.1  \\\n",
       "assm_name           ASM293899v1        Pxut_1.0        Ppol_1.0   \n",
       "annot_rel_date     Oct 03, 2018    Jul 31, 2015    Jul 30, 2015   \n",
       "annot_rel_num               100             100             100   \n",
       "assm_level             Scaffold        Scaffold        Scaffold   \n",
       "num_chromosomes            None            None            None   \n",
       "contig_n50               254123          128246           47768   \n",
       "seq_length            357124929       243890167       227005758   \n",
       "submission_date      2018-02-23      2015-02-02      2015-02-02   \n",
       "\n",
       "                GCF_001298355.1           GCF_001856805.1  \n",
       "assm_name            Pap_ma_1.0  P_rapae_3842_assembly_v2  \n",
       "annot_rel_date     Oct 28, 2015              Aug 08, 2017  \n",
       "annot_rel_num               100                       100  \n",
       "assm_level             Scaffold                  Scaffold  \n",
       "num_chromosomes            None                      None  \n",
       "contig_n50                92238                     54957  \n",
       "seq_length            278421261                 245871251  \n",
       "submission_date      2015-09-28                2016-10-16  "
      ]
     },
     "metadata": {},
     "output_type": "display_data"
    }
   ],
   "source": [
    "genome_table = {}\n",
    "for assembly in map(lambda d: d.assembly, genome_summary.assemblies):\n",
    "    if not assembly.annotation_metadata:\n",
    "        continue\n",
    "    n_chr = len(assembly.chromosomes) if assembly.assembly_level == 'Chromosome' else None\n",
    "    genome_table[assembly.assembly_accession] = {\n",
    "        'assm_name': assembly.display_name,\n",
    "        'annot_rel_date': assembly.annotation_metadata.release_date,\n",
    "        'annot_rel_num': assembly.annotation_metadata.release_number,\n",
    "        'assm_level': assembly.assembly_level,\n",
    "        'num_chromosomes': n_chr,\n",
    "        'contig_n50': assembly.contig_n50,\n",
    "        'seq_length': assembly.seq_length,\n",
    "        'submission_date': assembly.submission_date }\n",
    "df = pd.DataFrame.from_dict(genome_table, orient='columns')\n",
    "display(df)"
   ]
  },
  {
   "cell_type": "markdown",
   "metadata": {},
   "source": [
    "## Genome assembly downloads\n",
    "So far, we have looked at interacting with genome summaries, which describe the essential metadata for genome assemblies. In addition to metadata, the Datasets API can be used to download a genome dataset consisting of genome, transcript, and protein sequences in FASTA format, as well as annotation data in gff3, gtf, and GenBank flat file formats.\n",
    "\n",
    "To illustrate, let's start by downloading a genome dataset including mitochondrial genome sequence and all protein sequences for the latest human genome assembly, GRCh38."
   ]
  },
  {
   "cell_type": "code",
   "execution_count": 1,
   "metadata": {},
   "outputs": [],
   "source": [
    "assembly_accessions = ['GCF_000001405.39']\n",
    "chromosomes = ['MT']\n",
    "exclude_sequence = False\n",
    "include_annotation_type = ['PROT_FASTA']\n",
    "\n",
    "api_response = api_instance.download_assembly_package(\n",
    "    assembly_accessions,\n",
    "    chromosomes=chromosomes,\n",
    "    exclude_sequence=exclude_sequence,\n",
    "    include_annotation_type=include_annotation_type,\n",
    "    # Because we are streaming back the results to disk, \n",
    "    # we should defer reading/decoding the response\n",
    "    _preload_content=False\n",
    ")\n",
    "\n",
    "with open('human_assembly.zip', 'wb') as f:\n",
    "    f.write(api_response.data)\n"
   ]
  },
  {
   "cell_type": "markdown",
   "metadata": {},
   "source": [
    "Now we'll unzip the downloaded zip archive. All data is contained in ncbi_dataset/data. Data that is specific to the human reference genome, GRCh38, is contained within a subdirectory named with that assembly accession, GCF_000001405.39. \n",
    "The data directory contains five files:\n",
    " 1. The assembly data report contains assembly information like sequence names,  NCBI accessions, UCSC-style chromosome names, and annotation statistics (gene counts). Note that this file is directly under the data directory and not in the subdirectory named with the assembly accession. When the genome dataset contains data for multiple assemblies, genome assembly metadata for all of these assemblies is contained in the `assembly_data_report.jsonl` file\n",
    " 2. The sequence report (`sequence_report.jsonl`) contains a list of the sequences that comprise the GRCh38 assembly\n",
    " 3. The nucleotide sequence in FASTA (nucleotide) format for the one \"chromosome\" we requested: `chrMT.fna`\n",
    " 4. All protein sequences in FASTA (amino acid) format: `protein.faa`\n",
    " 5. And finally, a dataset catalog file (`dataset_catalog.json`) that describes the contents of the archive, to aid in programmatic access.\n",
    "Read more about the contents in the [download assembly command\n",
    " section of the documentation](https://www.ncbi.nlm.nih.gov/datasets/docs/command-line-assembly/).  "
   ]
  },
  {
   "cell_type": "code",
   "execution_count": 1,
   "metadata": {
    "scrolled": true
   },
   "outputs": [
    {
     "name": "stdout",
     "output_type": "stream",
     "text": [
      "Archive:  human_assembly.zip\r\n",
      " Length   Method    Size  Cmpr    Date    Time   CRC-32   Name\r\n",
      "--------  ------  ------- ---- ---------- ----- --------  ----\r\n",
      "     661  Defl:N      384  42% 11-16-2020 13:15 bc3c97af  README.md\r\n",
      "    1044  Defl:N      573  45% 11-16-2020 13:15 875a7b5b  ncbi_dataset/data/assembly_data_report.jsonl\r\n",
      "   16834  Defl:N     5379  68% 11-16-2020 13:15 932c3ae8  ncbi_dataset/data/GCF_000001405.39/chrMT.fna\r\n",
      "85815507  Defl:N 26280452  69% 11-16-2020 13:15 04376109  ncbi_dataset/data/GCF_000001405.39/protein.faa\r\n",
      "     211  Defl:N      166  21% 11-16-2020 13:15 28e03896  ncbi_dataset/data/GCF_000001405.39/sequence_report.jsonl\r\n",
      "     499  Defl:N      211  58% 11-16-2020 13:15 2cc86c6a  ncbi_dataset/data/dataset_catalog.json\r\n",
      "--------          -------  ---                            -------\r\n",
      "85834756         26287165  69%                            6 files\r\n"
     ]
    }
   ],
   "source": [
    "!unzip -v human_assembly.zip"
   ]
  },
  {
   "cell_type": "markdown",
   "metadata": {},
   "source": [
    "## Using genome summary data to request genome datasets\n",
    "\n",
    "When you need to download a genome dataset for a particular taxonomic group, you'll need to first get the list of genome assembly accessions, then you can query by accession to download the data that you're interested in.\n",
    "\n",
    "In this example, we'll download a genome dataset for a list of bird RefSeq genomes annotated in 2020.\n",
    "\n",
    "1. Fetch a list of RefSeq assembly accessions for all rodent genomes using `assembly_descriptors_by_taxid` \n",
    "2. Filter assemblies that were annotated in 2020\n",
    "3. Download data, but in this case, retrieve a dehydrated zip archive that can be rehydrated later to obtain the sequence data itself."
   ]
  },
  {
   "cell_type": "code",
   "execution_count": 1,
   "metadata": {},
   "outputs": [
    {
     "name": "stdout",
     "output_type": "stream",
     "text": [
      "Number of assemblies: 30\n"
     ]
    }
   ],
   "source": [
    "genome_summary = api_instance.assembly_descriptors_by_taxon(\n",
    "    taxon=9989, ## Rodents taxid\n",
    "    limit='all',\n",
    "    filters_refseq_only=True)\n",
    "\n",
    "print(f'Number of assemblies: {genome_summary.total_count}')"
   ]
  },
  {
   "cell_type": "code",
   "execution_count": 1,
   "metadata": {},
   "outputs": [
    {
     "name": "stdout",
     "output_type": "stream",
     "text": [
      "Assemblies grouped by year of annotation\n",
      "[(2015, 3), (2016, 4), (2017, 5), (2018, 4), (2019, 5), (2020, 9)]\n"
     ]
    }
   ],
   "source": [
    "annots_by_year = Counter()\n",
    "for assembly in map(lambda d: d.assembly, genome_summary.assemblies):\n",
    "    annot_year = int(assembly.annotation_metadata.release_date.split(' ')[-1])\n",
    "    annots_by_year[annot_year] += 1\n",
    "    \n",
    "print(f'Assemblies grouped by year of annotation')\n",
    "pprint(sorted(annots_by_year.items()))"
   ]
  },
  {
   "cell_type": "code",
   "execution_count": 1,
   "metadata": {},
   "outputs": [
    {
     "name": "stdout",
     "output_type": "stream",
     "text": [
      "Rodent assemblies that were annotated in 2020:\n",
      "GCF_003676075.2, GCF_012274545.1, GCF_000223135.1, GCF_003668045.3, GCF_903995425.1, GCF_004664715.2, GCF_011762505.1, GCF_000001635.27, GCF_011064425.1\n"
     ]
    }
   ],
   "source": [
    "rodents_annotated_in_2020_accs = []\n",
    "for assembly in map(lambda d: d.assembly, genome_summary.assemblies):\n",
    "    annot_year = int(assembly.annotation_metadata.release_date.split(' ')[-1])\n",
    "    if annot_year == 2020:\n",
    "        rodents_annotated_in_2020_accs.append(assembly.assembly_accession)\n",
    "        \n",
    "print('Rodent assemblies that were annotated in 2020:')\n",
    "print(f'{\", \".join(rodents_annotated_in_2020_accs)}')"
   ]
  },
  {
   "cell_type": "code",
   "execution_count": 1,
   "metadata": {},
   "outputs": [
    {
     "data": {
      "text/html": [
       "<div>\n",
       "<style scoped>\n",
       "    .dataframe tbody tr th:only-of-type {\n",
       "        vertical-align: middle;\n",
       "    }\n",
       "\n",
       "    .dataframe tbody tr th {\n",
       "        vertical-align: top;\n",
       "    }\n",
       "\n",
       "    .dataframe thead th {\n",
       "        text-align: right;\n",
       "    }\n",
       "</style>\n",
       "<table border=\"1\" class=\"dataframe\">\n",
       "  <thead>\n",
       "    <tr style=\"text-align: right;\">\n",
       "      <th></th>\n",
       "      <th>GCF_004785775.1</th>\n",
       "      <th>GCF_900095145.1</th>\n",
       "      <th>GCF_900094665.1</th>\n",
       "      <th>GCF_008632895.1</th>\n",
       "      <th>GCF_000622305.1</th>\n",
       "    </tr>\n",
       "  </thead>\n",
       "  <tbody>\n",
       "    <tr>\n",
       "      <th>assm_name</th>\n",
       "      <td>NIH_TR_1.0</td>\n",
       "      <td>PAHARI_EIJ_v1.1</td>\n",
       "      <td>CAROLI_EIJ_v1.1</td>\n",
       "      <td>UCSF_Mcou_1</td>\n",
       "      <td>S.galili_v1.0</td>\n",
       "    </tr>\n",
       "    <tr>\n",
       "      <th>org_name</th>\n",
       "      <td>Grammomys surdaster</td>\n",
       "      <td>shrew mouse</td>\n",
       "      <td>Ryukyu mouse</td>\n",
       "      <td>southern multimammate mouse</td>\n",
       "      <td>Upper Galilee mountains blind mole rat</td>\n",
       "    </tr>\n",
       "    <tr>\n",
       "      <th>sci_name</th>\n",
       "      <td>Grammomys surdaster</td>\n",
       "      <td>Mus pahari</td>\n",
       "      <td>Mus caroli</td>\n",
       "      <td>Mastomys coucha</td>\n",
       "      <td>Nannospalax galili</td>\n",
       "    </tr>\n",
       "    <tr>\n",
       "      <th>annot_rel_date</th>\n",
       "      <td>Apr 18, 2019</td>\n",
       "      <td>Jun 14, 2019</td>\n",
       "      <td>Jun 07, 2019</td>\n",
       "      <td>Oct 18, 2019</td>\n",
       "      <td>Jun 05, 2019</td>\n",
       "    </tr>\n",
       "    <tr>\n",
       "      <th>annot_rel_num</th>\n",
       "      <td>100</td>\n",
       "      <td>101</td>\n",
       "      <td>101</td>\n",
       "      <td>100</td>\n",
       "      <td>102</td>\n",
       "    </tr>\n",
       "    <tr>\n",
       "      <th>assm_level</th>\n",
       "      <td>Scaffold</td>\n",
       "      <td>Chromosome</td>\n",
       "      <td>Chromosome</td>\n",
       "      <td>Chromosome</td>\n",
       "      <td>Scaffold</td>\n",
       "    </tr>\n",
       "    <tr>\n",
       "      <th>num_chromosomes</th>\n",
       "      <td>None</td>\n",
       "      <td>25</td>\n",
       "      <td>22</td>\n",
       "      <td>4</td>\n",
       "      <td>None</td>\n",
       "    </tr>\n",
       "    <tr>\n",
       "      <th>contig_n50</th>\n",
       "      <td>51731</td>\n",
       "      <td>29465</td>\n",
       "      <td>30917</td>\n",
       "      <td>30483</td>\n",
       "      <td>30353</td>\n",
       "    </tr>\n",
       "    <tr>\n",
       "      <th>seq_length</th>\n",
       "      <td>2412664998</td>\n",
       "      <td>2475012951</td>\n",
       "      <td>2553112587</td>\n",
       "      <td>2507168619</td>\n",
       "      <td>3061408210</td>\n",
       "    </tr>\n",
       "    <tr>\n",
       "      <th>submission_date</th>\n",
       "      <td>2019-04-12</td>\n",
       "      <td>2017-04-28</td>\n",
       "      <td>2017-04-28</td>\n",
       "      <td>2019-09-24</td>\n",
       "      <td>2014-06-05</td>\n",
       "    </tr>\n",
       "  </tbody>\n",
       "</table>\n",
       "</div>"
      ],
      "text/plain": [
       "                     GCF_004785775.1  GCF_900095145.1  GCF_900094665.1  \\\n",
       "assm_name                 NIH_TR_1.0  PAHARI_EIJ_v1.1  CAROLI_EIJ_v1.1   \n",
       "org_name         Grammomys surdaster      shrew mouse     Ryukyu mouse   \n",
       "sci_name         Grammomys surdaster       Mus pahari       Mus caroli   \n",
       "annot_rel_date          Apr 18, 2019     Jun 14, 2019     Jun 07, 2019   \n",
       "annot_rel_num                    100              101              101   \n",
       "assm_level                  Scaffold       Chromosome       Chromosome   \n",
       "num_chromosomes                 None               25               22   \n",
       "contig_n50                     51731            29465            30917   \n",
       "seq_length                2412664998       2475012951       2553112587   \n",
       "submission_date           2019-04-12       2017-04-28       2017-04-28   \n",
       "\n",
       "                             GCF_008632895.1  \\\n",
       "assm_name                        UCSF_Mcou_1   \n",
       "org_name         southern multimammate mouse   \n",
       "sci_name                     Mastomys coucha   \n",
       "annot_rel_date                  Oct 18, 2019   \n",
       "annot_rel_num                            100   \n",
       "assm_level                        Chromosome   \n",
       "num_chromosomes                            4   \n",
       "contig_n50                             30483   \n",
       "seq_length                        2507168619   \n",
       "submission_date                   2019-09-24   \n",
       "\n",
       "                                        GCF_000622305.1  \n",
       "assm_name                                 S.galili_v1.0  \n",
       "org_name         Upper Galilee mountains blind mole rat  \n",
       "sci_name                             Nannospalax galili  \n",
       "annot_rel_date                             Jun 05, 2019  \n",
       "annot_rel_num                                       102  \n",
       "assm_level                                     Scaffold  \n",
       "num_chromosomes                                    None  \n",
       "contig_n50                                        30353  \n",
       "seq_length                                   3061408210  \n",
       "submission_date                              2014-06-05  "
      ]
     },
     "metadata": {},
     "output_type": "display_data"
    }
   ],
   "source": [
    "assm_table = {}\n",
    "for assembly in map(lambda d: d.assembly, genome_summary.assemblies):\n",
    "    annot_year = int(assembly.annotation_metadata.release_date.split(' ')[-1])\n",
    "    if annot_year == 2019:\n",
    "        n_chr = len(assembly.chromosomes) if assembly.assembly_level == 'Chromosome' else None\n",
    "        assm_table[assembly.assembly_accession] = {\n",
    "            'assm_name': assembly.display_name,\n",
    "            'org_name': assembly.org.title,\n",
    "            'sci_name': assembly.org.sci_name,\n",
    "            'annot_rel_date': assembly.annotation_metadata.release_date,\n",
    "            'annot_rel_num': assembly.annotation_metadata.release_number,\n",
    "            'assm_level': assembly.assembly_level,\n",
    "            'num_chromosomes': n_chr,\n",
    "            'contig_n50': assembly.contig_n50,\n",
    "            'seq_length': assembly.seq_length,\n",
    "            'submission_date': assembly.submission_date }\n",
    "df = pd.DataFrame.from_dict(assm_table, orient='columns')\n",
    "display(df)"
   ]
  },
  {
   "cell_type": "markdown",
   "metadata": {},
   "source": [
    "#### Download package for selected assemblies\n",
    "\n",
    "For the assemblies collected above, download a dehydrated data package (hydrated=DATA_REPORT_ONLY).  This will only contain the data report, and defer collection of nucleotide and protein sequence data until rehydration."
   ]
  },
  {
   "cell_type": "code",
   "execution_count": 1,
   "metadata": {},
   "outputs": [
    {
     "name": "stdout",
     "output_type": "stream",
     "text": [
      "Download a dehydrated package for ['GCF_003676075.2', 'GCF_012274545.1', 'GCF_000223135.1', 'GCF_003668045.3', 'GCF_903995425.1', 'GCF_004664715.2', 'GCF_011762505.1', 'GCF_000001635.27', 'GCF_011064425.1'], with the ability to rehydrate with the CLI later on.\n",
      "Download complete\n",
      "CPU times: user 12.9 ms, sys: 6.34 ms, total: 19.3 ms\n",
      "Wall time: 84.2 ms\n"
     ]
    }
   ],
   "source": [
    "%%time\n",
    "\n",
    "print(f'Download a dehydrated package for {rodents_annotated_in_2020_accs}, with the ability to rehydrate with the CLI later on.')\n",
    "api_response = api_instance.download_assembly_package(\n",
    "    rodents_annotated_in_2020_accs,\n",
    "    exclude_sequence=True,\n",
    "    hydrated='DATA_REPORT_ONLY',\n",
    "    _preload_content=False )\n",
    "\n",
    "zipfile_name = 'rodent_genomes.zip'\n",
    "with open(zipfile_name, 'wb') as f:\n",
    "    f.write(api_response.data)\n",
    "\n",
    "print('Download complete')"
   ]
  },
  {
   "cell_type": "code",
   "execution_count": 1,
   "metadata": {
    "scrolled": true
   },
   "outputs": [
    {
     "name": "stdout",
     "output_type": "stream",
     "text": [
      "caution:  not extracting; -d ignored\r\n",
      "Archive:  rodent_genomes.zip\r\n",
      " Length   Method    Size  Cmpr    Date    Time   CRC-32   Name\r\n",
      "--------  ------  ------- ---- ---------- ----- --------  ----\r\n",
      "     661  Defl:N      384  42% 11-16-2020 16:38 bc3c97af  README.md\r\n",
      "   13280  Defl:N     3383  75% 11-16-2020 16:38 76d1b5cf  ncbi_dataset/data/assembly_data_report.jsonl\r\n",
      "    1592  Defl:N      262  84% 11-16-2020 16:38 c7576a15  ncbi_dataset/data/dataset_catalog.json\r\n",
      "    1645  Defl:N      366  78% 11-16-2020 16:38 1057cdf0  ncbi_dataset/fetch.txt\r\n",
      "--------          -------  ---                            -------\r\n",
      "   17178             4395  74%                            4 files\r\n"
     ]
    }
   ],
   "source": [
    "!unzip -v {zipfile_name}"
   ]
  },
  {
   "cell_type": "markdown",
   "metadata": {},
   "source": [
    "#### Rehydrate data package\n",
    "To rehydrate, use the [NCBI Datasets command-line application](https://www.ncbi.nlm.nih.gov/datasets/docs/command-line-start/). For example, the following commands illustrate the process for Linux \n",
    "```\n",
    "curl -o datasets 'https://ftp.ncbi.nlm.nih.gov/pub/datasets/command-line/LATEST/linux-amd64/datasets'  \n",
    "chmod +x datasets\n",
    "# specify the directory that contains the extracted zip archive after the directory flag\n",
    "./datasets rehydrate --directory rodent_genomes/\n",
    "```\n"
   ]
  },
  {
   "cell_type": "code",
   "execution_count": 1,
   "metadata": {},
   "outputs": [],
   "source": []
  }
 ],
 "metadata": {
  "kernelspec": {
   "display_name": "Python 3",
   "language": "python",
   "name": "python3"
  },
  "language_info": {
   "codemirror_mode": {
    "name": "ipython",
    "version": 3
   },
   "file_extension": ".py",
   "mimetype": "text/x-python",
   "name": "python",
   "nbconvert_exporter": "python",
   "pygments_lexer": "ipython3",
   "version": "3.8.1"
  }
 },
 "nbformat": 4,
 "nbformat_minor": 4
}
