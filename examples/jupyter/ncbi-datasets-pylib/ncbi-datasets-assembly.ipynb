{
 "cells": [
  {
   "cell_type": "markdown",
   "metadata": {},
   "source": [
    "# Using the `ncbi.datasets` python library to navigate NCBI assembly data\n",
    "\n",
    "The `ncbi.datasets` python library can be used to query NCBI datasets and navigate through the results quickly within python. "
   ]
  },
  {
   "cell_type": "code",
   "execution_count": 1,
   "metadata": {},
   "outputs": [],
   "source": [
    "import sys\n",
    "import zipfile\n",
    "import pandas as pd\n",
    "from pprint import pprint\n",
    "from datetime import datetime\n",
    "from collections import defaultdict, Counter\n",
    "from IPython.display import display\n",
    "\n",
    "import matplotlib.pyplot as plt\n",
    "plt.style.use('ggplot')\n",
    "\n",
    "try:\n",
    "    import ncbi.datasets\n",
    "except ImportError:\n",
    "    print('ncbi.datasets module not found. To install, run `pip install ncbi-datasets-pylib`.')"
   ]
  },
  {
   "cell_type": "code",
   "execution_count": 2,
   "metadata": {},
   "outputs": [],
   "source": [
    "## start an api_instance \n",
    "api_instance = ncbi.datasets.AssemblyDatasetDescriptorsApi(ncbi.datasets.ApiClient())"
   ]
  },
  {
   "cell_type": "markdown",
   "metadata": {},
   "source": [
    "## Assembly Descriptions\n",
    "\n",
    "Assembly descriptions can be downloaded using one of the following as queries:\n",
    "1. accession - an NCBI Assembly accession\n",
    "2. organism - an organism or a taxonomical group name \n",
    "3. taxid - using an NCBI Taxonomy identifier"
   ]
  },
  {
   "cell_type": "markdown",
   "metadata": {},
   "source": [
    "### Assembly descriptions by accession"
   ]
  },
  {
   "cell_type": "code",
   "execution_count": 3,
   "metadata": {},
   "outputs": [],
   "source": [
    "assembly_accession = 'GCF_000001405.39' ## needs to be a full accession.version\n",
    "limit = '10' ## can only use either 'limit' or 'cutoff' but not both\n",
    "filters_refseq_only = True\n",
    "tax_exact_match = True\n",
    "\n",
    "api_response = api_instance.assembly_descriptors_by_accession(\n",
    "    assembly_accession,\n",
    "    limit=limit,\n",
    "    filters_refseq_only=filters_refseq_only,\n",
    "    tax_exact_match=tax_exact_match)"
   ]
  },
  {
   "cell_type": "markdown",
   "metadata": {},
   "source": [
    "`api_response` contains a description about the assembly and the total count of results in json format as shown below. "
   ]
  },
  {
   "cell_type": "code",
   "execution_count": 4,
   "metadata": {},
   "outputs": [
    {
     "name": "stdout",
     "output_type": "stream",
     "text": [
      "{'datasets': [{'annotation_metadata': {'file': [{'estimated_size': '49381805',\n",
      "                                                 'type': 'GENOME_GFF'},\n",
      "                                                {'estimated_size': '1315238674',\n",
      "                                                 'type': 'GENOME_GBFF'},\n",
      "                                                {'estimated_size': '117125853',\n",
      "                                                 'type': 'RNA_FASTA'},\n",
      "                                                {'estimated_size': '26162781',\n",
      "                                                 'type': 'PROT_FASTA'}],\n",
      "                                       'name': 'NCBI Annotation Release '\n",
      "                                               '109.20200228',\n",
      "                                       'release_date': 'Feb 28, 2020',\n",
      "                                       'release_number': '109.20200228',\n",
      "                                       'report_url': 'https://www.ncbi.nlm.nih.gov/genome/annotation_euk/Homo_sapiens/109.20200228/',\n",
      "                                       'source': 'NCBI'},\n",
      "               'assembly_accession': 'GCF_000001405.39',\n",
      "               'assembly_category': 'reference genome',\n",
      "               'assembly_level': 'Chromosome',\n",
      "               'chromosomes': ['1',\n",
      "                               '2',\n",
      "                               '3',\n",
      "                               '4',\n",
      "                               '5',\n",
      "                               '6',\n",
      "                               '7',\n",
      "                               '8',\n",
      "                               '9',\n",
      "                               '10',\n",
      "                               '11',\n",
      "                               '12',\n",
      "                               '13',\n",
      "                               '14',\n",
      "                               '15',\n",
      "                               '16',\n",
      "                               '17',\n",
      "                               '18',\n",
      "                               '19',\n",
      "                               '20',\n",
      "                               '21',\n",
      "                               '22',\n",
      "                               'X',\n",
      "                               'Y',\n",
      "                               'Un',\n",
      "                               'MT'],\n",
      "               'contig_n50': 57879411,\n",
      "               'display_name': 'GRCh38.p13',\n",
      "               'estimated_size': '2340267490',\n",
      "               'org': {'assembly_count': '115',\n",
      "                       'blast_node': None,\n",
      "                       'breed': None,\n",
      "                       'children': None,\n",
      "                       'common_name': 'human',\n",
      "                       'cultivar': None,\n",
      "                       'ecotype': None,\n",
      "                       'icon': None,\n",
      "                       'isolate': None,\n",
      "                       'key': '9606',\n",
      "                       'merged': None,\n",
      "                       'merged_tax_ids': None,\n",
      "                       'parent_tax_id': '9605',\n",
      "                       'rank': 'SPECIES',\n",
      "                       'sci_name': 'Homo sapiens',\n",
      "                       'search_text': None,\n",
      "                       'sex': None,\n",
      "                       'strain': None,\n",
      "                       'tax_id': '9606',\n",
      "                       'title': 'human'},\n",
      "               'seq_length': '3099706404',\n",
      "               'submission_date': '2019-02-28'}],\n",
      " 'total_count': 1}\n"
     ]
    }
   ],
   "source": [
    "print(api_response)"
   ]
  },
  {
   "cell_type": "code",
   "execution_count": 5,
   "metadata": {},
   "outputs": [
    {
     "name": "stdout",
     "output_type": "stream",
     "text": [
      "Number of assemblies: 1\n"
     ]
    }
   ],
   "source": [
    "## print total count\n",
    "total_count = api_response.total_count\n",
    "print(f\"Number of assemblies: {total_count}\" )"
   ]
  },
  {
   "cell_type": "code",
   "execution_count": 6,
   "metadata": {},
   "outputs": [
    {
     "name": "stdout",
     "output_type": "stream",
     "text": [
      "GCF_000001405.39\tChromosome\t26\t2019-02-28\n"
     ]
    }
   ],
   "source": [
    "## print other information \n",
    "for d in api_response.datasets:\n",
    "    print(d.assembly_accession, d.assembly_level, len(d.chromosomes), d.submission_date, sep = '\\t')"
   ]
  },
  {
   "cell_type": "markdown",
   "metadata": {},
   "source": [
    "### Assembly descriptions by organism or tax group name "
   ]
  },
  {
   "cell_type": "code",
   "execution_count": 7,
   "metadata": {},
   "outputs": [],
   "source": [
    "## a few examples to try \n",
    "# tax_name = 'mammals'\n",
    "# tax_name = 'birds'\n",
    "# tax_name = 'butterflies'\n",
    "tax_name = 'primates'"
   ]
  },
  {
   "cell_type": "code",
   "execution_count": 8,
   "metadata": {},
   "outputs": [],
   "source": [
    "api_response = api_instance.assembly_descriptors_by_organism(\n",
    "    tax_name = tax_name,\n",
    "    limit = 'all')"
   ]
  },
  {
   "cell_type": "code",
   "execution_count": 9,
   "metadata": {},
   "outputs": [
    {
     "name": "stdout",
     "output_type": "stream",
     "text": [
      "Number of assemblies in the group 'primates': 231\n"
     ]
    }
   ],
   "source": [
    "## total count of results\n",
    "total_count = api_response.total_count\n",
    "print(f\"Number of assemblies in the group '{tax_name}': {total_count}\")"
   ]
  },
  {
   "cell_type": "code",
   "execution_count": 10,
   "metadata": {},
   "outputs": [
    {
     "name": "stdout",
     "output_type": "stream",
     "text": [
      "Counter({'GenBank': 202, 'RefSeq': 29})\n"
     ]
    }
   ],
   "source": [
    "## count number of GenBank and RefSeq assemblies\n",
    "assm_counter = Counter()\n",
    "for d in api_response.datasets:\n",
    "    if d.assembly_accession[:3] == 'GCA':\n",
    "        assm_counter['GenBank'] += 1\n",
    "    elif d.assembly_accession[:3] == 'GCF':\n",
    "        assm_counter['RefSeq'] += 1\n",
    "    \n",
    "print(assm_counter)"
   ]
  },
  {
   "cell_type": "code",
   "execution_count": 11,
   "metadata": {},
   "outputs": [
    {
     "data": {
      "text/html": [
       "<div>\n",
       "<style scoped>\n",
       "    .dataframe tbody tr th:only-of-type {\n",
       "        vertical-align: middle;\n",
       "    }\n",
       "\n",
       "    .dataframe tbody tr th {\n",
       "        vertical-align: top;\n",
       "    }\n",
       "\n",
       "    .dataframe thead th {\n",
       "        text-align: right;\n",
       "    }\n",
       "</style>\n",
       "<table border=\"1\" class=\"dataframe\">\n",
       "  <thead>\n",
       "    <tr style=\"text-align: right;\">\n",
       "      <th></th>\n",
       "      <th>count</th>\n",
       "    </tr>\n",
       "  </thead>\n",
       "  <tbody>\n",
       "    <tr>\n",
       "      <th>GenBank</th>\n",
       "      <td>202</td>\n",
       "    </tr>\n",
       "    <tr>\n",
       "      <th>RefSeq</th>\n",
       "      <td>29</td>\n",
       "    </tr>\n",
       "  </tbody>\n",
       "</table>\n",
       "</div>"
      ],
      "text/plain": [
       "         count\n",
       "GenBank    202\n",
       "RefSeq      29"
      ]
     },
     "metadata": {},
     "output_type": "display_data"
    },
    {
     "data": {
      "text/plain": [
       "<matplotlib.axes._subplots.AxesSubplot at 0x7f2c64ecd2b0>"
      ]
     },
     "execution_count": 11,
     "metadata": {},
     "output_type": "execute_result"
    },
    {
     "data": {
      "image/png": "[encoded data removed]",
      "text/plain": [
       "<Figure size 432x432 with 1 Axes>"
      ]
     },
     "metadata": {},
     "output_type": "display_data"
    }
   ],
   "source": [
    "df = pd.DataFrame.from_dict(assm_counter, orient='index', columns=['count'])\n",
    "display(df)\n",
    "df.plot(kind='pie', y='count', figsize=(6,6), title='Assemblies by type')"
   ]
  },
  {
   "cell_type": "code",
   "execution_count": 12,
   "metadata": {},
   "outputs": [
    {
     "name": "stdout",
     "output_type": "stream",
     "text": [
      "Counter({'Scaffold': 111, 'Chromosome': 63, 'Contig': 57})\n"
     ]
    }
   ],
   "source": [
    "## or the number of assembly levels\n",
    "assm_level = Counter()\n",
    "for d in api_response.datasets:\n",
    "    assm_level[d.assembly_level] += 1\n",
    "    \n",
    "print(assm_level)"
   ]
  },
  {
   "cell_type": "code",
   "execution_count": 13,
   "metadata": {},
   "outputs": [
    {
     "data": {
      "text/html": [
       "<div>\n",
       "<style scoped>\n",
       "    .dataframe tbody tr th:only-of-type {\n",
       "        vertical-align: middle;\n",
       "    }\n",
       "\n",
       "    .dataframe tbody tr th {\n",
       "        vertical-align: top;\n",
       "    }\n",
       "\n",
       "    .dataframe thead th {\n",
       "        text-align: right;\n",
       "    }\n",
       "</style>\n",
       "<table border=\"1\" class=\"dataframe\">\n",
       "  <thead>\n",
       "    <tr style=\"text-align: right;\">\n",
       "      <th></th>\n",
       "      <th>count</th>\n",
       "    </tr>\n",
       "  </thead>\n",
       "  <tbody>\n",
       "    <tr>\n",
       "      <th>Scaffold</th>\n",
       "      <td>111</td>\n",
       "    </tr>\n",
       "    <tr>\n",
       "      <th>Chromosome</th>\n",
       "      <td>63</td>\n",
       "    </tr>\n",
       "    <tr>\n",
       "      <th>Contig</th>\n",
       "      <td>57</td>\n",
       "    </tr>\n",
       "  </tbody>\n",
       "</table>\n",
       "</div>"
      ],
      "text/plain": [
       "            count\n",
       "Scaffold      111\n",
       "Chromosome     63\n",
       "Contig         57"
      ]
     },
     "metadata": {},
     "output_type": "display_data"
    },
    {
     "data": {
      "text/plain": [
       "<matplotlib.axes._subplots.AxesSubplot at 0x7f2c62e77670>"
      ]
     },
     "execution_count": 13,
     "metadata": {},
     "output_type": "execute_result"
    },
    {
     "data": {
      "image/png": "[encoded data removed]",
      "text/plain": [
       "<Figure size 432x432 with 1 Axes>"
      ]
     },
     "metadata": {},
     "output_type": "display_data"
    }
   ],
   "source": [
    "df = pd.DataFrame.from_dict(assm_level, orient='index', columns=['count'])\n",
    "display(df)\n",
    "df.plot(kind='pie', y='count', figsize=(6,6), title='Assemblies by level',)"
   ]
  },
  {
   "cell_type": "markdown",
   "metadata": {},
   "source": [
    "All RefSeq assemblies are annotated and each annotation release is numbered, starting from 100. A quick way to check if the latest annotation is the first time an assembly for that organism was annotated is to check the annotation release number. Anything above 100 can be interpreted to have been through multiple annotations. \n",
    "\n",
    "For example, in the analysis shown below, the human assembly has an annotation release number 109 indicating that a human assembly was annotated multiple times. On the other hand, 'silvery gibbon' assembly has an annotation release number 100 indicating that this is the first time an assembly from this organism was annotated. "
   ]
  },
  {
   "cell_type": "code",
   "execution_count": 14,
   "metadata": {},
   "outputs": [
    {
     "name": "stdout",
     "output_type": "stream",
     "text": [
      "Counter({100: 9, 101: 8, 103: 4, 102: 3, 104: 2, 105: 1, 109: 1})\n"
     ]
    }
   ],
   "source": [
    "## out of the 28 RefSeq assemblies, how many have been annotated more than once? \n",
    "annot_counter = Counter()\n",
    "for d in api_response.datasets:\n",
    "    if d.assembly_accession.startswith('GCF') and d.annotation_metadata:\n",
    "        rel = int(d.annotation_metadata.release_number.split('.')[0])\n",
    "        annot_counter[rel] += 1\n",
    "pprint(annot_counter)"
   ]
  },
  {
   "cell_type": "code",
   "execution_count": 15,
   "metadata": {},
   "outputs": [
    {
     "data": {
      "text/plain": [
       "<matplotlib.axes._subplots.AxesSubplot at 0x7f2c627ced60>"
      ]
     },
     "execution_count": 15,
     "metadata": {},
     "output_type": "execute_result"
    },
    {
     "data": {
      "image/png": "[encoded data removed]",
      "text/plain": [
       "<Figure size 648x432 with 1 Axes>"
      ]
     },
     "metadata": {},
     "output_type": "display_data"
    }
   ],
   "source": [
    "df = pd.DataFrame.from_dict(annot_counter, orient='index', columns=['count']).sort_index()\n",
    "df.plot(kind='bar', y='count', figsize=(9,6))"
   ]
  },
  {
   "cell_type": "code",
   "execution_count": 16,
   "metadata": {},
   "outputs": [
    {
     "name": "stdout",
     "output_type": "stream",
     "text": [
      "defaultdict(<class 'list'>,\n",
      "            {'100': ['GCF_009761245.1 Tufted capuchin',\n",
      "                     'GCF_000955945.1 sooty mangabey',\n",
      "                     'GCF_003255815.1 gelada',\n",
      "                     'GCF_000951045.1 drill',\n",
      "                     \"GCF_009764315.1 Francois's langur\",\n",
      "                     'GCF_001698545.1 black snub-nosed monkey',\n",
      "                     'GCF_000951035.1 Colobus angolensis palliatus',\n",
      "                     \"GCF_000956105.1 Coquerel's sifaka\",\n",
      "                     'GCF_001604975.1 Cebus capucinus imitator'],\n",
      "             '101': ['GCF_000364345.1 crab-eating macaque',\n",
      "                     'GCF_000956065.1 pig-tailed macaque',\n",
      "                     'GCF_000165445.2 gray mouse lemur',\n",
      "                     \"GCF_000952055.2 Ma's night monkey\",\n",
      "                     'GCF_000235385.1 Bolivian squirrel monkey',\n",
      "                     'GCF_007565055.1 golden snub-nosed monkey',\n",
      "                     'GCF_009828535.2 silvery gibbon',\n",
      "                     'GCF_000164805.1 Philippine tarsier'],\n",
      "             '102': ['GCF_008122165.1 western lowland gorilla',\n",
      "                     'GCF_000181295.1 small-eared galago',\n",
      "                     'GCF_002776525.3 Ugandan red Colobus'],\n",
      "             '103': ['GCF_003339765.1 Rhesus monkey',\n",
      "                     'GCF_000258655.2 pygmy chimpanzee',\n",
      "                     'GCF_002880775.1 Sumatran orangutan',\n",
      "                     'GCF_006542625.1 northern white-cheeked gibbon'],\n",
      "             '104': ['GCF_000004665.1 white-tufted-ear marmoset',\n",
      "                     'GCF_008728515.1 olive baboon'],\n",
      "             '105': ['GCF_002880755.1 chimpanzee'],\n",
      "             '109.20200228': ['GCF_000001405.39 human']})\n"
     ]
    }
   ],
   "source": [
    "annot_list = defaultdict(list)\n",
    "for d in api_response.datasets:\n",
    "    if d.assembly_accession.startswith('GCF') and d.annotation_metadata:\n",
    "        rel = d.annotation_metadata.release_number\n",
    "        annot_list[rel].append(d.assembly_accession + ' ' + d.org.title)\n",
    "pprint(annot_list)"
   ]
  },
  {
   "cell_type": "markdown",
   "metadata": {
    "jupyter": {
     "outputs_hidden": true
    }
   },
   "source": [
    "### Assembly descriptions by taxid"
   ]
  },
  {
   "cell_type": "code",
   "execution_count": 17,
   "metadata": {},
   "outputs": [],
   "source": [
    "# taxid = 8782 ## birds\n",
    "# taxid = 7898 ## ray-finned fish\n",
    "taxid = 37572 ## butterflies"
   ]
  },
  {
   "cell_type": "code",
   "execution_count": 18,
   "metadata": {},
   "outputs": [],
   "source": [
    "api_response = api_instance.assembly_descriptors_by_taxid(\n",
    "    tax_id = taxid,\n",
    "    limit = 'all',\n",
    "    filters_refseq_only = True)"
   ]
  },
  {
   "cell_type": "code",
   "execution_count": 19,
   "metadata": {},
   "outputs": [
    {
     "name": "stdout",
     "output_type": "stream",
     "text": [
      "Number of assemblies: 7\n"
     ]
    }
   ],
   "source": [
    "## total count of results\n",
    "total_count = api_response.total_count\n",
    "print(f\"Number of assemblies: {total_count}\")"
   ]
  },
  {
   "cell_type": "code",
   "execution_count": 20,
   "metadata": {},
   "outputs": [
    {
     "name": "stdout",
     "output_type": "stream",
     "text": [
      "Counter({'GCF': 7})\n"
     ]
    }
   ],
   "source": [
    "## count number of GenBank and RefSeq assemblies\n",
    "## all are RefSeq assemblies because 'filters_refseq_only=True' above\n",
    "assm_counter = Counter()\n",
    "for d in api_response.datasets:\n",
    "    assm_counter[d.assembly_accession[:3]] += 1\n",
    "    \n",
    "print(assm_counter)"
   ]
  },
  {
   "cell_type": "code",
   "execution_count": 21,
   "metadata": {},
   "outputs": [
    {
     "name": "stdout",
     "output_type": "stream",
     "text": [
      "[('2015', 3), ('2017', 1), ('2018', 2), ('2020', 1)]\n"
     ]
    }
   ],
   "source": [
    "annot_rel_dates = Counter()\n",
    "for d in api_response.datasets:\n",
    "    if d.assembly_accession.startswith('GCF'): \n",
    "        rel_date = datetime.strptime(d.annotation_metadata.release_date, '%b %d, %Y')\n",
    "        rel_year = datetime.strftime(rel_date, '%Y')\n",
    "        annot_rel_dates[rel_year] += 1\n",
    "pprint(sorted(annot_rel_dates.items()))"
   ]
  },
  {
   "cell_type": "code",
   "execution_count": 22,
   "metadata": {},
   "outputs": [
    {
     "data": {
      "text/plain": [
       "<matplotlib.axes._subplots.AxesSubplot at 0x7f2c65027700>"
      ]
     },
     "execution_count": 22,
     "metadata": {},
     "output_type": "execute_result"
    },
    {
     "data": {
      "image/png": "[encoded data removed]",
      "text/plain": [
       "<Figure size 648x432 with 1 Axes>"
      ]
     },
     "metadata": {},
     "output_type": "display_data"
    }
   ],
   "source": [
    "df = pd.DataFrame.from_dict(annot_rel_dates, orient='index', columns=['count']).sort_index()\n",
    "df.plot(kind='barh', y='count', figsize=(9,6))"
   ]
  },
  {
   "cell_type": "code",
   "execution_count": 23,
   "metadata": {},
   "outputs": [
    {
     "data": {
      "text/html": [
       "<div>\n",
       "<style scoped>\n",
       "    .dataframe tbody tr th:only-of-type {\n",
       "        vertical-align: middle;\n",
       "    }\n",
       "\n",
       "    .dataframe tbody tr th {\n",
       "        vertical-align: top;\n",
       "    }\n",
       "\n",
       "    .dataframe thead th {\n",
       "        text-align: right;\n",
       "    }\n",
       "</style>\n",
       "<table border=\"1\" class=\"dataframe\">\n",
       "  <thead>\n",
       "    <tr style=\"text-align: right;\">\n",
       "      <th></th>\n",
       "      <th>GCF_001856805.1</th>\n",
       "      <th>GCF_000836235.1</th>\n",
       "      <th>GCF_001298355.1</th>\n",
       "      <th>GCF_000836215.1</th>\n",
       "      <th>GCF_900239965.1</th>\n",
       "      <th>GCF_009731565.1</th>\n",
       "      <th>GCF_002938995.1</th>\n",
       "    </tr>\n",
       "  </thead>\n",
       "  <tbody>\n",
       "    <tr>\n",
       "      <th>assm_name</th>\n",
       "      <td>P_rapae_3842_assembly_v2</td>\n",
       "      <td>Pxut_1.0</td>\n",
       "      <td>Pap_ma_1.0</td>\n",
       "      <td>Ppol_1.0</td>\n",
       "      <td>Bicyclus_anynana_v1.2</td>\n",
       "      <td>Dplex_v4</td>\n",
       "      <td>ASM293899v1</td>\n",
       "    </tr>\n",
       "    <tr>\n",
       "      <th>annot_rel_date</th>\n",
       "      <td>Aug 08, 2017</td>\n",
       "      <td>Jul 31, 2015</td>\n",
       "      <td>Oct 28, 2015</td>\n",
       "      <td>Jul 30, 2015</td>\n",
       "      <td>Feb 16, 2018</td>\n",
       "      <td>Feb 24, 2020</td>\n",
       "      <td>Oct 03, 2018</td>\n",
       "    </tr>\n",
       "    <tr>\n",
       "      <th>annot_rel_num</th>\n",
       "      <td>100</td>\n",
       "      <td>100</td>\n",
       "      <td>100</td>\n",
       "      <td>100</td>\n",
       "      <td>100</td>\n",
       "      <td>100</td>\n",
       "      <td>100</td>\n",
       "    </tr>\n",
       "    <tr>\n",
       "      <th>assm_level</th>\n",
       "      <td>Scaffold</td>\n",
       "      <td>Scaffold</td>\n",
       "      <td>Scaffold</td>\n",
       "      <td>Scaffold</td>\n",
       "      <td>Scaffold</td>\n",
       "      <td>Chromosome</td>\n",
       "      <td>Scaffold</td>\n",
       "    </tr>\n",
       "    <tr>\n",
       "      <th>num_chromosomes</th>\n",
       "      <td>None</td>\n",
       "      <td>None</td>\n",
       "      <td>None</td>\n",
       "      <td>None</td>\n",
       "      <td>None</td>\n",
       "      <td>31</td>\n",
       "      <td>None</td>\n",
       "    </tr>\n",
       "    <tr>\n",
       "      <th>contig_n50</th>\n",
       "      <td>54957</td>\n",
       "      <td>128246</td>\n",
       "      <td>92238</td>\n",
       "      <td>47768</td>\n",
       "      <td>78697</td>\n",
       "      <td>108026</td>\n",
       "      <td>254123</td>\n",
       "    </tr>\n",
       "    <tr>\n",
       "      <th>seq_length</th>\n",
       "      <td>245871251</td>\n",
       "      <td>243890167</td>\n",
       "      <td>278421261</td>\n",
       "      <td>227005758</td>\n",
       "      <td>475399557</td>\n",
       "      <td>248676414</td>\n",
       "      <td>357124929</td>\n",
       "    </tr>\n",
       "    <tr>\n",
       "      <th>submission_date</th>\n",
       "      <td>2016-10-16</td>\n",
       "      <td>2015-02-02</td>\n",
       "      <td>2015-09-28</td>\n",
       "      <td>2015-02-02</td>\n",
       "      <td>2018-01-02</td>\n",
       "      <td>2019-12-11</td>\n",
       "      <td>2018-02-23</td>\n",
       "    </tr>\n",
       "  </tbody>\n",
       "</table>\n",
       "</div>"
      ],
      "text/plain": [
       "                          GCF_001856805.1 GCF_000836235.1 GCF_001298355.1  \\\n",
       "assm_name        P_rapae_3842_assembly_v2        Pxut_1.0      Pap_ma_1.0   \n",
       "annot_rel_date               Aug 08, 2017    Jul 31, 2015    Oct 28, 2015   \n",
       "annot_rel_num                         100             100             100   \n",
       "assm_level                       Scaffold        Scaffold        Scaffold   \n",
       "num_chromosomes                      None            None            None   \n",
       "contig_n50                          54957          128246           92238   \n",
       "seq_length                      245871251       243890167       278421261   \n",
       "submission_date                2016-10-16      2015-02-02      2015-09-28   \n",
       "\n",
       "                GCF_000836215.1        GCF_900239965.1 GCF_009731565.1  \\\n",
       "assm_name              Ppol_1.0  Bicyclus_anynana_v1.2        Dplex_v4   \n",
       "annot_rel_date     Jul 30, 2015           Feb 16, 2018    Feb 24, 2020   \n",
       "annot_rel_num               100                    100             100   \n",
       "assm_level             Scaffold               Scaffold      Chromosome   \n",
       "num_chromosomes            None                   None              31   \n",
       "contig_n50                47768                  78697          108026   \n",
       "seq_length            227005758              475399557       248676414   \n",
       "submission_date      2015-02-02             2018-01-02      2019-12-11   \n",
       "\n",
       "                GCF_002938995.1  \n",
       "assm_name           ASM293899v1  \n",
       "annot_rel_date     Oct 03, 2018  \n",
       "annot_rel_num               100  \n",
       "assm_level             Scaffold  \n",
       "num_chromosomes            None  \n",
       "contig_n50               254123  \n",
       "seq_length            357124929  \n",
       "submission_date      2018-02-23  "
      ]
     },
     "metadata": {},
     "output_type": "display_data"
    }
   ],
   "source": [
    "assm_table = {}\n",
    "for d in api_response.datasets:\n",
    "    n_chr = len(d.chromosomes) if d.assembly_level == 'Chromosome' else None\n",
    "    assm_table[d.assembly_accession] = {\n",
    "        'assm_name': d.display_name,\n",
    "        'annot_rel_date': d.annotation_metadata.release_date,\n",
    "        'annot_rel_num': d.annotation_metadata.release_number,\n",
    "        'assm_level': d.assembly_level,\n",
    "        'num_chromosomes': n_chr,\n",
    "        'contig_n50': d.contig_n50,\n",
    "        'seq_length': d.seq_length,\n",
    "        'submission_date': d.submission_date }\n",
    "df = pd.DataFrame.from_dict(assm_table, orient='columns')\n",
    "display(df)"
   ]
  },
  {
   "cell_type": "markdown",
   "metadata": {},
   "source": [
    "## Assembly downloads"
   ]
  },
  {
   "cell_type": "code",
   "execution_count": 24,
   "metadata": {},
   "outputs": [],
   "source": [
    "dl_instance = ncbi.datasets.DownloadApi(ncbi.datasets.ApiClient())"
   ]
  },
  {
   "cell_type": "code",
   "execution_count": 25,
   "metadata": {},
   "outputs": [],
   "source": [
    "assembly_accessions = ['GCF_000001405.39']\n",
    "chromosomes = ['MT']\n",
    "include_sequence = True\n",
    "include_annotation_type = ['RNA_FASTA', 'PROT_FASTA']\n",
    "try:\n",
    "    # Retrieve a requested dataset and stream back reply by assembly accession\n",
    "    api_response = dl_instance.download_assembly_package(\n",
    "        assembly_accessions,\n",
    "        chromosomes=chromosomes,\n",
    "        include_sequence=include_sequence,\n",
    "        _preload_content=False,\n",
    "        include_annotation_type=include_annotation_type\n",
    "    )\n",
    "    with open('human_assembly.zip', 'wb') as f:\n",
    "        f.write(api_response.data)\n",
    "except ncbi.datasets.ApiException as e:\n",
    "    print(\"Exception when calling DownloadApi->download_package: %s\\n\" % e)"
   ]
  },
  {
   "cell_type": "code",
   "execution_count": 26,
   "metadata": {},
   "outputs": [
    {
     "name": "stdout",
     "output_type": "stream",
     "text": [
      "Archive:  human_assembly.zip\n",
      " Length   Method    Size  Cmpr    Date    Time   CRC-32   Name\n",
      "--------  ------  ------- ---- ---------- ----- --------  ----\n",
      "      57  Defl:N       59  -4% 04-09-2020 13:23 b0865ddc  ncbi_dataset/bagit.txt\n",
      "     998  Defl:N      515  48% 04-09-2020 13:23 64ffaf9b  README.md\n",
      "    1912  Defl:N      878  54% 04-09-2020 13:23 c3150e75  ncbi_dataset/data/GCF_000001405.39/data_report.yaml\n",
      "   16834  Defl:N     5379  68% 04-09-2020 13:23 932c3ae8  ncbi_dataset/data/GCF_000001405.39/chrMT.fna\n",
      "603050508  Defl:N 117125835  81% 04-09-2020 13:23 211c1695  ncbi_dataset/data/GCF_000001405.39/rna.fna\n",
      "84547070  Defl:N 26162763  69% 04-09-2020 13:23 7a138380  ncbi_dataset/data/GCF_000001405.39/protein.faa\n",
      "     523  Defl:N      170  68% 04-09-2020 13:23 d2edd9f2  ncbi_dataset/data/dataset_catalog.json\n",
      "       0  Defl:N        2   0% 04-09-2020 13:23 00000000  ncbi_dataset/fetch.txt\n",
      "     122  Defl:N      117   4% 04-09-2020 13:23 40153352  ncbi_dataset/bag-info.txt\n",
      "     311  Defl:N      201  35% 04-09-2020 13:23 563ebfcf  ncbi_dataset/manifest-md5.txt\n",
      "     190  Defl:N      136  28% 04-09-2020 13:23 bf09c227  ncbi_dataset/tagmanifest-md5.txt\n",
      "--------          -------  ---                            -------\n",
      "687618525         143296055  79%                            11 files\n"
     ]
    }
   ],
   "source": [
    "!unzip -v human_assembly.zip"
   ]
  },
  {
   "cell_type": "markdown",
   "metadata": {},
   "source": [
    "## Combining Assembly descriptions and downloads\n",
    "\n",
    "1. Fetch a list of RefSeq assembly accessions for all bird genomes using `assembly_descriptors_by_taxid` \n",
    "2. Filter assemblies that were annotated in 2019\n",
    "3. Download data"
   ]
  },
  {
   "cell_type": "code",
   "execution_count": 27,
   "metadata": {},
   "outputs": [],
   "source": [
    "api_response = api_instance.assembly_descriptors_by_taxid(\n",
    "    tax_id = 9989, ## taxid 9989 is 'rodents'\n",
    "    limit = 'all',\n",
    "    filters_refseq_only = True)"
   ]
  },
  {
   "cell_type": "code",
   "execution_count": 28,
   "metadata": {},
   "outputs": [
    {
     "name": "stdout",
     "output_type": "stream",
     "text": [
      "28\n"
     ]
    }
   ],
   "source": [
    "print(api_response.total_count)"
   ]
  },
  {
   "cell_type": "code",
   "execution_count": 29,
   "metadata": {},
   "outputs": [
    {
     "name": "stdout",
     "output_type": "stream",
     "text": [
      "[(2015, 3), (2016, 5), (2017, 5), (2018, 6), (2019, 8), (2020, 1)]\n"
     ]
    }
   ],
   "source": [
    "annots_by_year = Counter()\n",
    "for d in api_response.datasets:\n",
    "    annot_year = int(d.annotation_metadata.release_date.split(' ')[-1])\n",
    "    annots_by_year[annot_year] += 1\n",
    "    \n",
    "pprint(sorted(annots_by_year.items()))"
   ]
  },
  {
   "cell_type": "code",
   "execution_count": 30,
   "metadata": {},
   "outputs": [
    {
     "name": "stdout",
     "output_type": "stream",
     "text": [
      "['GCF_004664715.1', 'GCF_900094665.1', 'GCF_000001635.26', 'GCF_900095145.1', 'GCF_008632895.1', 'GCF_003676075.1', 'GCF_004785775.1', 'GCF_000622305.1']\n"
     ]
    }
   ],
   "source": [
    "assm_accs = []\n",
    "for d in api_response.datasets:\n",
    "    annot_year = int(d.annotation_metadata.release_date.split(' ')[-1])\n",
    "    if annot_year == 2019:\n",
    "        assm_accs.append(d.assembly_accession)\n",
    "        \n",
    "print(assm_accs)"
   ]
  },
  {
   "cell_type": "code",
   "execution_count": 31,
   "metadata": {},
   "outputs": [
    {
     "data": {
      "text/html": [
       "<div>\n",
       "<style scoped>\n",
       "    .dataframe tbody tr th:only-of-type {\n",
       "        vertical-align: middle;\n",
       "    }\n",
       "\n",
       "    .dataframe tbody tr th {\n",
       "        vertical-align: top;\n",
       "    }\n",
       "\n",
       "    .dataframe thead th {\n",
       "        text-align: right;\n",
       "    }\n",
       "</style>\n",
       "<table border=\"1\" class=\"dataframe\">\n",
       "  <thead>\n",
       "    <tr style=\"text-align: right;\">\n",
       "      <th></th>\n",
       "      <th>GCF_004664715.1</th>\n",
       "      <th>GCF_900094665.1</th>\n",
       "      <th>GCF_000001635.26</th>\n",
       "      <th>GCF_900095145.1</th>\n",
       "      <th>GCF_008632895.1</th>\n",
       "      <th>GCF_003676075.1</th>\n",
       "      <th>GCF_004785775.1</th>\n",
       "      <th>GCF_000622305.1</th>\n",
       "    </tr>\n",
       "  </thead>\n",
       "  <tbody>\n",
       "    <tr>\n",
       "      <th>assm_name</th>\n",
       "      <td>Pero_0.1</td>\n",
       "      <td>CAROLI_EIJ_v1.1</td>\n",
       "      <td>GRCm38.p6</td>\n",
       "      <td>PAHARI_EIJ_v1.1</td>\n",
       "      <td>UCSF_Mcou_1</td>\n",
       "      <td>ASM367607v1</td>\n",
       "      <td>NIH_TR_1.0</td>\n",
       "      <td>S.galili_v1.0</td>\n",
       "    </tr>\n",
       "    <tr>\n",
       "      <th>org_name</th>\n",
       "      <td>white-footed mouse</td>\n",
       "      <td>Ryukyu mouse</td>\n",
       "      <td>house mouse</td>\n",
       "      <td>shrew mouse</td>\n",
       "      <td>southern multimammate mouse</td>\n",
       "      <td>yellow-bellied marmot</td>\n",
       "      <td>Grammomys surdaster</td>\n",
       "      <td>Upper Galilee mountains blind mole rat</td>\n",
       "    </tr>\n",
       "    <tr>\n",
       "      <th>sci_name</th>\n",
       "      <td>Peromyscus leucopus</td>\n",
       "      <td>Mus caroli</td>\n",
       "      <td>Mus musculus</td>\n",
       "      <td>Mus pahari</td>\n",
       "      <td>Mastomys coucha</td>\n",
       "      <td>Marmota flaviventris</td>\n",
       "      <td>Grammomys surdaster</td>\n",
       "      <td>Nannospalax galili</td>\n",
       "    </tr>\n",
       "    <tr>\n",
       "      <th>annot_rel_date</th>\n",
       "      <td>Apr 18, 2019</td>\n",
       "      <td>Jun 07, 2019</td>\n",
       "      <td>Jul 12, 2019</td>\n",
       "      <td>Jun 14, 2019</td>\n",
       "      <td>Oct 18, 2019</td>\n",
       "      <td>Jan 25, 2019</td>\n",
       "      <td>Apr 18, 2019</td>\n",
       "      <td>Jun 05, 2019</td>\n",
       "    </tr>\n",
       "    <tr>\n",
       "      <th>annot_rel_num</th>\n",
       "      <td>100</td>\n",
       "      <td>101</td>\n",
       "      <td>108</td>\n",
       "      <td>101</td>\n",
       "      <td>100</td>\n",
       "      <td>100</td>\n",
       "      <td>100</td>\n",
       "      <td>102</td>\n",
       "    </tr>\n",
       "    <tr>\n",
       "      <th>assm_level</th>\n",
       "      <td>Scaffold</td>\n",
       "      <td>Chromosome</td>\n",
       "      <td>Chromosome</td>\n",
       "      <td>Chromosome</td>\n",
       "      <td>Chromosome</td>\n",
       "      <td>Scaffold</td>\n",
       "      <td>Scaffold</td>\n",
       "      <td>Scaffold</td>\n",
       "    </tr>\n",
       "    <tr>\n",
       "      <th>num_chromosomes</th>\n",
       "      <td>None</td>\n",
       "      <td>22</td>\n",
       "      <td>23</td>\n",
       "      <td>25</td>\n",
       "      <td>4</td>\n",
       "      <td>None</td>\n",
       "      <td>None</td>\n",
       "      <td>None</td>\n",
       "    </tr>\n",
       "    <tr>\n",
       "      <th>contig_n50</th>\n",
       "      <td>4102727</td>\n",
       "      <td>30917</td>\n",
       "      <td>32813180</td>\n",
       "      <td>29465</td>\n",
       "      <td>30483</td>\n",
       "      <td>130359</td>\n",
       "      <td>51731</td>\n",
       "      <td>30353</td>\n",
       "    </tr>\n",
       "    <tr>\n",
       "      <th>seq_length</th>\n",
       "      <td>2474055010</td>\n",
       "      <td>2553112587</td>\n",
       "      <td>2730855475</td>\n",
       "      <td>2475012951</td>\n",
       "      <td>2507168619</td>\n",
       "      <td>2582142248</td>\n",
       "      <td>2412664998</td>\n",
       "      <td>3061408210</td>\n",
       "    </tr>\n",
       "    <tr>\n",
       "      <th>submission_date</th>\n",
       "      <td>2019-04-05</td>\n",
       "      <td>2017-04-28</td>\n",
       "      <td>2017-09-15</td>\n",
       "      <td>2017-04-28</td>\n",
       "      <td>2019-09-24</td>\n",
       "      <td>2018-10-22</td>\n",
       "      <td>2019-04-12</td>\n",
       "      <td>2014-06-05</td>\n",
       "    </tr>\n",
       "  </tbody>\n",
       "</table>\n",
       "</div>"
      ],
      "text/plain": [
       "                     GCF_004664715.1  GCF_900094665.1 GCF_000001635.26  \\\n",
       "assm_name                   Pero_0.1  CAROLI_EIJ_v1.1        GRCm38.p6   \n",
       "org_name          white-footed mouse     Ryukyu mouse      house mouse   \n",
       "sci_name         Peromyscus leucopus       Mus caroli     Mus musculus   \n",
       "annot_rel_date          Apr 18, 2019     Jun 07, 2019     Jul 12, 2019   \n",
       "annot_rel_num                    100              101              108   \n",
       "assm_level                  Scaffold       Chromosome       Chromosome   \n",
       "num_chromosomes                 None               22               23   \n",
       "contig_n50                   4102727            30917         32813180   \n",
       "seq_length                2474055010       2553112587       2730855475   \n",
       "submission_date           2019-04-05       2017-04-28       2017-09-15   \n",
       "\n",
       "                 GCF_900095145.1              GCF_008632895.1  \\\n",
       "assm_name        PAHARI_EIJ_v1.1                  UCSF_Mcou_1   \n",
       "org_name             shrew mouse  southern multimammate mouse   \n",
       "sci_name              Mus pahari              Mastomys coucha   \n",
       "annot_rel_date      Jun 14, 2019                 Oct 18, 2019   \n",
       "annot_rel_num                101                          100   \n",
       "assm_level            Chromosome                   Chromosome   \n",
       "num_chromosomes               25                            4   \n",
       "contig_n50                 29465                        30483   \n",
       "seq_length            2475012951                   2507168619   \n",
       "submission_date       2017-04-28                   2019-09-24   \n",
       "\n",
       "                       GCF_003676075.1      GCF_004785775.1  \\\n",
       "assm_name                  ASM367607v1           NIH_TR_1.0   \n",
       "org_name         yellow-bellied marmot  Grammomys surdaster   \n",
       "sci_name          Marmota flaviventris  Grammomys surdaster   \n",
       "annot_rel_date            Jan 25, 2019         Apr 18, 2019   \n",
       "annot_rel_num                      100                  100   \n",
       "assm_level                    Scaffold             Scaffold   \n",
       "num_chromosomes                   None                 None   \n",
       "contig_n50                      130359                51731   \n",
       "seq_length                  2582142248           2412664998   \n",
       "submission_date             2018-10-22           2019-04-12   \n",
       "\n",
       "                                        GCF_000622305.1  \n",
       "assm_name                                 S.galili_v1.0  \n",
       "org_name         Upper Galilee mountains blind mole rat  \n",
       "sci_name                             Nannospalax galili  \n",
       "annot_rel_date                             Jun 05, 2019  \n",
       "annot_rel_num                                       102  \n",
       "assm_level                                     Scaffold  \n",
       "num_chromosomes                                    None  \n",
       "contig_n50                                        30353  \n",
       "seq_length                                   3061408210  \n",
       "submission_date                              2014-06-05  "
      ]
     },
     "metadata": {},
     "output_type": "display_data"
    }
   ],
   "source": [
    "assm_table = {}\n",
    "for d in api_response.datasets:\n",
    "    annot_year = int(d.annotation_metadata.release_date.split(' ')[-1])\n",
    "    if annot_year == 2019:\n",
    "        n_chr = len(d.chromosomes) if d.assembly_level == 'Chromosome' else None\n",
    "        assm_table[d.assembly_accession] = {\n",
    "            'assm_name': d.display_name,\n",
    "            'org_name': d.org.title,\n",
    "            'sci_name': d.org.sci_name,\n",
    "            'annot_rel_date': d.annotation_metadata.release_date,\n",
    "            'annot_rel_num': d.annotation_metadata.release_number,\n",
    "            'assm_level': d.assembly_level,\n",
    "            'num_chromosomes': n_chr,\n",
    "            'contig_n50': d.contig_n50,\n",
    "            'seq_length': d.seq_length,\n",
    "            'submission_date': d.submission_date }\n",
    "df = pd.DataFrame.from_dict(assm_table, orient='columns')\n",
    "display(df)"
   ]
  },
  {
   "cell_type": "code",
   "execution_count": 32,
   "metadata": {},
   "outputs": [],
   "source": [
    "dl_response = dl_instance.download_assembly_package(\n",
    "    assm_accs,\n",
    "    include_sequence=False,\n",
    "    _preload_content=False )\n",
    "\n",
    "with open('rodent_genomes.zip', 'wb') as f:\n",
    "    f.write(dl_response.data)"
   ]
  },
  {
   "cell_type": "code",
   "execution_count": 97,
   "metadata": {},
   "outputs": [
    {
     "name": "stdout",
     "output_type": "stream",
     "text": [
      "Archive:  rodent_genomes.zip\n",
      " Length   Method    Size  Cmpr    Date    Time   CRC-32   Name\n",
      "--------  ------  ------- ---- ---------- ----- --------  ----\n",
      "      57  Defl:N       59  -4% 04-09-2020 12:27 b0865ddc  ncbi_dataset/bagit.txt\n",
      "     998  Defl:N      515  48% 04-09-2020 12:27 64ffaf9b  README.md\n",
      "   17531  Defl:N     2435  86% 04-09-2020 12:27 130138ed  ncbi_dataset/data/GCF_000001635.26/data_report.yaml\n",
      "31460871  Defl:N  1156294  96% 04-09-2020 12:27 f3d750ce  ncbi_dataset/data/GCF_000622305.1/data_report.yaml\n",
      " 6698440  Defl:N   327968  95% 04-09-2020 12:28 c7a633ed  ncbi_dataset/data/GCF_003676075.1/data_report.yaml\n",
      "  365280  Defl:N    20883  94% 04-09-2020 12:28 0ffcec1d  ncbi_dataset/data/GCF_004664715.1/data_report.yaml\n",
      " 4832084  Defl:N   232241  95% 04-09-2020 12:28 f32b8c64  ncbi_dataset/data/GCF_004785775.1/data_report.yaml\n",
      "    7989  Defl:N     1535  81% 04-09-2020 12:28 fe541d7e  ncbi_dataset/data/GCF_008632895.1/data_report.yaml\n",
      "  652020  Defl:N    33899  95% 04-09-2020 12:28 b18342ec  ncbi_dataset/data/GCF_900094665.1/data_report.yaml\n",
      "  532338  Defl:N    27996  95% 04-09-2020 12:28 9c8fdad8  ncbi_dataset/data/GCF_900095145.1/data_report.yaml\n",
      "    1546  Defl:N      217  86% 04-09-2020 12:28 d469d630  ncbi_dataset/data/dataset_catalog.json\n",
      "       0  Defl:N        2   0% 04-09-2020 12:28 00000000  ncbi_dataset/fetch.txt\n",
      "     121  Defl:N      116   4% 04-09-2020 12:28 d556251e  ncbi_dataset/bag-info.txt\n",
      "     601  Defl:N      295  51% 04-09-2020 12:28 83891a21  ncbi_dataset/manifest-md5.txt\n",
      "     190  Defl:N      136  28% 04-09-2020 12:28 bb9cd9d7  ncbi_dataset/tagmanifest-md5.txt\n",
      "--------          -------  ---                            -------\n",
      "44570066          1804591  96%                            15 files\n"
     ]
    }
   ],
   "source": [
    "!unzip -v rodent_genomes.zip"
   ]
  }
 ],
 "metadata": {
  "kernelspec": {
   "display_name": "Python 3",
   "language": "python",
   "name": "python3"
  },
  "language_info": {
   "codemirror_mode": {
    "name": "ipython",
    "version": 3
   },
   "file_extension": ".py",
   "mimetype": "text/x-python",
   "name": "python",
   "nbconvert_exporter": "python",
   "pygments_lexer": "ipython3",
   "version": "3.8.1"
  }
 },
 "nbformat": 4,
 "nbformat_minor": 4
}
