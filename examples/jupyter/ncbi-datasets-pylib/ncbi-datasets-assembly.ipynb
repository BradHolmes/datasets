{
 "cells": [
  {
   "cell_type": "markdown",
   "metadata": {},
   "source": [
    "# Using the `ncbi.datasets` python library to navigate NCBI assembly data\n",
    "\n",
    "The `ncbi.datasets` python library can be used to query NCBI datasets and navigate through the results quickly within python. "
   ]
  },
  {
   "cell_type": "markdown",
   "metadata": {},
   "source": [
    "## Getting started\n",
    "\n",
    "First, let's import the python modules we'll use.  Be sure you have first installed the requirements in 'requirements.txt' into your virtual environment."
   ]
  },
  {
   "cell_type": "code",
   "execution_count": 1,
   "metadata": {},
   "outputs": [],
   "source": [
    "import sys\n",
    "import zipfile\n",
    "import pandas as pd\n",
    "from pprint import pprint\n",
    "from datetime import datetime\n",
    "from collections import defaultdict, Counter\n",
    "from IPython.display import display\n",
    "\n",
    "import matplotlib.pyplot as plt\n",
    "plt.style.use('ggplot')\n",
    "\n",
    "try:\n",
    "    import ncbi.datasets\n",
    "except ImportError:\n",
    "    print('ncbi.datasets module not found. To install, run `pip install ncbi-datasets-pylib`.')"
   ]
  },
  {
   "cell_type": "markdown",
   "metadata": {},
   "source": [
    "## Assembly Descriptors\n",
    "\n",
    "Assembly descriptions include all the meta-data you'll need, and can be accessed in three ways:\n",
    "1. accession: an NCBI Assembly accession\n",
    "2. organism: an organism or a taxonomical group name \n",
    "3. taxid: using an NCBI Taxonomy identifier, at any level.\n",
    "\n",
    "First, we'll need an api object specific to retrieving assembly descriptors.  To see all the possible API instances, [visit the documentation on GitHub](https://github.com/ncbi/datasets/tree/master/client_docs/python#documentation-for-api-endpoints)"
   ]
  },
  {
   "cell_type": "code",
   "execution_count": 1,
   "metadata": {},
   "outputs": [],
   "source": [
    "## start an api_instance \n",
    "api_instance = ncbi.datasets.AssemblyDatasetDescriptorsApi(ncbi.datasets.ApiClient())"
   ]
  },
  {
   "cell_type": "markdown",
   "metadata": {},
   "source": [
    "### Assembly descriptions by accession\n",
    "\n",
    "Let's start with the simplest case.  Say you already know the NCBI Assembly accession, for example, for the latest human reference genome assembly (GRCh38), `GCF_000001405.39`.  Using the `assembly_descriptor_by_accession()` method, we'll get back a `V1alpha1AssemblyDatasetDescriptors` object ([documented here](https://github.com/ncbi/datasets/blob/master/client_docs/python/docs/V1alpha1AssemblyDatasetDescriptors.md)). (a mouthful we know).  The various fields in the response are attributes of the object.\n",
    "\n",
    "Let's see this in practice."
   ]
  },
  {
   "cell_type": "code",
   "execution_count": 1,
   "metadata": {},
   "outputs": [
    {
     "data": {
      "text/plain": [
       "ncbi.datasets.models.v1alpha1_assembly_dataset_descriptors.V1alpha1AssemblyDatasetDescriptors"
      ]
     },
     "execution_count": 1,
     "metadata": {},
     "output_type": "execute_result"
    }
   ],
   "source": [
    "assembly_accession = 'GCF_000001405.39' ## needs to be a full accession.version\n",
    "\n",
    "assembly_descriptor = api_instance.assembly_descriptors_by_accession(assembly_accession)\n",
    "\n",
    "type(assembly_descriptor)\n"
   ]
  },
  {
   "cell_type": "markdown",
   "metadata": {},
   "source": [
    "`assembly_descriptor` contains a description about the assembly and the total count of results in JSON format."
   ]
  },
  {
   "cell_type": "code",
   "execution_count": 1,
   "metadata": {},
   "outputs": [
    {
     "name": "stdout",
     "output_type": "stream",
     "text": [
      "{'datasets': [{'annotation_metadata': {'file': [{'estimated_size': '49043324',\n",
      "                                                 'type': 'GENOME_GFF'},\n",
      "                                                {'estimated_size': '1314946692',\n",
      "                                                 'type': 'GENOME_GBFF'},\n",
      "                                                {'estimated_size': '117396760',\n",
      "                                                 'type': 'RNA_FASTA'},\n",
      "                                                {'estimated_size': '26197132',\n",
      "                                                 'type': 'PROT_FASTA'}],\n",
      "                                       'name': 'NCBI Annotation Release '\n",
      "                                               '109.20200522',\n",
      "                                       'release_date': 'May 22, 2020',\n",
      "                                       'release_number': '109.20200522',\n",
      "                                       'report_url': 'https://www.ncbi.nlm.nih.gov/genome/annotation_euk/Homo_sapiens/109.20200522/',\n",
      "                                       'source': 'NCBI'},\n",
      "               'assembly_accession': 'GCF_000001405.39',\n",
      "               'assembly_category': 'reference genome',\n",
      "               'assembly_level': 'Chromosome',\n",
      "               'chromosomes': ['1',\n",
      "                               '2',\n",
      "                               '3',\n",
      "                               '4',\n",
      "                               '5',\n",
      "                               '6',\n",
      "                               '7',\n",
      "                               '8',\n",
      "                               '9',\n",
      "                               '10',\n",
      "                               '11',\n",
      "                               '12',\n",
      "                               '13',\n",
      "                               '14',\n",
      "                               '15',\n",
      "                               '16',\n",
      "                               '17',\n",
      "                               '18',\n",
      "                               '19',\n",
      "                               '20',\n",
      "                               '21',\n",
      "                               '22',\n",
      "                               'X',\n",
      "                               'Y',\n",
      "                               'Un',\n",
      "                               'MT'],\n",
      "               'contig_n50': 57879411,\n",
      "               'display_name': 'GRCh38.p13',\n",
      "               'estimated_size': '2339942285',\n",
      "               'org': {'assembly_count': None,\n",
      "                       'assembly_counts': {'node': 125, 'subtree': 125},\n",
      "                       'blast_node': None,\n",
      "                       'breed': None,\n",
      "                       'children': None,\n",
      "                       'common_name': 'human',\n",
      "                       'cultivar': None,\n",
      "                       'ecotype': None,\n",
      "                       'icon': None,\n",
      "                       'isolate': None,\n",
      "                       'key': '9606',\n",
      "                       'max_ord': None,\n",
      "                       'merged': None,\n",
      "                       'merged_tax_ids': None,\n",
      "                       'min_ord': None,\n",
      "                       'parent_tax_id': '9605',\n",
      "                       'rank': 'SPECIES',\n",
      "                       'sci_name': 'Homo sapiens',\n",
      "                       'search_text': None,\n",
      "                       'sex': None,\n",
      "                       'strain': None,\n",
      "                       'tax_id': '9606',\n",
      "                       'title': 'human'},\n",
      "               'seq_length': '3099706404',\n",
      "               'submission_date': '2019-02-28'}],\n",
      " 'total_count': 1}\n"
     ]
    }
   ],
   "source": [
    "print(assembly_descriptor)"
   ]
  },
  {
   "cell_type": "code",
   "execution_count": 1,
   "metadata": {},
   "outputs": [
    {
     "name": "stdout",
     "output_type": "stream",
     "text": [
      "Number of assemblies: 1\n"
     ]
    }
   ],
   "source": [
    "print(f\"Number of assemblies: {assembly_descriptor.total_count}\" )"
   ]
  },
  {
   "cell_type": "code",
   "execution_count": 1,
   "metadata": {},
   "outputs": [
    {
     "name": "stdout",
     "output_type": "stream",
     "text": [
      "GCF_000001405.39\tChromosome\t26\t2019-02-28\n"
     ]
    }
   ],
   "source": [
    "## print other information \n",
    "for d in assembly_descriptor.datasets:\n",
    "    print(d.assembly_accession, d.assembly_level, len(d.chromosomes), d.submission_date, sep = '\\t')"
   ]
  },
  {
   "cell_type": "markdown",
   "metadata": {},
   "source": [
    "### Assembly descriptors by organism or tax group name \n",
    "\n",
    "Now let's say you only know the name of the organism for which you want to retrieve assembly information."
   ]
  },
  {
   "cell_type": "code",
   "execution_count": 1,
   "metadata": {},
   "outputs": [],
   "source": [
    "## a few examples to try \n",
    "# tax_name = 'mammals'\n",
    "# tax_name = 'birds'\n",
    "# tax_name = 'butterflies'\n",
    "tax_name = 'primates'\n",
    "\n",
    "assembly_descriptors = api_instance.assembly_descriptors_by_organism(\n",
    "    tax_name = tax_name,\n",
    "    limit = 'all')"
   ]
  },
  {
   "cell_type": "code",
   "execution_count": 1,
   "metadata": {},
   "outputs": [
    {
     "name": "stdout",
     "output_type": "stream",
     "text": [
      "Number of assemblies in the group 'primates': 243\n"
     ]
    }
   ],
   "source": [
    "print(f\"Number of assemblies in the group '{tax_name}': {assembly_descriptors.total_count}\")"
   ]
  },
  {
   "cell_type": "markdown",
   "metadata": {},
   "source": [
    "#### Assemblies organized by GenBank/RefSeq\n",
    "Now we can analyze the results and organize by GenBank and RefSeq, and make a nice tabular output and pie-chart of the results."
   ]
  },
  {
   "cell_type": "code",
   "execution_count": 1,
   "metadata": {},
   "outputs": [
    {
     "name": "stdout",
     "output_type": "stream",
     "text": [
      "Counter({'GenBank': 214, 'RefSeq': 29})\n"
     ]
    }
   ],
   "source": [
    "assm_counter = Counter()\n",
    "for d in assembly_descriptors.datasets:\n",
    "    if d.assembly_accession[:3] == 'GCA':\n",
    "        assm_counter['GenBank'] += 1\n",
    "    elif d.assembly_accession[:3] == 'GCF':\n",
    "        assm_counter['RefSeq'] += 1\n",
    "    \n",
    "print(assm_counter)"
   ]
  },
  {
   "cell_type": "code",
   "execution_count": 1,
   "metadata": {},
   "outputs": [
    {
     "data": {
      "text/html": [
       "<div>\n",
       "<style scoped>\n",
       "    .dataframe tbody tr th:only-of-type {\n",
       "        vertical-align: middle;\n",
       "    }\n",
       "\n",
       "    .dataframe tbody tr th {\n",
       "        vertical-align: top;\n",
       "    }\n",
       "\n",
       "    .dataframe thead th {\n",
       "        text-align: right;\n",
       "    }\n",
       "</style>\n",
       "<table border=\"1\" class=\"dataframe\">\n",
       "  <thead>\n",
       "    <tr style=\"text-align: right;\">\n",
       "      <th></th>\n",
       "      <th>count</th>\n",
       "    </tr>\n",
       "  </thead>\n",
       "  <tbody>\n",
       "    <tr>\n",
       "      <th>RefSeq</th>\n",
       "      <td>29</td>\n",
       "    </tr>\n",
       "    <tr>\n",
       "      <th>GenBank</th>\n",
       "      <td>214</td>\n",
       "    </tr>\n",
       "  </tbody>\n",
       "</table>\n",
       "</div>"
      ],
      "text/plain": [
       "         count\n",
       "RefSeq      29\n",
       "GenBank    214"
      ]
     },
     "metadata": {},
     "output_type": "display_data"
    },
    {
     "data": {
      "text/plain": [
       "<matplotlib.axes._subplots.AxesSubplot at 0x7fa8d16f30f0>"
      ]
     },
     "execution_count": 1,
     "metadata": {},
     "output_type": "execute_result"
    },
    {
     "data": {
      "image/png": "[encoded data removed]",
      "text/plain": [
       "<Figure size 432x432 with 1 Axes>"
      ]
     },
     "metadata": {},
     "output_type": "display_data"
    }
   ],
   "source": [
    "df = pd.DataFrame.from_dict(assm_counter, orient='index', columns=['count'])\n",
    "display(df)\n",
    "df.plot(kind='pie', y='count', figsize=(6,6), title='Assemblies by type')"
   ]
  },
  {
   "cell_type": "markdown",
   "metadata": {},
   "source": [
    "#### Assemblies organized by assembly level\n",
    "Alternatively, we can organize by the assembly level (scaffold, contig or choromosome)."
   ]
  },
  {
   "cell_type": "code",
   "execution_count": 1,
   "metadata": {},
   "outputs": [
    {
     "name": "stdout",
     "output_type": "stream",
     "text": [
      "Counter({'Scaffold': 116, 'Chromosome': 64, 'Contig': 63})\n"
     ]
    }
   ],
   "source": [
    "assm_level = Counter()\n",
    "for d in assembly_descriptors.datasets:\n",
    "    assm_level[d.assembly_level] += 1\n",
    "    \n",
    "print(assm_level)"
   ]
  },
  {
   "cell_type": "code",
   "execution_count": 1,
   "metadata": {},
   "outputs": [
    {
     "data": {
      "text/html": [
       "<div>\n",
       "<style scoped>\n",
       "    .dataframe tbody tr th:only-of-type {\n",
       "        vertical-align: middle;\n",
       "    }\n",
       "\n",
       "    .dataframe tbody tr th {\n",
       "        vertical-align: top;\n",
       "    }\n",
       "\n",
       "    .dataframe thead th {\n",
       "        text-align: right;\n",
       "    }\n",
       "</style>\n",
       "<table border=\"1\" class=\"dataframe\">\n",
       "  <thead>\n",
       "    <tr style=\"text-align: right;\">\n",
       "      <th></th>\n",
       "      <th>count</th>\n",
       "    </tr>\n",
       "  </thead>\n",
       "  <tbody>\n",
       "    <tr>\n",
       "      <th>Scaffold</th>\n",
       "      <td>116</td>\n",
       "    </tr>\n",
       "    <tr>\n",
       "      <th>Chromosome</th>\n",
       "      <td>64</td>\n",
       "    </tr>\n",
       "    <tr>\n",
       "      <th>Contig</th>\n",
       "      <td>63</td>\n",
       "    </tr>\n",
       "  </tbody>\n",
       "</table>\n",
       "</div>"
      ],
      "text/plain": [
       "            count\n",
       "Scaffold      116\n",
       "Chromosome     64\n",
       "Contig         63"
      ]
     },
     "metadata": {},
     "output_type": "display_data"
    },
    {
     "data": {
      "text/plain": [
       "<matplotlib.axes._subplots.AxesSubplot at 0x7fa8d16bcbe0>"
      ]
     },
     "execution_count": 1,
     "metadata": {},
     "output_type": "execute_result"
    },
    {
     "data": {
      "image/png": "[encoded data removed]",
      "text/plain": [
       "<Figure size 432x432 with 1 Axes>"
      ]
     },
     "metadata": {},
     "output_type": "display_data"
    }
   ],
   "source": [
    "df = pd.DataFrame.from_dict(assm_level, orient='index', columns=['count'])\n",
    "display(df)\n",
    "df.plot(kind='pie', y='count', figsize=(6,6), title='Assemblies by level',)"
   ]
  },
  {
   "cell_type": "markdown",
   "metadata": {},
   "source": [
    "#### Assemblies grouped and counted by annotation release number\n",
    "\n",
    "All RefSeq assemblies are annotated and each annotation release is numbered, starting from 100. A quick way to check if the latest annotation is the first time an assembly for that organism was annotated is to check the annotation release number. Anything above 100 can be interpreted to have been through multiple annotations. \n",
    "\n",
    "For example, in the analysis shown below, the human assembly has an annotation release number 109 indicating that a human assembly was annotated multiple times. On the other hand, 'silvery gibbon' assembly has an annotation release number 100 indicating that this is the first time an assembly from this organism was annotated. "
   ]
  },
  {
   "cell_type": "code",
   "execution_count": 1,
   "metadata": {},
   "outputs": [
    {
     "name": "stdout",
     "output_type": "stream",
     "text": [
      "Counter({100: 9, 101: 8, 103: 3, 102: 3, 104: 2, 105: 1, 109: 1})\n"
     ]
    }
   ],
   "source": [
    "## out of the 28 RefSeq assemblies, how many have been annotated more than once? \n",
    "annot_counter = Counter()\n",
    "for d in assembly_descriptors.datasets:\n",
    "    if d.assembly_accession.startswith('GCF') and d.annotation_metadata:\n",
    "        rel = int(d.annotation_metadata.release_number.split('.')[0])\n",
    "        annot_counter[rel] += 1\n",
    "pprint(annot_counter)"
   ]
  },
  {
   "cell_type": "code",
   "execution_count": 1,
   "metadata": {},
   "outputs": [
    {
     "data": {
      "text/plain": [
       "<matplotlib.axes._subplots.AxesSubplot at 0x7fa8d168bdd8>"
      ]
     },
     "execution_count": 1,
     "metadata": {},
     "output_type": "execute_result"
    },
    {
     "data": {
      "image/png": "[encoded data removed]",
      "text/plain": [
       "<Figure size 648x432 with 1 Axes>"
      ]
     },
     "metadata": {},
     "output_type": "display_data"
    }
   ],
   "source": [
    "df = pd.DataFrame.from_dict(annot_counter, orient='index', columns=['count']).sort_index()\n",
    "df.plot(kind='bar', y='count', figsize=(9,6))"
   ]
  },
  {
   "cell_type": "markdown",
   "metadata": {},
   "source": [
    "#### Assemblies organized by annotation release number"
   ]
  },
  {
   "cell_type": "code",
   "execution_count": 1,
   "metadata": {},
   "outputs": [
    {
     "name": "stdout",
     "output_type": "stream",
     "text": [
      "defaultdict(<class 'list'>,\n",
      "            {'100': ['GCF_000955945.1 sooty mangabey',\n",
      "                     'GCF_000951045.1 drill',\n",
      "                     'GCF_003255815.1 gelada',\n",
      "                     'GCF_000951035.1 Colobus angolensis palliatus',\n",
      "                     \"GCF_009764315.1 Francois's langur\",\n",
      "                     'GCF_001698545.1 black snub-nosed monkey',\n",
      "                     'GCF_001604975.1 Cebus capucinus imitator',\n",
      "                     'GCF_009761245.1 Tufted capuchin',\n",
      "                     \"GCF_000956105.1 Coquerel's sifaka\"],\n",
      "             '101': ['GCF_009828535.2 silvery gibbon',\n",
      "                     'GCF_000364345.1 crab-eating macaque',\n",
      "                     'GCF_000956065.1 pig-tailed macaque',\n",
      "                     'GCF_007565055.1 golden snub-nosed monkey',\n",
      "                     \"GCF_000952055.2 Ma's night monkey\",\n",
      "                     'GCF_000235385.1 Bolivian squirrel monkey',\n",
      "                     'GCF_000164805.1 Philippine tarsier',\n",
      "                     'GCF_000165445.2 gray mouse lemur'],\n",
      "             '102': ['GCF_008122165.1 western lowland gorilla',\n",
      "                     'GCF_002776525.3 Ugandan red Colobus',\n",
      "                     'GCF_000181295.1 small-eared galago'],\n",
      "             '103': ['GCF_006542625.1 northern white-cheeked gibbon',\n",
      "                     'GCF_002880775.1 Sumatran orangutan',\n",
      "                     'GCF_003339765.1 Rhesus monkey'],\n",
      "             '104': ['GCF_008728515.1 olive baboon',\n",
      "                     'GCF_000004665.1 white-tufted-ear marmoset'],\n",
      "             '105': ['GCF_002880755.1 chimpanzee'],\n",
      "             '109.20200522': ['GCF_000001405.39 human']})\n"
     ]
    }
   ],
   "source": [
    "annot_list = defaultdict(list)\n",
    "for d in assembly_descriptors.datasets:\n",
    "    if d.assembly_accession.startswith('GCF') and d.annotation_metadata:\n",
    "        rel = d.annotation_metadata.release_number\n",
    "        annot_list[rel].append(d.assembly_accession + ' ' + d.org.title)\n",
    "pprint(annot_list)"
   ]
  },
  {
   "cell_type": "markdown",
   "metadata": {
    "jupyter": {
     "outputs_hidden": true
    }
   },
   "source": [
    "### Assembly descriptors by taxid\n",
    "Finally, instead of a tax-name, you might have an organism tax-id.  Interestingly, like the tax-name, it can be at any level in the taxonomic tree."
   ]
  },
  {
   "cell_type": "code",
   "execution_count": 1,
   "metadata": {},
   "outputs": [],
   "source": [
    "# taxid = 8782 ## birds\n",
    "# taxid = 7898 ## ray-finned fish\n",
    "taxid = 37572 ## butterflies\n",
    "\n",
    "assembly_descriptors = api_instance.assembly_descriptors_by_taxid(\n",
    "    tax_id = taxid,\n",
    "    limit = 'all',\n",
    "    filters_refseq_only = True)"
   ]
  },
  {
   "cell_type": "code",
   "execution_count": 1,
   "metadata": {},
   "outputs": [
    {
     "name": "stdout",
     "output_type": "stream",
     "text": [
      "Number of assemblies: 8\n"
     ]
    }
   ],
   "source": [
    "print(f\"Number of assemblies: {assembly_descriptors.total_count}\")"
   ]
  },
  {
   "cell_type": "code",
   "execution_count": 1,
   "metadata": {},
   "outputs": [
    {
     "name": "stdout",
     "output_type": "stream",
     "text": [
      "Counter({'GCF': 8})\n"
     ]
    }
   ],
   "source": [
    "## count number of GenBank and RefSeq assemblies\n",
    "## all are RefSeq assemblies because 'filters_refseq_only=True' above\n",
    "assm_counter = Counter()\n",
    "for d in assembly_descriptors.datasets:\n",
    "    assm_counter[d.assembly_accession[:3]] += 1\n",
    "    \n",
    "print(assm_counter)"
   ]
  },
  {
   "cell_type": "markdown",
   "metadata": {},
   "source": [
    "#### Group assemblies by annotation date"
   ]
  },
  {
   "cell_type": "code",
   "execution_count": 1,
   "metadata": {},
   "outputs": [
    {
     "name": "stdout",
     "output_type": "stream",
     "text": [
      "[('2015', 3), ('2017', 1), ('2018', 2), ('2020', 1)]\n"
     ]
    }
   ],
   "source": [
    "annot_rel_dates = Counter()\n",
    "for d in assembly_descriptors.datasets:\n",
    "    if not d.assembly_accession.startswith('GCF') or not d.annotation_metadata:\n",
    "        continue\n",
    "    rel_date = datetime.strptime(d.annotation_metadata.release_date, '%b %d, %Y')\n",
    "    rel_year = datetime.strftime(rel_date, '%Y')\n",
    "    annot_rel_dates[rel_year] += 1\n",
    "pprint(sorted(annot_rel_dates.items()))"
   ]
  },
  {
   "cell_type": "code",
   "execution_count": 1,
   "metadata": {},
   "outputs": [
    {
     "data": {
      "text/plain": [
       "<matplotlib.axes._subplots.AxesSubplot at 0x7fa8d1608a20>"
      ]
     },
     "execution_count": 1,
     "metadata": {},
     "output_type": "execute_result"
    },
    {
     "data": {
      "image/png": "[encoded data removed]",
      "text/plain": [
       "<Figure size 648x432 with 1 Axes>"
      ]
     },
     "metadata": {},
     "output_type": "display_data"
    }
   ],
   "source": [
    "df = pd.DataFrame.from_dict(annot_rel_dates, orient='index', columns=['count']).sort_index()\n",
    "df.plot(kind='barh', y='count', figsize=(9,6))"
   ]
  },
  {
   "cell_type": "code",
   "execution_count": 1,
   "metadata": {
    "scrolled": true
   },
   "outputs": [
    {
     "data": {
      "text/html": [
       "<div>\n",
       "<style scoped>\n",
       "    .dataframe tbody tr th:only-of-type {\n",
       "        vertical-align: middle;\n",
       "    }\n",
       "\n",
       "    .dataframe tbody tr th {\n",
       "        vertical-align: top;\n",
       "    }\n",
       "\n",
       "    .dataframe thead th {\n",
       "        text-align: right;\n",
       "    }\n",
       "</style>\n",
       "<table border=\"1\" class=\"dataframe\">\n",
       "  <thead>\n",
       "    <tr style=\"text-align: right;\">\n",
       "      <th></th>\n",
       "      <th>GCF_009731565.1</th>\n",
       "      <th>GCF_900239965.1</th>\n",
       "      <th>GCF_002938995.1</th>\n",
       "      <th>GCF_000836235.1</th>\n",
       "      <th>GCF_000836215.1</th>\n",
       "      <th>GCF_001298355.1</th>\n",
       "      <th>GCF_001856805.1</th>\n",
       "    </tr>\n",
       "  </thead>\n",
       "  <tbody>\n",
       "    <tr>\n",
       "      <th>assm_name</th>\n",
       "      <td>Dplex_v4</td>\n",
       "      <td>Bicyclus_anynana_v1.2</td>\n",
       "      <td>ASM293899v1</td>\n",
       "      <td>Pxut_1.0</td>\n",
       "      <td>Ppol_1.0</td>\n",
       "      <td>Pap_ma_1.0</td>\n",
       "      <td>P_rapae_3842_assembly_v2</td>\n",
       "    </tr>\n",
       "    <tr>\n",
       "      <th>annot_rel_date</th>\n",
       "      <td>Feb 24, 2020</td>\n",
       "      <td>Feb 16, 2018</td>\n",
       "      <td>Oct 03, 2018</td>\n",
       "      <td>Jul 31, 2015</td>\n",
       "      <td>Jul 30, 2015</td>\n",
       "      <td>Oct 28, 2015</td>\n",
       "      <td>Aug 08, 2017</td>\n",
       "    </tr>\n",
       "    <tr>\n",
       "      <th>annot_rel_num</th>\n",
       "      <td>100</td>\n",
       "      <td>100</td>\n",
       "      <td>100</td>\n",
       "      <td>100</td>\n",
       "      <td>100</td>\n",
       "      <td>100</td>\n",
       "      <td>100</td>\n",
       "    </tr>\n",
       "    <tr>\n",
       "      <th>assm_level</th>\n",
       "      <td>Chromosome</td>\n",
       "      <td>Scaffold</td>\n",
       "      <td>Scaffold</td>\n",
       "      <td>Scaffold</td>\n",
       "      <td>Scaffold</td>\n",
       "      <td>Scaffold</td>\n",
       "      <td>Scaffold</td>\n",
       "    </tr>\n",
       "    <tr>\n",
       "      <th>num_chromosomes</th>\n",
       "      <td>31</td>\n",
       "      <td>None</td>\n",
       "      <td>None</td>\n",
       "      <td>None</td>\n",
       "      <td>None</td>\n",
       "      <td>None</td>\n",
       "      <td>None</td>\n",
       "    </tr>\n",
       "    <tr>\n",
       "      <th>contig_n50</th>\n",
       "      <td>108026</td>\n",
       "      <td>78697</td>\n",
       "      <td>254123</td>\n",
       "      <td>128246</td>\n",
       "      <td>47768</td>\n",
       "      <td>92238</td>\n",
       "      <td>54957</td>\n",
       "    </tr>\n",
       "    <tr>\n",
       "      <th>seq_length</th>\n",
       "      <td>248676414</td>\n",
       "      <td>475399557</td>\n",
       "      <td>357124929</td>\n",
       "      <td>243890167</td>\n",
       "      <td>227005758</td>\n",
       "      <td>278421261</td>\n",
       "      <td>245871251</td>\n",
       "    </tr>\n",
       "    <tr>\n",
       "      <th>submission_date</th>\n",
       "      <td>2019-12-11</td>\n",
       "      <td>2018-01-02</td>\n",
       "      <td>2018-02-23</td>\n",
       "      <td>2015-02-02</td>\n",
       "      <td>2015-02-02</td>\n",
       "      <td>2015-09-28</td>\n",
       "      <td>2016-10-16</td>\n",
       "    </tr>\n",
       "  </tbody>\n",
       "</table>\n",
       "</div>"
      ],
      "text/plain": [
       "                GCF_009731565.1        GCF_900239965.1 GCF_002938995.1  \\\n",
       "assm_name              Dplex_v4  Bicyclus_anynana_v1.2     ASM293899v1   \n",
       "annot_rel_date     Feb 24, 2020           Feb 16, 2018    Oct 03, 2018   \n",
       "annot_rel_num               100                    100             100   \n",
       "assm_level           Chromosome               Scaffold        Scaffold   \n",
       "num_chromosomes              31                   None            None   \n",
       "contig_n50               108026                  78697          254123   \n",
       "seq_length            248676414              475399557       357124929   \n",
       "submission_date      2019-12-11             2018-01-02      2018-02-23   \n",
       "\n",
       "                GCF_000836235.1 GCF_000836215.1 GCF_001298355.1  \\\n",
       "assm_name              Pxut_1.0        Ppol_1.0      Pap_ma_1.0   \n",
       "annot_rel_date     Jul 31, 2015    Jul 30, 2015    Oct 28, 2015   \n",
       "annot_rel_num               100             100             100   \n",
       "assm_level             Scaffold        Scaffold        Scaffold   \n",
       "num_chromosomes            None            None            None   \n",
       "contig_n50               128246           47768           92238   \n",
       "seq_length            243890167       227005758       278421261   \n",
       "submission_date      2015-02-02      2015-02-02      2015-09-28   \n",
       "\n",
       "                          GCF_001856805.1  \n",
       "assm_name        P_rapae_3842_assembly_v2  \n",
       "annot_rel_date               Aug 08, 2017  \n",
       "annot_rel_num                         100  \n",
       "assm_level                       Scaffold  \n",
       "num_chromosomes                      None  \n",
       "contig_n50                          54957  \n",
       "seq_length                      245871251  \n",
       "submission_date                2016-10-16  "
      ]
     },
     "metadata": {},
     "output_type": "display_data"
    }
   ],
   "source": [
    "assm_table = {}\n",
    "for d in assembly_descriptors.datasets:\n",
    "    if not d.annotation_metadata:\n",
    "        continue\n",
    "    n_chr = len(d.chromosomes) if d.assembly_level == 'Chromosome' else None\n",
    "    assm_table[d.assembly_accession] = {\n",
    "        'assm_name': d.display_name,\n",
    "        'annot_rel_date': d.annotation_metadata.release_date,\n",
    "        'annot_rel_num': d.annotation_metadata.release_number,\n",
    "        'assm_level': d.assembly_level,\n",
    "        'num_chromosomes': n_chr,\n",
    "        'contig_n50': d.contig_n50,\n",
    "        'seq_length': d.seq_length,\n",
    "        'submission_date': d.submission_date }\n",
    "df = pd.DataFrame.from_dict(assm_table, orient='columns')\n",
    "display(df)"
   ]
  },
  {
   "cell_type": "markdown",
   "metadata": {},
   "source": [
    "## Genome assembly downloads\n",
    "So far, we have looked at interacting with assembly descriptors, which describe the essential metadata for genome assemblies. But what if you want actual data for analysis. Using the Datasets API, you can download sequence data, annotation and a data report containing more detailed metadata for each assembly.\n",
    "\n",
    "Using the above assembly descriptors, you can create a download request for a set of assemblies and chromosomes.  To illustrate, let's start by downloading a package with nucleotide sequence for mitochondria and all protein sequences for the latest human assembly."
   ]
  },
  {
   "cell_type": "code",
   "execution_count": 1,
   "metadata": {},
   "outputs": [],
   "source": [
    "download_api = ncbi.datasets.DownloadApi(ncbi.datasets.ApiClient())"
   ]
  },
  {
   "cell_type": "code",
   "execution_count": 1,
   "metadata": {},
   "outputs": [],
   "source": [
    "assembly_accessions = ['GCF_000001405.39']\n",
    "chromosomes = ['MT']\n",
    "include_sequence = True\n",
    "include_annotation_type = ['PROT_FASTA']\n",
    "\n",
    "api_response = download_api.download_assembly_package(\n",
    "    assembly_accessions,\n",
    "    chromosomes=chromosomes,\n",
    "    include_sequence=include_sequence,\n",
    "    include_annotation_type=include_annotation_type,\n",
    "    # Because we are streaming back the results to disk, \n",
    "    # we should defer reading/decoding the response\n",
    "    _preload_content=False\n",
    ")\n",
    "\n",
    "with open('human_assembly.zip', 'wb') as f:\n",
    "    f.write(api_response.data)\n"
   ]
  },
  {
   "cell_type": "markdown",
   "metadata": {},
   "source": [
    "When we unpack the zip file, we see a BdBag structure.  Read more about the contents in the [download assembly command\n",
    " section of the documentation](https://www.ncbi.nlm.nih.gov/datasets/docs/command-line-assembly/).  In addition to metadata about the package, including md5 checksums, we see the data folder contains four files:\n",
    " 1. The data report (`data_report.yaml`) for GCF_000001405.39.  It contains assembly information like sequence names,  NCBI accessions, UCSC-style chromosome names, and annotation statistics (gene counts)\n",
    " 2. The nucleotide sequence in FASTA format for the one chromosome we requested: `chrMT.fna`\n",
    " 3. All protein sequences in FASTA format: `protein.faa`\n",
    " 4. And finally, a dataset catalog file (`dataset_catalog.json`) that describes the contents of the data, to aid in programmatic access."
   ]
  },
  {
   "cell_type": "code",
   "execution_count": 1,
   "metadata": {
    "scrolled": true
   },
   "outputs": [
    {
     "name": "stdout",
     "output_type": "stream",
     "text": [
      "Archive:  human_assembly.zip\r\n",
      " Length   Method    Size  Cmpr    Date    Time   CRC-32   Name\r\n",
      "--------  ------  ------- ---- ---------- ----- --------  ----\r\n",
      "      57  Defl:N       59  -4% 06-18-2020 20:21 b0865ddc  ncbi_dataset/bagit.txt\r\n",
      "     998  Defl:N      627  37% 06-18-2020 20:21 44e1e93f  README.md\r\n",
      "    1912  Defl:N     1266  34% 06-18-2020 20:21 366fd370  ncbi_dataset/data/GCF_000001405.39/data_report.yaml\r\n",
      "   16834  Defl:N     5379  68% 06-18-2020 20:21 932c3ae8  ncbi_dataset/data/GCF_000001405.39/chrMT.fna\r\n",
      "84837011  Defl:N 26197114  69% 06-18-2020 20:21 1c929b01  ncbi_dataset/data/GCF_000001405.39/protein.faa\r\n",
      "     423  Defl:N      267  37% 06-18-2020 20:21 03e3fe80  ncbi_dataset/data/dataset_catalog.json\r\n",
      "       0  Defl:N        2   0% 06-18-2020 20:21 00000000  ncbi_dataset/fetch.txt\r\n",
      "     121  Defl:N      116   4% 06-18-2020 20:21 06e4d3d2  ncbi_dataset/bag-info.txt\r\n",
      "     251  Defl:N      190  24% 06-18-2020 20:21 2ec53c79  ncbi_dataset/manifest-md5.txt\r\n",
      "     190  Defl:N      142  25% 06-18-2020 20:21 70937944  ncbi_dataset/tagmanifest-md5.txt\r\n",
      "--------          -------  ---                            -------\r\n",
      "84857797         26205162  69%                            10 files\r\n"
     ]
    }
   ],
   "source": [
    "!unzip -v human_assembly.zip"
   ]
  },
  {
   "cell_type": "markdown",
   "metadata": {},
   "source": [
    "## Combining Assembly descriptors and downloads\n",
    "\n",
    "As discussed above, we can combine the assembly-descriptors API to retrieve a set of assembly accessions, and selectively download a data package. To demonstrate, we shall \n",
    "\n",
    "1. Fetch a list of RefSeq assembly accessions for all bird genomes using `assembly_descriptors_by_taxid` \n",
    "2. Filter assemblies that were annotated in 2019\n",
    "3. Download data, but in this case, retrieve a dehydrated bag that can be later rehydrated when we are ready for the sequence data."
   ]
  },
  {
   "cell_type": "code",
   "execution_count": 1,
   "metadata": {},
   "outputs": [
    {
     "name": "stdout",
     "output_type": "stream",
     "text": [
      "Number of assemblies: 29\n"
     ]
    }
   ],
   "source": [
    "assembly_descriptors = api_instance.assembly_descriptors_by_taxid(\n",
    "    tax_id=9989, ## Rodents taxid\n",
    "    limit='all',\n",
    "    filters_refseq_only=True)\n",
    "\n",
    "print(f'Number of assemblies: {assembly_descriptors.total_count}')"
   ]
  },
  {
   "cell_type": "code",
   "execution_count": 1,
   "metadata": {},
   "outputs": [
    {
     "name": "stdout",
     "output_type": "stream",
     "text": [
      "Assemblies grouped by year of annotation\n",
      "[(2015, 3), (2016, 4), (2017, 5), (2018, 6), (2019, 7), (2020, 4)]\n"
     ]
    }
   ],
   "source": [
    "annots_by_year = Counter()\n",
    "for d in assembly_descriptors.datasets:\n",
    "    annot_year = int(d.annotation_metadata.release_date.split(' ')[-1])\n",
    "    annots_by_year[annot_year] += 1\n",
    "    \n",
    "print(f'Assemblies grouped by year of annotation')\n",
    "pprint(sorted(annots_by_year.items()))"
   ]
  },
  {
   "cell_type": "code",
   "execution_count": 1,
   "metadata": {},
   "outputs": [
    {
     "name": "stdout",
     "output_type": "stream",
     "text": [
      "Rodent assemblies that were annotated in 2019:\n",
      "GCF_004664715.1, GCF_004785775.1, GCF_900095145.1, GCF_000001635.26, GCF_900094665.1, GCF_008632895.1, GCF_000622305.1\n"
     ]
    }
   ],
   "source": [
    "rodents_annotated_in_2019_accs = []\n",
    "for d in assembly_descriptors.datasets:\n",
    "    annot_year = int(d.annotation_metadata.release_date.split(' ')[-1])\n",
    "    if annot_year == 2019:\n",
    "        rodents_annotated_in_2019_accs.append(d.assembly_accession)\n",
    "        \n",
    "print('Rodent assemblies that were annotated in 2019:')\n",
    "print(f'{\", \".join(rodents_annotated_in_2019_accs)}')"
   ]
  },
  {
   "cell_type": "code",
   "execution_count": 1,
   "metadata": {},
   "outputs": [
    {
     "data": {
      "text/html": [
       "<div>\n",
       "<style scoped>\n",
       "    .dataframe tbody tr th:only-of-type {\n",
       "        vertical-align: middle;\n",
       "    }\n",
       "\n",
       "    .dataframe tbody tr th {\n",
       "        vertical-align: top;\n",
       "    }\n",
       "\n",
       "    .dataframe thead th {\n",
       "        text-align: right;\n",
       "    }\n",
       "</style>\n",
       "<table border=\"1\" class=\"dataframe\">\n",
       "  <thead>\n",
       "    <tr style=\"text-align: right;\">\n",
       "      <th></th>\n",
       "      <th>GCF_004664715.1</th>\n",
       "      <th>GCF_004785775.1</th>\n",
       "      <th>GCF_900095145.1</th>\n",
       "      <th>GCF_000001635.26</th>\n",
       "      <th>GCF_900094665.1</th>\n",
       "      <th>GCF_008632895.1</th>\n",
       "      <th>GCF_000622305.1</th>\n",
       "    </tr>\n",
       "  </thead>\n",
       "  <tbody>\n",
       "    <tr>\n",
       "      <th>assm_name</th>\n",
       "      <td>Pero_0.1</td>\n",
       "      <td>NIH_TR_1.0</td>\n",
       "      <td>PAHARI_EIJ_v1.1</td>\n",
       "      <td>GRCm38.p6</td>\n",
       "      <td>CAROLI_EIJ_v1.1</td>\n",
       "      <td>UCSF_Mcou_1</td>\n",
       "      <td>S.galili_v1.0</td>\n",
       "    </tr>\n",
       "    <tr>\n",
       "      <th>org_name</th>\n",
       "      <td>white-footed mouse</td>\n",
       "      <td>Grammomys surdaster</td>\n",
       "      <td>shrew mouse</td>\n",
       "      <td>house mouse</td>\n",
       "      <td>Ryukyu mouse</td>\n",
       "      <td>southern multimammate mouse</td>\n",
       "      <td>Upper Galilee mountains blind mole rat</td>\n",
       "    </tr>\n",
       "    <tr>\n",
       "      <th>sci_name</th>\n",
       "      <td>Peromyscus leucopus</td>\n",
       "      <td>Grammomys surdaster</td>\n",
       "      <td>Mus pahari</td>\n",
       "      <td>Mus musculus</td>\n",
       "      <td>Mus caroli</td>\n",
       "      <td>Mastomys coucha</td>\n",
       "      <td>Nannospalax galili</td>\n",
       "    </tr>\n",
       "    <tr>\n",
       "      <th>annot_rel_date</th>\n",
       "      <td>Apr 18, 2019</td>\n",
       "      <td>Apr 18, 2019</td>\n",
       "      <td>Jun 14, 2019</td>\n",
       "      <td>Jul 12, 2019</td>\n",
       "      <td>Jun 07, 2019</td>\n",
       "      <td>Oct 18, 2019</td>\n",
       "      <td>Jun 05, 2019</td>\n",
       "    </tr>\n",
       "    <tr>\n",
       "      <th>annot_rel_num</th>\n",
       "      <td>100</td>\n",
       "      <td>100</td>\n",
       "      <td>101</td>\n",
       "      <td>108</td>\n",
       "      <td>101</td>\n",
       "      <td>100</td>\n",
       "      <td>102</td>\n",
       "    </tr>\n",
       "    <tr>\n",
       "      <th>assm_level</th>\n",
       "      <td>Scaffold</td>\n",
       "      <td>Scaffold</td>\n",
       "      <td>Chromosome</td>\n",
       "      <td>Chromosome</td>\n",
       "      <td>Chromosome</td>\n",
       "      <td>Chromosome</td>\n",
       "      <td>Scaffold</td>\n",
       "    </tr>\n",
       "    <tr>\n",
       "      <th>num_chromosomes</th>\n",
       "      <td>None</td>\n",
       "      <td>None</td>\n",
       "      <td>25</td>\n",
       "      <td>23</td>\n",
       "      <td>22</td>\n",
       "      <td>4</td>\n",
       "      <td>None</td>\n",
       "    </tr>\n",
       "    <tr>\n",
       "      <th>contig_n50</th>\n",
       "      <td>4102727</td>\n",
       "      <td>51731</td>\n",
       "      <td>29465</td>\n",
       "      <td>32813180</td>\n",
       "      <td>30917</td>\n",
       "      <td>30483</td>\n",
       "      <td>30353</td>\n",
       "    </tr>\n",
       "    <tr>\n",
       "      <th>seq_length</th>\n",
       "      <td>2474055010</td>\n",
       "      <td>2412664998</td>\n",
       "      <td>2475012951</td>\n",
       "      <td>2730855475</td>\n",
       "      <td>2553112587</td>\n",
       "      <td>2507168619</td>\n",
       "      <td>3061408210</td>\n",
       "    </tr>\n",
       "    <tr>\n",
       "      <th>submission_date</th>\n",
       "      <td>2019-04-05</td>\n",
       "      <td>2019-04-12</td>\n",
       "      <td>2017-04-28</td>\n",
       "      <td>2017-09-15</td>\n",
       "      <td>2017-04-28</td>\n",
       "      <td>2019-09-24</td>\n",
       "      <td>2014-06-05</td>\n",
       "    </tr>\n",
       "  </tbody>\n",
       "</table>\n",
       "</div>"
      ],
      "text/plain": [
       "                     GCF_004664715.1      GCF_004785775.1  GCF_900095145.1  \\\n",
       "assm_name                   Pero_0.1           NIH_TR_1.0  PAHARI_EIJ_v1.1   \n",
       "org_name          white-footed mouse  Grammomys surdaster      shrew mouse   \n",
       "sci_name         Peromyscus leucopus  Grammomys surdaster       Mus pahari   \n",
       "annot_rel_date          Apr 18, 2019         Apr 18, 2019     Jun 14, 2019   \n",
       "annot_rel_num                    100                  100              101   \n",
       "assm_level                  Scaffold             Scaffold       Chromosome   \n",
       "num_chromosomes                 None                 None               25   \n",
       "contig_n50                   4102727                51731            29465   \n",
       "seq_length                2474055010           2412664998       2475012951   \n",
       "submission_date           2019-04-05           2019-04-12       2017-04-28   \n",
       "\n",
       "                GCF_000001635.26  GCF_900094665.1  \\\n",
       "assm_name              GRCm38.p6  CAROLI_EIJ_v1.1   \n",
       "org_name             house mouse     Ryukyu mouse   \n",
       "sci_name            Mus musculus       Mus caroli   \n",
       "annot_rel_date      Jul 12, 2019     Jun 07, 2019   \n",
       "annot_rel_num                108              101   \n",
       "assm_level            Chromosome       Chromosome   \n",
       "num_chromosomes               23               22   \n",
       "contig_n50              32813180            30917   \n",
       "seq_length            2730855475       2553112587   \n",
       "submission_date       2017-09-15       2017-04-28   \n",
       "\n",
       "                             GCF_008632895.1  \\\n",
       "assm_name                        UCSF_Mcou_1   \n",
       "org_name         southern multimammate mouse   \n",
       "sci_name                     Mastomys coucha   \n",
       "annot_rel_date                  Oct 18, 2019   \n",
       "annot_rel_num                            100   \n",
       "assm_level                        Chromosome   \n",
       "num_chromosomes                            4   \n",
       "contig_n50                             30483   \n",
       "seq_length                        2507168619   \n",
       "submission_date                   2019-09-24   \n",
       "\n",
       "                                        GCF_000622305.1  \n",
       "assm_name                                 S.galili_v1.0  \n",
       "org_name         Upper Galilee mountains blind mole rat  \n",
       "sci_name                             Nannospalax galili  \n",
       "annot_rel_date                             Jun 05, 2019  \n",
       "annot_rel_num                                       102  \n",
       "assm_level                                     Scaffold  \n",
       "num_chromosomes                                    None  \n",
       "contig_n50                                        30353  \n",
       "seq_length                                   3061408210  \n",
       "submission_date                              2014-06-05  "
      ]
     },
     "metadata": {},
     "output_type": "display_data"
    }
   ],
   "source": [
    "assm_table = {}\n",
    "for d in assembly_descriptors.datasets:\n",
    "    annot_year = int(d.annotation_metadata.release_date.split(' ')[-1])\n",
    "    if annot_year == 2019:\n",
    "        n_chr = len(d.chromosomes) if d.assembly_level == 'Chromosome' else None\n",
    "        assm_table[d.assembly_accession] = {\n",
    "            'assm_name': d.display_name,\n",
    "            'org_name': d.org.title,\n",
    "            'sci_name': d.org.sci_name,\n",
    "            'annot_rel_date': d.annotation_metadata.release_date,\n",
    "            'annot_rel_num': d.annotation_metadata.release_number,\n",
    "            'assm_level': d.assembly_level,\n",
    "            'num_chromosomes': n_chr,\n",
    "            'contig_n50': d.contig_n50,\n",
    "            'seq_length': d.seq_length,\n",
    "            'submission_date': d.submission_date }\n",
    "df = pd.DataFrame.from_dict(assm_table, orient='columns')\n",
    "display(df)"
   ]
  },
  {
   "cell_type": "markdown",
   "metadata": {},
   "source": [
    "#### Download package for selected assemblies\n",
    "\n",
    "For the assemblies collected above, download a dehydrated data package (hydrated=DATA_REPORT_ONLY).  This will only contain the data report, and defer collection of nucleotide and protein sequence data until rehydration."
   ]
  },
  {
   "cell_type": "code",
   "execution_count": 1,
   "metadata": {},
   "outputs": [
    {
     "name": "stdout",
     "output_type": "stream",
     "text": [
      "Download a dehydrated package for ['GCF_004664715.1', 'GCF_004785775.1', 'GCF_900095145.1', 'GCF_000001635.26', 'GCF_900094665.1', 'GCF_008632895.1', 'GCF_000622305.1'], with the ability to rehydrate with the CLI later on.\n",
      "Download complete\n",
      "CPU times: user 186 ms, sys: 82.7 ms, total: 268 ms\n",
      "Wall time: 9.54 s\n"
     ]
    }
   ],
   "source": [
    "%%time\n",
    "\n",
    "print(f'Download a dehydrated package for {rodents_annotated_in_2019_accs}, with the ability to rehydrate with the CLI later on.')\n",
    "dl_response = download_api.download_assembly_package(\n",
    "    rodents_annotated_in_2019_accs,\n",
    "    include_sequence=False,\n",
    "    hydrated='DATA_REPORT_ONLY',\n",
    "    _preload_content=False )\n",
    "\n",
    "zipfile_name = 'rodent_genomes.zip'\n",
    "with open(zipfile_name, 'wb') as f:\n",
    "    f.write(dl_response.data)\n",
    "\n",
    "print('Download complete')"
   ]
  },
  {
   "cell_type": "code",
   "execution_count": 1,
   "metadata": {
    "scrolled": true
   },
   "outputs": [
    {
     "name": "stdout",
     "output_type": "stream",
     "text": [
      "Archive:  rodent_genomes.zip\r\n",
      " Length   Method    Size  Cmpr    Date    Time   CRC-32   Name\r\n",
      "--------  ------  ------- ---- ---------- ----- --------  ----\r\n",
      "      57  Defl:N       59  -4% 06-18-2020 20:30 b0865ddc  ncbi_dataset/bagit.txt\r\n",
      "     998  Defl:N      627  37% 06-18-2020 20:30 44e1e93f  README.md\r\n",
      "   17531  Defl:N    11286  36% 06-18-2020 20:30 130138ed  ncbi_dataset/data/GCF_000001635.26/data_report.yaml\r\n",
      "31460871  Defl:N 19940055  37% 06-18-2020 20:30 f3d750ce  ncbi_dataset/data/GCF_000622305.1/data_report.yaml\r\n",
      "  365280  Defl:N   232071  37% 06-18-2020 20:30 0ffcec1d  ncbi_dataset/data/GCF_004664715.1/data_report.yaml\r\n",
      " 4832084  Defl:N  3056118  37% 06-18-2020 20:30 f32b8c64  ncbi_dataset/data/GCF_004785775.1/data_report.yaml\r\n",
      "    7989  Defl:N     5185  35% 06-18-2020 20:30 fe541d7e  ncbi_dataset/data/GCF_008632895.1/data_report.yaml\r\n",
      "  652020  Defl:N   416177  36% 06-18-2020 20:30 b18342ec  ncbi_dataset/data/GCF_900094665.1/data_report.yaml\r\n",
      "  532338  Defl:N   340712  36% 06-18-2020 20:30 9c8fdad8  ncbi_dataset/data/GCF_900095145.1/data_report.yaml\r\n",
      "    1356  Defl:N      784  42% 06-18-2020 20:30 bb89362c  ncbi_dataset/data/dataset_catalog.json\r\n",
      "       0  Defl:N        2   0% 06-18-2020 20:30 00000000  ncbi_dataset/fetch.txt\r\n",
      "     121  Defl:N      116   4% 06-18-2020 20:30 6201ea76  ncbi_dataset/bag-info.txt\r\n",
      "     533  Defl:N      361  32% 06-18-2020 20:30 c19ad581  ncbi_dataset/manifest-md5.txt\r\n",
      "     190  Defl:N      142  25% 06-18-2020 20:30 fd791416  ncbi_dataset/tagmanifest-md5.txt\r\n",
      "--------          -------  ---                            -------\r\n",
      "37871368         24003695  37%                            14 files\r\n"
     ]
    }
   ],
   "source": [
    "!unzip -v {zipfile_name}"
   ]
  },
  {
   "cell_type": "markdown",
   "metadata": {},
   "source": [
    "#### Rehydrate data package\n",
    "To rehydrate, use the [NCBI Datasets command-line application](https://www.ncbi.nlm.nih.gov/datasets/docs/command-line-start/). For example, the following commands illustrate the process for Linux \n",
    "```\n",
    "curl -o datasets 'https://ftp.ncbi.nlm.nih.gov/pub/datasets/command-line/LATEST/linux-amd64/datasets'  \n",
    "chmod +x datasets\n",
    "./datasets rehydrate --filename rodent_genomes.zip\n",
    "```\n"
   ]
  }
 ],
 "metadata": {
  "kernelspec": {
   "display_name": "Python 3",
   "language": "python",
   "name": "python3"
  },
  "language_info": {
   "codemirror_mode": {
    "name": "ipython",
    "version": 3
   },
   "file_extension": ".py",
   "mimetype": "text/x-python",
   "name": "python",
   "nbconvert_exporter": "python",
   "pygments_lexer": "ipython3",
   "version": "3.7.3"
  }
 },
 "nbformat": 4,
 "nbformat_minor": 4
}
