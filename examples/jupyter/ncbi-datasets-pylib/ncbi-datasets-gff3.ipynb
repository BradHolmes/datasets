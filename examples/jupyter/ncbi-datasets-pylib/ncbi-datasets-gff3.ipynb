{
 "cells": [
  {
   "cell_type": "markdown",
   "metadata": {},
   "source": [
    "# Using `ncbi.datasets` library to download and parse genome annotation data in GFF3 format\n",
    "\n",
    "The objective of this notebook is to use the `ncbi.datasets` python library to demonstrate how to download and parse genome annotation data in gff3 format from NCBI Datasets.\n",
    "\n",
    "There are two major types of genome data available from NCBI Datasets:\n",
    "\n",
    "1. Genome datasets, which include genome, transcript, and protein sequences, genome annotation data in gff3 format, an assembly data report (genome assembly and annotation metadata) and a sequence report (a list of sequences that comprise the genome assembly).  \n",
    "\n",
    "2. Genome summaries, which are sets of key metadata that describe the genome datasets \n",
    "\n",
    "As an example, we will download gff3 files for five _Lactobacillus_ genome assemblies, then parse those gff3 files to get information about crispr gene order in the corresponding genome assemblies.\n",
    "\n",
    "The notebook can be broken down into the following four major tasks:\n",
    "1. Query NCBI for _Lactobacillus_ assemblies and download the genome summaries for all available genome assemblies\n",
    "2. Parse the genome summaries to make a list of genome assemblies annotated in 2020\n",
    "3. Download sequence and annotation (gff3 and protein fasta) for five of those assemblies\n",
    "4. Parse the gff3 files to look at crispr gene order in those assemblies"
   ]
  },
  {
   "cell_type": "markdown",
   "metadata": {},
   "source": [
    "## Setup\n",
    "After importing the various python modules we will need, create the assembly and download API instances."
   ]
  },
  {
   "cell_type": "code",
   "execution_count": 1,
   "metadata": {},
   "outputs": [],
   "source": [
    "from collections import defaultdict, Counter\n",
    "from datetime import datetime\n",
    "import json\n",
    "import os\n",
    "from textwrap import dedent\n",
    "import zipfile\n",
    "\n",
    "import gffutils\n",
    "import matplotlib.pyplot as plt\n",
    "import ncbi.datasets\n",
    "import pandas as pd\n",
    "from pyfaidx import Fasta\n",
    "\n",
    "plt.style.use('ggplot')\n",
    "\n",
    "genome_api = ncbi.datasets.GenomeApi(ncbi.datasets.ApiClient())"
   ]
  },
  {
   "cell_type": "markdown",
   "metadata": {},
   "source": [
    "## Group genome assemblies based on annotation date\n",
    "Let's look at RefSeq *lactobacillus* genome assemblies, and see how we can group them based on annotation date. Annotation date, when available, is described in the genome summary.\n",
    "\n",
    "This section will include the following two major tasks:\n",
    "1. Query NCBI for Lactobacillus assemblies and download the genome summaries for all available genome assemblies\n",
    "2. Make a list of genome assemblies annotated in 2020\n",
    "\n",
    "Using the `ncbi.datasets` library, let's first get the count of available RefSeq *lactobacillus* assemblies. By setting `limit='none'`, we tell the API to return a genome summary with only the count of genome assemblies for the specified NCBI Taxonomy ID."
   ]
  },
  {
   "cell_type": "code",
   "execution_count": 1,
   "metadata": {
    "scrolled": true
   },
   "outputs": [
    {
     "name": "stdout",
     "output_type": "stream",
     "text": [
      "Number of RefSeq lactobacillus genome assemblies: 777\n"
     ]
    }
   ],
   "source": [
    "taxid = 1578 ## This is the NCBI Taxonomy ID for lactobacillus\n",
    "genome_summary = genome_api.assembly_descriptors_by_taxon(\n",
    "    taxon=taxid,\n",
    "    limit='none',\n",
    "    filters_refseq_only=True)\n",
    "\n",
    "print(f\"Number of RefSeq lactobacillus genome assemblies: {genome_summary.total_count}\")"
   ]
  },
  {
   "cell_type": "markdown",
   "metadata": {},
   "source": [
    "Now let's download the genome summaries for these genome assemblies. To get the metadata for all of the genomes in scope, set `limit='all'`."
   ]
  },
  {
   "cell_type": "code",
   "execution_count": 1,
   "metadata": {},
   "outputs": [
    {
     "name": "stdout",
     "output_type": "stream",
     "text": [
      "Genome summaries for 777 genome assemblies downloaded and saved to genome_summary.\n",
      "As an example, here's the first genome summary for the first genome assembly in the list:\n",
      " {'assembly': {'annotation_metadata': {'file': [{'estimated_size': '111943',\n",
      "                                                'type': 'GENOME_GFF'},\n",
      "                                               {'estimated_size': '1187873',\n",
      "                                                'type': 'GENOME_GBFF'},\n",
      "                                               {'estimated_size': '301643',\n",
      "                                                'type': 'PROT_FASTA'},\n",
      "                                               {'estimated_size': '126907',\n",
      "                                                'type': 'GENOME_GTF'}],\n",
      "                                      'name': 'From INSDC submitter',\n",
      "                                      'release_date': 'Oct 07, 2019',\n",
      "                                      'release_number': None,\n",
      "                                      'report_url': None,\n",
      "                                      'source': 'Korea University'},\n",
      "              'assembly_accession': 'GCF_008831485.1',\n",
      "              'assembly_category': 'representative genome',\n",
      "              'assembly_level': 'Complete Genome',\n",
      "              'bioproject_lineages': [{'bioprojects': [{'accession': 'PRJNA566216',\n",
      "                                                        'parent_accession': None,\n",
      "                                                        'title': 'Lactobacillus '\n",
      "                                                                 'acetotolerans '\n",
      "                                                                 'Genome '\n",
      "                                                                 'sequencing '\n",
      "                                                                 'and '\n",
      "                                                                 'assembly'}]}],\n",
      "              'chromosomes': ['ANONYMOUS'],\n",
      "              'contig_n50': 1683905,\n",
      "              'display_name': 'ASM883148v1',\n",
      "              'estimated_size': '2223244',\n",
      "              'org': {'assembly_count': None,\n",
      "                      'assembly_counts': {'node': 10, 'subtree': 14},\n",
      "                      'blast_node': None,\n",
      "                      'breed': None,\n",
      "                      'children': None,\n",
      "                      'common_name': None,\n",
      "                      'counts': None,\n",
      "                      'cultivar': None,\n",
      "                      'ecotype': None,\n",
      "                      'icon': None,\n",
      "                      'isolate': None,\n",
      "                      'key': '1600',\n",
      "                      'max_ord': None,\n",
      "                      'merged': None,\n",
      "                      'merged_tax_ids': None,\n",
      "                      'min_ord': None,\n",
      "                      'parent_tax_id': '1578',\n",
      "                      'rank': 'SPECIES',\n",
      "                      'sci_name': 'Lactobacillus acetotolerans',\n",
      "                      'search_text': None,\n",
      "                      'sex': None,\n",
      "                      'strain': 'LA749',\n",
      "                      'tax_id': '1600',\n",
      "                      'title': 'Lactobacillus acetotolerans'},\n",
      "              'seq_length': '1683905',\n",
      "              'submission_date': '2019-10-07'},\n",
      " 'messages': None}\n"
     ]
    }
   ],
   "source": [
    "## download the genome summaries for all RefSeq lactobacillus genome assemblies\n",
    "genome_summary = genome_api.assembly_descriptors_by_taxon(\n",
    "    taxon=taxid,\n",
    "    limit='all',\n",
    "    filters_refseq_only=True)\n",
    "print(f\"Genome summaries for {genome_summary.total_count} genome assemblies downloaded and saved to genome_summary.\")\n",
    "print(f\"As an example, here's the first genome summary for the first genome assembly in the list:\\n\", genome_summary.assemblies[0])"
   ]
  },
  {
   "cell_type": "markdown",
   "metadata": {},
   "source": [
    "Next we'll plot the assemblies by the year they were annotated."
   ]
  },
  {
   "cell_type": "code",
   "execution_count": 1,
   "metadata": {},
   "outputs": [
    {
     "data": {
      "text/plain": [
       "<AxesSubplot:>"
      ]
     },
     "execution_count": 1,
     "metadata": {},
     "output_type": "execute_result"
    },
    {
     "data": {
      "image/png": "[encoded data removed]",
      "text/plain": [
       "<Figure size 864x432 with 1 Axes>"
      ]
     },
     "metadata": {},
     "output_type": "display_data"
    }
   ],
   "source": [
    "def annotation_year(annotation_metadata):\n",
    "    return datetime.strptime(annotation_metadata.release_date, '%b %d, %Y').year\n",
    "\n",
    "annots_by_year = Counter()\n",
    "no_annot_assms = []\n",
    "for d in map(lambda d: d.assembly, genome_summary.assemblies):\n",
    "    if not d.annotation_metadata:\n",
    "        no_annot_assms.append(d.assembly_accession)\n",
    "        continue\n",
    "    annots_by_year[annotation_year(d.annotation_metadata)] += 1\n",
    "\n",
    "\n",
    "if len(no_annot_assms) > 0:\n",
    "    print(dedent(f'''\n",
    "    WARNING!\n",
    "    Some assemblies do not have annotation. \n",
    "    Most likely, this is because of an indexing delay. Skipping {len(no_annot_assms)} assemblies.\n",
    "'''))\n",
    "\n",
    "df = pd.DataFrame.from_dict(annots_by_year, orient='index', columns=['count']).sort_index()\n",
    "df.plot(kind='bar', y='count', figsize=(12,6))"
   ]
  },
  {
   "cell_type": "markdown",
   "metadata": {},
   "source": [
    "We can make a list of the genome assemblies that were annotated in 2020 and count the number of genomes in the list."
   ]
  },
  {
   "cell_type": "code",
   "execution_count": 1,
   "metadata": {},
   "outputs": [
    {
     "name": "stdout",
     "output_type": "stream",
     "text": [
      "145 genome assemblies were annotated in 2020.\n",
      "Here are the first five genome assemblies in the list: ['GCF_014648715.1', 'GCF_012848655.1', 'GCF_013867605.1', 'GCF_013867555.1', 'GCF_013342945.1']\n"
     ]
    }
   ],
   "source": [
    "year_of_interest = 2020\n",
    "genome_accessions = []\n",
    "for d in map(lambda d: d.assembly, genome_summary.assemblies):\n",
    "    if d.annotation_metadata:\n",
    "        if annotation_year(d.annotation_metadata) == year_of_interest:\n",
    "            genome_accessions.append(d.assembly_accession)\n",
    "        \n",
    "print(f'{len(genome_accessions)} genome assemblies were annotated in {year_of_interest}.')\n",
    "print(f\"Here are the first five genome assemblies in the list: {genome_accessions[0:5]}\")"
   ]
  },
  {
   "cell_type": "markdown",
   "metadata": {},
   "source": [
    "We could download genome datasets for all of the returned assemblies, based on the accessions stored in `genome_accessions`.  If there are quite a few of them, a `download_api.download_assembly_package_post()` request would be required (see docs here)[https://github.com/ncbi/datasets/blob/master/client_docs/python/docs/DownloadApi.md#download_assembly_package_post]. \n",
    "\n",
    "For demonstration purposes, we'll just download genome datasets for five genome assemblies through a GET request."
   ]
  },
  {
   "cell_type": "code",
   "execution_count": 1,
   "metadata": {},
   "outputs": [
    {
     "name": "stdout",
     "output_type": "stream",
     "text": [
      "Download genome datasets for the first 5 accessions: ['GCF_009857225.1', 'GCF_014830125.1', 'GCF_013394955.1', 'GCF_013370935.1', 'GCF_013249185.1']\n",
      "Download saved to ncbi_genomes.zip\n",
      "Archive:  ncbi_genomes.zip\n",
      "  Length      Date    Time    Name\n",
      "---------  ---------- -----   ----\n",
      "      661  11-19-2020 12:03   README.md\n",
      "     5811  11-19-2020 12:03   ncbi_dataset/data/assembly_data_report.jsonl\n",
      "  1668120  11-19-2020 12:03   ncbi_dataset/data/GCF_009857225.1/GCF_009857225.1_ASM985722v1_genomic.fna\n",
      "   898917  11-19-2020 12:03   ncbi_dataset/data/GCF_009857225.1/genomic.gff\n",
      "   597383  11-19-2020 12:03   ncbi_dataset/data/GCF_009857225.1/protein.faa\n",
      "  1838908  11-19-2020 12:03   ncbi_dataset/data/GCF_013249185.1/GCF_013249185.1_ASM1324918v1_genomic.fna\n",
      "  1062407  11-19-2020 12:03   ncbi_dataset/data/GCF_013249185.1/genomic.gff\n",
      "   594208  11-19-2020 12:03   ncbi_dataset/data/GCF_013249185.1/protein.faa\n",
      "  1786869  11-19-2020 12:03   ncbi_dataset/data/GCF_013370935.1/GCF_013370935.1_ASM1337093v1_genomic.fna\n",
      "  1011101  11-19-2020 12:03   ncbi_dataset/data/GCF_013370935.1/genomic.gff\n",
      "   590951  11-19-2020 12:03   ncbi_dataset/data/GCF_013370935.1/protein.faa\n",
      "  1779401  11-19-2020 12:03   ncbi_dataset/data/GCF_013394955.1/GCF_013394955.1_ASM1339495v1_genomic.fna\n",
      "  1010905  11-19-2020 12:03   ncbi_dataset/data/GCF_013394955.1/genomic.gff\n",
      "   589700  11-19-2020 12:03   ncbi_dataset/data/GCF_013394955.1/protein.faa\n",
      "  2064899  11-19-2020 12:03   ncbi_dataset/data/GCF_014830125.1/GCF_014830125.1_ASM1483012v1_genomic.fna\n",
      "  1167106  11-19-2020 12:03   ncbi_dataset/data/GCF_014830125.1/genomic.gff\n",
      "   694896  11-19-2020 12:03   ncbi_dataset/data/GCF_014830125.1/protein.faa\n",
      "    11623  11-19-2020 12:03   ncbi_dataset/data/GCF_009857225.1/sequence_report.jsonl\n",
      "    19774  11-19-2020 12:03   ncbi_dataset/data/GCF_013249185.1/sequence_report.jsonl\n",
      "     7913  11-19-2020 12:03   ncbi_dataset/data/GCF_013370935.1/sequence_report.jsonl\n",
      "     7909  11-19-2020 12:03   ncbi_dataset/data/GCF_013394955.1/sequence_report.jsonl\n",
      "    34330  11-19-2020 12:03   ncbi_dataset/data/GCF_014830125.1/sequence_report.jsonl\n",
      "     2536  11-19-2020 12:03   ncbi_dataset/data/dataset_catalog.json\n",
      "---------                     -------\n",
      " 17446328                     23 files\n",
      "CPU times: user 54.5 ms, sys: 44 ms, total: 98.5 ms\n",
      "Wall time: 1.07 s\n"
     ]
    }
   ],
   "source": [
    "%%time\n",
    "## Download data\n",
    "# Let's use accessions #21-25 in the list because these all have at least one crispr gene\n",
    "print(f'Download genome datasets for 5 accessions: {genome_accessions[20:25]}')\n",
    "dl_response = genome_api.download_assembly_package(\n",
    "    genome_accessions[20:25],\n",
    "    exclude_sequence=False,\n",
    "    include_annotation_type=['GENOME_GFF', 'PROT_FASTA'],\n",
    "    _preload_content=False )\n",
    "\n",
    "## write to a zip file \n",
    "zipfn = 'ncbi_genomes.zip'\n",
    "with open(zipfn, 'wb') as f:\n",
    "    f.write(dl_response.data)\n",
    "print(f'Download saved to {zipfn}')\n",
    "!unzip -l {zipfn}"
   ]
  },
  {
   "cell_type": "markdown",
   "metadata": {},
   "source": [
    "Next, we're going to look for crispr genes in these genome datasets, and extract the corresponding crispr gene and protein sequences.  \n",
    "We're going to break this down into a few steps.  \n",
    "First, let's make a list of the data files that are available for each genome assembly. We can use the `dataset_catalog.json` file to tell us which data files are available for each genome assembly."
   ]
  },
  {
   "cell_type": "code",
   "execution_count": 1,
   "metadata": {},
   "outputs": [
    {
     "name": "stdout",
     "output_type": "stream",
     "text": [
      "Catalog found with metadata for 5 assemblies\n",
      "Assemblies:\n",
      "GCF_009857225.1, GCF_013249185.1, GCF_013370935.1, GCF_013394955.1, GCF_014830125.1\n",
      "Files for type: GFF3\n",
      "defaultdict(<class 'list'>,\n",
      "            {   'GCF_009857225.1': [   'ncbi_dataset/data/GCF_009857225.1/genomic.gff'],\n",
      "                'GCF_013249185.1': [   'ncbi_dataset/data/GCF_013249185.1/genomic.gff'],\n",
      "                'GCF_013370935.1': [   'ncbi_dataset/data/GCF_013370935.1/genomic.gff'],\n",
      "                'GCF_013394955.1': [   'ncbi_dataset/data/GCF_013394955.1/genomic.gff'],\n",
      "                'GCF_014830125.1': [   'ncbi_dataset/data/GCF_014830125.1/genomic.gff']})\n",
      "Files for type: FASTA\n",
      "defaultdict(<class 'list'>, {})\n",
      "Files for type: GENOMIC_NUCLEOTIDE_FASTA\n",
      "defaultdict(<class 'list'>,\n",
      "            {   'GCF_009857225.1': [   'ncbi_dataset/data/GCF_009857225.1/GCF_009857225.1_ASM985722v1_genomic.fna'],\n",
      "                'GCF_013249185.1': [   'ncbi_dataset/data/GCF_013249185.1/GCF_013249185.1_ASM1324918v1_genomic.fna'],\n",
      "                'GCF_013370935.1': [   'ncbi_dataset/data/GCF_013370935.1/GCF_013370935.1_ASM1337093v1_genomic.fna'],\n",
      "                'GCF_013394955.1': [   'ncbi_dataset/data/GCF_013394955.1/GCF_013394955.1_ASM1339495v1_genomic.fna'],\n",
      "                'GCF_014830125.1': [   'ncbi_dataset/data/GCF_014830125.1/GCF_014830125.1_ASM1483012v1_genomic.fna']})\n",
      "Files for type: PROTEIN_FASTA\n",
      "defaultdict(<class 'list'>,\n",
      "            {   'GCF_009857225.1': [   'ncbi_dataset/data/GCF_009857225.1/protein.faa'],\n",
      "                'GCF_013249185.1': [   'ncbi_dataset/data/GCF_013249185.1/protein.faa'],\n",
      "                'GCF_013370935.1': [   'ncbi_dataset/data/GCF_013370935.1/protein.faa'],\n",
      "                'GCF_013394955.1': [   'ncbi_dataset/data/GCF_013394955.1/protein.faa'],\n",
      "                'GCF_014830125.1': [   'ncbi_dataset/data/GCF_014830125.1/protein.faa']})\n"
     ]
    }
   ],
   "source": [
    "## function to make list of files \n",
    "from ncbi.datasets.v1alpha1 import catalog_pb2\n",
    "import pprint\n",
    "pp = pprint.PrettyPrinter(indent=4)\n",
    "\n",
    "def retrieve_data_catalog(zip_file):\n",
    "    with zipfile.ZipFile(zip_file, 'r') as zip:\n",
    "        data_catalog = json.loads(zip.read('ncbi_dataset/data/dataset_catalog.json'))\n",
    "    print(f\"Catalog found with metadata for {len(data_catalog['assemblies'])-1} assemblies\")\n",
    "    return data_catalog\n",
    "\n",
    "def get_assemblies(data_catalog):\n",
    "    return [x['accession'] for x in data_catalog['assemblies'] if 'accession' in x]\n",
    "\n",
    "# Temporary hack to support GENOMIC_NUCLEOTIDE_FASTA & PROTEIN_FASTA \n",
    "# which will be present in the next release\n",
    "def get_file_list(data_catalog, desired_filetype):\n",
    "    desired_filetype = desired_filetype.upper()\n",
    "    if desired_filetype not in catalog_pb2.File.FileType.keys():\n",
    "        raise Exception(f'Filetype {desired_filetype} is invalid.')\n",
    "    \n",
    "    files = defaultdict(list)\n",
    "    for asm in data_catalog['assemblies']:\n",
    "        if 'accession' in asm:\n",
    "            acc = asm['accession'] \n",
    "            for f in asm['files']:\n",
    "                filepath = os.path.join('ncbi_dataset', 'data', f['filePath'])\n",
    "                if f['fileType'] == 'FASTA' and desired_filetype in ('GENOMIC_NUCLEOTIDE_FASTA') and filepath.endswith('fna'):\n",
    "                    files[acc].append(filepath)\n",
    "                    continue\n",
    "                if f['fileType'] == 'GFF3':\n",
    "                    if desired_filetype in ('PROTEIN_FASTA') and filepath.endswith('faa'):\n",
    "                        files[acc].append(filepath)\n",
    "                    if desired_filetype in ('GFF3') and filepath.endswith('gff'):\n",
    "                        files[acc].append(filepath)\n",
    "                    continue\n",
    "                if f['fileType'] == desired_filetype:\n",
    "                    files[acc].append(filepath)\n",
    "        \n",
    "    return files\n",
    "\n",
    "data_catalog = retrieve_data_catalog(zipfn)\n",
    "print(f'Assemblies:')\n",
    "print(', '.join(get_assemblies(data_catalog)))\n",
    "for file_type in ['GFF3', 'FASTA', 'GENOMIC_NUCLEOTIDE_FASTA', 'PROTEIN_FASTA']:\n",
    "    file_list = get_file_list(data_catalog, file_type)\n",
    "    print(f'Files for type: {file_type}')\n",
    "    pp.pprint(file_list)\n"
   ]
  },
  {
   "cell_type": "markdown",
   "metadata": {},
   "source": [
    "We're going to create temporary files to store the genome annotation (gff3 format) and protein sequence data. We will put the files in a temporary directory named tempfiles."
   ]
  },
  {
   "cell_type": "code",
   "execution_count": 1,
   "metadata": {},
   "outputs": [],
   "source": [
    "## setting up files and directories\n",
    "\n",
    "## temporary files; will be deleted at the end\n",
    "temp_dir = 'tempfiles'\n",
    "temp_gff = temp_dir + '/temp.gff'\n",
    "temp_fa = temp_dir + '/temp.fa'\n",
    "\n",
    "!mkdir -p {temp_dir}\n",
    "\n",
    "## final output files \n",
    "genes_fn = 'crispr_genes.fna'\n",
    "prots_fn = 'crispr_proteins.faa'"
   ]
  },
  {
   "cell_type": "markdown",
   "metadata": {},
   "source": [
    "Next, we need a few functions to process the data. One of these functions will create a gff3 database in memory using the gffutils python package. Another combines fasta files, a third function will extract gene information by gene symbol from the gff3 database. "
   ]
  },
  {
   "cell_type": "code",
   "execution_count": 1,
   "metadata": {},
   "outputs": [],
   "source": [
    "def create_gff3_db(files_by_assembly, temp_file, zfh):\n",
    "    '''\n",
    "    create gff3 db in memory, per assembly\n",
    "    okay for bacterial assemblies but use caution\n",
    "    when parsing large assemblies like human\n",
    "    '''\n",
    "\n",
    "    db = {}\n",
    "    for assembly_accession, files in files_by_assembly.items():\n",
    "        with open(temp_file, 'wb') as f:\n",
    "            for file in files:\n",
    "                print(f'\\tWrite {file} to {temp_file}')\n",
    "                f.write(zfh.read(file))\n",
    "            db[assembly_accession] = gffutils.create_db(\n",
    "                temp_file,\n",
    "                dbfn = ':memory:',\n",
    "                force=True,\n",
    "                keep_order=True,\n",
    "                merge_strategy='merge',\n",
    "                sort_attribute_values=True)\n",
    "\n",
    "\n",
    "    return db\n",
    "\n",
    "\n",
    "def combine_fasta(files_by_assembly, temp_file, zfh):\n",
    "    '''\n",
    "    Combine fasta for *all* FASTA files, nt & protein\n",
    "    '''\n",
    "    with open(temp_file, 'wb') as f:\n",
    "        for assembly, files in files_by_assembly.items():\n",
    "            for file in files:\n",
    "                print(f'\\tAppending {file} to {temp_file}')\n",
    "                f.write(zfh.read(file))\n",
    "\n",
    "    print(f'Create FASTA object for {temp_file}.')\n",
    "    return Fasta(temp_file, read_long_names=False, duplicate_action='first')\n",
    "    \n",
    "\n",
    "def extract_genes(gff3_db, assemblies, desired_genes):\n",
    "    crispr_order = defaultdict(list)\n",
    "    crispr_genes = {}\n",
    "\n",
    "    for assembly_accession in assemblies:\n",
    "        if assembly_accession in assemblies:\n",
    "            for gene in gff3_db[assembly_accession].features_of_type('gene'):\n",
    "                gene_name = gene.attributes.get('Name', None)[0]\n",
    "                if gene_name[:4] not in desired_genes:\n",
    "                    continue\n",
    "                gene_range = (gene.start, gene.end)\n",
    "                prot_acc = None\n",
    "                if gene.attributes['gene_biotype'][0] == 'protein_coding':\n",
    "                    cds = list(gff3_db[assembly_accession].children(gene, featuretype='CDS'))\n",
    "                    prot_acc = cds[0].attributes.get('protein_id', None)[0]\n",
    "\n",
    "                crispr_genes[gene_name] = ([gene.chrom, gene.strand, gene_range, prot_acc])\n",
    "                crispr_order[assembly_accession].append(gene_name)\n",
    "    return crispr_genes, crispr_order\n",
    "\n",
    "def write_fasta(fh, defline, content):\n",
    "    fh.write('>' + defline + '\\n')\n",
    "    fh.write(content + '\\n')"
   ]
  },
  {
   "cell_type": "markdown",
   "metadata": {},
   "source": [
    "Let's use the above functions to process the datasets zip file. First, create the gff3 database, then extract crispr gene information from the gff3 data, then for each gene, store the crispr gene data and write the fasta sequences."
   ]
  },
  {
   "cell_type": "code",
   "execution_count": 1,
   "metadata": {},
   "outputs": [
    {
     "name": "stdout",
     "output_type": "stream",
     "text": [
      "Create GFF3 Database\n",
      "\tWrite ncbi_dataset/data/GCF_009857225.1/genomic.gff to tempfiles/temp.gff\n",
      "\tWrite ncbi_dataset/data/GCF_013249185.1/genomic.gff to tempfiles/temp.gff\n",
      "\tWrite ncbi_dataset/data/GCF_013370935.1/genomic.gff to tempfiles/temp.gff\n",
      "\tWrite ncbi_dataset/data/GCF_013394955.1/genomic.gff to tempfiles/temp.gff\n",
      "\tWrite ncbi_dataset/data/GCF_014830125.1/genomic.gff to tempfiles/temp.gff\n",
      "Extract crispr genes (12 genes)\n",
      "Write genes to crispr_genes.fna\n",
      "Create genomes object\n",
      "\tAppending ncbi_dataset/data/GCF_009857225.1/GCF_009857225.1_ASM985722v1_genomic.fna to tempfiles/temp.fa\n",
      "\tAppending ncbi_dataset/data/GCF_013249185.1/GCF_013249185.1_ASM1324918v1_genomic.fna to tempfiles/temp.fa\n",
      "\tAppending ncbi_dataset/data/GCF_013370935.1/GCF_013370935.1_ASM1337093v1_genomic.fna to tempfiles/temp.fa\n",
      "\tAppending ncbi_dataset/data/GCF_013394955.1/GCF_013394955.1_ASM1339495v1_genomic.fna to tempfiles/temp.fa\n",
      "\tAppending ncbi_dataset/data/GCF_014830125.1/GCF_014830125.1_ASM1483012v1_genomic.fna to tempfiles/temp.fa\n",
      "Create FASTA object for tempfiles/temp.fa.\n",
      "Create proteome object\n",
      "\tAppending ncbi_dataset/data/GCF_009857225.1/protein.faa to tempfiles/temp.fa\n",
      "\tAppending ncbi_dataset/data/GCF_013249185.1/protein.faa to tempfiles/temp.fa\n",
      "\tAppending ncbi_dataset/data/GCF_013370935.1/protein.faa to tempfiles/temp.fa\n",
      "\tAppending ncbi_dataset/data/GCF_013394955.1/protein.faa to tempfiles/temp.fa\n",
      "\tAppending ncbi_dataset/data/GCF_014830125.1/protein.faa to tempfiles/temp.fa\n",
      "Create FASTA object for tempfiles/temp.fa.\n",
      "CPU times: user 4.83 s, sys: 59.4 ms, total: 4.89 s\n",
      "Wall time: 4.96 s\n"
     ]
    }
   ],
   "source": [
    "%%time\n",
    "crispr_genes = set(['cas3', 'cse1', 'cse2', 'cas7', 'cas5', 'cas6', 'cas4', 'cas1', 'cas2', 'cas5', 'cas8', 'cas9', 'csn2'])\n",
    "\n",
    "\n",
    "## create empty files to add data to\n",
    "open(genes_fn, 'w').close()\n",
    "open(prots_fn, 'w').close()\n",
    "\n",
    "with zipfile.ZipFile(zipfn, 'r') as zfh:\n",
    "\n",
    "    print('Create GFF3 Database')\n",
    "    gff3_db = create_gff3_db(get_file_list(data_catalog, 'GFF3'), temp_gff, zfh)\n",
    "    \n",
    "    print(f'Extract crispr genes ({len(crispr_genes)} genes)')\n",
    "    crispr_genes, crispr_order = extract_genes(gff3_db, get_assemblies(data_catalog), crispr_genes)\n",
    "    print(f'Write genes to {genes_fn}')\n",
    "\n",
    "    print('Create genomes object')\n",
    "    genomes = combine_fasta(get_file_list(data_catalog, 'GENOMIC_NUCLEOTIDE_FASTA'), temp_fa, zfh)\n",
    "    \n",
    "    # Write all genes to genes_fn\n",
    "    with open(genes_fn, 'w') as fh:\n",
    "        for gene_name, gene_info in crispr_genes.items():\n",
    "            chrom, strand, gene_range, prot_acc = gene_info\n",
    "            reverse_complement = True if strand == '-' else False\n",
    "            gene_fasta = genomes.get_seq(chrom, gene_range[0], gene_range[1], rc=reverse_complement)\n",
    "            write_fasta(fh, f'{gene_fasta.fancy_name}|{gene_name}', gene_fasta.seq)\n",
    "\n",
    "    print('Create proteome object')\n",
    "    proteome = combine_fasta(get_file_list(data_catalog, 'PROTEIN_FASTA'), temp_fa, zfh)\n",
    "    \n",
    "    # Write protein FASTA for each CRISPR gene\n",
    "    with open(prots_fn, 'w') as fh:\n",
    "        for gene_name, gene_info in crispr_genes.items():\n",
    "            chrom, strand, gene_range, prot_acc = gene_info\n",
    "            if prot_acc is not None:\n",
    "                prot_fasta = proteome[prot_acc][:]\n",
    "                write_fasta(fh, f'{prot_fasta.name}|{gene_name}', prot_fasta.seq)\n"
   ]
  },
  {
   "cell_type": "markdown",
   "metadata": {},
   "source": [
    "crispr_genes.fna and crispr_proteins.faa contain the genomic and protein FASTA sequences, respectively, for the crispr genes we identified in all of the five genome assemblies."
   ]
  },
  {
   "cell_type": "code",
   "execution_count": 1,
   "metadata": {
    "scrolled": false
   },
   "outputs": [
    {
     "name": "stdout",
     "output_type": "stream",
     "text": [
      "GCF_009857225.1 ['csn2']\n",
      "GCF_013249185.1 ['cas2e', 'cas1e', 'cas6e', 'cas5e', 'cas7e', 'cas3']\n",
      "GCF_013370935.1 ['cas9', 'cas1', 'cas2', 'csn2']\n",
      "GCF_013394955.1 ['csn2', 'cas2', 'cas1', 'cas9']\n",
      "GCF_014830125.1 ['cas3', 'cas5c', 'cas8c', 'cas7c', 'cas4', 'cas1c', 'cas2']\n"
     ]
    }
   ],
   "source": [
    "## order of crispr genes in various assemblies\n",
    "for k,v in crispr_order.items():\n",
    "    print(k, v)"
   ]
  }
 ],
 "metadata": {
  "kernelspec": {
   "display_name": "Python 3",
   "language": "python",
   "name": "python3"
  },
  "language_info": {
   "codemirror_mode": {
    "name": "ipython",
    "version": 3
   },
   "file_extension": ".py",
   "mimetype": "text/x-python",
   "name": "python",
   "nbconvert_exporter": "python",
   "pygments_lexer": "ipython3",
   "version": "3.8.1"
  }
 },
 "nbformat": 4,
 "nbformat_minor": 4
}
