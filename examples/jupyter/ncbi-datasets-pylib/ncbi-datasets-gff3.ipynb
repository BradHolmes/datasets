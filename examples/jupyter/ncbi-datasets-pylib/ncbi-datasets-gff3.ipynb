{
 "cells": [
  {
   "cell_type": "markdown",
   "metadata": {},
   "source": [
    "# Using `ncbi.datasets` library to download annotation and parse GFF3 files \n",
    "\n",
    "Here, we will use `ncbi.datasets` to download annotation data for some assemblies and parse them to extract specific information.  \n",
    "\n",
    "Specifically, \n",
    "1. query NCBI for _Lactobacillus_ assemblies and download the assembly descriptors for all available assemblies\n",
    "2. parse assembly descriptors to make a list of assemblies annotated in 2020\n",
    "3. download genome sequence and annotation (gff3 and protein fasta) for those assemblies\n",
    "4. parse gff3 files to extract information about crispr genes\n",
    "  1. use that information to extract gene sequences from genome fasta files \n",
    "  2. use that information to extract protein sequences from protein fasta files "
   ]
  },
  {
   "cell_type": "markdown",
   "metadata": {},
   "source": [
    "## Setup"
   ]
  },
  {
   "cell_type": "code",
   "execution_count": 1,
   "metadata": {},
   "outputs": [],
   "source": [
    "import ncbi.datasets\n",
    "import zipfile\n",
    "import pandas as pd\n",
    "import gffutils\n",
    "from pyfaidx import Fasta\n",
    "from collections import defaultdict, Counter\n",
    "import json\n",
    "from textwrap import dedent\n",
    "\n",
    "import matplotlib.pyplot as plt\n",
    "plt.style.use('ggplot')"
   ]
  },
  {
   "cell_type": "code",
   "execution_count": 2,
   "metadata": {},
   "outputs": [],
   "source": [
    "## start api_instance and dl_instance\n",
    "api_instance = ncbi.datasets.AssemblyDatasetDescriptorsApi(ncbi.datasets.ApiClient())\n",
    "dl_instance = ncbi.datasets.DownloadApi(ncbi.datasets.ApiClient())"
   ]
  },
  {
   "cell_type": "markdown",
   "metadata": {},
   "source": [
    "## Tabulate data from GFF3 files"
   ]
  },
  {
   "cell_type": "markdown",
   "metadata": {},
   "source": [
    "Using the `ncbi.datasets` library, we first check the number of available assemblies for a taxid of interest to us"
   ]
  },
  {
   "cell_type": "code",
   "execution_count": 3,
   "metadata": {},
   "outputs": [],
   "source": [
    "## set taxid\n",
    "taxid = 1578 ## lactobacillus"
   ]
  },
  {
   "cell_type": "code",
   "execution_count": 4,
   "metadata": {},
   "outputs": [],
   "source": [
    "api_response = api_instance.assembly_descriptors_by_taxid(\n",
    "    tax_id = taxid,\n",
    "    limit = 'NONE',\n",
    "    filters_refseq_only = True)"
   ]
  },
  {
   "cell_type": "code",
   "execution_count": 5,
   "metadata": {},
   "outputs": [
    {
     "name": "stdout",
     "output_type": "stream",
     "text": [
      "Number of assemblies: 2797\n"
     ]
    }
   ],
   "source": [
    "## total count of results\n",
    "ct = api_response.total_count\n",
    "print(f\"Number of assemblies: {ct}\")"
   ]
  },
  {
   "cell_type": "code",
   "execution_count": 6,
   "metadata": {},
   "outputs": [
    {
     "name": "stdout",
     "output_type": "stream",
     "text": [
      "CPU times: user 1.47 s, sys: 45.1 ms, total: 1.51 s\n",
      "Wall time: 2.32 s\n"
     ]
    }
   ],
   "source": [
    "%%time\n",
    "## download assembly descriptors for all of them\n",
    "api_response = api_instance.assembly_descriptors_by_taxid(\n",
    "    tax_id = taxid,\n",
    "    limit = 'all',\n",
    "    filters_refseq_only = True)"
   ]
  },
  {
   "cell_type": "code",
   "execution_count": 7,
   "metadata": {},
   "outputs": [
    {
     "name": "stdout",
     "output_type": "stream",
     "text": [
      "\n",
      "WARNING!\n",
      "Some assemblies do not have annotation. \n",
      "Most likely, this is because of an indexing delay. Skipping 6 assemblies.\n",
      "\n"
     ]
    },
    {
     "data": {
      "text/plain": [
       "<matplotlib.axes._subplots.AxesSubplot at 0x7fc8b9927910>"
      ]
     },
     "execution_count": 7,
     "metadata": {},
     "output_type": "execute_result"
    },
    {
     "data": {
      "image/png": "[encoded data removed]",
      "text/plain": [
       "<Figure size 864x432 with 1 Axes>"
      ]
     },
     "metadata": {},
     "output_type": "display_data"
    }
   ],
   "source": [
    "## tabulate annotations by year and plot the data \n",
    "annots_by_year = Counter()\n",
    "no_annot_assms = []\n",
    "for d in api_response.datasets:\n",
    "    if d.annotation_metadata:\n",
    "        annot_year = int(d.annotation_metadata.release_date.split(' ')[-1])\n",
    "        annots_by_year[annot_year] += 1\n",
    "    else:\n",
    "        no_annot_assms.append(d.assembly_accession)\n",
    "\n",
    "if len(no_annot_assms) > 0:\n",
    "    print(dedent(f'''\n",
    "    WARNING!\n",
    "    Some assemblies do not have annotation. \n",
    "    Most likely, this is because of an indexing delay. Skipping {len(no_annot_assms)} assemblies.\n",
    "'''))\n",
    "\n",
    "df = pd.DataFrame.from_dict(annots_by_year, orient='index', columns=['count']).sort_index()\n",
    "df.plot(kind='bar', y='count', figsize=(12,6))"
   ]
  },
  {
   "cell_type": "code",
   "execution_count": 8,
   "metadata": {},
   "outputs": [
    {
     "name": "stdout",
     "output_type": "stream",
     "text": [
      "199 assemblies were annotated in 2020.\n"
     ]
    }
   ],
   "source": [
    "chosen_year = 2020\n",
    "assm_accs = []\n",
    "for d in api_response.datasets:\n",
    "    if d.annotation_metadata:\n",
    "        annot_year = int(d.annotation_metadata.release_date.split(' ')[-1])\n",
    "        if annot_year == chosen_year:\n",
    "            assm_accs.append(d.assembly_accession)\n",
    "        \n",
    "print(f'{len(assm_accs)} assemblies were annotated in {chosen_year}.')"
   ]
  },
  {
   "cell_type": "code",
   "execution_count": 9,
   "metadata": {},
   "outputs": [
    {
     "name": "stdout",
     "output_type": "stream",
     "text": [
      "CPU times: user 2.34 s, sys: 1.38 s, total: 3.72 s\n",
      "Wall time: 1min 45s\n"
     ]
    }
   ],
   "source": [
    "%%time\n",
    "## download data\n",
    "dl_response = dl_instance.download_assembly_package(\n",
    "    assm_accs,\n",
    "    include_sequence=True,\n",
    "    include_annotation_type=['GENOME_GFF', 'PROT_FASTA'],\n",
    "    _preload_content=False )\n",
    "\n",
    "## write to a zip file \n",
    "zipfn = 'ncbi_genomes.zip'\n",
    "with open(zipfn, 'wb') as f:\n",
    "    f.write(dl_response.data)"
   ]
  },
  {
   "cell_type": "code",
   "execution_count": 10,
   "metadata": {},
   "outputs": [],
   "source": [
    "## parse data catalog \n",
    "with zipfile.ZipFile(zipfn, 'r') as zip:\n",
    "    data_catalog = json.loads(zip.read('ncbi_dataset/data/dataset_catalog.json'))"
   ]
  },
  {
   "cell_type": "code",
   "execution_count": 11,
   "metadata": {},
   "outputs": [],
   "source": [
    "## function to make list of files \n",
    "def get_file_list(filetype):\n",
    "    if filetype.upper() not in ['FASTA', 'DATA_REPORT', 'GFF3']:\n",
    "        print(f'ERROR! filetype {filetype} is invalid.')\n",
    "    else:\n",
    "        filetype = filetype.upper()\n",
    "        \n",
    "    file_list = defaultdict(list)\n",
    "    for asm in data_catalog['assemblies']:\n",
    "        acc = asm['accession']\n",
    "        for f in asm['files']:\n",
    "            if f['fileType'] == filetype:\n",
    "                fpath = f['filePath']\n",
    "                file_list[acc].append(fpath)\n",
    "        \n",
    "    return file_list"
   ]
  },
  {
   "cell_type": "code",
   "execution_count": 12,
   "metadata": {
    "scrolled": true
   },
   "outputs": [],
   "source": [
    "## there's a bug that labels all annotation files as fileType GFF3\n",
    "gff3_file_list = get_file_list('gff3')\n",
    "genome_file_list = get_file_list('fasta')"
   ]
  },
  {
   "cell_type": "code",
   "execution_count": 13,
   "metadata": {},
   "outputs": [],
   "source": [
    "## setting up files and directories\n",
    "\n",
    "## temporary files; will be deleted at the end\n",
    "temp_dir = 'tempfiles'\n",
    "temp_gff = temp_dir + '/temp.gff'\n",
    "temp_fa = temp_dir + '/temp.fa'\n",
    "\n",
    "!mkdir -p {temp_dir}\n",
    "\n",
    "## final output files \n",
    "genes_fn = 'crispr_genes.fna'\n",
    "prots_fn = 'crispr_proteins.faa'"
   ]
  },
  {
   "cell_type": "code",
   "execution_count": 14,
   "metadata": {},
   "outputs": [
    {
     "name": "stdout",
     "output_type": "stream",
     "text": [
      "CPU times: user 4min 45s, sys: 4.17 s, total: 4min 50s\n",
      "Wall time: 5min 5s\n"
     ]
    }
   ],
   "source": [
    "%%time\n",
    "blessed_genes = set(['cas3', 'cse1', 'cse2', 'cas7', 'cas5', 'cas6', 'cas4', 'cas1', 'cas2', 'cas5', 'cas8', 'cas9', 'csn2'])\n",
    "crispr_order = defaultdict(list)\n",
    "\n",
    "## create empty files to add data to\n",
    "open(genes_fn, 'w').close()\n",
    "open(prots_fn, 'w').close()\n",
    "\n",
    "with zipfile.ZipFile(zipfn, 'r') as zip:\n",
    "    for assm_acc, filelist in gff3_file_list.items():\n",
    "        crispr_genes = dict()\n",
    "\n",
    "        ## extract gff3 to a temp file \n",
    "        data = zip.read('ncbi_dataset/data/' + filelist[1])\n",
    "        with open(temp_gff, 'wb') as f:\n",
    "            f.write(data)\n",
    "\n",
    "        ## create gff3 db in memory\n",
    "        ## okay for bacterial assemblies but use caution\n",
    "        ## when parsing large assemblies like human\n",
    "        db = gffutils.create_db(temp_gff, \n",
    "                                dbfn = ':memory:', \n",
    "                                force=True, \n",
    "                                keep_order=True, \n",
    "                                merge_strategy='merge', \n",
    "                                sort_attribute_values=True)\n",
    "\n",
    "        ## parse db and extract data for blessed genes\n",
    "        gene_list = []\n",
    "        for f in db.all_features():\n",
    "            if f.attributes['gbkey'] == ['Gene']:\n",
    "                gene_list.append(f.attributes['ID'][0])\n",
    "\n",
    "        for gene in gene_list:\n",
    "            gene = db[gene]\n",
    "            gene_name = gene.attributes.get('Name', None)[0]\n",
    "            if gene_name[:4] in blessed_genes:\n",
    "                gene_range = (gene.start, gene.end)\n",
    "                if gene.attributes['gene_biotype'][0] == 'protein_coding':\n",
    "                    cds = list(db.children(gene, featuretype='CDS'))\n",
    "                    prot_acc = cds[0].attributes.get('protein_id', None)[0]\n",
    "                else:\n",
    "                    prot_acc = None\n",
    "                crispr_genes[gene_name] = ([gene.chrom, gene.strand, gene_range, prot_acc])\n",
    "                crispr_order[assm_acc].append(gene_name)\n",
    "\n",
    "        ## parse genome fasta file and extract crispr gene seqs\n",
    "        genome_fa = genome_file_list[assm_acc]\n",
    "        data = bytearray()\n",
    "        for fa in genome_fa:\n",
    "            data.extend(zip.read('ncbi_dataset/data/' + fa))\n",
    "        with open(temp_fa, 'wb') as f:\n",
    "            f.write(data)\n",
    "            \n",
    "        genome = Fasta(temp_fa)\n",
    "        with open(genes_fn, 'a+') as f:\n",
    "            for gene_name, gene_info in crispr_genes.items():\n",
    "                chrom, strand, gene_range, prot_acc = gene_info\n",
    "                if strand == '+':\n",
    "                    gene_fasta = genome.get_seq(chrom, gene_range[0], gene_range[1])\n",
    "                elif strand == '-':\n",
    "                    gene_fasta = genome.get_seq(chrom, gene_range[0], gene_range[1], rc=True)\n",
    "                f.write('>' + gene_fasta.fancy_name + '|' + gene_name + '\\n')\n",
    "                f.write(gene_fasta.seq + '\\n')\n",
    "\n",
    "        ## parse protein fasta file and extract crispr protein seqs\n",
    "        data = zip.read('ncbi_dataset/data/' + gff3_file_list[assm_acc][0])\n",
    "        with open(temp_fa, 'wb') as f:\n",
    "            f.write(data)\n",
    "        proteome = Fasta(temp_fa, read_long_names=False)\n",
    "        with open(prots_fn, 'a+') as f:\n",
    "            for gene_name, gene_info in crispr_genes.items():\n",
    "                chrom, strand, gene_range, prot_acc = gene_info\n",
    "                if prot_acc is not None:\n",
    "                    prot_fasta = proteome[prot_acc][:]\n",
    "                    f.write('>' + prot_fasta.name + '|' + gene_name + '\\n')\n",
    "                    f.write(prot_fasta.seq + '\\n')"
   ]
  },
  {
   "cell_type": "code",
   "execution_count": 15,
   "metadata": {},
   "outputs": [
    {
     "name": "stdout",
     "output_type": "stream",
     "text": [
      "removed ‘tempfiles/temp.gff’\n",
      "removed ‘tempfiles/temp.fa’\n",
      "removed ‘tempfiles/temp.fa.fai’\n",
      "rm: cannot remove ‘tempfiles’: Directory not empty\n"
     ]
    }
   ],
   "source": [
    "## remove temporary files \n",
    "\n",
    "!rm -rvf {temp_dir}"
   ]
  },
  {
   "cell_type": "code",
   "execution_count": 16,
   "metadata": {
    "scrolled": true
   },
   "outputs": [
    {
     "name": "stdout",
     "output_type": "stream",
     "text": [
      "GCF_009832765.1 ['csn2', 'cas2', 'cas1', 'cas9']\n",
      "GCF_009834385.1 ['csn2', 'cas2', 'cas1', 'cas9']\n",
      "GCF_009834405.1 ['cas9']\n",
      "GCF_009857225.1 ['csn2']\n",
      "GCF_009857395.1 ['cas3', 'cas7e', 'cas5e', 'cas6e', 'cas1e', 'cas2e']\n",
      "GCF_009863295.1 ['csn2', 'cas2', 'cas1', 'cas9']\n",
      "GCF_009863365.1 ['cas9', 'cas1', 'cas2', 'csn2']\n",
      "GCF_009863375.1 ['cas9', 'cas1', 'cas2', 'csn2']\n",
      "GCF_009863405.1 ['cas6', 'cas10', 'cas1', 'cas2', 'cas9', 'cas1', 'cas2', 'csn2']\n",
      "GCF_009863415.1 ['cas6', 'cas10', 'cas1', 'cas2', 'csn2', 'cas2', 'cas1', 'cas9']\n",
      "GCF_009863435.1 ['cas2', 'cas1', 'cas10', 'cas6', 'csn2', 'cas2', 'cas1', 'cas9']\n",
      "GCF_009863465.1 ['cas2', 'cas1', 'cas10', 'cas6', 'cas9', 'cas1', 'cas2', 'csn2']\n",
      "GCF_009863485.1 ['cas9', 'cas1', 'cas2', 'csn2']\n",
      "GCF_009863495.1 ['csn2', 'cas2', 'cas1', 'cas9']\n",
      "GCF_009863515.1 ['cas2', 'cas1', 'cas10', 'cas6', 'cas9', 'cas1', 'cas2', 'csn2']\n",
      "GCF_009863535.1 ['cas9', 'cas1', 'cas2', 'csn2']\n",
      "GCF_009863555.1 ['cas1', 'cas2', 'csn2', 'cas9']\n",
      "GCF_009863585.1 ['cas2', 'cas1', 'cas10', 'cas6', 'csn2', 'cas2', 'cas1', 'cas9']\n",
      "GCF_009863595.1 ['csn2', 'cas2', 'cas1', 'cas9']\n",
      "GCF_009863605.1 ['cas9', 'cas1', 'cas2', 'csn2']\n",
      "GCF_009863625.1 ['cas9', 'cas1', 'cas2', 'csn2']\n",
      "GCF_009863635.1 ['csn2', 'cas2', 'cas1', 'cas9']\n",
      "GCF_009863685.1 ['cas6', 'cas10', 'cas1', 'cas2', 'csn2', 'cas2', 'cas1', 'cas9']\n",
      "GCF_009863695.1 ['cas9', 'cas1', 'cas2', 'csn2']\n",
      "GCF_009863705.1 ['cas9', 'cas1', 'cas2', 'csn2']\n",
      "GCF_009863715.1 ['cas9', 'cas1', 'cas2', 'csn2']\n",
      "GCF_009863735.1 ['cas9', 'cas1', 'cas2', 'csn2']\n",
      "GCF_009863785.1 ['cas6', 'cas10', 'cas1', 'cas2', 'cas9', 'cas1', 'cas2', 'csn2']\n",
      "GCF_009863805.1 ['csn2', 'cas2', 'cas1', 'cas9']\n",
      "GCF_009863815.1 ['cas9', 'cas1', 'cas2', 'csn2']\n",
      "GCF_009863825.1 ['csn2', 'cas2', 'cas1', 'cas9']\n",
      "GCF_009863835.1 ['cas9', 'cas1', 'cas2', 'csn2']\n",
      "GCF_009863885.1 ['csn2', 'cas2', 'cas1', 'cas9']\n",
      "GCF_009863905.1 ['csn2', 'cas2', 'cas1', 'cas9']\n",
      "GCF_009863915.1 ['csn2', 'cas2', 'cas1', 'cas9']\n",
      "GCF_009863925.1 ['cas9', 'cas1', 'cas2', 'csn2']\n",
      "GCF_009864005.1 ['csn2', 'cas2', 'cas1', 'cas9']\n",
      "GCF_009865705.1 ['cas6', 'cas10', 'cas1', 'cas2', 'csn2', 'cas2', 'cas1', 'cas9']\n",
      "GCF_009865735.1 ['csn2', 'cas2', 'cas1', 'cas9']\n",
      "GCF_009865755.1 ['cas2', 'cas1', 'cas10', 'cas6', 'cas9', 'cas1', 'cas2', 'csn2']\n",
      "GCF_009865785.1 ['csn2', 'cas2', 'cas1', 'cas9']\n",
      "GCF_009865795.1 ['cas2', 'cas1', 'cas10', 'cas6', 'cas9', 'cas1', 'cas2', 'csn2']\n",
      "GCF_009865805.1 ['cas6', 'cas10', 'cas1', 'cas2', 'csn2', 'cas2', 'cas1', 'cas9']\n",
      "GCF_009865815.1 ['csn2', 'cas2', 'cas1', 'cas9']\n",
      "GCF_009865865.1 ['cas9', 'cas1', 'cas2', 'csn2']\n",
      "GCF_009865885.1 ['csn2', 'cas2', 'cas1', 'cas9']\n",
      "GCF_009865895.1 ['cas2', 'cas1', 'cas10', 'cas6', 'csn2', 'cas2', 'cas1', 'cas9']\n",
      "GCF_009865905.1 ['cas9', 'cas1', 'cas2', 'csn2']\n",
      "GCF_009865925.1 ['cas9', 'cas1', 'cas2', 'csn2']\n",
      "GCF_009865965.1 ['csn2', 'cas2', 'cas1', 'cas9']\n",
      "GCF_009865985.1 ['cas2', 'cas1', 'cas10', 'cas6', 'csn2', 'cas2', 'cas1', 'cas9']\n",
      "GCF_009865995.1 ['cas9', 'cas1', 'cas2', 'csn2']\n",
      "GCF_009866015.1 ['csn2', 'cas2', 'cas1', 'cas9']\n",
      "GCF_009866025.1 ['cas9', 'cas1', 'cas2', 'csn2']\n",
      "GCF_009866035.1 ['cas9', 'cas1', 'cas2', 'csn2']\n",
      "GCF_009866085.1 ['cas9', 'cas1', 'cas2', 'csn2']\n",
      "GCF_009866105.1 ['cas9', 'cas1', 'cas2', 'csn2']\n",
      "GCF_009866115.1 ['csn2', 'cas2', 'cas1', 'cas9']\n",
      "GCF_009866125.1 ['csn2', 'cas2', 'cas1', 'cas9']\n",
      "GCF_009866135.1 ['csn2', 'cas2', 'cas1', 'cas9']\n",
      "GCF_009866185.1 ['csn2', 'cas2', 'cas1', 'cas9']\n",
      "GCF_009866205.1 ['csn2', 'cas2', 'cas1', 'cas9']\n",
      "GCF_009866215.1 ['csn2', 'cas2', 'cas1', 'cas9']\n",
      "GCF_009866235.1 ['csn2', 'cas2', 'cas1', 'cas9']\n",
      "GCF_009866265.1 ['cas9', 'cas1', 'cas2', 'csn2']\n",
      "GCF_009866275.1 ['cas2', 'cas1', 'cas10', 'cas6', 'csn2', 'cas2', 'cas1', 'cas9']\n",
      "GCF_009869955.1 ['cas9', 'cas1', 'cas2', 'csn2']\n",
      "GCF_009869975.1 ['csn2', 'cas2', 'cas1', 'cas9']\n",
      "GCF_009869985.1 ['cas9', 'cas1', 'cas2', 'csn2']\n",
      "GCF_009870175.1 ['cas6', 'cas10', 'cas1', 'cas2', 'csn2', 'cas2', 'cas1', 'cas9']\n",
      "GCF_009870215.1 ['cas9', 'cas1', 'cas2', 'csn2']\n",
      "GCF_009870225.1 ['cas9', 'cas1', 'cas2', 'csn2']\n",
      "GCF_009870255.1 ['cas9', 'cas1', 'cas2', 'csn2']\n",
      "GCF_009870285.1 ['cas2', 'cas1', 'cas10', 'cas6', 'csn2', 'cas2', 'cas1', 'cas9']\n",
      "GCF_009870295.1 ['cas6', 'cas10', 'cas1', 'cas2', 'csn2', 'cas2', 'cas1', 'cas9']\n",
      "GCF_009870335.1 ['csn2', 'cas2', 'cas1', 'cas9']\n",
      "GCF_009870355.1 ['cas1', 'cas2', 'csn2', 'cas9']\n",
      "GCF_009870365.1 ['csn2', 'cas2', 'cas1', 'cas9']\n",
      "GCF_009881115.1 ['cas5c', 'cas8c', 'cas7c', 'cas4', 'cas1c', 'cas2']\n",
      "GCF_009890095.1 ['cas1e', 'cas2e', 'cas3', 'cas7e', 'cas5e', 'cas6e']\n",
      "GCF_009901645.1 ['cas2', 'cas1c', 'cas4', 'cas7c', 'cas8c', 'cas5c']\n",
      "GCF_009913675.1 ['cas9', 'cas1', 'cas2', 'csn2']\n",
      "GCF_009913695.1 ['cas9', 'cas1', 'cas2', 'csn2']\n",
      "GCF_009913795.1 ['cas1e', 'cas2e', 'cas3', 'cas7e', 'cas5e', 'cas6e']\n",
      "GCF_009913835.1 ['csn2', 'cas2', 'cas1', 'cas9']\n",
      "GCF_009913855.1 ['csn2', 'cas2', 'cas1', 'cas9']\n",
      "GCF_009913975.1 ['cas9', 'cas1', 'cas2', 'csn2']\n",
      "GCF_009914095.1 ['csn2', 'cas2', 'cas1', 'cas9']\n",
      "GCF_009914845.1 ['cas9', 'cas1', 'cas2', 'csn2']\n",
      "GCF_009931715.1 ['cas9', 'cas1', 'cas2', 'csn2']\n",
      "GCF_009933525.1 ['cas7e', 'cas5e', 'cas6e', 'cas1e', 'cas2e', 'cas9']\n",
      "GCF_009933595.1 ['csn2', 'cas2', 'cas1', 'cas9']\n",
      "GCF_009935675.1 ['csn2', 'cas2', 'cas1', 'cas9']\n",
      "GCF_009996805.1 ['csn2', 'cas2', 'cas1', 'cas9']\n",
      "GCF_010092655.1 ['csn2', 'cas2', 'cas1', 'cas9']\n",
      "GCF_010377125.1 ['cas9', 'cas1', 'cas2', 'csn2', 'cas7e', 'cas5e', 'cas6e']\n",
      "GCF_010377135.1 ['cas9', 'cas1', 'cas2', 'csn2']\n",
      "GCF_010377165.1 ['cas9', 'cas1', 'cas2', 'csn2']\n",
      "GCF_010377175.1 ['csn2', 'cas2', 'cas1', 'cas9', 'cas6e', 'cas5e', 'cas7e']\n",
      "GCF_010377205.1 ['csn2', 'cas2', 'cas1', 'cas9']\n",
      "GCF_010377225.1 ['csn2', 'cas2', 'cas1', 'cas9']\n",
      "GCF_010377235.1 ['cas9', 'cas1', 'cas2', 'csn2']\n",
      "GCF_010377255.1 ['cas9', 'cas1', 'cas2', 'csn2']\n",
      "GCF_010377275.1 ['cas9', 'cas1', 'cas2', 'csn2', 'cas7e', 'cas5e', 'cas6e', 'cas3']\n",
      "GCF_010586925.1 ['cas9', 'cas9', 'cas9']\n",
      "GCF_010748955.1 ['csn2', 'cas2', 'cas1']\n",
      "GCF_011009765.1 ['cas9', 'csn2', 'cas2', 'cas1']\n",
      "GCF_011022295.1 ['cas9', 'cas1', 'cas2', 'csn2']\n",
      "GCF_011028005.1 ['cas1', 'cas2', 'csn2', 'cas9']\n",
      "GCF_011029225.1 ['cas9', 'cas1', 'cas2', 'csn2']\n",
      "GCF_011029235.1 ['csn2', 'cas2', 'cas1', 'cas9']\n",
      "GCF_011029265.1 ['csn2', 'cas2', 'cas1', 'cas9', 'cas9', 'csn2']\n",
      "GCF_011031945.1 ['csn2', 'cas2', 'cas1', 'cas9']\n",
      "GCF_011032745.1 ['cas2e', 'cas1e', 'cas6e', 'cas5e', 'cas7e', 'cas3']\n",
      "GCF_011044195.1 ['cas9', 'cas1', 'cas2', 'csn2']\n",
      "GCF_011058695.1 ['cas3', 'cas7e', 'cas5e', 'cas6e', 'cas1e', 'cas2e']\n",
      "GCF_011058735.1 ['cas3', 'cas7e', 'cas5e', 'cas6e', 'cas1e', 'cas2e']\n",
      "GCF_011058755.1 ['cas3', 'cas7e', 'cas5e', 'cas6e', 'cas1e', 'cas2e']\n",
      "GCF_011392295.1 ['cas2e', 'cas1e', 'cas6e', 'cas5e', 'cas7e']\n",
      "GCF_011392325.1 ['cas3', 'cas2e', 'cas1e', 'cas6e', 'cas5e', 'cas7e']\n",
      "GCF_011392385.1 ['cas2', 'cas1b', 'cas4', 'cas5b', 'cas7i', 'cas8a1', 'cas6']\n",
      "GCF_011420355.1 ['csn2', 'cas2', 'cas1', 'cas9']\n",
      "GCF_011421685.1 ['cas9', 'csn2', 'cas2', 'cas1']\n",
      "GCF_011714625.1 ['csn2', 'cas2', 'cas1', 'cas9']\n",
      "GCF_011714655.1 ['csn2', 'cas2', 'cas1', 'cas9']\n",
      "GCF_011754295.1 ['csn2', 'cas2', 'cas1', 'cas9']\n",
      "GCF_011765585.1 ['csn2', 'cas2', 'cas1', 'cas9']\n"
     ]
    }
   ],
   "source": [
    "## order of crispr genes in various assemblies\n",
    "for k,v in crispr_order.items():\n",
    "    print(k, v)"
   ]
  },
  {
   "cell_type": "code",
   "execution_count": null,
   "metadata": {},
   "outputs": [],
   "source": []
  }
 ],
 "metadata": {
  "kernelspec": {
   "display_name": "Python 3",
   "language": "python",
   "name": "python3"
  },
  "language_info": {
   "codemirror_mode": {
    "name": "ipython",
    "version": 3
   },
   "file_extension": ".py",
   "mimetype": "text/x-python",
   "name": "python",
   "nbconvert_exporter": "python",
   "pygments_lexer": "ipython3",
   "version": "3.8.1"
  }
 },
 "nbformat": 4,
 "nbformat_minor": 4
}
