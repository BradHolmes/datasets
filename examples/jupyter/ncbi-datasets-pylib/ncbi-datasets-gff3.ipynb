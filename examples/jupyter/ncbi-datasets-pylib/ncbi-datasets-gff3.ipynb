{
 "cells": [
  {
   "cell_type": "markdown",
   "metadata": {},
   "source": [
    "# Using `ncbi.datasets` library to download and parse genome annotation data in GFF3 format\n",
    "\n",
    "The objective of this notebook is to use the `ncbi.datasets` python library to demonstrate how to download and parse genome annotation data in gff3 format from NCBI Datasets.\n",
    "\n",
    "There are two major types of genome data available from NCBI Datasets:\n",
    "\n",
    "1. Genome datasets, which include genome, transcript, and protein sequences, genome annotation data in gff3 format, an assembly data report (genome assembly and annotation metadata) and a sequence report (a list of sequences that comprise the genome assembly).  \n",
    "\n",
    "2. Genome summaries, which are sets of key metadata that describe the genome datasets \n",
    "\n",
    "As an example, we will download gff3 files for five _Lactobacillus_ genome assemblies, then parse those gff3 files to get information about crispr gene order in the corresponding genome assemblies.\n",
    "\n",
    "The notebook can be broken down into the following four major tasks:\n",
    "1. Query NCBI for _Lactobacillus_ assemblies and download the genome summaries for all available genome assemblies\n",
    "2. Parse the genome summaries to make a list of genome assemblies annotated in 2020\n",
    "3. Download sequence and annotation (gff3 and protein fasta) for five of those assemblies\n",
    "4. Parse the gff3 files to look at crispr gene order in those assemblies"
   ]
  },
  {
   "cell_type": "markdown",
   "metadata": {},
   "source": [
    "## Setup\n",
    "After importing the various python modules we will need, create the assembly and download API instances."
   ]
  },
  {
   "cell_type": "code",
   "execution_count": 1,
   "metadata": {},
   "outputs": [],
   "source": [
    "from collections import defaultdict, Counter\n",
    "from datetime import datetime\n",
    "import json\n",
    "import os\n",
    "from textwrap import dedent\n",
    "import zipfile\n",
    "\n",
    "import gffutils\n",
    "import matplotlib.pyplot as plt\n",
    "import ncbi.datasets\n",
    "import pandas as pd\n",
    "from pyfaidx import Fasta\n",
    "\n",
    "plt.style.use('ggplot')\n",
    "\n",
    "genome_api = ncbi.datasets.GenomeApi(ncbi.datasets.ApiClient())"
   ]
  },
  {
   "cell_type": "markdown",
   "metadata": {},
   "source": [
    "## Group genome assemblies based on annotation date\n",
    "Let's look at RefSeq *lactobacillus* genome assemblies, and see how we can group them based on annotation date. Annotation date, when available, is described in the genome summary.\n",
    "\n",
    "This section will include the following two major tasks:\n",
    "1. Query NCBI for Lactobacillus assemblies and download the genome summaries for all available genome assemblies\n",
    "2. Make a list of genome assemblies annotated in 2020\n",
    "\n",
    "Using the `ncbi.datasets` library, let's first get the count of available RefSeq *lactobacillus* assemblies. By setting `limit='none'`, we tell the API to return a genome summary with only the count of genome assemblies for the specified NCBI Taxonomy ID."
   ]
  },
  {
   "cell_type": "code",
   "execution_count": 1,
   "metadata": {
    "scrolled": true
   },
   "outputs": [
    {
     "output_type": "stream",
     "name": "stdout",
     "text": [
      "Number of RefSeq lactobacillus genome assemblies: 844\n"
     ]
    }
   ],
   "source": [
    "taxid = 1578 ## This is the NCBI Taxonomy ID for lactobacillus\n",
    "genome_summary = genome_api.assembly_descriptors_by_taxon(\n",
    "    taxon=taxid,\n",
    "    page_size=1,\n",
    "    filters_assembly_source='refseq')\n",
    "\n",
    "print(f\"Number of RefSeq lactobacillus genome assemblies: {genome_summary.total_count}\")"
   ]
  },
  {
   "cell_type": "markdown",
   "metadata": {},
   "source": [
    "Now let's download the genome summaries for these genome assemblies."
   ]
  },
  {
   "cell_type": "code",
   "execution_count": 1,
   "metadata": {},
   "outputs": [
    {
     "output_type": "stream",
     "name": "stdout",
     "text": [
      "Genome summaries for 844 genome assemblies downloaded and saved to genome_summary.\nAs an example, here's the first genome summary for the first genome assembly in the list:\n {'assembly': {'annotation_metadata': {'file': [{'estimated_size': '116455',\n                                                'type': 'GENOME_GFF'},\n                                               {'estimated_size': '1276183',\n                                                'type': 'GENOME_GBFF'},\n                                               {'estimated_size': '300879',\n                                                'type': 'PROT_FASTA'},\n                                               {'estimated_size': '134202',\n                                                'type': 'GENOME_GTF'}],\n                                      'name': 'From INSDC submitter',\n                                      'release_date': '2015-11-06',\n                                      'release_number': None,\n                                      'report_url': None,\n                                      'source': 'Shanghai Majorbio',\n                                      'stats': {'gene_counts': {'protein_coding': 1469,\n                                                                'total': 1582}}},\n              'assembly_accession': 'GCF_001436775.1',\n              'assembly_category': None,\n              'assembly_level': 'Scaffold',\n              'bioproject_lineages': [{'bioprojects': [{'accession': 'PRJNA222257',\n                                                        'parent_accession': None,\n                                                        'parent_accessions': ['PRJNA608517'],\n                                                        'title': 'Lactobacillus '\n                                                                 'Multispecies'},\n                                                       {'accession': 'PRJNA608517',\n                                                        'parent_accession': None,\n                                                        'parent_accessions': None,\n                                                        'title': 'The '\n                                                                 'Lactobacillus '\n                                                                 'genus, a use '\n                                                                 'case for '\n                                                                 'Bactopia.'}]}],\n              'biosample_accession': 'SAMN02369436',\n              'chromosomes': ['Un'],\n              'contig_n50': 28342,\n              'display_name': 'ASM143677v1',\n              'estimated_size': '2300433',\n              'org': {'assembly_count': None,\n                      'assembly_counts': {'node': 4, 'subtree': 4},\n                      'blast_node': None,\n                      'breed': None,\n                      'children': None,\n                      'common_name': None,\n                      'counts': None,\n                      'cultivar': None,\n                      'ecotype': None,\n                      'icon': None,\n                      'isolate': None,\n                      'key': '1423714',\n                      'max_ord': None,\n                      'merged': None,\n                      'merged_tax_ids': ['1293595'],\n                      'min_ord': None,\n                      'parent_tax_id': '1600',\n                      'rank': 'STRAIN',\n                      'sci_name': 'Lactobacillus acetotolerans DSM 20749 = JCM '\n                                  '3825',\n                      'search_text': None,\n                      'sex': None,\n                      'strain': 'DSM 20749',\n                      'tax_id': '1423714',\n                      'title': 'Lactobacillus acetotolerans DSM 20749 = JCM '\n                               '3825'},\n              'seq_length': '1585076',\n              'submission_date': '2015-11-06',\n              'submitter': 'Shanghai Majorbio'},\n 'messages': None}\n"
     ]
    }
   ],
   "source": [
    "## download the genome summaries for all RefSeq lactobacillus genome assemblies\n",
    "genome_summary = genome_api.assembly_descriptors_by_taxon(\n",
    "    taxon=taxid,\n",
    "    page_size=1000,\n",
    "    filters_assembly_source='refseq')\n",
    "print(f\"Genome summaries for {genome_summary.total_count} genome assemblies downloaded and saved to genome_summary.\")\n",
    "print(f\"As an example, here's the first genome summary for the first genome assembly in the list:\\n\", genome_summary.assemblies[0])"
   ]
  },
  {
   "cell_type": "markdown",
   "metadata": {},
   "source": [
    "Next we'll plot the assemblies by the year they were annotated."
   ]
  },
  {
   "cell_type": "code",
   "execution_count": 1,
   "metadata": {},
   "outputs": [
    {
     "output_type": "execute_result",
     "data": {
      "text/plain": [
       "<AxesSubplot:>"
      ]
     },
     "metadata": {},
     "execution_count": 1
    },
    {
     "output_type": "display_data",
     "data": {
      "text/plain": "<Figure size 864x432 with 1 Axes>",
      "image/svg+xml": "<?xml version=\"1.0\" encoding=\"utf-8\" standalone=\"no\"?>\n<!DOCTYPE svg PUBLIC \"-//W3C//DTD SVG 1.1//EN\"\n  \"http://www.w3.org/Graphics/SVG/1.1/DTD/svg11.dtd\">\n<svg height=\"373.01pt\" version=\"1.1\" viewBox=\"0 0 710.0875 373.01\" width=\"710.0875pt\" xmlns=\"http://www.w3.org/2000/svg\" xmlns:xlink=\"http://www.w3.org/1999/xlink\">\n <metadata>\n  <rdf:RDF xmlns:cc=\"http://creativecommons.org/ns#\" xmlns:dc=\"http://purl.org/dc/elements/1.1/\" xmlns:rdf=\"http://www.w3.org/1999/02/22-rdf-syntax-ns#\">\n   <cc:Work>\n    <dc:type rdf:resource=\"http://purl.org/dc/dcmitype/StillImage\"/>\n    <dc:date>2021-04-20T17:38:54.658435</dc:date>\n    <dc:format>image/svg+xml</dc:format>\n    <dc:creator>\n     <cc:Agent>\n      <dc:title>Matplotlib v3.4.1, https://matplotlib.org/</dc:title>\n     </cc:Agent>\n    </dc:creator>\n   </cc:Work>\n  </rdf:RDF>\n </metadata>\n <defs>\n  <style type=\"text/css\">*{stroke-linecap:butt;stroke-linejoin:round;}</style>\n </defs>\n <g id=\"figure_1\">\n  <g id=\"patch_1\">\n   <path d=\"M 0 373.01 \nL 710.0875 373.01 \nL 710.0875 0 \nL 0 0 \nz\n\" style=\"fill:#ffffff;\"/>\n  </g>\n  <g id=\"axes_1\">\n   <g id=\"patch_2\">\n    <path d=\"M 33.2875 333.36 \nL 702.8875 333.36 \nL 702.8875 7.2 \nL 33.2875 7.2 \nz\n\" style=\"fill:#e5e5e5;\"/>\n   </g>\n   <g id=\"matplotlib.axis_1\">\n    <g id=\"xtick_1\">\n     <g id=\"line2d_1\">\n      <path clip-path=\"url(#pd4341c4768)\" d=\"M 54.2125 333.36 \nL 54.2125 7.2 \n\" style=\"fill:none;stroke:#ffffff;stroke-linecap:square;stroke-width:0.8;\"/>\n     </g>\n     <g id=\"line2d_2\">\n      <defs>\n       <path d=\"M 0 0 \nL 0 3.5 \n\" id=\"m35177954cb\" style=\"stroke:#555555;stroke-width:0.8;\"/>\n      </defs>\n      <g>\n       <use style=\"fill:#555555;stroke:#555555;stroke-width:0.8;\" x=\"54.2125\" xlink:href=\"#m35177954cb\" y=\"333.36\"/>\n      </g>\n     </g>\n     <g id=\"text_1\">\n      <!-- 2004 -->\n      <g style=\"fill:#555555;\" transform=\"translate(56.971875 365.81)rotate(-90)scale(0.1 -0.1)\">\n       <defs>\n        <path d=\"M 1228 531 \nL 3431 531 \nL 3431 0 \nL 469 0 \nL 469 531 \nQ 828 903 1448 1529 \nQ 2069 2156 2228 2338 \nQ 2531 2678 2651 2914 \nQ 2772 3150 2772 3378 \nQ 2772 3750 2511 3984 \nQ 2250 4219 1831 4219 \nQ 1534 4219 1204 4116 \nQ 875 4013 500 3803 \nL 500 4441 \nQ 881 4594 1212 4672 \nQ 1544 4750 1819 4750 \nQ 2544 4750 2975 4387 \nQ 3406 4025 3406 3419 \nQ 3406 3131 3298 2873 \nQ 3191 2616 2906 2266 \nQ 2828 2175 2409 1742 \nQ 1991 1309 1228 531 \nz\n\" id=\"DejaVuSans-32\" transform=\"scale(0.015625)\"/>\n        <path d=\"M 2034 4250 \nQ 1547 4250 1301 3770 \nQ 1056 3291 1056 2328 \nQ 1056 1369 1301 889 \nQ 1547 409 2034 409 \nQ 2525 409 2770 889 \nQ 3016 1369 3016 2328 \nQ 3016 3291 2770 3770 \nQ 2525 4250 2034 4250 \nz\nM 2034 4750 \nQ 2819 4750 3233 4129 \nQ 3647 3509 3647 2328 \nQ 3647 1150 3233 529 \nQ 2819 -91 2034 -91 \nQ 1250 -91 836 529 \nQ 422 1150 422 2328 \nQ 422 3509 836 4129 \nQ 1250 4750 2034 4750 \nz\n\" id=\"DejaVuSans-30\" transform=\"scale(0.015625)\"/>\n        <path d=\"M 2419 4116 \nL 825 1625 \nL 2419 1625 \nL 2419 4116 \nz\nM 2253 4666 \nL 3047 4666 \nL 3047 1625 \nL 3713 1625 \nL 3713 1100 \nL 3047 1100 \nL 3047 0 \nL 2419 0 \nL 2419 1100 \nL 313 1100 \nL 313 1709 \nL 2253 4666 \nz\n\" id=\"DejaVuSans-34\" transform=\"scale(0.015625)\"/>\n       </defs>\n       <use xlink:href=\"#DejaVuSans-32\"/>\n       <use x=\"63.623047\" xlink:href=\"#DejaVuSans-30\"/>\n       <use x=\"127.246094\" xlink:href=\"#DejaVuSans-30\"/>\n       <use x=\"190.869141\" xlink:href=\"#DejaVuSans-34\"/>\n      </g>\n     </g>\n    </g>\n    <g id=\"xtick_2\">\n     <g id=\"line2d_3\">\n      <path clip-path=\"url(#pd4341c4768)\" d=\"M 96.0625 333.36 \nL 96.0625 7.2 \n\" style=\"fill:none;stroke:#ffffff;stroke-linecap:square;stroke-width:0.8;\"/>\n     </g>\n     <g id=\"line2d_4\">\n      <g>\n       <use style=\"fill:#555555;stroke:#555555;stroke-width:0.8;\" x=\"96.0625\" xlink:href=\"#m35177954cb\" y=\"333.36\"/>\n      </g>\n     </g>\n     <g id=\"text_2\">\n      <!-- 2006 -->\n      <g style=\"fill:#555555;\" transform=\"translate(98.821875 365.81)rotate(-90)scale(0.1 -0.1)\">\n       <defs>\n        <path d=\"M 2113 2584 \nQ 1688 2584 1439 2293 \nQ 1191 2003 1191 1497 \nQ 1191 994 1439 701 \nQ 1688 409 2113 409 \nQ 2538 409 2786 701 \nQ 3034 994 3034 1497 \nQ 3034 2003 2786 2293 \nQ 2538 2584 2113 2584 \nz\nM 3366 4563 \nL 3366 3988 \nQ 3128 4100 2886 4159 \nQ 2644 4219 2406 4219 \nQ 1781 4219 1451 3797 \nQ 1122 3375 1075 2522 \nQ 1259 2794 1537 2939 \nQ 1816 3084 2150 3084 \nQ 2853 3084 3261 2657 \nQ 3669 2231 3669 1497 \nQ 3669 778 3244 343 \nQ 2819 -91 2113 -91 \nQ 1303 -91 875 529 \nQ 447 1150 447 2328 \nQ 447 3434 972 4092 \nQ 1497 4750 2381 4750 \nQ 2619 4750 2861 4703 \nQ 3103 4656 3366 4563 \nz\n\" id=\"DejaVuSans-36\" transform=\"scale(0.015625)\"/>\n       </defs>\n       <use xlink:href=\"#DejaVuSans-32\"/>\n       <use x=\"63.623047\" xlink:href=\"#DejaVuSans-30\"/>\n       <use x=\"127.246094\" xlink:href=\"#DejaVuSans-30\"/>\n       <use x=\"190.869141\" xlink:href=\"#DejaVuSans-36\"/>\n      </g>\n     </g>\n    </g>\n    <g id=\"xtick_3\">\n     <g id=\"line2d_5\">\n      <path clip-path=\"url(#pd4341c4768)\" d=\"M 137.9125 333.36 \nL 137.9125 7.2 \n\" style=\"fill:none;stroke:#ffffff;stroke-linecap:square;stroke-width:0.8;\"/>\n     </g>\n     <g id=\"line2d_6\">\n      <g>\n       <use style=\"fill:#555555;stroke:#555555;stroke-width:0.8;\" x=\"137.9125\" xlink:href=\"#m35177954cb\" y=\"333.36\"/>\n      </g>\n     </g>\n     <g id=\"text_3\">\n      <!-- 2007 -->\n      <g style=\"fill:#555555;\" transform=\"translate(140.671875 365.81)rotate(-90)scale(0.1 -0.1)\">\n       <defs>\n        <path d=\"M 525 4666 \nL 3525 4666 \nL 3525 4397 \nL 1831 0 \nL 1172 0 \nL 2766 4134 \nL 525 4134 \nL 525 4666 \nz\n\" id=\"DejaVuSans-37\" transform=\"scale(0.015625)\"/>\n       </defs>\n       <use xlink:href=\"#DejaVuSans-32\"/>\n       <use x=\"63.623047\" xlink:href=\"#DejaVuSans-30\"/>\n       <use x=\"127.246094\" xlink:href=\"#DejaVuSans-30\"/>\n       <use x=\"190.869141\" xlink:href=\"#DejaVuSans-37\"/>\n      </g>\n     </g>\n    </g>\n    <g id=\"xtick_4\">\n     <g id=\"line2d_7\">\n      <path clip-path=\"url(#pd4341c4768)\" d=\"M 179.7625 333.36 \nL 179.7625 7.2 \n\" style=\"fill:none;stroke:#ffffff;stroke-linecap:square;stroke-width:0.8;\"/>\n     </g>\n     <g id=\"line2d_8\">\n      <g>\n       <use style=\"fill:#555555;stroke:#555555;stroke-width:0.8;\" x=\"179.7625\" xlink:href=\"#m35177954cb\" y=\"333.36\"/>\n      </g>\n     </g>\n     <g id=\"text_4\">\n      <!-- 2009 -->\n      <g style=\"fill:#555555;\" transform=\"translate(182.521875 365.81)rotate(-90)scale(0.1 -0.1)\">\n       <defs>\n        <path d=\"M 703 97 \nL 703 672 \nQ 941 559 1184 500 \nQ 1428 441 1663 441 \nQ 2288 441 2617 861 \nQ 2947 1281 2994 2138 \nQ 2813 1869 2534 1725 \nQ 2256 1581 1919 1581 \nQ 1219 1581 811 2004 \nQ 403 2428 403 3163 \nQ 403 3881 828 4315 \nQ 1253 4750 1959 4750 \nQ 2769 4750 3195 4129 \nQ 3622 3509 3622 2328 \nQ 3622 1225 3098 567 \nQ 2575 -91 1691 -91 \nQ 1453 -91 1209 -44 \nQ 966 3 703 97 \nz\nM 1959 2075 \nQ 2384 2075 2632 2365 \nQ 2881 2656 2881 3163 \nQ 2881 3666 2632 3958 \nQ 2384 4250 1959 4250 \nQ 1534 4250 1286 3958 \nQ 1038 3666 1038 3163 \nQ 1038 2656 1286 2365 \nQ 1534 2075 1959 2075 \nz\n\" id=\"DejaVuSans-39\" transform=\"scale(0.015625)\"/>\n       </defs>\n       <use xlink:href=\"#DejaVuSans-32\"/>\n       <use x=\"63.623047\" xlink:href=\"#DejaVuSans-30\"/>\n       <use x=\"127.246094\" xlink:href=\"#DejaVuSans-30\"/>\n       <use x=\"190.869141\" xlink:href=\"#DejaVuSans-39\"/>\n      </g>\n     </g>\n    </g>\n    <g id=\"xtick_5\">\n     <g id=\"line2d_9\">\n      <path clip-path=\"url(#pd4341c4768)\" d=\"M 221.6125 333.36 \nL 221.6125 7.2 \n\" style=\"fill:none;stroke:#ffffff;stroke-linecap:square;stroke-width:0.8;\"/>\n     </g>\n     <g id=\"line2d_10\">\n      <g>\n       <use style=\"fill:#555555;stroke:#555555;stroke-width:0.8;\" x=\"221.6125\" xlink:href=\"#m35177954cb\" y=\"333.36\"/>\n      </g>\n     </g>\n     <g id=\"text_5\">\n      <!-- 2010 -->\n      <g style=\"fill:#555555;\" transform=\"translate(224.371875 365.81)rotate(-90)scale(0.1 -0.1)\">\n       <defs>\n        <path d=\"M 794 531 \nL 1825 531 \nL 1825 4091 \nL 703 3866 \nL 703 4441 \nL 1819 4666 \nL 2450 4666 \nL 2450 531 \nL 3481 531 \nL 3481 0 \nL 794 0 \nL 794 531 \nz\n\" id=\"DejaVuSans-31\" transform=\"scale(0.015625)\"/>\n       </defs>\n       <use xlink:href=\"#DejaVuSans-32\"/>\n       <use x=\"63.623047\" xlink:href=\"#DejaVuSans-30\"/>\n       <use x=\"127.246094\" xlink:href=\"#DejaVuSans-31\"/>\n       <use x=\"190.869141\" xlink:href=\"#DejaVuSans-30\"/>\n      </g>\n     </g>\n    </g>\n    <g id=\"xtick_6\">\n     <g id=\"line2d_11\">\n      <path clip-path=\"url(#pd4341c4768)\" d=\"M 263.4625 333.36 \nL 263.4625 7.2 \n\" style=\"fill:none;stroke:#ffffff;stroke-linecap:square;stroke-width:0.8;\"/>\n     </g>\n     <g id=\"line2d_12\">\n      <g>\n       <use style=\"fill:#555555;stroke:#555555;stroke-width:0.8;\" x=\"263.4625\" xlink:href=\"#m35177954cb\" y=\"333.36\"/>\n      </g>\n     </g>\n     <g id=\"text_6\">\n      <!-- 2011 -->\n      <g style=\"fill:#555555;\" transform=\"translate(266.221875 365.81)rotate(-90)scale(0.1 -0.1)\">\n       <use xlink:href=\"#DejaVuSans-32\"/>\n       <use x=\"63.623047\" xlink:href=\"#DejaVuSans-30\"/>\n       <use x=\"127.246094\" xlink:href=\"#DejaVuSans-31\"/>\n       <use x=\"190.869141\" xlink:href=\"#DejaVuSans-31\"/>\n      </g>\n     </g>\n    </g>\n    <g id=\"xtick_7\">\n     <g id=\"line2d_13\">\n      <path clip-path=\"url(#pd4341c4768)\" d=\"M 305.3125 333.36 \nL 305.3125 7.2 \n\" style=\"fill:none;stroke:#ffffff;stroke-linecap:square;stroke-width:0.8;\"/>\n     </g>\n     <g id=\"line2d_14\">\n      <g>\n       <use style=\"fill:#555555;stroke:#555555;stroke-width:0.8;\" x=\"305.3125\" xlink:href=\"#m35177954cb\" y=\"333.36\"/>\n      </g>\n     </g>\n     <g id=\"text_7\">\n      <!-- 2012 -->\n      <g style=\"fill:#555555;\" transform=\"translate(308.071875 365.81)rotate(-90)scale(0.1 -0.1)\">\n       <use xlink:href=\"#DejaVuSans-32\"/>\n       <use x=\"63.623047\" xlink:href=\"#DejaVuSans-30\"/>\n       <use x=\"127.246094\" xlink:href=\"#DejaVuSans-31\"/>\n       <use x=\"190.869141\" xlink:href=\"#DejaVuSans-32\"/>\n      </g>\n     </g>\n    </g>\n    <g id=\"xtick_8\">\n     <g id=\"line2d_15\">\n      <path clip-path=\"url(#pd4341c4768)\" d=\"M 347.1625 333.36 \nL 347.1625 7.2 \n\" style=\"fill:none;stroke:#ffffff;stroke-linecap:square;stroke-width:0.8;\"/>\n     </g>\n     <g id=\"line2d_16\">\n      <g>\n       <use style=\"fill:#555555;stroke:#555555;stroke-width:0.8;\" x=\"347.1625\" xlink:href=\"#m35177954cb\" y=\"333.36\"/>\n      </g>\n     </g>\n     <g id=\"text_8\">\n      <!-- 2013 -->\n      <g style=\"fill:#555555;\" transform=\"translate(349.921875 365.81)rotate(-90)scale(0.1 -0.1)\">\n       <defs>\n        <path d=\"M 2597 2516 \nQ 3050 2419 3304 2112 \nQ 3559 1806 3559 1356 \nQ 3559 666 3084 287 \nQ 2609 -91 1734 -91 \nQ 1441 -91 1130 -33 \nQ 819 25 488 141 \nL 488 750 \nQ 750 597 1062 519 \nQ 1375 441 1716 441 \nQ 2309 441 2620 675 \nQ 2931 909 2931 1356 \nQ 2931 1769 2642 2001 \nQ 2353 2234 1838 2234 \nL 1294 2234 \nL 1294 2753 \nL 1863 2753 \nQ 2328 2753 2575 2939 \nQ 2822 3125 2822 3475 \nQ 2822 3834 2567 4026 \nQ 2313 4219 1838 4219 \nQ 1578 4219 1281 4162 \nQ 984 4106 628 3988 \nL 628 4550 \nQ 988 4650 1302 4700 \nQ 1616 4750 1894 4750 \nQ 2613 4750 3031 4423 \nQ 3450 4097 3450 3541 \nQ 3450 3153 3228 2886 \nQ 3006 2619 2597 2516 \nz\n\" id=\"DejaVuSans-33\" transform=\"scale(0.015625)\"/>\n       </defs>\n       <use xlink:href=\"#DejaVuSans-32\"/>\n       <use x=\"63.623047\" xlink:href=\"#DejaVuSans-30\"/>\n       <use x=\"127.246094\" xlink:href=\"#DejaVuSans-31\"/>\n       <use x=\"190.869141\" xlink:href=\"#DejaVuSans-33\"/>\n      </g>\n     </g>\n    </g>\n    <g id=\"xtick_9\">\n     <g id=\"line2d_17\">\n      <path clip-path=\"url(#pd4341c4768)\" d=\"M 389.0125 333.36 \nL 389.0125 7.2 \n\" style=\"fill:none;stroke:#ffffff;stroke-linecap:square;stroke-width:0.8;\"/>\n     </g>\n     <g id=\"line2d_18\">\n      <g>\n       <use style=\"fill:#555555;stroke:#555555;stroke-width:0.8;\" x=\"389.0125\" xlink:href=\"#m35177954cb\" y=\"333.36\"/>\n      </g>\n     </g>\n     <g id=\"text_9\">\n      <!-- 2014 -->\n      <g style=\"fill:#555555;\" transform=\"translate(391.771875 365.81)rotate(-90)scale(0.1 -0.1)\">\n       <use xlink:href=\"#DejaVuSans-32\"/>\n       <use x=\"63.623047\" xlink:href=\"#DejaVuSans-30\"/>\n       <use x=\"127.246094\" xlink:href=\"#DejaVuSans-31\"/>\n       <use x=\"190.869141\" xlink:href=\"#DejaVuSans-34\"/>\n      </g>\n     </g>\n    </g>\n    <g id=\"xtick_10\">\n     <g id=\"line2d_19\">\n      <path clip-path=\"url(#pd4341c4768)\" d=\"M 430.8625 333.36 \nL 430.8625 7.2 \n\" style=\"fill:none;stroke:#ffffff;stroke-linecap:square;stroke-width:0.8;\"/>\n     </g>\n     <g id=\"line2d_20\">\n      <g>\n       <use style=\"fill:#555555;stroke:#555555;stroke-width:0.8;\" x=\"430.8625\" xlink:href=\"#m35177954cb\" y=\"333.36\"/>\n      </g>\n     </g>\n     <g id=\"text_10\">\n      <!-- 2015 -->\n      <g style=\"fill:#555555;\" transform=\"translate(433.621875 365.81)rotate(-90)scale(0.1 -0.1)\">\n       <defs>\n        <path d=\"M 691 4666 \nL 3169 4666 \nL 3169 4134 \nL 1269 4134 \nL 1269 2991 \nQ 1406 3038 1543 3061 \nQ 1681 3084 1819 3084 \nQ 2600 3084 3056 2656 \nQ 3513 2228 3513 1497 \nQ 3513 744 3044 326 \nQ 2575 -91 1722 -91 \nQ 1428 -91 1123 -41 \nQ 819 9 494 109 \nL 494 744 \nQ 775 591 1075 516 \nQ 1375 441 1709 441 \nQ 2250 441 2565 725 \nQ 2881 1009 2881 1497 \nQ 2881 1984 2565 2268 \nQ 2250 2553 1709 2553 \nQ 1456 2553 1204 2497 \nQ 953 2441 691 2322 \nL 691 4666 \nz\n\" id=\"DejaVuSans-35\" transform=\"scale(0.015625)\"/>\n       </defs>\n       <use xlink:href=\"#DejaVuSans-32\"/>\n       <use x=\"63.623047\" xlink:href=\"#DejaVuSans-30\"/>\n       <use x=\"127.246094\" xlink:href=\"#DejaVuSans-31\"/>\n       <use x=\"190.869141\" xlink:href=\"#DejaVuSans-35\"/>\n      </g>\n     </g>\n    </g>\n    <g id=\"xtick_11\">\n     <g id=\"line2d_21\">\n      <path clip-path=\"url(#pd4341c4768)\" d=\"M 472.7125 333.36 \nL 472.7125 7.2 \n\" style=\"fill:none;stroke:#ffffff;stroke-linecap:square;stroke-width:0.8;\"/>\n     </g>\n     <g id=\"line2d_22\">\n      <g>\n       <use style=\"fill:#555555;stroke:#555555;stroke-width:0.8;\" x=\"472.7125\" xlink:href=\"#m35177954cb\" y=\"333.36\"/>\n      </g>\n     </g>\n     <g id=\"text_11\">\n      <!-- 2016 -->\n      <g style=\"fill:#555555;\" transform=\"translate(475.471875 365.81)rotate(-90)scale(0.1 -0.1)\">\n       <use xlink:href=\"#DejaVuSans-32\"/>\n       <use x=\"63.623047\" xlink:href=\"#DejaVuSans-30\"/>\n       <use x=\"127.246094\" xlink:href=\"#DejaVuSans-31\"/>\n       <use x=\"190.869141\" xlink:href=\"#DejaVuSans-36\"/>\n      </g>\n     </g>\n    </g>\n    <g id=\"xtick_12\">\n     <g id=\"line2d_23\">\n      <path clip-path=\"url(#pd4341c4768)\" d=\"M 514.5625 333.36 \nL 514.5625 7.2 \n\" style=\"fill:none;stroke:#ffffff;stroke-linecap:square;stroke-width:0.8;\"/>\n     </g>\n     <g id=\"line2d_24\">\n      <g>\n       <use style=\"fill:#555555;stroke:#555555;stroke-width:0.8;\" x=\"514.5625\" xlink:href=\"#m35177954cb\" y=\"333.36\"/>\n      </g>\n     </g>\n     <g id=\"text_12\">\n      <!-- 2017 -->\n      <g style=\"fill:#555555;\" transform=\"translate(517.321875 365.81)rotate(-90)scale(0.1 -0.1)\">\n       <use xlink:href=\"#DejaVuSans-32\"/>\n       <use x=\"63.623047\" xlink:href=\"#DejaVuSans-30\"/>\n       <use x=\"127.246094\" xlink:href=\"#DejaVuSans-31\"/>\n       <use x=\"190.869141\" xlink:href=\"#DejaVuSans-37\"/>\n      </g>\n     </g>\n    </g>\n    <g id=\"xtick_13\">\n     <g id=\"line2d_25\">\n      <path clip-path=\"url(#pd4341c4768)\" d=\"M 556.4125 333.36 \nL 556.4125 7.2 \n\" style=\"fill:none;stroke:#ffffff;stroke-linecap:square;stroke-width:0.8;\"/>\n     </g>\n     <g id=\"line2d_26\">\n      <g>\n       <use style=\"fill:#555555;stroke:#555555;stroke-width:0.8;\" x=\"556.4125\" xlink:href=\"#m35177954cb\" y=\"333.36\"/>\n      </g>\n     </g>\n     <g id=\"text_13\">\n      <!-- 2018 -->\n      <g style=\"fill:#555555;\" transform=\"translate(559.171875 365.81)rotate(-90)scale(0.1 -0.1)\">\n       <defs>\n        <path d=\"M 2034 2216 \nQ 1584 2216 1326 1975 \nQ 1069 1734 1069 1313 \nQ 1069 891 1326 650 \nQ 1584 409 2034 409 \nQ 2484 409 2743 651 \nQ 3003 894 3003 1313 \nQ 3003 1734 2745 1975 \nQ 2488 2216 2034 2216 \nz\nM 1403 2484 \nQ 997 2584 770 2862 \nQ 544 3141 544 3541 \nQ 544 4100 942 4425 \nQ 1341 4750 2034 4750 \nQ 2731 4750 3128 4425 \nQ 3525 4100 3525 3541 \nQ 3525 3141 3298 2862 \nQ 3072 2584 2669 2484 \nQ 3125 2378 3379 2068 \nQ 3634 1759 3634 1313 \nQ 3634 634 3220 271 \nQ 2806 -91 2034 -91 \nQ 1263 -91 848 271 \nQ 434 634 434 1313 \nQ 434 1759 690 2068 \nQ 947 2378 1403 2484 \nz\nM 1172 3481 \nQ 1172 3119 1398 2916 \nQ 1625 2713 2034 2713 \nQ 2441 2713 2670 2916 \nQ 2900 3119 2900 3481 \nQ 2900 3844 2670 4047 \nQ 2441 4250 2034 4250 \nQ 1625 4250 1398 4047 \nQ 1172 3844 1172 3481 \nz\n\" id=\"DejaVuSans-38\" transform=\"scale(0.015625)\"/>\n       </defs>\n       <use xlink:href=\"#DejaVuSans-32\"/>\n       <use x=\"63.623047\" xlink:href=\"#DejaVuSans-30\"/>\n       <use x=\"127.246094\" xlink:href=\"#DejaVuSans-31\"/>\n       <use x=\"190.869141\" xlink:href=\"#DejaVuSans-38\"/>\n      </g>\n     </g>\n    </g>\n    <g id=\"xtick_14\">\n     <g id=\"line2d_27\">\n      <path clip-path=\"url(#pd4341c4768)\" d=\"M 598.2625 333.36 \nL 598.2625 7.2 \n\" style=\"fill:none;stroke:#ffffff;stroke-linecap:square;stroke-width:0.8;\"/>\n     </g>\n     <g id=\"line2d_28\">\n      <g>\n       <use style=\"fill:#555555;stroke:#555555;stroke-width:0.8;\" x=\"598.2625\" xlink:href=\"#m35177954cb\" y=\"333.36\"/>\n      </g>\n     </g>\n     <g id=\"text_14\">\n      <!-- 2019 -->\n      <g style=\"fill:#555555;\" transform=\"translate(601.021875 365.81)rotate(-90)scale(0.1 -0.1)\">\n       <use xlink:href=\"#DejaVuSans-32\"/>\n       <use x=\"63.623047\" xlink:href=\"#DejaVuSans-30\"/>\n       <use x=\"127.246094\" xlink:href=\"#DejaVuSans-31\"/>\n       <use x=\"190.869141\" xlink:href=\"#DejaVuSans-39\"/>\n      </g>\n     </g>\n    </g>\n    <g id=\"xtick_15\">\n     <g id=\"line2d_29\">\n      <path clip-path=\"url(#pd4341c4768)\" d=\"M 640.1125 333.36 \nL 640.1125 7.2 \n\" style=\"fill:none;stroke:#ffffff;stroke-linecap:square;stroke-width:0.8;\"/>\n     </g>\n     <g id=\"line2d_30\">\n      <g>\n       <use style=\"fill:#555555;stroke:#555555;stroke-width:0.8;\" x=\"640.1125\" xlink:href=\"#m35177954cb\" y=\"333.36\"/>\n      </g>\n     </g>\n     <g id=\"text_15\">\n      <!-- 2020 -->\n      <g style=\"fill:#555555;\" transform=\"translate(642.871875 365.81)rotate(-90)scale(0.1 -0.1)\">\n       <use xlink:href=\"#DejaVuSans-32\"/>\n       <use x=\"63.623047\" xlink:href=\"#DejaVuSans-30\"/>\n       <use x=\"127.246094\" xlink:href=\"#DejaVuSans-32\"/>\n       <use x=\"190.869141\" xlink:href=\"#DejaVuSans-30\"/>\n      </g>\n     </g>\n    </g>\n    <g id=\"xtick_16\">\n     <g id=\"line2d_31\">\n      <path clip-path=\"url(#pd4341c4768)\" d=\"M 681.9625 333.36 \nL 681.9625 7.2 \n\" style=\"fill:none;stroke:#ffffff;stroke-linecap:square;stroke-width:0.8;\"/>\n     </g>\n     <g id=\"line2d_32\">\n      <g>\n       <use style=\"fill:#555555;stroke:#555555;stroke-width:0.8;\" x=\"681.9625\" xlink:href=\"#m35177954cb\" y=\"333.36\"/>\n      </g>\n     </g>\n     <g id=\"text_16\">\n      <!-- 2021 -->\n      <g style=\"fill:#555555;\" transform=\"translate(684.721875 365.81)rotate(-90)scale(0.1 -0.1)\">\n       <use xlink:href=\"#DejaVuSans-32\"/>\n       <use x=\"63.623047\" xlink:href=\"#DejaVuSans-30\"/>\n       <use x=\"127.246094\" xlink:href=\"#DejaVuSans-32\"/>\n       <use x=\"190.869141\" xlink:href=\"#DejaVuSans-31\"/>\n      </g>\n     </g>\n    </g>\n   </g>\n   <g id=\"matplotlib.axis_2\">\n    <g id=\"ytick_1\">\n     <g id=\"line2d_33\">\n      <path clip-path=\"url(#pd4341c4768)\" d=\"M 33.2875 333.36 \nL 702.8875 333.36 \n\" style=\"fill:none;stroke:#ffffff;stroke-linecap:square;stroke-width:0.8;\"/>\n     </g>\n     <g id=\"line2d_34\">\n      <defs>\n       <path d=\"M 0 0 \nL -3.5 0 \n\" id=\"mccda0ecd4d\" style=\"stroke:#555555;stroke-width:0.8;\"/>\n      </defs>\n      <g>\n       <use style=\"fill:#555555;stroke:#555555;stroke-width:0.8;\" x=\"33.2875\" xlink:href=\"#mccda0ecd4d\" y=\"333.36\"/>\n      </g>\n     </g>\n     <g id=\"text_17\">\n      <!-- 0 -->\n      <g style=\"fill:#555555;\" transform=\"translate(19.925 337.159219)scale(0.1 -0.1)\">\n       <use xlink:href=\"#DejaVuSans-30\"/>\n      </g>\n     </g>\n    </g>\n    <g id=\"ytick_2\">\n     <g id=\"line2d_35\">\n      <path clip-path=\"url(#pd4341c4768)\" d=\"M 33.2875 293.940131 \nL 702.8875 293.940131 \n\" style=\"fill:none;stroke:#ffffff;stroke-linecap:square;stroke-width:0.8;\"/>\n     </g>\n     <g id=\"line2d_36\">\n      <g>\n       <use style=\"fill:#555555;stroke:#555555;stroke-width:0.8;\" x=\"33.2875\" xlink:href=\"#mccda0ecd4d\" y=\"293.940131\"/>\n      </g>\n     </g>\n     <g id=\"text_18\">\n      <!-- 25 -->\n      <g style=\"fill:#555555;\" transform=\"translate(13.5625 297.739349)scale(0.1 -0.1)\">\n       <use xlink:href=\"#DejaVuSans-32\"/>\n       <use x=\"63.623047\" xlink:href=\"#DejaVuSans-35\"/>\n      </g>\n     </g>\n    </g>\n    <g id=\"ytick_3\">\n     <g id=\"line2d_37\">\n      <path clip-path=\"url(#pd4341c4768)\" d=\"M 33.2875 254.520261 \nL 702.8875 254.520261 \n\" style=\"fill:none;stroke:#ffffff;stroke-linecap:square;stroke-width:0.8;\"/>\n     </g>\n     <g id=\"line2d_38\">\n      <g>\n       <use style=\"fill:#555555;stroke:#555555;stroke-width:0.8;\" x=\"33.2875\" xlink:href=\"#mccda0ecd4d\" y=\"254.520261\"/>\n      </g>\n     </g>\n     <g id=\"text_19\">\n      <!-- 50 -->\n      <g style=\"fill:#555555;\" transform=\"translate(13.5625 258.31948)scale(0.1 -0.1)\">\n       <use xlink:href=\"#DejaVuSans-35\"/>\n       <use x=\"63.623047\" xlink:href=\"#DejaVuSans-30\"/>\n      </g>\n     </g>\n    </g>\n    <g id=\"ytick_4\">\n     <g id=\"line2d_39\">\n      <path clip-path=\"url(#pd4341c4768)\" d=\"M 33.2875 215.100392 \nL 702.8875 215.100392 \n\" style=\"fill:none;stroke:#ffffff;stroke-linecap:square;stroke-width:0.8;\"/>\n     </g>\n     <g id=\"line2d_40\">\n      <g>\n       <use style=\"fill:#555555;stroke:#555555;stroke-width:0.8;\" x=\"33.2875\" xlink:href=\"#mccda0ecd4d\" y=\"215.100392\"/>\n      </g>\n     </g>\n     <g id=\"text_20\">\n      <!-- 75 -->\n      <g style=\"fill:#555555;\" transform=\"translate(13.5625 218.89961)scale(0.1 -0.1)\">\n       <use xlink:href=\"#DejaVuSans-37\"/>\n       <use x=\"63.623047\" xlink:href=\"#DejaVuSans-35\"/>\n      </g>\n     </g>\n    </g>\n    <g id=\"ytick_5\">\n     <g id=\"line2d_41\">\n      <path clip-path=\"url(#pd4341c4768)\" d=\"M 33.2875 175.680522 \nL 702.8875 175.680522 \n\" style=\"fill:none;stroke:#ffffff;stroke-linecap:square;stroke-width:0.8;\"/>\n     </g>\n     <g id=\"line2d_42\">\n      <g>\n       <use style=\"fill:#555555;stroke:#555555;stroke-width:0.8;\" x=\"33.2875\" xlink:href=\"#mccda0ecd4d\" y=\"175.680522\"/>\n      </g>\n     </g>\n     <g id=\"text_21\">\n      <!-- 100 -->\n      <g style=\"fill:#555555;\" transform=\"translate(7.2 179.479741)scale(0.1 -0.1)\">\n       <use xlink:href=\"#DejaVuSans-31\"/>\n       <use x=\"63.623047\" xlink:href=\"#DejaVuSans-30\"/>\n       <use x=\"127.246094\" xlink:href=\"#DejaVuSans-30\"/>\n      </g>\n     </g>\n    </g>\n    <g id=\"ytick_6\">\n     <g id=\"line2d_43\">\n      <path clip-path=\"url(#pd4341c4768)\" d=\"M 33.2875 136.260653 \nL 702.8875 136.260653 \n\" style=\"fill:none;stroke:#ffffff;stroke-linecap:square;stroke-width:0.8;\"/>\n     </g>\n     <g id=\"line2d_44\">\n      <g>\n       <use style=\"fill:#555555;stroke:#555555;stroke-width:0.8;\" x=\"33.2875\" xlink:href=\"#mccda0ecd4d\" y=\"136.260653\"/>\n      </g>\n     </g>\n     <g id=\"text_22\">\n      <!-- 125 -->\n      <g style=\"fill:#555555;\" transform=\"translate(7.2 140.059871)scale(0.1 -0.1)\">\n       <use xlink:href=\"#DejaVuSans-31\"/>\n       <use x=\"63.623047\" xlink:href=\"#DejaVuSans-32\"/>\n       <use x=\"127.246094\" xlink:href=\"#DejaVuSans-35\"/>\n      </g>\n     </g>\n    </g>\n    <g id=\"ytick_7\">\n     <g id=\"line2d_45\">\n      <path clip-path=\"url(#pd4341c4768)\" d=\"M 33.2875 96.840783 \nL 702.8875 96.840783 \n\" style=\"fill:none;stroke:#ffffff;stroke-linecap:square;stroke-width:0.8;\"/>\n     </g>\n     <g id=\"line2d_46\">\n      <g>\n       <use style=\"fill:#555555;stroke:#555555;stroke-width:0.8;\" x=\"33.2875\" xlink:href=\"#mccda0ecd4d\" y=\"96.840783\"/>\n      </g>\n     </g>\n     <g id=\"text_23\">\n      <!-- 150 -->\n      <g style=\"fill:#555555;\" transform=\"translate(7.2 100.640002)scale(0.1 -0.1)\">\n       <use xlink:href=\"#DejaVuSans-31\"/>\n       <use x=\"63.623047\" xlink:href=\"#DejaVuSans-35\"/>\n       <use x=\"127.246094\" xlink:href=\"#DejaVuSans-30\"/>\n      </g>\n     </g>\n    </g>\n    <g id=\"ytick_8\">\n     <g id=\"line2d_47\">\n      <path clip-path=\"url(#pd4341c4768)\" d=\"M 33.2875 57.420914 \nL 702.8875 57.420914 \n\" style=\"fill:none;stroke:#ffffff;stroke-linecap:square;stroke-width:0.8;\"/>\n     </g>\n     <g id=\"line2d_48\">\n      <g>\n       <use style=\"fill:#555555;stroke:#555555;stroke-width:0.8;\" x=\"33.2875\" xlink:href=\"#mccda0ecd4d\" y=\"57.420914\"/>\n      </g>\n     </g>\n     <g id=\"text_24\">\n      <!-- 175 -->\n      <g style=\"fill:#555555;\" transform=\"translate(7.2 61.220132)scale(0.1 -0.1)\">\n       <use xlink:href=\"#DejaVuSans-31\"/>\n       <use x=\"63.623047\" xlink:href=\"#DejaVuSans-37\"/>\n       <use x=\"127.246094\" xlink:href=\"#DejaVuSans-35\"/>\n      </g>\n     </g>\n    </g>\n    <g id=\"ytick_9\">\n     <g id=\"line2d_49\">\n      <path clip-path=\"url(#pd4341c4768)\" d=\"M 33.2875 18.001044 \nL 702.8875 18.001044 \n\" style=\"fill:none;stroke:#ffffff;stroke-linecap:square;stroke-width:0.8;\"/>\n     </g>\n     <g id=\"line2d_50\">\n      <g>\n       <use style=\"fill:#555555;stroke:#555555;stroke-width:0.8;\" x=\"33.2875\" xlink:href=\"#mccda0ecd4d\" y=\"18.001044\"/>\n      </g>\n     </g>\n     <g id=\"text_25\">\n      <!-- 200 -->\n      <g style=\"fill:#555555;\" transform=\"translate(7.2 21.800263)scale(0.1 -0.1)\">\n       <use xlink:href=\"#DejaVuSans-32\"/>\n       <use x=\"63.623047\" xlink:href=\"#DejaVuSans-30\"/>\n       <use x=\"127.246094\" xlink:href=\"#DejaVuSans-30\"/>\n      </g>\n     </g>\n    </g>\n   </g>\n   <g id=\"patch_3\">\n    <path clip-path=\"url(#pd4341c4768)\" d=\"M 43.75 333.36 \nL 64.675 333.36 \nL 64.675 331.783205 \nL 43.75 331.783205 \nz\n\" style=\"fill:#e24a33;\"/>\n   </g>\n   <g id=\"patch_4\">\n    <path clip-path=\"url(#pd4341c4768)\" d=\"M 85.6 333.36 \nL 106.525 333.36 \nL 106.525 328.629616 \nL 85.6 328.629616 \nz\n\" style=\"fill:#e24a33;\"/>\n   </g>\n   <g id=\"patch_5\">\n    <path clip-path=\"url(#pd4341c4768)\" d=\"M 127.45 333.36 \nL 148.375 333.36 \nL 148.375 330.20641 \nL 127.45 330.20641 \nz\n\" style=\"fill:#e24a33;\"/>\n   </g>\n   <g id=\"patch_6\">\n    <path clip-path=\"url(#pd4341c4768)\" d=\"M 169.3 333.36 \nL 190.225 333.36 \nL 190.225 314.438463 \nL 169.3 314.438463 \nz\n\" style=\"fill:#e24a33;\"/>\n   </g>\n   <g id=\"patch_7\">\n    <path clip-path=\"url(#pd4341c4768)\" d=\"M 211.15 333.36 \nL 232.075 333.36 \nL 232.075 306.554489 \nL 211.15 306.554489 \nz\n\" style=\"fill:#e24a33;\"/>\n   </g>\n   <g id=\"patch_8\">\n    <path clip-path=\"url(#pd4341c4768)\" d=\"M 253 333.36 \nL 273.925 333.36 \nL 273.925 309.708078 \nL 253 309.708078 \nz\n\" style=\"fill:#e24a33;\"/>\n   </g>\n   <g id=\"patch_9\">\n    <path clip-path=\"url(#pd4341c4768)\" d=\"M 294.85 333.36 \nL 315.775 333.36 \nL 315.775 320.745642 \nL 294.85 320.745642 \nz\n\" style=\"fill:#e24a33;\"/>\n   </g>\n   <g id=\"patch_10\">\n    <path clip-path=\"url(#pd4341c4768)\" d=\"M 336.7 333.36 \nL 357.625 333.36 \nL 357.625 301.824104 \nL 336.7 301.824104 \nz\n\" style=\"fill:#e24a33;\"/>\n   </g>\n   <g id=\"patch_11\">\n    <path clip-path=\"url(#pd4341c4768)\" d=\"M 378.55 333.36 \nL 399.475 333.36 \nL 399.475 312.861668 \nL 378.55 312.861668 \nz\n\" style=\"fill:#e24a33;\"/>\n   </g>\n   <g id=\"patch_12\">\n    <path clip-path=\"url(#pd4341c4768)\" d=\"M 420.4 333.36 \nL 441.325 333.36 \nL 441.325 238.752313 \nL 420.4 238.752313 \nz\n\" style=\"fill:#e24a33;\"/>\n   </g>\n   <g id=\"patch_13\">\n    <path clip-path=\"url(#pd4341c4768)\" d=\"M 462.25 333.36 \nL 483.175 333.36 \nL 483.175 246.636287 \nL 462.25 246.636287 \nz\n\" style=\"fill:#e24a33;\"/>\n   </g>\n   <g id=\"patch_14\">\n    <path clip-path=\"url(#pd4341c4768)\" d=\"M 504.1 333.36 \nL 525.025 333.36 \nL 525.025 137.837447 \nL 504.1 137.837447 \nz\n\" style=\"fill:#e24a33;\"/>\n   </g>\n   <g id=\"patch_15\">\n    <path clip-path=\"url(#pd4341c4768)\" d=\"M 545.95 333.36 \nL 566.875 333.36 \nL 566.875 159.912574 \nL 545.95 159.912574 \nz\n\" style=\"fill:#e24a33;\"/>\n   </g>\n   <g id=\"patch_16\">\n    <path clip-path=\"url(#pd4341c4768)\" d=\"M 587.8 333.36 \nL 608.725 333.36 \nL 608.725 88.956809 \nL 587.8 88.956809 \nz\n\" style=\"fill:#e24a33;\"/>\n   </g>\n   <g id=\"patch_17\">\n    <path clip-path=\"url(#pd4341c4768)\" d=\"M 629.65 333.36 \nL 650.575 333.36 \nL 650.575 22.731429 \nL 629.65 22.731429 \nz\n\" style=\"fill:#e24a33;\"/>\n   </g>\n   <g id=\"patch_18\">\n    <path clip-path=\"url(#pd4341c4768)\" d=\"M 671.5 333.36 \nL 692.425 333.36 \nL 692.425 251.366672 \nL 671.5 251.366672 \nz\n\" style=\"fill:#e24a33;\"/>\n   </g>\n   <g id=\"patch_19\">\n    <path d=\"M 33.2875 333.36 \nL 33.2875 7.2 \n\" style=\"fill:none;stroke:#ffffff;stroke-linecap:square;stroke-linejoin:miter;\"/>\n   </g>\n   <g id=\"patch_20\">\n    <path d=\"M 702.8875 333.36 \nL 702.8875 7.2 \n\" style=\"fill:none;stroke:#ffffff;stroke-linecap:square;stroke-linejoin:miter;\"/>\n   </g>\n   <g id=\"patch_21\">\n    <path d=\"M 33.2875 333.36 \nL 702.8875 333.36 \n\" style=\"fill:none;stroke:#ffffff;stroke-linecap:square;stroke-linejoin:miter;\"/>\n   </g>\n   <g id=\"patch_22\">\n    <path d=\"M 33.2875 7.2 \nL 702.8875 7.2 \n\" style=\"fill:none;stroke:#ffffff;stroke-linecap:square;stroke-linejoin:miter;\"/>\n   </g>\n   <g id=\"legend_1\">\n    <g id=\"patch_23\">\n     <path d=\"M 40.2875 29.878125 \nL 100.5 29.878125 \nQ 102.5 29.878125 102.5 27.878125 \nL 102.5 14.2 \nQ 102.5 12.2 100.5 12.2 \nL 40.2875 12.2 \nQ 38.2875 12.2 38.2875 14.2 \nL 38.2875 27.878125 \nQ 38.2875 29.878125 40.2875 29.878125 \nz\n\" style=\"fill:#e5e5e5;opacity:0.8;stroke:#cccccc;stroke-linejoin:miter;stroke-width:0.5;\"/>\n    </g>\n    <g id=\"patch_24\">\n     <path d=\"M 42.2875 23.798437 \nL 62.2875 23.798437 \nL 62.2875 16.798437 \nL 42.2875 16.798437 \nz\n\" style=\"fill:#e24a33;\"/>\n    </g>\n    <g id=\"text_26\">\n     <!-- count -->\n     <g transform=\"translate(70.2875 23.798437)scale(0.1 -0.1)\">\n      <defs>\n       <path d=\"M 3122 3366 \nL 3122 2828 \nQ 2878 2963 2633 3030 \nQ 2388 3097 2138 3097 \nQ 1578 3097 1268 2742 \nQ 959 2388 959 1747 \nQ 959 1106 1268 751 \nQ 1578 397 2138 397 \nQ 2388 397 2633 464 \nQ 2878 531 3122 666 \nL 3122 134 \nQ 2881 22 2623 -34 \nQ 2366 -91 2075 -91 \nQ 1284 -91 818 406 \nQ 353 903 353 1747 \nQ 353 2603 823 3093 \nQ 1294 3584 2113 3584 \nQ 2378 3584 2631 3529 \nQ 2884 3475 3122 3366 \nz\n\" id=\"DejaVuSans-63\" transform=\"scale(0.015625)\"/>\n       <path d=\"M 1959 3097 \nQ 1497 3097 1228 2736 \nQ 959 2375 959 1747 \nQ 959 1119 1226 758 \nQ 1494 397 1959 397 \nQ 2419 397 2687 759 \nQ 2956 1122 2956 1747 \nQ 2956 2369 2687 2733 \nQ 2419 3097 1959 3097 \nz\nM 1959 3584 \nQ 2709 3584 3137 3096 \nQ 3566 2609 3566 1747 \nQ 3566 888 3137 398 \nQ 2709 -91 1959 -91 \nQ 1206 -91 779 398 \nQ 353 888 353 1747 \nQ 353 2609 779 3096 \nQ 1206 3584 1959 3584 \nz\n\" id=\"DejaVuSans-6f\" transform=\"scale(0.015625)\"/>\n       <path d=\"M 544 1381 \nL 544 3500 \nL 1119 3500 \nL 1119 1403 \nQ 1119 906 1312 657 \nQ 1506 409 1894 409 \nQ 2359 409 2629 706 \nQ 2900 1003 2900 1516 \nL 2900 3500 \nL 3475 3500 \nL 3475 0 \nL 2900 0 \nL 2900 538 \nQ 2691 219 2414 64 \nQ 2138 -91 1772 -91 \nQ 1169 -91 856 284 \nQ 544 659 544 1381 \nz\nM 1991 3584 \nL 1991 3584 \nz\n\" id=\"DejaVuSans-75\" transform=\"scale(0.015625)\"/>\n       <path d=\"M 3513 2113 \nL 3513 0 \nL 2938 0 \nL 2938 2094 \nQ 2938 2591 2744 2837 \nQ 2550 3084 2163 3084 \nQ 1697 3084 1428 2787 \nQ 1159 2491 1159 1978 \nL 1159 0 \nL 581 0 \nL 581 3500 \nL 1159 3500 \nL 1159 2956 \nQ 1366 3272 1645 3428 \nQ 1925 3584 2291 3584 \nQ 2894 3584 3203 3211 \nQ 3513 2838 3513 2113 \nz\n\" id=\"DejaVuSans-6e\" transform=\"scale(0.015625)\"/>\n       <path d=\"M 1172 4494 \nL 1172 3500 \nL 2356 3500 \nL 2356 3053 \nL 1172 3053 \nL 1172 1153 \nQ 1172 725 1289 603 \nQ 1406 481 1766 481 \nL 2356 481 \nL 2356 0 \nL 1766 0 \nQ 1100 0 847 248 \nQ 594 497 594 1153 \nL 594 3053 \nL 172 3053 \nL 172 3500 \nL 594 3500 \nL 594 4494 \nL 1172 4494 \nz\n\" id=\"DejaVuSans-74\" transform=\"scale(0.015625)\"/>\n      </defs>\n      <use xlink:href=\"#DejaVuSans-63\"/>\n      <use x=\"54.980469\" xlink:href=\"#DejaVuSans-6f\"/>\n      <use x=\"116.162109\" xlink:href=\"#DejaVuSans-75\"/>\n      <use x=\"179.541016\" xlink:href=\"#DejaVuSans-6e\"/>\n      <use x=\"242.919922\" xlink:href=\"#DejaVuSans-74\"/>\n     </g>\n    </g>\n   </g>\n  </g>\n </g>\n <defs>\n  <clipPath id=\"pd4341c4768\">\n   <rect height=\"326.16\" width=\"669.6\" x=\"33.2875\" y=\"7.2\"/>\n  </clipPath>\n </defs>\n</svg>\n",
      "image/png": "[encoded data removed]"
     },
     "metadata": {}
    }
   ],
   "source": [
    "def annotation_year(annotation_metadata):\n",
    "    return datetime.strptime(annotation_metadata.release_date, '%Y-%M-%d').year\n",
    "\n",
    "annots_by_year = Counter()\n",
    "no_annot_assms = []\n",
    "for d in map(lambda d: d.assembly, genome_summary.assemblies):\n",
    "    if not d.annotation_metadata:\n",
    "        no_annot_assms.append(d.assembly_accession)\n",
    "        continue\n",
    "    annots_by_year[annotation_year(d.annotation_metadata)] += 1\n",
    "\n",
    "\n",
    "if len(no_annot_assms) > 0:\n",
    "    print(dedent(f'''\n",
    "    WARNING!\n",
    "    Some assemblies do not have annotation. \n",
    "    Most likely, this is because of an indexing delay. Skipping {len(no_annot_assms)} assemblies.\n",
    "'''))\n",
    "\n",
    "df = pd.DataFrame.from_dict(annots_by_year, orient='index', columns=['count']).sort_index()\n",
    "df.plot(kind='bar', y='count', figsize=(12,6))"
   ]
  },
  {
   "cell_type": "markdown",
   "metadata": {},
   "source": [
    "We can make a list of the genome assemblies that were annotated in 2020 and count the number of genomes in the list."
   ]
  },
  {
   "cell_type": "code",
   "execution_count": 1,
   "metadata": {},
   "outputs": [
    {
     "output_type": "stream",
     "name": "stdout",
     "text": [
      "197 genome assemblies were annotated in 2020.\nHere are the first five genome assemblies in the list: ['GCF_014648715.1', 'GCF_012848655.1', 'GCF_013342945.1', 'GCF_013867555.1', 'GCF_013867605.1']\n"
     ]
    }
   ],
   "source": [
    "year_of_interest = 2020\n",
    "genome_accessions = []\n",
    "for d in map(lambda d: d.assembly, genome_summary.assemblies):\n",
    "    if d.annotation_metadata:\n",
    "        if annotation_year(d.annotation_metadata) == year_of_interest:\n",
    "            genome_accessions.append(d.assembly_accession)\n",
    "        \n",
    "print(f'{len(genome_accessions)} genome assemblies were annotated in {year_of_interest}.')\n",
    "print(f\"Here are the first five genome assemblies in the list: {genome_accessions[0:5]}\")"
   ]
  },
  {
   "cell_type": "markdown",
   "metadata": {},
   "source": [
    "We could download genome datasets for all of the returned assemblies, based on the accessions stored in `genome_accessions`.  If there are quite a few of them, a `download_api.download_assembly_package_post()` request would be required (see docs here)[https://github.com/ncbi/datasets/blob/master/client_docs/python/docs/DownloadApi.md#download_assembly_package_post]. \n",
    "\n",
    "For demonstration purposes, we'll just download genome datasets for five genome assemblies through a GET request."
   ]
  },
  {
   "cell_type": "code",
   "execution_count": 1,
   "metadata": {},
   "outputs": [
    {
     "output_type": "stream",
     "name": "stdout",
     "text": [
      "Download genome datasets for 5 accessions: ['GCF_015708055.1', 'GCF_015708065.1', 'GCF_015708075.1', 'GCF_015708105.1', 'GCF_016093195.1']\n",
      "Download saved to ncbi_genomes.zip\n",
      "Archive:  ncbi_genomes.zip\n",
      "  Length      Date    Time    Name\n",
      "---------  ---------- -----   ----\n",
      "      661  04-20-2021 17:38   README.md\n",
      "     5651  04-20-2021 17:38   ncbi_dataset/data/assembly_data_report.jsonl\n",
      "  2422623  04-20-2021 17:38   ncbi_dataset/data/GCF_015708055.1/GCF_015708055.1_ASM1570805v1_genomic.fna\n",
      "  1340180  04-20-2021 17:38   ncbi_dataset/data/GCF_015708055.1/genomic.gff\n",
      "   804635  04-20-2021 17:38   ncbi_dataset/data/GCF_015708055.1/protein.faa\n",
      "  2455626  04-20-2021 17:38   ncbi_dataset/data/GCF_015708065.1/GCF_015708065.1_ASM1570806v1_genomic.fna\n",
      "  1377026  04-20-2021 17:38   ncbi_dataset/data/GCF_015708065.1/genomic.gff\n",
      "   814967  04-20-2021 17:38   ncbi_dataset/data/GCF_015708065.1/protein.faa\n",
      "  2366352  04-20-2021 17:38   ncbi_dataset/data/GCF_015708075.1/GCF_015708075.1_ASM1570807v1_genomic.fna\n",
      "  1299136  04-20-2021 17:38   ncbi_dataset/data/GCF_015708075.1/genomic.gff\n",
      "   783244  04-20-2021 17:38   ncbi_dataset/data/GCF_015708075.1/protein.faa\n",
      "  2416617  04-20-2021 17:38   ncbi_dataset/data/GCF_015708105.1/GCF_015708105.1_ASM1570810v1_genomic.fna\n",
      "  1350893  04-20-2021 17:38   ncbi_dataset/data/GCF_015708105.1/genomic.gff\n",
      "   784468  04-20-2021 17:38   ncbi_dataset/data/GCF_015708105.1/protein.faa\n",
      "  2183216  04-20-2021 17:38   ncbi_dataset/data/GCF_016093195.1/GCF_016093195.1_ASM1609319v1_genomic.fna\n",
      "  1282866  04-20-2021 17:38   ncbi_dataset/data/GCF_016093195.1/genomic.gff\n",
      "   755915  04-20-2021 17:38   ncbi_dataset/data/GCF_016093195.1/protein.faa\n",
      "    16003  04-20-2021 17:38   ncbi_dataset/data/GCF_015708055.1/sequence_report.jsonl\n",
      "    13173  04-20-2021 17:38   ncbi_dataset/data/GCF_015708065.1/sequence_report.jsonl\n",
      "    13174  04-20-2021 17:38   ncbi_dataset/data/GCF_015708075.1/sequence_report.jsonl\n",
      "    20264  04-20-2021 17:38   ncbi_dataset/data/GCF_015708105.1/sequence_report.jsonl\n",
      "    44450  04-20-2021 17:38   ncbi_dataset/data/GCF_016093195.1/sequence_report.jsonl\n",
      "     2537  04-20-2021 17:38   ncbi_dataset/data/dataset_catalog.json\n",
      "---------                     -------\n",
      " 22553677                     23 files\n",
      "CPU times: user 68.3 ms, sys: 38.3 ms, total: 107 ms\n",
      "Wall time: 1.44 s\n"
     ]
    }
   ],
   "source": [
    "%%time\n",
    "## Download data\n",
    "# Let's use accessions #21-25 in the list because these all have at least one crispr gene\n",
    "print(f'Download genome datasets for 5 accessions: {genome_accessions[20:25]}')\n",
    "dl_response = genome_api.download_assembly_package(\n",
    "    accessions=genome_accessions[20:25],\n",
    "    exclude_sequence=False,\n",
    "    include_annotation_type=['GENOME_GFF', 'PROT_FASTA'],\n",
    "    _preload_content=False )\n",
    "\n",
    "## write to a zip file \n",
    "zipfn = 'ncbi_genomes.zip'\n",
    "with open(zipfn, 'wb') as f:\n",
    "    f.write(dl_response.data)\n",
    "print(f'Download saved to {zipfn}')\n",
    "!unzip -l {zipfn}"
   ]
  },
  {
   "cell_type": "markdown",
   "metadata": {},
   "source": [
    "Next, we're going to look for crispr genes in these genome datasets, and extract the corresponding crispr gene and protein sequences.  \n",
    "We're going to break this down into a few steps.  \n",
    "First, let's make a list of the data files that are available for each genome assembly. We can use the `dataset_catalog.json` file to tell us which data files are available for each genome assembly."
   ]
  },
  {
   "cell_type": "code",
   "execution_count": 1,
   "metadata": {},
   "outputs": [
    {
     "output_type": "stream",
     "name": "stdout",
     "text": [
      "Catalog found with metadata for 5 assemblies\nAssemblies:\nGCF_015708055.1, GCF_015708065.1, GCF_015708075.1, GCF_015708105.1, GCF_016093195.1\nFiles for type: GFF3\ndefaultdict(<class 'list'>,\n            {   'GCF_015708055.1': [   'ncbi_dataset/data/GCF_015708055.1/genomic.gff'],\n                'GCF_015708065.1': [   'ncbi_dataset/data/GCF_015708065.1/genomic.gff'],\n                'GCF_015708075.1': [   'ncbi_dataset/data/GCF_015708075.1/genomic.gff'],\n                'GCF_015708105.1': [   'ncbi_dataset/data/GCF_015708105.1/genomic.gff'],\n                'GCF_016093195.1': [   'ncbi_dataset/data/GCF_016093195.1/genomic.gff']})\nFiles for type: FASTA\ndefaultdict(<class 'list'>, {})\nFiles for type: GENOMIC_NUCLEOTIDE_FASTA\ndefaultdict(<class 'list'>,\n            {   'GCF_015708055.1': [   'ncbi_dataset/data/GCF_015708055.1/GCF_015708055.1_ASM1570805v1_genomic.fna'],\n                'GCF_015708065.1': [   'ncbi_dataset/data/GCF_015708065.1/GCF_015708065.1_ASM1570806v1_genomic.fna'],\n                'GCF_015708075.1': [   'ncbi_dataset/data/GCF_015708075.1/GCF_015708075.1_ASM1570807v1_genomic.fna'],\n                'GCF_015708105.1': [   'ncbi_dataset/data/GCF_015708105.1/GCF_015708105.1_ASM1570810v1_genomic.fna'],\n                'GCF_016093195.1': [   'ncbi_dataset/data/GCF_016093195.1/GCF_016093195.1_ASM1609319v1_genomic.fna']})\nFiles for type: PROTEIN_FASTA\ndefaultdict(<class 'list'>,\n            {   'GCF_015708055.1': [   'ncbi_dataset/data/GCF_015708055.1/protein.faa'],\n                'GCF_015708065.1': [   'ncbi_dataset/data/GCF_015708065.1/protein.faa'],\n                'GCF_015708075.1': [   'ncbi_dataset/data/GCF_015708075.1/protein.faa'],\n                'GCF_015708105.1': [   'ncbi_dataset/data/GCF_015708105.1/protein.faa'],\n                'GCF_016093195.1': [   'ncbi_dataset/data/GCF_016093195.1/protein.faa']})\n"
     ]
    }
   ],
   "source": [
    "## function to make list of files \n",
    "from ncbi.datasets.v1alpha1 import catalog_pb2\n",
    "import pprint\n",
    "pp = pprint.PrettyPrinter(indent=4)\n",
    "\n",
    "def retrieve_data_catalog(zip_file):\n",
    "    with zipfile.ZipFile(zip_file, 'r') as zip:\n",
    "        data_catalog = json.loads(zip.read('ncbi_dataset/data/dataset_catalog.json'))\n",
    "    print(f\"Catalog found with metadata for {len(data_catalog['assemblies'])-1} assemblies\")\n",
    "    return data_catalog\n",
    "\n",
    "def get_assemblies(data_catalog):\n",
    "    return [x['accession'] for x in data_catalog['assemblies'] if 'accession' in x]\n",
    "\n",
    "# Temporary hack to support GENOMIC_NUCLEOTIDE_FASTA & PROTEIN_FASTA \n",
    "# which will be present in the next release\n",
    "def get_file_list(data_catalog, desired_filetype):\n",
    "    desired_filetype = desired_filetype.upper()\n",
    "    if desired_filetype not in catalog_pb2.File.FileType.keys():\n",
    "        raise Exception(f'Filetype {desired_filetype} is invalid.')\n",
    "    \n",
    "    files = defaultdict(list)\n",
    "    for asm in data_catalog['assemblies']:\n",
    "        if 'accession' in asm:\n",
    "            acc = asm['accession'] \n",
    "            for f in asm['files']:\n",
    "                filepath = os.path.join('ncbi_dataset', 'data', f['filePath'])\n",
    "                if f['fileType'] == 'FASTA' and desired_filetype in ('GENOMIC_NUCLEOTIDE_FASTA') and filepath.endswith('fna'):\n",
    "                    files[acc].append(filepath)\n",
    "                    continue\n",
    "                if f['fileType'] == 'GFF3':\n",
    "                    if desired_filetype in ('PROTEIN_FASTA') and filepath.endswith('faa'):\n",
    "                        files[acc].append(filepath)\n",
    "                    if desired_filetype in ('GFF3') and filepath.endswith('gff'):\n",
    "                        files[acc].append(filepath)\n",
    "                    continue\n",
    "                if f['fileType'] == desired_filetype:\n",
    "                    files[acc].append(filepath)\n",
    "        \n",
    "    return files\n",
    "\n",
    "data_catalog = retrieve_data_catalog(zipfn)\n",
    "print(f'Assemblies:')\n",
    "print(', '.join(get_assemblies(data_catalog)))\n",
    "for file_type in ['GFF3', 'FASTA', 'GENOMIC_NUCLEOTIDE_FASTA', 'PROTEIN_FASTA']:\n",
    "    file_list = get_file_list(data_catalog, file_type)\n",
    "    print(f'Files for type: {file_type}')\n",
    "    pp.pprint(file_list)\n"
   ]
  },
  {
   "cell_type": "markdown",
   "metadata": {},
   "source": [
    "We're going to create temporary files to store the genome annotation (gff3 format) and protein sequence data. We will put the files in a temporary directory named tempfiles."
   ]
  },
  {
   "cell_type": "code",
   "execution_count": 1,
   "metadata": {},
   "outputs": [],
   "source": [
    "## setting up files and directories\n",
    "\n",
    "## temporary files; will be deleted at the end\n",
    "temp_dir = 'tempfiles'\n",
    "temp_gff = temp_dir + '/temp.gff'\n",
    "temp_fa = temp_dir + '/temp.fa'\n",
    "\n",
    "!mkdir -p {temp_dir}\n",
    "\n",
    "## final output files \n",
    "genes_fn = 'crispr_genes.fna'\n",
    "prots_fn = 'crispr_proteins.faa'"
   ]
  },
  {
   "cell_type": "markdown",
   "metadata": {},
   "source": [
    "Next, we need a few functions to process the data. One of these functions will create a gff3 database in memory using the gffutils python package. Another combines fasta files, a third function will extract gene information by gene symbol from the gff3 database. "
   ]
  },
  {
   "cell_type": "code",
   "execution_count": 1,
   "metadata": {},
   "outputs": [],
   "source": [
    "def create_gff3_db(files_by_assembly, temp_file, zfh):\n",
    "    '''\n",
    "    create gff3 db in memory, per assembly\n",
    "    okay for bacterial assemblies but use caution\n",
    "    when parsing large assemblies like human\n",
    "    '''\n",
    "\n",
    "    db = {}\n",
    "    for assembly_accession, files in files_by_assembly.items():\n",
    "        with open(temp_file, 'wb') as f:\n",
    "            for file in files:\n",
    "                print(f'\\tWrite {file} to {temp_file}')\n",
    "                f.write(zfh.read(file))\n",
    "            db[assembly_accession] = gffutils.create_db(\n",
    "                temp_file,\n",
    "                dbfn = ':memory:',\n",
    "                force=True,\n",
    "                keep_order=True,\n",
    "                merge_strategy='merge',\n",
    "                sort_attribute_values=True)\n",
    "\n",
    "\n",
    "    return db\n",
    "\n",
    "\n",
    "def combine_fasta(files_by_assembly, temp_file, zfh):\n",
    "    '''\n",
    "    Combine fasta for *all* FASTA files, nt & protein\n",
    "    '''\n",
    "    with open(temp_file, 'wb') as f:\n",
    "        for assembly, files in files_by_assembly.items():\n",
    "            for file in files:\n",
    "                print(f'\\tAppending {file} to {temp_file}')\n",
    "                f.write(zfh.read(file))\n",
    "\n",
    "    print(f'Create FASTA object for {temp_file}.')\n",
    "    return Fasta(temp_file, read_long_names=False, duplicate_action='first')\n",
    "    \n",
    "\n",
    "def extract_genes(gff3_db, assemblies, desired_genes):\n",
    "    crispr_order = defaultdict(list)\n",
    "    crispr_genes = {}\n",
    "\n",
    "    for assembly_accession in assemblies:\n",
    "        if assembly_accession in assemblies:\n",
    "            for gene in gff3_db[assembly_accession].features_of_type('gene'):\n",
    "                gene_name = gene.attributes.get('Name', None)[0]\n",
    "                if gene_name[:4] not in desired_genes:\n",
    "                    continue\n",
    "                gene_range = (gene.start, gene.end)\n",
    "                prot_acc = None\n",
    "                if gene.attributes['gene_biotype'][0] == 'protein_coding':\n",
    "                    cds = list(gff3_db[assembly_accession].children(gene, featuretype='CDS'))\n",
    "                    prot_acc = cds[0].attributes.get('protein_id', None)[0]\n",
    "\n",
    "                crispr_genes[gene_name] = ([gene.chrom, gene.strand, gene_range, prot_acc])\n",
    "                crispr_order[assembly_accession].append(gene_name)\n",
    "    return crispr_genes, crispr_order\n",
    "\n",
    "def write_fasta(fh, defline, content):\n",
    "    fh.write('>' + defline + '\\n')\n",
    "    fh.write(content + '\\n')"
   ]
  },
  {
   "cell_type": "markdown",
   "metadata": {},
   "source": [
    "Let's use the above functions to process the datasets zip file. First, create the gff3 database, then extract crispr gene information from the gff3 data, then for each gene, store the crispr gene data and write the fasta sequences."
   ]
  },
  {
   "cell_type": "code",
   "execution_count": 1,
   "metadata": {},
   "outputs": [
    {
     "output_type": "stream",
     "name": "stdout",
     "text": [
      "Create GFF3 Database\n",
      "\tWrite ncbi_dataset/data/GCF_015708055.1/genomic.gff to tempfiles/temp.gff\n",
      "\tWrite ncbi_dataset/data/GCF_015708065.1/genomic.gff to tempfiles/temp.gff\n",
      "\tWrite ncbi_dataset/data/GCF_015708075.1/genomic.gff to tempfiles/temp.gff\n",
      "\tWrite ncbi_dataset/data/GCF_015708105.1/genomic.gff to tempfiles/temp.gff\n",
      "\tWrite ncbi_dataset/data/GCF_016093195.1/genomic.gff to tempfiles/temp.gff\n",
      "Extract crispr genes (12 genes)\n",
      "Write genes to crispr_genes.fna\n",
      "Create genomes object\n",
      "\tAppending ncbi_dataset/data/GCF_015708055.1/GCF_015708055.1_ASM1570805v1_genomic.fna to tempfiles/temp.fa\n",
      "\tAppending ncbi_dataset/data/GCF_015708065.1/GCF_015708065.1_ASM1570806v1_genomic.fna to tempfiles/temp.fa\n",
      "\tAppending ncbi_dataset/data/GCF_015708075.1/GCF_015708075.1_ASM1570807v1_genomic.fna to tempfiles/temp.fa\n",
      "\tAppending ncbi_dataset/data/GCF_015708105.1/GCF_015708105.1_ASM1570810v1_genomic.fna to tempfiles/temp.fa\n",
      "\tAppending ncbi_dataset/data/GCF_016093195.1/GCF_016093195.1_ASM1609319v1_genomic.fna to tempfiles/temp.fa\n",
      "Create FASTA object for tempfiles/temp.fa.\n",
      "Create proteome object\n",
      "\tAppending ncbi_dataset/data/GCF_015708055.1/protein.faa to tempfiles/temp.fa\n",
      "\tAppending ncbi_dataset/data/GCF_015708065.1/protein.faa to tempfiles/temp.fa\n",
      "\tAppending ncbi_dataset/data/GCF_015708075.1/protein.faa to tempfiles/temp.fa\n",
      "\tAppending ncbi_dataset/data/GCF_015708105.1/protein.faa to tempfiles/temp.fa\n",
      "\tAppending ncbi_dataset/data/GCF_016093195.1/protein.faa to tempfiles/temp.fa\n",
      "Create FASTA object for tempfiles/temp.fa.\n",
      "CPU times: user 6.39 s, sys: 128 ms, total: 6.51 s\n",
      "Wall time: 6.59 s\n"
     ]
    }
   ],
   "source": [
    "%%time\n",
    "crispr_genes = set(['cas3', 'cse1', 'cse2', 'cas7', 'cas5', 'cas6', 'cas4', 'cas1', 'cas2', 'cas5', 'cas8', 'cas9', 'csn2'])\n",
    "\n",
    "\n",
    "## create empty files to add data to\n",
    "open(genes_fn, 'w').close()\n",
    "open(prots_fn, 'w').close()\n",
    "\n",
    "with zipfile.ZipFile(zipfn, 'r') as zfh:\n",
    "\n",
    "    print('Create GFF3 Database')\n",
    "    gff3_db = create_gff3_db(get_file_list(data_catalog, 'GFF3'), temp_gff, zfh)\n",
    "    \n",
    "    print(f'Extract crispr genes ({len(crispr_genes)} genes)')\n",
    "    crispr_genes, crispr_order = extract_genes(gff3_db, get_assemblies(data_catalog), crispr_genes)\n",
    "    print(f'Write genes to {genes_fn}')\n",
    "\n",
    "    print('Create genomes object')\n",
    "    genomes = combine_fasta(get_file_list(data_catalog, 'GENOMIC_NUCLEOTIDE_FASTA'), temp_fa, zfh)\n",
    "    \n",
    "    # Write all genes to genes_fn\n",
    "    with open(genes_fn, 'w') as fh:\n",
    "        for gene_name, gene_info in crispr_genes.items():\n",
    "            chrom, strand, gene_range, prot_acc = gene_info\n",
    "            reverse_complement = True if strand == '-' else False\n",
    "            gene_fasta = genomes.get_seq(chrom, gene_range[0], gene_range[1], rc=reverse_complement)\n",
    "            write_fasta(fh, f'{gene_fasta.fancy_name}|{gene_name}', gene_fasta.seq)\n",
    "\n",
    "    print('Create proteome object')\n",
    "    proteome = combine_fasta(get_file_list(data_catalog, 'PROTEIN_FASTA'), temp_fa, zfh)\n",
    "    \n",
    "    # Write protein FASTA for each CRISPR gene\n",
    "    with open(prots_fn, 'w') as fh:\n",
    "        for gene_name, gene_info in crispr_genes.items():\n",
    "            chrom, strand, gene_range, prot_acc = gene_info\n",
    "            if prot_acc is not None:\n",
    "                prot_fasta = proteome[prot_acc][:]\n",
    "                write_fasta(fh, f'{prot_fasta.name}|{gene_name}', prot_fasta.seq)\n"
   ]
  },
  {
   "cell_type": "markdown",
   "metadata": {},
   "source": [
    "crispr_genes.fna and crispr_proteins.faa contain the genomic and protein FASTA sequences, respectively, for the crispr genes we identified in all of the five genome assemblies."
   ]
  },
  {
   "cell_type": "code",
   "execution_count": 1,
   "metadata": {
    "scrolled": false
   },
   "outputs": [
    {
     "output_type": "stream",
     "name": "stdout",
     "text": [
      "GCF_015708055.1 ['csn2', 'csn2', 'cas2', 'cas1']\nGCF_015708065.1 ['csn2', 'csn2', 'cas2', 'cas1', 'cas9']\nGCF_015708075.1 ['csn2', 'csn2', 'cas2', 'cas1']\nGCF_015708105.1 ['csn2', 'csn2', 'cas2', 'cas1', 'cas9']\nGCF_016093195.1 ['cas1', 'cas2', 'csn2', 'cas9', 'csn2']\n"
     ]
    }
   ],
   "source": [
    "## order of crispr genes in various assemblies\n",
    "for k,v in crispr_order.items():\n",
    "    print(k, v)"
   ]
  }
 ],
 "metadata": {
  "kernelspec": {
   "name": "python38164bitvea938fdb6388548c380939094f1607c5b",
   "display_name": "Python 3.8.1 64-bit ('ve')",
   "language": "python"
  },
  "language_info": {
   "codemirror_mode": {
    "name": "ipython",
    "version": 3
   },
   "file_extension": ".py",
   "mimetype": "text/x-python",
   "name": "python",
   "nbconvert_exporter": "python",
   "pygments_lexer": "ipython3",
   "version": "3.7.3"
  },
  "metadata": {
   "interpreter": {
    "hash": "b3ce2b738dea48d83b79aea2ce81e31fdf4bb1e268147ae937b9a62885b78b59"
   }
  }
 },
 "nbformat": 4,
 "nbformat_minor": 4
}