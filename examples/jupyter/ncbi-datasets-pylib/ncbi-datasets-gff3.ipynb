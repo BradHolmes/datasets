{
 "cells": [
  {
   "cell_type": "markdown",
   "metadata": {},
   "source": [
    "# Using `ncbi.datasets` library to download annotation and parse GFF3 files \n",
    "\n",
    "Here, we will use `ncbi.datasets` to download annotation data for some assemblies and parse them to extract specific information.  \n",
    "\n",
    "Specifically, \n",
    "1. query NCBI for _Lactobacillus_ assemblies and download the assembly descriptors for all available assemblies\n",
    "2. parse assembly descriptors to make a list of assemblies annotated in 2020\n",
    "3. download genome sequence and annotation (gff3 and protein fasta) for those assemblies\n",
    "4. parse gff3 files to extract information about crispr genes\n",
    "  1. use that information to extract gene sequences from genome fasta files \n",
    "  2. use that information to extract protein sequences from protein fasta files "
   ]
  },
  {
   "cell_type": "markdown",
   "metadata": {},
   "source": [
    "## Setup\n",
    "After importing the various python modules we will need, create the assembly and download API instances."
   ]
  },
  {
   "cell_type": "code",
   "execution_count": 1,
   "metadata": {},
   "outputs": [],
   "source": [
    "from collections import defaultdict, Counter\n",
    "from datetime import datetime\n",
    "import json\n",
    "import os\n",
    "from textwrap import dedent\n",
    "import zipfile\n",
    "\n",
    "import gffutils\n",
    "import matplotlib.pyplot as plt\n",
    "import ncbi.datasets\n",
    "import pandas as pd\n",
    "from pyfaidx import Fasta\n",
    "\n",
    "plt.style.use('ggplot')\n",
    "\n",
    "assembly_api = ncbi.datasets.AssemblyDatasetDescriptorsApi(ncbi.datasets.ApiClient())\n",
    "download_api = ncbi.datasets.DownloadApi(ncbi.datasets.ApiClient())"
   ]
  },
  {
   "cell_type": "markdown",
   "metadata": {},
   "source": [
    "## Group assemblies based on assembly annotation meta-data\n",
    "Let's look at RefSeq *lactobacillus* assemblies, and see how we can use the annotation meta-data to organize the assembly data.\n",
    "\n",
    "Using the `ncbi.datasets` library, we first check the number of available RefSeq *lactobacillus* assemblies.  When we use `limit='none'`, no descriptors are returned."
   ]
  },
  {
   "cell_type": "code",
   "execution_count": 1,
   "metadata": {
    "scrolled": true
   },
   "outputs": [
    {
     "name": "stdout",
     "output_type": "stream",
     "text": [
      "Number of assemblies: 2917\n",
      "Retrieved Descriptors: None\n"
     ]
    }
   ],
   "source": [
    "taxid = 1578 ## lactobacillus\n",
    "assembly_descriptors = assembly_api.assembly_descriptors_by_taxid(\n",
    "    tax_id=taxid,\n",
    "    limit='none',\n",
    "    filters_refseq_only=True)\n",
    "\n",
    "print(f\"Number of assemblies: {assembly_descriptors.total_count}\")\n",
    "print(f'Retrieved Descriptors: {assembly_descriptors.datasets}')"
   ]
  },
  {
   "cell_type": "markdown",
   "metadata": {},
   "source": [
    "Now that we know a reasonable number of assemblies are available, let's fetch all the data.  Be patient, this can take up to half a minute."
   ]
  },
  {
   "cell_type": "code",
   "execution_count": 1,
   "metadata": {},
   "outputs": [
    {
     "name": "stdout",
     "output_type": "stream",
     "text": [
      "CPU times: user 1.88 s, sys: 50.1 ms, total: 1.93 s\n",
      "Wall time: 2.55 s\n"
     ]
    }
   ],
   "source": [
    "%%time\n",
    "## download assembly descriptors for all of them\n",
    "assembly_descriptors = assembly_api.assembly_descriptors_by_taxid(\n",
    "    tax_id=taxid,\n",
    "    limit='all',\n",
    "    filters_refseq_only=True)"
   ]
  },
  {
   "cell_type": "markdown",
   "metadata": {},
   "source": [
    "And then we can organize the assemblies by the year they were annotated, and plot the data."
   ]
  },
  {
   "cell_type": "code",
   "execution_count": 1,
   "metadata": {},
   "outputs": [
    {
     "name": "stdout",
     "output_type": "stream",
     "text": [
      "\n",
      "WARNING!\n",
      "Some assemblies do not have annotation. \n",
      "Most likely, this is because of an indexing delay. Skipping 65 assemblies.\n",
      "\n"
     ]
    },
    {
     "data": {
      "text/plain": [
       "<matplotlib.axes._subplots.AxesSubplot at 0x7fbe23ec4940>"
      ]
     },
     "execution_count": 1,
     "metadata": {},
     "output_type": "execute_result"
    },
    {
     "data": {
      "image/png": "[encoded data removed]",
      "text/plain": [
       "<Figure size 864x432 with 1 Axes>"
      ]
     },
     "metadata": {},
     "output_type": "display_data"
    }
   ],
   "source": [
    "def annotation_year(annotation_metadata):\n",
    "    return datetime.strptime(annotation_metadata.release_date, '%b %d, %Y').year\n",
    "\n",
    "annots_by_year = Counter()\n",
    "no_annot_assms = []\n",
    "for d in assembly_descriptors.datasets:\n",
    "    if not d.annotation_metadata:\n",
    "        no_annot_assms.append(d.assembly_accession)\n",
    "        continue\n",
    "    annots_by_year[annotation_year(d.annotation_metadata)] += 1\n",
    "\n",
    "\n",
    "if len(no_annot_assms) > 0:\n",
    "    print(dedent(f'''\n",
    "    WARNING!\n",
    "    Some assemblies do not have annotation. \n",
    "    Most likely, this is because of an indexing delay. Skipping {len(no_annot_assms)} assemblies.\n",
    "'''))\n",
    "\n",
    "df = pd.DataFrame.from_dict(annots_by_year, orient='index', columns=['count']).sort_index()\n",
    "df.plot(kind='bar', y='count', figsize=(12,6))"
   ]
  },
  {
   "cell_type": "markdown",
   "metadata": {},
   "source": [
    "Or, we can select just the assemblies that were annotated in 2020:"
   ]
  },
  {
   "cell_type": "code",
   "execution_count": 1,
   "metadata": {},
   "outputs": [
    {
     "name": "stdout",
     "output_type": "stream",
     "text": [
      "264 assemblies were annotated in 2020.\n"
     ]
    }
   ],
   "source": [
    "year_of_interest = 2020\n",
    "assm_accs = []\n",
    "for d in assembly_descriptors.datasets:\n",
    "    if d.annotation_metadata:\n",
    "        if annotation_year(d.annotation_metadata) == year_of_interest:\n",
    "            assm_accs.append(d.assembly_accession)\n",
    "        \n",
    "print(f'{len(assm_accs)} assemblies were annotated in {year_of_interest}.')"
   ]
  },
  {
   "cell_type": "markdown",
   "metadata": {},
   "source": [
    "We could download all of the returned assemblies, based on the accessions stored in `assm_accs`.  If there are quite a few of them, a `download_api.download_assembly_package_post()` request would be required (see docs here)[https://github.com/ncbi/datasets/blob/master/client_docs/python/docs/DownloadApi.md#download_assembly_package_post]. \n",
    "\n",
    "For demonstration purposes, we'll just download the first five assemblies through a GET request."
   ]
  },
  {
   "cell_type": "code",
   "execution_count": 1,
   "metadata": {},
   "outputs": [
    {
     "name": "stdout",
     "output_type": "stream",
     "text": [
      "Download first 5 accessions: ['GCF_012848655.1', 'GCF_012843665.1', 'GCF_012490225.1', 'GCF_012490125.1', 'GCF_012490005.1']\n",
      "Download complete: {zipfn}\n",
      "Archive:  ncbi_genomes.zip\n",
      "  Length      Date    Time    Name\n",
      "---------  ---------- -----   ----\n",
      "       57  06-22-2020 12:05   ncbi_dataset/bagit.txt\n",
      "      998  06-22-2020 12:05   README.md\n",
      "    41951  06-22-2020 12:05   ncbi_dataset/data/GCF_012490005.1/data_report.yaml\n",
      "  2159152  06-22-2020 12:05   ncbi_dataset/data/GCF_012490005.1/GCF_012490005.1_ASM1249000v1_genomic.fna\n",
      "   754576  06-22-2020 12:05   ncbi_dataset/data/GCF_012490005.1/protein.faa\n",
      "  1233653  06-22-2020 12:05   ncbi_dataset/data/GCF_012490005.1/genomic.gff\n",
      "    17372  06-22-2020 12:05   ncbi_dataset/data/GCF_012490125.1/data_report.yaml\n",
      "  2066043  06-22-2020 12:05   ncbi_dataset/data/GCF_012490125.1/GCF_012490125.1_ASM1249012v1_genomic.fna\n",
      "   739947  06-22-2020 12:05   ncbi_dataset/data/GCF_012490125.1/protein.faa\n",
      "  1128437  06-22-2020 12:05   ncbi_dataset/data/GCF_012490125.1/genomic.gff\n",
      "    18401  06-22-2020 12:05   ncbi_dataset/data/GCF_012490225.1/data_report.yaml\n",
      "  2247498  06-22-2020 12:05   ncbi_dataset/data/GCF_012490225.1/GCF_012490225.1_ASM1249022v1_genomic.fna\n",
      "   800617  06-22-2020 12:05   ncbi_dataset/data/GCF_012490225.1/protein.faa\n",
      "  1192577  06-22-2020 12:05   ncbi_dataset/data/GCF_012490225.1/genomic.gff\n",
      "    25674  06-22-2020 12:05   ncbi_dataset/data/GCF_012843665.1/data_report.yaml\n",
      "  2243496  06-22-2020 12:05   ncbi_dataset/data/GCF_012843665.1/GCF_012843665.1_ASM1284366v1_genomic.fna\n",
      "   796745  06-22-2020 12:05   ncbi_dataset/data/GCF_012843665.1/protein.faa\n",
      "  1213074  06-22-2020 12:05   ncbi_dataset/data/GCF_012843665.1/genomic.gff\n",
      "     1910  06-22-2020 12:05   ncbi_dataset/data/GCF_012848655.1/data_report.yaml\n",
      "  1705083  06-22-2020 12:05   ncbi_dataset/data/GCF_012848655.1/GCF_012848655.1_ASM1284865v1_genomic.fna\n",
      "   589033  06-22-2020 12:05   ncbi_dataset/data/GCF_012848655.1/protein.faa\n",
      "   861530  06-22-2020 12:05   ncbi_dataset/data/GCF_012848655.1/genomic.gff\n",
      "     2669  06-22-2020 12:05   ncbi_dataset/data/dataset_catalog.json\n",
      "        0  06-22-2020 12:05   ncbi_dataset/fetch.txt\n",
      "      122  06-22-2020 12:05   ncbi_dataset/bag-info.txt\n",
      "     1486  06-22-2020 12:05   ncbi_dataset/manifest-md5.txt\n",
      "      190  06-22-2020 12:05   ncbi_dataset/tagmanifest-md5.txt\n",
      "---------                     -------\n",
      " 19842291                     27 files\n",
      "CPU times: user 85.8 ms, sys: 47.6 ms, total: 133 ms\n",
      "Wall time: 1.1 s\n"
     ]
    }
   ],
   "source": [
    "%%time\n",
    "## download data\n",
    "print(f'Download first 5 accessions: {assm_accs[0:5]}')\n",
    "dl_response = download_api.download_assembly_package(\n",
    "    assm_accs[0:5],\n",
    "    include_sequence=True,\n",
    "    include_annotation_type=['GENOME_GFF', 'PROT_FASTA'],\n",
    "    _preload_content=False )\n",
    "\n",
    "## write to a zip file \n",
    "zipfn = 'ncbi_genomes.zip'\n",
    "with open(zipfn, 'wb') as f:\n",
    "    f.write(dl_response.data)\n",
    "print('Download complete: {zipfn}')\n",
    "!unzip -l {zipfn}"
   ]
  },
  {
   "cell_type": "code",
   "execution_count": 1,
   "metadata": {},
   "outputs": [
    {
     "name": "stdout",
     "output_type": "stream",
     "text": [
      "Catalog found with metadata for 5 assemblies\n",
      "Assemblies:\n",
      "GCF_012490005.1, GCF_012490125.1, GCF_012490225.1, GCF_012843665.1, GCF_012848655.1\n",
      "Files for type: GFF3\n",
      "defaultdict(<class 'list'>,\n",
      "            {   'GCF_012490005.1': [   'ncbi_dataset/data/GCF_012490005.1/genomic.gff'],\n",
      "                'GCF_012490125.1': [   'ncbi_dataset/data/GCF_012490125.1/genomic.gff'],\n",
      "                'GCF_012490225.1': [   'ncbi_dataset/data/GCF_012490225.1/genomic.gff'],\n",
      "                'GCF_012843665.1': [   'ncbi_dataset/data/GCF_012843665.1/genomic.gff'],\n",
      "                'GCF_012848655.1': [   'ncbi_dataset/data/GCF_012848655.1/genomic.gff']})\n",
      "Files for type: FASTA\n",
      "defaultdict(<class 'list'>,\n",
      "            {   'GCF_012490005.1': [   'ncbi_dataset/data/GCF_012490005.1/GCF_012490005.1_ASM1249000v1_genomic.fna',\n",
      "                                       'ncbi_dataset/data/GCF_012490005.1/protein.faa'],\n",
      "                'GCF_012490125.1': [   'ncbi_dataset/data/GCF_012490125.1/GCF_012490125.1_ASM1249012v1_genomic.fna',\n",
      "                                       'ncbi_dataset/data/GCF_012490125.1/protein.faa'],\n",
      "                'GCF_012490225.1': [   'ncbi_dataset/data/GCF_012490225.1/GCF_012490225.1_ASM1249022v1_genomic.fna',\n",
      "                                       'ncbi_dataset/data/GCF_012490225.1/protein.faa'],\n",
      "                'GCF_012843665.1': [   'ncbi_dataset/data/GCF_012843665.1/GCF_012843665.1_ASM1284366v1_genomic.fna',\n",
      "                                       'ncbi_dataset/data/GCF_012843665.1/protein.faa'],\n",
      "                'GCF_012848655.1': [   'ncbi_dataset/data/GCF_012848655.1/GCF_012848655.1_ASM1284865v1_genomic.fna',\n",
      "                                       'ncbi_dataset/data/GCF_012848655.1/protein.faa']})\n",
      "Files for type: GENOMIC_NUCLEOTIDE_FASTA\n",
      "defaultdict(<class 'list'>,\n",
      "            {   'GCF_012490005.1': [   'ncbi_dataset/data/GCF_012490005.1/GCF_012490005.1_ASM1249000v1_genomic.fna'],\n",
      "                'GCF_012490125.1': [   'ncbi_dataset/data/GCF_012490125.1/GCF_012490125.1_ASM1249012v1_genomic.fna'],\n",
      "                'GCF_012490225.1': [   'ncbi_dataset/data/GCF_012490225.1/GCF_012490225.1_ASM1249022v1_genomic.fna'],\n",
      "                'GCF_012843665.1': [   'ncbi_dataset/data/GCF_012843665.1/GCF_012843665.1_ASM1284366v1_genomic.fna'],\n",
      "                'GCF_012848655.1': [   'ncbi_dataset/data/GCF_012848655.1/GCF_012848655.1_ASM1284865v1_genomic.fna']})\n",
      "Files for type: PROTEIN_FASTA\n",
      "defaultdict(<class 'list'>,\n",
      "            {   'GCF_012490005.1': [   'ncbi_dataset/data/GCF_012490005.1/protein.faa'],\n",
      "                'GCF_012490125.1': [   'ncbi_dataset/data/GCF_012490125.1/protein.faa'],\n",
      "                'GCF_012490225.1': [   'ncbi_dataset/data/GCF_012490225.1/protein.faa'],\n",
      "                'GCF_012843665.1': [   'ncbi_dataset/data/GCF_012843665.1/protein.faa'],\n",
      "                'GCF_012848655.1': [   'ncbi_dataset/data/GCF_012848655.1/protein.faa']})\n"
     ]
    }
   ],
   "source": [
    "## function to make list of files \n",
    "from ncbi.datasets.v1alpha1 import dataset_catalog_pb2\n",
    "import pprint\n",
    "pp = pprint.PrettyPrinter(indent=4)\n",
    "\n",
    "def retrieve_data_catalog(zip_file):\n",
    "    with zipfile.ZipFile(zip_file, 'r') as zip:\n",
    "        data_catalog = json.loads(zip.read('ncbi_dataset/data/dataset_catalog.json'))\n",
    "    print(f\"Catalog found with metadata for {len(data_catalog['assemblies'])} assemblies\")\n",
    "    return data_catalog\n",
    "\n",
    "def get_assemblies(data_catalog):\n",
    "    return [x['accession'] for x in data_catalog['assemblies']]\n",
    "\n",
    "# Temporary hack to support GENOMIC_NUCLEOTIDE_FASTA & PROTEIN_FASTA \n",
    "# which will be present in the next release\n",
    "def get_file_list(data_catalog, desired_filetype):\n",
    "    desired_filetype = desired_filetype.upper()\n",
    "    if desired_filetype not in dataset_catalog_pb2.File.FileType.keys():\n",
    "        raise Exception(f'Filetype {desired_filetype} is invalid.')\n",
    "    \n",
    "    files = defaultdict(list)\n",
    "    for asm in data_catalog['assemblies']:\n",
    "        acc = asm['accession']\n",
    "        for f in asm['files']:\n",
    "            filepath = os.path.join('ncbi_dataset', 'data', f['filePath'])\n",
    "            if f['fileType'] == 'FASTA' and desired_filetype in ('GENOMIC_NUCLEOTIDE_FASTA') and filepath.endswith('fna'):\n",
    "                files[acc].append(filepath)\n",
    "                continue\n",
    "            if f['fileType'] == 'GFF3':\n",
    "                if desired_filetype in ('PROTEIN_FASTA') and filepath.endswith('faa'):\n",
    "                    files[acc].append(filepath)\n",
    "                if desired_filetype in ('GFF3') and filepath.endswith('gff'):\n",
    "                    files[acc].append(filepath)\n",
    "                continue\n",
    "            if f['fileType'] == desired_filetype:\n",
    "                files[acc].append(filepath)\n",
    "        \n",
    "    return files\n",
    "\n",
    "data_catalog = retrieve_data_catalog(zipfn)\n",
    "print(f'Assemblies:')\n",
    "print(', '.join(get_assemblies(data_catalog)))\n",
    "for file_type in ['GFF3', 'FASTA', 'GENOMIC_NUCLEOTIDE_FASTA', 'PROTEIN_FASTA']:\n",
    "    file_list = get_file_list(data_catalog, file_type)\n",
    "    print(f'Files for type: {file_type}')\n",
    "    pp.pprint(file_list)\n"
   ]
  },
  {
   "cell_type": "code",
   "execution_count": 1,
   "metadata": {},
   "outputs": [],
   "source": [
    "## setting up files and directories\n",
    "\n",
    "## temporary files; will be deleted at the end\n",
    "temp_dir = 'tempfiles'\n",
    "temp_gff = temp_dir + '/temp.gff'\n",
    "temp_fa = temp_dir + '/temp.fa'\n",
    "\n",
    "!mkdir -p {temp_dir}\n",
    "\n",
    "## final output files \n",
    "genes_fn = 'crispr_genes.fna'\n",
    "prots_fn = 'crispr_proteins.faa'"
   ]
  },
  {
   "cell_type": "code",
   "execution_count": 1,
   "metadata": {},
   "outputs": [],
   "source": [
    "def create_gff3_db(files_by_assembly, temp_file, zfh):\n",
    "    '''\n",
    "    create gff3 db in memory, per assembly\n",
    "    okay for bacterial assemblies but use caution\n",
    "    when parsing large assemblies like human\n",
    "    '''\n",
    "\n",
    "    db = {}\n",
    "    for assembly_accession, files in files_by_assembly.items():\n",
    "        with open(temp_file, 'wb') as f:\n",
    "            for file in files:\n",
    "                print(f'\\tWrite {file} to {temp_file}')\n",
    "                f.write(zfh.read(file))\n",
    "            db[assembly_accession] = gffutils.create_db(\n",
    "                temp_file,\n",
    "                dbfn = ':memory:',\n",
    "                force=True,\n",
    "                keep_order=True,\n",
    "                merge_strategy='merge',\n",
    "                sort_attribute_values=True)\n",
    "\n",
    "\n",
    "    return db\n",
    "\n",
    "\n",
    "def combine_fasta(files_by_assembly, temp_file, zfh):\n",
    "    '''\n",
    "    Combine fasta for *all* FASTA files, nt & protein\n",
    "    '''\n",
    "    with open(temp_file, 'wb') as f:\n",
    "        for assembly, files in files_by_assembly.items():\n",
    "            for file in files:\n",
    "                print(f'\\tAppending {file} to {temp_file}')\n",
    "                f.write(zfh.read(file))\n",
    "\n",
    "    print(f'Create FASTA object for {temp_file}.')\n",
    "    return Fasta(temp_file, read_long_names=False, duplicate_action='first')\n",
    "    \n",
    "\n",
    "def extract_genes(gff3_db, assemblies, desired_genes):\n",
    "    crispr_order = defaultdict(list)\n",
    "    crispr_genes = {}\n",
    "\n",
    "    for assembly_accession in assemblies:\n",
    "        for gene in gff3_db[assembly_accession].features_of_type('gene'):\n",
    "            gene_name = gene.attributes.get('Name', None)[0]\n",
    "            if gene_name[:4] not in desired_genes:\n",
    "                continue\n",
    "            gene_range = (gene.start, gene.end)\n",
    "            prot_acc = None\n",
    "            if gene.attributes['gene_biotype'][0] == 'protein_coding':\n",
    "                cds = list(gff3_db[assembly_accession].children(gene, featuretype='CDS'))\n",
    "                prot_acc = cds[0].attributes.get('protein_id', None)[0]\n",
    "\n",
    "            crispr_genes[gene_name] = ([gene.chrom, gene.strand, gene_range, prot_acc])\n",
    "            crispr_order[assembly_accession].append(gene_name)\n",
    "    return crispr_genes, crispr_order\n",
    "\n",
    "def write_fasta(fh, defline, content):\n",
    "    fh.write('>' + defline + '\\n')\n",
    "    fh.write(content + '\\n')"
   ]
  },
  {
   "cell_type": "code",
   "execution_count": 1,
   "metadata": {},
   "outputs": [
    {
     "name": "stdout",
     "output_type": "stream",
     "text": [
      "Create GFF3 Database\n",
      "\tWrite ncbi_dataset/data/GCF_012490005.1/genomic.gff to tempfiles/temp.gff\n",
      "\tWrite ncbi_dataset/data/GCF_012490125.1/genomic.gff to tempfiles/temp.gff\n",
      "\tWrite ncbi_dataset/data/GCF_012490225.1/genomic.gff to tempfiles/temp.gff\n",
      "\tWrite ncbi_dataset/data/GCF_012843665.1/genomic.gff to tempfiles/temp.gff\n",
      "\tWrite ncbi_dataset/data/GCF_012848655.1/genomic.gff to tempfiles/temp.gff\n",
      "Extract crispr genes (12 genes)\n",
      "Write genes to crispr_genes.fna\n",
      "Create genomes object\n",
      "\tAppending ncbi_dataset/data/GCF_012490005.1/GCF_012490005.1_ASM1249000v1_genomic.fna to tempfiles/temp.fa\n",
      "\tAppending ncbi_dataset/data/GCF_012490125.1/GCF_012490125.1_ASM1249012v1_genomic.fna to tempfiles/temp.fa\n",
      "\tAppending ncbi_dataset/data/GCF_012490225.1/GCF_012490225.1_ASM1249022v1_genomic.fna to tempfiles/temp.fa\n",
      "\tAppending ncbi_dataset/data/GCF_012843665.1/GCF_012843665.1_ASM1284366v1_genomic.fna to tempfiles/temp.fa\n",
      "\tAppending ncbi_dataset/data/GCF_012848655.1/GCF_012848655.1_ASM1284865v1_genomic.fna to tempfiles/temp.fa\n",
      "Create FASTA object for tempfiles/temp.fa.\n",
      "Create proteome object\n",
      "\tAppending ncbi_dataset/data/GCF_012490005.1/protein.faa to tempfiles/temp.fa\n",
      "\tAppending ncbi_dataset/data/GCF_012490125.1/protein.faa to tempfiles/temp.fa\n",
      "\tAppending ncbi_dataset/data/GCF_012490225.1/protein.faa to tempfiles/temp.fa\n",
      "\tAppending ncbi_dataset/data/GCF_012843665.1/protein.faa to tempfiles/temp.fa\n",
      "\tAppending ncbi_dataset/data/GCF_012848655.1/protein.faa to tempfiles/temp.fa\n",
      "Create FASTA object for tempfiles/temp.fa.\n",
      "CPU times: user 5.45 s, sys: 614 µs, total: 5.45 s\n",
      "Wall time: 5.51 s\n"
     ]
    }
   ],
   "source": [
    "%%time\n",
    "crispr_genes = set(['cas3', 'cse1', 'cse2', 'cas7', 'cas5', 'cas6', 'cas4', 'cas1', 'cas2', 'cas5', 'cas8', 'cas9', 'csn2'])\n",
    "\n",
    "\n",
    "## create empty files to add data to\n",
    "open(genes_fn, 'w').close()\n",
    "open(prots_fn, 'w').close()\n",
    "\n",
    "with zipfile.ZipFile(zipfn, 'r') as zfh:\n",
    "\n",
    "    print('Create GFF3 Database')\n",
    "    gff3_db = create_gff3_db(get_file_list(data_catalog, 'GFF3'), temp_gff, zfh)\n",
    "    \n",
    "    print(f'Extract crispr genes ({len(crispr_genes)} genes)')\n",
    "    crispr_genes, crispr_order = extract_genes(gff3_db, get_assemblies(data_catalog), crispr_genes)\n",
    "    print(f'Write genes to {genes_fn}')\n",
    "\n",
    "    print('Create genomes object')\n",
    "    genomes = combine_fasta(get_file_list(data_catalog, 'GENOMIC_NUCLEOTIDE_FASTA'), temp_fa, zfh)\n",
    "    \n",
    "    # Write all genes to genes_fn\n",
    "    with open(genes_fn, 'w') as fh:\n",
    "        for gene_name, gene_info in crispr_genes.items():\n",
    "            chrom, strand, gene_range, prot_acc = gene_info\n",
    "            reverse_complement = True if strand == '-' else False\n",
    "            gene_fasta = genomes.get_seq(chrom, gene_range[0], gene_range[1], rc=reverse_complement)\n",
    "            write_fasta(fh, f'{gene_fasta.fancy_name}|{gene_name}', gene_fasta.seq)\n",
    "\n",
    "    print('Create proteome object')\n",
    "    proteome = combine_fasta(get_file_list(data_catalog, 'PROTEIN_FASTA'), temp_fa, zfh)\n",
    "    \n",
    "    # Write protein FASTA for each CRISPR gene\n",
    "    with open(prots_fn, 'w') as fh:\n",
    "        for gene_name, gene_info in crispr_genes.items():\n",
    "            chrom, strand, gene_range, prot_acc = gene_info\n",
    "            if prot_acc is not None:\n",
    "                prot_fasta = proteome[prot_acc][:]\n",
    "                write_fasta(fh, f'{prot_fasta.name}|{gene_name}', prot_fasta.seq)\n"
   ]
  },
  {
   "cell_type": "code",
   "execution_count": 1,
   "metadata": {
    "scrolled": true
   },
   "outputs": [
    {
     "name": "stdout",
     "output_type": "stream",
     "text": [
      "GCF_012490125.1 ['cas7e', 'cas5e', 'cas6e', 'cas2', 'cas3', 'cas5', 'cas7i', 'cas8a1', 'cas6', 'cas3', 'cas1e', 'cas2e', 'csn2', 'cas2', 'cas1', 'cas9']\n",
      "GCF_012490225.1 ['cas6', 'cas8a1', 'cas7i', 'cas5', 'cas3', 'cas10', 'cas6']\n",
      "GCF_012843665.1 ['cas2', 'cas3', 'cas5', 'cas7i', 'cas8a1', 'cas6', 'cas3', 'cas7e', 'cas5e', 'cas6e', 'cas1e', 'cas2e', 'cas6', 'cas10']\n",
      "GCF_012848655.1 ['cas3', 'cas7e', 'cas5e', 'cas6e', 'cas1e', 'cas2e']\n"
     ]
    }
   ],
   "source": [
    "## order of crispr genes in various assemblies\n",
    "for k,v in crispr_order.items():\n",
    "    print(k, v)"
   ]
  }
 ],
 "metadata": {
  "kernelspec": {
   "display_name": "Python 3",
   "language": "python",
   "name": "python3"
  },
  "language_info": {
   "codemirror_mode": {
    "name": "ipython",
    "version": 3
   },
   "file_extension": ".py",
   "mimetype": "text/x-python",
   "name": "python",
   "nbconvert_exporter": "python",
   "pygments_lexer": "ipython3",
   "version": "3.7.3"
  }
 },
 "nbformat": 4,
 "nbformat_minor": 4
}
